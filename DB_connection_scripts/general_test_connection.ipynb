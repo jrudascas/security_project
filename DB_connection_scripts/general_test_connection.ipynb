{
 "cells": [
  {
   "cell_type": "code",
   "execution_count": null,
   "metadata": {},
   "outputs": [],
   "source": [
    "import pandas as pd\n",
    "import cx_Oracle"
   ]
  },
  {
   "cell_type": "code",
   "execution_count": null,
   "metadata": {},
   "outputs": [],
   "source": [
    "db = {\n",
    "    'user':'',\n",
    "    'pass':'',\n",
    "    'host':'172.21.17.20:1521/pdb00001.lanbdproduccion.vcnlanglobalscj.oraclevcn.com',\n",
    "}"
   ]
  },
  {
   "cell_type": "code",
   "execution_count": null,
   "metadata": {},
   "outputs": [],
   "source": [
    "def connect_db():\n",
    "    try:\n",
    "        connection = cx_Oracle.connect(db['user'],db['pass'],db['host'])\n",
    "    except cx_Oracle.DatabaseError:\n",
    "        print('El cliente no es capaz de conectarse a la base de datos, revise las credenciales en el modulo de configuracion y la disponibilidad de la db.')\n",
    "        raise\n",
    "    return connection"
   ]
  },
  {
   "cell_type": "code",
   "execution_count": null,
   "metadata": {},
   "outputs": [],
   "source": [
    "def fetch_all_table(table):   \n",
    "    connection = connect_db()\n",
    "    cur = connection.cursor()\n",
    "    query = \"SELECT * FROM \"+ table\n",
    "    cur.execute(query)\n",
    "    df_fetched = pd.DataFrame(cur.fetchall())\n",
    "    df_fetched.columns = [row[0] for row in cur.description]\n",
    "    return df_fetched"
   ]
  },
  {
   "cell_type": "markdown",
   "metadata": {},
   "source": [
    "### NUSE"
   ]
  },
  {
   "cell_type": "code",
   "execution_count": null,
   "metadata": {},
   "outputs": [],
   "source": [
    "table = 'ADMDWH.VW_NUSE_QUANTIL'\n",
    "df_nuse = fetch_all_table(table)"
   ]
  },
  {
   "cell_type": "code",
   "execution_count": null,
   "metadata": {},
   "outputs": [],
   "source": [
    "## NUSE COLUMNS match with dict\n",
    "['STR_NUMERO_INTERNO', 'FECHA', 'HORA', 'ANIO', 'MES', 'COD_LOCALIDAD', 'LOCALIDAD', 'COD_UPZ', 'UPZ', \n",
    " 'COD_SEC_CATAST', 'SEC_CATASTRAL', 'COD_BARRIO', 'BARRIO', 'TIPO_UNICO', 'TIPO_DETALLE', 'LATITUD', 'LONGITUD', \n",
    " 'STR_DIRECCION_INCIDENTE', 'ESTADO_INCIDENTE', 'PERIODO_TS', 'LOG_TEXT']"
   ]
  },
  {
   "cell_type": "markdown",
   "metadata": {},
   "source": [
    "### SIEDCO"
   ]
  },
  {
   "cell_type": "code",
   "execution_count": null,
   "metadata": {},
   "outputs": [],
   "source": [
    "table = 'ADMDWH.TVW_SIEDCO_BOLETIN'\n",
    "df_siedco = fetch_all_table(table)"
   ]
  },
  {
   "cell_type": "code",
   "execution_count": null,
   "metadata": {},
   "outputs": [],
   "source": [
    "## SIEDCO COLUMNS match with provided dict\n",
    "['ID_ORIGINAL', 'TIPO_HECHO', 'TITULO_HECHO', 'HECHO', 'CUENTA_HECHOS', 'CARACTERISTICA', 'ARMA_EMPLEADA', \n",
    " 'MOVIL_AGRESOR', 'MOVIL_VICTIMA', 'CLASE_BIEN', 'CIRCUNSTANCIAS_PERSONA', 'PAIS_PERSONA', 'MUNICIPIO_PERSONA', \n",
    " 'ESTADO_CIVIL_PERSONA', 'PROFESIONES', 'GRADO_INSTRUCCION_PERSONA', 'CLASE_EMPLEADO_DESCRIPCION', \n",
    " 'GENERO_PERSONA', 'EDAD_PERSONA', 'RANGO_VITAL', 'RANGO_EDAD', 'FECHA_HECHO', 'ANIO', 'SEMESTRE', \n",
    " 'CUATRIMESTRE', 'TRIMESTRE', 'MES', 'MES_ACUMULADO', 'SEMANA_ANIO', 'DIA', 'DIA_SEMANA', 'FESTIVO', \n",
    " 'FIN_DE_SEMANA', 'HORA_HECHO', 'HORA', 'RANGO_HORA', 'RANGO_DEL_DIA', 'LOC_ORIGINAL', 'COD_LOCALIDAD', \n",
    " 'LOCALIDAD', 'COD_UPZ', 'UPZ', 'COD_SEC_CATAST', 'SEC_CATASTRAL', 'JURIS_ESTACION_AREA', 'ZONA', 'CLASE_SITIO', \n",
    " 'DIRECCION', 'TIPO_COORDENADAS', 'LONGITUD_X', 'LATITUD_Y', 'CLAVE_ZONA', 'HABITANTES_LOCALIDAD', \n",
    " 'HAB_LOCALIDAD_HOMBRES', 'HAB_LOCALIDAD_MUJER', 'HABITANTES_CIUDAD', 'HAB_CIUDAD_HOMBRES', 'HAB_CIUDAD_MUJERES', \n",
    " 'INDICE_LOCALIDAD', 'INDICE_CIUDAD', 'FUENTE', 'FECHA_CORTE', 'MAPA_CALOR', 'COD_BARRIO', 'BARRIO', 'MARCA', \n",
    " 'ID_GR', 'INCONSISTENTE', 'STR_ESTADO_REG', 'CATEGORIA_HECHO', 'DELITO_CARGO_PERSONA', 'DELITO_TIPO_BIEN', \n",
    " 'DELITO_CLASE_BIEN', 'MEDIO_CONOCIMIENTO']"
   ]
  },
  {
   "cell_type": "markdown",
   "metadata": {},
   "source": [
    "### RNMC"
   ]
  },
  {
   "cell_type": "code",
   "execution_count": null,
   "metadata": {},
   "outputs": [],
   "source": [
    "table = 'ADMDWH.TVW_RNMC_QUANTIL'\n",
    "df_rnmc = fetch_all_table(table)"
   ]
  },
  {
   "cell_type": "code",
   "execution_count": null,
   "metadata": {},
   "outputs": [],
   "source": [
    "## RNMC COLUMNS match with provided dict\n",
    "['EXPEDIENTE', 'COMPARENDO', 'FECHA', 'HORA', 'ANIO', 'MES', 'LATITUD', 'LONGITUD', 'COD_LOCALIDAD', \n",
    " 'NOMBRE_LOCALIDAD', 'COD_UPZ', 'NOMBRE_UPZ', 'COD_SCAT', 'NOMBRE_SECTOR_CAT', 'COD_BARRIO', 'NOMBRE_BARRIO', \n",
    " 'TIPO_SITIO', 'RANGO_EDAD_1', 'TITULO', 'CAPITULO', 'ARTICULO', 'DESCRIPCION_ARTICULO', 'COD_COMPORTAMIENTO', \n",
    " 'DESCRIPCION_COMPORTAMIENTO', 'TIPO_PRIORIZACION', 'MEDIDA_CORRECTIVA_CODIGO', 'ES_PEDAGOGICO', 'STR_RELATO_HECHOS', \n",
    " 'ACTIVIDAD_COMERCIAL', 'RAZON_SOCIAL', 'NUM_ID_HECHOS']"
   ]
  },
  {
   "cell_type": "markdown",
   "metadata": {},
   "source": [
    "### Medicina legal"
   ]
  },
  {
   "cell_type": "code",
   "execution_count": null,
   "metadata": {},
   "outputs": [],
   "source": [
    "table = 'ADMDWH.VW_MLCF_AV_BOLETIN'\n",
    "df_ml = fetch_all_table(table)"
   ]
  },
  {
   "cell_type": "code",
   "execution_count": null,
   "metadata": {},
   "outputs": [],
   "source": [
    "# Medicina legal columns match with provided dict\n",
    "['TIPO_CASO', 'TIPO_LESION', 'FECHA_HECHO', 'ANIO_HECHO', 'HORA_HECHO', 'COD_LOCALIDAD_ORIGINAL', 'LOCALIDAD_ORIGINAL', \n",
    " 'COD_LOCALIDAD', 'LOCALIDAD', 'COD_UPZ', 'UPZ', 'COD_SEC_CATAST', 'SEC_CATASTRAL', 'COD_BARRIO_COMUN', 'BARRIO_COMUN', \n",
    " 'TIPO_VIOLENCIA', 'CONTEXTOHECHO', 'EDAD', 'RANGO_VITAL', 'RANGO_EDAD', 'SEXO', 'STR_NACIONALIDAD', \n",
    " 'STR_NIVEL_EDUCATIVO', 'STR_GRUPO_NIVEL_EDUCATIVO', 'STR_VULNERABILIDAD', 'STR_NOMBRE_ETNIA', \n",
    " 'STR_NOMBRE_DISCAPACIDAD', 'STR_NOMBRE_IDENTIDAD_SEXUAL', 'STR_REGIMEN_SALUD', 'STR_IDENTIDAD_GENERO', \n",
    " 'ESTADOCIVILRECODIFICADO', 'ESCENARIOHECHO', 'ACTIVIDAD_RECODIFICADA', 'CIRCUNSTANCIA', 'FECHA_MUERTE', \n",
    " 'MANERA_MUERTE', 'CAUSAMUERTE_RECODIFICADO', 'PRESUNTO_AGRESOR', 'PRESUNTO_AGRESOR_AGRUPADO', 'RAZON_SUICIDIO', \n",
    " 'TIPOINCAPACIDAD', 'ESCENA', 'ZONADELHECHO_RECODIFICADA', 'MECANISMO_RECATEGORIZADO', 'OBJETO_RECLASIFICADO', \n",
    " 'CONDICION_VICTIMA_AT', 'VEHICULO_RECATEGORIZADO', 'SERVICIO_RECLASIFICADO', 'CLASEACCIDENTE_RECODIFICADA', \n",
    " 'CONDICION_LUGAR', 'ESTADO_VIA', 'MANERA_INGRESO', 'CAUSA_INGRESO', 'FACTOR_CAUSAL_AT', 'DETERMINACION_DE_SECUELAS', \n",
    " 'RELACION_TRABAJO', 'SISTEMA_AFECTADO', 'SENIALES_SUFRIMIENTO', 'MECANISMO_FISIOPATOLOGICO_MUERTE', \n",
    " 'DIAGNOSTICO_TOPOGRAFICO', 'SIGNOS_MALTRATO', 'NUM_NUMERO_RADICADO', 'NUM_NUMERO_HECHOS', 'STR_DIRECCION_HECHO', \n",
    " 'STR_ANIO_EXAMEN', 'DTM_FECHA_INFORME', 'STR_NOMBRE_BARRIO', 'NUM_DIAS_INCAPACIDAD', 'STR_LISTA_SECUELAS', \n",
    " 'NUM_LATITUD', 'NUM_LONGITUD', 'STR_ESTADO_REG', 'ESTADO_DESAPARICION', 'CLASIFICACION_DESAPARICION', \n",
    " 'ENTIDAD_RADICA', 'TIPO_APARCION']\n"
   ]
  },
  {
   "cell_type": "markdown",
   "metadata": {},
   "source": [
    "### CCB"
   ]
  },
  {
   "cell_type": "code",
   "execution_count": null,
   "metadata": {},
   "outputs": [],
   "source": [
    "table = 'ADMDWH. vw_ccb_boletin'\n",
    "df_ccb = fetch_all_table(table)"
   ]
  },
  {
   "cell_type": "code",
   "execution_count": null,
   "metadata": {},
   "outputs": [],
   "source": [
    "## CCB COLUMNS match with provided dict\n",
    "['FECHA', 'ANIO', 'NUM_SEMESTRE', 'COD_LOCALIDAD', 'NOMBRE_LOCALIDAD', 'COD_UPZ', 'NOMBRE_UPZ', 'COD_SCAT', \n",
    " 'NOMBRE_SECTOR_CAT', 'COD_BARRIO', 'NOMBRE_BARRIO', 'ESTRATO', 'GENERO', 'ENCUESTA', 'ID_ENCUESTADO', 'PREGUNTA_N1', \n",
    " 'NOMBRE_PREGUNTA_N1', 'PREGUNTA_N2', 'PREGUNTA_N3', 'NOMBRE_PREGUNTA', 'COD_RESPUESTA', 'DESC_RESPUESTA', \n",
    " 'FACTOR_EXPANSION', 'NUM_LATITUD', 'NUM_LONGITUD', 'NUM_NUMERO_REGITROS']"
   ]
  }
 ],
 "metadata": {
  "kernelspec": {
   "display_name": "Python 3",
   "language": "python",
   "name": "python3"
  },
  "language_info": {
   "codemirror_mode": {
    "name": "ipython",
    "version": 3
   },
   "file_extension": ".py",
   "mimetype": "text/x-python",
   "name": "python",
   "nbconvert_exporter": "python",
   "pygments_lexer": "ipython3",
   "version": "3.7.2"
  }
 },
 "nbformat": 4,
 "nbformat_minor": 2
}
