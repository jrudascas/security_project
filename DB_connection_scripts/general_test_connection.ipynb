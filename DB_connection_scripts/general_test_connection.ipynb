{
 "cells": [
  {
   "cell_type": "code",
   "execution_count": null,
   "metadata": {},
   "outputs": [],
   "source": [
    "import pandas as pd\n",
    "import cx_Oracle"
   ]
  },
  {
   "cell_type": "code",
   "execution_count": null,
   "metadata": {},
   "outputs": [],
   "source": [
    "db = {\n",
    "    'user':'ADMCON',\n",
    "    'pass':'AdmConDWH17.',\n",
    "    'host':'172.21.17.20:1521/pdb00001.lanbdproduccion.vcnlanglobalscj.oraclevcn.com',\n",
    "}"
   ]
  },
  {
   "cell_type": "code",
   "execution_count": null,
   "metadata": {},
   "outputs": [],
   "source": [
    "def connect_db():\n",
    "    try:\n",
    "        connection = cx_Oracle.connect(db['user'],db['pass'],db['host'])\n",
    "    except cx_Oracle.DatabaseError:\n",
    "        print('El cliente no es capaz de conectarse a la base de datos, revise las credenciales en el modulo de configuracion y la disponibilidad de la db.')\n",
    "        raise\n",
    "    return connection"
   ]
  },
  {
   "cell_type": "code",
   "execution_count": null,
   "metadata": {},
   "outputs": [],
   "source": [
    "def fetch_all_table(table):   \n",
    "    connection = connect_db()\n",
    "    cur = connection.cursor()\n",
    "    query = \"SELECT * FROM \"+ table\n",
    "    cur.execute(query)\n",
    "    df_fetched = pd.DataFrame(cur.fetchall())\n",
    "    df_fetched.columns = [row[0] for row in cur.description]\n",
    "    return df_fetched"
   ]
  },
  {
   "cell_type": "markdown",
   "metadata": {},
   "source": [
    "### NUSE"
   ]
  },
  {
   "cell_type": "code",
   "execution_count": null,
   "metadata": {},
   "outputs": [],
   "source": [
    "table = 'ADMDWH.VW_NUSE_QUANTIL'\n",
    "df_nuse = fetch_all_table(table)"
   ]
  },
  {
   "cell_type": "code",
   "execution_count": null,
   "metadata": {},
   "outputs": [],
   "source": [
    "## NUSE COLUMNS dont match with dict\n",
    "['TIPO_UNICO', 'TIPO_DETALLE', 'FECHA_ORIG', 'FECHA', 'SEMESTRE', 'TRIMESTRE', 'SEMANA_ISO', \n",
    " 'DIA_SEMANA', 'RANGO_HORA', 'RANGO_DEL_DIA', 'ANIO', 'MES', 'DIA', 'HORA', 'COD_LOCALIDAD', \n",
    " 'LOCALIDAD', 'COD_UPZ', 'UPZ', 'COD_SEC_CATAST', 'SEC_CATASTRAL', 'COD_BARRIO', 'BARRIO', \n",
    " 'LATITUD', 'LONGITUD', 'DIRECCION', 'STATUS', 'INCIDENTE_COMP']"
   ]
  },
  {
   "cell_type": "markdown",
   "metadata": {},
   "source": [
    "### SIEDCO"
   ]
  },
  {
   "cell_type": "code",
   "execution_count": null,
   "metadata": {},
   "outputs": [],
   "source": [
    "table = 'ADMDWH.TVW_SIEDCO_BOLETIN'\n",
    "df_siedco = fetch_all_table(table)"
   ]
  },
  {
   "cell_type": "code",
   "execution_count": null,
   "metadata": {},
   "outputs": [],
   "source": [
    "## SIEDCO COLUMNS match with provided dict\n",
    "['ID_ORIGINAL', 'TIPO_HECHO', 'TITULO_HECHO', 'HECHO', 'CUENTA_HECHOS', 'CARACTERISTICA', 'ARMA_EMPLEADA', \n",
    " 'MOVIL_AGRESOR', 'MOVIL_VICTIMA', 'CLASE_BIEN', 'CIRCUNSTANCIAS_PERSONA', 'PAIS_PERSONA', 'MUNICIPIO_PERSONA', \n",
    " 'ESTADO_CIVIL_PERSONA', 'PROFESIONES', 'GRADO_INSTRUCCION_PERSONA', 'CLASE_EMPLEADO_DESCRIPCION', \n",
    " 'GENERO_PERSONA', 'EDAD_PERSONA', 'RANGO_VITAL', 'RANGO_EDAD', 'FECHA_HECHO', 'ANIO', 'SEMESTRE', \n",
    " 'CUATRIMESTRE', 'TRIMESTRE', 'MES', 'MES_ACUMULADO', 'SEMANA_ANIO', 'DIA', 'DIA_SEMANA', 'FESTIVO', \n",
    " 'FIN_DE_SEMANA', 'HORA_HECHO', 'HORA', 'RANGO_HORA', 'RANGO_DEL_DIA', 'LOC_ORIGINAL', 'COD_LOCALIDAD', \n",
    " 'LOCALIDAD', 'COD_UPZ', 'UPZ', 'COD_SEC_CATAST', 'SEC_CATASTRAL', 'JURIS_ESTACION_AREA', 'ZONA', 'CLASE_SITIO', \n",
    " 'DIRECCION', 'TIPO_COORDENADAS', 'LONGITUD_X', 'LATITUD_Y', 'CLAVE_ZONA', 'HABITANTES_LOCALIDAD', \n",
    " 'HAB_LOCALIDAD_HOMBRES', 'HAB_LOCALIDAD_MUJER', 'HABITANTES_CIUDAD', 'HAB_CIUDAD_HOMBRES', 'HAB_CIUDAD_MUJERES', \n",
    " 'INDICE_LOCALIDAD', 'INDICE_CIUDAD', 'FUENTE', 'FECHA_CORTE', 'MAPA_CALOR', 'COD_BARRIO', 'BARRIO', 'MARCA', \n",
    " 'ID_GR', 'INCONSISTENTE', 'STR_ESTADO_REG', 'CATEGORIA_HECHO', 'DELITO_CARGO_PERSONA', 'DELITO_TIPO_BIEN', \n",
    " 'DELITO_CLASE_BIEN', 'MEDIO_CONOCIMIENTO']"
   ]
  },
  {
   "cell_type": "markdown",
   "metadata": {},
   "source": [
    "### RNMC"
   ]
  },
  {
   "cell_type": "code",
   "execution_count": null,
   "metadata": {},
   "outputs": [],
   "source": [
    "table = 'ADMDWH.TVW_RNMC_QUANTIL'\n",
    "df_rnmc = fetch_all_table(table)"
   ]
  },
  {
   "cell_type": "code",
   "execution_count": null,
   "metadata": {},
   "outputs": [],
   "source": [
    "## cx_Oracle.DatabaseError: ORA-00942: table or view does not exist"
   ]
  },
  {
   "cell_type": "markdown",
   "metadata": {},
   "source": [
    "### Medicina legal"
   ]
  },
  {
   "cell_type": "code",
   "execution_count": null,
   "metadata": {},
   "outputs": [],
   "source": [
    "table = 'ADMDWH.VW_MLCF_AV_BOLETIN'\n",
    "df_ml = fetch_all_table(table)"
   ]
  },
  {
   "cell_type": "code",
   "execution_count": null,
   "metadata": {},
   "outputs": [],
   "source": [
    "# Medicina legal columns match with provided dict\n",
    "['TIPO_CASO', 'TIPO_LESION', 'FECHA_HECHO', 'ANIO_HECHO', 'HORA_HECHO', 'COD_LOCALIDAD_ORIGINAL', 'LOCALIDAD_ORIGINAL', \n",
    " 'COD_LOCALIDAD', 'LOCALIDAD', 'COD_UPZ', 'UPZ', 'COD_SEC_CATAST', 'SEC_CATASTRAL', 'COD_BARRIO_COMUN', 'BARRIO_COMUN', \n",
    " 'TIPO_VIOLENCIA', 'CONTEXTOHECHO', 'EDAD', 'RANGO_VITAL', 'RANGO_EDAD', 'SEXO', 'STR_NACIONALIDAD', \n",
    " 'STR_NIVEL_EDUCATIVO', 'STR_GRUPO_NIVEL_EDUCATIVO', 'STR_VULNERABILIDAD', 'STR_NOMBRE_ETNIA', \n",
    " 'STR_NOMBRE_DISCAPACIDAD', 'STR_NOMBRE_IDENTIDAD_SEXUAL', 'STR_REGIMEN_SALUD', 'STR_IDENTIDAD_GENERO', \n",
    " 'ESTADOCIVILRECODIFICADO', 'ESCENARIOHECHO', 'ACTIVIDAD_RECODIFICADA', 'CIRCUNSTANCIA', 'FECHA_MUERTE', \n",
    " 'MANERA_MUERTE', 'CAUSAMUERTE_RECODIFICADO', 'PRESUNTO_AGRESOR', 'PRESUNTO_AGRESOR_AGRUPADO', 'RAZON_SUICIDIO', \n",
    " 'TIPOINCAPACIDAD', 'ESCENA', 'ZONADELHECHO_RECODIFICADA', 'MECANISMO_RECATEGORIZADO', 'OBJETO_RECLASIFICADO', \n",
    " 'CONDICION_VICTIMA_AT', 'VEHICULO_RECATEGORIZADO', 'SERVICIO_RECLASIFICADO', 'CLASEACCIDENTE_RECODIFICADA', \n",
    " 'CONDICION_LUGAR', 'ESTADO_VIA', 'MANERA_INGRESO', 'CAUSA_INGRESO', 'FACTOR_CAUSAL_AT', 'DETERMINACION_DE_SECUELAS', \n",
    " 'RELACION_TRABAJO', 'SISTEMA_AFECTADO', 'SENIALES_SUFRIMIENTO', 'MECANISMO_FISIOPATOLOGICO_MUERTE', \n",
    " 'DIAGNOSTICO_TOPOGRAFICO', 'SIGNOS_MALTRATO', 'NUM_NUMERO_RADICADO', 'NUM_NUMERO_HECHOS', 'STR_DIRECCION_HECHO', \n",
    " 'STR_ANIO_EXAMEN', 'DTM_FECHA_INFORME', 'STR_NOMBRE_BARRIO', 'NUM_DIAS_INCAPACIDAD', 'STR_LISTA_SECUELAS', \n",
    " 'NUM_LATITUD', 'NUM_LONGITUD', 'STR_ESTADO_REG', 'ESTADO_DESAPARICION', 'CLASIFICACION_DESAPARICION', \n",
    " 'ENTIDAD_RADICA', 'TIPO_APARCION']\n"
   ]
  },
  {
   "cell_type": "markdown",
   "metadata": {},
   "source": [
    "### CCB"
   ]
  },
  {
   "cell_type": "code",
   "execution_count": null,
   "metadata": {},
   "outputs": [],
   "source": [
    "table = 'ADMDWH. vw_ccb_boletin'\n",
    "df_ccb = fetch_all_table(table)"
   ]
  },
  {
   "cell_type": "code",
   "execution_count": null,
   "metadata": {},
   "outputs": [],
   "source": [
    "## CCB COLUMNS match with provided dict\n",
    "['FECHA', 'ANIO', 'NUM_SEMESTRE', 'COD_LOCALIDAD', 'NOMBRE_LOCALIDAD', 'COD_UPZ', 'NOMBRE_UPZ', 'COD_SCAT', \n",
    " 'NOMBRE_SECTOR_CAT', 'COD_BARRIO', 'NOMBRE_BARRIO', 'ESTRATO', 'GENERO', 'ENCUESTA', 'ID_ENCUESTADO', 'PREGUNTA_N1', \n",
    " 'NOMBRE_PREGUNTA_N1', 'PREGUNTA_N2', 'PREGUNTA_N3', 'NOMBRE_PREGUNTA', 'COD_RESPUESTA', 'DESC_RESPUESTA', \n",
    " 'FACTOR_EXPANSION', 'NUM_LATITUD', 'NUM_LONGITUD', 'NUM_NUMERO_REGITROS']"
   ]
  },
  {
   "cell_type": "code",
   "execution_count": null,
   "metadata": {},
   "outputs": [],
   "source": []
  },
  {
   "cell_type": "code",
   "execution_count": null,
   "metadata": {},
   "outputs": [],
   "source": [
    "## current tables on db"
   ]
  },
  {
   "cell_type": "code",
   "execution_count": null,
   "metadata": {},
   "outputs": [],
   "source": [
    "[('SYS', 'DUAL'), ('SYS', 'SYSTEM_PRIVILEGE_MAP'), ('SYS', 'TABLE_PRIVILEGE_MAP'), ('SYS', 'USER_PRIVILEGE_MAP'), ('SYS', 'STMT_AUDIT_OPTION_MAP'), ('SYS', 'AUDIT_ACTIONS'), ('SYS', 'WRR$_REPLAY_CALL_FILTER'), ('SYS', 'KU$_PLSQL_SRC_TBL'), ('SYS', 'HS_BULKLOAD_VIEW_OBJ'), ('SYS', 'HS$_PARALLEL_METADATA'), ('SYS', 'HS_PARTITION_COL_NAME'), ('SYS', 'HS_PARTITION_COL_TYPE'), ('XDB', 'XDB$IMPORT_TT_INFO'), ('XDB', 'XDB$IMPORT_QN_INFO'), ('XDB', 'XDB$IMPORT_NM_INFO'), ('XDB', 'XDB$IMPORT_PT_INFO'), ('XDB', 'XDB_INDEX_DDL_CACHE'), ('SYSTEM', 'HELP'), ('CTXSYS', 'DR$OBJECT_ATTRIBUTE'), ('CTXSYS', 'DR$POLICY_TAB'), ('CTXSYS', 'DR$THS'), ('CTXSYS', 'DR$THS_PHRASE'), ('CTXSYS', 'DR$NUMBER_SEQUENCE'), ('MDSYS', 'SRSNAMESPACE_TABLE'), ('MDSYS', 'SDO_UNITS_OF_MEASURE'), ('MDSYS', 'SDO_PRIME_MERIDIANS'), ('MDSYS', 'SDO_ELLIPSOIDS'), ('MDSYS', 'SDO_DATUMS'), ('MDSYS', 'SDO_COORD_SYS'), ('MDSYS', 'SDO_COORD_AXIS_NAMES'), ('MDSYS', 'SDO_COORD_AXES'), ('MDSYS', 'SDO_COORD_REF_SYS'), ('MDSYS', 'SDO_COORD_OP_METHODS'), ('MDSYS', 'SDO_COORD_OPS'), ('MDSYS', 'SDO_PREFERRED_OPS_SYSTEM'), ('MDSYS', 'SDO_PREFERRED_OPS_USER'), ('MDSYS', 'SDO_COORD_OP_PATHS'), ('MDSYS', 'SDO_COORD_OP_PARAMS'), ('MDSYS', 'SDO_COORD_OP_PARAM_USE'), ('MDSYS', 'SDO_COORD_OP_PARAM_VALS'), ('MDSYS', 'SDO_SRIDS_BY_URN'), ('MDSYS', 'SDO_SRIDS_BY_URN_PATTERN'), ('MDSYS', 'SDO_CRS_GEOGRAPHIC_PLUS_HEIGHT'), ('MDSYS', 'SDO_INDEX_HISTOGRAM_TABLE'), ('MDSYS', 'OGIS_SPATIAL_REFERENCE_SYSTEMS'), ('MDSYS', 'OGIS_GEOMETRY_COLUMNS'), ('MDSYS', 'SDO_XML_SCHEMAS'), ('SYS', 'AW$EXPRESS'), ('SYS', 'AW$AWMD'), ('SYS', 'AW$AWCREATE'), ('SYS', 'AW$AWCREATE10G'), ('SYS', 'AW$AWXML'), ('SYS', 'AW$AWREPORT'), ('MDSYS', 'SDO_CS_SRS'), ('MDSYS', 'NTV2_XML_DATA'), ('MDSYS', 'SDO_PROJECTIONS_OLD_SNAPSHOT'), ('MDSYS', 'SDO_ELLIPSOIDS_OLD_SNAPSHOT'), ('MDSYS', 'SDO_DATUMS_OLD_SNAPSHOT'), ('MDSYS', 'SDO_FEATURE_USAGE'), ('MDSYS', 'SDO_WS_CONFERENCE'), ('MDSYS', 'SDO_WS_CONFERENCE_RESULTS'), ('MDSYS', 'SDO_WS_CONFERENCE_PARTICIPANTS'), ('MDSYS', 'SDO_GEOR_XMLSCHEMA_TABLE'), ('MDSYS', 'SDO_GEOR_PLUGIN_REGISTRY'), ('MDSYS', 'SDO_TIN_PC_SEQ'), ('MDSYS', 'SDO_TIN_PC_SYSDATA_TABLE'), ('SYSTEM', 'MVIEW$_ADV_INDEX'), ('SYSTEM', 'MVIEW$_ADV_PARTITION'), ('ADMDWH', 'SNP_CHECK_TAB'), ('ADMDWH', 'E$_DIM_MEDIO'), ('ADMDWH', 'E$_DIM_HORA'), ('ADMDWH', 'E$_DIM_TIPO'), ('ADMDWH', 'E$_DIM_ZONA'), ('ADMDWH', 'E$_DIM_ARMA'), ('ADMSTAGE', 'STG_NUSE_INC_HISTORY_BK_2016'), ('ADMDWH', 'E$_DIM_CLASIFICACION'), ('ADMDWH', 'FCT_SC_MLCF_ACTOS_VIOLENTOS'), ('ADMDWH', 'DIM_ESTABLECIMIENTO'), ('ADMDWH', 'DIM_CNPC'), ('ADMDWH', 'NMC'), ('ADMDWH', 'E$_DIM_ESTADO'), ('ADMDWH', 'E$_DIM_ENTIDAD'), ('ADMDWH', 'VW_DIM_TIEMPO_SC_PNL_SCO'), ('ADMDWH', 'VW_DIM_TIEMPO_MLCF_AV'), ('ADMDWH', 'VW_DIM_TIEMPO_NUSE'), ('ADMDWH', 'DIM_TNG_ACTIVIDAD'), ('ADMDWH', 'DIM_TING_ACTIVIDAD'), ('ADMDWH', 'FCT_SC_TING_ACTIVIDADES'), ('ADMDWH', 'E$_DIM_TING_ACTIVIDAD'), ('ADMDWH', 'E$_FCT_SC_TING_ACTIVIDADES'), ('ADMDWH', 'VW_DIM_TIEMPO_TING'), ('ADMDWH', 'E$_DIM_TIEMPO'), ('ADMDWH', 'SNP_PLAN_TABLE'), ('ADMDWH', 'TVW_NUSE_BOLETIN'), ('ADMDWH', 'VW_DIM_GEOGRAFIA_NUSE'), ('ADMDWH', 'VW_DIM_GEOGRAFIA_MLCF_AV'), ('ADMDWH', 'VW_DIM_GEOGRAFIA_SC_PNL_SCO'), ('ADMDWH', 'VW_DIM_GEOGRAFIA_TING'), ('ADMDWH', 'DIM_GEOGRAFIA'), ('ADMDWH', 'FCT_NUSE_ANT'), ('ADMDWH', 'VW_NULIDAD'), ('ADMDWH', 'I_FCT_NUSE'), ('ADMSTAGE', 'STG_ARGS_GDWH_LG'), ('ADMDWH', 'FCT_SES_VESPA'), ('ADMDWH', 'FCT_SES_VESPA_DETALLE'), ('ADMDWH', 'FCT_TING_MITIGA'), ('ADMDWH', 'FCT_POBLACION'), ('ADMDWH', 'I_FCT_NUSE_DUPLICADOS'), ('ADMDWH', 'I_FCT_NUSE_DUPLICADOS_DEJA'), ('ADMDWH', 'DIM_LINEA'), ('ADMDWH', 'DIM_ARMA'), ('ADMDWH', 'DIM_CLASIFICACION'), ('ADMDWH', 'DIM_EDAD'), ('ADMDWH', 'DIM_ENTIDAD'), ('ADMDWH', 'DIM_ESTADO'), ('ADMDWH', 'DIM_HORA'), ('ADMDWH', 'DIM_MEDIO'), ('ADMDWH', 'DIM_OPERACION'), ('ADMDWH', 'DIM_TIPO'), ('ADMDWH', 'DIM_TIEMPO_ANT'), ('ADMDWH', 'DIM_ZONA'), ('ADMDWH', 'DIM_SEXO'), ('ADMDWH', 'DIM_RANGO'), ('ADMDWH', 'DIM_ESTRATO'), ('ADMDWH', 'DIM_PERSONA'), ('ADMSTAGE', 'STG_NUSE_FIM_DB_LOG_BK_2016'), ('ADMDWH', 'TVW_MLCF_AV_BOLETIN'), ('ADMDWH', 'TVW_SCJ_SICAS_BOLETIN'), ('ADMSTAGE', 'TMP_XXX_MATRICULAS'), ('ADMSTAGE', 'TMP_XXX_MATRICULAS_Y2016_1'), ('ADMSTAGE', 'TMP_XXX_MATRICULAS_Y2016_2'), ('ADMSTAGE', 'TMP_XXX_MATRICULAS_Y2016_3'), ('ADMSTAGE', 'TMP_XXX_MATRICULAS_Y2017_1'), ('ADMSTAGE', 'TMP_XXX_MATRICULAS_Y2017_2'), ('ADMSTAGE', 'TMP_XXX_MATRICULAS_Y2018_1'), ('ADMSTAGE', 'TMP_XXX_MATRICULAS_Y2018_2'), ('ADMSTAGE', 'TMP_XXX_MATRICULAS_Y2018_3'), ('ADMSTAGE', 'TMP_XXX_MATRICULAS_Y2019'), ('ADMSTAGE', 'TMP_XXX_MATRICULAS_Y2017_3'), ('ADMDWH', 'FCT_SC_PNL_RNMC'), ('ADMDWH', 'DIM_RESPUESTA'), ('SYS', 'MODELGTTRAW$'), ('SYS', 'PSTUBTBL'), ('SYS', 'WRI$_ADV_ASA_RECO_DATA'), ('SYS', 'WRI$_HEATMAP_TOPN_DEP1'), ('SYS', 'WRI$_HEATMAP_TOPN_DEP2'), ('SYS', 'PLAN_TABLE$'), ('SYSTEM', 'OL$'), ('SYSTEM', 'OL$HINTS'), ('SYSTEM', 'OL$NODES'), ('SYS', 'KU$NOEXP_TAB'), ('SYS', 'KU$_LIST_FILTER_TEMP'), ('SYS', 'KU$_LIST_FILTER_TEMP_2'), ('SYS', 'ODCI_SECOBJ$'), ('SYS', 'ODCI_WARNINGS$'), ('SYS', 'ODCI_PMO_ROWIDS$'), ('SYS', 'XS$VALIDATION_TABLE'), ('SYS', 'KU$XKTFBUE'), ('SYS', 'IMPDP_STATS'), ('SYS', 'DATA_PUMP_XPL_TABLE$'), ('SYS', 'KU$_DATAPUMP_MASTER_12_2'), ('SYS', 'KU$_DATAPUMP_MASTER_12_0'), ('SYS', 'KU$_DATAPUMP_MASTER_11_2'), ('SYS', 'KU$_DATAPUMP_MASTER_11_1_0_7'), ('SYS', 'KU$_DATAPUMP_MASTER_11_1'), ('SYS', 'KU$_DATAPUMP_MASTER_10_1'), ('SYS', 'SPD_SCRATCH_TAB'), ('XDB', 'XDB$XIDX_IMP_T'), ('SYS', 'SAM_SPARSITY_ADVICE'), ('MDSYS', 'SDO_CS_CONTEXT_INFORMATION'), ('MDSYS', 'SDO_ST_TOLERANCE'), ('MDSYS', 'SDO_TXN_JOURNAL'), ('MDSYS', 'SDO_TXN_IDX_EXP_UPD_RGN'), ('MDSYS', 'SDO_TOPO_TRANSACT_DATA'), ('MDSYS', 'SDO_TOPO_RELATION_DATA'), ('MDSYS', 'SDO_TOPO_DATA$'), ('MDSYS', 'SDO_WFS_LOCAL_TXNS'), ('MDSYS', 'SDO_GR_MOSAIC_0'), ('MDSYS', 'SDO_GR_MOSAIC_1'), ('MDSYS', 'SDO_GR_MOSAIC_2'), ('MDSYS', 'SDO_GR_MOSAIC_3'), ('MDSYS', 'SDO_GR_MOSAIC_CB'), ('MDSYS', 'SDO_GR_PARALLEL'), ('MDSYS', 'SDO_GR_RDT_1'), ('MDSYS', 'RDF_PARAMETER'), ('SYSTEM', 'MVIEW$_ADV_OWB'), ('ADMDWH', 'TVW_SIEDCO_BOLETIN'), ('ADMDWH', 'FCT_SC_PNL_SCO_HECHOS'), ('ADMDWH', 'TVW_SIEDCO_QUANTIL'), ('ADMDWH', 'TVW_RNMC_BOLETIN')]\n"
   ]
  }
 ],
 "metadata": {
  "kernelspec": {
   "display_name": "Python 3",
   "language": "python",
   "name": "python3"
  },
  "language_info": {
   "codemirror_mode": {
    "name": "ipython",
    "version": 3
   },
   "file_extension": ".py",
   "mimetype": "text/x-python",
   "name": "python",
   "nbconvert_exporter": "python",
   "pygments_lexer": "ipython3",
   "version": "3.7.2"
  }
 },
 "nbformat": 4,
 "nbformat_minor": 2
}
