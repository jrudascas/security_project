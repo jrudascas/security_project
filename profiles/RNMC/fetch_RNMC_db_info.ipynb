{
 "cells": [
  {
   "cell_type": "code",
   "execution_count": 7,
   "metadata": {},
   "outputs": [],
   "source": [
    "import pandas as pd\n",
    "import cx_Oracle"
   ]
  },
  {
   "cell_type": "code",
   "execution_count": 2,
   "metadata": {},
   "outputs": [],
   "source": [
    "db = {\n",
    "    'user':'',\n",
    "    'pass':'',\n",
    "    'host':'172.21.17.20:1521/pdb00001.lanbdproduccion.vcnlanglobalscj.oraclevcn.com',\n",
    "}"
   ]
  },
  {
   "cell_type": "code",
   "execution_count": 4,
   "metadata": {},
   "outputs": [],
   "source": [
    "def connect_db():\n",
    "    try:\n",
    "        connection = cx_Oracle.connect(db['user'],db['pass'],db['host'])\n",
    "    except cx_Oracle.DatabaseError:\n",
    "        print('El cliente no es capaz de conectarse a la base de datos, revise las credenciales en el modulo de configuracion y la disponibilidad de la db.')\n",
    "        raise\n",
    "    return connection"
   ]
  },
  {
   "cell_type": "code",
   "execution_count": 5,
   "metadata": {},
   "outputs": [],
   "source": [
    "def fetch_all_table(table):   \n",
    "    connection = connect_db()\n",
    "    cur = connection.cursor()\n",
    "    query = \"SELECT * FROM \"+ table\n",
    "    cur.execute(query)\n",
    "    df_fetched = pd.DataFrame(cur.fetchall())\n",
    "    df_fetched.columns = [row[0] for row in cur.description]\n",
    "    return df_fetched"
   ]
  },
  {
   "cell_type": "code",
   "execution_count": 8,
   "metadata": {},
   "outputs": [],
   "source": [
    "table = 'ADMDWH.TVW_RNMC_QUANTIL'\n",
    "df_rnmc = fetch_all_table(table)"
   ]
  },
  {
   "cell_type": "code",
   "execution_count": 15,
   "metadata": {},
   "outputs": [
    {
     "data": {
      "text/plain": [
       "Index(['EXPEDIENTE', 'COMPARENDO', 'FECHA', 'HORA', 'ANIO', 'MES', 'LATITUD',\n",
       "       'LONGITUD', 'COD_LOCALIDAD', 'NOMBRE_LOCALIDAD', 'COD_UPZ',\n",
       "       'NOMBRE_UPZ', 'COD_SCAT', 'NOMBRE_SECTOR_CAT', 'COD_BARRIO',\n",
       "       'NOMBRE_BARRIO', 'TIPO_SITIO', 'RANGO_EDAD_1', 'TITULO', 'CAPITULO',\n",
       "       'ARTICULO', 'DESCRIPCION_ARTICULO', 'COD_COMPORTAMIENTO',\n",
       "       'DESCRIPCION_COMPORTAMIENTO', 'TIPO_PRIORIZACION',\n",
       "       'MEDIDA_CORRECTIVA_CODIGO', 'ES_PEDAGOGICO', 'STR_RELATO_HECHOS',\n",
       "       'ACTIVIDAD_COMERCIAL', 'RAZON_SOCIAL', 'NUM_ID_HECHOS'],\n",
       "      dtype='object')"
      ]
     },
     "execution_count": 15,
     "metadata": {},
     "output_type": "execute_result"
    }
   ],
   "source": [
    "df_rnmc.columns"
   ]
  },
  {
   "cell_type": "code",
   "execution_count": 14,
   "metadata": {},
   "outputs": [
    {
     "data": {
      "text/plain": [
       "array(['RI?AS', '-', 'BASURAS', 'COLADOS', 'RUIDO', 'GRAFITI',\n",
       "       'CONTAMINACION VISUAL'], dtype=object)"
      ]
     },
     "execution_count": 14,
     "metadata": {},
     "output_type": "execute_result"
    }
   ],
   "source": [
    "df_rnmc.TIPO_PRIORIZACION.unique()"
   ]
  },
  {
   "cell_type": "code",
   "execution_count": 16,
   "metadata": {},
   "outputs": [
    {
     "data": {
      "text/plain": [
       "array([    303,     338,     339, ..., 2810866, 2810937, 2810976])"
      ]
     },
     "execution_count": 16,
     "metadata": {},
     "output_type": "execute_result"
    }
   ],
   "source": [
    "df_rnmc.NUM_ID_HECHOS.unique()"
   ]
  },
  {
   "cell_type": "code",
   "execution_count": 17,
   "metadata": {},
   "outputs": [
    {
     "data": {
      "text/plain": [
       "1072592"
      ]
     },
     "execution_count": 17,
     "metadata": {},
     "output_type": "execute_result"
    }
   ],
   "source": [
    "len(df_rnmc)"
   ]
  },
  {
   "cell_type": "code",
   "execution_count": 18,
   "metadata": {},
   "outputs": [],
   "source": [
    "df_rnmc_riñas = df_rnmc[df_rnmc['TIPO_PRIORIZACION']=='RI?AS']"
   ]
  },
  {
   "cell_type": "code",
   "execution_count": 19,
   "metadata": {},
   "outputs": [
    {
     "data": {
      "text/plain": [
       "267408"
      ]
     },
     "execution_count": 19,
     "metadata": {},
     "output_type": "execute_result"
    }
   ],
   "source": [
    "len(df_rnmc_riñas)"
   ]
  },
  {
   "cell_type": "code",
   "execution_count": 21,
   "metadata": {},
   "outputs": [
    {
     "data": {
      "text/html": [
       "<div>\n",
       "<style scoped>\n",
       "    .dataframe tbody tr th:only-of-type {\n",
       "        vertical-align: middle;\n",
       "    }\n",
       "\n",
       "    .dataframe tbody tr th {\n",
       "        vertical-align: top;\n",
       "    }\n",
       "\n",
       "    .dataframe thead th {\n",
       "        text-align: right;\n",
       "    }\n",
       "</style>\n",
       "<table border=\"1\" class=\"dataframe\">\n",
       "  <thead>\n",
       "    <tr style=\"text-align: right;\">\n",
       "      <th></th>\n",
       "      <th>EXPEDIENTE</th>\n",
       "      <th>COMPARENDO</th>\n",
       "      <th>FECHA</th>\n",
       "      <th>HORA</th>\n",
       "      <th>ANIO</th>\n",
       "      <th>MES</th>\n",
       "      <th>LATITUD</th>\n",
       "      <th>LONGITUD</th>\n",
       "      <th>COD_LOCALIDAD</th>\n",
       "      <th>NOMBRE_LOCALIDAD</th>\n",
       "      <th>...</th>\n",
       "      <th>DESCRIPCION_ARTICULO</th>\n",
       "      <th>COD_COMPORTAMIENTO</th>\n",
       "      <th>DESCRIPCION_COMPORTAMIENTO</th>\n",
       "      <th>TIPO_PRIORIZACION</th>\n",
       "      <th>MEDIDA_CORRECTIVA_CODIGO</th>\n",
       "      <th>ES_PEDAGOGICO</th>\n",
       "      <th>STR_RELATO_HECHOS</th>\n",
       "      <th>ACTIVIDAD_COMERCIAL</th>\n",
       "      <th>RAZON_SOCIAL</th>\n",
       "      <th>NUM_ID_HECHOS</th>\n",
       "    </tr>\n",
       "  </thead>\n",
       "  <tbody>\n",
       "    <tr>\n",
       "      <td>1072549</td>\n",
       "      <td>11-001-1-2019-478943</td>\n",
       "      <td>0</td>\n",
       "      <td>2017-12-28</td>\n",
       "      <td>1200</td>\n",
       "      <td>2017</td>\n",
       "      <td>12</td>\n",
       "      <td>4.601045</td>\n",
       "      <td>-74.102732</td>\n",
       "      <td>14</td>\n",
       "      <td>LOS MARTIRES</td>\n",
       "      <td>...</td>\n",
       "      <td>Comportamientos que ponen en riesgo la vida e ...</td>\n",
       "      <td>Numeral 3</td>\n",
       "      <td>Agredir fisicamente a personas por cualquier m...</td>\n",
       "      <td>RI?AS</td>\n",
       "      <td>MULTA GENERAL TIPO 3;</td>\n",
       "      <td>NO</td>\n",
       "      <td>EN AUDIENCIA ADELANTA EN LA INSPECCION CTP  TU...</td>\n",
       "      <td>-</td>\n",
       "      <td>-</td>\n",
       "      <td>2809424</td>\n",
       "    </tr>\n",
       "    <tr>\n",
       "      <td>1072565</td>\n",
       "      <td>11-001-6-2019-479200</td>\n",
       "      <td>110011201723</td>\n",
       "      <td>2019-10-25</td>\n",
       "      <td>1010</td>\n",
       "      <td>2019</td>\n",
       "      <td>10</td>\n",
       "      <td>4.531237</td>\n",
       "      <td>-74.114916</td>\n",
       "      <td>05</td>\n",
       "      <td>USME</td>\n",
       "      <td>...</td>\n",
       "      <td>Comportamientos que ponen en riesgo la vida e ...</td>\n",
       "      <td>Numeral 6</td>\n",
       "      <td>Portar armas, elementos cortantes, punzantes o...</td>\n",
       "      <td>RI?AS</td>\n",
       "      <td>MULTA GENERAL TIPO 2; PROHIBICION DE INGRESO A...</td>\n",
       "      <td>NO</td>\n",
       "      <td>AL MOMENTO DE SOLICITARLE UN REGISTRO SE LE HA...</td>\n",
       "      <td>-</td>\n",
       "      <td>-</td>\n",
       "      <td>2809965</td>\n",
       "    </tr>\n",
       "    <tr>\n",
       "      <td>1072567</td>\n",
       "      <td>11-001-6-2019-479229</td>\n",
       "      <td>110011354607</td>\n",
       "      <td>2019-10-25</td>\n",
       "      <td>2320</td>\n",
       "      <td>2019</td>\n",
       "      <td>10</td>\n",
       "      <td>4.484890</td>\n",
       "      <td>-74.098581</td>\n",
       "      <td>05</td>\n",
       "      <td>USME</td>\n",
       "      <td>...</td>\n",
       "      <td>Comportamientos que ponen en riesgo la vida e ...</td>\n",
       "      <td>Numeral 6</td>\n",
       "      <td>Portar armas, elementos cortantes, punzantes o...</td>\n",
       "      <td>RI?AS</td>\n",
       "      <td>MULTA GENERAL TIPO 2; PROHIBICION DE INGRESO A...</td>\n",
       "      <td>NO</td>\n",
       "      <td>MEDIANTE REGISTRO SE LE HAYA 01 ELEMENTO CORTO...</td>\n",
       "      <td>-</td>\n",
       "      <td>-</td>\n",
       "      <td>2810037</td>\n",
       "    </tr>\n",
       "    <tr>\n",
       "      <td>1072575</td>\n",
       "      <td>11-001-6-2019-479341</td>\n",
       "      <td>110011354306</td>\n",
       "      <td>2019-10-25</td>\n",
       "      <td>0840</td>\n",
       "      <td>2019</td>\n",
       "      <td>10</td>\n",
       "      <td>4.503607</td>\n",
       "      <td>-74.103296</td>\n",
       "      <td>05</td>\n",
       "      <td>USME</td>\n",
       "      <td>...</td>\n",
       "      <td>Comportamientos que ponen en riesgo la vida e ...</td>\n",
       "      <td>Numeral 6</td>\n",
       "      <td>Portar armas, elementos cortantes, punzantes o...</td>\n",
       "      <td>RI?AS</td>\n",
       "      <td>MULTA GENERAL TIPO 2; PROHIBICION DE INGRESO A...</td>\n",
       "      <td>NO</td>\n",
       "      <td>MEDIANTE REGISTRO A PERSONAS SE LE ENCUENTRA U...</td>\n",
       "      <td>-</td>\n",
       "      <td>-</td>\n",
       "      <td>2810293</td>\n",
       "    </tr>\n",
       "    <tr>\n",
       "      <td>1072579</td>\n",
       "      <td>11-001-6-2019-479378</td>\n",
       "      <td>110011205450</td>\n",
       "      <td>2019-10-28</td>\n",
       "      <td>2130</td>\n",
       "      <td>2019</td>\n",
       "      <td>10</td>\n",
       "      <td>4.521540</td>\n",
       "      <td>-74.122409</td>\n",
       "      <td>05</td>\n",
       "      <td>USME</td>\n",
       "      <td>...</td>\n",
       "      <td>Comportamientos que ponen en riesgo la vida e ...</td>\n",
       "      <td>Numeral 6</td>\n",
       "      <td>Portar armas, elementos cortantes, punzantes o...</td>\n",
       "      <td>RI?AS</td>\n",
       "      <td>MULTA GENERAL TIPO 2; PROHIBICION DE INGRESO A...</td>\n",
       "      <td>NO</td>\n",
       "      <td>LA PERSONA EN MENCION MEDIANTE REGISTRO A PERS...</td>\n",
       "      <td>-</td>\n",
       "      <td>-</td>\n",
       "      <td>2810384</td>\n",
       "    </tr>\n",
       "  </tbody>\n",
       "</table>\n",
       "<p>5 rows × 31 columns</p>\n",
       "</div>"
      ],
      "text/plain": [
       "                   EXPEDIENTE    COMPARENDO      FECHA  HORA  ANIO MES  \\\n",
       "1072549  11-001-1-2019-478943             0 2017-12-28  1200  2017  12   \n",
       "1072565  11-001-6-2019-479200  110011201723 2019-10-25  1010  2019  10   \n",
       "1072567  11-001-6-2019-479229  110011354607 2019-10-25  2320  2019  10   \n",
       "1072575  11-001-6-2019-479341  110011354306 2019-10-25  0840  2019  10   \n",
       "1072579  11-001-6-2019-479378  110011205450 2019-10-28  2130  2019  10   \n",
       "\n",
       "          LATITUD   LONGITUD COD_LOCALIDAD NOMBRE_LOCALIDAD  ...  \\\n",
       "1072549  4.601045 -74.102732            14     LOS MARTIRES  ...   \n",
       "1072565  4.531237 -74.114916            05             USME  ...   \n",
       "1072567  4.484890 -74.098581            05             USME  ...   \n",
       "1072575  4.503607 -74.103296            05             USME  ...   \n",
       "1072579  4.521540 -74.122409            05             USME  ...   \n",
       "\n",
       "                                      DESCRIPCION_ARTICULO COD_COMPORTAMIENTO  \\\n",
       "1072549  Comportamientos que ponen en riesgo la vida e ...          Numeral 3   \n",
       "1072565  Comportamientos que ponen en riesgo la vida e ...          Numeral 6   \n",
       "1072567  Comportamientos que ponen en riesgo la vida e ...          Numeral 6   \n",
       "1072575  Comportamientos que ponen en riesgo la vida e ...          Numeral 6   \n",
       "1072579  Comportamientos que ponen en riesgo la vida e ...          Numeral 6   \n",
       "\n",
       "                                DESCRIPCION_COMPORTAMIENTO TIPO_PRIORIZACION  \\\n",
       "1072549  Agredir fisicamente a personas por cualquier m...             RI?AS   \n",
       "1072565  Portar armas, elementos cortantes, punzantes o...             RI?AS   \n",
       "1072567  Portar armas, elementos cortantes, punzantes o...             RI?AS   \n",
       "1072575  Portar armas, elementos cortantes, punzantes o...             RI?AS   \n",
       "1072579  Portar armas, elementos cortantes, punzantes o...             RI?AS   \n",
       "\n",
       "                                  MEDIDA_CORRECTIVA_CODIGO ES_PEDAGOGICO  \\\n",
       "1072549                              MULTA GENERAL TIPO 3;            NO   \n",
       "1072565  MULTA GENERAL TIPO 2; PROHIBICION DE INGRESO A...            NO   \n",
       "1072567  MULTA GENERAL TIPO 2; PROHIBICION DE INGRESO A...            NO   \n",
       "1072575  MULTA GENERAL TIPO 2; PROHIBICION DE INGRESO A...            NO   \n",
       "1072579  MULTA GENERAL TIPO 2; PROHIBICION DE INGRESO A...            NO   \n",
       "\n",
       "                                         STR_RELATO_HECHOS  \\\n",
       "1072549  EN AUDIENCIA ADELANTA EN LA INSPECCION CTP  TU...   \n",
       "1072565  AL MOMENTO DE SOLICITARLE UN REGISTRO SE LE HA...   \n",
       "1072567  MEDIANTE REGISTRO SE LE HAYA 01 ELEMENTO CORTO...   \n",
       "1072575  MEDIANTE REGISTRO A PERSONAS SE LE ENCUENTRA U...   \n",
       "1072579  LA PERSONA EN MENCION MEDIANTE REGISTRO A PERS...   \n",
       "\n",
       "        ACTIVIDAD_COMERCIAL RAZON_SOCIAL NUM_ID_HECHOS  \n",
       "1072549                   -            -       2809424  \n",
       "1072565                   -            -       2809965  \n",
       "1072567                   -            -       2810037  \n",
       "1072575                   -            -       2810293  \n",
       "1072579                   -            -       2810384  \n",
       "\n",
       "[5 rows x 31 columns]"
      ]
     },
     "execution_count": 21,
     "metadata": {},
     "output_type": "execute_result"
    }
   ],
   "source": [
    "df_rnmc_riñas.tail(5)"
   ]
  },
  {
   "cell_type": "code",
   "execution_count": 22,
   "metadata": {},
   "outputs": [],
   "source": [
    "df_rnmc_riñas.to_csv(r'/u01/user8/Documents/Riñas/RNMC/data_2019_11/df_riñas_rnmc.csv',index=None)"
   ]
  },
  {
   "cell_type": "code",
   "execution_count": null,
   "metadata": {},
   "outputs": [],
   "source": []
  }
 ],
 "metadata": {
  "kernelspec": {
   "display_name": "Python 3",
   "language": "python",
   "name": "python3"
  },
  "language_info": {
   "codemirror_mode": {
    "name": "ipython",
    "version": 3
   },
   "file_extension": ".py",
   "mimetype": "text/x-python",
   "name": "python",
   "nbconvert_exporter": "python",
   "pygments_lexer": "ipython3",
   "version": "3.7.4"
  }
 },
 "nbformat": 4,
 "nbformat_minor": 2
}
