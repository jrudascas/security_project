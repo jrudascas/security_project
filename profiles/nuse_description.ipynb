{
 "cells": [
  {
   "cell_type": "markdown",
   "metadata": {},
   "source": [
    "# Análisis Exploratorio\n",
    "\n",
    "    Fuente de información: NUSE\n",
    "    Archivos: \n",
    "    NUSE 934 611(M) 2017-2018.dsv\n",
    "    NUSE 934-611-611M ENERO2019.csv"
   ]
  },
  {
   "cell_type": "code",
   "execution_count": null,
   "metadata": {},
   "outputs": [],
   "source": [
    "import pandas as pd\n",
    "import pandas_profiling\n",
    "import numpy as np\n",
    "import matplotlib.pyplot as plt\n",
    "from IPython.display import display, HTML\n",
    "import plotly.express as px\n",
    "import plotly.graph_objects as go\n",
    "import seaborn as sns\n",
    "import calendar\n",
    "pd.set_option('display.max_colwidth', -1)\n",
    "pd.set_option('display.max_columns', None)  \n",
    "from wordcloud import WordCloud, STOPWORDS\n",
    "import folium\n",
    "from folium import plugins\n",
    "import geopandas as gpd"
   ]
  },
  {
   "cell_type": "markdown",
   "metadata": {},
   "source": [
    "# Methods to visualize analysis results"
   ]
  },
  {
   "cell_type": "code",
   "execution_count": null,
   "metadata": {},
   "outputs": [],
   "source": [
    "#Create folder to save figures\n",
    "import os\n",
    "\n",
    "if not os.path.exists(\"figuras_nuse\"):\n",
    "    os.mkdir(\"figuras_nuse\")"
   ]
  },
  {
   "cell_type": "code",
   "execution_count": null,
   "metadata": {},
   "outputs": [],
   "source": [
    "def print_Data(df):\n",
    "    if len(df)>10:\n",
    "        topdata=(df.sort_values(by=['Frecuencia'],ascending=False)[:5])\n",
    "        taildata = (df.sort_values(by=['Frecuencia'],ascending=True)[:5])\n",
    "        print(\"Top values\")\n",
    "        display(topdata.style.hide_index())\n",
    "        print(\"Bottom values\")\n",
    "        display(taildata.style.hide_index())\n",
    "    else:\n",
    "        display(df.style.hide_index())"
   ]
  },
  {
   "cell_type": "code",
   "execution_count": null,
   "metadata": {},
   "outputs": [],
   "source": [
    "def basic_Description(df):\n",
    "    print_Data(df)\n",
    "    print(\"Statistics\")\n",
    "    display(pd.DataFrame(df.describe()))\n",
    "    sns.boxplot(y=df['Frecuencia'])"
   ]
  },
  {
   "cell_type": "code",
   "execution_count": null,
   "metadata": {},
   "outputs": [],
   "source": [
    "def create_Subdata(df,variables_array):\n",
    "    subdata=pd.DataFrame(df.groupby(variables_array).size(),columns=[\"Frecuencia\"]).sort_index().reset_index()\n",
    "    return subdata"
   ]
  },
  {
   "cell_type": "code",
   "execution_count": null,
   "metadata": {},
   "outputs": [],
   "source": [
    "def normalize_subdata(subdata, years_array):\n",
    "    subdata['Factor normalizacion']= subdata.apply (lambda row: norm_factor_localidad(row['COD_LOCALIDAD'],years_array), axis=1)\n",
    "    subdata['Frecuencia']= subdata['Frecuencia']*subdata['Factor normalizacion']\n",
    "    subdata.drop(columns=['Factor normalizacion'],inplace=True)\n",
    "    subdata.drop([0, 19], inplace=True) #drop sin localización\n",
    "    return subdata\n",
    "\n",
    "\n",
    "def norm_factor_localidad(cod_localidad,years_array):\n",
    "    num_inhabitants = 10000\n",
    "    if cod_localidad != 99:\n",
    "        population_values =[]\n",
    "        for year in years_array:\n",
    "            value = poblacion_localidades.at[cod_localidad,year]\n",
    "            population_values.append(int(value.strip().replace(',','')))\n",
    "        \n",
    "        mean_population = int(sum(population_values)/len(population_values))\n",
    "        norm_factor = num_inhabitants / mean_population\n",
    "        \n",
    "        return norm_factor\n",
    "    else:\n",
    "        return 1"
   ]
  },
  {
   "cell_type": "code",
   "execution_count": null,
   "metadata": {},
   "outputs": [],
   "source": [
    "def bar_figure_top_values(df,variable,fig_name):\n",
    "    if len(df)>22:\n",
    "        topdata=(df.sort_values(by=['Frecuencia'],ascending=False)[:10])\n",
    "    else:\n",
    "        topdata=df.sort_values(by=['Frecuencia'],ascending=False)\n",
    "        \n",
    "    fig = px.bar(topdata, x='Frecuencia', y=variable, orientation='h', color = variable, \n",
    "             color_discrete_sequence = px.colors.qualitative.Prism[2:])\n",
    "    fig.update_layout(yaxis={\"type\":\"category\"}, showlegend=False)\n",
    "    file_path = \"figuras_nuse/\"+fig_name\n",
    "    if fig_name != '':\n",
    "        fig.write_image(file_path)\n",
    "    fig.show()"
   ]
  },
  {
   "cell_type": "code",
   "execution_count": null,
   "metadata": {},
   "outputs": [],
   "source": [
    "def line_figure(df,x_var,min_values,max_values,fig_name):\n",
    "    fig = px.line(df, x=x_var, y='Frecuencia', color_discrete_sequence = px.colors.qualitative.Prism[1:])\n",
    "    fig.update_xaxes(title=x_var)\n",
    "    fig.update_yaxes(title='Frecuencia')\n",
    "    fig.update_layout(\n",
    "        annotations=[\n",
    "            go.layout.Annotation(\n",
    "              x=i[0],\n",
    "              y=i[1],\n",
    "              xref=\"x\",\n",
    "              yref=\"y\",\n",
    "              showarrow=False,\n",
    "              text=str(i[0])+\" : \"+str(i[1]),\n",
    "              font=dict(\n",
    "                  family=\"Courier New, monospace\",\n",
    "                  size=16,\n",
    "                  color=\"black\"\n",
    "              ),\n",
    "          ) for i in df.sort_values('Frecuencia').head(min_values).append(df.sort_values('Frecuencia').tail(max_values))[[x_var,'Frecuencia']].values\n",
    "        ]\n",
    "    )\n",
    "    file_path = \"figuras_nuse/\"+fig_name\n",
    "    if fig_name != '':\n",
    "        fig.write_image(file_path,width=1000,height=500)\n",
    "    fig.show()\n",
    "    print(\"Promedio: \",df.mean())\n",
    "    print(\"Desviación estandar: \",df.std())"
   ]
  },
  {
   "cell_type": "code",
   "execution_count": null,
   "metadata": {},
   "outputs": [],
   "source": [
    "def bar_figure_probabilities(df,variable,values_order,media_factor,fig_name):\n",
    "    df['Porcentaje']=df['Frecuencia']/df['Frecuencia'].sum()*100\n",
    "    fig=px.bar(df,x='Porcentaje',color=variable,y=variable,orientation='h',\n",
    "               category_orders={variable: values_order},\n",
    "               color_discrete_sequence = px.colors.qualitative.Prism[1:])\n",
    "    fig.update(layout_showlegend=False)\n",
    "\n",
    "    fig.add_trace(go.Scatter(\n",
    "        x=[df.Porcentaje.mean()]*2,\n",
    "        y=[values_order[0],values_order[-1]],\n",
    "        text=['Media='+str(round(df.Frecuencia.mean()/media_factor,2)),\n",
    "              ''\n",
    "              ],\n",
    "        line=dict(color='black', width=2),\n",
    "        mode=\"text+lines\",\n",
    "    ))\n",
    "    fig.add_trace(go.Scatter(\n",
    "        x=[df.Porcentaje.mean()+df.Porcentaje.std()]*2,\n",
    "        y=[values_order[0],values_order[-1]],\n",
    "        text=['',\n",
    "              'std='+str(round(df.Frecuencia.std()/media_factor,2)),\n",
    "              ],\n",
    "        line=dict(color='black', width=2,\n",
    "                                  dash='dash'),\n",
    "        mode=\"text+lines\",\n",
    "    ))\n",
    "    fig.add_trace(go.Scatter(\n",
    "        x=[df.Porcentaje.mean()-df.Porcentaje.std()]*2,\n",
    "        y=[values_order[0],values_order[-1]],\n",
    "        text=['',\n",
    "              'std='+str(round(df.Frecuencia.std()/media_factor,2)),\n",
    "              ],\n",
    "        line=dict(color='black', width=2,\n",
    "                                  dash='dash'),\n",
    "        mode=\"text+lines\",\n",
    "    ))\n",
    "    file_path = \"figuras_nuse/\"+fig_name\n",
    "    if fig_name != '':\n",
    "        fig.write_image(file_path,width=1000,height=500)\n",
    "    fig.show()"
   ]
  },
  {
   "cell_type": "code",
   "execution_count": null,
   "metadata": {},
   "outputs": [],
   "source": [
    "def bubbles_figure_probabilities(df,var1,var2,var1_order,var2_order,fig_name):\n",
    "    df['Porcentaje']=df['Frecuencia']/df['Frecuencia'].sum()*100\n",
    "    fig = px.scatter(df, x=var1, y=\"Porcentaje\", size=\"Porcentaje\", color=var2,\n",
    "                     width=1000, height=600, color_discrete_sequence = px.colors.qualitative.Prism[1:],\n",
    "                     category_orders={var2: var2_order}, hover_name=var2, size_max=40)\n",
    "    fig.update_xaxes(tickangle=0,categoryorder=\"array\", categoryarray=var1_order)\n",
    "    if len(df[var1].unique()) > 10:\n",
    "        fig.update_xaxes(tickangle=90)\n",
    "    file_path = \"figuras_nuse/\"+fig_name\n",
    "    if fig_name != '':\n",
    "        fig.write_image(file_path,width=1000,height=500)\n",
    "    fig.show()"
   ]
  },
  {
   "cell_type": "code",
   "execution_count": null,
   "metadata": {},
   "outputs": [],
   "source": [
    "def table_figure_probabilities(df,var1,var2,var1_order,var2_order,var_aux,fig_name):\n",
    "    A=df.groupby([var1,var2]).agg({var_aux:'count'}).reset_index().rename(columns={var_aux:'Frecuencia'})\n",
    "    A['Porcentaje']=A['Frecuencia']/A['Frecuencia'].sum()\n",
    "    join=(A.pivot(var1,var2,'Porcentaje')).fillna(0)\n",
    "    if len(var2_order) > 0:\n",
    "        join = join.reindex(var2_order, axis=1)\n",
    "    if len(var1_order) > 0:\n",
    "        join = join.reindex(var1_order)\n",
    "    gc=join/join.sum(axis=0)\n",
    "    gf=(join.T/join.sum(axis=1)).T\n",
    "    M=[join,gc,gf]\n",
    "    title=[\"join\",'g_columna',\"g_fila\"]\n",
    "\n",
    "    for k in range(3):\n",
    "     print(title[k])\n",
    "     fig, ax = plt.subplots(1,1,sharex=True, sharey=True)\n",
    "     fig.set_size_inches(7, 6)\n",
    "     g=sns.heatmap(M[k],vmin=0, vmax=0.4,annot=True,fmt=\".1%\",linewidths=0,cmap=\"Blues\",cbar=False)\n",
    "     g.set_yticklabels(g.get_yticklabels(), rotation = 0)\n",
    "     bottom, top = ax.get_ylim()\n",
    "     ax.set_ylim(bottom + 0.5, top - 0.5)\n",
    "     if k == 1:\n",
    "       ax.vlines(np.arange(20), *ax.get_ylim())\n",
    "     if k == 2:\n",
    "       ax.hlines(np.arange(20), *ax.get_xlim())\n",
    "     \n",
    "     file_path = \"figuras_nuse/\"+fig_name\n",
    "     plt.savefig(file_path+title[k],dpi=300,bbox_inches = \"tight\")\n",
    "     plt.show()"
   ]
  },
  {
   "cell_type": "code",
   "execution_count": null,
   "metadata": {},
   "outputs": [],
   "source": [
    "def custom_heatmap(df, lat_col='latitude', lon_col='longitude', zoom_start=11, \\\n",
    "                plot_points=False, pt_radius=15, \\\n",
    "                draw_heatmap=False, heat_map_weights_col=None, \\\n",
    "                heat_map_weights_normalize=True, heat_map_radius=15):\n",
    "    \"\"\"Creates a map given a dataframe of points. Can also produce a heatmap overlay\n",
    "\n",
    "    Arg:\n",
    "        df: dataframe containing points to maps\n",
    "        lat_col: Column containing latitude (string)\n",
    "        lon_col: Column containing longitude (string)\n",
    "        zoom_start: Integer representing the initial zoom of the map\n",
    "        plot_points: Add points to map (boolean)\n",
    "        pt_radius: Size of each point\n",
    "        draw_heatmap: Add heatmap to map (boolean)\n",
    "        heat_map_weights_col: Column containing heatmap weights\n",
    "        heat_map_weights_normalize: Normalize heatmap weights (boolean)\n",
    "        heat_map_radius: Size of heatmap point\n",
    "\n",
    "    Returns:\n",
    "        folium map object\n",
    "    \"\"\"\n",
    "\n",
    "    ## center map in the middle of points center in\n",
    "    middle_lat = df[lat_col].median()\n",
    "    middle_lon = df[lon_col].median()\n",
    "\n",
    "    curr_map = folium.Map(location=[middle_lat, middle_lon],\n",
    "                          zoom_start=zoom_start)\n",
    "\n",
    "    # add points to map\n",
    "    if plot_points:\n",
    "        for _, row in df.iterrows():\n",
    "            folium.CircleMarker([row[lat_col], row[lon_col]],\n",
    "                                radius=pt_radius,\n",
    "                                #popup=row['name'],\n",
    "                                fill_color=\"#3db7e4\", # divvy color\n",
    "                               ).add_to(curr_map)\n",
    "\n",
    "    # add heatmap\n",
    "    if draw_heatmap:\n",
    "        # convert to (n, 2) or (n, 3) matrix format\n",
    "        if heat_map_weights_col is None:\n",
    "            cols_to_pull = [lat_col, lon_col]\n",
    "        else:\n",
    "            # if we have to normalize\n",
    "            if heat_map_weights_normalize:\n",
    "                df[heat_map_weights_col] = \\\n",
    "                    df[heat_map_weights_col] / df[heat_map_weights_col].sum()\n",
    "\n",
    "            cols_to_pull = [lat_col, lon_col, heat_map_weights_col]\n",
    "\n",
    "        subdata = df[cols_to_pull].values\n",
    "        curr_map.add_child(plugins.HeatMap(subdata, radius=heat_map_radius))\n",
    "\n",
    "    return curr_map"
   ]
  },
  {
   "cell_type": "code",
   "execution_count": null,
   "metadata": {},
   "outputs": [],
   "source": [
    "def map_localidad(ax,df,col_localidad,col_vals,vmin=None,vmax=None):\n",
    "  loc_geo=\"/Users/anamaria/Desktop/dev/security_project/assets/loca.geojson.json\"\n",
    "  loc_=gpd.read_file(loc_geo)\n",
    "  loc_=loc_.merge(df,left_on='LocNombre',right_on=col_localidad)\n",
    "  loc_.plot(cmap='viridis',column=col_vals,legend=True,ax=ax,vmin=vmin,vmax=vmax)  "
   ]
  },
  {
   "cell_type": "markdown",
   "metadata": {},
   "source": [
    "# Load datasets"
   ]
  },
  {
   "cell_type": "code",
   "execution_count": null,
   "metadata": {},
   "outputs": [],
   "source": [
    "data_location = '/Users/anamaria/Desktop/dev/security_project/datasets/NUSE 934 611(M) 2017-2018.dsv'\n",
    "data2018=pd.read_csv(data_location,delimiter=\"|\")"
   ]
  },
  {
   "cell_type": "code",
   "execution_count": null,
   "metadata": {},
   "outputs": [],
   "source": [
    "data_location = '/Users/anamaria/Desktop/dev/security_project/datasets/NUSE 934-611-611M ENERO2019.csv'\n",
    "data2019=pd.read_csv(data_location,delimiter=\";\")"
   ]
  },
  {
   "cell_type": "markdown",
   "metadata": {},
   "source": [
    "## Join datasets"
   ]
  },
  {
   "cell_type": "code",
   "execution_count": null,
   "metadata": {},
   "outputs": [],
   "source": [
    "frames = [data2018, data2019]\n",
    "data = pd.concat(frames)"
   ]
  },
  {
   "cell_type": "markdown",
   "metadata": {},
   "source": [
    "## Assets"
   ]
  },
  {
   "cell_type": "code",
   "execution_count": null,
   "metadata": {},
   "outputs": [],
   "source": [
    "data_location = '/Users/anamaria/Desktop/dev/security_project/assets/poblacion_localidades.csv'\n",
    "poblacion_localidades=pd.read_csv(data_location,delimiter=\",\")"
   ]
  },
  {
   "cell_type": "code",
   "execution_count": null,
   "metadata": {},
   "outputs": [],
   "source": [
    "poblacion_localidades['Cod Localidad'].astype(int)\n",
    "poblacion_localidades.set_index('Cod Localidad', inplace=True)"
   ]
  },
  {
   "cell_type": "markdown",
   "metadata": {},
   "source": [
    "# Basic dataset description"
   ]
  },
  {
   "cell_type": "code",
   "execution_count": null,
   "metadata": {},
   "outputs": [],
   "source": [
    "data.head()"
   ]
  },
  {
   "cell_type": "code",
   "execution_count": null,
   "metadata": {},
   "outputs": [],
   "source": [
    "print(\"Tamaño:\",data.shape)\n",
    "print(\"size: \",data.size)\n",
    "print(\"Porcentaje Celdas Vacias:\",data.isna().mean().mean())\n",
    "print(\"Porcentaje Celdas con valor '-':\",(data == \"-\").mean().mean())\n",
    "print(\"Filas duplicadas\",data.duplicated().sum())"
   ]
  },
  {
   "cell_type": "code",
   "execution_count": null,
   "metadata": {},
   "outputs": [],
   "source": [
    "data.drop_duplicates(inplace=True)"
   ]
  },
  {
   "cell_type": "code",
   "execution_count": null,
   "metadata": {},
   "outputs": [],
   "source": [
    "print(\"Tamaño:\",data.shape)\n",
    "print(\"size: \",data.size)\n",
    "print(\"Porcentaje Celdas Vacias:\",data.isna().mean().mean())\n",
    "print(\"Porcentaje Celdas con valor '-':\",(data == \"-\").mean().mean())\n",
    "print(\"Filas duplicadas\",data.duplicated().sum())"
   ]
  },
  {
   "cell_type": "code",
   "execution_count": null,
   "metadata": {},
   "outputs": [],
   "source": [
    "pd.DataFrame({\"Tipo de dato\":data.dtypes.values,\n",
    "              \"Celdas con valor '-'\":(data == '-').sum().values,\n",
    "              \"Celdas vacías\": data.isna().sum().values},\n",
    "             index=data.columns)"
   ]
  },
  {
   "cell_type": "markdown",
   "metadata": {},
   "source": [
    "# Create aditional variables or convert to another format"
   ]
  },
  {
   "cell_type": "code",
   "execution_count": null,
   "metadata": {},
   "outputs": [],
   "source": [
    "# Fecha to datetime\n",
    "data['FECHA'] =  pd.to_datetime(data['FECHA'])\n",
    "data2018['FECHA'] =  pd.to_datetime(data2018['FECHA'])\n",
    "\n",
    "#Day of week\n",
    "data['day_of_week'] = data[\"FECHA\"].dt.day_name()\n",
    "data2018['day_of_week'] = data2018[\"FECHA\"].dt.day_name()\n",
    "weeks_between = round((data[\"FECHA\"].max()-data[\"FECHA\"].min())/np.timedelta64(1,'W'))\n",
    "\n",
    "#Format 'HORA' field into datetime to proper visualization\n",
    "data['time_stamp']=pd.to_datetime(data[\"HORA\"].astype(str).str.rjust(4,'0'),format= '%H%M').dt.time"
   ]
  },
  {
   "cell_type": "code",
   "execution_count": null,
   "metadata": {},
   "outputs": [],
   "source": [
    "#DIA_EXTENDIDO for all dataset\n",
    "data['DIA_EXTENDIDO'] = data['day_of_week']\n",
    "data.loc[(data.HORA >= 0) & (data.HORA <= 359) & (data.day_of_week == 'Monday'), 'DIA_EXTENDIDO'] = 'Sunday'\n",
    "data.loc[(data.HORA >= 0) & (data.HORA <= 359) & (data.day_of_week == 'Tuesday'), 'DIA_EXTENDIDO'] = 'Monday'\n",
    "data.loc[(data.HORA >= 0) & (data.HORA <= 359) & (data.day_of_week == 'Wednesday'), 'DIA_EXTENDIDO'] = 'Tuesday'\n",
    "data.loc[(data.HORA >= 0) & (data.HORA <= 359) & (data.day_of_week == 'Thursday'), 'DIA_EXTENDIDO'] = 'Wednesday'\n",
    "data.loc[(data.HORA >= 0) & (data.HORA <= 359) & (data.day_of_week == 'Friday'), 'DIA_EXTENDIDO'] = 'Thursday'\n",
    "data.loc[(data.HORA >= 0) & (data.HORA <= 359) & (data.day_of_week == 'Saturday'), 'DIA_EXTENDIDO'] = 'Friday'\n",
    "data.loc[(data.HORA >= 0) & (data.HORA <= 359) & (data.day_of_week == 'Sunday'), 'DIA_EXTENDIDO'] = 'Saturday'"
   ]
  },
  {
   "cell_type": "code",
   "execution_count": null,
   "metadata": {},
   "outputs": [],
   "source": [
    "#DIA_EXTENDIDO just for 2017 and 2018 data\n",
    "data2018['DIA_EXTENDIDO'] = data2018['day_of_week']\n",
    "data2018.loc[(data2018.HORA >= 0) & (data2018.HORA <= 359) & (data2018.day_of_week == 'Monday'), 'DIA_EXTENDIDO'] = 'Sunday'\n",
    "data2018.loc[(data2018.HORA >= 0) & (data2018.HORA <= 359) & (data2018.day_of_week == 'Tuesday'), 'DIA_EXTENDIDO'] = 'Monday'\n",
    "data2018.loc[(data2018.HORA >= 0) & (data2018.HORA <= 359) & (data2018.day_of_week == 'Wednesday'), 'DIA_EXTENDIDO'] = 'Tuesday'\n",
    "data2018.loc[(data2018.HORA >= 0) & (data2018.HORA <= 359) & (data2018.day_of_week == 'Thursday'), 'DIA_EXTENDIDO'] = 'Wednesday'\n",
    "data2018.loc[(data2018.HORA >= 0) & (data2018.HORA <= 359) & (data2018.day_of_week == 'Friday'), 'DIA_EXTENDIDO'] = 'Thursday'\n",
    "data2018.loc[(data2018.HORA >= 0) & (data2018.HORA <= 359) & (data2018.day_of_week == 'Saturday'), 'DIA_EXTENDIDO'] = 'Friday'\n",
    "data2018.loc[(data2018.HORA >= 0) & (data2018.HORA <= 359) & (data2018.day_of_week == 'Sunday'), 'DIA_EXTENDIDO'] = 'Saturday'"
   ]
  },
  {
   "cell_type": "code",
   "execution_count": null,
   "metadata": {},
   "outputs": [],
   "source": [
    "#RANGO_HORA each 4 hours\n",
    "data.loc[(data.HORA >= 0) & (data.HORA <= 359), 'RANGO_HORA'] = '0:00 a 3:59'\n",
    "data.loc[(data.HORA >= 400) & (data.HORA <= 759), 'RANGO_HORA'] = '4:00 a 7:59'\n",
    "data.loc[(data.HORA >= 800) & (data.HORA <= 1159), 'RANGO_HORA'] = '8:00 a 11:59'\n",
    "data.loc[(data.HORA >= 1200) & (data.HORA <= 1559), 'RANGO_HORA'] = '12:00 a 15:59'\n",
    "data.loc[(data.HORA >= 1600) & (data.HORA <= 1959), 'RANGO_HORA'] = '16:00 a 19:59'\n",
    "data.loc[(data.HORA >= 2000) & (data.HORA <= 2359), 'RANGO_HORA'] = '20:00 a 23:59'"
   ]
  },
  {
   "cell_type": "code",
   "execution_count": null,
   "metadata": {},
   "outputs": [],
   "source": [
    "#Select just de data we care\n",
    "data = data.query('TIPO_DETALLE == \"934 - RIÑA\"')\n",
    "data2018 = data2018.query('TIPO_DETALLE == \"934 - RIÑA\"')"
   ]
  },
  {
   "cell_type": "markdown",
   "metadata": {},
   "source": [
    "# Análisis univariado"
   ]
  },
  {
   "cell_type": "markdown",
   "metadata": {},
   "source": [
    "### Analisis campo 'FECHA'"
   ]
  },
  {
   "cell_type": "code",
   "execution_count": null,
   "metadata": {},
   "outputs": [],
   "source": [
    "subdata = create_Subdata(data,[\"FECHA\"])\n",
    "basic_Description(subdata)"
   ]
  },
  {
   "cell_type": "code",
   "execution_count": null,
   "metadata": {},
   "outputs": [],
   "source": [
    "bar_figure_top_values(subdata,variable='FECHA',fig_name=\"riñas_nuse_fecha_frecuencias.png\")"
   ]
  },
  {
   "cell_type": "code",
   "execution_count": null,
   "metadata": {},
   "outputs": [],
   "source": [
    "line_figure(subdata,x_var='FECHA',min_values=1,max_values=4,fig_name=\"riñas_nuse_fecha_serie_tiempo.png\")"
   ]
  },
  {
   "cell_type": "markdown",
   "metadata": {},
   "source": [
    "### Analisis variable aux 'day_of_week'"
   ]
  },
  {
   "cell_type": "code",
   "execution_count": null,
   "metadata": {},
   "outputs": [],
   "source": [
    "subdata = create_Subdata(data,[\"day_of_week\"])\n",
    "basic_Description(subdata)"
   ]
  },
  {
   "cell_type": "code",
   "execution_count": null,
   "metadata": {},
   "outputs": [],
   "source": [
    "values_order = [\"Monday\", \"Tuesday\", \"Wednesday\", \"Thursday\",\"Friday\",\"Saturday\",\"Sunday\"]\n",
    "media_factor = weeks_between\n",
    "bar_figure_probabilities(subdata,'day_of_week',values_order,media_factor,fig_name=\"riñas_nuse_dia_probabilidad.png\")"
   ]
  },
  {
   "cell_type": "markdown",
   "metadata": {},
   "source": [
    "### Analisis variable aux 'DIA_EXTENDIDO'"
   ]
  },
  {
   "cell_type": "code",
   "execution_count": null,
   "metadata": {},
   "outputs": [],
   "source": [
    "subdata = create_Subdata(data,[\"DIA_EXTENDIDO\"])\n",
    "basic_Description(subdata)"
   ]
  },
  {
   "cell_type": "code",
   "execution_count": null,
   "metadata": {},
   "outputs": [],
   "source": [
    "values_order = [\"Monday\", \"Tuesday\", \"Wednesday\", \"Thursday\",\"Friday\",\"Saturday\",\"Sunday\"]\n",
    "media_factor = weeks_between\n",
    "bar_figure_probabilities(subdata,'DIA_EXTENDIDO',values_order,media_factor,fig_name=\"riñas_nuse_dia_extendido_probabilidad.png\")"
   ]
  },
  {
   "cell_type": "markdown",
   "metadata": {},
   "source": [
    "### Análisis campo 'HORA'"
   ]
  },
  {
   "cell_type": "code",
   "execution_count": null,
   "metadata": {},
   "outputs": [],
   "source": [
    "subdata = create_Subdata(data,[\"HORA\"])\n",
    "basic_Description(subdata)"
   ]
  },
  {
   "cell_type": "code",
   "execution_count": null,
   "metadata": {},
   "outputs": [],
   "source": [
    "bar_figure_top_values(subdata,variable='HORA',fig_name=\"riñas_nuse_hora_frecuencias.png\")"
   ]
  },
  {
   "cell_type": "markdown",
   "metadata": {},
   "source": [
    "### Análisis campo 'time_stamp'"
   ]
  },
  {
   "cell_type": "code",
   "execution_count": null,
   "metadata": {},
   "outputs": [],
   "source": [
    "subdata = create_Subdata(data,[\"time_stamp\"])\n",
    "line_figure(subdata,x_var='time_stamp',min_values=1,max_values=1,fig_name=\"riñas_nuse_hora_serie_tiempo.png\")"
   ]
  },
  {
   "cell_type": "markdown",
   "metadata": {},
   "source": [
    "### Análisis campo 'ANIO'"
   ]
  },
  {
   "cell_type": "code",
   "execution_count": null,
   "metadata": {},
   "outputs": [],
   "source": [
    "subdata = create_Subdata(data,[\"ANIO\"])\n",
    "basic_Description(subdata)"
   ]
  },
  {
   "cell_type": "code",
   "execution_count": null,
   "metadata": {},
   "outputs": [],
   "source": [
    "subdata['ANIO']=subdata[\"ANIO\"].astype(str)\n",
    "bar_figure_top_values(subdata,variable='ANIO',fig_name=\"riñas_nuse_año_frecuencias.png\")"
   ]
  },
  {
   "cell_type": "markdown",
   "metadata": {},
   "source": [
    "### Análisis campo 'MES'"
   ]
  },
  {
   "cell_type": "code",
   "execution_count": null,
   "metadata": {},
   "outputs": [],
   "source": [
    "subdata = create_Subdata(data2018,[\"MES\"])\n",
    "basic_Description(subdata)"
   ]
  },
  {
   "cell_type": "code",
   "execution_count": null,
   "metadata": {},
   "outputs": [],
   "source": [
    "subdata['MES']=subdata[\"MES\"].astype(str)\n",
    "bar_figure_top_values(subdata,variable='MES',fig_name=\"riñas_nuse_mes_frecuencias.png\")"
   ]
  },
  {
   "cell_type": "code",
   "execution_count": null,
   "metadata": {},
   "outputs": [],
   "source": [
    "values_order = [\"1\",\"2\",\"3\",\"4\",\"5\",\"6\",\"7\",\"8\",\"9\",\"10\",\"11\",\"12\"]\n",
    "media_factor = 2\n",
    "bar_figure_probabilities(subdata,'MES',values_order,media_factor,fig_name=\"riñas_nuse_mes_probabilidad.png\")"
   ]
  },
  {
   "cell_type": "markdown",
   "metadata": {},
   "source": [
    "### Análisis campo 'PERIODO_TS'"
   ]
  },
  {
   "cell_type": "code",
   "execution_count": null,
   "metadata": {},
   "outputs": [],
   "source": [
    "subdata = create_Subdata(data,[\"PERIODO_TS\"])\n",
    "basic_Description(subdata)"
   ]
  },
  {
   "cell_type": "code",
   "execution_count": null,
   "metadata": {},
   "outputs": [],
   "source": [
    "bar_figure_top_values(subdata,variable='PERIODO_TS',fig_name=\"riñas_nuse_periodo_frecuencias.png\")"
   ]
  },
  {
   "cell_type": "markdown",
   "metadata": {},
   "source": [
    "### Análisis campo 'COD_LOCALIDAD' y 'LOCALIDAD'"
   ]
  },
  {
   "cell_type": "code",
   "execution_count": null,
   "metadata": {},
   "outputs": [],
   "source": [
    "subdata = create_Subdata(data,[\"COD_LOCALIDAD\",\"LOCALIDAD\"])\n",
    "basic_Description(subdata)"
   ]
  },
  {
   "cell_type": "code",
   "execution_count": null,
   "metadata": {},
   "outputs": [],
   "source": [
    "bar_figure_top_values(subdata,variable='LOCALIDAD',fig_name=\"riñas_nuse_localidad_frecuencias.png\")"
   ]
  },
  {
   "cell_type": "code",
   "execution_count": null,
   "metadata": {},
   "outputs": [],
   "source": [
    "values_order = []\n",
    "media_factor = 1\n",
    "bar_figure_probabilities(subdata,'LOCALIDAD',values_order,media_factor,fig_name=\"riñas_nuse_localidad_probabilidad.png\")"
   ]
  },
  {
   "cell_type": "markdown",
   "metadata": {},
   "source": [
    "### Análisis campo 'LOCALIDAD' normalizado por tamaño población"
   ]
  },
  {
   "cell_type": "code",
   "execution_count": null,
   "metadata": {},
   "outputs": [],
   "source": [
    "subdata = create_Subdata(data,[\"COD_LOCALIDAD\",\"LOCALIDAD\"])\n",
    "basic_Description(subdata)"
   ]
  },
  {
   "cell_type": "code",
   "execution_count": null,
   "metadata": {},
   "outputs": [],
   "source": [
    "years_array = ['2017','2018','2019']\n",
    "normalize_subdata(subdata,years_array)"
   ]
  },
  {
   "cell_type": "code",
   "execution_count": null,
   "metadata": {},
   "outputs": [],
   "source": [
    "bar_figure_top_values(subdata,variable='LOCALIDAD',fig_name=\"riñas_nuse_localidad_normalizada_frecuencias.png\")"
   ]
  },
  {
   "cell_type": "code",
   "execution_count": null,
   "metadata": {},
   "outputs": [],
   "source": [
    "values_order = []\n",
    "media_factor = 1\n",
    "bar_figure_probabilities(subdata,'LOCALIDAD',values_order,media_factor,fig_name=\"riñas_nuse_localidad_normalizada_probabilidad.png\")"
   ]
  },
  {
   "cell_type": "code",
   "execution_count": null,
   "metadata": {},
   "outputs": [],
   "source": [
    "fig, ax = plt.subplots(figsize=(12,12))\n",
    "map_localidad(ax,subdata,'LOCALIDAD','Porcentaje',2,10)\n",
    "ax.axis('off')\n",
    "#ax.set_title(fecha)\n",
    "plt.savefig(\"figuras_nuse/riñas_nuse_localidad_normalizada_probabilidad_mapa.png\",dpi=300,bbox_inches = \"tight\")\n",
    "plt.show()"
   ]
  },
  {
   "cell_type": "markdown",
   "metadata": {},
   "source": [
    "### Análisis campo 'COD_UPZ' y 'UPZ'"
   ]
  },
  {
   "cell_type": "code",
   "execution_count": null,
   "metadata": {},
   "outputs": [],
   "source": [
    "subdata = create_Subdata(data,[\"COD_UPZ\",\"UPZ\"])\n",
    "basic_Description(subdata)"
   ]
  },
  {
   "cell_type": "code",
   "execution_count": null,
   "metadata": {},
   "outputs": [],
   "source": [
    "bar_figure_top_values(subdata,variable='UPZ',fig_name=\"riñas_nuse_upz_frecuencias.png\")"
   ]
  },
  {
   "cell_type": "markdown",
   "metadata": {},
   "source": [
    "### Análisis campos 'COD_SEC_CATAST‘ y ‘SEC_CATASTRAL'"
   ]
  },
  {
   "cell_type": "code",
   "execution_count": null,
   "metadata": {},
   "outputs": [],
   "source": [
    "subdata = create_Subdata(data,[\"COD_SEC_CATAST\",\"SEC_CATASTRAL\"])\n",
    "basic_Description(subdata)"
   ]
  },
  {
   "cell_type": "code",
   "execution_count": null,
   "metadata": {},
   "outputs": [],
   "source": [
    "bar_figure_top_values(subdata,variable='SEC_CATASTRAL',fig_name=\"riñas_nuse_sec_catastral_frecuencias.png\")"
   ]
  },
  {
   "cell_type": "markdown",
   "metadata": {},
   "source": [
    "### Análisis campos 'COD_BARRIO' Y 'BARRIO'"
   ]
  },
  {
   "cell_type": "code",
   "execution_count": null,
   "metadata": {},
   "outputs": [],
   "source": [
    "subdata = create_Subdata(data,[\"COD_BARRIO\",\"BARRIO\"])\n",
    "basic_Description(subdata)"
   ]
  },
  {
   "cell_type": "code",
   "execution_count": null,
   "metadata": {},
   "outputs": [],
   "source": [
    "bar_figure_top_values(subdata,variable='BARRIO',fig_name=\"riñas_nuse_barrio_frecuencias.png\")"
   ]
  },
  {
   "cell_type": "markdown",
   "metadata": {},
   "source": [
    "### Análisis campos (LATITUD, LONGITUD)"
   ]
  },
  {
   "cell_type": "code",
   "execution_count": null,
   "metadata": {},
   "outputs": [],
   "source": [
    "subdata = create_Subdata(data,[\"LATITUD\",\"LONGITUD\"])\n",
    "basic_Description(subdata)"
   ]
  },
  {
   "cell_type": "markdown",
   "metadata": {},
   "source": [
    "### Mapa de calor"
   ]
  },
  {
   "cell_type": "code",
   "execution_count": null,
   "metadata": {},
   "outputs": [],
   "source": [
    "mapa_riñas = custom_heatmap(subdata, lat_col='LATITUD',lon_col='LONGITUD',plot_points=False, draw_heatmap=True, \n",
    "           heat_map_weights_normalize=True,heat_map_weights_col='Frecuencia',heat_map_radius=14)\n",
    "mapa_riñas.save(\"figuras_nuse/riñas_nuse_coordenadas_mapa.html\")\n",
    "mapa_riñas"
   ]
  },
  {
   "cell_type": "markdown",
   "metadata": {},
   "source": [
    "### Análisis campo 'STR_DIRECCION_INCIDENTE'"
   ]
  },
  {
   "cell_type": "code",
   "execution_count": null,
   "metadata": {},
   "outputs": [],
   "source": [
    "subdata = create_Subdata(data,[\"STR_DIRECCION_INCIDENTE\"])\n",
    "basic_Description(subdata)"
   ]
  },
  {
   "cell_type": "code",
   "execution_count": null,
   "metadata": {},
   "outputs": [],
   "source": [
    "bar_figure_top_values(subdata,variable='STR_DIRECCION_INCIDENTE',fig_name=\"riñas_nuse_direccion_frecuencias.png\")"
   ]
  },
  {
   "cell_type": "markdown",
   "metadata": {},
   "source": [
    "### Análisis campo 'ESTADO_INCIDENTE'"
   ]
  },
  {
   "cell_type": "code",
   "execution_count": null,
   "metadata": {},
   "outputs": [],
   "source": [
    "subdata = create_Subdata(data,[\"ESTADO_INCIDENTE\"])\n",
    "basic_Description(subdata)"
   ]
  },
  {
   "cell_type": "code",
   "execution_count": null,
   "metadata": {},
   "outputs": [],
   "source": [
    "bar_figure_top_values(subdata,variable='ESTADO_INCIDENTE',fig_name=\"riñas_nuse_estado_incidente_frecuencias.png\")"
   ]
  },
  {
   "cell_type": "markdown",
   "metadata": {},
   "source": [
    "### Análisis campo 'LOG_TEXT'"
   ]
  },
  {
   "cell_type": "code",
   "execution_count": null,
   "metadata": {},
   "outputs": [],
   "source": [
    "text = ' '.join(data['LOG_TEXT'].str.lower())\n",
    "\n",
    "stopwords = set(STOPWORDS)\n",
    "stopwords.update(['de','la','el','que','y','con','en'])"
   ]
  },
  {
   "cell_type": "code",
   "execution_count": null,
   "metadata": {
    "scrolled": true
   },
   "outputs": [],
   "source": [
    "wordcloud = WordCloud(width = 3000,height = 2000,background_color = 'black',stopwords = stopwords, max_words=1000).generate(text)\n",
    "fig = plt.figure(figsize = (20, 10),facecolor = 'k',edgecolor = 'k')\n",
    "plt.imshow(wordcloud, interpolation='bilinear')\n",
    "plt.axis('off')\n",
    "plt.tight_layout(pad=0)\n",
    "plt.savefig(\"figuras_nuse/log_text\",dpi=300,bbox_inches = \"tight\")\n",
    "plt.show()"
   ]
  },
  {
   "cell_type": "code",
   "execution_count": null,
   "metadata": {},
   "outputs": [],
   "source": [
    "## Add labels to stopwords\n",
    "stopwords.update(['direction','messsageid','outgoing','origorganisation','originincidentturn',\n",
    "                  'originincidentdate','originincidenttime','callorigin priority','location','easting',\n",
    "                 'callernumber','callerforename','callorigin','alta','prioridad','nuse','origin',\n",
    "                 'incaddnlinfo','incsecurity', 'northing','type','description','messageid origincidenturn',\n",
    "                 'origincidenttime priority','priority','originincidentturn originincidentdate',\n",
    "                 'originincidentdate originincidenttime'])\n"
   ]
  },
  {
   "cell_type": "code",
   "execution_count": null,
   "metadata": {},
   "outputs": [],
   "source": [
    "wordcloud = WordCloud(width = 3000,height = 2000,background_color = 'black',stopwords = stopwords, max_words=1000).generate(text)\n",
    "fig = plt.figure(figsize = (20, 10),facecolor = 'k',edgecolor = 'k')\n",
    "plt.imshow(wordcloud, interpolation='bilinear')\n",
    "plt.axis('off')\n",
    "plt.tight_layout(pad=0)\n",
    "plt.savefig(\"figuras_nuse/log_text2\",dpi=300,bbox_inches = \"tight\")\n",
    "plt.show()"
   ]
  },
  {
   "cell_type": "markdown",
   "metadata": {},
   "source": [
    "# ANÁLISIS BIVARIADO"
   ]
  },
  {
   "cell_type": "markdown",
   "metadata": {},
   "source": [
    "## 'HORA' y día de la semana"
   ]
  },
  {
   "cell_type": "code",
   "execution_count": null,
   "metadata": {},
   "outputs": [],
   "source": [
    "subdata=pd.DataFrame(data.groupby([\"time_stamp\",\"day_of_week\"]).size(),columns=[\"Cantidad\"]).sort_index().reset_index()\n",
    "\n",
    "fig = px.line(subdata, x=\"time_stamp\", y=\"Cantidad\", facet_row=\"day_of_week\", color=\"day_of_week\",\n",
    "              width=800, height=1400,  color_discrete_sequence = px.colors.qualitative.Prism[1:],\n",
    "              category_orders={\"day_of_week\": [\"Monday\", \"Tuesday\", \"Wednesday\", \"Thursday\",\"Friday\",\"Saturday\",\"Sunday\"]},\n",
    "              labels={\"day_of_week\":\"day\"})\n",
    "fig.update_layout(title_text=\"\",\n",
    "                 showlegend=False)\n",
    "fig.write_image(\"figuras_nuse/riñas_nuse_dia_hora_ts.png\")\n",
    "fig.show()"
   ]
  },
  {
   "cell_type": "markdown",
   "metadata": {},
   "source": [
    "## Rango hora y día de la semana"
   ]
  },
  {
   "cell_type": "code",
   "execution_count": null,
   "metadata": {},
   "outputs": [],
   "source": [
    "subdata = create_Subdata(data,['RANGO_HORA','day_of_week'])"
   ]
  },
  {
   "cell_type": "code",
   "execution_count": null,
   "metadata": {},
   "outputs": [],
   "source": [
    "#Probabilidad conjunta\n",
    "var1='RANGO_HORA'\n",
    "var2='day_of_week'\n",
    "var1_order = [\"0:00 a 3:59\",\"4:00 a 7:59\",\"8:00 a 11:59\",\"12:00 a 15:59\",\"16:00 a 19:59\",\"20:00 a 23:59\"]\n",
    "var2_order = [\"Monday\", \"Tuesday\", \"Wednesday\", \"Thursday\",\"Friday\",\"Saturday\",\"Sunday\"]\n",
    "bubbles_figure_probabilities(subdata,var1,var2, var1_order,var2_order,fig_name=\"riñas_nuse_rango_hora_dia_conjunta.png\")"
   ]
  },
  {
   "cell_type": "code",
   "execution_count": null,
   "metadata": {},
   "outputs": [],
   "source": [
    "#Probabilidad condicional\n",
    "var1='RANGO_HORA'\n",
    "var2='day_of_week'\n",
    "var_aux='STR_NUMERO_INTERNO'\n",
    "var1_order = [\"0:00 a 3:59\",\"4:00 a 7:59\",\"8:00 a 11:59\",\"12:00 a 15:59\",\"16:00 a 19:59\",\"20:00 a 23:59\"]\n",
    "var2_order = [\"Monday\", \"Tuesday\", \"Wednesday\", \"Thursday\",\"Friday\",\"Saturday\",\"Sunday\"]\n",
    "table_figure_probabilities(data,var1,var2,var1_order,var2_order,var_aux,fig_name=\"riñas_nuse_rango_hora_dia_condicional_\")"
   ]
  },
  {
   "cell_type": "markdown",
   "metadata": {},
   "source": [
    "## Rango hora y día de la semana extendido"
   ]
  },
  {
   "cell_type": "code",
   "execution_count": null,
   "metadata": {},
   "outputs": [],
   "source": [
    "subdata = create_Subdata(data,['RANGO_HORA','DIA_EXTENDIDO'])"
   ]
  },
  {
   "cell_type": "code",
   "execution_count": null,
   "metadata": {},
   "outputs": [],
   "source": [
    "#Probabilidad conjunta\n",
    "var1='RANGO_HORA'\n",
    "var2='DIA_EXTENDIDO'\n",
    "var1_order = [\"0:00 a 3:59\",\"4:00 a 7:59\",\"8:00 a 11:59\",\"12:00 a 15:59\",\"16:00 a 19:59\",\"20:00 a 23:59\"]\n",
    "var2_order = [\"Monday\", \"Tuesday\", \"Wednesday\", \"Thursday\",\"Friday\",\"Saturday\",\"Sunday\"]\n",
    "bubbles_figure_probabilities(subdata,var1,var2, var1_order,var2_order,fig_name=\"riñas_nuse_rango_hora_dia_extendido_conjunta.png\")"
   ]
  },
  {
   "cell_type": "code",
   "execution_count": null,
   "metadata": {},
   "outputs": [],
   "source": [
    "#Probabilidad condicional\n",
    "var1='RANGO_HORA'\n",
    "var2='DIA_EXTENDIDO'\n",
    "var_aux='STR_NUMERO_INTERNO'\n",
    "var1_order = [\"4:00 a 7:59\",\"8:00 a 11:59\",\"12:00 a 15:59\",\"16:00 a 19:59\",\"20:00 a 23:59\",\"0:00 a 3:59\"]\n",
    "var2_order = [\"Monday\", \"Tuesday\", \"Wednesday\", \"Thursday\",\"Friday\",\"Saturday\",\"Sunday\"]\n",
    "table_figure_probabilities(data,var1,var2,var1_order,var2_order,var_aux,fig_name=\"riñas_nuse_rango_hora_dia_extendido_condicional_\")"
   ]
  },
  {
   "cell_type": "markdown",
   "metadata": {},
   "source": [
    "## Mes y día de la semana"
   ]
  },
  {
   "cell_type": "code",
   "execution_count": null,
   "metadata": {},
   "outputs": [],
   "source": [
    "subdata = create_Subdata(data,['MES','day_of_week'])"
   ]
  },
  {
   "cell_type": "code",
   "execution_count": null,
   "metadata": {
    "scrolled": true
   },
   "outputs": [],
   "source": [
    "#Probabilidad conjunta\n",
    "var1='MES'\n",
    "var2='day_of_week'\n",
    "var1_order = []\n",
    "var2_order = [\"Monday\", \"Tuesday\", \"Wednesday\", \"Thursday\",\"Friday\",\"Saturday\",\"Sunday\"]\n",
    "bubbles_figure_probabilities(subdata,var1,var2, var1_order,var2_order,fig_name=\"riñas_nuse_mes_dia_conjunta.png\")"
   ]
  },
  {
   "cell_type": "code",
   "execution_count": null,
   "metadata": {},
   "outputs": [],
   "source": [
    "#Probabilidad condicional\n",
    "var1='MES'\n",
    "var2='day_of_week'\n",
    "var_aux='STR_NUMERO_INTERNO'\n",
    "var1_order = []\n",
    "var2_order = [\"Monday\", \"Tuesday\", \"Wednesday\", \"Thursday\",\"Friday\",\"Saturday\",\"Sunday\"]\n",
    "table_figure_probabilities(data,var1,var2,var1_order,var2_order,var_aux,fig_name=\"riñas_nuse_mes_dia_condicional_\")"
   ]
  },
  {
   "cell_type": "markdown",
   "metadata": {},
   "source": [
    "## Mes y día de la semana extendido"
   ]
  },
  {
   "cell_type": "code",
   "execution_count": null,
   "metadata": {},
   "outputs": [],
   "source": [
    "subdata = create_Subdata(data,['MES','DIA_EXTENDIDO'])"
   ]
  },
  {
   "cell_type": "code",
   "execution_count": null,
   "metadata": {
    "scrolled": true
   },
   "outputs": [],
   "source": [
    "#Probabilidad conjunta\n",
    "var1='MES'\n",
    "var2='DIA_EXTENDIDO'\n",
    "var1_order = []\n",
    "var2_order = [\"Monday\", \"Tuesday\", \"Wednesday\", \"Thursday\",\"Friday\",\"Saturday\",\"Sunday\"]\n",
    "bubbles_figure_probabilities(subdata,var1,var2, var1_order,var2_order,fig_name=\"riñas_nuse_mes_dia_extendido_conjunta.png\")"
   ]
  },
  {
   "cell_type": "code",
   "execution_count": null,
   "metadata": {
    "scrolled": true
   },
   "outputs": [],
   "source": [
    "#Probabilidad condicional\n",
    "var1='MES'\n",
    "var2='DIA_EXTENDIDO'\n",
    "var_aux='STR_NUMERO_INTERNO'\n",
    "var1_order = []\n",
    "var2_order = [\"Monday\", \"Tuesday\", \"Wednesday\", \"Thursday\",\"Friday\",\"Saturday\",\"Sunday\"]\n",
    "table_figure_probabilities(data,var1,var2,var1_order,var2_order,var_aux,fig_name=\"riñas_nuse_mes_dia_extendido_condicional_\")"
   ]
  },
  {
   "cell_type": "markdown",
   "metadata": {},
   "source": [
    "## Mes y año"
   ]
  },
  {
   "cell_type": "code",
   "execution_count": null,
   "metadata": {},
   "outputs": [],
   "source": [
    "subdata = create_Subdata(data2018,['MES','ANIO'])"
   ]
  },
  {
   "cell_type": "code",
   "execution_count": null,
   "metadata": {
    "scrolled": true
   },
   "outputs": [],
   "source": [
    "#Probabilidad conjunta\n",
    "var1='MES'\n",
    "var2='ANIO'\n",
    "var1_order = []\n",
    "var2_order = []\n",
    "bubbles_figure_probabilities(subdata,var1,var2, var1_order,var2_order,fig_name=\"riñas_nuse_mes_año_conjunta.png\")"
   ]
  },
  {
   "cell_type": "code",
   "execution_count": null,
   "metadata": {
    "scrolled": true
   },
   "outputs": [],
   "source": [
    "#Probabilidad condicional\n",
    "var1='ANIO'\n",
    "var2='MES'\n",
    "var_aux='STR_NUMERO_INTERNO'\n",
    "var1_order = []\n",
    "var2_order = []\n",
    "table_figure_probabilities(data2018,var1,var2,var1_order,var2_order,var_aux,fig_name=\"riñas_nuse_mes_año_condicional_\")"
   ]
  },
  {
   "cell_type": "markdown",
   "metadata": {},
   "source": [
    "## Localidades y rango hora"
   ]
  },
  {
   "cell_type": "code",
   "execution_count": null,
   "metadata": {},
   "outputs": [],
   "source": [
    "subdata = create_Subdata(data,['LOCALIDAD','RANGO_HORA'])"
   ]
  },
  {
   "cell_type": "code",
   "execution_count": null,
   "metadata": {
    "scrolled": true
   },
   "outputs": [],
   "source": [
    "#Probabilidad conjunta\n",
    "var1='LOCALIDAD'\n",
    "var2='RANGO_HORA'\n",
    "var1_order = []\n",
    "var2_order = [\"0:00 a 3:59\",\"4:00 a 7:59\",\"8:00 a 11:59\",\"12:00 a 15:59\",\"16:00 a 19:59\",\"20:00 a 23:59\"]\n",
    "bubbles_figure_probabilities(subdata,var1,var2, var1_order,var2_order,fig_name=\"riñas_nuse_localidad_rango_hora_conjunta.png\")"
   ]
  },
  {
   "cell_type": "code",
   "execution_count": null,
   "metadata": {
    "scrolled": true
   },
   "outputs": [],
   "source": [
    "#Probabilidad condicional\n",
    "var1='LOCALIDAD'\n",
    "var2='RANGO_HORA'\n",
    "var_aux='STR_NUMERO_INTERNO'\n",
    "var1_order = []\n",
    "var2_order = [\"0:00 a 3:59\",\"4:00 a 7:59\",\"8:00 a 11:59\",\"12:00 a 15:59\",\"16:00 a 19:59\",\"20:00 a 23:59\"]\n",
    "table_figure_probabilities(data,var1,var2,var1_order,var2_order,var_aux,fig_name=\"riñas_nuse_localidad_rango_hora_condicional_\")"
   ]
  },
  {
   "cell_type": "markdown",
   "metadata": {},
   "source": [
    "## Localidades y día de la semana"
   ]
  },
  {
   "cell_type": "code",
   "execution_count": null,
   "metadata": {},
   "outputs": [],
   "source": [
    "subdata = create_Subdata(data,['LOCALIDAD','day_of_week'])"
   ]
  },
  {
   "cell_type": "code",
   "execution_count": null,
   "metadata": {
    "scrolled": true
   },
   "outputs": [],
   "source": [
    "#Probabilidad conjunta\n",
    "var1='LOCALIDAD'\n",
    "var2='day_of_week'\n",
    "var1_order = []\n",
    "var2_order = [\"Monday\", \"Tuesday\", \"Wednesday\", \"Thursday\",\"Friday\",\"Saturday\",\"Sunday\"]\n",
    "bubbles_figure_probabilities(subdata,var1,var2, var1_order,var2_order,fig_name=\"riñas_nuse_localidad_dia_conjunta.png\")"
   ]
  },
  {
   "cell_type": "code",
   "execution_count": null,
   "metadata": {
    "scrolled": true
   },
   "outputs": [],
   "source": [
    "#Probabilidad condicional\n",
    "var1='LOCALIDAD'\n",
    "var2='day_of_week'\n",
    "var_aux='STR_NUMERO_INTERNO'\n",
    "var1_order = []\n",
    "var2_order = [\"Monday\", \"Tuesday\", \"Wednesday\", \"Thursday\",\"Friday\",\"Saturday\",\"Sunday\"]\n",
    "table_figure_probabilities(data,var1,var2,var1_order,var2_order,var_aux,fig_name=\"riñas_nuse_localidad_dia_condicional_\")"
   ]
  },
  {
   "cell_type": "markdown",
   "metadata": {},
   "source": [
    "## Localidades y día extendido"
   ]
  },
  {
   "cell_type": "code",
   "execution_count": null,
   "metadata": {},
   "outputs": [],
   "source": [
    "subdata = create_Subdata(data,['LOCALIDAD','DIA_EXTENDIDO'])"
   ]
  },
  {
   "cell_type": "code",
   "execution_count": null,
   "metadata": {
    "scrolled": true
   },
   "outputs": [],
   "source": [
    "#Probabilidad conjunta\n",
    "var1='LOCALIDAD'\n",
    "var2='DIA_EXTENDIDO'\n",
    "var1_order = []\n",
    "var2_order = [\"Monday\", \"Tuesday\", \"Wednesday\", \"Thursday\",\"Friday\",\"Saturday\",\"Sunday\"]\n",
    "bubbles_figure_probabilities(subdata,var1,var2, var1_order,var2_order,fig_name=\"riñas_nuse_localidad_dia_extendido_conjunta.png\")"
   ]
  },
  {
   "cell_type": "code",
   "execution_count": null,
   "metadata": {},
   "outputs": [],
   "source": [
    "#Probabilidad condicional\n",
    "var1='LOCALIDAD'\n",
    "var2='DIA_EXTENDIDO'\n",
    "var_aux='STR_NUMERO_INTERNO'\n",
    "var1_order = []\n",
    "var2_order = [\"Monday\", \"Tuesday\", \"Wednesday\", \"Thursday\",\"Friday\",\"Saturday\",\"Sunday\"]\n",
    "table_figure_probabilities(data,var1,var2,var1_order,var2_order,var_aux,fig_name=\"riñas_nuse_localidad_dia_extendido_condicional_\")"
   ]
  },
  {
   "cell_type": "markdown",
   "metadata": {},
   "source": [
    "## Localidades y mes"
   ]
  },
  {
   "cell_type": "code",
   "execution_count": null,
   "metadata": {},
   "outputs": [],
   "source": [
    "subdata = create_Subdata(data,['LOCALIDAD','MES'])"
   ]
  },
  {
   "cell_type": "code",
   "execution_count": null,
   "metadata": {
    "scrolled": true
   },
   "outputs": [],
   "source": [
    "#Probabilidad conjunta\n",
    "var1='LOCALIDAD'\n",
    "var2='MES'\n",
    "var1_order = []\n",
    "var2_order = []\n",
    "bubbles_figure_probabilities(subdata,var1,var2, var1_order,var2_order,fig_name=\"riñas_nuse_localidad_mes_conjunta.png\")"
   ]
  },
  {
   "cell_type": "code",
   "execution_count": null,
   "metadata": {},
   "outputs": [],
   "source": [
    "#Probabilidad condicional\n",
    "var1='LOCALIDAD'\n",
    "var2='MES'\n",
    "var_aux='STR_NUMERO_INTERNO'\n",
    "var1_order = []\n",
    "var2_order = []\n",
    "table_figure_probabilities(data,var1,var2,var1_order,var2_order,var_aux,fig_name=\"riñas_nuse_localidad_mes_condicional_\")"
   ]
  },
  {
   "cell_type": "code",
   "execution_count": null,
   "metadata": {},
   "outputs": [],
   "source": []
  }
 ],
 "metadata": {
  "kernelspec": {
   "display_name": "Python 3",
   "language": "python",
   "name": "python3"
  },
  "language_info": {
   "codemirror_mode": {
    "name": "ipython",
    "version": 3
   },
   "file_extension": ".py",
   "mimetype": "text/x-python",
   "name": "python",
   "nbconvert_exporter": "python",
   "pygments_lexer": "ipython3",
   "version": "3.7.2"
  }
 },
 "nbformat": 4,
 "nbformat_minor": 2
}
