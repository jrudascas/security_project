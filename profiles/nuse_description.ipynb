{
 "cells": [
  {
   "cell_type": "markdown",
   "metadata": {},
   "source": [
    "# Análisis Exploratorio\n",
    "\n",
    "    Fuente de información: NUSE\n",
    "    Archivos: \n",
    "    NUSE 934 611(M) 2017-2018.dsv\n",
    "    NUSE 934-611-611M ENERO2019.csv"
   ]
  },
  {
   "cell_type": "code",
   "execution_count": null,
   "metadata": {},
   "outputs": [],
   "source": [
    "import pandas as pd\n",
    "import pandas_profiling\n",
    "import numpy as np\n",
    "import matplotlib.pyplot as plt\n",
    "from IPython.display import display, HTML\n",
    "import plotly.express as px\n",
    "import plotly.graph_objects as go\n",
    "import seaborn as sns\n",
    "import calendar\n",
    "pd.set_option('display.max_colwidth', -1)\n",
    "pd.set_option('display.max_columns', None)  \n",
    "from wordcloud import WordCloud, STOPWORDS"
   ]
  },
  {
   "cell_type": "markdown",
   "metadata": {},
   "source": [
    "# Methods to visualize analysis results"
   ]
  },
  {
   "cell_type": "code",
   "execution_count": null,
   "metadata": {},
   "outputs": [],
   "source": [
    "#Create folder to save figures\n",
    "import os\n",
    "\n",
    "if not os.path.exists(\"figuras_nuse\"):\n",
    "    os.mkdir(\"figuras_nuse\")"
   ]
  },
  {
   "cell_type": "code",
   "execution_count": null,
   "metadata": {},
   "outputs": [],
   "source": [
    "def print_Data(df,sort_criteria):\n",
    "    if len(df)>10:\n",
    "        topdata=(df.sort_values(by=[sort_criteria],ascending=False)[:5])\n",
    "        taildata = (df.sort_values(by=[sort_criteria],ascending=True)[:5])\n",
    "        print(\"Top values\")\n",
    "        display(topdata.style.hide_index())\n",
    "        print(\"Bottom values\")\n",
    "        display(taildata.style.hide_index())\n",
    "    else:\n",
    "        display(df.style.hide_index())"
   ]
  },
  {
   "cell_type": "code",
   "execution_count": null,
   "metadata": {},
   "outputs": [],
   "source": [
    "def basic_Description(df,sort_criteria):\n",
    "    print_Data(df,sort_criteria)\n",
    "    print(\"Statistics\")\n",
    "    display(pd.DataFrame(df.describe()))\n",
    "    sns.boxplot(y=df[sort_criteria])"
   ]
  },
  {
   "cell_type": "code",
   "execution_count": null,
   "metadata": {},
   "outputs": [],
   "source": [
    "def create_Subdata(df,variables_array):\n",
    "    subdata=pd.DataFrame(df.groupby(variables_array).size(),columns=[\"Frecuencia\"]).sort_index().reset_index()\n",
    "    return subdata"
   ]
  },
  {
   "cell_type": "markdown",
   "metadata": {},
   "source": [
    "# Load datasets"
   ]
  },
  {
   "cell_type": "code",
   "execution_count": null,
   "metadata": {},
   "outputs": [],
   "source": [
    "data_location = '/Users/anamaria/Downloads/NUSE 934 611(M) 2017-2018.dsv'\n",
    "data2018=pd.read_csv(data_location,delimiter=\"|\")"
   ]
  },
  {
   "cell_type": "code",
   "execution_count": null,
   "metadata": {},
   "outputs": [],
   "source": [
    "data_location = '/Users/anamaria/Downloads/NUSE 934-611-611M ENERO2019.csv'\n",
    "data2019=pd.read_csv(data_location,delimiter=\";\")"
   ]
  },
  {
   "cell_type": "markdown",
   "metadata": {},
   "source": [
    "## Join datasets"
   ]
  },
  {
   "cell_type": "code",
   "execution_count": null,
   "metadata": {},
   "outputs": [],
   "source": [
    "frames = [data2018, data2019]\n",
    "data = pd.concat(frames)"
   ]
  },
  {
   "cell_type": "markdown",
   "metadata": {},
   "source": [
    "# Basic dataset description"
   ]
  },
  {
   "cell_type": "code",
   "execution_count": null,
   "metadata": {},
   "outputs": [],
   "source": [
    "data.head()"
   ]
  },
  {
   "cell_type": "code",
   "execution_count": null,
   "metadata": {},
   "outputs": [],
   "source": [
    "print(\"Tamaño:\",data.shape)\n",
    "print(\"size: \",data.size)\n",
    "print(\"Porcentaje Celdas Vacias:\",data.isna().mean().mean())\n",
    "print(\"Porcentaje Celdas con valor '-':\",(data == \"-\").mean().mean())\n",
    "print(\"Filas duplicadas\",data.duplicated().sum())"
   ]
  },
  {
   "cell_type": "code",
   "execution_count": null,
   "metadata": {},
   "outputs": [],
   "source": [
    "data.drop_duplicates(inplace=True)"
   ]
  },
  {
   "cell_type": "code",
   "execution_count": null,
   "metadata": {},
   "outputs": [],
   "source": [
    "print(\"Tamaño:\",data.shape)\n",
    "print(\"size: \",data.size)\n",
    "print(\"Porcentaje Celdas Vacias:\",data.isna().mean().mean())\n",
    "print(\"Porcentaje Celdas con valor '-':\",(data == \"-\").mean().mean())\n",
    "print(\"Filas duplicadas\",data.duplicated().sum())"
   ]
  },
  {
   "cell_type": "code",
   "execution_count": null,
   "metadata": {},
   "outputs": [],
   "source": [
    "pd.DataFrame({\"Tipo de dato\":data.dtypes.values,\n",
    "              \"Celdas con valor '-'\":(data == '-').sum().values,\n",
    "             \"Celdas vacías\": data.isna().sum().values},\n",
    "             index=data.columns)"
   ]
  },
  {
   "cell_type": "markdown",
   "metadata": {},
   "source": [
    "# Create aditional variables or convert to another format"
   ]
  },
  {
   "cell_type": "code",
   "execution_count": null,
   "metadata": {},
   "outputs": [],
   "source": [
    "# Fecha to datetime\n",
    "data['FECHA'] =  pd.to_datetime(data['FECHA'])\n",
    "data2018['FECHA'] =  pd.to_datetime(data2018['FECHA'])\n",
    "\n",
    "#Day of week\n",
    "data['day_of_week'] = data[\"FECHA\"].dt.day_name()\n",
    "data2018['day_of_week'] = data2018[\"FECHA\"].dt.day_name()\n",
    "weeks_between = round((data[\"FECHA\"].max()-data[\"FECHA\"].min())/np.timedelta64(1,'W'))\n",
    "\n",
    "#Format 'HORA' field into datetime to proper visualization\n",
    "data['time_stamp']=pd.to_datetime(data[\"HORA\"].astype(str).str.rjust(4,'0'),format= '%H%M').dt.time"
   ]
  },
  {
   "cell_type": "code",
   "execution_count": null,
   "metadata": {},
   "outputs": [],
   "source": [
    "#DIA_EXTENDIDO for all dataset\n",
    "data['DIA_EXTENDIDO'] = data['day_of_week']\n",
    "data.loc[(data.HORA >= 0) & (data.HORA <= 359) & (data.day_of_week == 'Monday'), 'DIA_EXTENDIDO'] = 'Sunday'\n",
    "data.loc[(data.HORA >= 0) & (data.HORA <= 359) & (data.day_of_week == 'Tuesday'), 'DIA_EXTENDIDO'] = 'Monday'\n",
    "data.loc[(data.HORA >= 0) & (data.HORA <= 359) & (data.day_of_week == 'Wednesday'), 'DIA_EXTENDIDO'] = 'Tuesday'\n",
    "data.loc[(data.HORA >= 0) & (data.HORA <= 359) & (data.day_of_week == 'Thursday'), 'DIA_EXTENDIDO'] = 'Wednesday'\n",
    "data.loc[(data.HORA >= 0) & (data.HORA <= 359) & (data.day_of_week == 'Friday'), 'DIA_EXTENDIDO'] = 'Thursday'\n",
    "data.loc[(data.HORA >= 0) & (data.HORA <= 359) & (data.day_of_week == 'Saturday'), 'DIA_EXTENDIDO'] = 'Friday'\n",
    "data.loc[(data.HORA >= 0) & (data.HORA <= 359) & (data.day_of_week == 'Sunday'), 'DIA_EXTENDIDO'] = 'Saturday'"
   ]
  },
  {
   "cell_type": "code",
   "execution_count": null,
   "metadata": {},
   "outputs": [],
   "source": [
    "#DIA_EXTENDIDO just for 2017 and 2018 data\n",
    "data2018['DIA_EXTENDIDO'] = data2018['day_of_week']\n",
    "data2018.loc[(data2018.HORA >= 0) & (data2018.HORA <= 359) & (data2018.day_of_week == 'Monday'), 'DIA_EXTENDIDO'] = 'Sunday'\n",
    "data2018.loc[(data2018.HORA >= 0) & (data2018.HORA <= 359) & (data2018.day_of_week == 'Tuesday'), 'DIA_EXTENDIDO'] = 'Monday'\n",
    "data2018.loc[(data2018.HORA >= 0) & (data2018.HORA <= 359) & (data2018.day_of_week == 'Wednesday'), 'DIA_EXTENDIDO'] = 'Tuesday'\n",
    "data2018.loc[(data2018.HORA >= 0) & (data2018.HORA <= 359) & (data2018.day_of_week == 'Thursday'), 'DIA_EXTENDIDO'] = 'Wednesday'\n",
    "data2018.loc[(data2018.HORA >= 0) & (data2018.HORA <= 359) & (data2018.day_of_week == 'Friday'), 'DIA_EXTENDIDO'] = 'Thursday'\n",
    "data2018.loc[(data2018.HORA >= 0) & (data2018.HORA <= 359) & (data2018.day_of_week == 'Saturday'), 'DIA_EXTENDIDO'] = 'Friday'\n",
    "data2018.loc[(data2018.HORA >= 0) & (data2018.HORA <= 359) & (data2018.day_of_week == 'Sunday'), 'DIA_EXTENDIDO'] = 'Saturday'"
   ]
  },
  {
   "cell_type": "code",
   "execution_count": null,
   "metadata": {},
   "outputs": [],
   "source": [
    "#RANGO_HORA each 4 hours\n",
    "data.loc[(data.HORA >= 0) & (data.HORA <= 359), 'RANGO_HORA'] = '0:00 a 3:59'\n",
    "data.loc[(data.HORA >= 400) & (data.HORA <= 759), 'RANGO_HORA'] = '4:00 a 7:59'\n",
    "data.loc[(data.HORA >= 800) & (data.HORA <= 1159), 'RANGO_HORA'] = '8:00 a 11:59'\n",
    "data.loc[(data.HORA >= 1200) & (data.HORA <= 1559), 'RANGO_HORA'] = '12:00 a 15:59'\n",
    "data.loc[(data.HORA >= 1600) & (data.HORA <= 1959), 'RANGO_HORA'] = '16:00 a 19:59'\n",
    "data.loc[(data.HORA >= 2000) & (data.HORA <= 2359), 'RANGO_HORA'] = '20:00 a 23:59'"
   ]
  },
  {
   "cell_type": "code",
   "execution_count": null,
   "metadata": {},
   "outputs": [],
   "source": [
    "#Select just de data we care\n",
    "data = data.query('TIPO_DETALLE == \"934 - RIÑA\"')\n",
    "data2018 = data2018.query('TIPO_DETALLE == \"934 - RIÑA\"')"
   ]
  },
  {
   "cell_type": "markdown",
   "metadata": {},
   "source": [
    "# Univariate Analysis"
   ]
  },
  {
   "cell_type": "markdown",
   "metadata": {},
   "source": [
    "### Analisis campo 'FECHA' - univariado"
   ]
  },
  {
   "cell_type": "code",
   "execution_count": null,
   "metadata": {},
   "outputs": [],
   "source": [
    "subdata=pd.DataFrame(data.groupby([\"FECHA\"]).size(),columns=[\"Frecuencia\"]).sort_index().reset_index()\n",
    "#topdata=(subdata.sort_values(by=['Frecuencia'],ascending=False)[:10])"
   ]
  },
  {
   "cell_type": "code",
   "execution_count": null,
   "metadata": {},
   "outputs": [],
   "source": [
    "sub = create_Subdata(data,[\"FECHA\"])\n",
    "sub.head()"
   ]
  },
  {
   "cell_type": "code",
   "execution_count": null,
   "metadata": {},
   "outputs": [],
   "source": [
    "basic_Description(sub,'Frecuencia')"
   ]
  },
  {
   "cell_type": "code",
   "execution_count": null,
   "metadata": {},
   "outputs": [],
   "source": [
    "# Bar figure for top frequent values\n",
    "fig = px.bar(topdata, x='Frecuencia', y='FECHA', orientation='h', color = 'FECHA', \n",
    "             color_discrete_sequence = px.colors.qualitative.Prism[2:])\n",
    "fig.update_layout(title_text=\"Top dates of incident reports\",yaxis={\"type\":\"category\"}, showlegend=False)\n",
    "#fig.write_image(\"figuras_nuse/fecha_bar.png\")\n",
    "fig.show()"
   ]
  },
  {
   "cell_type": "markdown",
   "metadata": {},
   "source": [
    "#### Time series riñas"
   ]
  },
  {
   "cell_type": "code",
   "execution_count": null,
   "metadata": {},
   "outputs": [],
   "source": [
    "A=subdata\n",
    "fig = px.line(A, x='FECHA', y='Frecuencia',\n",
    "              color_discrete_sequence = px.colors.qualitative.Prism[1:])\n",
    "fig.update_xaxes(title=\"\")\n",
    "fig.update_layout(\n",
    "    annotations=[\n",
    "        go.layout.Annotation(\n",
    "              x=i[0],\n",
    "              y=i[1],\n",
    "              xref=\"x\",\n",
    "              yref=\"y\",\n",
    "              showarrow=False,\n",
    "              text=str(i[0].date())+\" : \"+str(i[1]),\n",
    "              font=dict(\n",
    "                  family=\"Courier New, monospace\",\n",
    "                  size=16,\n",
    "                  color=\"black\"\n",
    "              ),\n",
    "          ) for i in A.sort_values('Frecuencia').head(1).append(A.sort_values('Frecuencia').tail(4))[['FECHA','Frecuencia']].values\n",
    "    ]        \n",
    ")\n",
    "\n",
    "#fig.write_image(\"figuras_nuse/fecha_riña_ts.png\",width=1000,height=500)\n",
    "fig.show()\n",
    "print(\"Promedio por dia: \",A.mean())\n",
    "print(\"Desviación estandar por dia: \",A.std())"
   ]
  },
  {
   "cell_type": "markdown",
   "metadata": {},
   "source": [
    "#### Bar frequency"
   ]
  },
  {
   "cell_type": "code",
   "execution_count": null,
   "metadata": {},
   "outputs": [],
   "source": [
    "#Bar figure for top frequent values riñas\n",
    "topdata = (subdata.query('TIPO_DETALLE == \"934 - RIÑA\"').sort_values(by=['Cantidad'],ascending=False))[:10]\n",
    "fig = px.bar(topdata, x='Cantidad',y='FECHA', color='FECHA', orientation='h', \n",
    "             color_discrete_sequence = px.colors.qualitative.Prism[2:])\n",
    "fig.update_layout(title_text=\"Top dates of incident reports\",yaxis={\"type\":\"category\"}, showlegend=False)\n",
    "fig.write_image(\"figuras_nuse/fecha_riña_bar.png\")\n",
    "fig.show()"
   ]
  },
  {
   "cell_type": "code",
   "execution_count": null,
   "metadata": {},
   "outputs": [],
   "source": [
    "#Bar figure for top frequent values riñas\n",
    "topdata = (subdata.query('TIPO_DETALLE == \"611M - MALTRATO A MUJER\"').sort_values(by=['Cantidad'],ascending=False))[:10]\n",
    "fig = px.bar(topdata, x='Cantidad', y='FECHA', color='FECHA', orientation='h', color_discrete_sequence = px.colors.qualitative.Prism[2:])\n",
    "fig.update_layout(title_text=\"Top dates of incident reports\",yaxis={\"type\":\"category\"}, showlegend=False)\n",
    "fig.write_image(\"figuras_nuse/fecha_maltrato_mujer_bar.png\")\n",
    "fig.show()"
   ]
  },
  {
   "cell_type": "markdown",
   "metadata": {},
   "source": [
    "### Analisis variable aux 'day_of_week' - univariado"
   ]
  },
  {
   "cell_type": "code",
   "execution_count": null,
   "metadata": {},
   "outputs": [],
   "source": [
    "#Statistical description\n",
    "pd.DataFrame(subdata.describe())"
   ]
  },
  {
   "cell_type": "code",
   "execution_count": null,
   "metadata": {},
   "outputs": [],
   "source": [
    "subdata=pd.DataFrame(data.groupby([\"day_of_week\",\"TIPO_DETALLE\"]).size(),columns=[\"Frecuencia\"]).sort_index().reset_index()"
   ]
  },
  {
   "cell_type": "code",
   "execution_count": null,
   "metadata": {},
   "outputs": [],
   "source": [
    "#Probability riñas reports by week day\n",
    "subdata_riña = pd.DataFrame(subdata.query('TIPO_DETALLE == \"934 - RIÑA\"'))\n",
    "\n",
    "A=subdata_riña\n",
    "A['Porcentaje']=A['Frecuencia']/A['Frecuencia'].sum()*100\n",
    "fig=px.bar(A,x='Porcentaje',color='day_of_week',y='day_of_week',orientation='h',\n",
    "           category_orders={\"day_of_week\": [\"Monday\", \"Tuesday\", \"Wednesday\", \"Thursday\",\"Friday\",\"Saturday\",\"Sunday\"]},\n",
    "           color_discrete_sequence = px.colors.qualitative.Prism[1:])\n",
    "fig.update(layout_showlegend=False)\n",
    "fig.update_layout(yaxis_title='Día de la semana')\n",
    "\n",
    "fig.add_trace(go.Scatter(\n",
    "    x=[A.Porcentaje.mean()]*2,\n",
    "    y=['Monday','Sunday'],\n",
    "    text=['',\n",
    "          'Media='+str(round(A.Frecuencia.mean()/weeks_between,2)),\n",
    "          ],\n",
    "    line=dict(color='black', width=2),\n",
    "    mode=\"text+lines\",\n",
    "))\n",
    "fig.add_trace(go.Scatter(\n",
    "    x=[A.Porcentaje.mean()+A.Porcentaje.std()]*2,\n",
    "    y=['Monday','Sunday'],\n",
    "    text=['',\n",
    "          'std='+str(round(A.Frecuencia.std()/weeks_between,2)),\n",
    "          ],\n",
    "    line=dict(color='black', width=2,\n",
    "                              dash='dash'),\n",
    "    mode=\"text+lines\",\n",
    "))\n",
    "fig.add_trace(go.Scatter(\n",
    "    x=[A.Porcentaje.mean()-A.Porcentaje.std()]*2,\n",
    "    y=['Monday','Sunday'],\n",
    "    text=['',\n",
    "          'std='+str(round(A.Frecuencia.std()/weeks_between,2)),\n",
    "          ],\n",
    "    line=dict(color='black', width=2,\n",
    "                              dash='dash'),\n",
    "    mode=\"text+lines\",\n",
    "))\n",
    "#fig.write_image(\"figuras_nuse/nuse_dia_prob_riña.png\",width=1000,height=500)\n",
    "fig.show()\n",
    "\n"
   ]
  },
  {
   "cell_type": "code",
   "execution_count": null,
   "metadata": {},
   "outputs": [],
   "source": [
    "#Probability maltrato mujer reports by week day\n",
    "subdata_maltrato_mujer = pd.DataFrame(subdata.query('TIPO_DETALLE == \"611M - MALTRATO A MUJER\"'))\n",
    "\n",
    "A=subdata_maltrato_mujer\n",
    "A['Porcentaje']=A['Frecuencia']/A['Frecuencia'].sum()*100\n",
    "fig=px.bar(A,x='Porcentaje',color='day_of_week',y='day_of_week',orientation='h',\n",
    "           category_orders={\"day_of_week\": [\"Monday\", \"Tuesday\", \"Wednesday\", \"Thursday\",\"Friday\",\"Saturday\",\"Sunday\"]},\n",
    "           color_discrete_sequence = px.colors.qualitative.Prism[1:])\n",
    "fig.update(layout_showlegend=False)\n",
    "fig.update_layout(yaxis_title='Día de la semana')\n",
    "\n",
    "fig.add_trace(go.Scatter(\n",
    "    x=[A.Porcentaje.mean()]*2,\n",
    "    y=['Monday','Sunday'],\n",
    "    text=['',\n",
    "          'Media='+str(round(A.Frecuencia.mean()/weeks_between,2)),\n",
    "          ],\n",
    "    line=dict(color='black', width=2),\n",
    "    mode=\"text+lines\",\n",
    "))\n",
    "fig.add_trace(go.Scatter(\n",
    "    x=[A.Porcentaje.mean()+A.Porcentaje.std()]*2,\n",
    "    y=['Monday','Sunday'],\n",
    "    text=['',\n",
    "          'std='+str(round(A.Frecuencia.std()/weeks_between,2)),\n",
    "          ],\n",
    "    line=dict(color='black', width=2,\n",
    "                              dash='dash'),\n",
    "    mode=\"text+lines\",\n",
    "))\n",
    "fig.add_trace(go.Scatter(\n",
    "    x=[A.Porcentaje.mean()-A.Porcentaje.std()]*2,\n",
    "    y=['Monday','Sunday'],\n",
    "    text=['',\n",
    "          'std='+str(round(A.Frecuencia.std()/weeks_between,2)),\n",
    "          ],\n",
    "    line=dict(color='black', width=2,\n",
    "                              dash='dash'),\n",
    "    mode=\"text+lines\",\n",
    "))\n",
    "#fig.write_image(\"figuras_nuse/nuse_dia_prob_maltrato_mujer.png\",width=1000,height=500)\n",
    "fig.show()"
   ]
  },
  {
   "cell_type": "code",
   "execution_count": null,
   "metadata": {},
   "outputs": [],
   "source": [
    "#Probability maltrato reports by week day\n",
    "subdata_maltrato = pd.DataFrame(subdata.query('TIPO_DETALLE == \"611 - MALTRATO\"'))\n",
    "\n",
    "A=subdata_maltrato\n",
    "A['Porcentaje']=A['Frecuencia']/A['Frecuencia'].sum()*100\n",
    "fig=px.bar(A,x='Porcentaje',color='day_of_week',y='day_of_week',orientation='h',\n",
    "           category_orders={\"day_of_week\": [\"Monday\", \"Tuesday\", \"Wednesday\", \"Thursday\",\"Friday\",\"Saturday\",\"Sunday\"]},\n",
    "           color_discrete_sequence = px.colors.qualitative.Prism[1:])\n",
    "fig.update(layout_showlegend=False)\n",
    "fig.update_layout(yaxis_title='Día de la semana')\n",
    "\n",
    "fig.add_trace(go.Scatter(\n",
    "    x=[A.Porcentaje.mean()]*2,\n",
    "    y=['Monday','Sunday'],\n",
    "    text=['Media='+str(round(A.Frecuencia.mean()/weeks_between,2)),\n",
    "          '',\n",
    "          ],\n",
    "    line=dict(color='black', width=2),\n",
    "    mode=\"text+lines\",\n",
    "))\n",
    "fig.add_trace(go.Scatter(\n",
    "    x=[A.Porcentaje.mean()+A.Porcentaje.std()]*2,\n",
    "    y=['Monday','Sunday'],\n",
    "    text=['',\n",
    "          'std',\n",
    "          ],\n",
    "    line=dict(color='black', width=2,\n",
    "                              dash='dash'),\n",
    "    mode=\"text+lines\",\n",
    "))\n",
    "fig.add_trace(go.Scatter(\n",
    "    x=[A.Porcentaje.mean()-A.Porcentaje.std()]*2,\n",
    "    y=['Monday','Sunday'],\n",
    "    text=['',\n",
    "          'std='+str(round(A.Frecuencia.std()/weeks_between,2)),\n",
    "          ],\n",
    "    line=dict(color='black', width=2,\n",
    "                              dash='dash'),\n",
    "    mode=\"text+lines\",\n",
    "))\n",
    "#fig.write_image(\"figuras_nuse/nuse_dia_prob_maltrato.png\",width=1000,height=500)\n",
    "fig.show()"
   ]
  },
  {
   "cell_type": "markdown",
   "metadata": {},
   "source": [
    "### Analisis variable aux 'day_of_week' vs tipo incidente- bivariado"
   ]
  },
  {
   "cell_type": "code",
   "execution_count": null,
   "metadata": {},
   "outputs": [],
   "source": [
    "subdata=pd.DataFrame(data.groupby([\"day_of_week\",\"TIPO_DETALLE\"]).size(),columns=[\"Cantidad\"]).sort_index().reset_index()"
   ]
  },
  {
   "cell_type": "code",
   "execution_count": null,
   "metadata": {},
   "outputs": [],
   "source": [
    "#Scatter plot all incidents\n",
    "fig = px.scatter(subdata, x='day_of_week', y='Cantidad', color='TIPO_DETALLE',size=\"Cantidad\",size_max=50,\n",
    "              category_orders={\"day_of_week\": [\"Monday\", \"Tuesday\", \"Wednesday\", \"Thursday\",\"Friday\",\"Saturday\",\"Sunday\"]},\n",
    "              color_discrete_sequence = px.colors.qualitative.Prism[3:], labels={\"TIPO_DETALLE\":\"tipo\"})\n",
    "fig.update_layout(title_text=\"Incidentes por día de la semana\", legend_orientation='h',\n",
    "                  xaxis_rangeslider_visible=False)\n",
    "fig.update_xaxes(title=\"\")\n",
    "fig.write_image(\"figuras_nuse/dia_incidentes_scatter.png\")\n",
    "fig.show()"
   ]
  },
  {
   "cell_type": "code",
   "execution_count": null,
   "metadata": {},
   "outputs": [],
   "source": [
    "#Incident reports by week day - maltrato a mujer\n",
    "subdata=pd.DataFrame(data.groupby([\"day_of_week\",\"ANIO\",\"TIPO_DETALLE\"]).size(),columns=[\"Cantidad\"]).sort_index().reset_index()\n",
    "fig = px.bar(subdata.query('TIPO_DETALLE == TIPO_DETALLE == \"934 - RIÑA\"'), x='ANIO', y='Cantidad', color = 'day_of_week', barmode = 'group',\n",
    "            category_orders={\"day_of_week\": [\"Monday\", \"Tuesday\", \"Wednesday\", \"Thursday\",\"Friday\",\"Saturday\",\"Sunday\"]},\n",
    "            color_discrete_sequence = px.colors.qualitative.Prism[2:])\n",
    "fig.update_layout(title_text=\"Incident reports by day of week\")\n",
    "fig.write_image(\"figuras_nuse/day_week_year_riña_bar.png\")\n",
    "fig.show()"
   ]
  },
  {
   "cell_type": "code",
   "execution_count": null,
   "metadata": {},
   "outputs": [],
   "source": [
    "#Incident reports by week day - maltrato a mujer\n",
    "subdata=pd.DataFrame(data.groupby([\"day_of_week\",\"ANIO\",\"TIPO_DETALLE\"]).size(),columns=[\"Cantidad\"]).sort_index().reset_index()\n",
    "fig = px.bar(subdata.query('TIPO_DETALLE == \"611M - MALTRATO A MUJER\"'), x='ANIO', y='Cantidad', color = 'day_of_week', barmode = 'group',\n",
    "            category_orders={\"day_of_week\": [\"Monday\", \"Tuesday\", \"Wednesday\", \"Thursday\",\"Friday\",\"Saturday\",\"Sunday\"]},\n",
    "            color_discrete_sequence = px.colors.qualitative.Prism[2:])\n",
    "fig.update_layout(title_text=\"Incident reports by day of week\")\n",
    "fig.write_image(\"figuras_nuse/day_week_year_maltrato_mujer_bar.png\")\n",
    "fig.show()"
   ]
  },
  {
   "cell_type": "markdown",
   "metadata": {},
   "source": [
    "### Día extendido"
   ]
  },
  {
   "cell_type": "code",
   "execution_count": null,
   "metadata": {},
   "outputs": [],
   "source": [
    "subdata=pd.DataFrame(data.groupby([\"DIA_EXTENDIDO\",\"TIPO_DETALLE\"]).size(),columns=[\"Frecuencia\"]).sort_index().reset_index()"
   ]
  },
  {
   "cell_type": "code",
   "execution_count": null,
   "metadata": {},
   "outputs": [],
   "source": [
    "#Probability riñas reports by week day\n",
    "subdata_riña = pd.DataFrame(subdata.query('TIPO_DETALLE == \"934 - RIÑA\"'))\n",
    "\n",
    "A=subdata_riña\n",
    "A['Porcentaje']=A['Frecuencia']/A['Frecuencia'].sum()*100\n",
    "fig=px.bar(A,x='Porcentaje',color='DIA_EXTENDIDO',y='DIA_EXTENDIDO',orientation='h',\n",
    "           category_orders={\"DIA_EXTENDIDO\": [\"Monday\", \"Tuesday\", \"Wednesday\", \"Thursday\",\"Friday\",\"Saturday\",\"Sunday\"]},\n",
    "           color_discrete_sequence = px.colors.qualitative.Prism[1:])\n",
    "fig.update(layout_showlegend=False)\n",
    "fig.update_layout(yaxis_title='Día de la semana (extendido)')\n",
    "\n",
    "fig.add_trace(go.Scatter(\n",
    "    x=[A.Porcentaje.mean()]*2,\n",
    "    y=['Monday','Sunday'],\n",
    "    text=['',\n",
    "          'Media='+str(round(A.Frecuencia.mean()/weeks_between,2)),\n",
    "          ],\n",
    "    line=dict(color='black', width=2),\n",
    "    mode=\"text+lines\",\n",
    "))\n",
    "fig.add_trace(go.Scatter(\n",
    "    x=[A.Porcentaje.mean()+A.Porcentaje.std()]*2,\n",
    "    y=['Monday','Sunday'],\n",
    "    text=['',\n",
    "          'std='+str(round(A.Frecuencia.std()/weeks_between,2)),\n",
    "          ],\n",
    "    line=dict(color='black', width=2,\n",
    "                              dash='dash'),\n",
    "    mode=\"text+lines\",\n",
    "))\n",
    "fig.add_trace(go.Scatter(\n",
    "    x=[A.Porcentaje.mean()-A.Porcentaje.std()]*2,\n",
    "    y=['Monday','Sunday'],\n",
    "    text=['',\n",
    "          'std='+str(round(A.Frecuencia.std()/weeks_between,2)),\n",
    "          ],\n",
    "    line=dict(color='black', width=2,\n",
    "                              dash='dash'),\n",
    "    mode=\"text+lines\",\n",
    "))\n",
    "fig.write_image(\"figuras_nuse/nuse_dia_extendido_prob_riña.png\",width=1000,height=500)\n",
    "fig.show()\n"
   ]
  },
  {
   "cell_type": "markdown",
   "metadata": {},
   "source": [
    "### Análisis campo 'HORA'"
   ]
  },
  {
   "cell_type": "code",
   "execution_count": null,
   "metadata": {},
   "outputs": [],
   "source": [
    "subdata=pd.DataFrame(data.groupby([\"HORA\"]).size(),columns=[\"Frecuencia\"]).sort_index().reset_index()\n",
    "topdata=(subdata.sort_values(by=['Frecuencia'],ascending=False)[:10])"
   ]
  },
  {
   "cell_type": "code",
   "execution_count": null,
   "metadata": {},
   "outputs": [],
   "source": [
    "print_Data(subdata)\n",
    "sns.boxplot(y=subdata.Frecuencia)\n",
    "pd.DataFrame(np.around([subdata.Frecuencia.mean(),subdata.Frecuencia.std(),subdata.Frecuencia.max(),subdata.Frecuencia. min()],2),\n",
    "             index=['Media',\"Desviación Estandar\",\"Máximo\",\"Mínimo\"],columns=[\"\"])"
   ]
  },
  {
   "cell_type": "code",
   "execution_count": null,
   "metadata": {},
   "outputs": [],
   "source": [
    "#Statistical description\n",
    "pd.DataFrame(subdata.describe())"
   ]
  },
  {
   "cell_type": "markdown",
   "metadata": {},
   "source": [
    "### Rango hora"
   ]
  },
  {
   "cell_type": "markdown",
   "metadata": {},
   "source": [
    "### Análisis campo 'HORA' - tipo incidente: bivariado\n",
    "#### Time series"
   ]
  },
  {
   "cell_type": "code",
   "execution_count": null,
   "metadata": {},
   "outputs": [],
   "source": [
    "##Time series\n",
    "subdata=pd.DataFrame(data.groupby([\"time_stamp\"]).size(),columns=[\"Cantidad\"]).sort_index().reset_index()\n",
    "fig = px.line(subdata, x='time_stamp', y='Cantidad',\n",
    "              color_discrete_sequence = px.colors.qualitative.Prism[1:])\n",
    "fig.update_layout(title_text=\"Incident reports time series - time (24 hr format)\",\n",
    "                  xaxis_rangeslider_visible=True)\n",
    "fig.write_image(\"figuras_nuse/hora_ts.png\")\n",
    "fig.show()"
   ]
  },
  {
   "cell_type": "code",
   "execution_count": null,
   "metadata": {},
   "outputs": [],
   "source": [
    "subdata=pd.DataFrame(data.groupby([\"time_stamp\",\"TIPO_DETALLE\"]).size(),columns=[\"Frecuencia\"]).sort_index().reset_index()"
   ]
  },
  {
   "cell_type": "code",
   "execution_count": null,
   "metadata": {},
   "outputs": [],
   "source": [
    "#Riña\n",
    "A=subdata[subdata.TIPO_DETALLE == '934 - RIÑA']\n",
    "fig = px.line(A, x='time_stamp', y='Frecuencia', color='TIPO_DETALLE',\n",
    "              color_discrete_sequence = px.colors.qualitative.Prism[1:], labels={\"TIPO_DETALLE\":\"tipo\"})\n",
    "fig.update_xaxes(title=\"\")\n",
    "fig.update_layout(\n",
    "    annotations=[\n",
    "        go.layout.Annotation(\n",
    "              x=i[0],\n",
    "              y=i[1],\n",
    "              xref=\"x\",\n",
    "              yref=\"y\",\n",
    "              showarrow=False,\n",
    "              text=str(i[0])+\" : \"+str(i[1]),\n",
    "              font=dict(\n",
    "                  family=\"Courier New, monospace\",\n",
    "                  size=16,\n",
    "                  color=\"black\"\n",
    "              ),\n",
    "          ) for i in A.sort_values('Frecuencia').head(1).append(A.sort_values('Frecuencia').tail(1))[['time_stamp','Frecuencia']].values\n",
    "    ]\n",
    "   \n",
    "        \n",
    ")\n",
    "\n",
    "#fig.write_image(\"figuras_nuse/nuse_hora_probab_riña_ts.png\",width=1000,height=500)\n",
    "fig.show()\n",
    "print(\"Promedio por hora: \",A.mean())\n",
    "print(\"Desviación estandar por hora: \",A.std())"
   ]
  },
  {
   "cell_type": "code",
   "execution_count": null,
   "metadata": {},
   "outputs": [],
   "source": [
    "#Maltrato mujer\n",
    "A=subdata[subdata.TIPO_DETALLE == '611M - MALTRATO A MUJER']\n",
    "fig = px.line(A, x='time_stamp', y='Frecuencia', color='TIPO_DETALLE',\n",
    "              color_discrete_sequence = px.colors.qualitative.Prism[0:], labels={\"TIPO_DETALLE\":\"tipo\"})\n",
    "fig.update_xaxes(title=\"\")\n",
    "fig.update_layout(\n",
    "    annotations=[\n",
    "        go.layout.Annotation(\n",
    "              x=i[0],\n",
    "              y=i[1],\n",
    "              xref=\"x\",\n",
    "              yref=\"y\",\n",
    "              showarrow=False,\n",
    "              text=str(i[0])+\" : \"+str(i[1]),\n",
    "              font=dict(\n",
    "                  family=\"Courier New, monospace\",\n",
    "                  size=16,\n",
    "                  color=\"black\"\n",
    "              ),\n",
    "          ) for i in A.sort_values('Frecuencia').head(1).append(A.sort_values('Frecuencia').tail(1))[['time_stamp','Frecuencia']].values\n",
    "    ]\n",
    "   \n",
    "        \n",
    ")\n",
    "\n",
    "fig.write_image(\"figuras_nuse/nuse_hora_maltrato_mujer_ts.png\",width=1000,height=500)\n",
    "fig.show()\n",
    "print(\"Promedio por hora: \",A.mean())\n",
    "print(\"Desviación estandar por hora: \",A.std())"
   ]
  },
  {
   "cell_type": "code",
   "execution_count": null,
   "metadata": {},
   "outputs": [],
   "source": [
    "#Maltrato\n",
    "A=subdata[subdata.TIPO_DETALLE == '611 - MALTRATO']\n",
    "fig = px.line(A, x='time_stamp', y='Frecuencia', color='TIPO_DETALLE',\n",
    "              color_discrete_sequence = px.colors.qualitative.Prism[2:], labels={\"TIPO_DETALLE\":\"tipo\"})\n",
    "fig.update_xaxes(title=\"\")\n",
    "fig.update_layout(\n",
    "    annotations=[\n",
    "        go.layout.Annotation(\n",
    "              x=i[0],\n",
    "              y=i[1],\n",
    "              xref=\"x\",\n",
    "              yref=\"y\",\n",
    "              showarrow=False,\n",
    "              text=str(i[0])+\" : \"+str(i[1]),\n",
    "              font=dict(\n",
    "                  family=\"Courier New, monospace\",\n",
    "                  size=16,\n",
    "                  color=\"black\"\n",
    "              ),\n",
    "          ) for i in A.sort_values('Frecuencia').head(1).append(A.sort_values('Frecuencia').tail(1))[['time_stamp','Frecuencia']].values\n",
    "    ]\n",
    "   \n",
    "        \n",
    ")\n",
    "\n",
    "fig.write_image(\"figuras_nuse/nuse_hora_maltrato_ts.png\",width=1000,height=500)\n",
    "fig.show()\n",
    "print(\"Promedio por hora: \",A.mean())\n",
    "print(\"Desviación estandar por hora: \",A.std())"
   ]
  },
  {
   "cell_type": "markdown",
   "metadata": {},
   "source": [
    "### Análisis campo 'HORA' y día - tipo incidente: bivariado\n",
    "#### Time series"
   ]
  },
  {
   "cell_type": "code",
   "execution_count": null,
   "metadata": {},
   "outputs": [],
   "source": [
    "#Incident reports by week day and hour (total reportes)\n",
    "\n",
    "subdata=pd.DataFrame(data.groupby([\"time_stamp\",\"day_of_week\"]).size(),columns=[\"Cantidad\"]).sort_index().reset_index()\n",
    "\n",
    "fig = px.line(subdata, x=\"time_stamp\", y=\"Cantidad\", facet_row=\"day_of_week\", color=\"day_of_week\",\n",
    "              width=800, height=1400,  color_discrete_sequence = px.colors.qualitative.Prism[1:],\n",
    "              category_orders={\"day_of_week\": [\"Monday\", \"Tuesday\", \"Wednesday\", \"Thursday\",\"Friday\",\"Saturday\",\"Sunday\"]},\n",
    "              labels={\"day_of_week\":\"day\"})\n",
    "fig.update_layout(title_text=\"\",\n",
    "                 showlegend=False)\n",
    "#fig.write_image(\"figuras_nuse/nuse_dia_hora_ts.png\")\n",
    "fig.show()"
   ]
  },
  {
   "cell_type": "code",
   "execution_count": null,
   "metadata": {},
   "outputs": [],
   "source": [
    "#Incident reports by week day and hour riña\n",
    "subdata=pd.DataFrame(data.groupby([\"time_stamp\",\"day_of_week\",\"TIPO_DETALLE\"]).size(),columns=[\"Cantidad\"]).sort_index().reset_index()\n",
    "\n",
    "fig = px.line(subdata.query('TIPO_DETALLE == \"934 - RIÑA\"'), x=\"time_stamp\", y=\"Cantidad\", facet_row=\"day_of_week\", color=\"day_of_week\",\n",
    "              width=800, height=1400,  color_discrete_sequence = px.colors.qualitative.Prism[1:],\n",
    "              category_orders={\"day_of_week\": [\"Monday\", \"Tuesday\", \"Wednesday\", \"Thursday\",\"Friday\",\"Saturday\",\"Sunday\"]},\n",
    "              labels={\"day_of_week\":\"day\"})\n",
    "fig.update_layout(title_text=\"Reporte riñas por día y hora\",\n",
    "                 showlegend=False)\n",
    "fig.write_image(\"figuras_nuse/day_week_hour_riña_ts.png\")\n",
    "fig.show()"
   ]
  },
  {
   "cell_type": "code",
   "execution_count": null,
   "metadata": {},
   "outputs": [],
   "source": [
    "#Incident reports by week day and hour maltrato mujer\n",
    "subdata=pd.DataFrame(data.groupby([\"time_stamp\",\"day_of_week\",\"TIPO_DETALLE\"]).size(),columns=[\"Cantidad\"]).sort_index().reset_index()\n",
    "\n",
    "fig = px.line(subdata.query('TIPO_DETALLE == \"611M - MALTRATO A MUJER\"'), x=\"time_stamp\", y=\"Cantidad\", facet_row=\"day_of_week\", color=\"day_of_week\",\n",
    "              width=800, height=1400,  color_discrete_sequence = px.colors.qualitative.Prism[1:],\n",
    "              category_orders={\"day_of_week\": [\"Monday\", \"Tuesday\", \"Wednesday\", \"Thursday\",\"Friday\",\"Saturday\",\"Sunday\"]},\n",
    "              labels={\"day_of_week\":\"day\"})\n",
    "fig.update_layout(title_text=\"Reporte 'maltrato mujer' por día y hora\",legend_orientation='h',\n",
    "                 showlegend=True)\n",
    "#fig.write_image(\"figuras_nuse/day_week_hour_mmujer_ts.png\")\n",
    "fig.show()"
   ]
  },
  {
   "cell_type": "markdown",
   "metadata": {},
   "source": [
    "### Análisis campo 'ANIO'"
   ]
  },
  {
   "cell_type": "code",
   "execution_count": null,
   "metadata": {},
   "outputs": [],
   "source": [
    "subdata=pd.DataFrame(data.groupby([\"ANIO\"]).size(),columns=[\"Frecuencia\"]).sort_index().reset_index()\n",
    "topdata=(subdata.sort_values(by=['Frecuencia'],ascending=False)[:10])"
   ]
  },
  {
   "cell_type": "code",
   "execution_count": null,
   "metadata": {},
   "outputs": [],
   "source": [
    "print_Data(subdata)\n",
    "sns.boxplot(y=subdata.Frecuencia)\n",
    "pd.DataFrame(np.around([subdata.Frecuencia.mean(),subdata.Frecuencia.std(),subdata.Frecuencia.max(),subdata.Frecuencia. min()],2),\n",
    "             index=['Media',\"Desviación Estandar\",\"Máximo\",\"Mínimo\"],columns=[\"\"])"
   ]
  },
  {
   "cell_type": "code",
   "execution_count": null,
   "metadata": {},
   "outputs": [],
   "source": [
    "#Statistical description\n",
    "pd.DataFrame(subdata.describe())"
   ]
  },
  {
   "cell_type": "code",
   "execution_count": null,
   "metadata": {},
   "outputs": [],
   "source": [
    "#Format to string\n",
    "data['ANIO']=data[\"ANIO\"].astype(str)"
   ]
  },
  {
   "cell_type": "code",
   "execution_count": null,
   "metadata": {},
   "outputs": [],
   "source": [
    "# Bar figure\n",
    "fig = px.bar(subdata, x='Cantidad', y='ANIO', color='ANIO', orientation='h', \n",
    "             color_discrete_sequence = px.colors.qualitative.Prism[1:])\n",
    "fig.update_layout(title_text=\"Incident reports by year\",\n",
    "                 yaxis={\"type\":\"category\"}, showlegend=False)\n",
    "fig.write_image(\"figuras_nuse/año_bar.png\")\n",
    "fig.show()"
   ]
  },
  {
   "cell_type": "markdown",
   "metadata": {},
   "source": [
    "### Análisis año - tipo incidente: bivariado"
   ]
  },
  {
   "cell_type": "code",
   "execution_count": null,
   "metadata": {},
   "outputs": [],
   "source": [
    "data2018['ANIO']=data2018[\"ANIO\"].astype(str)\n",
    "subdata=pd.DataFrame(data2018.groupby([\"ANIO\",\"TIPO_DETALLE\"]).size(),columns=[\"Cantidad\"]).sort_index().reset_index()"
   ]
  },
  {
   "cell_type": "code",
   "execution_count": null,
   "metadata": {},
   "outputs": [],
   "source": [
    "#Bar plot\n",
    "fig = px.bar(subdata, x='ANIO', y='Cantidad', color='TIPO_DETALLE',\n",
    "              color_discrete_sequence = px.colors.qualitative.Prism[0:], labels={\"TIPO_DETALLE\":\"tipo\"})\n",
    "fig.update_layout(title_text=\"Incidentes por año\", legend_orientation='h',xaxis={\"type\":\"category\"},\n",
    "                  xaxis_rangeslider_visible=False)\n",
    "fig.update_xaxes(title=\"\")\n",
    "fig.write_image(\"figuras_nuse/año_incidentes_bar.png\")\n",
    "fig.show()"
   ]
  },
  {
   "cell_type": "markdown",
   "metadata": {},
   "source": [
    "### Análisis campo 'MES'"
   ]
  },
  {
   "cell_type": "code",
   "execution_count": null,
   "metadata": {},
   "outputs": [],
   "source": [
    "subdata=pd.DataFrame(data2018.groupby([\"MES\"]).size(),columns=[\"Frecuencia\"]).sort_index().reset_index()\n",
    "topdata=(subdata.sort_values(by=['Frecuencia'],ascending=False)[:10])"
   ]
  },
  {
   "cell_type": "code",
   "execution_count": null,
   "metadata": {},
   "outputs": [],
   "source": [
    "print_Data(subdata)\n",
    "sns.boxplot(y=subdata.Frecuencia)\n",
    "pd.DataFrame(np.around([subdata.Frecuencia.mean(),subdata.Frecuencia.std(),subdata.Frecuencia.max(),subdata.Frecuencia. min()],2),\n",
    "             index=['Media',\"Desviación Estandar\",\"Máximo\",\"Mínimo\"],columns=[\"\"])"
   ]
  },
  {
   "cell_type": "code",
   "execution_count": null,
   "metadata": {},
   "outputs": [],
   "source": [
    "#Statistical description\n",
    "pd.DataFrame(subdata.describe())"
   ]
  },
  {
   "cell_type": "code",
   "execution_count": null,
   "metadata": {},
   "outputs": [],
   "source": [
    "data2018['MES']=data2018[\"MES\"].astype(str)"
   ]
  },
  {
   "cell_type": "code",
   "execution_count": null,
   "metadata": {},
   "outputs": [],
   "source": [
    "# Bar figure\n",
    "fig = px.bar(subdata, x='Cantidad', y='MES', orientation='h', color='MES',\n",
    "             color_discrete_sequence = px.colors.qualitative.Prism[0:],\n",
    "             category_orders={\"MES\": [\"1\",\"2\",\"3\",\"4\",\"5\",\"6\",\"7\",\"8\",\"9\",\"10\",\"11\",\"12\"]})\n",
    "fig.update_layout(title_text=\"Incident reports by month\",\n",
    "                 yaxis={\"type\":\"category\"}, showlegend=False)\n",
    "#fig.write_image(\"figuras_nuse/mes_bar_2017-2018.png\")\n",
    "fig.show()"
   ]
  },
  {
   "cell_type": "code",
   "execution_count": null,
   "metadata": {},
   "outputs": [],
   "source": [
    "#Probabilidad ocurrencia de reporte cada tipo de incidente por mes\n",
    "subdata=pd.DataFrame(data2018.groupby([\"MES\",\"TIPO_DETALLE\"]).size(),columns=[\"Frecuencia\"]).sort_index().reset_index()\n",
    "months_repeated = 2"
   ]
  },
  {
   "cell_type": "code",
   "execution_count": null,
   "metadata": {},
   "outputs": [],
   "source": [
    "#Probability riña reports by month\n",
    "subdata_riña = pd.DataFrame(subdata.query('TIPO_DETALLE == \"934 - RIÑA\"'))\n",
    "\n",
    "A=subdata_riña\n",
    "A['Porcentaje']=A['Frecuencia']/A['Frecuencia'].sum()*100\n",
    "fig=px.bar(A,x='Porcentaje',color='MES',y='MES',orientation='h',\n",
    "           category_orders={\"MES\": [\"1\",\"2\",\"3\",\"4\",\"5\",\"6\",\"7\",\"8\",\"9\",\"10\",\"11\",\"12\"]},\n",
    "           color_discrete_sequence = px.colors.qualitative.Prism[1:])\n",
    "fig.update(layout_showlegend=False)\n",
    "fig.update_layout(yaxis_title='Mes')\n",
    "\n",
    "fig.add_trace(go.Scatter(\n",
    "    x=[A.Porcentaje.mean()]*2,\n",
    "    y=['12','1'],\n",
    "    text=['Media='+str(round(A.Frecuencia.mean()/months_repeated,2)),\n",
    "          '',\n",
    "          ],\n",
    "    line=dict(color='black', width=2),\n",
    "    mode=\"text+lines\",\n",
    "))\n",
    "fig.add_trace(go.Scatter(\n",
    "    x=[A.Porcentaje.mean()+A.Porcentaje.std()]*2,\n",
    "    y=['12','1'],\n",
    "    text=['',\n",
    "          'std='+str(round(A.Frecuencia.std()/months_repeated,2)),\n",
    "          ],\n",
    "    line=dict(color='black', width=2,\n",
    "                              dash='dash'),\n",
    "    mode=\"text+lines\",\n",
    "))\n",
    "fig.add_trace(go.Scatter(\n",
    "    x=[A.Porcentaje.mean()-A.Porcentaje.std()]*2,\n",
    "    y=['12','1'],\n",
    "    text=['',\n",
    "          'std='+str(round(A.Frecuencia.std()/months_repeated,2)),\n",
    "          ],\n",
    "    line=dict(color='black', width=2,\n",
    "                              dash='dash'),\n",
    "    mode=\"text+lines\",\n",
    "))\n",
    "fig.write_image(\"figuras_nuse/nuse_mes_prob_riñar.png\",width=1000,height=500)\n",
    "fig.show()"
   ]
  },
  {
   "cell_type": "code",
   "execution_count": null,
   "metadata": {},
   "outputs": [],
   "source": [
    "#Probability maltrato a mujer reports by month\n",
    "subdata_maltrato_mujer = pd.DataFrame(subdata.query('TIPO_DETALLE == \"611M - MALTRATO A MUJER\"'))\n",
    "\n",
    "A=subdata_maltrato_mujer\n",
    "A['Porcentaje']=A['Frecuencia']/A['Frecuencia'].sum()*100\n",
    "fig=px.bar(A,x='Porcentaje',color='MES',y='MES',orientation='h',\n",
    "           category_orders={\"MES\": [\"1\",\"2\",\"3\",\"4\",\"5\",\"6\",\"7\",\"8\",\"9\",\"10\",\"11\",\"12\"]},\n",
    "           color_discrete_sequence = px.colors.qualitative.Prism[1:])\n",
    "fig.update(layout_showlegend=False)\n",
    "fig.update_layout(yaxis_title='Mes')\n",
    "\n",
    "fig.add_trace(go.Scatter(\n",
    "    x=[A.Porcentaje.mean()]*2,\n",
    "    y=['12','1'],\n",
    "    text=['Media='+str(round(A.Frecuencia.mean()/months_repeated,2)),\n",
    "          '',\n",
    "          ],\n",
    "    line=dict(color='black', width=2),\n",
    "    mode=\"text+lines\",\n",
    "))\n",
    "fig.add_trace(go.Scatter(\n",
    "    x=[A.Porcentaje.mean()+A.Porcentaje.std()]*2,\n",
    "    y=['12','1'],\n",
    "    text=['',\n",
    "          'std='+str(round(A.Frecuencia.std()/months_repeated,2)),\n",
    "          ],\n",
    "    line=dict(color='black', width=2,\n",
    "                              dash='dash'),\n",
    "    mode=\"text+lines\",\n",
    "))\n",
    "fig.add_trace(go.Scatter(\n",
    "    x=[A.Porcentaje.mean()-A.Porcentaje.std()]*2,\n",
    "    y=['12','1'],\n",
    "    text=['',\n",
    "          'std='+str(round(A.Frecuencia.std()/months_repeated,2)),\n",
    "          ],\n",
    "    line=dict(color='black', width=2,\n",
    "                              dash='dash'),\n",
    "    mode=\"text+lines\",\n",
    "))\n",
    "fig.write_image(\"figuras_nuse/nuse_mes_prob_maltrato_mujer.png\",width=1000,height=500)\n",
    "fig.show()"
   ]
  },
  {
   "cell_type": "code",
   "execution_count": null,
   "metadata": {},
   "outputs": [],
   "source": [
    "#Probability maltrato reports by month\n",
    "subdata_maltrato = pd.DataFrame(subdata.query('TIPO_DETALLE == \"611 - MALTRATO\"'))\n",
    "\n",
    "A=subdata_maltrato\n",
    "A['Porcentaje']=A['Frecuencia']/A['Frecuencia'].sum()*100\n",
    "fig=px.bar(A,x='Porcentaje',color='MES',y='MES',orientation='h',\n",
    "           category_orders={\"MES\": [\"1\",\"2\",\"3\",\"4\",\"5\",\"6\",\"7\",\"8\",\"9\",\"10\",\"11\",\"12\"]},\n",
    "           color_discrete_sequence = px.colors.qualitative.Prism[1:])\n",
    "fig.update(layout_showlegend=False)\n",
    "fig.update_layout(yaxis_title='Mes')\n",
    "\n",
    "fig.add_trace(go.Scatter(\n",
    "    x=[A.Porcentaje.mean()]*2,\n",
    "    y=['12','1'],\n",
    "    text=['Media='+str(round(A.Frecuencia.mean()/months_repeated,2)),\n",
    "          '',\n",
    "          ],\n",
    "    line=dict(color='black', width=2),\n",
    "    mode=\"text+lines\",\n",
    "))\n",
    "fig.add_trace(go.Scatter(\n",
    "    x=[A.Porcentaje.mean()+A.Porcentaje.std()]*2,\n",
    "    y=['12','1'],\n",
    "    text=['',\n",
    "          'std='+str(round(A.Frecuencia.std()/months_repeated,2)),\n",
    "          ],\n",
    "    line=dict(color='black', width=2,\n",
    "                              dash='dash'),\n",
    "    mode=\"text+lines\",\n",
    "))\n",
    "fig.add_trace(go.Scatter(\n",
    "    x=[A.Porcentaje.mean()-A.Porcentaje.std()]*2,\n",
    "    y=['12','1'],\n",
    "    text=['',\n",
    "          'std='+str(round(A.Frecuencia.std()/months_repeated,2)),\n",
    "          ],\n",
    "    line=dict(color='black', width=2,\n",
    "                              dash='dash'),\n",
    "    mode=\"text+lines\",\n",
    "))\n",
    "fig.write_image(\"figuras_nuse/nuse_mes_prob_maltrato.png\",width=1000,height=500)\n",
    "fig.show()"
   ]
  },
  {
   "cell_type": "markdown",
   "metadata": {},
   "source": [
    "### Análisis año: bivariado"
   ]
  },
  {
   "cell_type": "code",
   "execution_count": null,
   "metadata": {},
   "outputs": [],
   "source": [
    "#Graph incidents by month and day of week\n",
    "subdata=pd.DataFrame(data2018.groupby([\"MES\",\"day_of_week\"]).size(),columns=[\"Cantidad\"]).sort_index().reset_index()\n",
    "\n",
    "fig = px.bar(subdata, x=\"MES\", y=\"Cantidad\", color=\"day_of_week\",\n",
    "            category_orders={\"day_of_week\": [\"Monday\", \"Tuesday\", \"Wednesday\", \"Thursday\",\"Friday\",\"Saturday\",\"Sunday\"]},\n",
    "            labels={\"day_of_week\":\"day\"},color_discrete_sequence = px.colors.qualitative.Prism[1:])\n",
    "fig.update_layout(title_text=\"Incident reports by day of week and month\")\n",
    "fig.write_image(\"figuras_nuse/day_week_month_bar_2017-2018.png\")\n",
    "fig.show()"
   ]
  },
  {
   "cell_type": "code",
   "execution_count": null,
   "metadata": {},
   "outputs": [],
   "source": [
    "#Scatter plot\n",
    "subdata=pd.DataFrame(data2018.groupby([\"MES\",\"TIPO_DETALLE\"]).size(),columns=[\"Cantidad\"]).sort_index().reset_index()\n",
    "fig = px.scatter(subdata, x='MES', y='Cantidad', color='TIPO_DETALLE',size=\"Cantidad\",size_max=30,\n",
    "              color_discrete_sequence = px.colors.qualitative.Prism[3:], labels={\"TIPO_DETALLE\":\"tipo\"})\n",
    "fig.update_layout(title_text=\"Incidentes por mes\", legend_orientation='h',\n",
    "                  xaxis_rangeslider_visible=False)\n",
    "fig.update_xaxes(title=\"\")\n",
    "fig.write_image(\"figuras_nuse/mes_incidentes_scatter.png\")\n",
    "fig.show()"
   ]
  },
  {
   "cell_type": "markdown",
   "metadata": {},
   "source": [
    "### Análisis campo 'PERIODO_TS'"
   ]
  },
  {
   "cell_type": "code",
   "execution_count": null,
   "metadata": {},
   "outputs": [],
   "source": [
    "subdata=pd.DataFrame(data.groupby([\"PERIODO_TS\"]).size(),columns=[\"Frecuencia\"]).sort_index().reset_index()\n",
    "topdata=(subdata.sort_values(by=['Frecuencia'],ascending=False)[:10])"
   ]
  },
  {
   "cell_type": "code",
   "execution_count": null,
   "metadata": {},
   "outputs": [],
   "source": [
    "print_Data(subdata)\n",
    "sns.boxplot(y=subdata.Frecuencia)\n",
    "pd.DataFrame(np.around([subdata.Frecuencia.mean(),subdata.Frecuencia.std(),subdata.Frecuencia.max(),subdata.Frecuencia. min()],2),\n",
    "             index=['Media',\"Desviación Estandar\",\"Máximo\",\"Mínimo\"],columns=[\"\"])"
   ]
  },
  {
   "cell_type": "code",
   "execution_count": null,
   "metadata": {},
   "outputs": [],
   "source": [
    "#Statistical description\n",
    "pd.DataFrame(subdata.describe())"
   ]
  },
  {
   "cell_type": "code",
   "execution_count": null,
   "metadata": {},
   "outputs": [],
   "source": [
    "fig = px.bar(subdata, y=\"PERIODO_TS\", x=\"Cantidad\", orientation='h', color=\"PERIODO_TS\",\n",
    "            color_discrete_sequence = px.colors.qualitative.Prism[1:])\n",
    "fig.update_layout(title_text=\"Incident reports by 'PERIODO_TS'\",showlegend=False)\n",
    "fig.write_image(\"figuras_nuse/periodo_bar.png\")\n",
    "fig.show()"
   ]
  },
  {
   "cell_type": "markdown",
   "metadata": {},
   "source": [
    "### Análisis campo 'COD_LOCALIDAD' y 'LOCALIDAD'"
   ]
  },
  {
   "cell_type": "code",
   "execution_count": null,
   "metadata": {},
   "outputs": [],
   "source": [
    "subdata=pd.DataFrame(data.groupby([\"COD_LOCALIDAD\",\"LOCALIDAD\"]).size(),columns=[\"Cantidad\"]).sort_index().reset_index()\n",
    "topdata=(subdata.sort_values(by=['Cantidad'],ascending=False)[:20])"
   ]
  },
  {
   "cell_type": "code",
   "execution_count": null,
   "metadata": {},
   "outputs": [],
   "source": [
    "#Statistical description\n",
    "pd.DataFrame(subdata.describe())"
   ]
  },
  {
   "cell_type": "code",
   "execution_count": null,
   "metadata": {},
   "outputs": [],
   "source": [
    "# Bar figure\n",
    "fig = px.bar(topdata, x='Cantidad', y='LOCALIDAD', orientation='h', color='LOCALIDAD',\n",
    "             color_discrete_sequence = px.colors.qualitative.Prism[0:])\n",
    "fig.update_layout(title_text=\"Top incident reports by 'localidades'\",\n",
    "                 yaxis={\"type\":\"category\"}, showlegend=False)\n",
    "fig.write_image(\"figuras_nuse/localidad_bar.png\")\n",
    "fig.show()"
   ]
  },
  {
   "cell_type": "markdown",
   "metadata": {},
   "source": [
    "### Análisis probabilidad localidad por tipo de incidente"
   ]
  },
  {
   "cell_type": "code",
   "execution_count": null,
   "metadata": {},
   "outputs": [],
   "source": [
    "subdata=pd.DataFrame(data.groupby([\"LOCALIDAD\",\"TIPO_DETALLE\"]).size(),columns=[\"Frecuencia\"]).sort_index().reset_index()"
   ]
  },
  {
   "cell_type": "code",
   "execution_count": null,
   "metadata": {},
   "outputs": [],
   "source": [
    "subdata.LOCALIDAD.unique()"
   ]
  },
  {
   "cell_type": "code",
   "execution_count": null,
   "metadata": {},
   "outputs": [],
   "source": [
    "#Probabilidad riñas por localidad\n",
    "subdata_riñas = pd.DataFrame(subdata.query('TIPO_DETALLE == \"934 - RIÑA\"'))\n",
    "\n",
    "A=subdata_riñas\n",
    "A['Porcentaje']=A['Frecuencia']/A['Frecuencia'].sum()*100\n",
    "fig=px.bar(A,x='Porcentaje',color='LOCALIDAD',y='LOCALIDAD',orientation='h',\n",
    "           color_discrete_sequence = px.colors.qualitative.Prism[1:])\n",
    "fig.update(layout_showlegend=False)\n",
    "fig.update_layout(yaxis_title='Localidad')\n",
    "\n",
    "fig.add_trace(go.Scatter(\n",
    "    x=[A.Porcentaje.mean()]*2,\n",
    "    y=['USME','ANTONIO NARIÑO'],\n",
    "    text=['',\n",
    "          'Media='+str(round(A.Frecuencia.mean(),2)),\n",
    "          ],\n",
    "    line=dict(color='black', width=2),\n",
    "    mode=\"text+lines\",\n",
    "))\n",
    "fig.add_trace(go.Scatter(\n",
    "    x=[A.Porcentaje.mean()+A.Porcentaje.std()]*2,\n",
    "    y=['USME','ANTONIO NARIÑO'],\n",
    "    text=['',\n",
    "          'std='+str(round(A.Frecuencia.std(),2)),\n",
    "          ],\n",
    "    line=dict(color='black', width=2,\n",
    "                              dash='dash'),\n",
    "    mode=\"text+lines\",\n",
    "))\n",
    "fig.add_trace(go.Scatter(\n",
    "    x=[A.Porcentaje.mean()-A.Porcentaje.std()]*2,\n",
    "    y=['USME','ANTONIO NARIÑO'],\n",
    "    text=['',\n",
    "          'std='+str(round(A.Frecuencia.std(),2)),\n",
    "          ],\n",
    "    line=dict(color='black', width=2,\n",
    "                              dash='dash'),\n",
    "    mode=\"text+lines\",\n",
    "))\n",
    "#fig.write_image(\"figuras_nuse/nuse_localidad_prob_riña.png\",width=1000,height=500)\n",
    "fig.show()\n"
   ]
  },
  {
   "cell_type": "code",
   "execution_count": null,
   "metadata": {},
   "outputs": [],
   "source": [
    "#Probabilidad maltrato a mujer por localidad\n",
    "subdata_maltrato_mujer = pd.DataFrame(subdata.query('TIPO_DETALLE == \"611M - MALTRATO A MUJER\"'))\n",
    "\n",
    "A=subdata_maltrato_mujer\n",
    "A['Porcentaje']=A['Frecuencia']/A['Frecuencia'].sum()*100\n",
    "fig=px.bar(A,x='Porcentaje',color='LOCALIDAD',y='LOCALIDAD',orientation='h',\n",
    "           color_discrete_sequence = px.colors.qualitative.Prism[1:])\n",
    "fig.update(layout_showlegend=False)\n",
    "fig.update_layout(yaxis_title='Localidad')\n",
    "\n",
    "fig.add_trace(go.Scatter(\n",
    "    x=[A.Porcentaje.mean()]*2,\n",
    "    y=['USME','ANTONIO NARIÑO'],\n",
    "    text=['',\n",
    "          'Media='+str(round(A.Frecuencia.mean(),2)),\n",
    "          ],\n",
    "    line=dict(color='black', width=2),\n",
    "    mode=\"text+lines\",\n",
    "))\n",
    "fig.add_trace(go.Scatter(\n",
    "    x=[A.Porcentaje.mean()+A.Porcentaje.std()]*2,\n",
    "    y=['USME','ANTONIO NARIÑO'],\n",
    "    text=['',\n",
    "          'std='+str(round(A.Frecuencia.std(),2)),\n",
    "          ],\n",
    "    line=dict(color='black', width=2,\n",
    "                              dash='dash'),\n",
    "    mode=\"text+lines\",\n",
    "))\n",
    "fig.add_trace(go.Scatter(\n",
    "    x=[A.Porcentaje.mean()-A.Porcentaje.std()]*2,\n",
    "    y=['USME','ANTONIO NARIÑO'],\n",
    "    text=['',\n",
    "          'std='+str(round(A.Frecuencia.std(),2)),\n",
    "          ],\n",
    "    line=dict(color='black', width=2,\n",
    "                              dash='dash'),\n",
    "    mode=\"text+lines\",\n",
    "))\n",
    "#fig.write_image(\"figuras_nuse/nuse_localidad_prob_maltrato_mujer.png\",width=1000,height=500)\n",
    "fig.show()\n",
    "\n"
   ]
  },
  {
   "cell_type": "code",
   "execution_count": null,
   "metadata": {},
   "outputs": [],
   "source": [
    "#Probabilidad maltrato por localidad\n",
    "subdata_maltrato = pd.DataFrame(subdata.query('TIPO_DETALLE == \"611 - MALTRATO\"'))\n",
    "\n",
    "A=subdata_maltrato\n",
    "A['Porcentaje']=A['Frecuencia']/A['Frecuencia'].sum()*100\n",
    "fig=px.bar(A,x='Porcentaje',color='LOCALIDAD',y='LOCALIDAD',orientation='h',\n",
    "           color_discrete_sequence = px.colors.qualitative.Prism[1:])\n",
    "fig.update(layout_showlegend=False)\n",
    "fig.update_layout(yaxis_title='Localidad')\n",
    "\n",
    "fig.add_trace(go.Scatter(\n",
    "    x=[A.Porcentaje.mean()]*2,\n",
    "    y=['USME','ANTONIO NARIÑO'],\n",
    "    text=['',\n",
    "          'Media='+str(round(A.Frecuencia.mean(),2)),\n",
    "          ],\n",
    "    line=dict(color='black', width=2),\n",
    "    mode=\"text+lines\",\n",
    "))\n",
    "fig.add_trace(go.Scatter(\n",
    "    x=[A.Porcentaje.mean()+A.Porcentaje.std()]*2,\n",
    "    y=['USME','ANTONIO NARIÑO'],\n",
    "    text=['',\n",
    "          'std='+str(round(A.Frecuencia.std(),2)),\n",
    "          ],\n",
    "    line=dict(color='black', width=2,\n",
    "                              dash='dash'),\n",
    "    mode=\"text+lines\",\n",
    "))\n",
    "fig.add_trace(go.Scatter(\n",
    "    x=[A.Porcentaje.mean()-A.Porcentaje.std()]*2,\n",
    "    y=['USME','ANTONIO NARIÑO'],\n",
    "    text=['',\n",
    "          'std='+str(round(A.Frecuencia.std(),2)),\n",
    "          ],\n",
    "    line=dict(color='black', width=2,\n",
    "                              dash='dash'),\n",
    "    mode=\"text+lines\",\n",
    "))\n",
    "#fig.write_image(\"figuras_nuse/nuse_localidad_prob_maltrato.png\",width=1000,height=500)\n",
    "fig.show()\n",
    "\n",
    "\n"
   ]
  },
  {
   "cell_type": "markdown",
   "metadata": {},
   "source": [
    "### Análisis localidad: bivariado"
   ]
  },
  {
   "cell_type": "code",
   "execution_count": null,
   "metadata": {},
   "outputs": [],
   "source": [
    "#Scatter plot\n",
    "subdata=pd.DataFrame(data.groupby([\"LOCALIDAD\",\"TIPO_DETALLE\"]).size(),columns=[\"Cantidad\"]).sort_index().reset_index()\n",
    "fig = px.scatter(subdata, x='LOCALIDAD', y='Cantidad', color='TIPO_DETALLE',size=\"Cantidad\",size_max=30,\n",
    "                 width=1000, height=600,\n",
    "              color_discrete_sequence = px.colors.qualitative.Prism[3:], labels={\"TIPO_DETALLE\":\"tipo\"})\n",
    "fig.update_layout(title_text=\"Incidentes por mes\", legend_orientation='v', showlegend=False,\n",
    "                  xaxis_rangeslider_visible=False)\n",
    "fig.update_xaxes(title=\"\",tickangle=90)\n",
    "fig.write_image(\"figuras_nuse/localidad_incidentes_scatter.png\")\n",
    "fig.show()"
   ]
  },
  {
   "cell_type": "markdown",
   "metadata": {},
   "source": [
    "### Análisis campo 'COD_UPZ' y 'UPZ'"
   ]
  },
  {
   "cell_type": "code",
   "execution_count": null,
   "metadata": {},
   "outputs": [],
   "source": [
    "subdata=pd.DataFrame(data.groupby([\"COD_UPZ\",\"UPZ\"]).size(),columns=[\"Cantidad\"]).sort_index().reset_index()\n",
    "topdata=(subdata.sort_values(by=['Cantidad'],ascending=False)[:10])"
   ]
  },
  {
   "cell_type": "code",
   "execution_count": null,
   "metadata": {},
   "outputs": [],
   "source": [
    "#Statistical description\n",
    "pd.DataFrame(subdata.describe())"
   ]
  },
  {
   "cell_type": "code",
   "execution_count": null,
   "metadata": {},
   "outputs": [],
   "source": [
    "# Bar figure\n",
    "fig = px.bar(topdata, x='Cantidad', y='UPZ', orientation='h', color='UPZ',\n",
    "             color_discrete_sequence = px.colors.qualitative.Prism[0:])\n",
    "fig.update_layout(title_text=\"Top incident reports by 'UPZ'\",\n",
    "                 yaxis={\"type\":\"category\"}, showlegend=False)\n",
    "fig.write_image(\"figuras_nuse/upz_bar.png\")\n",
    "fig.show()"
   ]
  },
  {
   "cell_type": "markdown",
   "metadata": {},
   "source": [
    "### Análisis campos 'COD_SEC_CATAST‘ y ‘SEC_CATASTRAL'"
   ]
  },
  {
   "cell_type": "code",
   "execution_count": null,
   "metadata": {},
   "outputs": [],
   "source": [
    "subdata=pd.DataFrame(data.groupby([\"COD_SEC_CATAST\",\"SEC_CATASTRAL\"]).size(),columns=[\"Cantidad\"]).sort_index().reset_index()\n",
    "topdata=(subdata.sort_values(by=['Cantidad'],ascending=False)[:10])"
   ]
  },
  {
   "cell_type": "code",
   "execution_count": null,
   "metadata": {},
   "outputs": [],
   "source": [
    "#Statistical description\n",
    "pd.DataFrame(subdata.describe())"
   ]
  },
  {
   "cell_type": "code",
   "execution_count": null,
   "metadata": {},
   "outputs": [],
   "source": [
    "# Bar figure\n",
    "fig = px.bar(topdata, x='Cantidad', y='SEC_CATASTRAL', orientation='h', color='SEC_CATASTRAL',\n",
    "             color_discrete_sequence = px.colors.qualitative.Prism[0:])\n",
    "fig.update_layout(title_text=\"Top incident reports by 'UPZ'\",\n",
    "                 yaxis={\"type\":\"category\"}, showlegend=False)\n",
    "fig.write_image(\"figuras_nuse/sec_catastr_bar.png\")\n",
    "fig.show()"
   ]
  },
  {
   "cell_type": "markdown",
   "metadata": {},
   "source": [
    "### Análisis campos 'COD_BARRIO' Y 'BARRIO'"
   ]
  },
  {
   "cell_type": "code",
   "execution_count": null,
   "metadata": {},
   "outputs": [],
   "source": [
    "subdata=pd.DataFrame(data.groupby([\"COD_BARRIO\",\"BARRIO\"]).size(),columns=[\"Cantidad\"]).sort_index().reset_index()\n",
    "topdata=(subdata.sort_values(by=['Cantidad'],ascending=False)[:10])"
   ]
  },
  {
   "cell_type": "code",
   "execution_count": null,
   "metadata": {},
   "outputs": [],
   "source": [
    "#Statistical description\n",
    "pd.DataFrame(subdata.describe())"
   ]
  },
  {
   "cell_type": "code",
   "execution_count": null,
   "metadata": {},
   "outputs": [],
   "source": [
    "# Bar figure\n",
    "fig = px.bar(topdata, x='Cantidad', y='BARRIO', orientation='h', color='BARRIO',\n",
    "             color_discrete_sequence = px.colors.qualitative.Prism[0:])\n",
    "fig.update_layout(title_text=\"Top incident reports by 'BARRIO'\",\n",
    "                 yaxis={\"type\":\"category\"}, showlegend=False)\n",
    "fig.write_image(\"figuras_nuse/barrio_bar.png\")\n",
    "fig.show()"
   ]
  },
  {
   "cell_type": "markdown",
   "metadata": {},
   "source": [
    "### Análisis campos (LATITUD, LONGITUD)"
   ]
  },
  {
   "cell_type": "code",
   "execution_count": null,
   "metadata": {},
   "outputs": [],
   "source": [
    "subdata=pd.DataFrame(data.groupby(['LATITUD','LONGITUD']).size()).reset_index().rename(columns={0:\"Frecuencia\"})\n",
    "topdata=(position.sort_values(by=['Frecuencia'],ascending=False)[:10])"
   ]
  },
  {
   "cell_type": "code",
   "execution_count": null,
   "metadata": {},
   "outputs": [],
   "source": [
    "print_Data(subdata)\n",
    "sns.boxplot(y=subdata.Frecuencia)\n",
    "pd.DataFrame(np.around([subdata.Frecuencia.mean(),subdata.Frecuencia.std(),subdata.Frecuencia.max(),subdata.Frecuencia. min()],2),\n",
    "             index=['Media',\"Desviación Estandar\",\"Máximo\",\"Mínimo\"],columns=[\"\"])"
   ]
  },
  {
   "cell_type": "code",
   "execution_count": null,
   "metadata": {},
   "outputs": [],
   "source": [
    "#Statistical description\n",
    "pd.DataFrame(subdata.describe())"
   ]
  },
  {
   "cell_type": "markdown",
   "metadata": {},
   "source": [
    "#### Mapa con reporte de incidencias (LATITUD, LONGITUD)"
   ]
  },
  {
   "cell_type": "code",
   "execution_count": null,
   "metadata": {},
   "outputs": [],
   "source": [
    "px.set_mapbox_access_token(\"\")\n",
    "\n",
    "fig = px.scatter_mapbox(position, lat=\"LATITUD\", lon=\"LONGITUD\",zoom=10,size='Cantidad',color='Cantidad')\n",
    "fig.write_image(\"figuras_nuse/mapa.png\")\n",
    "fig.show()"
   ]
  },
  {
   "cell_type": "markdown",
   "metadata": {},
   "source": [
    "### Mapa de calor"
   ]
  },
  {
   "cell_type": "code",
   "execution_count": null,
   "metadata": {},
   "outputs": [],
   "source": [
    "import folium\n",
    "from folium import plugins\n",
    "A=data[['LATITUD','LONGITUD']]\n",
    "map_hooray = folium.Map(location=[4.626860,-74.084216],\n",
    "                   zoom_start = 11)\n",
    "hm = plugins.HeatMap(A.sample(50000).values.tolist(),radius=9)\n",
    "hm.add_to(map_hooray)\n",
    "map_hooray.save(\"figuras_nuse/nuse_map.png\")\n",
    "map_hooray"
   ]
  },
  {
   "cell_type": "markdown",
   "metadata": {},
   "source": [
    "### Mapa por tipo de incidente: bivariado"
   ]
  },
  {
   "cell_type": "code",
   "execution_count": null,
   "metadata": {},
   "outputs": [],
   "source": [
    "position=pd.DataFrame(data.groupby(['LATITUD','LONGITUD','TIPO_DETALLE']).size()).reset_index().rename(columns={0:\"Cantidad\"})\n",
    "topdata=(position.sort_values(by=['Cantidad'],ascending=False)[:10])"
   ]
  },
  {
   "cell_type": "code",
   "execution_count": null,
   "metadata": {},
   "outputs": [],
   "source": [
    "px.set_mapbox_access_token(\"\")\n",
    "\n",
    "fig = px.scatter_mapbox(position.query('TIPO_DETALLE == \"934 - RIÑA\"'), lat=\"LATITUD\", lon=\"LONGITUD\",zoom=10,size='Cantidad',color='Cantidad')\n",
    "fig.write_image(\"figuras_nuse/mapa_riña.png\")\n",
    "fig.show()"
   ]
  },
  {
   "cell_type": "code",
   "execution_count": null,
   "metadata": {},
   "outputs": [],
   "source": [
    "px.set_mapbox_access_token(\"\")\n",
    "\n",
    "fig = px.scatter_mapbox(position.query('TIPO_DETALLE == \"611M - MALTRATO A MUJER\"'), lat=\"LATITUD\", lon=\"LONGITUD\",zoom=10,size='Cantidad',color='Cantidad')\n",
    "fig.write_image(\"figuras_nuse/mapa_mmujer.png\")\n",
    "fig.show()"
   ]
  },
  {
   "cell_type": "markdown",
   "metadata": {},
   "source": [
    "### Análisis campo 'STR_DIRECCION_INCIDENTE'"
   ]
  },
  {
   "cell_type": "code",
   "execution_count": null,
   "metadata": {},
   "outputs": [],
   "source": [
    "subdata=pd.DataFrame(data.groupby([\"STR_DIRECCION_INCIDENTE\"]).size(),columns=[\"Cantidad\"]).sort_index().reset_index()\n",
    "topdata=(subdata.sort_values(by=['Cantidad'],ascending=False)[:10])\n",
    "print_Data(topdata)"
   ]
  },
  {
   "cell_type": "code",
   "execution_count": null,
   "metadata": {},
   "outputs": [],
   "source": [
    "#Statistical description\n",
    "pd.DataFrame(subdata.describe())"
   ]
  },
  {
   "cell_type": "code",
   "execution_count": null,
   "metadata": {},
   "outputs": [],
   "source": [
    "# Bar figure\n",
    "fig = px.bar(topdata, x='Cantidad', y='STR_DIRECCION_INCIDENTE', orientation='h', color='STR_DIRECCION_INCIDENTE',\n",
    "             color_discrete_sequence = px.colors.qualitative.Prism[0:])\n",
    "fig.update_layout(title_text=\"Top incident reports by 'STR_DIRECCION_INCIDENTE'\",\n",
    "                 yaxis={\"type\":\"category\"}, showlegend=False)\n",
    "fig.write_image(\"figuras_nuse/direccion_bar.png\")\n",
    "fig.show()"
   ]
  },
  {
   "cell_type": "markdown",
   "metadata": {},
   "source": [
    "### Análisis campo 'TIPO_DETALLE'"
   ]
  },
  {
   "cell_type": "code",
   "execution_count": null,
   "metadata": {},
   "outputs": [],
   "source": [
    "subdata=pd.DataFrame(data.groupby([\"TIPO_DETALLE\"]).size(),columns=[\"Cantidad\"]).sort_index().reset_index()"
   ]
  },
  {
   "cell_type": "code",
   "execution_count": null,
   "metadata": {},
   "outputs": [],
   "source": [
    "#Statistical description\n",
    "pd.DataFrame(subdata.describe())"
   ]
  },
  {
   "cell_type": "code",
   "execution_count": null,
   "metadata": {},
   "outputs": [],
   "source": [
    "# Bar figure\n",
    "fig = px.bar(subdata, x='Cantidad', y='TIPO_DETALLE', color='TIPO_DETALLE', orientation='h', \n",
    "             color_discrete_sequence = px.colors.qualitative.Prism[1:])\n",
    "fig.update_layout(title_text=\"Incident reports by type\",\n",
    "                 yaxis={\"type\":\"category\"}, showlegend=False)\n",
    "#fig.write_image(\"figuras_nuse/tipo_incidente_bar.png\")\n",
    "fig.show()"
   ]
  },
  {
   "cell_type": "markdown",
   "metadata": {},
   "source": [
    "### Análisis campo 'ESTADO_INCIDENTE'"
   ]
  },
  {
   "cell_type": "code",
   "execution_count": null,
   "metadata": {},
   "outputs": [],
   "source": [
    "subdata=pd.DataFrame(data.groupby([\"ESTADO_INCIDENTE\"]).size(),columns=[\"Cantidad\"]).sort_index().reset_index()"
   ]
  },
  {
   "cell_type": "code",
   "execution_count": null,
   "metadata": {},
   "outputs": [],
   "source": [
    "#Statistical description\n",
    "pd.DataFrame(subdata.describe())"
   ]
  },
  {
   "cell_type": "code",
   "execution_count": null,
   "metadata": {},
   "outputs": [],
   "source": [
    "print_Data(subdata)"
   ]
  },
  {
   "cell_type": "code",
   "execution_count": null,
   "metadata": {},
   "outputs": [],
   "source": [
    "#Analysis 'TIPO_DETALLE' and 'ESTADO_INCIDENTE'\n",
    "subdata=pd.DataFrame(data.groupby([\"TIPO_DETALLE\",\"ESTADO_INCIDENTE\"]).size(),columns=[\"Cantidad\"]).sort_index().reset_index()\n",
    "print_Data(subdata)"
   ]
  },
  {
   "cell_type": "code",
   "execution_count": null,
   "metadata": {},
   "outputs": [],
   "source": [
    "#Graph incidents by 'TIPO' and 'ESTADO=CERRADO'\n",
    "subdata=pd.DataFrame(data.groupby([\"TIPO_DETALLE\",\"ESTADO_INCIDENTE\"]).size(),columns=[\"Cantidad\"]).sort_index().reset_index()\n",
    "\n",
    "fig = px.bar(subdata.set_index('ESTADO_INCIDENTE').filter(like='CERRADO',axis=0), x=\"TIPO_DETALLE\", y=\"Cantidad\",\n",
    "             color='TIPO_DETALLE',color_discrete_sequence = px.colors.qualitative.Prism[5:])\n",
    "fig.update_layout(title_text=\"Incident reports in state 'cerrado'\",showlegend=False)\n",
    "#fig.write_image(\"figuras_nuse/incidentes_cerrados_bar.png\")\n",
    "fig.show()"
   ]
  },
  {
   "cell_type": "code",
   "execution_count": null,
   "metadata": {},
   "outputs": [],
   "source": [
    "#Graph incidents by 'TIPO' and 'ESTADO=CREADO'\n",
    "subdata=pd.DataFrame(data.groupby([\"TIPO_DETALLE\",\"ESTADO_INCIDENTE\"]).size(),columns=[\"Cantidad\"]).sort_index().reset_index()\n",
    "\n",
    "fig = px.bar(subdata.set_index('ESTADO_INCIDENTE').filter(like='CREADO',axis=0), x=\"TIPO_DETALLE\", y=\"Cantidad\",\n",
    "             color='TIPO_DETALLE',color_discrete_sequence = px.colors.qualitative.Prism[1:])\n",
    "fig.update_layout(title_text=\"Incident reports in state 'creado'\",showlegend=False)\n",
    "#fig.write_image(\"figuras_nuse/incidentes_creados_bar.png\")\n",
    "fig.show()"
   ]
  },
  {
   "cell_type": "markdown",
   "metadata": {},
   "source": [
    "### Análisis campo 'LOG_TEXT'"
   ]
  },
  {
   "cell_type": "code",
   "execution_count": null,
   "metadata": {},
   "outputs": [],
   "source": [
    "text = ' '.join(data['LOG_TEXT'].str.lower())\n",
    "\n",
    "stopwords = set(STOPWORDS)\n",
    "stopwords.update(['de','la','el','que','y','con','en'])"
   ]
  },
  {
   "cell_type": "code",
   "execution_count": null,
   "metadata": {
    "scrolled": true
   },
   "outputs": [],
   "source": [
    "wordcloud = WordCloud(width = 3000,height = 2000,background_color = 'black',stopwords = stopwords, max_words=1000).generate(text)\n",
    "fig = plt.figure(figsize = (20, 10),facecolor = 'k',edgecolor = 'k')\n",
    "plt.imshow(wordcloud, interpolation='bilinear')\n",
    "plt.axis('off')\n",
    "plt.tight_layout(pad=0)\n",
    "plt.savefig(\"figuras_nuse/log_text\",dpi=300,bbox_inches = \"tight\")\n",
    "plt.show()"
   ]
  },
  {
   "cell_type": "code",
   "execution_count": null,
   "metadata": {},
   "outputs": [],
   "source": [
    "## Add labels to stopwords\n",
    "stopwords.update(['direction','messsageid','outgoing','origorganisation','originincidentturn',\n",
    "                  'originincidentdate','originincidenttime','callorigin priority','location','easting',\n",
    "                 'callernumber','callerforename','callorigin','alta','prioridad','nuse','origin',\n",
    "                 'incaddnlinfo','incsecurity', 'northing','type','description','messageid origincidenturn',\n",
    "                 'origincidenttime priority','priority','originincidentturn originincidentdate',\n",
    "                 'originincidentdate originincidenttime'])\n"
   ]
  },
  {
   "cell_type": "code",
   "execution_count": null,
   "metadata": {},
   "outputs": [],
   "source": [
    "wordcloud = WordCloud(width = 3000,height = 2000,background_color = 'black',stopwords = stopwords, max_words=1000).generate(text)\n",
    "fig = plt.figure(figsize = (20, 10),facecolor = 'k',edgecolor = 'k')\n",
    "plt.imshow(wordcloud, interpolation='bilinear')\n",
    "plt.axis('off')\n",
    "plt.tight_layout(pad=0)\n",
    "plt.savefig(\"figuras_nuse/log_text2\",dpi=300,bbox_inches = \"tight\")\n",
    "plt.show()"
   ]
  },
  {
   "cell_type": "markdown",
   "metadata": {},
   "source": [
    "## Tiempo /espacio"
   ]
  },
  {
   "cell_type": "markdown",
   "metadata": {},
   "source": [
    "### Coordenadas vs. día semana: bivariado"
   ]
  },
  {
   "cell_type": "code",
   "execution_count": null,
   "metadata": {},
   "outputs": [],
   "source": [
    "position=pd.DataFrame(data.groupby(['LONGITUD','LATITUD','day_of_week']).size()).reset_index().rename(columns={0:\"Cantidad\"})\n",
    "\n",
    "px.set_mapbox_access_token(\"\")\n",
    "\n",
    "fig = px.scatter_mapbox(position, lat=\"LATITUD\", lon=\"LONGITUD\", animation_frame=\"day_of_week\", zoom=10,\n",
    "                        category_orders={\"day_of_week\": [\"Monday\", \"Tuesday\", \"Wednesday\", \"Thursday\",\"Friday\",\"Saturday\",\"Sunday\"]},\n",
    "                        size='Cantidad',color='Cantidad')\n",
    "fig.show()"
   ]
  },
  {
   "cell_type": "markdown",
   "metadata": {},
   "source": [
    "### Coordenadas vs hora: bivariado"
   ]
  },
  {
   "cell_type": "code",
   "execution_count": null,
   "metadata": {},
   "outputs": [],
   "source": [
    "position=pd.DataFrame(data.groupby(['LONGITUD','LATITUD','HORA']).size()).reset_index().rename(columns={0:\"Cantidad\"})\n",
    "position=position.sort_values(by=['HORA'],ascending=True)"
   ]
  },
  {
   "cell_type": "code",
   "execution_count": null,
   "metadata": {},
   "outputs": [],
   "source": [
    "fig = px.scatter_mapbox(position, lat=\"LATITUD\", lon=\"LONGITUD\", animation_frame=\"HORA\", zoom=10,\n",
    "                        size='Cantidad',color='Cantidad')\n",
    "fig.show()"
   ]
  },
  {
   "cell_type": "markdown",
   "metadata": {},
   "source": [
    "### Análisis incidentes por localidad/mes: bivariado"
   ]
  },
  {
   "cell_type": "code",
   "execution_count": null,
   "metadata": {},
   "outputs": [],
   "source": [
    "subdata = pd.DataFrame(data2018.groupby(['LOCALIDAD','MES']).size()).reset_index().rename(columns={0:\"Cantidad\"})\n",
    "\n",
    "fig = px.scatter(subdata, x=\"LOCALIDAD\", y=\"Cantidad\", size=\"Cantidad\", color=\"MES\",\n",
    "                 width=1000, height=600,\n",
    "                 hover_name=\"MES\", size_max=40,labels={\"day_of_week\":\"mes\"})\n",
    "fig.update_layout(title_text=\"Incident reports by month and 'localidad'\",legend_orientation='v')\n",
    "fig.update_xaxes(tickangle=90)\n",
    "#fig.write_image(\"figuras_nuse/localidad_mes.png\")\n",
    "fig.show()"
   ]
  },
  {
   "cell_type": "markdown",
   "metadata": {},
   "source": [
    "### Análisis incidentes por coordenada/día semana: bivariado"
   ]
  },
  {
   "cell_type": "code",
   "execution_count": null,
   "metadata": {},
   "outputs": [],
   "source": [
    "position=pd.DataFrame(data.groupby(['LONGITUD','LATITUD','day_of_week']).size()).reset_index().rename(columns={0:\"Cantidad\"})\n",
    "\n",
    "px.set_mapbox_access_token()\n",
    "\n",
    "fig = px.scatter_mapbox(position.query('day_of_week == \"Monday\"'), lat=\"LATITUD\", lon=\"LONGITUD\", zoom=10,\n",
    "                        size='Cantidad',color='Cantidad',range_color=[0,2500])\n",
    "fig.write_image(\"figuras_nuse/mapa_lunes.png\")\n",
    "fig.show()"
   ]
  },
  {
   "cell_type": "code",
   "execution_count": null,
   "metadata": {},
   "outputs": [],
   "source": [
    "position=pd.DataFrame(data.groupby(['LONGITUD','LATITUD','day_of_week']).size()).reset_index().rename(columns={0:\"Cantidad\"})\n",
    "\n",
    "px.set_mapbox_access_token()\n",
    "\n",
    "fig = px.scatter_mapbox(position.query('day_of_week == \"Tuesday\"'), lat=\"LATITUD\", lon=\"LONGITUD\", zoom=10,\n",
    "                        size='Cantidad',color='Cantidad',range_color=[0,2500])\n",
    "fig.write_image(\"figuras_nuse/mapa_martes.png\")\n",
    "fig.show()"
   ]
  },
  {
   "cell_type": "code",
   "execution_count": null,
   "metadata": {},
   "outputs": [],
   "source": [
    "position=pd.DataFrame(data.groupby(['LONGITUD','LATITUD','day_of_week']).size()).reset_index().rename(columns={0:\"Cantidad\"})\n",
    "\n",
    "px.set_mapbox_access_token()\n",
    "\n",
    "fig = px.scatter_mapbox(position.query('day_of_week == \"Wednesday\"'), lat=\"LATITUD\", lon=\"LONGITUD\", zoom=10,\n",
    "                        size='Cantidad',color='Cantidad',range_color=[0,2500])\n",
    "fig.write_image(\"figuras_nuse/mapa_miercoles.png\")\n",
    "fig.show()"
   ]
  },
  {
   "cell_type": "code",
   "execution_count": null,
   "metadata": {},
   "outputs": [],
   "source": [
    "position=pd.DataFrame(data.groupby(['LONGITUD','LATITUD','day_of_week']).size()).reset_index().rename(columns={0:\"Cantidad\"})\n",
    "\n",
    "px.set_mapbox_access_token()\n",
    "\n",
    "fig = px.scatter_mapbox(position.query('day_of_week == \"Thursday\"'), lat=\"LATITUD\", lon=\"LONGITUD\", zoom=10,\n",
    "                        size='Cantidad',color='Cantidad',range_color=[0,2500])\n",
    "fig.write_image(\"figuras_nuse/mapa_jueves.png\")\n",
    "fig.show()"
   ]
  },
  {
   "cell_type": "code",
   "execution_count": null,
   "metadata": {},
   "outputs": [],
   "source": [
    "position=pd.DataFrame(data.groupby(['LONGITUD','LATITUD','day_of_week']).size()).reset_index().rename(columns={0:\"Cantidad\"})\n",
    "\n",
    "px.set_mapbox_access_token()\n",
    "\n",
    "fig = px.scatter_mapbox(position.query('day_of_week == \"Friday\"'), lat=\"LATITUD\", lon=\"LONGITUD\", zoom=10,\n",
    "                        size='Cantidad',color='Cantidad',range_color=[0,2500])\n",
    "fig.write_image(\"figuras_nuse/mapa_viernes.png\")\n",
    "fig.show()"
   ]
  },
  {
   "cell_type": "code",
   "execution_count": null,
   "metadata": {},
   "outputs": [],
   "source": [
    "position=pd.DataFrame(data.groupby(['LONGITUD','LATITUD','day_of_week']).size()).reset_index().rename(columns={0:\"Cantidad\"})\n",
    "\n",
    "px.set_mapbox_access_token()\n",
    "\n",
    "fig = px.scatter_mapbox(position.query('day_of_week == \"Saturday\"'), lat=\"LATITUD\", lon=\"LONGITUD\", zoom=10,\n",
    "                        size='Cantidad',color='Cantidad',range_color=[0,2500])\n",
    "fig.write_image(\"figuras_nuse/mapa_sabado.png\")\n",
    "fig.show()"
   ]
  },
  {
   "cell_type": "code",
   "execution_count": null,
   "metadata": {},
   "outputs": [],
   "source": [
    "position=pd.DataFrame(data.groupby(['LONGITUD','LATITUD','day_of_week']).size()).reset_index().rename(columns={0:\"Cantidad\"})\n",
    "\n",
    "px.set_mapbox_access_token()\n",
    "\n",
    "fig = px.scatter_mapbox(position.query('day_of_week == \"Sunday\"'), lat=\"LATITUD\", lon=\"LONGITUD\", zoom=10,\n",
    "                        size='Cantidad',color='Cantidad',range_color=[0,2500])\n",
    "fig.write_image(\"figuras_nuse/mapa_domingo.png\")\n",
    "fig.show()"
   ]
  },
  {
   "cell_type": "markdown",
   "metadata": {},
   "source": [
    "# ANÁLISIS BIVARIADO - Probabilidades conjuntas y condicionales"
   ]
  },
  {
   "cell_type": "markdown",
   "metadata": {},
   "source": [
    "## Rango hora y día de la semana"
   ]
  },
  {
   "cell_type": "markdown",
   "metadata": {},
   "source": [
    "### Conjunta"
   ]
  },
  {
   "cell_type": "code",
   "execution_count": null,
   "metadata": {},
   "outputs": [],
   "source": [
    "subdata = pd.DataFrame(data.groupby(['RANGO_HORA','day_of_week']).size()).reset_index().rename(columns={0:\"Cantidad\"})\n",
    "subdata['Porcentaje']=subdata['Cantidad']/subdata['Cantidad'].sum()*100\n",
    "\n",
    "fig = px.scatter(subdata, x=\"RANGO_HORA\", y=\"Porcentaje\", size=\"Porcentaje\", color=\"day_of_week\",\n",
    "                 width=1000, height=600, color_discrete_sequence = px.colors.qualitative.Prism[1:],\n",
    "                 category_orders={\"day_of_week\": [\"Monday\", \"Tuesday\", \"Wednesday\", \"Thursday\",\"Friday\",\"Saturday\",\"Sunday\"]},\n",
    "                 hover_name=\"day_of_week\", size_max=40,labels={\"day_of_week\":\"day\"})\n",
    "fig.update_layout(title_text=\"\",legend_orientation='v')\n",
    "fig.update_xaxes(tickangle=0,categoryorder=\"array\",\n",
    "                 categoryarray=[\"0:00 a 3:59\",\"4:00 a 7:59\",\"8:00 a 11:59\",\"12:00 a 15:59\",\"16:00 a 19:59\",\"20:00 a 23:59\"])\n",
    "\n",
    "#fig.write_image(\"figuras_nuse/nuse_rango_hora_día_conjunta.png\")\n",
    "fig.show()"
   ]
  },
  {
   "cell_type": "markdown",
   "metadata": {},
   "source": [
    "### Condicional"
   ]
  },
  {
   "cell_type": "code",
   "execution_count": null,
   "metadata": {},
   "outputs": [],
   "source": [
    "data['DIA_SEMANA'] = data[\"FECHA\"].dt.dayofweek\n",
    "data2018['DIA_SEMANA'] = data2018[\"FECHA\"].dt.dayofweek"
   ]
  },
  {
   "cell_type": "code",
   "execution_count": null,
   "metadata": {
    "scrolled": true
   },
   "outputs": [],
   "source": [
    "import seaborn as sns\n",
    "var1='RANGO_HORA'\n",
    "var2='DIA_SEMANA'\n",
    "var_aux='STR_NUMERO_INTERNO'\n",
    "\n",
    "A=data.groupby([var1,var2]).agg({'STR_NUMERO_INTERNO':'count'}).reset_index().rename(columns={var_aux:'Frecuencia'})\n",
    "A['Porcentaje']=A['Frecuencia']/A['Frecuencia'].sum()\n",
    "join=(A.pivot(var1,var2,'Porcentaje')).fillna(0)\n",
    "gc=join/join.sum(axis=0)\n",
    "gf=(join.T/join.sum(axis=1)).T\n",
    "M=[join,gc,gf]\n",
    "title=[\"join\",'g_columna',\"g_fila\"]\n",
    "x_labels = ['LUN', 'MAR', 'MIE', 'JUE', 'VIE', 'SAB', 'DOM']\n",
    "\n",
    "for k in range(3):\n",
    " print(title[k])\n",
    " fig, ax = plt.subplots(1,1,sharex=True, sharey=True)\n",
    " fig.set_size_inches(7, 6)\n",
    " g=sns.heatmap(M[k],vmin=0, vmax=0.4,annot=True,fmt=\".1%\",linewidths=0,cmap=\"Blues\",cbar=False,xticklabels=x_labels)\n",
    " g.set_yticklabels(g.get_yticklabels(), rotation = 0)\n",
    " bottom, top = ax.get_ylim()\n",
    " ax.set_ylim(bottom + 0.5, top - 0.5)\n",
    " if k == 1:\n",
    "   ax.vlines(np.arange(20), *ax.get_ylim())\n",
    " if k == 2:\n",
    "   ax.hlines(np.arange(20), *ax.get_xlim())\n",
    "\n",
    " plt.savefig(\"figuras_nuse/nuse_rango_hora_dia_condicional_\"+title[k],dpi=300,bbox_inches = \"tight\")\n",
    " plt.show()"
   ]
  },
  {
   "cell_type": "markdown",
   "metadata": {},
   "source": [
    "## Rango hora y día de la semana extendido"
   ]
  },
  {
   "cell_type": "markdown",
   "metadata": {},
   "source": [
    "### Conjunta"
   ]
  },
  {
   "cell_type": "code",
   "execution_count": null,
   "metadata": {},
   "outputs": [],
   "source": [
    "subdata = pd.DataFrame(data.groupby(['RANGO_HORA','DIA_EXTENDIDO']).size()).reset_index().rename(columns={0:\"Cantidad\"})\n",
    "subdata['Porcentaje']=subdata['Cantidad']/subdata['Cantidad'].sum()*100\n",
    "\n",
    "fig = px.scatter(subdata, x=\"RANGO_HORA\", y=\"Porcentaje\", size=\"Porcentaje\", color=\"DIA_EXTENDIDO\",\n",
    "                 width=1000, height=600, color_discrete_sequence = px.colors.qualitative.Prism[1:],\n",
    "                 category_orders={\"DIA_EXTENDIDO\": [\"Monday\", \"Tuesday\", \"Wednesday\", \"Thursday\",\"Friday\",\"Saturday\",\"Sunday\"]},\n",
    "                 hover_name=\"DIA_EXTENDIDO\", size_max=40,labels={\"DIA_EXTENDIDO\":\"DIA_EXTENDIDO\"})\n",
    "fig.update_layout(title_text=\"\",legend_orientation='v')\n",
    "fig.update_xaxes(tickangle=0,categoryorder=\"array\",\n",
    "                 categoryarray=[\"0:00 a 3:59\",\"4:00 a 7:59\",\"8:00 a 11:59\",\"12:00 a 15:59\",\"16:00 a 19:59\",\"20:00 a 23:59\"])\n",
    "\n",
    "fig.write_image(\"figuras_nuse/nuse_rango_hora_día_extendido_conjunta.png\")\n",
    "fig.show()"
   ]
  },
  {
   "cell_type": "markdown",
   "metadata": {},
   "source": [
    "### Condicional"
   ]
  },
  {
   "cell_type": "code",
   "execution_count": null,
   "metadata": {},
   "outputs": [],
   "source": [
    "data['DIA_SEMANA'] = data[\"FECHA\"].dt.dayofweek\n",
    "data2018['DIA_SEMANA'] = data2018[\"FECHA\"].dt.dayofweek"
   ]
  },
  {
   "cell_type": "code",
   "execution_count": null,
   "metadata": {
    "scrolled": true
   },
   "outputs": [],
   "source": [
    "import seaborn as sns\n",
    "var1='RANGO_HORA'\n",
    "var2='DIA_EXTENDIDO'\n",
    "var_aux='STR_NUMERO_INTERNO'\n",
    "\n",
    "A=data.groupby([var1,var2]).agg({'STR_NUMERO_INTERNO':'count'}).reset_index().rename(columns={var_aux:'Frecuencia'})\n",
    "A['Porcentaje']=A['Frecuencia']/A['Frecuencia'].sum()\n",
    "join=(A.pivot(var1,var2,'Porcentaje')).fillna(0)\n",
    "join = join.reindex([\"Monday\",\"Tuesday\",\"Wednesday\",\"Thursday\",\"Friday\",\"Saturday\",\"Sunday\"], axis=1)\n",
    "join = join.reindex([\"4:00 a 7:59\",\"8:00 a 11:59\",\"12:00 a 15:59\",\"16:00 a 19:59\",\"20:00 a 23:59\",\"0:00 a 3:59\"])\n",
    "gc=join/join.sum(axis=0)\n",
    "gf=(join.T/join.sum(axis=1)).T\n",
    "M=[join,gc,gf]\n",
    "title=[\"join\",'g_columna',\"g_fila\"]\n",
    "#x_labels = ['LUN', 'MAR', 'MIE', 'JUE', 'VIE', 'SAB', 'DOM']\n",
    "\n",
    "for k in range(3):\n",
    " print(title[k])\n",
    " fig, ax = plt.subplots(1,1,sharex=True, sharey=True)\n",
    " fig.set_size_inches(7, 6)\n",
    " g=sns.heatmap(M[k],vmin=0, vmax=0.4,annot=True,fmt=\".1%\",linewidths=0,cmap=\"Blues\",cbar=False)\n",
    " g.set_yticklabels(g.get_yticklabels(), rotation = 0)\n",
    " bottom, top = ax.get_ylim()\n",
    " ax.set_ylim(bottom + 0.5, top - 0.5)\n",
    " if k == 1:\n",
    "   ax.vlines(np.arange(20), *ax.get_ylim())\n",
    " if k == 2:\n",
    "   ax.hlines(np.arange(20), *ax.get_xlim())\n",
    "\n",
    " plt.savefig(\"figuras_nuse/nuse_rango_hora_dia_extendido_condicional_\"+title[k],dpi=300,bbox_inches = \"tight\")\n",
    " plt.show()"
   ]
  },
  {
   "cell_type": "markdown",
   "metadata": {},
   "source": [
    "## Mes y día de la semana"
   ]
  },
  {
   "cell_type": "markdown",
   "metadata": {},
   "source": [
    "### Conjunta"
   ]
  },
  {
   "cell_type": "code",
   "execution_count": null,
   "metadata": {},
   "outputs": [],
   "source": [
    "subdata = pd.DataFrame(data2018.groupby(['MES','day_of_week']).size()).reset_index().rename(columns={0:\"Cantidad\"})\n",
    "subdata['Porcentaje']=subdata['Cantidad']/subdata['Cantidad'].sum()*100\n",
    "\n",
    "fig = px.scatter(subdata, x=\"MES\", y=\"Porcentaje\", size=\"Porcentaje\", color=\"day_of_week\",\n",
    "                 width=1000, height=600, color_discrete_sequence = px.colors.qualitative.Prism[1:],\n",
    "                 category_orders={\"day_of_week\": [\"Monday\", \"Tuesday\", \"Wednesday\", \"Thursday\",\"Friday\",\"Saturday\",\"Sunday\"]},\n",
    "                 hover_name=\"day_of_week\", size_max=40,labels={\"day_of_week\":\"day\"})\n",
    "fig.update_layout(title_text=\"\",legend_orientation='v')\n",
    "fig.update_xaxes(tickangle=0)\n",
    "#fig.write_image(\"figuras_nuse/nuse_mes_día_conjunta.png\")\n",
    "fig.show()"
   ]
  },
  {
   "cell_type": "markdown",
   "metadata": {},
   "source": [
    "### Condicional"
   ]
  },
  {
   "cell_type": "code",
   "execution_count": null,
   "metadata": {},
   "outputs": [],
   "source": [
    "data['DIA_SEMANA'] = data[\"FECHA\"].dt.dayofweek\n",
    "data2018['DIA_SEMANA'] = data2018[\"FECHA\"].dt.dayofweek"
   ]
  },
  {
   "cell_type": "code",
   "execution_count": null,
   "metadata": {
    "scrolled": true
   },
   "outputs": [],
   "source": [
    "import seaborn as sns\n",
    "var1='MES'\n",
    "var2='DIA_SEMANA'\n",
    "var_aux='STR_NUMERO_INTERNO'\n",
    "\n",
    "A=data2018.groupby([var1,var2]).agg({'STR_NUMERO_INTERNO':'count'}).reset_index().rename(columns={var_aux:'Frecuencia'})\n",
    "A['Porcentaje']=A['Frecuencia']/A['Frecuencia'].sum()\n",
    "join=(A.pivot(var1,var2,'Porcentaje')).fillna(0)\n",
    "gc=join/join.sum(axis=0)\n",
    "gf=(join.T/join.sum(axis=1)).T\n",
    "M=[join,gc,gf]\n",
    "title=[\"join\",'g_columna',\"g_fila\"]\n",
    "x_labels = ['LUN', 'MAR', 'MIE', 'JUE', 'VIE', 'SAB', 'DOM']\n",
    "\n",
    "for k in range(3):\n",
    " print(title[k])\n",
    " fig, ax = plt.subplots(1,1,sharex=True, sharey=True)\n",
    " fig.set_size_inches(7, 8)\n",
    " g=sns.heatmap(M[k],vmin=0, vmax=0.3,annot=True,fmt=\".1%\",linewidths=0.3,cmap=\"Blues\",cbar=False,xticklabels=x_labels)\n",
    " g.set_yticklabels(g.get_yticklabels(), rotation = 0)\n",
    " bottom, top = ax.get_ylim()\n",
    " ax.set_ylim(bottom + 0.5, top - 0.5)\n",
    " if k == 1:\n",
    "   ax.vlines(np.arange(20), *ax.get_ylim())\n",
    " if k == 2:\n",
    "   ax.hlines(np.arange(20), *ax.get_xlim())\n",
    "\n",
    " plt.savefig(\"figuras_nuse/nuse_mes_dia_condicional_\"+title[k],dpi=300,bbox_inches = \"tight\")\n",
    " plt.show()"
   ]
  },
  {
   "cell_type": "markdown",
   "metadata": {},
   "source": [
    "## Mes y día de la semana extendido"
   ]
  },
  {
   "cell_type": "markdown",
   "metadata": {},
   "source": [
    "### Conjunta"
   ]
  },
  {
   "cell_type": "code",
   "execution_count": null,
   "metadata": {},
   "outputs": [],
   "source": [
    "subdata = pd.DataFrame(data2018.groupby(['MES','DIA_EXTENDIDO']).size()).reset_index().rename(columns={0:\"Cantidad\"})\n",
    "subdata['Porcentaje']=subdata['Cantidad']/subdata['Cantidad'].sum()*100\n",
    "\n",
    "fig = px.scatter(subdata, x=\"MES\", y=\"Porcentaje\", size=\"Porcentaje\", color=\"DIA_EXTENDIDO\",\n",
    "                 width=1000, height=600, color_discrete_sequence = px.colors.qualitative.Prism[1:],\n",
    "                 category_orders={\"DIA_EXTENDIDO\": [\"Monday\", \"Tuesday\", \"Wednesday\", \"Thursday\",\"Friday\",\"Saturday\",\"Sunday\"]},\n",
    "                 hover_name=\"DIA_EXTENDIDO\", size_max=40,labels={\"DIA_EXTENDIDO\":\"DIA_EXTENDIDO\"})\n",
    "fig.update_layout(title_text=\"\",legend_orientation='v')\n",
    "fig.update_xaxes(tickangle=0)\n",
    "fig.write_image(\"figuras_nuse/nuse_mes_día_extendido_conjunta.png\")\n",
    "fig.show()"
   ]
  },
  {
   "cell_type": "markdown",
   "metadata": {},
   "source": [
    "### Condicional"
   ]
  },
  {
   "cell_type": "code",
   "execution_count": null,
   "metadata": {},
   "outputs": [],
   "source": [
    "data['DIA_SEMANA'] = data[\"FECHA\"].dt.dayofweek\n",
    "data2018['DIA_SEMANA'] = data2018[\"FECHA\"].dt.dayofweek"
   ]
  },
  {
   "cell_type": "code",
   "execution_count": null,
   "metadata": {
    "scrolled": true
   },
   "outputs": [],
   "source": [
    "import seaborn as sns\n",
    "var1='MES'\n",
    "var2='DIA_EXTENDIDO'\n",
    "var_aux='STR_NUMERO_INTERNO'\n",
    "\n",
    "A=data2018.groupby([var1,var2]).agg({'STR_NUMERO_INTERNO':'count'}).reset_index().rename(columns={var_aux:'Frecuencia'})\n",
    "A['Porcentaje']=A['Frecuencia']/A['Frecuencia'].sum()\n",
    "join=(A.pivot(var1,var2,'Porcentaje')).fillna(0)\n",
    "join = join.reindex([\"Monday\",\"Tuesday\",\"Wednesday\",\"Thursday\",\"Friday\",\"Saturday\",\"Sunday\"], axis=1)\n",
    "gc=join/join.sum(axis=0)\n",
    "gf=(join.T/join.sum(axis=1)).T\n",
    "M=[join,gc,gf]\n",
    "title=[\"join\",'g_columna',\"g_fila\"]\n",
    "#x_labels = ['LUN', 'MAR', 'MIE', 'JUE', 'VIE', 'SAB', 'DOM']\n",
    "\n",
    "for k in range(3):\n",
    " print(title[k])\n",
    " fig, ax = plt.subplots(1,1,sharex=True, sharey=True)\n",
    " fig.set_size_inches(7, 8)\n",
    " g=sns.heatmap(M[k],vmin=0, vmax=0.3,annot=True,fmt=\".1%\",linewidths=0,cmap=\"Blues\",cbar=False)\n",
    " g.set_yticklabels(g.get_yticklabels(), rotation = 0)\n",
    " bottom, top = ax.get_ylim()\n",
    " ax.set_ylim(bottom + 0.5, top - 0.5)\n",
    " if k == 1:\n",
    "   ax.vlines(np.arange(20), *ax.get_ylim())\n",
    " if k == 2:\n",
    "   ax.hlines(np.arange(20), *ax.get_xlim())\n",
    "\n",
    " plt.savefig(\"figuras_nuse/nuse_mes_dia_extendido_condicional_\"+title[k],dpi=300,bbox_inches = \"tight\")\n",
    " plt.show()"
   ]
  },
  {
   "cell_type": "markdown",
   "metadata": {},
   "source": [
    "## Mes y año"
   ]
  },
  {
   "cell_type": "markdown",
   "metadata": {},
   "source": [
    "### Conjunta"
   ]
  },
  {
   "cell_type": "code",
   "execution_count": null,
   "metadata": {},
   "outputs": [],
   "source": [
    "data2018['ANIO']=data2018[\"ANIO\"].astype(str)\n",
    "subdata = pd.DataFrame(data2018.groupby(['ANIO','MES']).size()).reset_index().rename(columns={0:\"Cantidad\"})\n",
    "subdata['Porcentaje']=subdata['Cantidad']/subdata['Cantidad'].sum()*100\n",
    "\n",
    "fig = px.scatter(subdata, x=\"MES\", y=\"Porcentaje\", size=\"Porcentaje\", color=\"ANIO\",\n",
    "                 width=1000, height=600, color_discrete_sequence = px.colors.qualitative.Prism[4:],\n",
    "                 hover_name=\"ANIO\", size_max=40,labels={\"ANIO\":\"AÑO\"})\n",
    "fig.update_layout(title_text=\"\",legend_orientation='v',xaxis={\"type\":\"category\"})\n",
    "fig.update_xaxes(tickangle=0)\n",
    "#fig.write_image(\"figuras_nuse/nuse_mes_año_conjunta.png\")\n",
    "fig.show()"
   ]
  },
  {
   "cell_type": "markdown",
   "metadata": {},
   "source": [
    "### Condicional"
   ]
  },
  {
   "cell_type": "code",
   "execution_count": null,
   "metadata": {},
   "outputs": [],
   "source": [
    "import seaborn as sns\n",
    "var1='ANIO'\n",
    "var2='MES'\n",
    "var_aux='STR_NUMERO_INTERNO'\n",
    "\n",
    "A=data2018.groupby([var1,var2]).agg({'STR_NUMERO_INTERNO':'count'}).reset_index().rename(columns={var_aux:'Frecuencia'})\n",
    "A['Porcentaje']=A['Frecuencia']/A['Frecuencia'].sum()\n",
    "join=(A.pivot(var1,var2,'Porcentaje')).fillna(0)\n",
    "gc=join/join.sum(axis=0)\n",
    "gf=(join.T/join.sum(axis=1)).T\n",
    "M=[join,gc,gf]\n",
    "title=[\"join\",'g_columna',\"g_fila\"]\n",
    "#x_labels = ['LUN', 'MAR', 'MIE', 'JUE', 'VIE', 'SAB', 'DOM']\n",
    "\n",
    "for k in range(3):\n",
    " print(title[k])\n",
    " fig, ax = plt.subplots(1,1,sharex=True, sharey=True)\n",
    " fig.set_size_inches(7, 3)\n",
    " g=sns.heatmap(M[k],vmin=0, vmax=0.3,annot=True,fmt=\".1%\",linewidths=0.3,cmap=\"Blues\",cbar=False)\n",
    " g.set_yticklabels(g.get_yticklabels(), rotation = 0)\n",
    " bottom, top = ax.get_ylim()\n",
    " ax.set_ylim(bottom + 0.5, top - 0.5)\n",
    " if k == 1:\n",
    "   ax.vlines(np.arange(20), *ax.get_ylim())\n",
    " if k == 2:\n",
    "   ax.hlines(np.arange(20), *ax.get_xlim())\n",
    "\n",
    " plt.savefig(\"figuras_nuse/nuse_mes_año_condicional_\"+title[k],dpi=300,bbox_inches = \"tight\")\n",
    " plt.show()"
   ]
  },
  {
   "cell_type": "markdown",
   "metadata": {},
   "source": [
    "## Localidades y rango hora"
   ]
  },
  {
   "cell_type": "markdown",
   "metadata": {},
   "source": [
    "### Conjunta"
   ]
  },
  {
   "cell_type": "code",
   "execution_count": null,
   "metadata": {},
   "outputs": [],
   "source": [
    "subdata = pd.DataFrame(data.groupby(['LOCALIDAD','RANGO_HORA']).size()).reset_index().rename(columns={0:\"Cantidad\"})\n",
    "subdata['Porcentaje']=subdata['Cantidad']/subdata['Cantidad'].sum()*100\n",
    "\n",
    "fig = px.scatter(subdata, x=\"LOCALIDAD\", y=\"Porcentaje\", size=\"Porcentaje\", color=\"RANGO_HORA\",\n",
    "                 width=1000, height=600, color_discrete_sequence = px.colors.qualitative.Prism[1:],\n",
    "                 category_orders={\"RANGO_HORA\": [\"0:00 a 3:59\",\"4:00 a 7:59\",\"8:00 a 11:59\",\"12:00 a 15:59\",\"16:00 a 19:59\",\"20:00 a 23:59\"]},\n",
    "                 hover_name=\"RANGO_HORA\", size_max=40,labels={\"RANGO_HORA\":\"Hora\"})\n",
    "fig.update_layout(title_text=\"\",legend_orientation='v')\n",
    "fig.update_xaxes(tickangle=90)\n",
    "#fig.write_image(\"figuras_nuse/nuse_localidad_rango_hora_conjunta.png\")\n",
    "fig.show()"
   ]
  },
  {
   "cell_type": "markdown",
   "metadata": {},
   "source": [
    "### Condicional"
   ]
  },
  {
   "cell_type": "code",
   "execution_count": null,
   "metadata": {},
   "outputs": [],
   "source": [
    "import seaborn as sns\n",
    "var1='LOCALIDAD'\n",
    "var2='RANGO_HORA'\n",
    "var_aux='STR_NUMERO_INTERNO'\n",
    "\n",
    "A=data.groupby([var1,var2]).agg({'STR_NUMERO_INTERNO':'count'}).reset_index().rename(columns={var_aux:'Frecuencia'})\n",
    "A['Porcentaje']=A['Frecuencia']/A['Frecuencia'].sum()\n",
    "join=(A.pivot(var1,var2,'Porcentaje')).fillna(0)\n",
    "join = join.reindex([\"0:00 a 3:59\",\"4:00 a 7:59\",\"8:00 a 11:59\",\"12:00 a 15:59\",\"16:00 a 19:59\",\"20:00 a 23:59\"], axis=1)\n",
    "join.head()"
   ]
  },
  {
   "cell_type": "code",
   "execution_count": null,
   "metadata": {},
   "outputs": [],
   "source": [
    "gc=join/join.sum(axis=0)\n",
    "gf=(join.T/join.sum(axis=1)).T\n",
    "M=[join,gc,gf]\n",
    "title=[\"join\",'g_columna',\"g_fila\"]\n",
    "\n",
    "for k in range(3):\n",
    " print(title[k])\n",
    " fig, ax = plt.subplots(1,1,sharex=True, sharey=True)\n",
    " fig.set_size_inches(7, 8)\n",
    " g=sns.heatmap(M[k],vmin=0, vmax=0.3,annot=True,fmt=\".1%\",linewidths=0,cmap=\"Blues\",cbar=False)\n",
    " g.set_yticklabels(g.get_yticklabels(), rotation = 0)\n",
    " bottom, top = ax.get_ylim()\n",
    " ax.set_ylim(bottom + 0.5, top - 0.5)\n",
    " if k == 1:\n",
    "   ax.vlines(np.arange(20), *ax.get_ylim())\n",
    " if k == 2:\n",
    "   ax.hlines(np.arange(20), *ax.get_xlim())\n",
    "\n",
    " plt.savefig(\"figuras_nuse/nuse_localidad_rango_hora_condicional_\"+title[k],dpi=300,bbox_inches = \"tight\")\n",
    " plt.show()"
   ]
  },
  {
   "cell_type": "markdown",
   "metadata": {},
   "source": [
    "## Localidades y día de la semana"
   ]
  },
  {
   "cell_type": "markdown",
   "metadata": {},
   "source": [
    "### Conjunta"
   ]
  },
  {
   "cell_type": "code",
   "execution_count": null,
   "metadata": {},
   "outputs": [],
   "source": [
    "subdata = pd.DataFrame(data.groupby(['LOCALIDAD','day_of_week']).size()).reset_index().rename(columns={0:\"Cantidad\"})\n",
    "subdata['Porcentaje']=subdata['Cantidad']/subdata['Cantidad'].sum()*100\n",
    "\n",
    "fig = px.scatter(subdata, x=\"LOCALIDAD\", y=\"Porcentaje\", size=\"Porcentaje\", color=\"day_of_week\",\n",
    "                 width=1000, height=600, color_discrete_sequence = px.colors.qualitative.Prism[1:],\n",
    "                 category_orders={\"day_of_week\": [\"Monday\", \"Tuesday\", \"Wednesday\", \"Thursday\",\"Friday\",\"Saturday\",\"Sunday\"]},\n",
    "                 hover_name=\"day_of_week\", size_max=40,labels={\"day_of_week\":\"day\"})\n",
    "fig.update_layout(title_text=\"\",legend_orientation='v')\n",
    "fig.update_xaxes(tickangle=90)\n",
    "#fig.write_image(\"figuras_nuse/nuse_localidad_día_conjunta.png\")\n",
    "fig.show()"
   ]
  },
  {
   "cell_type": "markdown",
   "metadata": {},
   "source": [
    "### Condicional"
   ]
  },
  {
   "cell_type": "code",
   "execution_count": null,
   "metadata": {},
   "outputs": [],
   "source": [
    "data['DIA_SEMANA'] = data[\"FECHA\"].dt.dayofweek\n",
    "data2018['DIA_SEMANA'] = data2018[\"FECHA\"].dt.dayofweek"
   ]
  },
  {
   "cell_type": "code",
   "execution_count": null,
   "metadata": {},
   "outputs": [],
   "source": [
    "import seaborn as sns\n",
    "var1='LOCALIDAD'\n",
    "var2='DIA_SEMANA'\n",
    "var_aux='STR_NUMERO_INTERNO'\n",
    "\n",
    "A=data.groupby([var1,var2]).agg({'STR_NUMERO_INTERNO':'count'}).reset_index().rename(columns={var_aux:'Frecuencia'})\n",
    "A['Porcentaje']=A['Frecuencia']/A['Frecuencia'].sum()\n",
    "join=(A.pivot(var1,var2,'Porcentaje')).fillna(0)\n",
    "gc=join/join.sum(axis=0)\n",
    "gf=(join.T/join.sum(axis=1)).T\n",
    "M=[join,gc,gf]\n",
    "title=[\"join\",'g_columna',\"g_fila\"]\n",
    "x_labels = ['LUN', 'MAR', 'MIE', 'JUE', 'VIE', 'SAB', 'DOM']\n",
    "\n",
    "for k in range(3):\n",
    " print(title[k])\n",
    " fig, ax = plt.subplots(1,1,sharex=True, sharey=True)\n",
    " fig.set_size_inches(7, 8)\n",
    " g=sns.heatmap(M[k],vmin=0, vmax=0.3,annot=True,fmt=\".1%\",linewidths=0.3,cmap=\"Blues\",cbar=False,xticklabels=x_labels)\n",
    " g.set_yticklabels(g.get_yticklabels(), rotation = 0)\n",
    " bottom, top = ax.get_ylim()\n",
    " ax.set_ylim(bottom + 0.5, top - 0.5)\n",
    " if k == 1:\n",
    "   ax.vlines(np.arange(20), *ax.get_ylim())\n",
    " if k == 2:\n",
    "   ax.hlines(np.arange(20), *ax.get_xlim())\n",
    "\n",
    " #plt.savefig(\"figuras_nuse/nuse_localidad_dia_condicional_\"+title[k],dpi=300,bbox_inches = \"tight\")\n",
    " plt.show()"
   ]
  },
  {
   "cell_type": "markdown",
   "metadata": {},
   "source": [
    "## Localidades y día extendido"
   ]
  },
  {
   "cell_type": "markdown",
   "metadata": {},
   "source": [
    "### Conjunta"
   ]
  },
  {
   "cell_type": "code",
   "execution_count": null,
   "metadata": {},
   "outputs": [],
   "source": [
    "subdata = pd.DataFrame(data.groupby(['LOCALIDAD','DIA_EXTENDIDO']).size()).reset_index().rename(columns={0:\"Cantidad\"})\n",
    "subdata['Porcentaje']=subdata['Cantidad']/subdata['Cantidad'].sum()*100\n",
    "\n",
    "fig = px.scatter(subdata, x=\"LOCALIDAD\", y=\"Porcentaje\", size=\"Porcentaje\", color=\"DIA_EXTENDIDO\",\n",
    "                 width=1000, height=600, color_discrete_sequence = px.colors.qualitative.Prism[1:],\n",
    "                 category_orders={\"DIA_EXTENDIDO\": [\"Monday\", \"Tuesday\", \"Wednesday\", \"Thursday\",\"Friday\",\"Saturday\",\"Sunday\"]},\n",
    "                 hover_name=\"DIA_EXTENDIDO\", size_max=40,labels={\"DIA_EXTENDIDO\":\"DIA_EXTENDIDO\"})\n",
    "fig.update_layout(title_text=\"\",legend_orientation='v')\n",
    "fig.update_xaxes(tickangle=90)\n",
    "fig.write_image(\"figuras_nuse/nuse_localidad_día_extendido_conjunta.png\")\n",
    "fig.show()"
   ]
  },
  {
   "cell_type": "markdown",
   "metadata": {},
   "source": [
    "### Condicional"
   ]
  },
  {
   "cell_type": "code",
   "execution_count": null,
   "metadata": {},
   "outputs": [],
   "source": [
    "data['DIA_SEMANA'] = data[\"FECHA\"].dt.dayofweek\n",
    "data2018['DIA_SEMANA'] = data2018[\"FECHA\"].dt.dayofweek"
   ]
  },
  {
   "cell_type": "code",
   "execution_count": null,
   "metadata": {},
   "outputs": [],
   "source": [
    "import seaborn as sns\n",
    "var1='LOCALIDAD'\n",
    "var2='DIA_EXTENDIDO'\n",
    "var_aux='STR_NUMERO_INTERNO'\n",
    "\n",
    "A=data.groupby([var1,var2]).agg({'STR_NUMERO_INTERNO':'count'}).reset_index().rename(columns={var_aux:'Frecuencia'})\n",
    "A['Porcentaje']=A['Frecuencia']/A['Frecuencia'].sum()\n",
    "join=(A.pivot(var1,var2,'Porcentaje')).fillna(0)\n",
    "join = join.reindex([\"Monday\",\"Tuesday\",\"Wednesday\",\"Thursday\",\"Friday\",\"Saturday\",\"Sunday\"], axis=1)\n",
    "gc=join/join.sum(axis=0)\n",
    "gf=(join.T/join.sum(axis=1)).T\n",
    "M=[join,gc,gf]\n",
    "title=[\"join\",'g_columna',\"g_fila\"]\n",
    "#x_labels = ['LUN', 'MAR', 'MIE', 'JUE', 'VIE', 'SAB', 'DOM']\n",
    "\n",
    "for k in range(3):\n",
    " print(title[k])\n",
    " fig, ax = plt.subplots(1,1,sharex=True, sharey=True)\n",
    " fig.set_size_inches(7, 8)\n",
    " g=sns.heatmap(M[k],vmin=0, vmax=0.3,annot=True,fmt=\".1%\",linewidths=0.3,cmap=\"Blues\",cbar=False)\n",
    " g.set_yticklabels(g.get_yticklabels(), rotation = 0)\n",
    " bottom, top = ax.get_ylim()\n",
    " ax.set_ylim(bottom + 0.5, top - 0.5)\n",
    " if k == 1:\n",
    "   ax.vlines(np.arange(20), *ax.get_ylim())\n",
    " if k == 2:\n",
    "   ax.hlines(np.arange(20), *ax.get_xlim())\n",
    "\n",
    " #plt.savefig(\"figuras_nuse/nuse_localidad_dia_extendido_condicional_\"+title[k],dpi=300,bbox_inches = \"tight\")\n",
    " plt.show()"
   ]
  },
  {
   "cell_type": "markdown",
   "metadata": {},
   "source": [
    "## Localidades y mes"
   ]
  },
  {
   "cell_type": "markdown",
   "metadata": {},
   "source": [
    "### Conjunta"
   ]
  },
  {
   "cell_type": "code",
   "execution_count": null,
   "metadata": {},
   "outputs": [],
   "source": [
    "subdata = pd.DataFrame(data2018.groupby(['LOCALIDAD','MES']).size()).reset_index().rename(columns={0:\"Cantidad\"})\n",
    "subdata['Porcentaje']=subdata['Cantidad']/subdata['Cantidad'].sum()*100\n",
    "\n",
    "fig = px.scatter(subdata, x=\"LOCALIDAD\", y=\"Porcentaje\", size=\"Porcentaje\", color=\"MES\",\n",
    "                 width=1000, height=600, color_discrete_sequence = px.colors.qualitative.Prism[1:],\n",
    "                 category_orders={\"MES\": [\"1\",\"2\",\"3\",\"4\",\"5\",\"6\",\"7\",\"8\",\"9\",\"10\",\"11\",\"12\"]},\n",
    "                 hover_name=\"MES\", size_max=40,labels={\"MES\":\"Mes\"})\n",
    "fig.update_layout(title_text=\"\",legend_orientation='v')\n",
    "fig.update_xaxes(tickangle=90)\n",
    "#fig.write_image(\"figuras_nuse/nuse_localidad_mes_conjunta.png\")\n",
    "fig.show()"
   ]
  },
  {
   "cell_type": "markdown",
   "metadata": {},
   "source": [
    "### Condicional"
   ]
  },
  {
   "cell_type": "code",
   "execution_count": null,
   "metadata": {},
   "outputs": [],
   "source": [
    "import seaborn as sns\n",
    "var1='LOCALIDAD'\n",
    "var2='MES'\n",
    "var_aux='STR_NUMERO_INTERNO'\n",
    "\n",
    "A=data2018.groupby([var1,var2]).agg({'STR_NUMERO_INTERNO':'count'}).reset_index().rename(columns={var_aux:'Frecuencia'})\n",
    "A['Porcentaje']=A['Frecuencia']/A['Frecuencia'].sum()\n",
    "join=(A.pivot(var1,var2,'Porcentaje')).fillna(0)\n",
    "gc=join/join.sum(axis=0)\n",
    "gf=(join.T/join.sum(axis=1)).T\n",
    "M=[join,gc,gf]\n",
    "title=[\"join\",'g_columna',\"g_fila\"]\n",
    "\n",
    "for k in range(3):\n",
    " print(title[k])\n",
    " fig, ax = plt.subplots(1,1,sharex=True, sharey=True)\n",
    " fig.set_size_inches(7, 8)\n",
    " g=sns.heatmap(M[k],vmin=0, vmax=1,annot=True,fmt=\".1%\",linewidths=0.3,cmap=\"Blues\",cbar=False)\n",
    " g.set_yticklabels(g.get_yticklabels(), rotation = 0)\n",
    " bottom, top = ax.get_ylim()\n",
    " ax.set_ylim(bottom + 0.5, top - 0.5)\n",
    " if k == 1:\n",
    "   ax.vlines(np.arange(20), *ax.get_ylim())\n",
    " if k == 2:\n",
    "   ax.hlines(np.arange(20), *ax.get_xlim())\n",
    "\n",
    " plt.savefig(\"figuras_nuse/nuse_localidad_mes_condicional_\"+title[k],dpi=300,bbox_inches = \"tight\")\n",
    " plt.show()"
   ]
  },
  {
   "cell_type": "markdown",
   "metadata": {},
   "source": [
    "## Probabilidades condicionales - UPZ y día de la semana"
   ]
  },
  {
   "cell_type": "code",
   "execution_count": null,
   "metadata": {},
   "outputs": [],
   "source": [
    "import seaborn as sns\n",
    "var1='UPZ'\n",
    "var2='DIA_SEMANA'\n",
    "var_aux='STR_NUMERO_INTERNO'\n",
    "\n",
    "A=data.groupby([var1,var2]).agg({'STR_NUMERO_INTERNO':'count'}).reset_index().rename(columns={var_aux:'Frecuencia'})\n",
    "A['Porcentaje']=A['Frecuencia']/A['Frecuencia'].sum()\n",
    "join=(A.pivot(var1,var2,'Porcentaje')).fillna(0)\n",
    "gc=join/join.sum(axis=0)\n",
    "gf=(join.T/join.sum(axis=1)).T\n",
    "M=[join,gc,gf]\n",
    "title=[\"join\",'g_columna',\"g_fila\"]\n",
    "\n",
    "for k in range(3):\n",
    " print(title[k])\n",
    " fig, ax = plt.subplots(1,1,sharex=True, sharey=True)\n",
    " fig.set_size_inches(7, 8)\n",
    " g=sns.heatmap(M[k],vmin=0, vmax=0.1,annot=False,fmt=\".1%\",linewidths=0,cmap=\"Blues\",cbar=False)\n",
    " g.set_yticklabels(g.get_yticklabels(), rotation = 0)\n",
    " bottom, top = ax.get_ylim()\n",
    " ax.set_ylim(bottom + 0.5, top - 0.5)\n",
    " if k == 1:\n",
    "   ax.vlines(np.arange(20), *ax.get_ylim())\n",
    " if k == 2:\n",
    "   ax.hlines(np.arange(20), *ax.get_xlim())\n",
    "\n",
    " #plt.savefig(\"figuras_nuse/nuse_localidad_mes_condicional_\"+title[k],dpi=300,bbox_inches = \"tight\")\n",
    " plt.show()"
   ]
  },
  {
   "cell_type": "markdown",
   "metadata": {},
   "source": [
    "## Mapa de calor"
   ]
  },
  {
   "cell_type": "code",
   "execution_count": null,
   "metadata": {},
   "outputs": [],
   "source": [
    "import folium\n",
    "from folium import plugins\n",
    "subdata=data.sample(50000)\n",
    "map_hooray = folium.Map(location=[4.626860,-74.084216],zoom_start = 11)"
   ]
  },
  {
   "cell_type": "code",
   "execution_count": null,
   "metadata": {},
   "outputs": [],
   "source": [
    "position=pd.DataFrame(subdata.groupby(['LONGITUD','LATITUD','day_of_week']).size()).reset_index().rename(columns={0:\"Cantidad\"})\n",
    "position.head()"
   ]
  },
  {
   "cell_type": "code",
   "execution_count": null,
   "metadata": {},
   "outputs": [],
   "source": [
    "position.Cantidad.max()"
   ]
  },
  {
   "cell_type": "code",
   "execution_count": null,
   "metadata": {},
   "outputs": [],
   "source": [
    "len(position)"
   ]
  },
  {
   "cell_type": "markdown",
   "metadata": {},
   "source": [
    "### Mapa de calor reporte de incidentes general"
   ]
  },
  {
   "cell_type": "code",
   "execution_count": null,
   "metadata": {},
   "outputs": [],
   "source": [
    "points = position[['LATITUD','LONGITUD','Cantidad']]\n",
    "custom_radius=points.Cantidad.max()*10/position.Cantidad.max()\n",
    "hm = plugins.HeatMap(points.values.tolist(),radius=custom_radius)\n",
    "hm.add_to(map_hooray)\n",
    "#map_hooray.save(\"figuras_nuse/nuse_map.png\")\n",
    "map_hooray"
   ]
  },
  {
   "cell_type": "code",
   "execution_count": null,
   "metadata": {},
   "outputs": [],
   "source": [
    "points.Cantidad.max()"
   ]
  },
  {
   "cell_type": "markdown",
   "metadata": {},
   "source": [
    "### Mapa de calor por día de la semana"
   ]
  },
  {
   "cell_type": "code",
   "execution_count": null,
   "metadata": {},
   "outputs": [],
   "source": [
    "points=position.query('day_of_week == \"Tuesday\"')\n",
    "points = points[['LATITUD','LONGITUD','Cantidad']]\n",
    "custom_radius=points.Cantidad.max()*10/position.Cantidad.max()\n",
    "hm = plugins.HeatMap(points.values.tolist(),radius=custom_radius)\n",
    "hm.add_to(map_hooray)\n",
    "#map_hooray.save(\"figuras_nuse/nuse_map.png\")\n",
    "map_hooray"
   ]
  },
  {
   "cell_type": "code",
   "execution_count": null,
   "metadata": {},
   "outputs": [],
   "source": [
    "points.Cantidad.max()"
   ]
  },
  {
   "cell_type": "code",
   "execution_count": null,
   "metadata": {},
   "outputs": [],
   "source": [
    "print(custom_radius)"
   ]
  },
  {
   "cell_type": "code",
   "execution_count": null,
   "metadata": {},
   "outputs": [],
   "source": [
    "points=position.query('day_of_week == \"Sunday\"')\n",
    "points.head()\n"
   ]
  },
  {
   "cell_type": "code",
   "execution_count": null,
   "metadata": {},
   "outputs": [],
   "source": []
  },
  {
   "cell_type": "code",
   "execution_count": null,
   "metadata": {},
   "outputs": [],
   "source": [
    "def map_points(df, lat_col='latitude', lon_col='loLONGITUDngitude', zoom_start=11, \\\n",
    "                plot_points=False, pt_radius=15, \\\n",
    "                draw_heatmap=False, heat_map_weights_col=None, \\\n",
    "                heat_map_weights_normalize=True, heat_map_radius=15):\n",
    "    \"\"\"Creates a map given a dataframe of points. Can also produce a heatmap overlay\n",
    "\n",
    "    Arg:\n",
    "        df: dataframe containing points to maps\n",
    "        lat_col: Column containing latitude (string)\n",
    "        lon_col: Column containing longitude (string)\n",
    "        zoom_start: Integer representing the initial zoom of the map\n",
    "        plot_points: Add points to map (boolean)\n",
    "        pt_radius: Size of each point\n",
    "        draw_heatmap: Add heatmap to map (boolean)\n",
    "        heat_map_weights_col: Column containing heatmap weights\n",
    "        heat_map_weights_normalize: Normalize heatmap weights (boolean)\n",
    "        heat_map_radius: Size of heatmap point\n",
    "\n",
    "    Returns:\n",
    "        folium map object\n",
    "    \"\"\"\n",
    "\n",
    "    ## center map in the middle of points center in\n",
    "    middle_lat = df[lat_col].median()\n",
    "    middle_lon = df[lon_col].median()\n",
    "\n",
    "    curr_map = folium.Map(location=[middle_lat, middle_lon],\n",
    "                          zoom_start=zoom_start)\n",
    "\n",
    "    # add points to map\n",
    "    if plot_points:\n",
    "        for _, row in df.iterrows():\n",
    "            folium.CircleMarker([row[lat_col], row[lon_col]],\n",
    "                                radius=pt_radius,\n",
    "                                popup=row['name'],\n",
    "                                fill_color=\"#3db7e4\", # divvy color\n",
    "                               ).add_to(curr_map)\n",
    "\n",
    "    # add heatmap\n",
    "    if draw_heatmap:\n",
    "        # convert to (n, 2) or (n, 3) matrix format\n",
    "        if heat_map_weights_col is None:\n",
    "            cols_to_pull = [lat_col, lon_col]\n",
    "        else:\n",
    "            # if we have to normalize\n",
    "            if heat_map_weights_normalize:\n",
    "                df[heat_map_weights_col] = \\\n",
    "                    df[heat_map_weights_col] / df[heat_map_weights_col].sum()\n",
    "\n",
    "            cols_to_pull = [lat_col, lon_col, heat_map_weights_col]\n",
    "\n",
    "        stations = df[cols_to_pull].as_matrix()\n",
    "        curr_map.add_children(plugins.HeatMap(stations, radius=heat_map_radius))\n",
    "\n",
    "    return curr_map"
   ]
  }
 ],
 "metadata": {
  "kernelspec": {
   "display_name": "Python 3",
   "language": "python",
   "name": "python3"
  },
  "language_info": {
   "codemirror_mode": {
    "name": "ipython",
    "version": 3
   },
   "file_extension": ".py",
   "mimetype": "text/x-python",
   "name": "python",
   "nbconvert_exporter": "python",
   "pygments_lexer": "ipython3",
   "version": "3.7.2"
  }
 },
 "nbformat": 4,
 "nbformat_minor": 2
}
