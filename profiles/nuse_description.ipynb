{
 "cells": [
  {
   "cell_type": "markdown",
   "metadata": {},
   "source": [
    "# Análisis Exploratorio\n",
    "\n",
    "    Fuente de información: NUSE\n",
    "    Archivos: \n",
    "    NUSE 934 611(M) 2017-2018.dsv\n",
    "    NUSE 934-611-611M ENERO2019.csv"
   ]
  },
  {
   "cell_type": "code",
   "execution_count": null,
   "metadata": {},
   "outputs": [],
   "source": [
    "import pandas as pd\n",
    "import numpy as np\n",
    "import matplotlib.pyplot as plt\n",
    "from IPython.display import display, HTML\n",
    "import plotly.express as px\n",
    "pd.set_option('display.max_colwidth', -1)\n",
    "pd.set_option('display.max_columns', None)  \n",
    "from wordcloud import WordCloud, STOPWORDS"
   ]
  },
  {
   "cell_type": "code",
   "execution_count": null,
   "metadata": {},
   "outputs": [],
   "source": [
    "#Create folder to save figures\n",
    "import os\n",
    "\n",
    "if not os.path.exists(\"figuras_nuse\"):\n",
    "    os.mkdir(\"figuras_nuse\")"
   ]
  },
  {
   "cell_type": "code",
   "execution_count": null,
   "metadata": {},
   "outputs": [],
   "source": [
    "def print_Data(df):\n",
    "    display(df.style.hide_index())"
   ]
  },
  {
   "cell_type": "code",
   "execution_count": null,
   "metadata": {},
   "outputs": [],
   "source": [
    "data_location = '/Users/anamaria/Downloads/NUSE 934 611(M) 2017-2018.dsv'\n",
    "data2018=pd.read_csv(data_location,delimiter=\"|\")"
   ]
  },
  {
   "cell_type": "code",
   "execution_count": null,
   "metadata": {},
   "outputs": [],
   "source": [
    "data_location = '/Users/anamaria/Downloads/NUSE 934-611-611M ENERO2019.csv'\n",
    "data2019=pd.read_csv(data_location,delimiter=\";\")"
   ]
  },
  {
   "cell_type": "markdown",
   "metadata": {},
   "source": [
    "## Join datasets"
   ]
  },
  {
   "cell_type": "code",
   "execution_count": null,
   "metadata": {},
   "outputs": [],
   "source": [
    "frames = [data2018, data2019]\n",
    "data = pd.concat(frames)"
   ]
  },
  {
   "cell_type": "code",
   "execution_count": null,
   "metadata": {},
   "outputs": [],
   "source": [
    "data.head()"
   ]
  },
  {
   "cell_type": "code",
   "execution_count": null,
   "metadata": {},
   "outputs": [],
   "source": [
    "print(\"Tamaño:\",data.shape)\n",
    "print(\"size: \",data.size)\n",
    "print(\"Porcentaje Celdas Vacias:\",data.isna().mean().mean())\n",
    "print(\"Porcentaje Celdas con valor '-':\",(data == \"-\").mean().mean())\n",
    "print(\"Filas duplicadas\",data.duplicated().sum())"
   ]
  },
  {
   "cell_type": "code",
   "execution_count": null,
   "metadata": {},
   "outputs": [],
   "source": [
    "data.drop_duplicates(inplace=True)"
   ]
  },
  {
   "cell_type": "code",
   "execution_count": null,
   "metadata": {},
   "outputs": [],
   "source": [
    "print(\"Tamaño:\",data.shape)\n",
    "print(\"size: \",data.size)\n",
    "print(\"Porcentaje Celdas Vacias:\",data.isna().mean().mean())\n",
    "print(\"Porcentaje Celdas con valor '-':\",(data == \"-\").mean().mean())\n",
    "print(\"Filas duplicadas\",data.duplicated().sum())"
   ]
  },
  {
   "cell_type": "code",
   "execution_count": null,
   "metadata": {},
   "outputs": [],
   "source": [
    "pd.DataFrame({\"Tipo de dato\":data.dtypes.values,\n",
    "              \"Celdas con valor '-'\":(data == '-').sum().values,\n",
    "             \"Celdas vacías\": data.isna().sum().values},\n",
    "             index=data.columns)"
   ]
  },
  {
   "cell_type": "markdown",
   "metadata": {},
   "source": [
    "### Analisis campo 'FECHA'"
   ]
  },
  {
   "cell_type": "code",
   "execution_count": null,
   "metadata": {},
   "outputs": [],
   "source": [
    "data['FECHA'] =  pd.to_datetime(data['FECHA'])\n",
    "subdata=pd.DataFrame(data.groupby([\"FECHA\"]).size(),columns=[\"Cantidad\"]).sort_index().reset_index()\n",
    "topdata=(subdata.sort_values(by=['Cantidad'],ascending=False)[:10])"
   ]
  },
  {
   "cell_type": "code",
   "execution_count": null,
   "metadata": {},
   "outputs": [],
   "source": [
    "#Statistical description\n",
    "pd.DataFrame(subdata.describe())"
   ]
  },
  {
   "cell_type": "code",
   "execution_count": null,
   "metadata": {},
   "outputs": [],
   "source": [
    "##Time series\n",
    "fig = px.line(subdata, x='FECHA', y='Cantidad',\n",
    "              color_discrete_sequence = px.colors.qualitative.Prism[1:])\n",
    "fig.update_layout(title_text=\"Incident reports time series\",\n",
    "                  xaxis_rangeslider_visible=True)\n",
    "fig.write_image(\"figuras_nuse/fecha_ts.png\")\n",
    "fig.show()"
   ]
  },
  {
   "cell_type": "code",
   "execution_count": null,
   "metadata": {},
   "outputs": [],
   "source": [
    "# Bar figure for top frequent values\n",
    "fig = px.bar(topdata, x='Cantidad', y='FECHA', orientation='h', \n",
    "             color_discrete_sequence = px.colors.qualitative.Prism[2:])\n",
    "fig.update_layout(title_text=\"Top dates of incident reports\")\n",
    "fig.write_image(\"figuras_nuse/fecha_bar.png\")\n",
    "fig.show()"
   ]
  },
  {
   "cell_type": "code",
   "execution_count": null,
   "metadata": {},
   "outputs": [],
   "source": [
    "data['day_of_week'] = data[\"FECHA\"].dt.day_name()"
   ]
  },
  {
   "cell_type": "code",
   "execution_count": null,
   "metadata": {},
   "outputs": [],
   "source": [
    "#Incident reports by week day\n",
    "subdata=pd.DataFrame(data.groupby([\"day_of_week\",\"ANIO\"]).size(),columns=[\"Cantidad\"]).sort_index().reset_index()\n",
    "fig = px.bar(subdata, x='ANIO', y='Cantidad', color = 'day_of_week', barmode = 'group',\n",
    "            category_orders={\"day_of_week\": [\"Monday\", \"Tuesday\", \"Wednesday\", \"Thursday\",\"Friday\",\"Saturday\",\"Sunday\"]})\n",
    "fig.update_layout(title_text=\"Incident reports by day of week\")\n",
    "fig.write_image(\"figuras_nuse/day_week_year_bar.png\")\n",
    "fig.show()"
   ]
  },
  {
   "cell_type": "markdown",
   "metadata": {},
   "source": [
    "### Análisis campo 'HORA'"
   ]
  },
  {
   "cell_type": "code",
   "execution_count": null,
   "metadata": {},
   "outputs": [],
   "source": [
    "subdata=pd.DataFrame(data.groupby([\"HORA\"]).size(),columns=[\"Cantidad\"]).sort_index().reset_index()\n",
    "topdata=(subdata.sort_values(by=['Cantidad'],ascending=False)[:10])"
   ]
  },
  {
   "cell_type": "code",
   "execution_count": null,
   "metadata": {},
   "outputs": [],
   "source": [
    "#Statistical description\n",
    "pd.DataFrame(subdata.describe())"
   ]
  },
  {
   "cell_type": "code",
   "execution_count": null,
   "metadata": {},
   "outputs": [],
   "source": [
    "#Format 'HORA' field into datetime to proper visualization\n",
    "data['HORA']=data[\"HORA\"].astype(str).str.rjust(4,'0')\n",
    "data['time_stamp']=pd.to_datetime(data['HORA'],format= '%H%M').dt.time"
   ]
  },
  {
   "cell_type": "code",
   "execution_count": null,
   "metadata": {},
   "outputs": [],
   "source": [
    "##Time series\n",
    "subdata=pd.DataFrame(data.groupby([\"time_stamp\"]).size(),columns=[\"Cantidad\"]).sort_index().reset_index()\n",
    "fig = px.line(subdata, x='time_stamp', y='Cantidad',\n",
    "              color_discrete_sequence = px.colors.qualitative.Prism[1:])\n",
    "fig.update_layout(title_text=\"Incident reports time series - time (24 hr format)\",\n",
    "                  xaxis_rangeslider_visible=True)\n",
    "fig.write_image(\"figuras_nuse/hora_ts.png\")\n",
    "fig.show()"
   ]
  },
  {
   "cell_type": "code",
   "execution_count": null,
   "metadata": {},
   "outputs": [],
   "source": [
    "#Incident reports by week day and hour\n",
    "subdata=pd.DataFrame(data.groupby([\"time_stamp\",\"day_of_week\"]).size(),columns=[\"Cantidad\"]).sort_index().reset_index()\n",
    "\n",
    "fig = px.line(subdata, x=\"time_stamp\", y=\"Cantidad\", facet_row=\"day_of_week\", color=\"day_of_week\",\n",
    "              width=800, height=1400,  color_discrete_sequence = px.colors.qualitative.Prism[1:],\n",
    "              category_orders={\"day_of_week\": [\"Monday\", \"Tuesday\", \"Wednesday\", \"Thursday\",\"Friday\",\"Saturday\",\"Sunday\"]},\n",
    "              labels={\"day_of_week\":\"day\"})\n",
    "fig.update_layout(title_text=\"Incident reports by day of week and hour\",\n",
    "                 showlegend=False)\n",
    "fig.write_image(\"figuras_nuse/day_week_hour_ts.png\")\n",
    "fig.show()"
   ]
  },
  {
   "cell_type": "markdown",
   "metadata": {},
   "source": [
    "### Análisis campo 'ANIO'"
   ]
  },
  {
   "cell_type": "code",
   "execution_count": null,
   "metadata": {},
   "outputs": [],
   "source": [
    "#Format to string\n",
    "data['ANIO']=data[\"ANIO\"].astype(str)"
   ]
  },
  {
   "cell_type": "code",
   "execution_count": null,
   "metadata": {},
   "outputs": [],
   "source": [
    "subdata=pd.DataFrame(data.groupby([\"ANIO\"]).size(),columns=[\"Cantidad\"]).sort_index().reset_index()\n",
    "topdata=(subdata.sort_values(by=['Cantidad'],ascending=False)[:10])"
   ]
  },
  {
   "cell_type": "code",
   "execution_count": null,
   "metadata": {},
   "outputs": [],
   "source": [
    "#Statistical description\n",
    "pd.DataFrame(subdata.describe())"
   ]
  },
  {
   "cell_type": "code",
   "execution_count": null,
   "metadata": {},
   "outputs": [],
   "source": [
    "# Bar figure\n",
    "fig = px.bar(subdata, x='Cantidad', y='ANIO', color='ANIO', orientation='h', \n",
    "             color_discrete_sequence = px.colors.qualitative.Prism[1:])\n",
    "fig.update_layout(title_text=\"Incident reports by year\",\n",
    "                 yaxis={\"type\":\"category\"}, showlegend=False)\n",
    "fig.write_image(\"figuras_nuse/año_bar.png\")\n",
    "fig.show()"
   ]
  },
  {
   "cell_type": "markdown",
   "metadata": {},
   "source": [
    "### Análisis campo 'MES'"
   ]
  },
  {
   "cell_type": "code",
   "execution_count": null,
   "metadata": {},
   "outputs": [],
   "source": [
    "data['MES']=data[\"MES\"].astype(str)"
   ]
  },
  {
   "cell_type": "code",
   "execution_count": null,
   "metadata": {},
   "outputs": [],
   "source": [
    "subdata=pd.DataFrame(data.groupby([\"MES\"]).size(),columns=[\"Cantidad\"]).sort_index().reset_index()\n",
    "topdata=(subdata.sort_values(by=['Cantidad'],ascending=False)[:10])"
   ]
  },
  {
   "cell_type": "code",
   "execution_count": null,
   "metadata": {},
   "outputs": [],
   "source": [
    "#Statistical description\n",
    "pd.DataFrame(subdata.describe())"
   ]
  },
  {
   "cell_type": "code",
   "execution_count": null,
   "metadata": {},
   "outputs": [],
   "source": [
    "# Bar figure\n",
    "fig = px.bar(subdata, x='Cantidad', y='MES', orientation='h', color='MES',\n",
    "             color_discrete_sequence = px.colors.qualitative.Prism[0:],\n",
    "             category_orders={\"MES\": [\"1\",\"2\",\"3\",\"4\",\"5\",\"6\",\"7\",\"8\",\"9\",\"10\",\"11\",\"12\"]})\n",
    "fig.update_layout(title_text=\"Incident reports by month\",\n",
    "                 yaxis={\"type\":\"category\"}, showlegend=False)\n",
    "fig.write_image(\"figuras_nuse/mes_bar.png\")\n",
    "fig.show()"
   ]
  },
  {
   "cell_type": "code",
   "execution_count": null,
   "metadata": {},
   "outputs": [],
   "source": [
    "#Graph incidents by month and day of week\n",
    "subdata=pd.DataFrame(data.groupby([\"MES\",\"day_of_week\"]).size(),columns=[\"Cantidad\"]).sort_index().reset_index()\n",
    "\n",
    "fig = px.bar(subdata, x=\"MES\", y=\"Cantidad\", color=\"day_of_week\",\n",
    "            category_orders={\"day_of_week\": [\"Monday\", \"Tuesday\", \"Wednesday\", \"Thursday\",\"Friday\",\"Saturday\",\"Sunday\"]},\n",
    "            labels={\"day_of_week\":\"day\"},color_discrete_sequence = px.colors.qualitative.Prism[1:])\n",
    "fig.update_layout(title_text=\"Incident reports by day of week and month\")\n",
    "fig.write_image(\"figuras_nuse/day_week_month_bar.png\")\n",
    "fig.show()"
   ]
  },
  {
   "cell_type": "markdown",
   "metadata": {},
   "source": [
    "### Análisis campo 'PERIODO_TS'"
   ]
  },
  {
   "cell_type": "code",
   "execution_count": null,
   "metadata": {},
   "outputs": [],
   "source": [
    "subdata=pd.DataFrame(data.groupby([\"PERIODO_TS\"]).size(),columns=[\"Cantidad\"]).sort_index().reset_index()\n",
    "topdata=(subdata.sort_values(by=['Cantidad'],ascending=False)[:10])"
   ]
  },
  {
   "cell_type": "code",
   "execution_count": null,
   "metadata": {},
   "outputs": [],
   "source": [
    "#Statistical description\n",
    "pd.DataFrame(subdata.describe())"
   ]
  },
  {
   "cell_type": "code",
   "execution_count": null,
   "metadata": {},
   "outputs": [],
   "source": [
    "fig = px.bar(subdata, y=\"PERIODO_TS\", x=\"Cantidad\", orientation='h', color=\"PERIODO_TS\",\n",
    "            color_discrete_sequence = px.colors.qualitative.Prism[1:])\n",
    "fig.update_layout(title_text=\"Incident reports by 'PERIODO_TS'\",showlegend=False)\n",
    "fig.write_image(\"figuras_nuse/periodo_bar.png\")\n",
    "fig.show()"
   ]
  },
  {
   "cell_type": "markdown",
   "metadata": {},
   "source": [
    "### Análisis campo 'COD_LOCALIDAD' y 'LOCALIDAD'"
   ]
  },
  {
   "cell_type": "code",
   "execution_count": null,
   "metadata": {},
   "outputs": [],
   "source": [
    "subdata=pd.DataFrame(data.groupby([\"COD_LOCALIDAD\",\"LOCALIDAD\"]).size(),columns=[\"Cantidad\"]).sort_index().reset_index()\n",
    "topdata=(subdata.sort_values(by=['Cantidad'],ascending=False)[:20])"
   ]
  },
  {
   "cell_type": "code",
   "execution_count": null,
   "metadata": {},
   "outputs": [],
   "source": [
    "#Statistical description\n",
    "pd.DataFrame(subdata.describe())"
   ]
  },
  {
   "cell_type": "code",
   "execution_count": null,
   "metadata": {},
   "outputs": [],
   "source": [
    "# Bar figure\n",
    "fig = px.bar(topdata, x='Cantidad', y='LOCALIDAD', orientation='h', color='LOCALIDAD',\n",
    "             color_discrete_sequence = px.colors.qualitative.Prism[0:])\n",
    "fig.update_layout(title_text=\"Top incident reports by 'localidades'\",\n",
    "                 yaxis={\"type\":\"category\"}, showlegend=False)\n",
    "fig.write_image(\"figuras_nuse/localidad_bar.png\")\n",
    "fig.show()"
   ]
  },
  {
   "cell_type": "markdown",
   "metadata": {},
   "source": [
    "### Análisis campo 'COD_UPZ' y 'UPZ'"
   ]
  },
  {
   "cell_type": "code",
   "execution_count": null,
   "metadata": {},
   "outputs": [],
   "source": [
    "subdata=pd.DataFrame(data.groupby([\"COD_UPZ\",\"UPZ\"]).size(),columns=[\"Cantidad\"]).sort_index().reset_index()\n",
    "topdata=(subdata.sort_values(by=['Cantidad'],ascending=False)[:10])"
   ]
  },
  {
   "cell_type": "code",
   "execution_count": null,
   "metadata": {},
   "outputs": [],
   "source": [
    "#Statistical description\n",
    "pd.DataFrame(subdata.describe())"
   ]
  },
  {
   "cell_type": "code",
   "execution_count": null,
   "metadata": {},
   "outputs": [],
   "source": [
    "# Bar figure\n",
    "fig = px.bar(topdata, x='Cantidad', y='UPZ', orientation='h', color='UPZ',\n",
    "             color_discrete_sequence = px.colors.qualitative.Prism[0:])\n",
    "fig.update_layout(title_text=\"Top incident reports by 'UPZ'\",\n",
    "                 yaxis={\"type\":\"category\"}, showlegend=False)\n",
    "fig.write_image(\"figuras_nuse/upz_bar.png\")\n",
    "fig.show()"
   ]
  },
  {
   "cell_type": "markdown",
   "metadata": {},
   "source": [
    "### Análisis campos 'COD_SEC_CATAST‘ y ‘SEC_CATASTRAL'"
   ]
  },
  {
   "cell_type": "code",
   "execution_count": null,
   "metadata": {},
   "outputs": [],
   "source": [
    "subdata=pd.DataFrame(data.groupby([\"COD_SEC_CATAST\",\"SEC_CATASTRAL\"]).size(),columns=[\"Cantidad\"]).sort_index().reset_index()\n",
    "topdata=(subdata.sort_values(by=['Cantidad'],ascending=False)[:10])"
   ]
  },
  {
   "cell_type": "code",
   "execution_count": null,
   "metadata": {},
   "outputs": [],
   "source": [
    "#Statistical description\n",
    "pd.DataFrame(subdata.describe())"
   ]
  },
  {
   "cell_type": "code",
   "execution_count": null,
   "metadata": {},
   "outputs": [],
   "source": [
    "# Bar figure\n",
    "fig = px.bar(topdata, x='Cantidad', y='SEC_CATASTRAL', orientation='h', color='SEC_CATASTRAL',\n",
    "             color_discrete_sequence = px.colors.qualitative.Prism[0:])\n",
    "fig.update_layout(title_text=\"Top incident reports by 'UPZ'\",\n",
    "                 yaxis={\"type\":\"category\"}, showlegend=False)\n",
    "fig.write_image(\"figuras_nuse/sec_catastr_bar.png\")\n",
    "fig.show()"
   ]
  },
  {
   "cell_type": "markdown",
   "metadata": {},
   "source": [
    "### Análisis campos 'COD_BARRIO' Y 'BARRIO'"
   ]
  },
  {
   "cell_type": "code",
   "execution_count": null,
   "metadata": {},
   "outputs": [],
   "source": [
    "subdata=pd.DataFrame(data.groupby([\"COD_BARRIO\",\"BARRIO\"]).size(),columns=[\"Cantidad\"]).sort_index().reset_index()\n",
    "topdata=(subdata.sort_values(by=['Cantidad'],ascending=False)[:10])"
   ]
  },
  {
   "cell_type": "code",
   "execution_count": null,
   "metadata": {},
   "outputs": [],
   "source": [
    "#Statistical description\n",
    "pd.DataFrame(subdata.describe())"
   ]
  },
  {
   "cell_type": "code",
   "execution_count": null,
   "metadata": {},
   "outputs": [],
   "source": [
    "# Bar figure\n",
    "fig = px.bar(topdata, x='Cantidad', y='BARRIO', orientation='h', color='BARRIO',\n",
    "             color_discrete_sequence = px.colors.qualitative.Prism[0:])\n",
    "fig.update_layout(title_text=\"Top incident reports by 'BARRIO'\",\n",
    "                 yaxis={\"type\":\"category\"}, showlegend=False)\n",
    "fig.write_image(\"figuras_nuse/barrio_bar.png\")\n",
    "fig.show()"
   ]
  },
  {
   "cell_type": "markdown",
   "metadata": {},
   "source": [
    "### Mapa con reporte de incidencias (LATITUD, LONGITUD)"
   ]
  },
  {
   "cell_type": "code",
   "execution_count": null,
   "metadata": {},
   "outputs": [],
   "source": [
    "position=pd.DataFrame(data.groupby(['LONGITUD','LATITUD']).size()).reset_index().rename(columns={0:\"Cantidad\"})"
   ]
  },
  {
   "cell_type": "code",
   "execution_count": null,
   "metadata": {},
   "outputs": [],
   "source": [
    "#Statistical description\n",
    "pd.DataFrame(position.describe())"
   ]
  },
  {
   "cell_type": "code",
   "execution_count": null,
   "metadata": {},
   "outputs": [],
   "source": [
    "px.set_mapbox_access_token(\"\")\n",
    "\n",
    "fig = px.scatter_mapbox(position, lat=\"LATITUD\", lon=\"LONGITUD\",zoom=10,size='Cantidad',color='Cantidad')\n",
    "fig.write_image(\"figuras_nuse/mapa.png\")\n",
    "fig.show()"
   ]
  },
  {
   "cell_type": "markdown",
   "metadata": {},
   "source": [
    "### Análisis campo 'STR_DIRECCION_INCIDENTE'"
   ]
  },
  {
   "cell_type": "code",
   "execution_count": null,
   "metadata": {},
   "outputs": [],
   "source": [
    "subdata=pd.DataFrame(data.groupby([\"STR_DIRECCION_INCIDENTE\"]).size(),columns=[\"Cantidad\"]).sort_index().reset_index()\n",
    "topdata=(subdata.sort_values(by=['Cantidad'],ascending=False)[:10])\n",
    "print_Data(topdata)"
   ]
  },
  {
   "cell_type": "code",
   "execution_count": null,
   "metadata": {},
   "outputs": [],
   "source": [
    "#Statistical description\n",
    "pd.DataFrame(subdata.describe())"
   ]
  },
  {
   "cell_type": "code",
   "execution_count": null,
   "metadata": {},
   "outputs": [],
   "source": [
    "# Bar figure\n",
    "fig = px.bar(topdata, x='Cantidad', y='STR_DIRECCION_INCIDENTE', orientation='h', color='STR_DIRECCION_INCIDENTE',\n",
    "             color_discrete_sequence = px.colors.qualitative.Prism[0:])\n",
    "fig.update_layout(title_text=\"Top incident reports by 'STR_DIRECCION_INCIDENTE'\",\n",
    "                 yaxis={\"type\":\"category\"}, showlegend=False)\n",
    "fig.write_image(\"figuras_nuse/direccion_bar.png\")\n",
    "fig.show()"
   ]
  },
  {
   "cell_type": "markdown",
   "metadata": {},
   "source": [
    "### Análisis campo 'TIPO_DETALLE'"
   ]
  },
  {
   "cell_type": "code",
   "execution_count": null,
   "metadata": {},
   "outputs": [],
   "source": [
    "subdata=pd.DataFrame(data.groupby([\"TIPO_DETALLE\"]).size(),columns=[\"Cantidad\"]).sort_index().reset_index()\n",
    "print_Data(subdata)\n"
   ]
  },
  {
   "cell_type": "markdown",
   "metadata": {},
   "source": [
    "### Análisis campo 'ESTADO_INCIDENTE'"
   ]
  },
  {
   "cell_type": "code",
   "execution_count": null,
   "metadata": {},
   "outputs": [],
   "source": [
    "subdata=pd.DataFrame(data.groupby([\"ESTADO_INCIDENTE\"]).size(),columns=[\"Cantidad\"]).sort_index().reset_index()\n",
    "print(subdata.shape)\n",
    "print_Data(subdata)\n",
    "pd.DataFrame(np.around([subdata.Cantidad.mean(),subdata.Cantidad.std(),subdata.Cantidad.max(),subdata.Cantidad.min()],2),\n",
    "             index=['Media',\"Desviación Estandar\",\"Máximo\",\"Mínimo\"],columns=[\"\"])"
   ]
  },
  {
   "cell_type": "markdown",
   "metadata": {},
   "source": [
    "### Análisis campo 'LOG_TEXT'"
   ]
  },
  {
   "cell_type": "code",
   "execution_count": null,
   "metadata": {},
   "outputs": [],
   "source": [
    "text = data[\"LOG_TEXT\"].str.lower().values\n",
    "stopwords = set(STOPWORDS)\n",
    "stopwords.update(['de','la','el','que','y','con','en'])"
   ]
  },
  {
   "cell_type": "code",
   "execution_count": null,
   "metadata": {
    "scrolled": true
   },
   "outputs": [],
   "source": [
    "wordcloud = WordCloud(width = 3000,height = 2000,background_color = 'black',stopwords = stopwords, max_words=1000).generate(str(text))\n",
    "fig = plt.figure(figsize = (20, 10),facecolor = 'k',edgecolor = 'k')\n",
    "plt.imshow(wordcloud, interpolation='bilinear')\n",
    "plt.axis('off')\n",
    "plt.tight_layout(pad=0)\n",
    "plt.savefig(\"figuras/log_text\",dpi=300,bbox_inches = \"tight\")\n",
    "plt.show()"
   ]
  }
 ],
 "metadata": {
  "kernelspec": {
   "display_name": "Python 3",
   "language": "python",
   "name": "python3"
  },
  "language_info": {
   "codemirror_mode": {
    "name": "ipython",
    "version": 3
   },
   "file_extension": ".py",
   "mimetype": "text/x-python",
   "name": "python",
   "nbconvert_exporter": "python",
   "pygments_lexer": "ipython3",
   "version": "3.7.2"
  }
 },
 "nbformat": 4,
 "nbformat_minor": 2
}
