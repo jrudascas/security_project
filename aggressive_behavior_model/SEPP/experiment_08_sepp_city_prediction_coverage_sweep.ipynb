{
 "cells": [
  {
   "cell_type": "markdown",
   "metadata": {},
   "source": [
    "# Experiment description\n",
    "## Hypothesis: \n",
    "Hitrate vs. coverage plot depicts a logaritmic curve. For coverages bigger than 10% there is not a significant increment on hitrates\n",
    "\n",
    "## Method: \n",
    "\n",
    "Estimate hitrates using different coverages values. Experiment parameters:\n",
    "- Use city trained model between 2017-01-01 and 2017-01-21\n",
    "- Predict for 2017-01-24 at 21:00 (according to experiment 07, this was the day with higher hitrates)\n",
    "- Coverage values [0.01 , 0.02, 0.03, 0.04, 0.05, 0.06, 0.07, 0.08, 0.09, 0.1, 0.12, 0.14, 0.15, 0.2, 0.25, 0.3, 0.4, 0.5, 0.6, 0.7, 0.8, 0.9, 1]\n",
    "\n",
    "## Results:\n",
    "- Plot depicts a logaritmic curve.\n",
    "- For coverages bigger than 50% there is not a significant increment on hitrates."
   ]
  },
  {
   "cell_type": "code",
   "execution_count": 2,
   "metadata": {},
   "outputs": [],
   "source": [
    "%matplotlib inline\n",
    "import pandas as pd\n",
    "import pickle\n",
    "import dateutil.parser\n",
    "import pyproj\n",
    "import open_cp\n",
    "from PIL import Image\n",
    "import datetime\n",
    "import matplotlib.pyplot as plt\n",
    "import numpy as np"
   ]
  },
  {
   "cell_type": "code",
   "execution_count": 3,
   "metadata": {},
   "outputs": [
    {
     "name": "stdout",
     "output_type": "stream",
     "text": [
      "importing Jupyter notebook from training_sepp_builtin.ipynb\n",
      "Collecting https://github.com/QuantCrimAtLeeds/PredictCode/zipball/master\n",
      "  Using cached https://github.com/QuantCrimAtLeeds/PredictCode/zipball/master\n",
      "Requirement already satisfied (use --upgrade to upgrade): opencp==0.2.0 from https://github.com/QuantCrimAtLeeds/PredictCode/zipball/master in /u01/user8/anaconda3/lib/python3.7/site-packages\n",
      "Building wheels for collected packages: opencp\n",
      "  Building wheel for opencp (setup.py) ... \u001b[?25ldone\n",
      "\u001b[?25h  Created wheel for opencp: filename=opencp-0.2.0-cp37-none-any.whl size=280058 sha256=8074197a80690b2b19e16ae0b16ba0b68c44ae36b00e17eeef0d9c604b73cb2c\n",
      "  Stored in directory: /tmp/pip-ephem-wheel-cache-6o9vdfpp/wheels/9a/f6/1f/9ea8bd2ac044e7df5c432f658ba156f0cfc3540891a5bad62a\n",
      "Successfully built opencp\n",
      "Collecting https://github.com/MatthewDaws/SEPP/zipball/master\n",
      "  Using cached https://github.com/MatthewDaws/SEPP/zipball/master\n",
      "Requirement already satisfied (use --upgrade to upgrade): sepp==0.9.0 from https://github.com/MatthewDaws/SEPP/zipball/master in /u01/user8/anaconda3/lib/python3.7/site-packages\n",
      "Building wheels for collected packages: sepp\n",
      "  Building wheel for sepp (setup.py) ... \u001b[?25ldone\n",
      "\u001b[?25h  Created wheel for sepp: filename=sepp-0.9.0-cp37-none-any.whl size=37591 sha256=2a3334ac55af1ec022d39b97a5a1f77e07ea6f12e1ef342d721cdd2b70c23671\n",
      "  Stored in directory: /tmp/pip-ephem-wheel-cache-vabhmgh5/wheels/1d/e6/94/444aa295403d7f0e2ffd698d822abc6a4427daa85f8c5cb0b0\n",
      "Successfully built sepp\n"
     ]
    },
    {
     "name": "stderr",
     "output_type": "stream",
     "text": [
      "Failed to load 'descartes' package.\n"
     ]
    }
   ],
   "source": [
    "import import_ipynb\n",
    "import training_sepp_builtin"
   ]
  },
  {
   "cell_type": "code",
   "execution_count": 4,
   "metadata": {},
   "outputs": [],
   "source": [
    "def selectDataPrediction(nameLoc,dateIni,dateEnd):\n",
    "    if nameLoc == 'city':\n",
    "        dfloc = df\n",
    "    else:\n",
    "        dfloc = df[df[\"LOCALIDAD\"]==nameLoc]\n",
    "            \n",
    "    dfloc[\"FECHA_HORA\"]=dfloc[\"HORA\"].astype(str)\n",
    "    valHour = dfloc[\"FECHA_HORA\"].values\n",
    "    valDate = dfloc[\"FECHA\"].values\n",
    "    timesVals = [];\n",
    "    k = 0;\n",
    "    for i in valHour:\n",
    "        if len(i)<=2:\n",
    "            timeStr = valDate[k] +\" \" + \"00:\"+i+\":00\"\n",
    "        else:\n",
    "            timeStr = valDate[k] +\" \" + i[:-2]+\":\"+i[-2:]+\":00\"\n",
    "        \n",
    "        k = k + 1\n",
    "\n",
    "        timesVals.append(timeStr)\n",
    "    dfloc[\"FECHA_HORA\"] = timesVals;\n",
    "    \n",
    "    dfloc[\"FECHA_HORA_TS\"] = dfloc.FECHA_HORA.map(dateutil.parser.parse)\n",
    "    dfFilter = dfloc[(dfloc.FECHA_HORA_TS > dateIni) & (dfloc.FECHA_HORA_TS < dateEnd)]\n",
    "    timestamps = dfFilter.FECHA_HORA_TS\n",
    "    \n",
    "    print(\"TimeStamps\")\n",
    "    print(type(timestamps))\n",
    "    print([timestamps])\n",
    "\n",
    "    xcoords, ycoords = (dfFilter.LONGITUD.values,dfFilter.LATITUD.values)\n",
    "    proj = pyproj.Proj(init=\"EPSG:3116\")\n",
    "    xcoords, ycoords = proj(xcoords,ycoords)\n",
    "    \n",
    "    points_crime = open_cp.TimedPoints.from_coords(timestamps, xcoords, ycoords)\n",
    "    \n",
    "    #Generando Grilla para los algoritmos. \n",
    "    maxx = max(xcoords)\n",
    "    minx = min(xcoords)\n",
    "    maxy = max(ycoords)\n",
    "    miny = min(ycoords)\n",
    "    #print(maxx,minx,maxy,miny)\n",
    "\n",
    "    region = open_cp.RectangularRegion(xmin=minx, xmax=maxx, ymin=miny, ymax=maxy)\n",
    "    #print(region)\n",
    "    \n",
    "    return (points_crime,region)\n"
   ]
  },
  {
   "cell_type": "code",
   "execution_count": 5,
   "metadata": {},
   "outputs": [],
   "source": [
    "def load_model(localidad, experiment_name):\n",
    "    custom_path = path+'/aggressive_behavior_model/SEPP/'+'pkl/TrainRina_'+experiment_name+'.pkl'\n",
    "    infile = open(custom_path,'rb')\n",
    "    modelCrime = pickle.load(infile)\n",
    "    infile.close()\n",
    "    return modelCrime"
   ]
  },
  {
   "cell_type": "code",
   "execution_count": 7,
   "metadata": {},
   "outputs": [],
   "source": [
    "def sweep_coverages_prediction(localidad,modelCrime,time_window_prediction,predict_time,coverages):\n",
    "    points_crime,region = selectDataPrediction(localidad,time_window_prediction['start'],time_window_prediction['end'])\n",
    "    modelCrime.data = points_crime \n",
    "    prediction = modelCrime.predict(predict_time)\n",
    "    gridpred = open_cp.predictors.GridPredictionArray.from_continuous_prediction_region(prediction, region, 150, 150)\n",
    "    hitrates = open_cp.evaluation.hit_rates(gridpred, points_crime, [coverages[0],coverages[1]])\n",
    "    return gridpred, hitrates"
   ]
  },
  {
   "cell_type": "code",
   "execution_count": 6,
   "metadata": {},
   "outputs": [],
   "source": [
    "def plot_gridpred(localidad,predict_time,gridpred):\n",
    "    fig, ax = plt.subplots(figsize=(20,10))\n",
    "    m = ax.pcolormesh(*gridpred.mesh_data(), gridpred.intensity_matrix, cmap=\"CMRmap_r\")\n",
    "    ax.set_title(\"Predicción localidad: \"+localidad+'; fecha: '+str(predict_time))\n",
    "    fig.colorbar(m, ax=ax)"
   ]
  },
  {
   "cell_type": "markdown",
   "metadata": {},
   "source": [
    "## Select data"
   ]
  },
  {
   "cell_type": "code",
   "execution_count": 8,
   "metadata": {},
   "outputs": [],
   "source": [
    "path = '/u01/user8/Documents/Riñas'"
   ]
  },
  {
   "cell_type": "code",
   "execution_count": 9,
   "metadata": {},
   "outputs": [],
   "source": [
    "df = pd.read_csv(path+'/datasets/verify_enrich_nuse_29112019.csv')"
   ]
  },
  {
   "cell_type": "markdown",
   "metadata": {},
   "source": [
    "## Test prediction"
   ]
  },
  {
   "cell_type": "code",
   "execution_count": 10,
   "metadata": {},
   "outputs": [],
   "source": [
    "localidad = 'city'\n",
    "parameters = {\"time_bw\":144,\"space_bw\":50,\"time_cutoff\":90,\"space_cutoff\":500}\n",
    "train_initial_date = '2017-01-01'\n",
    "train_final_date = '2017-01-22'\n",
    "trained_model_name = str(localidad)+'_'+train_initial_date+'_'+train_final_date+'_time_cutoff_'+str(parameters['time_cutoff'])"
   ]
  },
  {
   "cell_type": "code",
   "execution_count": 24,
   "metadata": {},
   "outputs": [],
   "source": [
    "initial_date_prediction = '2017-01-24'\n",
    "end_date = datetime.datetime.strptime(initial_date_prediction,'%Y-%m-%d')+datetime.timedelta(days=1)\n",
    "end_date = end_date.strftime('%Y-%m-%d')\n",
    "time_window_prediction = {'start':initial_date_prediction,'end':end_date}\n",
    "hour_value = 21"
   ]
  },
  {
   "cell_type": "code",
   "execution_count": null,
   "metadata": {},
   "outputs": [],
   "source": [
    "coverage_values = [0.01 , 0.02, 0.03, 0.04, 0.05, 0.06, 0.07, 0.08, 0.09, 0.1, 0.12, 0.14, 0.15, 0.2, 0.25, 0.3, 0.35, 0.4, 0.5, 0.6, 0.7, 0.8, 0.9, 1]"
   ]
  },
  {
   "cell_type": "code",
   "execution_count": null,
   "metadata": {},
   "outputs": [],
   "source": [
    "flagF = True\n",
    "modelCrime = load_model(localidad,trained_model_name)\n",
    "current_date_prediction = time_window_prediction['start']\n",
    "predict_time = datetime.datetime.strptime(current_date_prediction,'%Y-%m-%d')+datetime.timedelta(hours=hour_value)\n",
    "coverages = []\n",
    "\n",
    "for i,j in zip(coverage_values[0::2], coverage_values[1::2]):\n",
    "    print(str(i), '+', str(j))\n",
    "    coverages = []\n",
    "    coverages.append(i)\n",
    "    coverages.append(j)\n",
    "    print(coverages[0],coverages[1])\n",
    "    gridpred, hitrates = sweep_coverages_prediction(localidad,modelCrime,time_window_prediction,predict_time,coverages)\n",
    "    #plot_gridpred(localidad,predict_time,gridpred) ## uncomment to plot gridpred\n",
    "    if flagF==True:\n",
    "        flagF = False\n",
    "        hitrates_values = np.array([localidad,predict_time.strftime('%Y-%m-%d %H:%M:%S'),i,hitrates[i]])\n",
    "        hitrates_values = np.vstack((hitrates_values, [localidad,predict_time.strftime('%Y-%m-%d %H:%M:%S'),j,hitrates[j]]))\n",
    "    else:\n",
    "        hitrates_values = np.vstack((hitrates_values, [localidad,predict_time.strftime('%Y-%m-%d %H:%M:%S'),i,hitrates[i]]))\n",
    "        hitrates_values = np.vstack((hitrates_values, [localidad,predict_time.strftime('%Y-%m-%d %H:%M:%S'),j,hitrates[j]]))\n",
    "    \n",
    "    print(hitrates_values)\n"
   ]
  },
  {
   "cell_type": "code",
   "execution_count": 26,
   "metadata": {},
   "outputs": [
    {
     "data": {
      "text/html": [
       "<div>\n",
       "<style scoped>\n",
       "    .dataframe tbody tr th:only-of-type {\n",
       "        vertical-align: middle;\n",
       "    }\n",
       "\n",
       "    .dataframe tbody tr th {\n",
       "        vertical-align: top;\n",
       "    }\n",
       "\n",
       "    .dataframe thead th {\n",
       "        text-align: right;\n",
       "    }\n",
       "</style>\n",
       "<table border=\"1\" class=\"dataframe\">\n",
       "  <thead>\n",
       "    <tr style=\"text-align: right;\">\n",
       "      <th></th>\n",
       "      <th>localidad</th>\n",
       "      <th>prediction_time</th>\n",
       "      <th>coverage</th>\n",
       "      <th>hitrate</th>\n",
       "    </tr>\n",
       "  </thead>\n",
       "  <tbody>\n",
       "    <tr>\n",
       "      <td>0</td>\n",
       "      <td>city</td>\n",
       "      <td>2017-01-24 21:00:00</td>\n",
       "      <td>0.01</td>\n",
       "      <td>0.0084985835694051</td>\n",
       "    </tr>\n",
       "    <tr>\n",
       "      <td>1</td>\n",
       "      <td>city</td>\n",
       "      <td>2017-01-24 21:00:00</td>\n",
       "      <td>0.02</td>\n",
       "      <td>0.0169971671388102</td>\n",
       "    </tr>\n",
       "    <tr>\n",
       "      <td>2</td>\n",
       "      <td>city</td>\n",
       "      <td>2017-01-24 21:00:00</td>\n",
       "      <td>0.03</td>\n",
       "      <td>0.0226628895184136</td>\n",
       "    </tr>\n",
       "    <tr>\n",
       "      <td>3</td>\n",
       "      <td>city</td>\n",
       "      <td>2017-01-24 21:00:00</td>\n",
       "      <td>0.04</td>\n",
       "      <td>0.029745042492917848</td>\n",
       "    </tr>\n",
       "    <tr>\n",
       "      <td>4</td>\n",
       "      <td>city</td>\n",
       "      <td>2017-01-24 21:00:00</td>\n",
       "      <td>0.05</td>\n",
       "      <td>0.03541076487252125</td>\n",
       "    </tr>\n",
       "    <tr>\n",
       "      <td>5</td>\n",
       "      <td>city</td>\n",
       "      <td>2017-01-24 21:00:00</td>\n",
       "      <td>0.06</td>\n",
       "      <td>0.04107648725212465</td>\n",
       "    </tr>\n",
       "    <tr>\n",
       "      <td>6</td>\n",
       "      <td>city</td>\n",
       "      <td>2017-01-24 21:00:00</td>\n",
       "      <td>0.07</td>\n",
       "      <td>0.056657223796033995</td>\n",
       "    </tr>\n",
       "    <tr>\n",
       "      <td>7</td>\n",
       "      <td>city</td>\n",
       "      <td>2017-01-24 21:00:00</td>\n",
       "      <td>0.08</td>\n",
       "      <td>0.06657223796033994</td>\n",
       "    </tr>\n",
       "    <tr>\n",
       "      <td>8</td>\n",
       "      <td>city</td>\n",
       "      <td>2017-01-24 21:00:00</td>\n",
       "      <td>0.09</td>\n",
       "      <td>0.060906515580736544</td>\n",
       "    </tr>\n",
       "    <tr>\n",
       "      <td>9</td>\n",
       "      <td>city</td>\n",
       "      <td>2017-01-24 21:00:00</td>\n",
       "      <td>0.1</td>\n",
       "      <td>0.06515580736543909</td>\n",
       "    </tr>\n",
       "    <tr>\n",
       "      <td>10</td>\n",
       "      <td>city</td>\n",
       "      <td>2017-01-24 21:00:00</td>\n",
       "      <td>0.12</td>\n",
       "      <td>0.08923512747875353</td>\n",
       "    </tr>\n",
       "    <tr>\n",
       "      <td>11</td>\n",
       "      <td>city</td>\n",
       "      <td>2017-01-24 21:00:00</td>\n",
       "      <td>0.14</td>\n",
       "      <td>0.09773371104815864</td>\n",
       "    </tr>\n",
       "    <tr>\n",
       "      <td>12</td>\n",
       "      <td>city</td>\n",
       "      <td>2017-01-24 21:00:00</td>\n",
       "      <td>0.15</td>\n",
       "      <td>0.10198300283286119</td>\n",
       "    </tr>\n",
       "    <tr>\n",
       "      <td>13</td>\n",
       "      <td>city</td>\n",
       "      <td>2017-01-24 21:00:00</td>\n",
       "      <td>0.2</td>\n",
       "      <td>0.11331444759206799</td>\n",
       "    </tr>\n",
       "    <tr>\n",
       "      <td>14</td>\n",
       "      <td>city</td>\n",
       "      <td>2017-01-24 21:00:00</td>\n",
       "      <td>0.25</td>\n",
       "      <td>0.11898016997167139</td>\n",
       "    </tr>\n",
       "    <tr>\n",
       "      <td>15</td>\n",
       "      <td>city</td>\n",
       "      <td>2017-01-24 21:00:00</td>\n",
       "      <td>0.35</td>\n",
       "      <td>0.1274787535410765</td>\n",
       "    </tr>\n",
       "    <tr>\n",
       "      <td>16</td>\n",
       "      <td>city</td>\n",
       "      <td>2017-01-24 21:00:00</td>\n",
       "      <td>0.3</td>\n",
       "      <td>0.12039660056657224</td>\n",
       "    </tr>\n",
       "    <tr>\n",
       "      <td>17</td>\n",
       "      <td>city</td>\n",
       "      <td>2017-01-24 21:00:00</td>\n",
       "      <td>0.4</td>\n",
       "      <td>0.13031161473087818</td>\n",
       "    </tr>\n",
       "    <tr>\n",
       "      <td>18</td>\n",
       "      <td>city</td>\n",
       "      <td>2017-01-24 21:00:00</td>\n",
       "      <td>0.5</td>\n",
       "      <td>0.14730878186968838</td>\n",
       "    </tr>\n",
       "    <tr>\n",
       "      <td>19</td>\n",
       "      <td>city</td>\n",
       "      <td>2017-01-24 21:00:00</td>\n",
       "      <td>0.6</td>\n",
       "      <td>0.1501416430594901</td>\n",
       "    </tr>\n",
       "    <tr>\n",
       "      <td>20</td>\n",
       "      <td>city</td>\n",
       "      <td>2017-01-24 21:00:00</td>\n",
       "      <td>0.7</td>\n",
       "      <td>0.1501416430594901</td>\n",
       "    </tr>\n",
       "    <tr>\n",
       "      <td>21</td>\n",
       "      <td>city</td>\n",
       "      <td>2017-01-24 21:00:00</td>\n",
       "      <td>0.8</td>\n",
       "      <td>0.1529745042492918</td>\n",
       "    </tr>\n",
       "    <tr>\n",
       "      <td>22</td>\n",
       "      <td>city</td>\n",
       "      <td>2017-01-24 21:00:00</td>\n",
       "      <td>0.9</td>\n",
       "      <td>0.1501416430594901</td>\n",
       "    </tr>\n",
       "    <tr>\n",
       "      <td>23</td>\n",
       "      <td>city</td>\n",
       "      <td>2017-01-24 21:00:00</td>\n",
       "      <td>1</td>\n",
       "      <td>0.15155807365439095</td>\n",
       "    </tr>\n",
       "  </tbody>\n",
       "</table>\n",
       "</div>"
      ],
      "text/plain": [
       "   localidad      prediction_time coverage               hitrate\n",
       "0       city  2017-01-24 21:00:00     0.01    0.0084985835694051\n",
       "1       city  2017-01-24 21:00:00     0.02    0.0169971671388102\n",
       "2       city  2017-01-24 21:00:00     0.03    0.0226628895184136\n",
       "3       city  2017-01-24 21:00:00     0.04  0.029745042492917848\n",
       "4       city  2017-01-24 21:00:00     0.05   0.03541076487252125\n",
       "5       city  2017-01-24 21:00:00     0.06   0.04107648725212465\n",
       "6       city  2017-01-24 21:00:00     0.07  0.056657223796033995\n",
       "7       city  2017-01-24 21:00:00     0.08   0.06657223796033994\n",
       "8       city  2017-01-24 21:00:00     0.09  0.060906515580736544\n",
       "9       city  2017-01-24 21:00:00      0.1   0.06515580736543909\n",
       "10      city  2017-01-24 21:00:00     0.12   0.08923512747875353\n",
       "11      city  2017-01-24 21:00:00     0.14   0.09773371104815864\n",
       "12      city  2017-01-24 21:00:00     0.15   0.10198300283286119\n",
       "13      city  2017-01-24 21:00:00      0.2   0.11331444759206799\n",
       "14      city  2017-01-24 21:00:00     0.25   0.11898016997167139\n",
       "15      city  2017-01-24 21:00:00     0.35    0.1274787535410765\n",
       "16      city  2017-01-24 21:00:00      0.3   0.12039660056657224\n",
       "17      city  2017-01-24 21:00:00      0.4   0.13031161473087818\n",
       "18      city  2017-01-24 21:00:00      0.5   0.14730878186968838\n",
       "19      city  2017-01-24 21:00:00      0.6    0.1501416430594901\n",
       "20      city  2017-01-24 21:00:00      0.7    0.1501416430594901\n",
       "21      city  2017-01-24 21:00:00      0.8    0.1529745042492918\n",
       "22      city  2017-01-24 21:00:00      0.9    0.1501416430594901\n",
       "23      city  2017-01-24 21:00:00        1   0.15155807365439095"
      ]
     },
     "execution_count": 26,
     "metadata": {},
     "output_type": "execute_result"
    }
   ],
   "source": [
    "df_hitrates = pd.DataFrame(hitrates_values, columns=['localidad','prediction_time','coverage','hitrate'])\n",
    "df_hitrates"
   ]
  },
  {
   "cell_type": "code",
   "execution_count": 27,
   "metadata": {},
   "outputs": [],
   "source": [
    "experiment_name = 'city_coverage_vs_hitrate_2017-01-24'\n",
    "hitrates_outfile = open(path+'/aggressive_behavior_model/SEPP/'+'pkl/PredictionRina_'+experiment_name+'.pkl','wb')\n",
    "pickle.dump(df_hitrates, hitrates_outfile)\n",
    "hitrates_outfile.close()"
   ]
  },
  {
   "cell_type": "markdown",
   "metadata": {},
   "source": [
    "## Plot results"
   ]
  },
  {
   "cell_type": "code",
   "execution_count": 29,
   "metadata": {},
   "outputs": [],
   "source": [
    "df_hitrates['coverage'] = pd.to_numeric(df_hitrates['coverage'])\n",
    "df_hitrates['hitrate'] = pd.to_numeric(df_hitrates['hitrate'])"
   ]
  },
  {
   "cell_type": "code",
   "execution_count": 30,
   "metadata": {},
   "outputs": [
    {
     "data": {
      "text/plain": [
       "<matplotlib.axes._subplots.AxesSubplot at 0x7fae09a765d0>"
      ]
     },
     "execution_count": 30,
     "metadata": {},
     "output_type": "execute_result"
    },
    {
     "data": {
      "image/png": "[encoded data removed]",
      "text/plain": [
       "<Figure size 432x288 with 1 Axes>"
      ]
     },
     "metadata": {
      "needs_background": "light"
     },
     "output_type": "display_data"
    }
   ],
   "source": [
    "df_hitrates.plot(x='coverage', y='hitrate')\n"
   ]
  },
  {
   "cell_type": "code",
   "execution_count": 31,
   "metadata": {},
   "outputs": [
    {
     "data": {
      "text/plain": [
       "<matplotlib.axes._subplots.AxesSubplot at 0x7fad805ad690>"
      ]
     },
     "execution_count": 31,
     "metadata": {},
     "output_type": "execute_result"
    },
    {
     "data": {
      "image/png": "[encoded data removed]",
      "text/plain": [
       "<Figure size 432x288 with 1 Axes>"
      ]
     },
     "metadata": {
      "needs_background": "light"
     },
     "output_type": "display_data"
    }
   ],
   "source": [
    "df_hitrates.plot(x='coverage', y='hitrate', style='o')"
   ]
  },
  {
   "cell_type": "code",
   "execution_count": null,
   "metadata": {},
   "outputs": [],
   "source": []
  }
 ],
 "metadata": {
  "@webio": {
   "lastCommId": null,
   "lastKernelId": null
  },
  "hide_input": false,
  "kernelspec": {
   "display_name": "Python 3",
   "language": "python",
   "name": "python3"
  },
  "language_info": {
   "codemirror_mode": {
    "name": "ipython",
    "version": 3
   },
   "file_extension": ".py",
   "mimetype": "text/x-python",
   "name": "python",
   "nbconvert_exporter": "python",
   "pygments_lexer": "ipython3",
   "version": "3.7.4"
  }
 },
 "nbformat": 4,
 "nbformat_minor": 2
}
