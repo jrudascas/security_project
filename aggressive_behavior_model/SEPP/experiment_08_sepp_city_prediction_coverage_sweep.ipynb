{
 "cells": [
  {
   "cell_type": "markdown",
   "metadata": {},
   "source": [
    "# Experiment description\n",
    "## Hypothesis: \n",
    "Hitrate vs. coverage plot depicts a logaritmic curve. For coverages bigger than 10% there is not a significant increment on hitrates\n",
    "\n",
    "## Method: \n",
    "\n",
    "Estimate hitrates using different coverages values. Experiment parameters:\n",
    "- Use city trained model between 2017-01-01 and 2017-01-21\n",
    "- Predict for 2017-01-24 at 21:00 (according to experiment 07, this was the day with higher hitrates)\n",
    "- Coverage values [0.01 , 0.02, 0.03, 0.04, 0.05, 0.06, 0.07, 0.08, 0.09, 0.1, 0.12, 0.14, 0.15, 0.2, 0.25, 0.3, 0.4, 0.5, 0.6, 0.7, 0.8, 0.9, 1]\n",
    "\n",
    "## Results:\n",
    "- Plot depicts a logaritmic curve.\n",
    "- For coverages bigger than 50% there is not a significant increment on hitrates."
   ]
  },
  {
   "cell_type": "code",
   "execution_count": 1,
   "metadata": {},
   "outputs": [],
   "source": [
    "%matplotlib inline\n",
    "import pandas as pd\n",
    "import pickle\n",
    "import dateutil.parser\n",
    "import pyproj\n",
    "import open_cp\n",
    "from PIL import Image\n",
    "import datetime\n",
    "import matplotlib.pyplot as plt\n",
    "import numpy as np"
   ]
  },
  {
   "cell_type": "code",
   "execution_count": 2,
   "metadata": {},
   "outputs": [
    {
     "name": "stdout",
     "output_type": "stream",
     "text": [
      "importing Jupyter notebook from training_sepp_builtin.ipynb\n",
      "Collecting https://github.com/QuantCrimAtLeeds/PredictCode/zipball/master\n",
      "  Using cached https://github.com/QuantCrimAtLeeds/PredictCode/zipball/master\n",
      "Requirement already satisfied (use --upgrade to upgrade): opencp==0.2.0 from https://github.com/QuantCrimAtLeeds/PredictCode/zipball/master in /Users/anamaria/Desktop/dev/security_project/security_venv/lib/python3.7/site-packages\n",
      "\u001b[33mYou are using pip version 18.1, however version 20.1b1 is available.\n",
      "You should consider upgrading via the 'pip install --upgrade pip' command.\u001b[0m\n",
      "Collecting https://github.com/MatthewDaws/SEPP/zipball/master\n",
      "  Using cached https://github.com/MatthewDaws/SEPP/zipball/master\n",
      "Requirement already satisfied (use --upgrade to upgrade): sepp==0.9.0 from https://github.com/MatthewDaws/SEPP/zipball/master in /Users/anamaria/Desktop/dev/security_project/security_venv/lib/python3.7/site-packages\n",
      "\u001b[33mYou are using pip version 18.1, however version 20.1b1 is available.\n",
      "You should consider upgrading via the 'pip install --upgrade pip' command.\u001b[0m\n"
     ]
    },
    {
     "name": "stderr",
     "output_type": "stream",
     "text": [
      "Failed to import `rtree`.\n",
      "Failed to import `rtree`.\n"
     ]
    }
   ],
   "source": [
    "import import_ipynb\n",
    "import training_sepp_builtin"
   ]
  },
  {
   "cell_type": "code",
   "execution_count": 3,
   "metadata": {},
   "outputs": [],
   "source": [
    "def selectDataPrediction(nameLoc,dateIni,dateEnd):\n",
    "    if nameLoc == 'city':\n",
    "        dfloc = df\n",
    "    else:\n",
    "        dfloc = df[df[\"LOCALIDAD\"]==nameLoc]\n",
    "            \n",
    "    dfloc[\"FECHA_HORA\"]=dfloc[\"HORA\"].astype(str)\n",
    "    valHour = dfloc[\"FECHA_HORA\"].values\n",
    "    valDate = dfloc[\"FECHA\"].values\n",
    "    timesVals = [];\n",
    "    k = 0;\n",
    "    for i in valHour:\n",
    "        if len(i)<=2:\n",
    "            timeStr = valDate[k] +\" \" + \"00:\"+i+\":00\"\n",
    "        else:\n",
    "            timeStr = valDate[k] +\" \" + i[:-2]+\":\"+i[-2:]+\":00\"\n",
    "        \n",
    "        k = k + 1\n",
    "\n",
    "        timesVals.append(timeStr)\n",
    "    dfloc[\"FECHA_HORA\"] = timesVals;\n",
    "    \n",
    "    dfloc[\"FECHA_HORA_TS\"] = dfloc.FECHA_HORA.map(dateutil.parser.parse)\n",
    "    dfFilter = dfloc[(dfloc.FECHA_HORA_TS > dateIni) & (dfloc.FECHA_HORA_TS < dateEnd)]\n",
    "    timestamps = dfFilter.FECHA_HORA_TS\n",
    "    \n",
    "    print(\"TimeStamps\")\n",
    "    print(type(timestamps))\n",
    "    print([timestamps])\n",
    "\n",
    "    xcoords, ycoords = (dfFilter.LONGITUD.values,dfFilter.LATITUD.values)\n",
    "    proj = pyproj.Proj(init=\"EPSG:3116\")\n",
    "    xcoords, ycoords = proj(xcoords,ycoords)\n",
    "    \n",
    "    points_crime = open_cp.TimedPoints.from_coords(timestamps, xcoords, ycoords)\n",
    "    \n",
    "    #Generando Grilla para los algoritmos. \n",
    "    maxx = max(xcoords)\n",
    "    minx = min(xcoords)\n",
    "    maxy = max(ycoords)\n",
    "    miny = min(ycoords)\n",
    "    #print(maxx,minx,maxy,miny)\n",
    "\n",
    "    region = open_cp.RectangularRegion(xmin=minx, xmax=maxx, ymin=miny, ymax=maxy)\n",
    "    #print(region)\n",
    "    \n",
    "    return (points_crime,region)\n"
   ]
  },
  {
   "cell_type": "code",
   "execution_count": 4,
   "metadata": {},
   "outputs": [],
   "source": [
    "def load_model(localidad, experiment_name):\n",
    "    custom_path = path+'/aggressive_behavior_model/SEPP/'+'pkl/TrainRina_'+experiment_name+'.pkl'\n",
    "    infile = open(custom_path,'rb')\n",
    "    modelCrime = pickle.load(infile)\n",
    "    infile.close()\n",
    "    return modelCrime"
   ]
  },
  {
   "cell_type": "code",
   "execution_count": 5,
   "metadata": {},
   "outputs": [],
   "source": [
    "def sweep_coverages_prediction(localidad,modelCrime,time_window_prediction,predict_time,coverages):\n",
    "    points_crime,region = selectDataPrediction(localidad,time_window_prediction['start'],time_window_prediction['end'])\n",
    "    modelCrime.data = points_crime \n",
    "    prediction = modelCrime.predict(predict_time)\n",
    "    gridpred = open_cp.predictors.GridPredictionArray.from_continuous_prediction_region(prediction, region, 150, 150)\n",
    "    hitrates = open_cp.evaluation.hit_rates(gridpred, points_crime, [coverages[0],coverages[1]])\n",
    "    return gridpred, hitrates"
   ]
  },
  {
   "cell_type": "code",
   "execution_count": 6,
   "metadata": {},
   "outputs": [],
   "source": [
    "def plot_gridpred(localidad,predict_time,gridpred):\n",
    "    fig, ax = plt.subplots(figsize=(20,10))\n",
    "    m = ax.pcolormesh(*gridpred.mesh_data(), gridpred.intensity_matrix, cmap=\"CMRmap_r\")\n",
    "    ax.set_title(\"Predicción localidad: \"+localidad+'; fecha: '+str(predict_time))\n",
    "    fig.colorbar(m, ax=ax)"
   ]
  },
  {
   "cell_type": "markdown",
   "metadata": {},
   "source": [
    "## Select data"
   ]
  },
  {
   "cell_type": "code",
   "execution_count": 7,
   "metadata": {},
   "outputs": [],
   "source": [
    "path = '/Users/anamaria/Desktop/dev/security_project'"
   ]
  },
  {
   "cell_type": "code",
   "execution_count": 8,
   "metadata": {},
   "outputs": [],
   "source": [
    "df = pd.read_csv(path+'/datasets/verify_enrich_nuse_29112019.csv')"
   ]
  },
  {
   "cell_type": "markdown",
   "metadata": {},
   "source": [
    "## Test prediction"
   ]
  },
  {
   "cell_type": "code",
   "execution_count": 10,
   "metadata": {},
   "outputs": [],
   "source": [
    "localidad = 'city'\n",
    "parameters = {\"time_bw\":144,\"space_bw\":50,\"time_cutoff\":90,\"space_cutoff\":500}\n",
    "train_initial_date = '2017-01-01'\n",
    "train_final_date = '2017-01-22'\n",
    "trained_model_name = str(localidad)+'_'+train_initial_date+'_'+train_final_date+'_time_cutoff_'+str(parameters['time_cutoff'])"
   ]
  },
  {
   "cell_type": "code",
   "execution_count": 24,
   "metadata": {},
   "outputs": [],
   "source": [
    "initial_date_prediction = '2017-01-24'\n",
    "end_date = datetime.datetime.strptime(initial_date_prediction,'%Y-%m-%d')+datetime.timedelta(days=1)\n",
    "end_date = end_date.strftime('%Y-%m-%d')\n",
    "time_window_prediction = {'start':initial_date_prediction,'end':end_date}\n",
    "hour_value = 21"
   ]
  },
  {
   "cell_type": "code",
   "execution_count": null,
   "metadata": {},
   "outputs": [],
   "source": [
    "coverage_values = [0.01 , 0.02, 0.03, 0.04, 0.05, 0.06, 0.07, 0.08, 0.09, 0.1, 0.12, 0.14, 0.15, 0.2, 0.25, 0.3, 0.35, 0.4, 0.5, 0.6, 0.7, 0.8, 0.9, 1]"
   ]
  },
  {
   "cell_type": "code",
   "execution_count": null,
   "metadata": {},
   "outputs": [],
   "source": [
    "flagF = True\n",
    "modelCrime = load_model(localidad,trained_model_name)\n",
    "current_date_prediction = time_window_prediction['start']\n",
    "predict_time = datetime.datetime.strptime(current_date_prediction,'%Y-%m-%d')+datetime.timedelta(hours=hour_value)\n",
    "coverages = []\n",
    "\n",
    "for i,j in zip(coverage_values[0::2], coverage_values[1::2]):\n",
    "    print(str(i), '+', str(j))\n",
    "    coverages = []\n",
    "    coverages.append(i)\n",
    "    coverages.append(j)\n",
    "    print(coverages[0],coverages[1])\n",
    "    gridpred, hitrates = sweep_coverages_prediction(localidad,modelCrime,time_window_prediction,predict_time,coverages)\n",
    "    #plot_gridpred(localidad,predict_time,gridpred) ## uncomment to plot gridpred\n",
    "    if flagF==True:\n",
    "        flagF = False\n",
    "        hitrates_values = np.array([localidad,predict_time.strftime('%Y-%m-%d %H:%M:%S'),i,hitrates[i]])\n",
    "        hitrates_values = np.vstack((hitrates_values, [localidad,predict_time.strftime('%Y-%m-%d %H:%M:%S'),j,hitrates[j]]))\n",
    "    else:\n",
    "        hitrates_values = np.vstack((hitrates_values, [localidad,predict_time.strftime('%Y-%m-%d %H:%M:%S'),i,hitrates[i]]))\n",
    "        hitrates_values = np.vstack((hitrates_values, [localidad,predict_time.strftime('%Y-%m-%d %H:%M:%S'),j,hitrates[j]]))\n",
    "    \n",
    "    print(hitrates_values)\n"
   ]
  },
  {
   "cell_type": "code",
   "execution_count": 26,
   "metadata": {},
   "outputs": [
    {
     "data": {
      "text/html": [
       "<div>\n",
       "<style scoped>\n",
       "    .dataframe tbody tr th:only-of-type {\n",
       "        vertical-align: middle;\n",
       "    }\n",
       "\n",
       "    .dataframe tbody tr th {\n",
       "        vertical-align: top;\n",
       "    }\n",
       "\n",
       "    .dataframe thead th {\n",
       "        text-align: right;\n",
       "    }\n",
       "</style>\n",
       "<table border=\"1\" class=\"dataframe\">\n",
       "  <thead>\n",
       "    <tr style=\"text-align: right;\">\n",
       "      <th></th>\n",
       "      <th>localidad</th>\n",
       "      <th>prediction_time</th>\n",
       "      <th>coverage</th>\n",
       "      <th>hitrate</th>\n",
       "    </tr>\n",
       "  </thead>\n",
       "  <tbody>\n",
       "    <tr>\n",
       "      <td>0</td>\n",
       "      <td>city</td>\n",
       "      <td>2017-01-24 21:00:00</td>\n",
       "      <td>0.01</td>\n",
       "      <td>0.0084985835694051</td>\n",
       "    </tr>\n",
       "    <tr>\n",
       "      <td>1</td>\n",
       "      <td>city</td>\n",
       "      <td>2017-01-24 21:00:00</td>\n",
       "      <td>0.02</td>\n",
       "      <td>0.0169971671388102</td>\n",
       "    </tr>\n",
       "    <tr>\n",
       "      <td>2</td>\n",
       "      <td>city</td>\n",
       "      <td>2017-01-24 21:00:00</td>\n",
       "      <td>0.03</td>\n",
       "      <td>0.0226628895184136</td>\n",
       "    </tr>\n",
       "    <tr>\n",
       "      <td>3</td>\n",
       "      <td>city</td>\n",
       "      <td>2017-01-24 21:00:00</td>\n",
       "      <td>0.04</td>\n",
       "      <td>0.029745042492917848</td>\n",
       "    </tr>\n",
       "    <tr>\n",
       "      <td>4</td>\n",
       "      <td>city</td>\n",
       "      <td>2017-01-24 21:00:00</td>\n",
       "      <td>0.05</td>\n",
       "      <td>0.03541076487252125</td>\n",
       "    </tr>\n",
       "    <tr>\n",
       "      <td>5</td>\n",
       "      <td>city</td>\n",
       "      <td>2017-01-24 21:00:00</td>\n",
       "      <td>0.06</td>\n",
       "      <td>0.04107648725212465</td>\n",
       "    </tr>\n",
       "    <tr>\n",
       "      <td>6</td>\n",
       "      <td>city</td>\n",
       "      <td>2017-01-24 21:00:00</td>\n",
       "      <td>0.07</td>\n",
       "      <td>0.056657223796033995</td>\n",
       "    </tr>\n",
       "    <tr>\n",
       "      <td>7</td>\n",
       "      <td>city</td>\n",
       "      <td>2017-01-24 21:00:00</td>\n",
       "      <td>0.08</td>\n",
       "      <td>0.06657223796033994</td>\n",
       "    </tr>\n",
       "    <tr>\n",
       "      <td>8</td>\n",
       "      <td>city</td>\n",
       "      <td>2017-01-24 21:00:00</td>\n",
       "      <td>0.09</td>\n",
       "      <td>0.060906515580736544</td>\n",
       "    </tr>\n",
       "    <tr>\n",
       "      <td>9</td>\n",
       "      <td>city</td>\n",
       "      <td>2017-01-24 21:00:00</td>\n",
       "      <td>0.1</td>\n",
       "      <td>0.06515580736543909</td>\n",
       "    </tr>\n",
       "    <tr>\n",
       "      <td>10</td>\n",
       "      <td>city</td>\n",
       "      <td>2017-01-24 21:00:00</td>\n",
       "      <td>0.12</td>\n",
       "      <td>0.08923512747875353</td>\n",
       "    </tr>\n",
       "    <tr>\n",
       "      <td>11</td>\n",
       "      <td>city</td>\n",
       "      <td>2017-01-24 21:00:00</td>\n",
       "      <td>0.14</td>\n",
       "      <td>0.09773371104815864</td>\n",
       "    </tr>\n",
       "    <tr>\n",
       "      <td>12</td>\n",
       "      <td>city</td>\n",
       "      <td>2017-01-24 21:00:00</td>\n",
       "      <td>0.15</td>\n",
       "      <td>0.10198300283286119</td>\n",
       "    </tr>\n",
       "    <tr>\n",
       "      <td>13</td>\n",
       "      <td>city</td>\n",
       "      <td>2017-01-24 21:00:00</td>\n",
       "      <td>0.2</td>\n",
       "      <td>0.11331444759206799</td>\n",
       "    </tr>\n",
       "    <tr>\n",
       "      <td>14</td>\n",
       "      <td>city</td>\n",
       "      <td>2017-01-24 21:00:00</td>\n",
       "      <td>0.25</td>\n",
       "      <td>0.11898016997167139</td>\n",
       "    </tr>\n",
       "    <tr>\n",
       "      <td>15</td>\n",
       "      <td>city</td>\n",
       "      <td>2017-01-24 21:00:00</td>\n",
       "      <td>0.35</td>\n",
       "      <td>0.1274787535410765</td>\n",
       "    </tr>\n",
       "    <tr>\n",
       "      <td>16</td>\n",
       "      <td>city</td>\n",
       "      <td>2017-01-24 21:00:00</td>\n",
       "      <td>0.3</td>\n",
       "      <td>0.12039660056657224</td>\n",
       "    </tr>\n",
       "    <tr>\n",
       "      <td>17</td>\n",
       "      <td>city</td>\n",
       "      <td>2017-01-24 21:00:00</td>\n",
       "      <td>0.4</td>\n",
       "      <td>0.13031161473087818</td>\n",
       "    </tr>\n",
       "    <tr>\n",
       "      <td>18</td>\n",
       "      <td>city</td>\n",
       "      <td>2017-01-24 21:00:00</td>\n",
       "      <td>0.5</td>\n",
       "      <td>0.14730878186968838</td>\n",
       "    </tr>\n",
       "    <tr>\n",
       "      <td>19</td>\n",
       "      <td>city</td>\n",
       "      <td>2017-01-24 21:00:00</td>\n",
       "      <td>0.6</td>\n",
       "      <td>0.1501416430594901</td>\n",
       "    </tr>\n",
       "    <tr>\n",
       "      <td>20</td>\n",
       "      <td>city</td>\n",
       "      <td>2017-01-24 21:00:00</td>\n",
       "      <td>0.7</td>\n",
       "      <td>0.1501416430594901</td>\n",
       "    </tr>\n",
       "    <tr>\n",
       "      <td>21</td>\n",
       "      <td>city</td>\n",
       "      <td>2017-01-24 21:00:00</td>\n",
       "      <td>0.8</td>\n",
       "      <td>0.1529745042492918</td>\n",
       "    </tr>\n",
       "    <tr>\n",
       "      <td>22</td>\n",
       "      <td>city</td>\n",
       "      <td>2017-01-24 21:00:00</td>\n",
       "      <td>0.9</td>\n",
       "      <td>0.1501416430594901</td>\n",
       "    </tr>\n",
       "    <tr>\n",
       "      <td>23</td>\n",
       "      <td>city</td>\n",
       "      <td>2017-01-24 21:00:00</td>\n",
       "      <td>1</td>\n",
       "      <td>0.15155807365439095</td>\n",
       "    </tr>\n",
       "  </tbody>\n",
       "</table>\n",
       "</div>"
      ],
      "text/plain": [
       "   localidad      prediction_time coverage               hitrate\n",
       "0       city  2017-01-24 21:00:00     0.01    0.0084985835694051\n",
       "1       city  2017-01-24 21:00:00     0.02    0.0169971671388102\n",
       "2       city  2017-01-24 21:00:00     0.03    0.0226628895184136\n",
       "3       city  2017-01-24 21:00:00     0.04  0.029745042492917848\n",
       "4       city  2017-01-24 21:00:00     0.05   0.03541076487252125\n",
       "5       city  2017-01-24 21:00:00     0.06   0.04107648725212465\n",
       "6       city  2017-01-24 21:00:00     0.07  0.056657223796033995\n",
       "7       city  2017-01-24 21:00:00     0.08   0.06657223796033994\n",
       "8       city  2017-01-24 21:00:00     0.09  0.060906515580736544\n",
       "9       city  2017-01-24 21:00:00      0.1   0.06515580736543909\n",
       "10      city  2017-01-24 21:00:00     0.12   0.08923512747875353\n",
       "11      city  2017-01-24 21:00:00     0.14   0.09773371104815864\n",
       "12      city  2017-01-24 21:00:00     0.15   0.10198300283286119\n",
       "13      city  2017-01-24 21:00:00      0.2   0.11331444759206799\n",
       "14      city  2017-01-24 21:00:00     0.25   0.11898016997167139\n",
       "15      city  2017-01-24 21:00:00     0.35    0.1274787535410765\n",
       "16      city  2017-01-24 21:00:00      0.3   0.12039660056657224\n",
       "17      city  2017-01-24 21:00:00      0.4   0.13031161473087818\n",
       "18      city  2017-01-24 21:00:00      0.5   0.14730878186968838\n",
       "19      city  2017-01-24 21:00:00      0.6    0.1501416430594901\n",
       "20      city  2017-01-24 21:00:00      0.7    0.1501416430594901\n",
       "21      city  2017-01-24 21:00:00      0.8    0.1529745042492918\n",
       "22      city  2017-01-24 21:00:00      0.9    0.1501416430594901\n",
       "23      city  2017-01-24 21:00:00        1   0.15155807365439095"
      ]
     },
     "execution_count": 26,
     "metadata": {},
     "output_type": "execute_result"
    }
   ],
   "source": [
    "df_hitrates = pd.DataFrame(hitrates_values, columns=['localidad','prediction_time','coverage','hitrate'])\n",
    "df_hitrates"
   ]
  },
  {
   "cell_type": "code",
   "execution_count": 27,
   "metadata": {},
   "outputs": [],
   "source": [
    "experiment_name = 'city_coverage_vs_hitrate_2017-01-24'\n",
    "hitrates_outfile = open(path+'/aggressive_behavior_model/SEPP/'+'pkl/PredictionRina_'+experiment_name+'.pkl','wb')\n",
    "pickle.dump(df_hitrates, hitrates_outfile)\n",
    "hitrates_outfile.close()"
   ]
  },
  {
   "cell_type": "markdown",
   "metadata": {},
   "source": [
    "## Plot results"
   ]
  },
  {
   "cell_type": "code",
   "execution_count": 9,
   "metadata": {},
   "outputs": [],
   "source": [
    "experiment_name = 'city_coverage_vs_hitrate_2017-01-22'\n",
    "custom_path = path+'/aggressive_behavior_model/SEPP/'+'pkl/PredictionRina_'+experiment_name+'.pkl'\n",
    "infile = open(custom_path,'rb')\n",
    "df_1 = pickle.load(infile)\n",
    "infile.close()"
   ]
  },
  {
   "cell_type": "code",
   "execution_count": 16,
   "metadata": {},
   "outputs": [
    {
     "data": {
      "text/plain": [
       "<matplotlib.axes._subplots.AxesSubplot at 0x13d273208>"
      ]
     },
     "execution_count": 16,
     "metadata": {},
     "output_type": "execute_result"
    },
    {
     "data": {
      "image/png": "[encoded data removed]",
      "text/plain": [
       "<Figure size 432x288 with 1 Axes>"
      ]
     },
     "metadata": {
      "needs_background": "light"
     },
     "output_type": "display_data"
    }
   ],
   "source": [
    "df_1['coverage'] = pd.to_numeric(df_1['coverage'])\n",
    "df_1['hitrate'] = pd.to_numeric(df_1['hitrate'])\n",
    "df_1.plot(x='coverage', y='hitrate')"
   ]
  },
  {
   "cell_type": "code",
   "execution_count": 10,
   "metadata": {},
   "outputs": [],
   "source": [
    "experiment_name = 'city_coverage_vs_hitrate_2017-01-23'\n",
    "custom_path = path+'/aggressive_behavior_model/SEPP/'+'pkl/PredictionRina_'+experiment_name+'.pkl'\n",
    "infile = open(custom_path,'rb')\n",
    "df_2 = pickle.load(infile)\n",
    "infile.close()"
   ]
  },
  {
   "cell_type": "code",
   "execution_count": 11,
   "metadata": {},
   "outputs": [],
   "source": [
    "experiment_name = 'city_coverage_vs_hitrate_2017-01-23'\n",
    "custom_path = path+'/aggressive_behavior_model/SEPP/'+'pkl/PredictionRina_'+experiment_name+'.pkl'\n",
    "infile = open(custom_path,'rb')\n",
    "df_3 = pickle.load(infile)\n",
    "infile.close()"
   ]
  },
  {
   "cell_type": "code",
   "execution_count": 12,
   "metadata": {},
   "outputs": [],
   "source": [
    "experiment_name = 'city_coverage_vs_hitrate_2017-01-24'\n",
    "custom_path = path+'/aggressive_behavior_model/SEPP/'+'pkl/PredictionRina_'+experiment_name+'.pkl'\n",
    "infile = open(custom_path,'rb')\n",
    "df_4 = pickle.load(infile)\n",
    "infile.close()"
   ]
  },
  {
   "cell_type": "code",
   "execution_count": 13,
   "metadata": {},
   "outputs": [],
   "source": [
    "experiment_name = 'city_coverage_vs_hitrate_2017-01-25'\n",
    "custom_path = path+'/aggressive_behavior_model/SEPP/'+'pkl/PredictionRina_'+experiment_name+'.pkl'\n",
    "infile = open(custom_path,'rb')\n",
    "df_5 = pickle.load(infile)\n",
    "infile.close()"
   ]
  },
  {
   "cell_type": "code",
   "execution_count": 14,
   "metadata": {},
   "outputs": [],
   "source": [
    "frames = [df_1, df_2, df_3, df_4, df_5]\n",
    "df_hitrates = pd.concat(frames)"
   ]
  },
  {
   "cell_type": "code",
   "execution_count": 15,
   "metadata": {},
   "outputs": [],
   "source": [
    "df_hitrates['coverage'] = pd.to_numeric(df_hitrates['coverage'])\n",
    "df_hitrates['hitrate'] = pd.to_numeric(df_hitrates['hitrate'])"
   ]
  },
  {
   "cell_type": "code",
   "execution_count": 20,
   "metadata": {},
   "outputs": [
    {
     "data": {
      "application/vnd.plotly.v1+json": {
       "config": {
        "plotlyServerURL": "https://plot.ly"
       },
       "data": [
        {
         "hoverlabel": {
          "namelength": 0
         },
         "hovertemplate": "prediction_time=2017-01-22 21:00:00<br>coverage=%{x}<br>hitrate=%{y}",
         "legendgroup": "prediction_time=2017-01-22 21:00:00",
         "marker": {
          "color": "#636efa",
          "symbol": "circle"
         },
         "mode": "markers",
         "name": "prediction_time=2017-01-22 21:00:00",
         "showlegend": true,
         "type": "scatter",
         "x": [
          0.01,
          0.02,
          0.03,
          0.04,
          0.05,
          0.06,
          0.07,
          0.08,
          0.09,
          0.1,
          0.12,
          0.14,
          0.15,
          0.2,
          0.25,
          0.3,
          0.35,
          0.4,
          0.5,
          0.6,
          0.7,
          0.8,
          0.9,
          1
         ],
         "xaxis": "x",
         "y": [
          0.0019430051813471504,
          0.005829015544041451,
          0.009715025906735751,
          0.014248704663212437,
          0.012305699481865284,
          0.022020725388601038,
          0.024611398963730567,
          0.027849740932642485,
          0.03173575129533679,
          0.03562176165803109,
          0.03432642487046632,
          0.04080310880829016,
          0.044689119170984455,
          0.062176165803108814,
          0.07772020725388601,
          0.08613989637305701,
          0.09715025906735753,
          0.10427461139896373,
          0.11852331606217616,
          0.12240932642487047,
          0.12823834196891193,
          0.13730569948186527,
          0.14313471502590674,
          0.1483160621761658
         ],
         "yaxis": "y"
        },
        {
         "hoverlabel": {
          "namelength": 0
         },
         "hovertemplate": "prediction_time=2017-01-23 21:00:00<br>coverage=%{x}<br>hitrate=%{y}",
         "legendgroup": "prediction_time=2017-01-23 21:00:00",
         "marker": {
          "color": "#EF553B",
          "symbol": "circle"
         },
         "mode": "markers",
         "name": "prediction_time=2017-01-23 21:00:00",
         "showlegend": true,
         "type": "scatter",
         "x": [
          0.01,
          0.02,
          0.03,
          0.04,
          0.05,
          0.06,
          0.07,
          0.08,
          0.09,
          0.1,
          0.12,
          0.14,
          0.15,
          0.2,
          0.25,
          0.3,
          0.35,
          0.4,
          0.5,
          0.6,
          0.7,
          0.8,
          0.9,
          1,
          0.01,
          0.02,
          0.03,
          0.04,
          0.05,
          0.06,
          0.07,
          0.08,
          0.09,
          0.1,
          0.12,
          0.14,
          0.15,
          0.2,
          0.25,
          0.3,
          0.35,
          0.4,
          0.5,
          0.6,
          0.7,
          0.8,
          0.9,
          1
         ],
         "xaxis": "x",
         "y": [
          0.008253094910591471,
          0.02200825309491059,
          0.0233837689133425,
          0.0343878954607978,
          0.03576341127922971,
          0.04264099037138927,
          0.050894085281980736,
          0.05639614855570839,
          0.059147180192572216,
          0.06327372764786797,
          0.08253094910591471,
          0.08940852819807428,
          0.0921595598349381,
          0.10866574965612104,
          0.1155433287482806,
          0.1265474552957359,
          0.13892709766162312,
          0.14167812929848694,
          0.13480055020632736,
          0.14030261348005502,
          0.14580467675378267,
          0.14580467675378267,
          0.14718019257221454,
          0.14718019257221454,
          0.008253094910591471,
          0.02200825309491059,
          0.0233837689133425,
          0.0343878954607978,
          0.03576341127922971,
          0.04264099037138927,
          0.050894085281980736,
          0.05639614855570839,
          0.059147180192572216,
          0.06327372764786797,
          0.08253094910591471,
          0.08940852819807428,
          0.0921595598349381,
          0.10866574965612104,
          0.1155433287482806,
          0.1265474552957359,
          0.13892709766162312,
          0.14167812929848694,
          0.13480055020632736,
          0.14030261348005502,
          0.14580467675378267,
          0.14580467675378267,
          0.14718019257221454,
          0.14718019257221454
         ],
         "yaxis": "y"
        },
        {
         "hoverlabel": {
          "namelength": 0
         },
         "hovertemplate": "prediction_time=2017-01-24 21:00:00<br>coverage=%{x}<br>hitrate=%{y}",
         "legendgroup": "prediction_time=2017-01-24 21:00:00",
         "marker": {
          "color": "#00cc96",
          "symbol": "circle"
         },
         "mode": "markers",
         "name": "prediction_time=2017-01-24 21:00:00",
         "showlegend": true,
         "type": "scatter",
         "x": [
          0.01,
          0.02,
          0.03,
          0.04,
          0.05,
          0.06,
          0.07,
          0.08,
          0.09,
          0.1,
          0.12,
          0.14,
          0.15,
          0.2,
          0.25,
          0.35,
          0.3,
          0.4,
          0.5,
          0.6,
          0.7,
          0.8,
          0.9,
          1
         ],
         "xaxis": "x",
         "y": [
          0.0084985835694051,
          0.0169971671388102,
          0.0226628895184136,
          0.02974504249291785,
          0.03541076487252125,
          0.04107648725212465,
          0.056657223796034,
          0.06657223796033994,
          0.06090651558073655,
          0.06515580736543909,
          0.08923512747875352,
          0.09773371104815863,
          0.1019830028328612,
          0.113314447592068,
          0.1189801699716714,
          0.1274787535410765,
          0.12039660056657225,
          0.13031161473087818,
          0.14730878186968838,
          0.1501416430594901,
          0.1501416430594901,
          0.1529745042492918,
          0.1501416430594901,
          0.15155807365439095
         ],
         "yaxis": "y"
        },
        {
         "hoverlabel": {
          "namelength": 0
         },
         "hovertemplate": "prediction_time=2017-01-25 21:00:00<br>coverage=%{x}<br>hitrate=%{y}",
         "legendgroup": "prediction_time=2017-01-25 21:00:00",
         "marker": {
          "color": "#ab63fa",
          "symbol": "circle"
         },
         "mode": "markers",
         "name": "prediction_time=2017-01-25 21:00:00",
         "showlegend": true,
         "type": "scatter",
         "x": [
          0.01,
          0.02,
          0.03,
          0.04,
          0.05,
          0.06,
          0.07,
          0.08,
          0.09,
          0.1,
          0.12,
          0.14,
          0.15,
          0.2,
          0.25,
          0.3,
          0.35,
          0.4,
          0.5,
          0.6,
          0.7,
          0.8,
          0.9,
          1
         ],
         "xaxis": "x",
         "y": [
          0.004201680672268907,
          0.00980392156862745,
          0.01680672268907563,
          0.02240896358543417,
          0.028011204481792718,
          0.03361344537815126,
          0.0350140056022409,
          0.04341736694677871,
          0.047619047619047616,
          0.05182072829131653,
          0.06862745098039216,
          0.07703081232492998,
          0.08123249299719887,
          0.09243697478991596,
          0.0896358543417367,
          0.09523809523809523,
          0.1022408963585434,
          0.1022408963585434,
          0.1022408963585434,
          0.10504201680672268,
          0.1092436974789916,
          0.11064425770308124,
          0.11904761904761905,
          0.12044817927170867
         ],
         "yaxis": "y"
        }
       ],
       "layout": {
        "height": 600,
        "legend": {
         "tracegroupgap": 0
        },
        "margin": {
         "t": 60
        },
        "template": {
         "data": {
          "bar": [
           {
            "error_x": {
             "color": "#2a3f5f"
            },
            "error_y": {
             "color": "#2a3f5f"
            },
            "marker": {
             "line": {
              "color": "#E5ECF6",
              "width": 0.5
             }
            },
            "type": "bar"
           }
          ],
          "barpolar": [
           {
            "marker": {
             "line": {
              "color": "#E5ECF6",
              "width": 0.5
             }
            },
            "type": "barpolar"
           }
          ],
          "carpet": [
           {
            "aaxis": {
             "endlinecolor": "#2a3f5f",
             "gridcolor": "white",
             "linecolor": "white",
             "minorgridcolor": "white",
             "startlinecolor": "#2a3f5f"
            },
            "baxis": {
             "endlinecolor": "#2a3f5f",
             "gridcolor": "white",
             "linecolor": "white",
             "minorgridcolor": "white",
             "startlinecolor": "#2a3f5f"
            },
            "type": "carpet"
           }
          ],
          "choropleth": [
           {
            "colorbar": {
             "outlinewidth": 0,
             "ticks": ""
            },
            "type": "choropleth"
           }
          ],
          "contour": [
           {
            "colorbar": {
             "outlinewidth": 0,
             "ticks": ""
            },
            "colorscale": [
             [
              0,
              "#0d0887"
             ],
             [
              0.1111111111111111,
              "#46039f"
             ],
             [
              0.2222222222222222,
              "#7201a8"
             ],
             [
              0.3333333333333333,
              "#9c179e"
             ],
             [
              0.4444444444444444,
              "#bd3786"
             ],
             [
              0.5555555555555556,
              "#d8576b"
             ],
             [
              0.6666666666666666,
              "#ed7953"
             ],
             [
              0.7777777777777778,
              "#fb9f3a"
             ],
             [
              0.8888888888888888,
              "#fdca26"
             ],
             [
              1,
              "#f0f921"
             ]
            ],
            "type": "contour"
           }
          ],
          "contourcarpet": [
           {
            "colorbar": {
             "outlinewidth": 0,
             "ticks": ""
            },
            "type": "contourcarpet"
           }
          ],
          "heatmap": [
           {
            "colorbar": {
             "outlinewidth": 0,
             "ticks": ""
            },
            "colorscale": [
             [
              0,
              "#0d0887"
             ],
             [
              0.1111111111111111,
              "#46039f"
             ],
             [
              0.2222222222222222,
              "#7201a8"
             ],
             [
              0.3333333333333333,
              "#9c179e"
             ],
             [
              0.4444444444444444,
              "#bd3786"
             ],
             [
              0.5555555555555556,
              "#d8576b"
             ],
             [
              0.6666666666666666,
              "#ed7953"
             ],
             [
              0.7777777777777778,
              "#fb9f3a"
             ],
             [
              0.8888888888888888,
              "#fdca26"
             ],
             [
              1,
              "#f0f921"
             ]
            ],
            "type": "heatmap"
           }
          ],
          "heatmapgl": [
           {
            "colorbar": {
             "outlinewidth": 0,
             "ticks": ""
            },
            "colorscale": [
             [
              0,
              "#0d0887"
             ],
             [
              0.1111111111111111,
              "#46039f"
             ],
             [
              0.2222222222222222,
              "#7201a8"
             ],
             [
              0.3333333333333333,
              "#9c179e"
             ],
             [
              0.4444444444444444,
              "#bd3786"
             ],
             [
              0.5555555555555556,
              "#d8576b"
             ],
             [
              0.6666666666666666,
              "#ed7953"
             ],
             [
              0.7777777777777778,
              "#fb9f3a"
             ],
             [
              0.8888888888888888,
              "#fdca26"
             ],
             [
              1,
              "#f0f921"
             ]
            ],
            "type": "heatmapgl"
           }
          ],
          "histogram": [
           {
            "marker": {
             "colorbar": {
              "outlinewidth": 0,
              "ticks": ""
             }
            },
            "type": "histogram"
           }
          ],
          "histogram2d": [
           {
            "colorbar": {
             "outlinewidth": 0,
             "ticks": ""
            },
            "colorscale": [
             [
              0,
              "#0d0887"
             ],
             [
              0.1111111111111111,
              "#46039f"
             ],
             [
              0.2222222222222222,
              "#7201a8"
             ],
             [
              0.3333333333333333,
              "#9c179e"
             ],
             [
              0.4444444444444444,
              "#bd3786"
             ],
             [
              0.5555555555555556,
              "#d8576b"
             ],
             [
              0.6666666666666666,
              "#ed7953"
             ],
             [
              0.7777777777777778,
              "#fb9f3a"
             ],
             [
              0.8888888888888888,
              "#fdca26"
             ],
             [
              1,
              "#f0f921"
             ]
            ],
            "type": "histogram2d"
           }
          ],
          "histogram2dcontour": [
           {
            "colorbar": {
             "outlinewidth": 0,
             "ticks": ""
            },
            "colorscale": [
             [
              0,
              "#0d0887"
             ],
             [
              0.1111111111111111,
              "#46039f"
             ],
             [
              0.2222222222222222,
              "#7201a8"
             ],
             [
              0.3333333333333333,
              "#9c179e"
             ],
             [
              0.4444444444444444,
              "#bd3786"
             ],
             [
              0.5555555555555556,
              "#d8576b"
             ],
             [
              0.6666666666666666,
              "#ed7953"
             ],
             [
              0.7777777777777778,
              "#fb9f3a"
             ],
             [
              0.8888888888888888,
              "#fdca26"
             ],
             [
              1,
              "#f0f921"
             ]
            ],
            "type": "histogram2dcontour"
           }
          ],
          "mesh3d": [
           {
            "colorbar": {
             "outlinewidth": 0,
             "ticks": ""
            },
            "type": "mesh3d"
           }
          ],
          "parcoords": [
           {
            "line": {
             "colorbar": {
              "outlinewidth": 0,
              "ticks": ""
             }
            },
            "type": "parcoords"
           }
          ],
          "scatter": [
           {
            "marker": {
             "colorbar": {
              "outlinewidth": 0,
              "ticks": ""
             }
            },
            "type": "scatter"
           }
          ],
          "scatter3d": [
           {
            "line": {
             "colorbar": {
              "outlinewidth": 0,
              "ticks": ""
             }
            },
            "marker": {
             "colorbar": {
              "outlinewidth": 0,
              "ticks": ""
             }
            },
            "type": "scatter3d"
           }
          ],
          "scattercarpet": [
           {
            "marker": {
             "colorbar": {
              "outlinewidth": 0,
              "ticks": ""
             }
            },
            "type": "scattercarpet"
           }
          ],
          "scattergeo": [
           {
            "marker": {
             "colorbar": {
              "outlinewidth": 0,
              "ticks": ""
             }
            },
            "type": "scattergeo"
           }
          ],
          "scattergl": [
           {
            "marker": {
             "colorbar": {
              "outlinewidth": 0,
              "ticks": ""
             }
            },
            "type": "scattergl"
           }
          ],
          "scattermapbox": [
           {
            "marker": {
             "colorbar": {
              "outlinewidth": 0,
              "ticks": ""
             }
            },
            "type": "scattermapbox"
           }
          ],
          "scatterpolar": [
           {
            "marker": {
             "colorbar": {
              "outlinewidth": 0,
              "ticks": ""
             }
            },
            "type": "scatterpolar"
           }
          ],
          "scatterpolargl": [
           {
            "marker": {
             "colorbar": {
              "outlinewidth": 0,
              "ticks": ""
             }
            },
            "type": "scatterpolargl"
           }
          ],
          "scatterternary": [
           {
            "marker": {
             "colorbar": {
              "outlinewidth": 0,
              "ticks": ""
             }
            },
            "type": "scatterternary"
           }
          ],
          "surface": [
           {
            "colorbar": {
             "outlinewidth": 0,
             "ticks": ""
            },
            "colorscale": [
             [
              0,
              "#0d0887"
             ],
             [
              0.1111111111111111,
              "#46039f"
             ],
             [
              0.2222222222222222,
              "#7201a8"
             ],
             [
              0.3333333333333333,
              "#9c179e"
             ],
             [
              0.4444444444444444,
              "#bd3786"
             ],
             [
              0.5555555555555556,
              "#d8576b"
             ],
             [
              0.6666666666666666,
              "#ed7953"
             ],
             [
              0.7777777777777778,
              "#fb9f3a"
             ],
             [
              0.8888888888888888,
              "#fdca26"
             ],
             [
              1,
              "#f0f921"
             ]
            ],
            "type": "surface"
           }
          ],
          "table": [
           {
            "cells": {
             "fill": {
              "color": "#EBF0F8"
             },
             "line": {
              "color": "white"
             }
            },
            "header": {
             "fill": {
              "color": "#C8D4E3"
             },
             "line": {
              "color": "white"
             }
            },
            "type": "table"
           }
          ]
         },
         "layout": {
          "annotationdefaults": {
           "arrowcolor": "#2a3f5f",
           "arrowhead": 0,
           "arrowwidth": 1
          },
          "colorscale": {
           "diverging": [
            [
             0,
             "#8e0152"
            ],
            [
             0.1,
             "#c51b7d"
            ],
            [
             0.2,
             "#de77ae"
            ],
            [
             0.3,
             "#f1b6da"
            ],
            [
             0.4,
             "#fde0ef"
            ],
            [
             0.5,
             "#f7f7f7"
            ],
            [
             0.6,
             "#e6f5d0"
            ],
            [
             0.7,
             "#b8e186"
            ],
            [
             0.8,
             "#7fbc41"
            ],
            [
             0.9,
             "#4d9221"
            ],
            [
             1,
             "#276419"
            ]
           ],
           "sequential": [
            [
             0,
             "#0d0887"
            ],
            [
             0.1111111111111111,
             "#46039f"
            ],
            [
             0.2222222222222222,
             "#7201a8"
            ],
            [
             0.3333333333333333,
             "#9c179e"
            ],
            [
             0.4444444444444444,
             "#bd3786"
            ],
            [
             0.5555555555555556,
             "#d8576b"
            ],
            [
             0.6666666666666666,
             "#ed7953"
            ],
            [
             0.7777777777777778,
             "#fb9f3a"
            ],
            [
             0.8888888888888888,
             "#fdca26"
            ],
            [
             1,
             "#f0f921"
            ]
           ],
           "sequentialminus": [
            [
             0,
             "#0d0887"
            ],
            [
             0.1111111111111111,
             "#46039f"
            ],
            [
             0.2222222222222222,
             "#7201a8"
            ],
            [
             0.3333333333333333,
             "#9c179e"
            ],
            [
             0.4444444444444444,
             "#bd3786"
            ],
            [
             0.5555555555555556,
             "#d8576b"
            ],
            [
             0.6666666666666666,
             "#ed7953"
            ],
            [
             0.7777777777777778,
             "#fb9f3a"
            ],
            [
             0.8888888888888888,
             "#fdca26"
            ],
            [
             1,
             "#f0f921"
            ]
           ]
          },
          "colorway": [
           "#636efa",
           "#EF553B",
           "#00cc96",
           "#ab63fa",
           "#FFA15A",
           "#19d3f3",
           "#FF6692",
           "#B6E880",
           "#FF97FF",
           "#FECB52"
          ],
          "font": {
           "color": "#2a3f5f"
          },
          "geo": {
           "bgcolor": "white",
           "lakecolor": "white",
           "landcolor": "#E5ECF6",
           "showlakes": true,
           "showland": true,
           "subunitcolor": "white"
          },
          "hoverlabel": {
           "align": "left"
          },
          "hovermode": "closest",
          "mapbox": {
           "style": "light"
          },
          "paper_bgcolor": "white",
          "plot_bgcolor": "#E5ECF6",
          "polar": {
           "angularaxis": {
            "gridcolor": "white",
            "linecolor": "white",
            "ticks": ""
           },
           "bgcolor": "#E5ECF6",
           "radialaxis": {
            "gridcolor": "white",
            "linecolor": "white",
            "ticks": ""
           }
          },
          "scene": {
           "xaxis": {
            "backgroundcolor": "#E5ECF6",
            "gridcolor": "white",
            "gridwidth": 2,
            "linecolor": "white",
            "showbackground": true,
            "ticks": "",
            "zerolinecolor": "white"
           },
           "yaxis": {
            "backgroundcolor": "#E5ECF6",
            "gridcolor": "white",
            "gridwidth": 2,
            "linecolor": "white",
            "showbackground": true,
            "ticks": "",
            "zerolinecolor": "white"
           },
           "zaxis": {
            "backgroundcolor": "#E5ECF6",
            "gridcolor": "white",
            "gridwidth": 2,
            "linecolor": "white",
            "showbackground": true,
            "ticks": "",
            "zerolinecolor": "white"
           }
          },
          "shapedefaults": {
           "line": {
            "color": "#2a3f5f"
           }
          },
          "ternary": {
           "aaxis": {
            "gridcolor": "white",
            "linecolor": "white",
            "ticks": ""
           },
           "baxis": {
            "gridcolor": "white",
            "linecolor": "white",
            "ticks": ""
           },
           "bgcolor": "#E5ECF6",
           "caxis": {
            "gridcolor": "white",
            "linecolor": "white",
            "ticks": ""
           }
          },
          "title": {
           "x": 0.05
          },
          "xaxis": {
           "automargin": true,
           "gridcolor": "white",
           "linecolor": "white",
           "ticks": "",
           "zerolinecolor": "white",
           "zerolinewidth": 2
          },
          "yaxis": {
           "automargin": true,
           "gridcolor": "white",
           "linecolor": "white",
           "ticks": "",
           "zerolinecolor": "white",
           "zerolinewidth": 2
          }
         }
        },
        "xaxis": {
         "anchor": "y",
         "domain": [
          0,
          0.98
         ],
         "title": {
          "text": "coverage"
         }
        },
        "yaxis": {
         "anchor": "x",
         "domain": [
          0,
          1
         ],
         "title": {
          "text": "hitrate"
         }
        }
       }
      },
      "text/html": [
       "<div>\n",
       "        \n",
       "        \n",
       "            <div id=\"f6bba077-089f-4fe2-b746-368b2820d365\" class=\"plotly-graph-div\" style=\"height:600px; width:100%;\"></div>\n",
       "            <script type=\"text/javascript\">\n",
       "                require([\"plotly\"], function(Plotly) {\n",
       "                    window.PLOTLYENV=window.PLOTLYENV || {};\n",
       "                    \n",
       "                if (document.getElementById(\"f6bba077-089f-4fe2-b746-368b2820d365\")) {\n",
       "                    Plotly.newPlot(\n",
       "                        'f6bba077-089f-4fe2-b746-368b2820d365',\n",
       "                        [{\"hoverlabel\": {\"namelength\": 0}, \"hovertemplate\": \"prediction_time=2017-01-22 21:00:00<br>coverage=%{x}<br>hitrate=%{y}\", \"legendgroup\": \"prediction_time=2017-01-22 21:00:00\", \"marker\": {\"color\": \"#636efa\", \"symbol\": \"circle\"}, \"mode\": \"markers\", \"name\": \"prediction_time=2017-01-22 21:00:00\", \"showlegend\": true, \"type\": \"scatter\", \"x\": [0.01, 0.02, 0.03, 0.04, 0.05, 0.06, 0.07, 0.08, 0.09, 0.1, 0.12, 0.14, 0.15, 0.2, 0.25, 0.3, 0.35, 0.4, 0.5, 0.6, 0.7, 0.8, 0.9, 1.0], \"xaxis\": \"x\", \"y\": [0.0019430051813471504, 0.005829015544041451, 0.009715025906735751, 0.014248704663212437, 0.012305699481865284, 0.022020725388601038, 0.024611398963730567, 0.027849740932642485, 0.03173575129533679, 0.03562176165803109, 0.03432642487046632, 0.04080310880829016, 0.044689119170984455, 0.062176165803108814, 0.07772020725388601, 0.08613989637305701, 0.09715025906735753, 0.10427461139896373, 0.11852331606217616, 0.12240932642487047, 0.12823834196891193, 0.13730569948186527, 0.14313471502590674, 0.1483160621761658], \"yaxis\": \"y\"}, {\"hoverlabel\": {\"namelength\": 0}, \"hovertemplate\": \"prediction_time=2017-01-23 21:00:00<br>coverage=%{x}<br>hitrate=%{y}\", \"legendgroup\": \"prediction_time=2017-01-23 21:00:00\", \"marker\": {\"color\": \"#EF553B\", \"symbol\": \"circle\"}, \"mode\": \"markers\", \"name\": \"prediction_time=2017-01-23 21:00:00\", \"showlegend\": true, \"type\": \"scatter\", \"x\": [0.01, 0.02, 0.03, 0.04, 0.05, 0.06, 0.07, 0.08, 0.09, 0.1, 0.12, 0.14, 0.15, 0.2, 0.25, 0.3, 0.35, 0.4, 0.5, 0.6, 0.7, 0.8, 0.9, 1.0, 0.01, 0.02, 0.03, 0.04, 0.05, 0.06, 0.07, 0.08, 0.09, 0.1, 0.12, 0.14, 0.15, 0.2, 0.25, 0.3, 0.35, 0.4, 0.5, 0.6, 0.7, 0.8, 0.9, 1.0], \"xaxis\": \"x\", \"y\": [0.008253094910591471, 0.02200825309491059, 0.0233837689133425, 0.0343878954607978, 0.03576341127922971, 0.04264099037138927, 0.050894085281980736, 0.05639614855570839, 0.059147180192572216, 0.06327372764786797, 0.08253094910591471, 0.08940852819807428, 0.0921595598349381, 0.10866574965612104, 0.1155433287482806, 0.1265474552957359, 0.13892709766162312, 0.14167812929848694, 0.13480055020632736, 0.14030261348005502, 0.14580467675378267, 0.14580467675378267, 0.14718019257221454, 0.14718019257221454, 0.008253094910591471, 0.02200825309491059, 0.0233837689133425, 0.0343878954607978, 0.03576341127922971, 0.04264099037138927, 0.050894085281980736, 0.05639614855570839, 0.059147180192572216, 0.06327372764786797, 0.08253094910591471, 0.08940852819807428, 0.0921595598349381, 0.10866574965612104, 0.1155433287482806, 0.1265474552957359, 0.13892709766162312, 0.14167812929848694, 0.13480055020632736, 0.14030261348005502, 0.14580467675378267, 0.14580467675378267, 0.14718019257221454, 0.14718019257221454], \"yaxis\": \"y\"}, {\"hoverlabel\": {\"namelength\": 0}, \"hovertemplate\": \"prediction_time=2017-01-24 21:00:00<br>coverage=%{x}<br>hitrate=%{y}\", \"legendgroup\": \"prediction_time=2017-01-24 21:00:00\", \"marker\": {\"color\": \"#00cc96\", \"symbol\": \"circle\"}, \"mode\": \"markers\", \"name\": \"prediction_time=2017-01-24 21:00:00\", \"showlegend\": true, \"type\": \"scatter\", \"x\": [0.01, 0.02, 0.03, 0.04, 0.05, 0.06, 0.07, 0.08, 0.09, 0.1, 0.12, 0.14, 0.15, 0.2, 0.25, 0.35, 0.3, 0.4, 0.5, 0.6, 0.7, 0.8, 0.9, 1.0], \"xaxis\": \"x\", \"y\": [0.0084985835694051, 0.0169971671388102, 0.0226628895184136, 0.02974504249291785, 0.03541076487252125, 0.04107648725212465, 0.056657223796034, 0.06657223796033994, 0.06090651558073655, 0.06515580736543909, 0.08923512747875352, 0.09773371104815863, 0.1019830028328612, 0.113314447592068, 0.1189801699716714, 0.1274787535410765, 0.12039660056657225, 0.13031161473087818, 0.14730878186968838, 0.1501416430594901, 0.1501416430594901, 0.1529745042492918, 0.1501416430594901, 0.15155807365439095], \"yaxis\": \"y\"}, {\"hoverlabel\": {\"namelength\": 0}, \"hovertemplate\": \"prediction_time=2017-01-25 21:00:00<br>coverage=%{x}<br>hitrate=%{y}\", \"legendgroup\": \"prediction_time=2017-01-25 21:00:00\", \"marker\": {\"color\": \"#ab63fa\", \"symbol\": \"circle\"}, \"mode\": \"markers\", \"name\": \"prediction_time=2017-01-25 21:00:00\", \"showlegend\": true, \"type\": \"scatter\", \"x\": [0.01, 0.02, 0.03, 0.04, 0.05, 0.06, 0.07, 0.08, 0.09, 0.1, 0.12, 0.14, 0.15, 0.2, 0.25, 0.3, 0.35, 0.4, 0.5, 0.6, 0.7, 0.8, 0.9, 1.0], \"xaxis\": \"x\", \"y\": [0.004201680672268907, 0.00980392156862745, 0.01680672268907563, 0.02240896358543417, 0.028011204481792718, 0.03361344537815126, 0.0350140056022409, 0.04341736694677871, 0.047619047619047616, 0.05182072829131653, 0.06862745098039216, 0.07703081232492998, 0.08123249299719887, 0.09243697478991596, 0.0896358543417367, 0.09523809523809523, 0.1022408963585434, 0.1022408963585434, 0.1022408963585434, 0.10504201680672268, 0.1092436974789916, 0.11064425770308124, 0.11904761904761905, 0.12044817927170867], \"yaxis\": \"y\"}],\n",
       "                        {\"height\": 600, \"legend\": {\"tracegroupgap\": 0}, \"margin\": {\"t\": 60}, \"template\": {\"data\": {\"bar\": [{\"error_x\": {\"color\": \"#2a3f5f\"}, \"error_y\": {\"color\": \"#2a3f5f\"}, \"marker\": {\"line\": {\"color\": \"#E5ECF6\", \"width\": 0.5}}, \"type\": \"bar\"}], \"barpolar\": [{\"marker\": {\"line\": {\"color\": \"#E5ECF6\", \"width\": 0.5}}, \"type\": \"barpolar\"}], \"carpet\": [{\"aaxis\": {\"endlinecolor\": \"#2a3f5f\", \"gridcolor\": \"white\", \"linecolor\": \"white\", \"minorgridcolor\": \"white\", \"startlinecolor\": \"#2a3f5f\"}, \"baxis\": {\"endlinecolor\": \"#2a3f5f\", \"gridcolor\": \"white\", \"linecolor\": \"white\", \"minorgridcolor\": \"white\", \"startlinecolor\": \"#2a3f5f\"}, \"type\": \"carpet\"}], \"choropleth\": [{\"colorbar\": {\"outlinewidth\": 0, \"ticks\": \"\"}, \"type\": \"choropleth\"}], \"contour\": [{\"colorbar\": {\"outlinewidth\": 0, \"ticks\": \"\"}, \"colorscale\": [[0.0, \"#0d0887\"], [0.1111111111111111, \"#46039f\"], [0.2222222222222222, \"#7201a8\"], [0.3333333333333333, \"#9c179e\"], [0.4444444444444444, \"#bd3786\"], [0.5555555555555556, \"#d8576b\"], [0.6666666666666666, \"#ed7953\"], [0.7777777777777778, \"#fb9f3a\"], [0.8888888888888888, \"#fdca26\"], [1.0, \"#f0f921\"]], \"type\": \"contour\"}], \"contourcarpet\": [{\"colorbar\": {\"outlinewidth\": 0, \"ticks\": \"\"}, \"type\": \"contourcarpet\"}], \"heatmap\": [{\"colorbar\": {\"outlinewidth\": 0, \"ticks\": \"\"}, \"colorscale\": [[0.0, \"#0d0887\"], [0.1111111111111111, \"#46039f\"], [0.2222222222222222, \"#7201a8\"], [0.3333333333333333, \"#9c179e\"], [0.4444444444444444, \"#bd3786\"], [0.5555555555555556, \"#d8576b\"], [0.6666666666666666, \"#ed7953\"], [0.7777777777777778, \"#fb9f3a\"], [0.8888888888888888, \"#fdca26\"], [1.0, \"#f0f921\"]], \"type\": \"heatmap\"}], \"heatmapgl\": [{\"colorbar\": {\"outlinewidth\": 0, \"ticks\": \"\"}, \"colorscale\": [[0.0, \"#0d0887\"], [0.1111111111111111, \"#46039f\"], [0.2222222222222222, \"#7201a8\"], [0.3333333333333333, \"#9c179e\"], [0.4444444444444444, \"#bd3786\"], [0.5555555555555556, \"#d8576b\"], [0.6666666666666666, \"#ed7953\"], [0.7777777777777778, \"#fb9f3a\"], [0.8888888888888888, \"#fdca26\"], [1.0, \"#f0f921\"]], \"type\": \"heatmapgl\"}], \"histogram\": [{\"marker\": {\"colorbar\": {\"outlinewidth\": 0, \"ticks\": \"\"}}, \"type\": \"histogram\"}], \"histogram2d\": [{\"colorbar\": {\"outlinewidth\": 0, \"ticks\": \"\"}, \"colorscale\": [[0.0, \"#0d0887\"], [0.1111111111111111, \"#46039f\"], [0.2222222222222222, \"#7201a8\"], [0.3333333333333333, \"#9c179e\"], [0.4444444444444444, \"#bd3786\"], [0.5555555555555556, \"#d8576b\"], [0.6666666666666666, \"#ed7953\"], [0.7777777777777778, \"#fb9f3a\"], [0.8888888888888888, \"#fdca26\"], [1.0, \"#f0f921\"]], \"type\": \"histogram2d\"}], \"histogram2dcontour\": [{\"colorbar\": {\"outlinewidth\": 0, \"ticks\": \"\"}, \"colorscale\": [[0.0, \"#0d0887\"], [0.1111111111111111, \"#46039f\"], [0.2222222222222222, \"#7201a8\"], [0.3333333333333333, \"#9c179e\"], [0.4444444444444444, \"#bd3786\"], [0.5555555555555556, \"#d8576b\"], [0.6666666666666666, \"#ed7953\"], [0.7777777777777778, \"#fb9f3a\"], [0.8888888888888888, \"#fdca26\"], [1.0, \"#f0f921\"]], \"type\": \"histogram2dcontour\"}], \"mesh3d\": [{\"colorbar\": {\"outlinewidth\": 0, \"ticks\": \"\"}, \"type\": \"mesh3d\"}], \"parcoords\": [{\"line\": {\"colorbar\": {\"outlinewidth\": 0, \"ticks\": \"\"}}, \"type\": \"parcoords\"}], \"scatter\": [{\"marker\": {\"colorbar\": {\"outlinewidth\": 0, \"ticks\": \"\"}}, \"type\": \"scatter\"}], \"scatter3d\": [{\"line\": {\"colorbar\": {\"outlinewidth\": 0, \"ticks\": \"\"}}, \"marker\": {\"colorbar\": {\"outlinewidth\": 0, \"ticks\": \"\"}}, \"type\": \"scatter3d\"}], \"scattercarpet\": [{\"marker\": {\"colorbar\": {\"outlinewidth\": 0, \"ticks\": \"\"}}, \"type\": \"scattercarpet\"}], \"scattergeo\": [{\"marker\": {\"colorbar\": {\"outlinewidth\": 0, \"ticks\": \"\"}}, \"type\": \"scattergeo\"}], \"scattergl\": [{\"marker\": {\"colorbar\": {\"outlinewidth\": 0, \"ticks\": \"\"}}, \"type\": \"scattergl\"}], \"scattermapbox\": [{\"marker\": {\"colorbar\": {\"outlinewidth\": 0, \"ticks\": \"\"}}, \"type\": \"scattermapbox\"}], \"scatterpolar\": [{\"marker\": {\"colorbar\": {\"outlinewidth\": 0, \"ticks\": \"\"}}, \"type\": \"scatterpolar\"}], \"scatterpolargl\": [{\"marker\": {\"colorbar\": {\"outlinewidth\": 0, \"ticks\": \"\"}}, \"type\": \"scatterpolargl\"}], \"scatterternary\": [{\"marker\": {\"colorbar\": {\"outlinewidth\": 0, \"ticks\": \"\"}}, \"type\": \"scatterternary\"}], \"surface\": [{\"colorbar\": {\"outlinewidth\": 0, \"ticks\": \"\"}, \"colorscale\": [[0.0, \"#0d0887\"], [0.1111111111111111, \"#46039f\"], [0.2222222222222222, \"#7201a8\"], [0.3333333333333333, \"#9c179e\"], [0.4444444444444444, \"#bd3786\"], [0.5555555555555556, \"#d8576b\"], [0.6666666666666666, \"#ed7953\"], [0.7777777777777778, \"#fb9f3a\"], [0.8888888888888888, \"#fdca26\"], [1.0, \"#f0f921\"]], \"type\": \"surface\"}], \"table\": [{\"cells\": {\"fill\": {\"color\": \"#EBF0F8\"}, \"line\": {\"color\": \"white\"}}, \"header\": {\"fill\": {\"color\": \"#C8D4E3\"}, \"line\": {\"color\": \"white\"}}, \"type\": \"table\"}]}, \"layout\": {\"annotationdefaults\": {\"arrowcolor\": \"#2a3f5f\", \"arrowhead\": 0, \"arrowwidth\": 1}, \"colorscale\": {\"diverging\": [[0, \"#8e0152\"], [0.1, \"#c51b7d\"], [0.2, \"#de77ae\"], [0.3, \"#f1b6da\"], [0.4, \"#fde0ef\"], [0.5, \"#f7f7f7\"], [0.6, \"#e6f5d0\"], [0.7, \"#b8e186\"], [0.8, \"#7fbc41\"], [0.9, \"#4d9221\"], [1, \"#276419\"]], \"sequential\": [[0.0, \"#0d0887\"], [0.1111111111111111, \"#46039f\"], [0.2222222222222222, \"#7201a8\"], [0.3333333333333333, \"#9c179e\"], [0.4444444444444444, \"#bd3786\"], [0.5555555555555556, \"#d8576b\"], [0.6666666666666666, \"#ed7953\"], [0.7777777777777778, \"#fb9f3a\"], [0.8888888888888888, \"#fdca26\"], [1.0, \"#f0f921\"]], \"sequentialminus\": [[0.0, \"#0d0887\"], [0.1111111111111111, \"#46039f\"], [0.2222222222222222, \"#7201a8\"], [0.3333333333333333, \"#9c179e\"], [0.4444444444444444, \"#bd3786\"], [0.5555555555555556, \"#d8576b\"], [0.6666666666666666, \"#ed7953\"], [0.7777777777777778, \"#fb9f3a\"], [0.8888888888888888, \"#fdca26\"], [1.0, \"#f0f921\"]]}, \"colorway\": [\"#636efa\", \"#EF553B\", \"#00cc96\", \"#ab63fa\", \"#FFA15A\", \"#19d3f3\", \"#FF6692\", \"#B6E880\", \"#FF97FF\", \"#FECB52\"], \"font\": {\"color\": \"#2a3f5f\"}, \"geo\": {\"bgcolor\": \"white\", \"lakecolor\": \"white\", \"landcolor\": \"#E5ECF6\", \"showlakes\": true, \"showland\": true, \"subunitcolor\": \"white\"}, \"hoverlabel\": {\"align\": \"left\"}, \"hovermode\": \"closest\", \"mapbox\": {\"style\": \"light\"}, \"paper_bgcolor\": \"white\", \"plot_bgcolor\": \"#E5ECF6\", \"polar\": {\"angularaxis\": {\"gridcolor\": \"white\", \"linecolor\": \"white\", \"ticks\": \"\"}, \"bgcolor\": \"#E5ECF6\", \"radialaxis\": {\"gridcolor\": \"white\", \"linecolor\": \"white\", \"ticks\": \"\"}}, \"scene\": {\"xaxis\": {\"backgroundcolor\": \"#E5ECF6\", \"gridcolor\": \"white\", \"gridwidth\": 2, \"linecolor\": \"white\", \"showbackground\": true, \"ticks\": \"\", \"zerolinecolor\": \"white\"}, \"yaxis\": {\"backgroundcolor\": \"#E5ECF6\", \"gridcolor\": \"white\", \"gridwidth\": 2, \"linecolor\": \"white\", \"showbackground\": true, \"ticks\": \"\", \"zerolinecolor\": \"white\"}, \"zaxis\": {\"backgroundcolor\": \"#E5ECF6\", \"gridcolor\": \"white\", \"gridwidth\": 2, \"linecolor\": \"white\", \"showbackground\": true, \"ticks\": \"\", \"zerolinecolor\": \"white\"}}, \"shapedefaults\": {\"line\": {\"color\": \"#2a3f5f\"}}, \"ternary\": {\"aaxis\": {\"gridcolor\": \"white\", \"linecolor\": \"white\", \"ticks\": \"\"}, \"baxis\": {\"gridcolor\": \"white\", \"linecolor\": \"white\", \"ticks\": \"\"}, \"bgcolor\": \"#E5ECF6\", \"caxis\": {\"gridcolor\": \"white\", \"linecolor\": \"white\", \"ticks\": \"\"}}, \"title\": {\"x\": 0.05}, \"xaxis\": {\"automargin\": true, \"gridcolor\": \"white\", \"linecolor\": \"white\", \"ticks\": \"\", \"zerolinecolor\": \"white\", \"zerolinewidth\": 2}, \"yaxis\": {\"automargin\": true, \"gridcolor\": \"white\", \"linecolor\": \"white\", \"ticks\": \"\", \"zerolinecolor\": \"white\", \"zerolinewidth\": 2}}}, \"xaxis\": {\"anchor\": \"y\", \"domain\": [0.0, 0.98], \"title\": {\"text\": \"coverage\"}}, \"yaxis\": {\"anchor\": \"x\", \"domain\": [0.0, 1.0], \"title\": {\"text\": \"hitrate\"}}},\n",
       "                        {\"responsive\": true}\n",
       "                    ).then(function(){\n",
       "                            \n",
       "var gd = document.getElementById('f6bba077-089f-4fe2-b746-368b2820d365');\n",
       "var x = new MutationObserver(function (mutations, observer) {{\n",
       "        var display = window.getComputedStyle(gd).display;\n",
       "        if (!display || display === 'none') {{\n",
       "            console.log([gd, 'removed!']);\n",
       "            Plotly.purge(gd);\n",
       "            observer.disconnect();\n",
       "        }}\n",
       "}});\n",
       "\n",
       "// Listen for the removal of the full notebook cells\n",
       "var notebookContainer = gd.closest('#notebook-container');\n",
       "if (notebookContainer) {{\n",
       "    x.observe(notebookContainer, {childList: true});\n",
       "}}\n",
       "\n",
       "// Listen for the clearing of the current output cell\n",
       "var outputEl = gd.closest('.output');\n",
       "if (outputEl) {{\n",
       "    x.observe(outputEl, {childList: true});\n",
       "}}\n",
       "\n",
       "                        })\n",
       "                };\n",
       "                });\n",
       "            </script>\n",
       "        </div>"
      ]
     },
     "metadata": {},
     "output_type": "display_data"
    }
   ],
   "source": [
    "import plotly.express as px\n",
    "fig = px.scatter(df_hitrates, x=\"coverage\", y=\"hitrate\", color=\"prediction_time\")\n",
    "fig.show()"
   ]
  },
  {
   "cell_type": "code",
   "execution_count": null,
   "metadata": {},
   "outputs": [],
   "source": [
    "#Plot coverage vs. PAI"
   ]
  },
  {
   "cell_type": "code",
   "execution_count": 11,
   "metadata": {},
   "outputs": [],
   "source": [
    "experiment_name = 'city_coverage_vs_hitrate_2017-01-24'\n",
    "custom_path = path+'/aggressive_behavior_model/SEPP/'+'pkl/PredictionRina_'+experiment_name+'.pkl'\n",
    "infile = open(custom_path,'rb')\n",
    "df_pai = pickle.load(infile)\n",
    "infile.close()"
   ]
  },
  {
   "cell_type": "code",
   "execution_count": 12,
   "metadata": {},
   "outputs": [],
   "source": [
    "df_pai['PAI'] = df_pai['hitrate'].astype('float')/df_pai['coverage'].astype('float')\n"
   ]
  },
  {
   "cell_type": "code",
   "execution_count": 14,
   "metadata": {},
   "outputs": [
    {
     "data": {
      "text/plain": [
       "<matplotlib.axes._subplots.AxesSubplot at 0x10edfd358>"
      ]
     },
     "execution_count": 14,
     "metadata": {},
     "output_type": "execute_result"
    },
    {
     "data": {
      "image/png": "[encoded data removed]",
      "text/plain": [
       "<Figure size 432x288 with 1 Axes>"
      ]
     },
     "metadata": {
      "needs_background": "light"
     },
     "output_type": "display_data"
    }
   ],
   "source": [
    "df_pai.plot(x='coverage', y='PAI')\n"
   ]
  }
 ],
 "metadata": {
  "@webio": {
   "lastCommId": null,
   "lastKernelId": null
  },
  "hide_input": false,
  "kernelspec": {
   "display_name": "Python 3",
   "language": "python",
   "name": "python3"
  },
  "language_info": {
   "codemirror_mode": {
    "name": "ipython",
    "version": 3
   },
   "file_extension": ".py",
   "mimetype": "text/x-python",
   "name": "python",
   "nbconvert_exporter": "python",
   "pygments_lexer": "ipython3",
   "version": "3.7.2"
  }
 },
 "nbformat": 4,
 "nbformat_minor": 2
}
