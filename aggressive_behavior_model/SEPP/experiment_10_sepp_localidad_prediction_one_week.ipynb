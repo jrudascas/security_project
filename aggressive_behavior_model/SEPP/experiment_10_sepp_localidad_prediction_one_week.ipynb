{
 "cells": [
  {
   "cell_type": "markdown",
   "metadata": {},
   "source": [
    "# Experiment description\n",
    "## Hypothesis: \n",
    "We can predict with an average hitrate higher than 0.1 (10% coverage) the aggressive behavior occurrence over a week at locality scope.\n",
    "\n",
    "## Method: \n",
    "\n",
    "Estimate hitrates over predictions between 2017-01-22 and 2017-01-29. Experiment parameters:\n",
    "- Use localidades trained model between 2017-01-01 and 2017-01-21\n",
    "- Predict for each day in the following hours: [3, 9, 15, 21]\n",
    "- Estimate hitrate and PAI using 5% and 10% coverage\n",
    "- Estimate average PAI\n",
    "\n",
    "## Results:\n",
    "- Time elapsed experiment: 3 hours\n",
    "- Hitrates were higher than 0.1 in some predictions.\n",
    "- average PAI 5%:  0.08242157347447497\n",
    "- average PAI 10%:  0.12990330529277822"
   ]
  },
  {
   "cell_type": "code",
   "execution_count": 1,
   "metadata": {},
   "outputs": [],
   "source": [
    "%matplotlib inline\n",
    "import pandas as pd\n",
    "import pickle\n",
    "import dateutil.parser\n",
    "import pyproj\n",
    "import open_cp\n",
    "from PIL import Image\n",
    "import datetime\n",
    "import matplotlib.pyplot as plt\n",
    "import numpy as np"
   ]
  },
  {
   "cell_type": "code",
   "execution_count": 2,
   "metadata": {},
   "outputs": [
    {
     "name": "stdout",
     "output_type": "stream",
     "text": [
      "importing Jupyter notebook from training_sepp_builtin.ipynb\n",
      "Collecting https://github.com/QuantCrimAtLeeds/PredictCode/zipball/master\n",
      "  Using cached https://github.com/QuantCrimAtLeeds/PredictCode/zipball/master\n",
      "Requirement already satisfied (use --upgrade to upgrade): opencp==0.2.0 from https://github.com/QuantCrimAtLeeds/PredictCode/zipball/master in /Users/anamaria/Desktop/dev/security_project/security_venv/lib/python3.7/site-packages\n",
      "\u001b[33mYou are using pip version 18.1, however version 20.1b1 is available.\n",
      "You should consider upgrading via the 'pip install --upgrade pip' command.\u001b[0m\n",
      "Collecting https://github.com/MatthewDaws/SEPP/zipball/master\n",
      "  Using cached https://github.com/MatthewDaws/SEPP/zipball/master\n",
      "Requirement already satisfied (use --upgrade to upgrade): sepp==0.9.0 from https://github.com/MatthewDaws/SEPP/zipball/master in /Users/anamaria/Desktop/dev/security_project/security_venv/lib/python3.7/site-packages\n",
      "\u001b[33mYou are using pip version 18.1, however version 20.1b1 is available.\n",
      "You should consider upgrading via the 'pip install --upgrade pip' command.\u001b[0m\n"
     ]
    },
    {
     "name": "stderr",
     "output_type": "stream",
     "text": [
      "Failed to import `rtree`.\n",
      "Failed to import `rtree`.\n"
     ]
    }
   ],
   "source": [
    "import import_ipynb\n",
    "import training_sepp_builtin"
   ]
  },
  {
   "cell_type": "code",
   "execution_count": 3,
   "metadata": {},
   "outputs": [],
   "source": [
    "def selectDataPrediction(nameLoc,dateIni,dateEnd):\n",
    "    if nameLoc == 'city':\n",
    "        dfloc = df\n",
    "    else:\n",
    "        dfloc = df[df[\"LOCALIDAD\"]==nameLoc]\n",
    "            \n",
    "    dfloc[\"FECHA_HORA\"]=dfloc[\"HORA\"].astype(str)\n",
    "    valHour = dfloc[\"FECHA_HORA\"].values\n",
    "    valDate = dfloc[\"FECHA\"].values\n",
    "    timesVals = [];\n",
    "    k = 0;\n",
    "    for i in valHour:\n",
    "        if len(i)<=2:\n",
    "            timeStr = valDate[k] +\" \" + \"00:\"+i+\":00\"\n",
    "        else:\n",
    "            timeStr = valDate[k] +\" \" + i[:-2]+\":\"+i[-2:]+\":00\"\n",
    "        \n",
    "        k = k + 1\n",
    "\n",
    "        timesVals.append(timeStr)\n",
    "    dfloc[\"FECHA_HORA\"] = timesVals;\n",
    "    \n",
    "    dfloc[\"FECHA_HORA_TS\"] = dfloc.FECHA_HORA.map(dateutil.parser.parse)\n",
    "    dfFilter = dfloc[(dfloc.FECHA_HORA_TS > dateIni) & (dfloc.FECHA_HORA_TS < dateEnd)]\n",
    "    timestamps = dfFilter.FECHA_HORA_TS\n",
    "    \n",
    "    print(\"TimeStamps\")\n",
    "    print(type(timestamps))\n",
    "    print([timestamps])\n",
    "\n",
    "    xcoords, ycoords = (dfFilter.LONGITUD.values,dfFilter.LATITUD.values)\n",
    "    proj = pyproj.Proj(init=\"EPSG:3116\")\n",
    "    xcoords, ycoords = proj(xcoords,ycoords)\n",
    "    \n",
    "    points_crime = open_cp.TimedPoints.from_coords(timestamps, xcoords, ycoords)\n",
    "    \n",
    "    #Generando Grilla para los algoritmos. \n",
    "    maxx = max(xcoords)\n",
    "    minx = min(xcoords)\n",
    "    maxy = max(ycoords)\n",
    "    miny = min(ycoords)\n",
    "    #print(maxx,minx,maxy,miny)\n",
    "\n",
    "    region = open_cp.RectangularRegion(xmin=minx, xmax=maxx, ymin=miny, ymax=maxy)\n",
    "    #print(region)\n",
    "    \n",
    "    return (points_crime,region)\n"
   ]
  },
  {
   "cell_type": "code",
   "execution_count": 18,
   "metadata": {},
   "outputs": [],
   "source": [
    "def load_model(experiment_name):\n",
    "    custom_path = path+'/aggressive_behavior_model/SEPP/'+'pkl/TrainRina_'+experiment_name+'.pkl'\n",
    "    infile = open(custom_path,'rb')\n",
    "    modelCrime = pickle.load(infile)\n",
    "    infile.close()\n",
    "    return modelCrime"
   ]
  },
  {
   "cell_type": "code",
   "execution_count": 5,
   "metadata": {},
   "outputs": [],
   "source": [
    "def run_prediction(localidad,modelCrime,time_window_prediction,predict_time):\n",
    "    points_crime,region = selectDataPrediction(localidad,time_window_prediction['start'],time_window_prediction['end'])\n",
    "    modelCrime.data = points_crime \n",
    "    prediction = modelCrime.predict(predict_time)\n",
    "    gridpred = open_cp.predictors.GridPredictionArray.from_continuous_prediction_region(prediction, region, 150, 150)\n",
    "    hitrates = open_cp.evaluation.hit_rates(gridpred, points_crime, [0.05,0.1])\n",
    "    return gridpred, hitrates"
   ]
  },
  {
   "cell_type": "code",
   "execution_count": 6,
   "metadata": {},
   "outputs": [],
   "source": [
    "def plot_gridpred(localidad,predict_time,gridpred):\n",
    "    fig, ax = plt.subplots(figsize=(20,10))\n",
    "    m = ax.pcolormesh(*gridpred.mesh_data(), gridpred.intensity_matrix, cmap=\"CMRmap_r\")\n",
    "    ax.set_title(\"Predicción localidad: \"+localidad+'; fecha: '+str(predict_time))\n",
    "    fig.colorbar(m, ax=ax)"
   ]
  },
  {
   "cell_type": "markdown",
   "metadata": {},
   "source": [
    "## Select data"
   ]
  },
  {
   "cell_type": "code",
   "execution_count": 7,
   "metadata": {},
   "outputs": [],
   "source": [
    "path = '/Users/anamaria/Desktop/dev/security_project'"
   ]
  },
  {
   "cell_type": "code",
   "execution_count": 21,
   "metadata": {},
   "outputs": [],
   "source": [
    "df = pd.read_csv(path+'/datasets/verify_enrich_nuse_29112019.csv')"
   ]
  },
  {
   "cell_type": "code",
   "execution_count": 26,
   "metadata": {},
   "outputs": [],
   "source": [
    "train_initial_date = '2017-01-01'\n",
    "train_final_date = '2017-01-22'"
   ]
  },
  {
   "cell_type": "markdown",
   "metadata": {},
   "source": [
    "## Test prediction"
   ]
  },
  {
   "cell_type": "code",
   "execution_count": 22,
   "metadata": {},
   "outputs": [],
   "source": [
    "initial_date_prediction = '2017-01-22'\n",
    "final_date_prediction = '2017-01-29'"
   ]
  },
  {
   "cell_type": "code",
   "execution_count": null,
   "metadata": {},
   "outputs": [],
   "source": [
    "dates_to_predict = []\n",
    "for i in range(7):\n",
    "    current_datetime = datetime.datetime.strptime(initial_date_prediction,'%Y-%m-%d')+datetime.timedelta(days=i)\n",
    "    dates_to_predict.append(current_datetime.strftime('%Y-%m-%d'))\n",
    "    \n",
    "dates_to_predict"
   ]
  },
  {
   "cell_type": "code",
   "execution_count": 30,
   "metadata": {},
   "outputs": [],
   "source": [
    "localidades_list = list(df.LOCALIDAD.unique())"
   ]
  },
  {
   "cell_type": "code",
   "execution_count": null,
   "metadata": {},
   "outputs": [],
   "source": [
    "localidades_list.remove('CANDELARIA')\n",
    "localidades_list.remove('PUENTE ARANDA')\n",
    "localidades_list.remove('SIN LOCALIZACION')"
   ]
  },
  {
   "cell_type": "code",
   "execution_count": null,
   "metadata": {
    "scrolled": true
   },
   "outputs": [],
   "source": [
    "flagF = True\n",
    "for localidad in localidades_list:\n",
    "    trained_model_name = 'localidad_'+str(localidad)+'_'+train_initial_date+'_'+train_final_date\n",
    "    modelCrime = load_model(trained_model_name)\n",
    "\n",
    "    for initial_date in dates_to_predict:\n",
    "        hours_timedelta = [3, 9, 15, 21]\n",
    "        end_date = datetime.datetime.strptime(initial_date,'%Y-%m-%d')+datetime.timedelta(days=1)\n",
    "        end_date = end_date.strftime('%Y-%m-%d')\n",
    "        time_window_prediction = {'start':initial_date,'end':end_date}\n",
    "\n",
    "        for hour_value in hours_timedelta:\n",
    "            current_date_prediction = time_window_prediction['start']\n",
    "            predict_time = datetime.datetime.strptime(current_date_prediction,'%Y-%m-%d')+datetime.timedelta(hours=hour_value)\n",
    "            gridpred, hitrates = run_prediction(localidad,modelCrime,time_window_prediction,predict_time)   \n",
    "            plot_gridpred(localidad,predict_time,gridpred) ## uncomment to plot gridpred\n",
    "            predict_time = predict_time.strftime('%Y-%m-%d %H:%M:%S')\n",
    "            if flagF==True:\n",
    "                flagF = False\n",
    "                hitrates_values = np.array([localidad,predict_time,hitrates[0.05],hitrates[0.1]]);\n",
    "            else:\n",
    "                hitrates_values = np.vstack((hitrates_values, [localidad,predict_time,hitrates[0.05],hitrates[0.1]]))\n",
    "    \n",
    "    df_hitrates = pd.DataFrame(hitrates_values, columns=['localidad','prediction_time','hitrate_0.05','hitrate_0.1'])\n",
    "    \n",
    "    experiment_name = 'localidades_hitrates_2017-01-22_2017-01-28'\n",
    "    hitrates_outfile = open(path+'/aggressive_behavior_model/SEPP/'+'pkl/PredictionRina_'+experiment_name+'.pkl','wb')\n",
    "    pickle.dump(df_hitrates, hitrates_outfile)\n",
    "    hitrates_outfile.close()\n"
   ]
  },
  {
   "cell_type": "code",
   "execution_count": 35,
   "metadata": {},
   "outputs": [],
   "source": [
    "df_hitrates = pd.DataFrame(hitrates_values, columns=['localidad','prediction_time','hitrate_0.05','hitrate_0.1'])"
   ]
  },
  {
   "cell_type": "code",
   "execution_count": 36,
   "metadata": {},
   "outputs": [
    {
     "data": {
      "text/html": [
       "<div>\n",
       "<style scoped>\n",
       "    .dataframe tbody tr th:only-of-type {\n",
       "        vertical-align: middle;\n",
       "    }\n",
       "\n",
       "    .dataframe tbody tr th {\n",
       "        vertical-align: top;\n",
       "    }\n",
       "\n",
       "    .dataframe thead th {\n",
       "        text-align: right;\n",
       "    }\n",
       "</style>\n",
       "<table border=\"1\" class=\"dataframe\">\n",
       "  <thead>\n",
       "    <tr style=\"text-align: right;\">\n",
       "      <th></th>\n",
       "      <th>localidad</th>\n",
       "      <th>prediction_time</th>\n",
       "      <th>hitrate_0.05</th>\n",
       "      <th>hitrate_0.1</th>\n",
       "    </tr>\n",
       "  </thead>\n",
       "  <tbody>\n",
       "    <tr>\n",
       "      <td>0</td>\n",
       "      <td>ANTONIO NARIÑO</td>\n",
       "      <td>2017-01-22 03:00:00</td>\n",
       "      <td>0.0</td>\n",
       "      <td>0.0</td>\n",
       "    </tr>\n",
       "    <tr>\n",
       "      <td>1</td>\n",
       "      <td>ANTONIO NARIÑO</td>\n",
       "      <td>2017-01-22 09:00:00</td>\n",
       "      <td>0.0</td>\n",
       "      <td>0.0</td>\n",
       "    </tr>\n",
       "    <tr>\n",
       "      <td>2</td>\n",
       "      <td>ANTONIO NARIÑO</td>\n",
       "      <td>2017-01-22 15:00:00</td>\n",
       "      <td>0.0</td>\n",
       "      <td>0.0</td>\n",
       "    </tr>\n",
       "    <tr>\n",
       "      <td>3</td>\n",
       "      <td>ANTONIO NARIÑO</td>\n",
       "      <td>2017-01-22 21:00:00</td>\n",
       "      <td>0.0</td>\n",
       "      <td>0.0</td>\n",
       "    </tr>\n",
       "    <tr>\n",
       "      <td>4</td>\n",
       "      <td>ANTONIO NARIÑO</td>\n",
       "      <td>2017-01-23 03:00:00</td>\n",
       "      <td>0.0</td>\n",
       "      <td>0.0</td>\n",
       "    </tr>\n",
       "    <tr>\n",
       "      <td>...</td>\n",
       "      <td>...</td>\n",
       "      <td>...</td>\n",
       "      <td>...</td>\n",
       "      <td>...</td>\n",
       "    </tr>\n",
       "    <tr>\n",
       "      <td>471</td>\n",
       "      <td>SANTA FE</td>\n",
       "      <td>2017-01-27 21:00:00</td>\n",
       "      <td>0.0</td>\n",
       "      <td>0.0</td>\n",
       "    </tr>\n",
       "    <tr>\n",
       "      <td>472</td>\n",
       "      <td>SANTA FE</td>\n",
       "      <td>2017-01-28 03:00:00</td>\n",
       "      <td>0.0</td>\n",
       "      <td>0.0</td>\n",
       "    </tr>\n",
       "    <tr>\n",
       "      <td>473</td>\n",
       "      <td>SANTA FE</td>\n",
       "      <td>2017-01-28 09:00:00</td>\n",
       "      <td>0.0</td>\n",
       "      <td>0.0</td>\n",
       "    </tr>\n",
       "    <tr>\n",
       "      <td>474</td>\n",
       "      <td>SANTA FE</td>\n",
       "      <td>2017-01-28 15:00:00</td>\n",
       "      <td>0.0</td>\n",
       "      <td>0.0</td>\n",
       "    </tr>\n",
       "    <tr>\n",
       "      <td>475</td>\n",
       "      <td>SANTA FE</td>\n",
       "      <td>2017-01-28 21:00:00</td>\n",
       "      <td>0.0</td>\n",
       "      <td>0.0</td>\n",
       "    </tr>\n",
       "  </tbody>\n",
       "</table>\n",
       "<p>476 rows × 4 columns</p>\n",
       "</div>"
      ],
      "text/plain": [
       "          localidad      prediction_time hitrate_0.05 hitrate_0.1\n",
       "0    ANTONIO NARIÑO  2017-01-22 03:00:00          0.0         0.0\n",
       "1    ANTONIO NARIÑO  2017-01-22 09:00:00          0.0         0.0\n",
       "2    ANTONIO NARIÑO  2017-01-22 15:00:00          0.0         0.0\n",
       "3    ANTONIO NARIÑO  2017-01-22 21:00:00          0.0         0.0\n",
       "4    ANTONIO NARIÑO  2017-01-23 03:00:00          0.0         0.0\n",
       "..              ...                  ...          ...         ...\n",
       "471        SANTA FE  2017-01-27 21:00:00          0.0         0.0\n",
       "472        SANTA FE  2017-01-28 03:00:00          0.0         0.0\n",
       "473        SANTA FE  2017-01-28 09:00:00          0.0         0.0\n",
       "474        SANTA FE  2017-01-28 15:00:00          0.0         0.0\n",
       "475        SANTA FE  2017-01-28 21:00:00          0.0         0.0\n",
       "\n",
       "[476 rows x 4 columns]"
      ]
     },
     "execution_count": 36,
     "metadata": {},
     "output_type": "execute_result"
    }
   ],
   "source": [
    "df_hitrates"
   ]
  },
  {
   "cell_type": "markdown",
   "metadata": {},
   "source": [
    "### Estimate PAI"
   ]
  },
  {
   "cell_type": "code",
   "execution_count": null,
   "metadata": {},
   "outputs": [],
   "source": [
    "df_hitrates['PAI_0.05']=pd.to_numeric(df_hitrates['hitrate_0.05'])/0.05\n",
    "df_hitrates['PAI_0.1']=pd.to_numeric(df_hitrates['hitrate_0.1'])/0.1"
   ]
  },
  {
   "cell_type": "code",
   "execution_count": 38,
   "metadata": {},
   "outputs": [
    {
     "data": {
      "text/html": [
       "<div>\n",
       "<style scoped>\n",
       "    .dataframe tbody tr th:only-of-type {\n",
       "        vertical-align: middle;\n",
       "    }\n",
       "\n",
       "    .dataframe tbody tr th {\n",
       "        vertical-align: top;\n",
       "    }\n",
       "\n",
       "    .dataframe thead th {\n",
       "        text-align: right;\n",
       "    }\n",
       "</style>\n",
       "<table border=\"1\" class=\"dataframe\">\n",
       "  <thead>\n",
       "    <tr style=\"text-align: right;\">\n",
       "      <th></th>\n",
       "      <th>localidad</th>\n",
       "      <th>prediction_time</th>\n",
       "      <th>hitrate_0.05</th>\n",
       "      <th>hitrate_0.1</th>\n",
       "      <th>PAI_0.05</th>\n",
       "      <th>PAI_0.1</th>\n",
       "    </tr>\n",
       "  </thead>\n",
       "  <tbody>\n",
       "    <tr>\n",
       "      <td>0</td>\n",
       "      <td>ANTONIO NARIÑO</td>\n",
       "      <td>2017-01-22 03:00:00</td>\n",
       "      <td>0.0</td>\n",
       "      <td>0.0</td>\n",
       "      <td>0.0</td>\n",
       "      <td>0.0</td>\n",
       "    </tr>\n",
       "    <tr>\n",
       "      <td>1</td>\n",
       "      <td>ANTONIO NARIÑO</td>\n",
       "      <td>2017-01-22 09:00:00</td>\n",
       "      <td>0.0</td>\n",
       "      <td>0.0</td>\n",
       "      <td>0.0</td>\n",
       "      <td>0.0</td>\n",
       "    </tr>\n",
       "    <tr>\n",
       "      <td>2</td>\n",
       "      <td>ANTONIO NARIÑO</td>\n",
       "      <td>2017-01-22 15:00:00</td>\n",
       "      <td>0.0</td>\n",
       "      <td>0.0</td>\n",
       "      <td>0.0</td>\n",
       "      <td>0.0</td>\n",
       "    </tr>\n",
       "    <tr>\n",
       "      <td>3</td>\n",
       "      <td>ANTONIO NARIÑO</td>\n",
       "      <td>2017-01-22 21:00:00</td>\n",
       "      <td>0.0</td>\n",
       "      <td>0.0</td>\n",
       "      <td>0.0</td>\n",
       "      <td>0.0</td>\n",
       "    </tr>\n",
       "    <tr>\n",
       "      <td>4</td>\n",
       "      <td>ANTONIO NARIÑO</td>\n",
       "      <td>2017-01-23 03:00:00</td>\n",
       "      <td>0.0</td>\n",
       "      <td>0.0</td>\n",
       "      <td>0.0</td>\n",
       "      <td>0.0</td>\n",
       "    </tr>\n",
       "    <tr>\n",
       "      <td>...</td>\n",
       "      <td>...</td>\n",
       "      <td>...</td>\n",
       "      <td>...</td>\n",
       "      <td>...</td>\n",
       "      <td>...</td>\n",
       "      <td>...</td>\n",
       "    </tr>\n",
       "    <tr>\n",
       "      <td>471</td>\n",
       "      <td>SANTA FE</td>\n",
       "      <td>2017-01-27 21:00:00</td>\n",
       "      <td>0.0</td>\n",
       "      <td>0.0</td>\n",
       "      <td>0.0</td>\n",
       "      <td>0.0</td>\n",
       "    </tr>\n",
       "    <tr>\n",
       "      <td>472</td>\n",
       "      <td>SANTA FE</td>\n",
       "      <td>2017-01-28 03:00:00</td>\n",
       "      <td>0.0</td>\n",
       "      <td>0.0</td>\n",
       "      <td>0.0</td>\n",
       "      <td>0.0</td>\n",
       "    </tr>\n",
       "    <tr>\n",
       "      <td>473</td>\n",
       "      <td>SANTA FE</td>\n",
       "      <td>2017-01-28 09:00:00</td>\n",
       "      <td>0.0</td>\n",
       "      <td>0.0</td>\n",
       "      <td>0.0</td>\n",
       "      <td>0.0</td>\n",
       "    </tr>\n",
       "    <tr>\n",
       "      <td>474</td>\n",
       "      <td>SANTA FE</td>\n",
       "      <td>2017-01-28 15:00:00</td>\n",
       "      <td>0.0</td>\n",
       "      <td>0.0</td>\n",
       "      <td>0.0</td>\n",
       "      <td>0.0</td>\n",
       "    </tr>\n",
       "    <tr>\n",
       "      <td>475</td>\n",
       "      <td>SANTA FE</td>\n",
       "      <td>2017-01-28 21:00:00</td>\n",
       "      <td>0.0</td>\n",
       "      <td>0.0</td>\n",
       "      <td>0.0</td>\n",
       "      <td>0.0</td>\n",
       "    </tr>\n",
       "  </tbody>\n",
       "</table>\n",
       "<p>476 rows × 6 columns</p>\n",
       "</div>"
      ],
      "text/plain": [
       "          localidad      prediction_time hitrate_0.05 hitrate_0.1  PAI_0.05  \\\n",
       "0    ANTONIO NARIÑO  2017-01-22 03:00:00          0.0         0.0       0.0   \n",
       "1    ANTONIO NARIÑO  2017-01-22 09:00:00          0.0         0.0       0.0   \n",
       "2    ANTONIO NARIÑO  2017-01-22 15:00:00          0.0         0.0       0.0   \n",
       "3    ANTONIO NARIÑO  2017-01-22 21:00:00          0.0         0.0       0.0   \n",
       "4    ANTONIO NARIÑO  2017-01-23 03:00:00          0.0         0.0       0.0   \n",
       "..              ...                  ...          ...         ...       ...   \n",
       "471        SANTA FE  2017-01-27 21:00:00          0.0         0.0       0.0   \n",
       "472        SANTA FE  2017-01-28 03:00:00          0.0         0.0       0.0   \n",
       "473        SANTA FE  2017-01-28 09:00:00          0.0         0.0       0.0   \n",
       "474        SANTA FE  2017-01-28 15:00:00          0.0         0.0       0.0   \n",
       "475        SANTA FE  2017-01-28 21:00:00          0.0         0.0       0.0   \n",
       "\n",
       "     PAI_0.1  \n",
       "0        0.0  \n",
       "1        0.0  \n",
       "2        0.0  \n",
       "3        0.0  \n",
       "4        0.0  \n",
       "..       ...  \n",
       "471      0.0  \n",
       "472      0.0  \n",
       "473      0.0  \n",
       "474      0.0  \n",
       "475      0.0  \n",
       "\n",
       "[476 rows x 6 columns]"
      ]
     },
     "execution_count": 38,
     "metadata": {},
     "output_type": "execute_result"
    }
   ],
   "source": [
    "df_hitrates"
   ]
  },
  {
   "cell_type": "code",
   "execution_count": 41,
   "metadata": {},
   "outputs": [],
   "source": [
    "experiment_name = 'localidades_hitrates_2017-01-22_2017-01-28'\n",
    "hitrates_outfile = open(path+'/aggressive_behavior_model/SEPP/'+'pkl/PredictionRina_'+experiment_name+'.pkl','wb')\n",
    "pickle.dump(df_hitrates, hitrates_outfile)\n",
    "hitrates_outfile.close()"
   ]
  },
  {
   "cell_type": "code",
   "execution_count": 39,
   "metadata": {},
   "outputs": [
    {
     "name": "stdout",
     "output_type": "stream",
     "text": [
      "average PAI 5%:  0.08242157347447497\n",
      "average PAI 10%:  0.12990330529277822\n"
     ]
    }
   ],
   "source": [
    "print('average PAI 5%: ', df_hitrates['PAI_0.05'].mean())\n",
    "print('average PAI 10%: ', df_hitrates['PAI_0.1'].mean())"
   ]
  },
  {
   "cell_type": "code",
   "execution_count": null,
   "metadata": {},
   "outputs": [],
   "source": []
  }
 ],
 "metadata": {
  "@webio": {
   "lastCommId": null,
   "lastKernelId": null
  },
  "hide_input": false,
  "kernelspec": {
   "display_name": "Python 3",
   "language": "python",
   "name": "python3"
  },
  "language_info": {
   "codemirror_mode": {
    "name": "ipython",
    "version": 3
   },
   "file_extension": ".py",
   "mimetype": "text/x-python",
   "name": "python",
   "nbconvert_exporter": "python",
   "pygments_lexer": "ipython3",
   "version": "3.7.2"
  }
 },
 "nbformat": 4,
 "nbformat_minor": 2
}
