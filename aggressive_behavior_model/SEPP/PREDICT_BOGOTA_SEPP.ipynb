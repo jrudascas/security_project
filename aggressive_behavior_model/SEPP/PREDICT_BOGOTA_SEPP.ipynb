{
 "cells": [
  {
   "cell_type": "code",
   "execution_count": null,
   "metadata": {},
   "outputs": [],
   "source": [
    "#Open_CP\n",
    "!pip install https://github.com/QuantCrimAtLeeds/PredictCode/zipball/master\n",
    "#SEPP\n",
    "!pip install https://github.com/MatthewDaws/SEPP/zipball/master"
   ]
  },
  {
   "cell_type": "markdown",
   "metadata": {},
   "source": [
    "# Función de entrenamiento y predicción del crimen para Villavicencio\n",
    "\n",
    "POR: Diego Alejandro Hernández Castañeda, Juan Sebastian Cañas Silva, PhD Francisco Albeiro Gomez Jaramillo\n",
    "\n",
    "COMBIOS RESEARCH GROUP\n"
   ]
  },
  {
   "cell_type": "code",
   "execution_count": 2,
   "metadata": {},
   "outputs": [],
   "source": [
    "%matplotlib inline\n",
    "import pandas as pd\n",
    "import geopandas as gpd\n",
    "from shapely.geometry import Point, Polygon\n",
    "import datetime\n",
    "import numpy as np\n",
    "import pyproj\n",
    "import dateutil.parser\n",
    "import descartes\n",
    "import math\n",
    "import csv\n",
    "\n",
    "import matplotlib.pyplot as plt\n",
    "import matplotlib.collections\n",
    "\n",
    "#Imporante: Librerias creadas por QuantCrimAtLeeds grupo de investigacion crimen de la universidad de Leeds U.K.\n",
    "#https://github.com/QuantCrimAtLeeds/PredictCode\n",
    "import open_cp\n",
    "import open_cp.plot\n",
    "import open_cp.geometry\n",
    "import open_cp.predictors\n",
    "import open_cp.sources.sepp\n",
    "\n",
    "import open_cp.seppexp as seppexp\n",
    "from open_cp import evaluation\n",
    "import open_cp.sepp as sepp"
   ]
  },
  {
   "cell_type": "markdown",
   "metadata": {},
   "source": [
    "# Funcion de selección datos entrenamiento:"
   ]
  },
  {
   "cell_type": "code",
   "execution_count": 3,
   "metadata": {},
   "outputs": [],
   "source": [
    "\"\"\"\n",
    "Funcion Data: permite filtrar la BD de los delitos, y la comuna de interes.\n",
    "\n",
    "Resumen de variables entrada:\n",
    "    delito: tipo texto, opciones en las bases de datos: Rina, Homicidio.\n",
    "    n_comuna: Tipo entero, define el numero de la comuna entre 1,..,8\n",
    "    opcion: variable entera, es una variable auxiliar que varia al final del codigo, los elementos retornados\n",
    "\"\"\"\n",
    "\n",
    "def Data(delito, n_comuna, opcion):\n",
    "    df = pd.read_csv('Delitos_Comunas_3116.csv',encoding = 'latin-1')\n",
    "    \n",
    "    #Filtro por tipo de delito, hay que seleccionar entre: \"Hurto\", \"Rina\", \"Homicidio\"\n",
    "    frame = df[(df.TIPO == delito)]\n",
    "    comuna ='Comuna '+str(n_comuna)\n",
    "    \n",
    "    #Seleccionando de la lista anterior el cuadrante que se quiere\n",
    "    frame = frame[(frame.Nombre_Cua == comuna)]\n",
    "\n",
    "    # Ajuste datos tiempo formato para SEPP\n",
    "    timestamps = frame.FYH.map(dateutil.parser.parse)\n",
    "\n",
    "    #Proyeccion a coordenadas planas, pues SEPP trabaja sobre coordenadas en metros. EPSG 3116 o 3117 colombia centro o bogota centro\n",
    "    #proj = pyproj.Proj(init=\"EPSG:3116\")\n",
    "    #Activo si hay que proyectar de geograficas a planas------------------------------------------------\n",
    "    #xcoords, ycoords = proj(frame.LONGITUD.values, frame.LATITUD.values)\n",
    "    #Activo si no hay que proyectar porque esta en planas ----------------------------------------------\n",
    "    \n",
    "    xcoords, ycoords = (frame.X.values, frame.Y.values)\n",
    "\n",
    "    #Uniendo coordenadas y formato de tiempo creado asociado a cada crimen\n",
    "    points = open_cp.TimedPoints.from_coords(timestamps, xcoords, ycoords)\n",
    "    \n",
    "    #Cargando el shp de comuna y trabajando unicamente sobre la comuna de interes\n",
    "    frame2 = gpd.read_file(\"shp\\Comunas_3116.shp\")\n",
    "    frame2= frame2[frame2.Nombre_Cua.isin([comuna])]\n",
    "    geo = list(frame2.geometry)[0]\n",
    "    \n",
    "    #Generando Grilla para los algoritmos. \n",
    "    maxx = max(xcoords)\n",
    "    minx = min(xcoords)\n",
    "    maxy = max(ycoords)\n",
    "    miny = min(ycoords)\n",
    "\n",
    "    region = open_cp.RectangularRegion(xmin=minx, xmax=maxx, ymin=miny, ymax=maxy)\n",
    "\n",
    "    #Ventana espacial 150x150 metros unicamente por testeo\n",
    "    grid = open_cp.data.Grid(xsize=150, ysize=150, xoffset=min(xcoords), yoffset=min(ycoords))\n",
    "    grid2 = open_cp.geometry.mask_grid_by_intersection(geo, grid)\n",
    "    \n",
    "    if (opcion==1):\n",
    "        return (points, grid2, geo, region)\n",
    "    if (opcion==2):\n",
    "        return (grid2, geo, region)"
   ]
  },
  {
   "cell_type": "code",
   "execution_count": 4,
   "metadata": {},
   "outputs": [],
   "source": [
    "\"\"\"\n",
    "Prediction_correction: permite modificar la matriz de prediccion dada por el modelo SEEP. Cambia los valores \n",
    "                        de la prediccion por -1 si la cuadricula esta por fuera de la comuna que se analiza.\n",
    "                        \n",
    "Resumen de variables entrada:\n",
    "    grid: Grilla generada para el procesamiento interno del programa.\n",
    "    geo: es la geometria shp de la comuna seleccionada.\n",
    "    prediction: es la matriz nxn de las predicciones sobre la comuna seleccionada.\n",
    "\"\"\"\n",
    "\n",
    "def Prediction_correction(grid, geo, prediction):\n",
    "    \n",
    "    mix = grid.xoffset\n",
    "    miy = grid.yoffset\n",
    "    xcoord = []\n",
    "    ycoord = []\n",
    "    matrix_r = np.array(prediction.intensity_matrix)\n",
    "    for x in range(0,len(prediction.mesh_data()[0])-1):\n",
    "        for y in range(0,len(prediction.mesh_data()[1])-1):\n",
    "            xx = grid.grid_coord(prediction.mesh_data()[0][x],prediction.mesh_data()[1][y])\n",
    "            \n",
    "            #Aqui se generaran los 4 puntos (o esquinas) que describen un cuadro dentro de la cuadricula\n",
    "            p1 = Point(xx[0]*150+mix, xx[1]*150+miy)\n",
    "            p2 = Point(xx[0]*150+mix+150, xx[1]*150+miy)\n",
    "            p3 = Point(xx[0]*150+mix, xx[1]*150+miy+150)\n",
    "            p4 = Point(xx[0]*150+mix +150, xx[1]*150+miy+150)\n",
    "            \n",
    "            #Aqui se determina si alguno de los 4 puntos estan en el shp de la comuna.\n",
    "            if (p1.within(geo)==False and p2.within(geo)==False and p3.within(geo)==False and p4.within(geo)==False):\n",
    "                matrix_r[y][x] = -1\n",
    "                xcoord.append(xx[0]*150+mix)\n",
    "                ycoord.append(xx[1]*150+miy)\n",
    "    return (matrix_r, xcoord, ycoord)"
   ]
  },
  {
   "cell_type": "code",
   "execution_count": 5,
   "metadata": {},
   "outputs": [],
   "source": [
    "import geojson\n",
    "import numpy as np\n",
    "\n",
    "def saveGeojson(coordx,coordy,predicM,fileName,comuna_id,predict_date_gral):\n",
    "    dataPol = [];\n",
    "    dbId = 1;\n",
    "    \n",
    "    \n",
    "    for hora in range(0, 24):  \n",
    "        prediction_date = datetime.datetime(\n",
    "            year = predict_date_gral.year,\n",
    "            month = predict_date_gral.month,\n",
    "            day = predict_date_gral.day)+datetime.timedelta(hours=hora)\n",
    "        #prediction_date = str(prediction_date_gral)+'-'+str(hora)\n",
    "        predic = predicM[hora].intensity_matrix\n",
    "        print(type(predic))\n",
    "        predic = 255*((predic-np.min(predic))/(np.max(predic)-np.min(predic)))\n",
    "        \n",
    "        #fileName = 'Predic_Comuna_'+str(comuna)+'_fecha_'+str(prediction_date)\n",
    "        for i in range(coordx.size-1):\n",
    "            for j in range(coordy.size-1):\n",
    "                x0 = coordx[i];\n",
    "                y0 = coordy[j];\n",
    "                x1 = coordx[i+1];\n",
    "                y1 = coordy[j+1];\n",
    "                if predic[j][i]>10:\n",
    "                    centroid_x = (x0+x1)/2.0;\n",
    "                    centroid_y = (y0+y1)/2.0;\n",
    "                    data1 = { \"type\": \"Feature\", \"geometry\": { \"type\": \"MultiPolygon\", \"coordinates\": [ [ [ [ x0, y0 ], [ x0,y1 ], [ x1,y1 ], [ x1,y0 ], [ x0,y0 ] ] ] ] }, \"properties\": {\"cartodb_id\" : dbId, \"intensity_val\": predic[j][i],\"comuna_id\":comuna_id,\"prediction_date\":prediction_date.isoformat(),\"centroid_x\":centroid_x,\"centroid_y\":centroid_y} };\n",
    "                    dbId = dbId+1;\n",
    "                    dataPol.append(data1);\n",
    "\n",
    "    fc = geojson.FeatureCollection(dataPol)\n",
    "\n",
    "    with open(\"json/tmp.json\", 'w') as outfile:\n",
    "        geojson.dump(fc, outfile)\n",
    "\n",
    "    a = '{\"crs\": {\"type\": \"name\", \"properties\": {\"name\": \"EPSG:3116\"}},'\n",
    "    f = open(\"json/tmp.json\",\"r\")\n",
    "    stringVal = f.read()\n",
    "    f.close()\n",
    "    text_file = open('json/'+fileName, \"w\")    \n",
    "    text_file.write(a+stringVal[1:])\n",
    "    #text_file.write(stringVal)\n",
    "    text_file.close()"
   ]
  },
  {
   "cell_type": "code",
   "execution_count": 6,
   "metadata": {},
   "outputs": [],
   "source": [
    "import geojson\n",
    "import numpy as np\n",
    "\n",
    "def savemonoGeojson(coordx,coordy,predic,fileName,comuna_id,prediction_date):\n",
    "    predic = 255*((predic-np.min(predic))/(np.max(predic)-np.min(predic)))\n",
    "    dataPol = [];\n",
    "    dbId = 1;\n",
    "    for i in range(coordx.size-1):\n",
    "        for j in range(coordy.size-1):\n",
    "            x0 = coordx[i];\n",
    "            y0 = coordy[j];\n",
    "            x1 = coordx[i+1];\n",
    "            y1 = coordy[j+1];\n",
    "            if predic[j][i]>10:\n",
    "                centroid_x = (x0+x1)/2.0;\n",
    "                centroid_y = (y0+y1)/2.0;\n",
    "                data1 = { \"type\": \"Feature\", \"geometry\": { \"type\": \"MultiPolygon\", \"coordinates\": [ [ [ [ x0, y0 ], [ x0,y1 ], [ x1,y1 ], [ x1,y0 ], [ x0,y0 ] ] ] ] }, \"properties\": {\"cartodb_id\" : dbId, \"intensity_val\": predic[j][i],\"comuna_id\":comuna_id,\"prediction_date\":prediction_date,\"centroid_x\":centroid_x,\"centroid_y\":centroid_y} };\n",
    "                dbId = dbId+1;\n",
    "                dataPol.append(data1);\n",
    "\n",
    "    fc = geojson.FeatureCollection(dataPol)\n",
    "\n",
    "    with open(\"tmp.json\", 'w') as outfile:\n",
    "        geojson.dump(fc, outfile)\n",
    "\n",
    "    a = '{\"crs\": {\"type\": \"name\", \"properties\": {\"name\": \"EPSG:3116\"}},'\n",
    "    f = open(\"tmp.json\",\"r\")\n",
    "    stringVal = f.read()\n",
    "    f.close()\n",
    "    text_file = open(fileName, \"w\")    \n",
    "    text_file.write(a+stringVal[1:])\n",
    "    #text_file.write(stringVal)\n",
    "    text_file.close()\n"
   ]
  },
  {
   "cell_type": "markdown",
   "metadata": {},
   "source": [
    "# Función Validación"
   ]
  },
  {
   "cell_type": "code",
   "execution_count": 7,
   "metadata": {},
   "outputs": [],
   "source": [
    "\"\"\"\n",
    "Validation: Validación cruzada empleando el SEEP\n",
    "                        \n",
    "Resumen de variables entrada:\n",
    "    delito: tipo texto, opciones en las bases de datos: Rina, Homicidio.\n",
    "    comuna: Tipo entero, define el numero de la comuna entre 1,..,8\n",
    "    hotspot_percentage: porcentaje de los hotsposts que se emplearan para el PAI\n",
    "    coverage: porcentaje del area total de la comuna empleada para el PAI\n",
    "    \n",
    "\"\"\"\n",
    "\n",
    "def Validation(delito, comuna, hotspot_percentage, coverage):\n",
    "    import sepp.sepp_grid\n",
    "    \n",
    "    #Creando las csv donde se guardaran los PAIS obtenidos para cada interacion y txt coon informacion de los modelos SEEP\n",
    "    nsepp = 'sepp '+str(comuna)+'.csv'\n",
    "    csvsepp=open(nsepp,'w', newline='')\n",
    "    objsepp=csv.writer(csvsepp)\n",
    "    text= open(str(comuna)+\"_Modelo_Validaciones.txt\",\"w+\")\n",
    "    \n",
    "    #Cargando los datos, grilla, geometriaa shp, region de la funcion Data\n",
    "    training_data, grid, geo, region = Data(delito, comuna, 3)\n",
    "    \n",
    "    for m in range (1,15):\n",
    "        \n",
    "        #Inicio 1------------------------------------------------------------------------------------\n",
    "        #Aqui se realiza los cortes por semana de la data para realizar la validacion cruzada\n",
    "        times = training_data.time_range\n",
    "        time_predicts = times[1] - np.timedelta64(m, 'W')\n",
    "        score_end_time = time_predicts + np.timedelta64(5, 'D')\n",
    "\n",
    "        training = training_data[training_data.timestamps < time_predicts]\n",
    "        mask = (training_data.timestamps > time_predicts) & (training_data.timestamps <= score_end_time)\n",
    "        eval_pts = training_data[mask]\n",
    "        #Fin 1---------------------------------------------------------------------------------------\n",
    "\n",
    "        \n",
    "        \n",
    "        #Inicio 2------------------------------------------------------------------------------------\n",
    "        #Aqui se genera un SEEP para predicciones por semana del modelo de MatthewDaws\n",
    "        prediction = sepp.sepp_grid.ExpDecayTrainer(grid)\n",
    "        prediction.data = training_data\n",
    "    \n",
    "        n=30\n",
    "        while True:\n",
    "            model = prediction.train(time_predicts,iterations=n)\n",
    "            if(math.isinf(model.omega)==True or math.isinf(model.theta)==True or math.isnan(model.omega)==True or math.isnan(model.theta)==True):\n",
    "                n=n-1\n",
    "            else:\n",
    "                break\n",
    "                \n",
    "        n = int(n*(3/4))\n",
    "        model = prediction.train(time_predicts,iterations=n)            \n",
    "        prediction = prediction.prediction_from_background(model)\n",
    "        #Fin 2---------------------------------------------------------------------------------------\n",
    "        \n",
    "        \n",
    "        \n",
    "        #Inicio 3------------------------------------------------------------------------------------\n",
    "        #Aqui se generan los PAIS y se guardan en los csv y alguna informacon adicional en los txt\n",
    "        coverages = list(range(0, hotspot_percentage+1))\n",
    "        hitrates = open_cp.evaluation.hit_rates(prediction, eval_pts, coverages)\n",
    "        pai = np.zeros(len(hitrates))\n",
    "        \n",
    "        for i in range(len(hitrates)):\n",
    "            pai[i] = hitrates[i]/(hotspot_percentage/100)\n",
    "        \n",
    "        if(int(pai[i])<=0):\n",
    "            text.write(\"Modelo de validacion numero:  %d\\r\\n\" % m)\n",
    "            text.write(\"Fechas de entrenamiento: \"+str(time_predicts)+\" \"+str(score_end_time))\n",
    "            text.write(\"\\n\")\n",
    "            text.write(\"Numero datos entrenamiento: \"+str(len(training.timestamps )))\n",
    "            text.write(\"\\n\")\n",
    "            text.write(\"Modelo omitido por falta de datos para validacion: \"+str(len(training.timestamps )))\n",
    "            text.write(\"\\n \\n\")\n",
    "            continue\n",
    "        objsepp.writerow(pai)\n",
    "            \n",
    "        text.write(\"Modelo de validacion numero:  %d\\r\\n\" % m)\n",
    "        text.write(\"Fechas de entrenamiento: \"+str(time_predicts)+\" \"+str(score_end_time))\n",
    "        text.write(\"\\n\")\n",
    "        text.write(\"Numero datos entrenamiento: \"+str(len(training.timestamps )))\n",
    "        text.write(\"\\n\")\n",
    "        text.write(\"Paramentros de modelo: \"+str((model.omega, model.theta)))\n",
    "        text.write(\"\\n \\n\")\n",
    "        #Fin 3---------------------------------------------------------------------------------------\n",
    "        \n",
    "    \n",
    "    #Inicio 4------------------------------------------------------------------------------------\n",
    "    #Aqui se genera el promedio de los PAI'S generados en las 15 iteraciones\n",
    "    csvsepp.close()\n",
    "    text.close()\n",
    "    df = pd.read_csv (nsepp)\n",
    "    weeks = df.shape\n",
    "    mean = np.array(df.mean())\n",
    "        \n",
    "    fig, ax = plt.subplots(figsize=(16,6))\n",
    "    ax.plot(coverages, [mean[x] for x in coverages])\n",
    "    ax.set(xlabel=\"% coverage\", ylabel=\"PAI \")\n",
    "    ax.set_title(\"Validación modelo SEPP con: \"+str(weeks[0])+\" Semanas\")\n",
    "    None\n",
    "    #Fin 4---------------------------------------------------------------------------------------\n",
    "        \n",
    "    return (prediction, mean)"
   ]
  },
  {
   "cell_type": "markdown",
   "metadata": {},
   "source": [
    "## EJEMPLOS DEL USO DE \" VALIDACION CRUZADA \" Y \" ENTRENAMIENTO \"\n"
   ]
  },
  {
   "cell_type": "markdown",
   "metadata": {},
   "source": [
    "##### SEPP VALIDACIÓN\n",
    "Aqui se muestra el desempeño del algoritmo SEPP para predicciones mediante validación cruzada"
   ]
  },
  {
   "cell_type": "code",
   "execution_count": null,
   "metadata": {},
   "outputs": [],
   "source": [
    "# Entrenamiento y validacion con los datos \n",
    "\n",
    "sepp_validation = Validation(\"Hurto\", 8, 20, 20)"
   ]
  },
  {
   "cell_type": "markdown",
   "metadata": {},
   "source": [
    "## SEPP PREDICCION\n",
    "Ingresando la fecha que desea hacer la prediccion\n"
   ]
  },
  {
   "cell_type": "code",
   "execution_count": 15,
   "metadata": {},
   "outputs": [
    {
     "name": "stdout",
     "output_type": "stream",
     "text": [
      "Ingrese año: 2019\n",
      "Ingrese mes: 7\n",
      "Ingrese dia: 6\n",
      "Ingrese hora: 20\n"
     ]
    },
    {
     "data": {
      "text/plain": [
       "datetime.datetime(2019, 7, 6, 20, 0)"
      ]
     },
     "execution_count": 15,
     "metadata": {},
     "output_type": "execute_result"
    }
   ],
   "source": [
    "#Datos de entrada para cargar modelo entrenado y para genrar predicciones sobre la fecha y hora deseada\n",
    "año = int(input('Ingrese año: '))\n",
    "mes = int(input('Ingrese mes: '))\n",
    "dia = int(input('Ingrese dia: '))\n",
    "hora = int(input('Ingrese hora: '))\n",
    "predict_time = datetime.datetime(año,mes,dia)+datetime.timedelta(hours=hora)\n",
    "predict_time"
   ]
  },
  {
   "cell_type": "markdown",
   "metadata": {},
   "source": [
    "#### ¡IMPORTANTE! ingrese la comuna y el tipo de delito sobre el cual quiere la predicción"
   ]
  },
  {
   "cell_type": "code",
   "execution_count": 18,
   "metadata": {},
   "outputs": [
    {
     "name": "stdout",
     "output_type": "stream",
     "text": [
      "Ingrese numero de comuna (1-8): 2\n",
      "Ingrese tipo delito \"Hurto\" o \"Rina\": Hurto\n"
     ]
    }
   ],
   "source": [
    "comuna = int(input('Ingrese numero de comuna (1-8): '))\n",
    "delito = input('Ingrese tipo delito \"Hurto\" o \"Rina\": ')"
   ]
  },
  {
   "cell_type": "code",
   "execution_count": 19,
   "metadata": {},
   "outputs": [],
   "source": [
    "#Cargando el pkl del modelo entrenado\n",
    "import pickle\n",
    "pkl='pkl/Train'+str(delito)+str(comuna)+'.pkl'\n",
    "infile = open(pkl,'rb')\n",
    "Train = pickle.load(infile)\n",
    "infile.close()"
   ]
  },
  {
   "cell_type": "code",
   "execution_count": 20,
   "metadata": {},
   "outputs": [],
   "source": [
    "#Cargando datos geograficos para graficar\n",
    "grid, geo, region = Data(delito, comuna, 2)\n",
    "\n",
    "#Generando las predicciones para la fecha desesada\n",
    "prediction = Train.predict(predict_time)\n",
    "gridpred = open_cp.predictors.GridPredictionArray.from_continuous_prediction_region(prediction, region, 150, 150)"
   ]
  },
  {
   "cell_type": "code",
   "execution_count": 21,
   "metadata": {
    "scrolled": false
   },
   "outputs": [
    {
     "data": {
      "image/png": "[encoded data removed]",
      "text/plain": [
       "<Figure size 1440x720 with 2 Axes>"
      ]
     },
     "metadata": {
      "needs_background": "light"
     },
     "output_type": "display_data"
    }
   ],
   "source": [
    "#Graficando\n",
    "from PIL import Image\n",
    "\n",
    "\n",
    "fig, ax = plt.subplots(figsize=(20,10))\n",
    "lc = matplotlib.collections.LineCollection(open_cp.plot.lines_from_grid(grid), color=\"black\", linewidth=0.05)\n",
    "ax.add_collection(lc)\n",
    "ax.add_patch(descartes.PolygonPatch(geo, fc=\"none\"))\n",
    "m = ax.pcolormesh(*gridpred.mesh_data(), gridpred.intensity_matrix, cmap=\"CMRmap_r\")\n",
    "ax.set_title(\"Predicción para: \"+str(predict_time))\n",
    "fig.colorbar(m, ax=ax)\n",
    "None"
   ]
  },
  {
   "cell_type": "code",
   "execution_count": 84,
   "metadata": {},
   "outputs": [],
   "source": [
    "#Guardando en un .json el archivo de predicciones \n",
    "#name =str(delito)+str(comuna)+'-'+str(año)+'-'+str(mes)+'-'+str(dia)+'-'+str(hora)\n",
    "prediction_date = str(año)+'-'+str(mes)+'-'+str(dia)+'-'+str(hora)\n",
    "fileName = 'Prediccion'+str(comuna)+'_fecha_'+str(prediction_date)\n",
    "savemonoGeojson(gridpred.mesh_data()[0],gridpred.mesh_data()[1],gridpred.intensity_matrix,fileName,comuna,prediction_date)"
   ]
  },
  {
   "cell_type": "markdown",
   "metadata": {},
   "source": [
    "### Predicciones Multiples"
   ]
  },
  {
   "cell_type": "code",
   "execution_count": 89,
   "metadata": {},
   "outputs": [],
   "source": [
    "#Cargando datos geograficos para graficar\n",
    "grid, geo, region = Data(delito, comuna, 2)\n",
    "predict_time = predict_time+datetime.timedelta(hours=0)\n",
    "\n",
    "\n",
    "#Generando las predicciones para la fecha desesada para ventanas de 1 hora\n",
    "dates = [predict_time + datetime.timedelta(hours=1*i) for i in range(24)]\n",
    "predictions = [Train.predict(d) for d in dates]\n",
    "gridpred = [open_cp.predictors.GridPredictionArray.from_continuous_prediction_region(pr, region, 150, 150) for pr in predictions]"
   ]
  },
  {
   "cell_type": "code",
   "execution_count": 90,
   "metadata": {},
   "outputs": [
    {
     "name": "stdout",
     "output_type": "stream",
     "text": [
      "<class 'numpy.ndarray'>\n",
      "<class 'numpy.ndarray'>\n",
      "<class 'numpy.ndarray'>\n",
      "<class 'numpy.ndarray'>\n",
      "<class 'numpy.ndarray'>\n",
      "<class 'numpy.ndarray'>\n",
      "<class 'numpy.ndarray'>\n",
      "<class 'numpy.ndarray'>\n",
      "<class 'numpy.ndarray'>\n",
      "<class 'numpy.ndarray'>\n",
      "<class 'numpy.ndarray'>\n",
      "<class 'numpy.ndarray'>\n",
      "<class 'numpy.ndarray'>\n",
      "<class 'numpy.ndarray'>\n",
      "<class 'numpy.ndarray'>\n",
      "<class 'numpy.ndarray'>\n",
      "<class 'numpy.ndarray'>\n",
      "<class 'numpy.ndarray'>\n",
      "<class 'numpy.ndarray'>\n",
      "<class 'numpy.ndarray'>\n",
      "<class 'numpy.ndarray'>\n",
      "<class 'numpy.ndarray'>\n",
      "<class 'numpy.ndarray'>\n",
      "<class 'numpy.ndarray'>\n"
     ]
    }
   ],
   "source": [
    "saveGeojson(gridpred[0].mesh_data()[0],gridpred[0].mesh_data()[1],gridpred,'Predict_2019_7_5_Rina_Comuna3',comuna,dates[0])\n",
    "#saveGeojson(gridpred[i].mesh_data()[0],gridpred[i].mesh_data()[1],gridpred[i].intensity_matrix,'archivo2.json',comuna,prediction_date)"
   ]
  },
  {
   "cell_type": "code",
   "execution_count": 96,
   "metadata": {},
   "outputs": [],
   "source": [
    "#Guardando en un pkl las predicciones multiuples hechas\n",
    "outfile1 = open('pkl/PREDICCIONES_'+delito+'_'+str(año)+'_'+str(mes)+str(dia)+'.pkl','wb')\n",
    "pickle.dump(gridpred, outfile1)\n",
    "outfile1.close() "
   ]
  },
  {
   "cell_type": "code",
   "execution_count": 105,
   "metadata": {},
   "outputs": [],
   "source": [
    "import pickle\n",
    "pkl='pkl/PREDICCIONES_'+delito+'_'+str(año)+'_'+str(mes)+str(dia)+'.pkl'\n",
    "infile = open(pkl,'rb')\n",
    "gridpred = pickle.load(infile)\n",
    "infile.close()"
   ]
  },
  {
   "cell_type": "code",
   "execution_count": null,
   "metadata": {},
   "outputs": [],
   "source": []
  }
 ],
 "metadata": {
  "@webio": {
   "lastCommId": null,
   "lastKernelId": null
  },
  "hide_input": false,
  "kernelspec": {
   "display_name": "Python 3",
   "language": "python",
   "name": "python3"
  },
  "language_info": {
   "codemirror_mode": {
    "name": "ipython",
    "version": 3
   },
   "file_extension": ".py",
   "mimetype": "text/x-python",
   "name": "python",
   "nbconvert_exporter": "python",
   "pygments_lexer": "ipython3",
   "version": "3.7.2"
  }
 },
 "nbformat": 4,
 "nbformat_minor": 2
}
