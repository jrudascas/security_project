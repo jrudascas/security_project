{
 "cells": [
  {
   "cell_type": "markdown",
   "metadata": {},
   "source": [
    "# Experiment description\n",
    "## Hypothesis: \n",
    "We can train sepp model at localidad aggregation using three-weeks data\n",
    "\n",
    "## Method: \n",
    "\n",
    "Train model using three-weeks data (2017-01-01 to 2017-01-22) at localidad scope. Use parameters configuration successful on experiment 04 (one week training).\n",
    "\n",
    "## Results:\n"
   ]
  },
  {
   "cell_type": "code",
   "execution_count": null,
   "metadata": {},
   "outputs": [],
   "source": [
    "%matplotlib inline\n",
    "import pandas as pd\n",
    "import pickle\n",
    "import dateutil.parser\n",
    "import pyproj\n",
    "import open_cp\n",
    "import open_cp.sepp as sepp\n",
    "from PIL import Image\n",
    "import datetime\n",
    "import matplotlib.pyplot as plt\n",
    "import numpy as np"
   ]
  },
  {
   "cell_type": "code",
   "execution_count": null,
   "metadata": {},
   "outputs": [],
   "source": [
    "import import_ipynb\n",
    "import training_sepp_builtin"
   ]
  },
  {
   "cell_type": "code",
   "execution_count": null,
   "metadata": {},
   "outputs": [],
   "source": [
    "def selectDataTraining(df,nameLoc,dateIni,dateEnd):\n",
    "    if nameLoc == 'city':\n",
    "        dfloc = df\n",
    "    else:\n",
    "        dfloc = df[df[\"LOCALIDAD\"]==nameLoc]\n",
    "        \n",
    "    dfloc[\"FECHA_HORA\"]=dfloc[\"HORA\"].astype(str)\n",
    "    valHour = dfloc[\"FECHA_HORA\"].values\n",
    "    valDate = dfloc[\"FECHA\"].values\n",
    "    timesVals = [];\n",
    "    k = 0;\n",
    "    for i in valHour:\n",
    "        if len(i)<=2:\n",
    "            timeStr = valDate[k] +\" \" + \"00:\"+i+\":00\"\n",
    "        else:\n",
    "            timeStr = valDate[k] +\" \" + i[:-2]+\":\"+i[-2:]+\":00\"\n",
    "        \n",
    "        k = k + 1\n",
    "\n",
    "        timesVals.append(timeStr)\n",
    "    dfloc[\"FECHA_HORA\"] = timesVals;\n",
    "    \n",
    "    dfloc[\"FECHA_HORA_TS\"] = dfloc.FECHA_HORA.map(dateutil.parser.parse)\n",
    "    dfFilter = dfloc[(dfloc.FECHA_HORA_TS > dateIni) & (dfloc.FECHA_HORA_TS < dateEnd)]\n",
    "    timestamps = dfFilter.FECHA_HORA_TS\n",
    "    \n",
    "    print(\"TimeStamps\")\n",
    "    print(type(timestamps))\n",
    "\n",
    "    xcoords, ycoords = (dfFilter.LONGITUD.values,dfFilter.LATITUD.values)\n",
    "    proj = pyproj.Proj(init=\"EPSG:3116\")\n",
    "    xcoords, ycoords = proj(xcoords,ycoords)\n",
    "    \n",
    "    points_train = open_cp.TimedPoints.from_coords(timestamps, xcoords, ycoords)\n",
    "    return (points_train,timestamps,xcoords, ycoords)"
   ]
  },
  {
   "cell_type": "code",
   "execution_count": null,
   "metadata": {},
   "outputs": [],
   "source": [
    "#default parameters\n",
    "parameters = {\"time_bw\":144,\"space_bw\":50,\"time_cutoff\":172800,\"space_cutoff\":500}\n",
    "\n",
    "def trainModel_parameters(df,nameLoc,dateIni,dateEnd,parameters,iterations=10):\n",
    "    points_train,timestamps,xcoords, ycoords = selectDataTraining(df,nameLoc,dateIni,dateEnd)\n",
    "    plt.scatter(xcoords, ycoords)\n",
    "    print([timestamps])\n",
    "    trainer = sepp.SEPPTrainer()\n",
    "    trainer._initial_time_bandwidth = parameters['time_bw']\n",
    "    trainer._initial_space_bandwidth = parameters['space_bw']\n",
    "    trainer._time_cutoff = parameters['time_cutoff']\n",
    "    trainer._space_cutoff = parameters['space_cutoff']\n",
    "    print('time BW set on: ',trainer._initial_time_bandwidth)\n",
    "    print('space BW set on: ',trainer._initial_space_bandwidth)\n",
    "    print('time cutoff set on: ',trainer._time_cutoff)\n",
    "    print('space cutoff set on: ',trainer._space_cutoff)\n",
    "    print('Number of realizations: ',iterations)\n",
    "    trainer.data = points_train    \n",
    "    while True:  \n",
    "        try:\n",
    "            predictor = trainer.train()\n",
    "            print(\"succesful training!\")\n",
    "            break\n",
    "        except (RuntimeError, ValueError) as e:\n",
    "            print(e)\n",
    "            pass\n",
    "        iterations = iterations - 1\n",
    "        if iterations == 0:\n",
    "            return \"not succesfull training\"\n",
    "    return predictor "
   ]
  },
  {
   "cell_type": "markdown",
   "metadata": {},
   "source": [
    "## Select data"
   ]
  },
  {
   "cell_type": "code",
   "execution_count": null,
   "metadata": {},
   "outputs": [],
   "source": [
    "path = '/Users/anamaria/Desktop/dev/security_project'"
   ]
  },
  {
   "cell_type": "code",
   "execution_count": null,
   "metadata": {},
   "outputs": [],
   "source": [
    "df = pd.read_csv(path+'/datasets/verify_enrich_nuse_29112019.csv')"
   ]
  },
  {
   "cell_type": "code",
   "execution_count": null,
   "metadata": {},
   "outputs": [],
   "source": [
    "initial_date = '2017-01-01'\n",
    "final_date = '2017-01-22'"
   ]
  },
  {
   "cell_type": "code",
   "execution_count": null,
   "metadata": {},
   "outputs": [],
   "source": [
    "df.LOCALIDAD.unique()"
   ]
  },
  {
   "cell_type": "markdown",
   "metadata": {},
   "source": [
    "## Training experiments"
   ]
  },
  {
   "cell_type": "markdown",
   "metadata": {},
   "source": [
    "### Scenario 1: successful parameters used on experiment 04\n",
    "time_cutoff = [30, 50, 70, 90, 120]"
   ]
  },
  {
   "cell_type": "code",
   "execution_count": null,
   "metadata": {},
   "outputs": [],
   "source": [
    "#default parameters\n",
    "parameters = {\"time_bw\":144,\"space_bw\":50,\"time_cutoff\":172800,\"space_cutoff\":500}"
   ]
  },
  {
   "cell_type": "code",
   "execution_count": null,
   "metadata": {},
   "outputs": [],
   "source": [
    "localidad = 'PUENTE ARANDA'\n",
    "parameters['time_cutoff'] = 120\n",
    "iterations = 100\n",
    "city_predictor = trainModel_parameters(df,localidad,initial_date, final_date,parameters,iterations)\n",
    "if city_predictor != \"not succesfull training\":    \n",
    "    experiment_name = 'localidad_'+str(localidad)+'_'+initial_date+'_'+final_date+'_time_cutoff_'+str(parameters['time_cutoff'])\n",
    "    city_outfile = open(path+'/aggressive_behavior_model/SEPP/'+'pkl/TrainRina_'+experiment_name+'.pkl','wb')\n",
    "    pickle.dump(city_predictor, city_outfile)\n",
    "    city_outfile.close() "
   ]
  },
  {
   "cell_type": "code",
   "execution_count": null,
   "metadata": {},
   "outputs": [],
   "source": []
  }
 ],
 "metadata": {
  "@webio": {
   "lastCommId": null,
   "lastKernelId": null
  },
  "hide_input": false,
  "kernelspec": {
   "display_name": "Python 3",
   "language": "python",
   "name": "python3"
  },
  "language_info": {
   "codemirror_mode": {
    "name": "ipython",
    "version": 3
   },
   "file_extension": ".py",
   "mimetype": "text/x-python",
   "name": "python",
   "nbconvert_exporter": "python",
   "pygments_lexer": "ipython3",
   "version": "3.7.2"
  }
 },
 "nbformat": 4,
 "nbformat_minor": 2
}
