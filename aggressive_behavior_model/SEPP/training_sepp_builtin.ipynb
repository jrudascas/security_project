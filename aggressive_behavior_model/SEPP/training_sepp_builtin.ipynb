{
 "cells": [
  {
   "cell_type": "markdown",
   "metadata": {},
   "source": [
    "# Training model for aggressive behavior prediction based on SEPP\n",
    "\n",
    "COMBIOS RESEARCH GROUP\n"
   ]
  },
  {
   "cell_type": "code",
   "execution_count": 1,
   "metadata": {},
   "outputs": [
    {
     "name": "stdout",
     "output_type": "stream",
     "text": [
      "Collecting https://github.com/QuantCrimAtLeeds/PredictCode/zipball/master\n",
      "  Using cached https://github.com/QuantCrimAtLeeds/PredictCode/zipball/master\n",
      "Requirement already satisfied (use --upgrade to upgrade): opencp==0.2.0 from https://github.com/QuantCrimAtLeeds/PredictCode/zipball/master in /Users/anamaria/Desktop/dev/security_project/security_venv/lib/python3.7/site-packages\n",
      "\u001b[33mYou are using pip version 18.1, however version 20.0.2 is available.\n",
      "You should consider upgrading via the 'pip install --upgrade pip' command.\u001b[0m\n",
      "Collecting https://github.com/MatthewDaws/SEPP/zipball/master\n",
      "  Using cached https://github.com/MatthewDaws/SEPP/zipball/master\n",
      "Requirement already satisfied (use --upgrade to upgrade): sepp==0.9.0 from https://github.com/MatthewDaws/SEPP/zipball/master in /Users/anamaria/Desktop/dev/security_project/security_venv/lib/python3.7/site-packages\n",
      "\u001b[33mYou are using pip version 18.1, however version 20.0.2 is available.\n",
      "You should consider upgrading via the 'pip install --upgrade pip' command.\u001b[0m\n"
     ]
    }
   ],
   "source": [
    "#Open_CP\n",
    "!pip install https://github.com/QuantCrimAtLeeds/PredictCode/zipball/master\n",
    "#SEPP\n",
    "!pip install https://github.com/MatthewDaws/SEPP/zipball/master"
   ]
  },
  {
   "cell_type": "code",
   "execution_count": 2,
   "metadata": {},
   "outputs": [
    {
     "name": "stderr",
     "output_type": "stream",
     "text": [
      "Failed to import `rtree`.\n",
      "Failed to import `rtree`.\n"
     ]
    }
   ],
   "source": [
    "%matplotlib inline\n",
    "import pandas as pd\n",
    "import geopandas as gpd\n",
    "from shapely.geometry import Point, Polygon\n",
    "import datetime\n",
    "import numpy as np\n",
    "import pyproj\n",
    "import dateutil.parser\n",
    "import descartes\n",
    "import math\n",
    "import csv\n",
    "\n",
    "import matplotlib.pyplot as plt\n",
    "import matplotlib.collections\n",
    "\n",
    "# Librerias creadas por QuantCrimAtLeeds grupo de investigacion crimen de la universidad de Leeds U.K.\n",
    "# https://github.com/QuantCrimAtLeeds/PredictCode\n",
    "import open_cp\n",
    "import open_cp.plot\n",
    "import open_cp.geometry\n",
    "import open_cp.predictors\n",
    "import open_cp.sources.sepp\n",
    "\n",
    "import open_cp.seppexp as seppexp\n",
    "from open_cp import evaluation\n",
    "import open_cp.sepp as sepp"
   ]
  },
  {
   "cell_type": "code",
   "execution_count": 5,
   "metadata": {},
   "outputs": [],
   "source": [
    "def selectData(df,nameLoc,dateIni,dateEnd):\n",
    "    dfloc = df[df[\"LOCALIDAD\"]==nameLoc]\n",
    "    dfloc[\"FECHA_HORA\"]=dfloc[\"HORA\"].astype(str)\n",
    "    valHour = dfloc[\"FECHA_HORA\"].values\n",
    "    valDate = dfloc[\"FECHA\"].values\n",
    "    timesVals = [];\n",
    "    k = 0;\n",
    "    for i in valHour:\n",
    "        if len(i)<=2:\n",
    "            timeStr = valDate[k] +\" \" + \"00:\"+i+\":00\"\n",
    "        else:\n",
    "            timeStr = valDate[k] +\" \" + i[:-2]+\":\"+i[-2:]+\":00\"\n",
    "        \n",
    "        k = k + 1\n",
    "\n",
    "        timesVals.append(timeStr)\n",
    "    dfloc[\"FECHA_HORA\"] = timesVals;\n",
    "    \n",
    "    dfloc[\"FECHA_HORA_TS\"] = dfloc.FECHA_HORA.map(dateutil.parser.parse)\n",
    "    dfFilter = dfloc[(dfloc.FECHA_HORA_TS > dateIni) & (dfloc.FECHA_HORA_TS < dateEnd)]\n",
    "    timestamps = dfFilter.FECHA_HORA_TS\n",
    "    \n",
    "    print(\"TimeStamps\")\n",
    "    print(type(timestamps))\n",
    "\n",
    "    xcoords, ycoords = (dfFilter.LONGITUD.values,dfFilter.LATITUD.values)\n",
    "    proj = pyproj.Proj(init=\"EPSG:3116\")\n",
    "    xcoords, ycoords = proj(xcoords,ycoords)\n",
    "    \n",
    "    points_train = open_cp.TimedPoints.from_coords(timestamps, xcoords, ycoords)\n",
    "    return (points_train,timestamps,xcoords, ycoords)\n",
    "\n",
    "def trainModel(df,nameLoc,dateIni,dateEnd):\n",
    "    points_train,timestamps,xcoords, ycoords = selectData(df,nameLoc,dateIni,dateEnd)\n",
    "    import matplotlib.pyplot as plt\n",
    "    plt.scatter(xcoords, ycoords)\n",
    "    print([timestamps])\n",
    "    trainer = sepp.SEPPTrainer()\n",
    "    trainer.data = points_train\n",
    "    trainer.space_cutoff = 1000\n",
    "    trainer.time_cutoff = datetime.timedelta(days=90)\n",
    "    print(len(xcoords))\n",
    "    predictor = trainer.train()\n",
    "    return predictor\n",
    "\n",
    "def trainModel_1(df,nameLoc,dateIni,dateEnd):\n",
    "    points_train,timestamps,xcoords, ycoords = selectData(df,nameLoc,dateIni,dateEnd)\n",
    "    import matplotlib.pyplot as plt\n",
    "    plt.scatter(xcoords, ycoords)\n",
    "    print([timestamps])\n",
    "    trainer = sepp.SEPPTrainer()\n",
    "    trainer.data = points_train    \n",
    "    while True:\n",
    "        try:\n",
    "            predictor = trainer.train()\n",
    "            break\n",
    "        except (RuntimeError, ValueError) as e:\n",
    "            print(e)\n",
    "            pass\n",
    "    return predictor \n",
    "\n",
    "def trainModel_2(df,nameLoc,dateIni,dateEnd):\n",
    "    points_train,timestamps,xcoords, ycoords = selectData(df,nameLoc,dateIni,dateEnd)\n",
    "    import matplotlib.pyplot as plt\n",
    "    plt.scatter(xcoords, ycoords)\n",
    "    print([timestamps])\n",
    "    trainer = sepp.SEPPTrainer()\n",
    "    trainer.data = points_train\n",
    "    trainer.space_cutoff = 1000\n",
    "    trainer.time_cutoff = datetime.timedelta(days=90)\n",
    "    while True:\n",
    "        try:\n",
    "            predictor = trainer.train()\n",
    "            break\n",
    "        except (RuntimeError, ValueError) as e:\n",
    "            print(e)\n",
    "            pass\n",
    "    return predictor "
   ]
  },
  {
   "cell_type": "code",
   "execution_count": null,
   "metadata": {},
   "outputs": [],
   "source": []
  }
 ],
 "metadata": {
  "@webio": {
   "lastCommId": null,
   "lastKernelId": null
  },
  "hide_input": false,
  "kernelspec": {
   "display_name": "Python 3",
   "language": "python",
   "name": "python3"
  },
  "language_info": {
   "codemirror_mode": {
    "name": "ipython",
    "version": 3
   },
   "file_extension": ".py",
   "mimetype": "text/x-python",
   "name": "python",
   "nbconvert_exporter": "python",
   "pygments_lexer": "ipython3",
   "version": "3.7.2"
  }
 },
 "nbformat": 4,
 "nbformat_minor": 2
}
