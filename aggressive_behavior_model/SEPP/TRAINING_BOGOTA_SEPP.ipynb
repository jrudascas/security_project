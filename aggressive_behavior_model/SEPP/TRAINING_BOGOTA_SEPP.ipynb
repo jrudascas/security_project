{
 "cells": [
  {
   "cell_type": "code",
   "execution_count": 1,
   "metadata": {},
   "outputs": [
    {
     "name": "stdout",
     "output_type": "stream",
     "text": [
      "Collecting https://github.com/QuantCrimAtLeeds/PredictCode/zipball/master\n",
      "  Downloading https://github.com/QuantCrimAtLeeds/PredictCode/zipball/master\n",
      "\u001b[K     - 31.4MB 2.9MB/sss   / 7.6MB 14.2MB/s     \\ 23.1MB 1.3MB/s\n",
      "Installing collected packages: opencp\n",
      "  Running setup.py install for opencp ... \u001b[?25ldone\n",
      "\u001b[?25hSuccessfully installed opencp-0.2.0\n",
      "\u001b[33mYou are using pip version 18.1, however version 20.0.2 is available.\n",
      "You should consider upgrading via the 'pip install --upgrade pip' command.\u001b[0m\n",
      "Collecting https://github.com/MatthewDaws/SEPP/zipball/master\n",
      "  Downloading https://github.com/MatthewDaws/SEPP/zipball/master\n",
      "\u001b[K     / 52.4MB 5.0MB/ss\n",
      "Installing collected packages: sepp\n",
      "  Running setup.py install for sepp ... \u001b[?25ldone\n",
      "\u001b[?25hSuccessfully installed sepp-0.9.0\n",
      "\u001b[33mYou are using pip version 18.1, however version 20.0.2 is available.\n",
      "You should consider upgrading via the 'pip install --upgrade pip' command.\u001b[0m\n"
     ]
    }
   ],
   "source": [
    "#Open_CP\n",
    "!pip install https://github.com/QuantCrimAtLeeds/PredictCode/zipball/master\n",
    "#SEPP\n",
    "!pip install https://github.com/MatthewDaws/SEPP/zipball/master"
   ]
  },
  {
   "cell_type": "markdown",
   "metadata": {},
   "source": [
    "# Función de entrenamiento y predicción de riñas\n",
    "\n",
    "COMBIOS RESEARCH GROUP\n"
   ]
  },
  {
   "cell_type": "code",
   "execution_count": 2,
   "metadata": {},
   "outputs": [
    {
     "name": "stderr",
     "output_type": "stream",
     "text": [
      "Failed to import `rtree`.\n",
      "Failed to import `rtree`.\n"
     ]
    }
   ],
   "source": [
    "%matplotlib inline\n",
    "import pandas as pd\n",
    "import geopandas as gpd\n",
    "from shapely.geometry import Point, Polygon\n",
    "import datetime\n",
    "import numpy as np\n",
    "import pyproj\n",
    "import dateutil.parser\n",
    "import descartes\n",
    "import math\n",
    "import csv\n",
    "\n",
    "import matplotlib.pyplot as plt\n",
    "import matplotlib.collections\n",
    "\n",
    "# Librerias creadas por QuantCrimAtLeeds grupo de investigacion crimen de la universidad de Leeds U.K.\n",
    "# https://github.com/QuantCrimAtLeeds/PredictCode\n",
    "import open_cp\n",
    "import open_cp.plot\n",
    "import open_cp.geometry\n",
    "import open_cp.predictors\n",
    "import open_cp.sources.sepp\n",
    "\n",
    "import open_cp.seppexp as seppexp\n",
    "from open_cp import evaluation\n",
    "import open_cp.sepp as sepp"
   ]
  },
  {
   "cell_type": "code",
   "execution_count": 3,
   "metadata": {},
   "outputs": [],
   "source": [
    "path = '/Users/anamaria/Desktop/dev/security_project'"
   ]
  },
  {
   "cell_type": "code",
   "execution_count": 4,
   "metadata": {},
   "outputs": [],
   "source": [
    "df = pd.read_csv(path+'/datasets/verify_enrich_nuse_29112019.csv')"
   ]
  },
  {
   "cell_type": "markdown",
   "metadata": {},
   "source": [
    "# Funcion de selección datos entrenamiento:"
   ]
  },
  {
   "cell_type": "code",
   "execution_count": 7,
   "metadata": {},
   "outputs": [],
   "source": [
    "import open_cp.sepp as sepp\n",
    "import pickle\n",
    "import pandas as pd\n",
    "\n",
    "def selectData(nameLoc,dateIni,dateEnd):\n",
    "    dfloc = df[df[\"LOCALIDAD\"]==nameLoc]\n",
    "    dfloc[\"FECHA_HORA\"]=dfloc[\"HORA\"].astype(str)\n",
    "    valHour = dfloc[\"FECHA_HORA\"].values\n",
    "    valDate = dfloc[\"FECHA\"].values\n",
    "    timesVals = [];\n",
    "    k = 0;\n",
    "    for i in valHour:\n",
    "        if len(i)<=2:\n",
    "            timeStr = valDate[k] +\" \" + \"00:\"+i+\":00\"\n",
    "        else:\n",
    "            timeStr = valDate[k] +\" \" + i[:-2]+\":\"+i[-2:]+\":00\"\n",
    "        \n",
    "        k = k + 1\n",
    "\n",
    "        timesVals.append(timeStr)\n",
    "    dfloc[\"FECHA_HORA\"] = timesVals;\n",
    "    \n",
    "    dfloc[\"FECHA_HORA_TS\"] = dfloc.FECHA_HORA.map(dateutil.parser.parse)\n",
    "    dfFilter = dfloc[(dfloc.FECHA_HORA_TS > dateIni) & (dfloc.FECHA_HORA_TS < dateEnd)]\n",
    "    timestamps = dfFilter.FECHA_HORA_TS\n",
    "    \n",
    "    print(\"TimeStamps\")\n",
    "    print(type(timestamps))\n",
    "\n",
    "    xcoords, ycoords = (dfFilter.LONGITUD.values,dfFilter.LATITUD.values)\n",
    "    proj = pyproj.Proj(init=\"EPSG:3116\")\n",
    "    xcoords, ycoords = proj(xcoords,ycoords)\n",
    "    \n",
    "    points_train = open_cp.TimedPoints.from_coords(timestamps, xcoords, ycoords)\n",
    "    return (points_train,timestamps,xcoords, ycoords)\n",
    "\n",
    "def trainModel(nameLoc,dateIni,dateEnd):\n",
    "    points_train,timestamps,xcoords, ycoords = selectData(nameLoc,dateIni,dateEnd)\n",
    "    import matplotlib.pyplot as plt\n",
    "    plt.scatter(xcoords, ycoords)\n",
    "    print([timestamps])\n",
    "    trainer = sepp.SEPPTrainer()\n",
    "    trainer.data = points_train\n",
    "    trainer.space_cutoff = 1000\n",
    "    trainer.time_cutoff = datetime.timedelta(days=90)\n",
    "    print(len(xcoords))\n",
    "    predictor = trainer.train()\n",
    "    return predictor "
   ]
  },
  {
   "cell_type": "code",
   "execution_count": 10,
   "metadata": {},
   "outputs": [
    {
     "name": "stderr",
     "output_type": "stream",
     "text": [
      "/Users/anamaria/Desktop/dev/security_project/security_venv/lib/python3.7/site-packages/ipykernel_launcher.py:7: SettingWithCopyWarning: \n",
      "A value is trying to be set on a copy of a slice from a DataFrame.\n",
      "Try using .loc[row_indexer,col_indexer] = value instead\n",
      "\n",
      "See the caveats in the documentation: http://pandas.pydata.org/pandas-docs/stable/user_guide/indexing.html#returning-a-view-versus-a-copy\n",
      "  import sys\n",
      "/Users/anamaria/Desktop/dev/security_project/security_venv/lib/python3.7/site-packages/ipykernel_launcher.py:21: SettingWithCopyWarning: \n",
      "A value is trying to be set on a copy of a slice from a DataFrame.\n",
      "Try using .loc[row_indexer,col_indexer] = value instead\n",
      "\n",
      "See the caveats in the documentation: http://pandas.pydata.org/pandas-docs/stable/user_guide/indexing.html#returning-a-view-versus-a-copy\n",
      "/Users/anamaria/Desktop/dev/security_project/security_venv/lib/python3.7/site-packages/ipykernel_launcher.py:23: SettingWithCopyWarning: \n",
      "A value is trying to be set on a copy of a slice from a DataFrame.\n",
      "Try using .loc[row_indexer,col_indexer] = value instead\n",
      "\n",
      "See the caveats in the documentation: http://pandas.pydata.org/pandas-docs/stable/user_guide/indexing.html#returning-a-view-versus-a-copy\n"
     ]
    },
    {
     "name": "stdout",
     "output_type": "stream",
     "text": [
      "TimeStamps\n",
      "<class 'pandas.core.series.Series'>\n",
      "[191      2017-01-01 20:55:00\n",
      "202      2017-01-01 21:23:00\n",
      "224      2017-01-01 07:21:00\n",
      "247      2017-01-01 12:14:00\n",
      "250      2017-01-01 18:43:00\n",
      "                 ...        \n",
      "699914   2017-01-12 13:22:00\n",
      "699918   2017-01-12 18:53:00\n",
      "699928   2017-01-12 10:52:00\n",
      "699983   2017-01-13 22:37:00\n",
      "700084   2017-01-14 22:03:00\n",
      "Name: FECHA_HORA_TS, Length: 339, dtype: datetime64[ns]]\n",
      "339\n"
     ]
    },
    {
     "data": {
      "image/png": "[encoded data removed]",
      "text/plain": [
       "<Figure size 432x288 with 1 Axes>"
      ]
     },
     "metadata": {
      "needs_background": "light"
     },
     "output_type": "display_data"
    }
   ],
   "source": [
    "predictor1 = trainModel(\"CHAPINERO\",'2017-01-01','2017-01-15')\n",
    "outfile1 = open(path+'/aggressive_behavior_model/SEPP/'+'pkl/Train'+'Rina5'+'.pkl','wb')\n",
    "pickle.dump(predictor1, outfile1)\n",
    "outfile1.close() "
   ]
  },
  {
   "cell_type": "code",
   "execution_count": null,
   "metadata": {},
   "outputs": [],
   "source": []
  }
 ],
 "metadata": {
  "@webio": {
   "lastCommId": null,
   "lastKernelId": null
  },
  "hide_input": false,
  "kernelspec": {
   "display_name": "Python 3",
   "language": "python",
   "name": "python3"
  },
  "language_info": {
   "codemirror_mode": {
    "name": "ipython",
    "version": 3
   },
   "file_extension": ".py",
   "mimetype": "text/x-python",
   "name": "python",
   "nbconvert_exporter": "python",
   "pygments_lexer": "ipython3",
   "version": "3.7.2"
  }
 },
 "nbformat": 4,
 "nbformat_minor": 2
}
