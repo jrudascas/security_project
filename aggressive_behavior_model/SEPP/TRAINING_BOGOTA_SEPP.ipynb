{
 "cells": [
  {
   "cell_type": "markdown",
   "metadata": {},
   "source": [
    "# Base SEPP training model for aggressive behavior prediction\n",
    "\n",
    "COMBIOS RESEARCH GROUP\n"
   ]
  },
  {
   "cell_type": "code",
   "execution_count": 1,
   "metadata": {},
   "outputs": [],
   "source": [
    "%matplotlib inline\n",
    "import pandas as pd\n",
    "import pickle"
   ]
  },
  {
   "cell_type": "code",
   "execution_count": 2,
   "metadata": {},
   "outputs": [
    {
     "name": "stdout",
     "output_type": "stream",
     "text": [
      "importing Jupyter notebook from training_sepp_builtin.ipynb\n",
      "Collecting https://github.com/QuantCrimAtLeeds/PredictCode/zipball/master\n",
      "  Using cached https://github.com/QuantCrimAtLeeds/PredictCode/zipball/master\n",
      "Requirement already satisfied (use --upgrade to upgrade): opencp==0.2.0 from https://github.com/QuantCrimAtLeeds/PredictCode/zipball/master in /Users/anamaria/Desktop/dev/security_project/security_venv/lib/python3.7/site-packages\n",
      "\u001b[33mYou are using pip version 18.1, however version 20.0.2 is available.\n",
      "You should consider upgrading via the 'pip install --upgrade pip' command.\u001b[0m\n",
      "Collecting https://github.com/MatthewDaws/SEPP/zipball/master\n",
      "  Using cached https://github.com/MatthewDaws/SEPP/zipball/master\n",
      "Requirement already satisfied (use --upgrade to upgrade): sepp==0.9.0 from https://github.com/MatthewDaws/SEPP/zipball/master in /Users/anamaria/Desktop/dev/security_project/security_venv/lib/python3.7/site-packages\n",
      "\u001b[33mYou are using pip version 18.1, however version 20.0.2 is available.\n",
      "You should consider upgrading via the 'pip install --upgrade pip' command.\u001b[0m\n"
     ]
    },
    {
     "name": "stderr",
     "output_type": "stream",
     "text": [
      "Failed to import `rtree`.\n",
      "Failed to import `rtree`.\n"
     ]
    }
   ],
   "source": [
    "import import_ipynb\n",
    "import training_sepp_builtin"
   ]
  },
  {
   "cell_type": "code",
   "execution_count": 3,
   "metadata": {},
   "outputs": [],
   "source": [
    "path = '/Users/anamaria/Desktop/dev/security_project'"
   ]
  },
  {
   "cell_type": "code",
   "execution_count": 4,
   "metadata": {},
   "outputs": [],
   "source": [
    "df = pd.read_csv(path+'/datasets/verify_enrich_nuse_29112019.csv')"
   ]
  },
  {
   "cell_type": "markdown",
   "metadata": {},
   "source": [
    "## Training model for a specific localidad"
   ]
  },
  {
   "cell_type": "code",
   "execution_count": 13,
   "metadata": {},
   "outputs": [
    {
     "name": "stdout",
     "output_type": "stream",
     "text": [
      "TimeStamps\n",
      "<class 'pandas.core.series.Series'>\n",
      "[191      2017-01-01 20:55:00\n",
      "202      2017-01-01 21:23:00\n",
      "224      2017-01-01 07:21:00\n",
      "247      2017-01-01 12:14:00\n",
      "250      2017-01-01 18:43:00\n",
      "                 ...        \n",
      "699288   2017-01-04 09:58:00\n",
      "699340   2017-01-05 02:29:00\n",
      "699352   2017-01-05 20:40:00\n",
      "699357   2017-01-05 17:00:00\n",
      "699438   2017-01-06 02:56:00\n",
      "Name: FECHA_HORA_TS, Length: 142, dtype: datetime64[ns]]\n",
      "Estimated only 8 triggered points, which is too few to allow KDE to function\n",
      "Estimated only 5 triggered points, which is too few to allow KDE to function\n",
      "Estimated only 8 triggered points, which is too few to allow KDE to function\n",
      "Estimated only 4 triggered points, which is too few to allow KDE to function\n"
     ]
    },
    {
     "data": {
      "image/png": "[encoded data removed]",
      "text/plain": [
       "<Figure size 432x288 with 1 Axes>"
      ]
     },
     "metadata": {
      "needs_background": "light"
     },
     "output_type": "display_data"
    }
   ],
   "source": [
    "predictor1 = training_sepp_builtin.trainModel_1(df,\"CHAPINERO\",'2017-01-01','2017-01-07')\n",
    "outfile1 = open(path+'/aggressive_behavior_model/SEPP/'+'pkl/TrainRina'+'Chapinero2'+'.pkl','wb')\n",
    "pickle.dump(predictor1, outfile1)\n",
    "outfile1.close() "
   ]
  },
  {
   "cell_type": "code",
   "execution_count": null,
   "metadata": {},
   "outputs": [],
   "source": []
  }
 ],
 "metadata": {
  "@webio": {
   "lastCommId": null,
   "lastKernelId": null
  },
  "hide_input": false,
  "kernelspec": {
   "display_name": "Python 3",
   "language": "python",
   "name": "python3"
  },
  "language_info": {
   "codemirror_mode": {
    "name": "ipython",
    "version": 3
   },
   "file_extension": ".py",
   "mimetype": "text/x-python",
   "name": "python",
   "nbconvert_exporter": "python",
   "pygments_lexer": "ipython3",
   "version": "3.7.2"
  }
 },
 "nbformat": 4,
 "nbformat_minor": 2
}
