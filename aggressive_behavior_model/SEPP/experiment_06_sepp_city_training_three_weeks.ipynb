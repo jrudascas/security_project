{
 "cells": [
  {
   "cell_type": "markdown",
   "metadata": {},
   "source": [
    "# Experiment description\n",
    "## Hypothesis: \n",
    "We can train sepp model at city aggregation using three-weeks data\n",
    "\n",
    "## Method: \n",
    "\n",
    "Train model using three-weeks data (2017-01-01 to 2017-01-22) at city scope. Try different parameters to achieve model convergence:\n",
    "- Parameters configuration successful on experiment 04 (one week training)\n",
    "\n",
    "## Results:\n",
    "Hypothesis validated\n"
   ]
  },
  {
   "cell_type": "code",
   "execution_count": 1,
   "metadata": {},
   "outputs": [],
   "source": [
    "%matplotlib inline\n",
    "import pandas as pd\n",
    "import pickle\n",
    "import dateutil.parser\n",
    "import pyproj\n",
    "import open_cp\n",
    "import open_cp.sepp as sepp\n",
    "from PIL import Image\n",
    "import datetime\n",
    "import matplotlib.pyplot as plt\n",
    "import numpy as np"
   ]
  },
  {
   "cell_type": "code",
   "execution_count": 2,
   "metadata": {},
   "outputs": [
    {
     "name": "stdout",
     "output_type": "stream",
     "text": [
      "importing Jupyter notebook from training_sepp_builtin.ipynb\n",
      "Collecting https://github.com/QuantCrimAtLeeds/PredictCode/zipball/master\n",
      "  Using cached https://github.com/QuantCrimAtLeeds/PredictCode/zipball/master\n",
      "Requirement already satisfied (use --upgrade to upgrade): opencp==0.2.0 from https://github.com/QuantCrimAtLeeds/PredictCode/zipball/master in /u01/user8/anaconda3/lib/python3.7/site-packages\n",
      "Building wheels for collected packages: opencp\n",
      "  Building wheel for opencp (setup.py) ... \u001b[?25ldone\n",
      "\u001b[?25h  Created wheel for opencp: filename=opencp-0.2.0-cp37-none-any.whl size=280058 sha256=7c88c4c41cbc177a1bababb9b4fed32e427e0cc0304a818381f67dacf7b94159\n",
      "  Stored in directory: /tmp/pip-ephem-wheel-cache-apzaq6m3/wheels/9a/f6/1f/9ea8bd2ac044e7df5c432f658ba156f0cfc3540891a5bad62a\n",
      "Successfully built opencp\n",
      "Collecting https://github.com/MatthewDaws/SEPP/zipball/master\n",
      "  Using cached https://github.com/MatthewDaws/SEPP/zipball/master\n",
      "Requirement already satisfied (use --upgrade to upgrade): sepp==0.9.0 from https://github.com/MatthewDaws/SEPP/zipball/master in /u01/user8/anaconda3/lib/python3.7/site-packages\n",
      "Building wheels for collected packages: sepp\n",
      "  Building wheel for sepp (setup.py) ... \u001b[?25ldone\n",
      "\u001b[?25h  Created wheel for sepp: filename=sepp-0.9.0-cp37-none-any.whl size=37591 sha256=49c86fe0ce78eb247ad6e30e119899671c833368d5af078e6ac559f49a945aa0\n",
      "  Stored in directory: /tmp/pip-ephem-wheel-cache-78_qvi0c/wheels/1d/e6/94/444aa295403d7f0e2ffd698d822abc6a4427daa85f8c5cb0b0\n",
      "Successfully built sepp\n"
     ]
    },
    {
     "name": "stderr",
     "output_type": "stream",
     "text": [
      "Failed to load 'descartes' package.\n"
     ]
    }
   ],
   "source": [
    "import import_ipynb\n",
    "import training_sepp_builtin"
   ]
  },
  {
   "cell_type": "code",
   "execution_count": 3,
   "metadata": {},
   "outputs": [],
   "source": [
    "def selectDataPrediction(nameLoc,dateIni,dateEnd):\n",
    "    if nameLoc == 'city':\n",
    "        dfloc = df\n",
    "    else:\n",
    "        dfloc = df[df[\"LOCALIDAD\"]==nameLoc]\n",
    "        \n",
    "    dfloc = df[df[\"LOCALIDAD\"]==nameLoc]\n",
    "    dfloc[\"FECHA_HORA\"]=dfloc[\"HORA\"].astype(str)\n",
    "    valHour = dfloc[\"FECHA_HORA\"].values\n",
    "    valDate = dfloc[\"FECHA\"].values\n",
    "    timesVals = [];\n",
    "    k = 0;\n",
    "    for i in valHour:\n",
    "        if len(i)<=2:\n",
    "            timeStr = valDate[k] +\" \" + \"00:\"+i+\":00\"\n",
    "        else:\n",
    "            timeStr = valDate[k] +\" \" + i[:-2]+\":\"+i[-2:]+\":00\"\n",
    "        \n",
    "        k = k + 1\n",
    "\n",
    "        timesVals.append(timeStr)\n",
    "    dfloc[\"FECHA_HORA\"] = timesVals;\n",
    "    \n",
    "    dfloc[\"FECHA_HORA_TS\"] = dfloc.FECHA_HORA.map(dateutil.parser.parse)\n",
    "    dfFilter = dfloc[(dfloc.FECHA_HORA_TS > dateIni) & (dfloc.FECHA_HORA_TS < dateEnd)]\n",
    "    timestamps = dfFilter.FECHA_HORA_TS\n",
    "    \n",
    "    print(\"TimeStamps\")\n",
    "    print(type(timestamps))\n",
    "\n",
    "    xcoords, ycoords = (dfFilter.LONGITUD.values,dfFilter.LATITUD.values)\n",
    "    proj = pyproj.Proj(init=\"EPSG:3116\")\n",
    "    xcoords, ycoords = proj(xcoords,ycoords)\n",
    "    \n",
    "    points_crime = open_cp.TimedPoints.from_coords(timestamps, xcoords, ycoords)\n",
    "    \n",
    "    #Generando Grilla para los algoritmos. \n",
    "    maxx = max(xcoords)\n",
    "    minx = min(xcoords)\n",
    "    maxy = max(ycoords)\n",
    "    miny = min(ycoords)\n",
    "\n",
    "    region = open_cp.RectangularRegion(xmin=minx, xmax=maxx, ymin=miny, ymax=maxy)\n",
    "    \n",
    "    return (points_crime,region)\n"
   ]
  },
  {
   "cell_type": "code",
   "execution_count": 4,
   "metadata": {},
   "outputs": [],
   "source": [
    "def selectDataTraining(df,nameLoc,dateIni,dateEnd):\n",
    "    if nameLoc == 'city':\n",
    "        dfloc = df\n",
    "    else:\n",
    "        dfloc = df[df[\"LOCALIDAD\"]==nameLoc]\n",
    "        \n",
    "    dfloc[\"FECHA_HORA\"]=dfloc[\"HORA\"].astype(str)\n",
    "    valHour = dfloc[\"FECHA_HORA\"].values\n",
    "    valDate = dfloc[\"FECHA\"].values\n",
    "    timesVals = [];\n",
    "    k = 0;\n",
    "    for i in valHour:\n",
    "        if len(i)<=2:\n",
    "            timeStr = valDate[k] +\" \" + \"00:\"+i+\":00\"\n",
    "        else:\n",
    "            timeStr = valDate[k] +\" \" + i[:-2]+\":\"+i[-2:]+\":00\"\n",
    "        \n",
    "        k = k + 1\n",
    "\n",
    "        timesVals.append(timeStr)\n",
    "    dfloc[\"FECHA_HORA\"] = timesVals;\n",
    "    \n",
    "    dfloc[\"FECHA_HORA_TS\"] = dfloc.FECHA_HORA.map(dateutil.parser.parse)\n",
    "    dfFilter = dfloc[(dfloc.FECHA_HORA_TS > dateIni) & (dfloc.FECHA_HORA_TS < dateEnd)]\n",
    "    timestamps = dfFilter.FECHA_HORA_TS\n",
    "    \n",
    "    print(\"TimeStamps\")\n",
    "    print(type(timestamps))\n",
    "\n",
    "    xcoords, ycoords = (dfFilter.LONGITUD.values,dfFilter.LATITUD.values)\n",
    "    proj = pyproj.Proj(init=\"EPSG:3116\")\n",
    "    xcoords, ycoords = proj(xcoords,ycoords)\n",
    "    \n",
    "    points_train = open_cp.TimedPoints.from_coords(timestamps, xcoords, ycoords)\n",
    "    return (points_train,timestamps,xcoords, ycoords)"
   ]
  },
  {
   "cell_type": "code",
   "execution_count": 5,
   "metadata": {},
   "outputs": [],
   "source": [
    "#default parameters\n",
    "parameters = {\"time_bw\":144,\"space_bw\":50,\"time_cutoff\":172800,\"space_cutoff\":500}\n",
    "\n",
    "def trainModel_parameters(df,nameLoc,dateIni,dateEnd,parameters,iterations=10):\n",
    "    points_train,timestamps,xcoords, ycoords = selectDataTraining(df,nameLoc,dateIni,dateEnd)\n",
    "    plt.scatter(xcoords, ycoords)\n",
    "    print([timestamps])\n",
    "    trainer = sepp.SEPPTrainer()\n",
    "    trainer._initial_time_bandwidth = parameters['time_bw']\n",
    "    trainer._initial_space_bandwidth = parameters['space_bw']\n",
    "    trainer._time_cutoff = parameters['time_cutoff']\n",
    "    trainer._space_cutoff = parameters['space_cutoff']\n",
    "    print('time BW set on: ',trainer._initial_time_bandwidth)\n",
    "    print('space BW set on: ',trainer._initial_space_bandwidth)\n",
    "    print('time cutoff set on: ',trainer._time_cutoff)\n",
    "    print('space cutoff set on: ',trainer._space_cutoff)\n",
    "    print('Number of realizations: ',iterations)\n",
    "    trainer.data = points_train    \n",
    "    while True:  \n",
    "        try:\n",
    "            predictor = trainer.train()\n",
    "            print(\"succesful training!\")\n",
    "            break\n",
    "        except (RuntimeError, ValueError) as e:\n",
    "            print(e)\n",
    "            pass\n",
    "        iterations = iterations - 1\n",
    "        if iterations == 0:\n",
    "            return \"not succesfull training\"\n",
    "    return predictor "
   ]
  },
  {
   "cell_type": "code",
   "execution_count": 6,
   "metadata": {},
   "outputs": [],
   "source": [
    "def load_model(localidad, train_date):\n",
    "    custom_path = path+'/aggressive_behavior_model/SEPP/'+'pkl/TrainRina_'+str(localidad)+'_'+train_date+'.pkl'\n",
    "    infile = open(custom_path,'rb')\n",
    "    modelCrime = pickle.load(infile)\n",
    "    infile.close()\n",
    "    return modelCrime"
   ]
  },
  {
   "cell_type": "code",
   "execution_count": 7,
   "metadata": {},
   "outputs": [],
   "source": [
    "def run_prediction(localidad,modelCrime,predict_time):\n",
    "    points_crime,region = selectData(localidad,initial_date_prediction,final_date_prediction)\n",
    "    modelCrime.data = points_crime \n",
    "    prediction = modelCrime.predict(predict_time)\n",
    "    gridpred = open_cp.predictors.GridPredictionArray.from_continuous_prediction_region(prediction, region, 150, 150)\n",
    "    hitrates = open_cp.evaluation.hit_rates(gridpred, points_crime, [0.01,0.1])\n",
    "    return gridpred, hitrates"
   ]
  },
  {
   "cell_type": "code",
   "execution_count": 8,
   "metadata": {},
   "outputs": [],
   "source": [
    "def plot_gridpred(localidad,predict_time,gridpred):\n",
    "    fig, ax = plt.subplots(figsize=(20,10))\n",
    "    m = ax.pcolormesh(*gridpred.mesh_data(), gridpred.intensity_matrix, cmap=\"CMRmap_r\")\n",
    "    ax.set_title(\"Predicción localidad: \"+localidad+'; fecha: '+str(predict_time))\n",
    "    fig.colorbar(m, ax=ax)"
   ]
  },
  {
   "cell_type": "markdown",
   "metadata": {},
   "source": [
    "## Select data"
   ]
  },
  {
   "cell_type": "code",
   "execution_count": 9,
   "metadata": {},
   "outputs": [],
   "source": [
    "path = '/u01/user8/Documents/Riñas'"
   ]
  },
  {
   "cell_type": "code",
   "execution_count": 10,
   "metadata": {},
   "outputs": [],
   "source": [
    "df = pd.read_csv(path+'/datasets/verify_enrich_nuse_29112019.csv')"
   ]
  },
  {
   "cell_type": "code",
   "execution_count": 11,
   "metadata": {},
   "outputs": [],
   "source": [
    "initial_date = '2017-01-01'\n",
    "final_date = '2017-01-22'"
   ]
  },
  {
   "cell_type": "markdown",
   "metadata": {},
   "source": [
    "## Training experiments"
   ]
  },
  {
   "cell_type": "markdown",
   "metadata": {},
   "source": [
    "### Scenario 1: successful parameters used on experiment 04\n",
    "time_cutoff = [30, 50, 70, 90, 120]"
   ]
  },
  {
   "cell_type": "markdown",
   "metadata": {},
   "source": [
    "#### Parameter = 30"
   ]
  },
  {
   "cell_type": "code",
   "execution_count": 12,
   "metadata": {},
   "outputs": [],
   "source": [
    "#default parameters\n",
    "parameters = {\"time_bw\":144,\"space_bw\":50,\"time_cutoff\":172800,\"space_cutoff\":500}"
   ]
  },
  {
   "cell_type": "code",
   "execution_count": 13,
   "metadata": {
    "collapsed": true
   },
   "outputs": [
    {
     "name": "stdout",
     "output_type": "stream",
     "text": [
      "TimeStamps\n",
      "<class 'pandas.core.series.Series'>\n",
      "[164      2017-01-01 19:28:00\n",
      "165      2017-01-01 08:52:00\n",
      "166      2017-01-01 03:49:00\n",
      "167      2017-01-01 11:06:00\n",
      "168      2017-01-01 06:54:00\n",
      "                 ...        \n",
      "700837   2017-01-21 13:06:00\n",
      "700838   2017-01-21 14:16:00\n",
      "700839   2017-01-21 17:30:00\n",
      "700840   2017-01-21 10:56:00\n",
      "700841   2017-01-21 14:41:00\n",
      "Name: FECHA_HORA_TS, Length: 19834, dtype: datetime64[ns]]\n",
      "time BW set on:  144\n",
      "space BW set on:  50\n",
      "time cutoff set on:  30\n",
      "space cutoff set on:  500\n",
      "Number of realizations:  10\n",
      "succesful training!\n"
     ]
    },
    {
     "data": {
      "image/png": "[encoded data removed]",
      "text/plain": [
       "<Figure size 432x288 with 1 Axes>"
      ]
     },
     "metadata": {
      "needs_background": "light"
     },
     "output_type": "display_data"
    }
   ],
   "source": [
    "localidad = 'city'\n",
    "parameters['time_cutoff'] = 30\n",
    "iterations = 10\n",
    "city_predictor = trainModel_parameters(df,localidad,initial_date, final_date,parameters,iterations)\n",
    "if city_predictor != \"not succesfull training\":    \n",
    "    experiment_name = str(localidad)+'_'+initial_date+'_'+final_date+'_time_cutoff_'+str(parameters['time_cutoff'])\n",
    "    city_outfile = open(path+'/aggressive_behavior_model/SEPP/'+'pkl/TrainRina_'+experiment_name+'.pkl','wb')\n",
    "    pickle.dump(city_predictor, city_outfile)\n",
    "    city_outfile.close() "
   ]
  },
  {
   "cell_type": "markdown",
   "metadata": {},
   "source": [
    "Results:\n",
    "- Number of realizations: 1\n",
    "- Average time elapsed for realization: 60 min\n",
    "- No errors"
   ]
  },
  {
   "cell_type": "markdown",
   "metadata": {},
   "source": [
    "#### Parameter = 50"
   ]
  },
  {
   "cell_type": "code",
   "execution_count": 14,
   "metadata": {},
   "outputs": [],
   "source": [
    "#default parameters\n",
    "parameters = {\"time_bw\":144,\"space_bw\":50,\"time_cutoff\":172800,\"space_cutoff\":500}"
   ]
  },
  {
   "cell_type": "code",
   "execution_count": 15,
   "metadata": {
    "collapsed": true
   },
   "outputs": [
    {
     "name": "stdout",
     "output_type": "stream",
     "text": [
      "TimeStamps\n",
      "<class 'pandas.core.series.Series'>\n",
      "[164      2017-01-01 19:28:00\n",
      "165      2017-01-01 08:52:00\n",
      "166      2017-01-01 03:49:00\n",
      "167      2017-01-01 11:06:00\n",
      "168      2017-01-01 06:54:00\n",
      "                 ...        \n",
      "700837   2017-01-21 13:06:00\n",
      "700838   2017-01-21 14:16:00\n",
      "700839   2017-01-21 17:30:00\n",
      "700840   2017-01-21 10:56:00\n",
      "700841   2017-01-21 14:41:00\n",
      "Name: FECHA_HORA_TS, Length: 19834, dtype: datetime64[ns]]\n",
      "time BW set on:  144\n",
      "space BW set on:  50\n",
      "time cutoff set on:  50\n",
      "space cutoff set on:  500\n",
      "Number of realizations:  10\n",
      "succesful training!\n"
     ]
    },
    {
     "data": {
      "image/png": "[encoded data removed]",
      "text/plain": [
       "<Figure size 432x288 with 1 Axes>"
      ]
     },
     "metadata": {
      "needs_background": "light"
     },
     "output_type": "display_data"
    }
   ],
   "source": [
    "localidad = 'city'\n",
    "parameters['time_cutoff'] = 50\n",
    "iterations = 10\n",
    "city_predictor = trainModel_parameters(df,localidad,initial_date, final_date,parameters,iterations)\n",
    "if city_predictor != \"not succesfull training\":    \n",
    "    experiment_name = str(localidad)+'_'+initial_date+'_'+final_date+'_time_cutoff_'+str(parameters['time_cutoff'])\n",
    "    city_outfile = open(path+'/aggressive_behavior_model/SEPP/'+'pkl/TrainRina_'+experiment_name+'.pkl','wb')\n",
    "    pickle.dump(city_predictor, city_outfile)\n",
    "    city_outfile.close() "
   ]
  },
  {
   "cell_type": "markdown",
   "metadata": {},
   "source": [
    "Results: \n",
    "- Number of realizations: 1\n",
    "- Average time elapsed for realization: 60 min\n",
    "- No errors"
   ]
  },
  {
   "cell_type": "markdown",
   "metadata": {},
   "source": [
    "#### Parameter = 70"
   ]
  },
  {
   "cell_type": "code",
   "execution_count": 16,
   "metadata": {},
   "outputs": [],
   "source": [
    "#default parameters\n",
    "parameters = {\"time_bw\":144,\"space_bw\":50,\"time_cutoff\":172800,\"space_cutoff\":500}"
   ]
  },
  {
   "cell_type": "code",
   "execution_count": 17,
   "metadata": {
    "collapsed": true
   },
   "outputs": [
    {
     "name": "stdout",
     "output_type": "stream",
     "text": [
      "TimeStamps\n",
      "<class 'pandas.core.series.Series'>\n",
      "[164      2017-01-01 19:28:00\n",
      "165      2017-01-01 08:52:00\n",
      "166      2017-01-01 03:49:00\n",
      "167      2017-01-01 11:06:00\n",
      "168      2017-01-01 06:54:00\n",
      "                 ...        \n",
      "700837   2017-01-21 13:06:00\n",
      "700838   2017-01-21 14:16:00\n",
      "700839   2017-01-21 17:30:00\n",
      "700840   2017-01-21 10:56:00\n",
      "700841   2017-01-21 14:41:00\n",
      "Name: FECHA_HORA_TS, Length: 19834, dtype: datetime64[ns]]\n",
      "time BW set on:  144\n",
      "space BW set on:  50\n",
      "time cutoff set on:  70\n",
      "space cutoff set on:  500\n",
      "Number of realizations:  10\n",
      "succesful training!\n"
     ]
    },
    {
     "data": {
      "image/png": "[encoded data removed]",
      "text/plain": [
       "<Figure size 432x288 with 1 Axes>"
      ]
     },
     "metadata": {
      "needs_background": "light"
     },
     "output_type": "display_data"
    }
   ],
   "source": [
    "localidad = 'city'\n",
    "parameters['time_cutoff'] = 70\n",
    "iterations = 10\n",
    "city_predictor = trainModel_parameters(df,localidad,initial_date, final_date,parameters,iterations)\n",
    "if city_predictor != \"not succesfull training\":    \n",
    "    experiment_name = str(localidad)+'_'+initial_date+'_'+final_date+'_time_cutoff_'+str(parameters['time_cutoff'])\n",
    "    city_outfile = open(path+'/aggressive_behavior_model/SEPP/'+'pkl/TrainRina_'+experiment_name+'.pkl','wb')\n",
    "    pickle.dump(city_predictor, city_outfile)\n",
    "    city_outfile.close() "
   ]
  },
  {
   "cell_type": "markdown",
   "metadata": {},
   "source": [
    "Results: \n",
    "- Number of realizations: 1\n",
    "- Average time elapsed for realization: 60 min\n",
    "- No errors"
   ]
  },
  {
   "cell_type": "markdown",
   "metadata": {},
   "source": [
    "#### Parameter = 90"
   ]
  },
  {
   "cell_type": "code",
   "execution_count": 18,
   "metadata": {},
   "outputs": [],
   "source": [
    "#default parameters\n",
    "parameters = {\"time_bw\":144,\"space_bw\":50,\"time_cutoff\":172800,\"space_cutoff\":500}"
   ]
  },
  {
   "cell_type": "code",
   "execution_count": 19,
   "metadata": {},
   "outputs": [
    {
     "name": "stdout",
     "output_type": "stream",
     "text": [
      "TimeStamps\n",
      "<class 'pandas.core.series.Series'>\n",
      "[164      2017-01-01 19:28:00\n",
      "165      2017-01-01 08:52:00\n",
      "166      2017-01-01 03:49:00\n",
      "167      2017-01-01 11:06:00\n",
      "168      2017-01-01 06:54:00\n",
      "                 ...        \n",
      "700837   2017-01-21 13:06:00\n",
      "700838   2017-01-21 14:16:00\n",
      "700839   2017-01-21 17:30:00\n",
      "700840   2017-01-21 10:56:00\n",
      "700841   2017-01-21 14:41:00\n",
      "Name: FECHA_HORA_TS, Length: 19834, dtype: datetime64[ns]]\n",
      "time BW set on:  144\n",
      "space BW set on:  50\n",
      "time cutoff set on:  90\n",
      "space cutoff set on:  500\n",
      "Number of realizations:  10\n",
      "succesful training!\n"
     ]
    },
    {
     "data": {
      "image/png": "[encoded data removed]",
      "text/plain": [
       "<Figure size 432x288 with 1 Axes>"
      ]
     },
     "metadata": {
      "needs_background": "light"
     },
     "output_type": "display_data"
    }
   ],
   "source": [
    "localidad = 'city'\n",
    "parameters['time_cutoff'] = 90\n",
    "iterations = 10\n",
    "city_predictor = trainModel_parameters(df,localidad,initial_date, final_date,parameters,iterations)\n",
    "if city_predictor != \"not succesfull training\":    \n",
    "    experiment_name = str(localidad)+'_'+initial_date+'_'+final_date+'_time_cutoff_'+str(parameters['time_cutoff'])\n",
    "    city_outfile = open(path+'/aggressive_behavior_model/SEPP/'+'pkl/TrainRina_'+experiment_name+'.pkl','wb')\n",
    "    pickle.dump(city_predictor, city_outfile)\n",
    "    city_outfile.close() "
   ]
  },
  {
   "cell_type": "markdown",
   "metadata": {},
   "source": [
    "Results: \n",
    "- Number of realizations: 1\n",
    "- Average time elapsed for realization: 60 min\n",
    "- No errors"
   ]
  },
  {
   "cell_type": "code",
   "execution_count": null,
   "metadata": {},
   "outputs": [],
   "source": []
  }
 ],
 "metadata": {
  "@webio": {
   "lastCommId": null,
   "lastKernelId": null
  },
  "hide_input": false,
  "kernelspec": {
   "display_name": "Python 3",
   "language": "python",
   "name": "python3"
  },
  "language_info": {
   "codemirror_mode": {
    "name": "ipython",
    "version": 3
   },
   "file_extension": ".py",
   "mimetype": "text/x-python",
   "name": "python",
   "nbconvert_exporter": "python",
   "pygments_lexer": "ipython3",
   "version": "3.7.4"
  }
 },
 "nbformat": 4,
 "nbformat_minor": 2
}
