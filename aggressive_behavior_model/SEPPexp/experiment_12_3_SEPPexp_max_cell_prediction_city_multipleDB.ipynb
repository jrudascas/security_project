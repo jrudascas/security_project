{
 "cells": [
  {
   "cell_type": "markdown",
   "metadata": {},
   "source": [
    "## Method\n",
    "- Normalize prediction risk maps (0, 1)\n",
    "- Get maximum prediction (max cell among DB) risk map based on risk matrix obtained from different DB (experiment_10_2_SEPPexp...)\n",
    "- Measure hit rate and PAI considering different ground truth scenarios:\n",
    "    1. SIEDCO\n",
    "    2. RNMC\n",
    "    3. NUSE"
   ]
  },
  {
   "cell_type": "markdown",
   "metadata": {},
   "source": [
    "## Hypothesis:\n",
    "Perfomance metrics are better compared to the isolated prediction by DB (experiment_10_2_SEPPexp) including the obtained using the average operator (experiment_12_1_SEPPexp)."
   ]
  },
  {
   "cell_type": "code",
   "execution_count": 1,
   "metadata": {},
   "outputs": [],
   "source": [
    "import pandas as pd\n",
    "import matplotlib.pyplot as plt\n",
    "import numpy as np\n",
    "import sys\n",
    "sys.path.append(\"..\")\n",
    "import geojson\n",
    "from shapely.geometry import Point\n",
    "from shapely.geometry.polygon import Polygon\n",
    "from pyproj import Proj, transform\n",
    "import pickle\n",
    "import open_cp"
   ]
  },
  {
   "cell_type": "code",
   "execution_count": 2,
   "metadata": {},
   "outputs": [
    {
     "name": "stderr",
     "output_type": "stream",
     "text": [
      "Failed to import `rtree`.\n",
      "Failed to import `rtree`.\n"
     ]
    }
   ],
   "source": [
    "from services import prediction_metrics\n",
    "from services.prediction_experiment import PredictionExperiment\n",
    "from services.process_data import ProcessData"
   ]
  },
  {
   "cell_type": "markdown",
   "metadata": {},
   "source": [
    "## Built-in"
   ]
  },
  {
   "cell_type": "code",
   "execution_count": 3,
   "metadata": {},
   "outputs": [],
   "source": [
    "def get_hit_rate_from_dict(row,column,coverage):\n",
    "    return row[column][coverage]"
   ]
  },
  {
   "cell_type": "code",
   "execution_count": 4,
   "metadata": {},
   "outputs": [],
   "source": [
    "def normalize_grid_prediction(row, column_name):\n",
    "    xoffset = row[column_name]._xoffset\n",
    "    yoffset = row[column_name]._yoffset\n",
    "    xsize = row[column_name]._xsize\n",
    "    ysize = row[column_name]._ysize\n",
    "    matrix_norm = row[column_name]._matrix.copy()\n",
    "    # Uses 1 division and matix.size multiplications, multiplication is faster than division\n",
    "    matrix_norm *= 1/row[column_name]._matrix.max()\n",
    "    return open_cp.predictors.GridPredictionArray(xsize=xsize,ysize=ysize,matrix=matrix_norm,xoffset=xoffset,yoffset=yoffset)\n",
    "    "
   ]
  },
  {
   "cell_type": "markdown",
   "metadata": {},
   "source": [
    "## Fusion operators"
   ]
  },
  {
   "cell_type": "code",
   "execution_count": 5,
   "metadata": {},
   "outputs": [],
   "source": [
    "def average_grid_prediction(row):\n",
    "    xoffset_avg = (row['prediction_siedco']._xoffset + row['prediction_rnmc']._xoffset + row['prediction_nuse']._xoffset)/3\n",
    "    yoffset_avg = (row['prediction_siedco']._yoffset + row['prediction_rnmc']._yoffset + row['prediction_nuse']._yoffset)/3\n",
    "    xsize_avg = (row['prediction_siedco']._xsize + row['prediction_rnmc']._xsize + row['prediction_nuse']._xsize)/3\n",
    "    ysize_avg = (row['prediction_siedco']._ysize + row['prediction_rnmc']._ysize + row['prediction_nuse']._ysize)/3\n",
    "    matrix_avg = (row['prediction_siedco']._matrix + row['prediction_rnmc']._matrix + row['prediction_nuse']._matrix)/3\n",
    "    return open_cp.predictors.GridPredictionArray(xsize=xsize_avg,ysize=ysize_avg,matrix=matrix_avg,xoffset=xoffset_avg,yoffset=yoffset_avg)"
   ]
  },
  {
   "cell_type": "code",
   "execution_count": 6,
   "metadata": {},
   "outputs": [],
   "source": [
    "import operator\n",
    "\n",
    "def maximum_grid_prediction(row):\n",
    "    max_intensity = {}\n",
    "    max_intensity['siedco']=np.sum(row['prediction_siedco']._matrix)\n",
    "    max_intensity['rnmc']=np.sum(row['prediction_rnmc']._matrix)\n",
    "    max_intensity['nuse']=np.sum(row['prediction_nuse']._matrix)\n",
    "    key_max_intensity = max(max_intensity.items(), key=operator.itemgetter(1))[0]\n",
    "    \n",
    "    column = 'prediction_'+str(key_max_intensity)\n",
    "    xoffset_max = row[column]._xoffset\n",
    "    yoffset_max = row[column]._yoffset\n",
    "    xsize_max = row[column]._xsize\n",
    "    ysize_max = row[column]._ysize\n",
    "    matrix_max = row[column]._matrix\n",
    "    return open_cp.predictors.GridPredictionArray(xsize=xsize_max,ysize=ysize_max,matrix=matrix_max,xoffset=xoffset_max,yoffset=yoffset_max)\n"
   ]
  },
  {
   "cell_type": "code",
   "execution_count": 7,
   "metadata": {},
   "outputs": [],
   "source": [
    "def maximum_by_cell(row):\n",
    "    matrix_1 = np.maximum(row['prediction_siedco']._matrix, row['prediction_rnmc']._matrix)\n",
    "    matrix_2 = np.maximum(matrix_1, row['prediction_nuse']._matrix)\n",
    "    # assign any from DB, since all attributes are equal\n",
    "    xoffset_max = row['prediction_siedco']._xoffset\n",
    "    yoffset_max = row['prediction_siedco']._yoffset\n",
    "    xsize_max = row['prediction_siedco']._xsize\n",
    "    ysize_max = row['prediction_siedco']._ysize\n",
    "    return open_cp.predictors.GridPredictionArray(xsize=xsize_max,ysize=ysize_max,matrix=matrix_2,xoffset=xoffset_max,yoffset=yoffset_max)"
   ]
  },
  {
   "cell_type": "markdown",
   "metadata": {},
   "source": [
    "## Load prediction results"
   ]
  },
  {
   "cell_type": "code",
   "execution_count": 8,
   "metadata": {},
   "outputs": [],
   "source": [
    "infile = open('/Users/anamaria/Desktop/dev/security_project/aggressive_behavior_model/pkl/experiment_seppexp_10_2_siedco_prediction.pkl','rb')\n",
    "loaded_siedco = pickle.load(infile)\n",
    "infile.close()"
   ]
  },
  {
   "cell_type": "code",
   "execution_count": 9,
   "metadata": {},
   "outputs": [],
   "source": [
    "infile = open('/Users/anamaria/Desktop/dev/security_project/aggressive_behavior_model/pkl/experiment_seppexp_10_2_rnmc_prediction.pkl','rb')\n",
    "loaded_rnmc = pickle.load(infile)\n",
    "infile.close()"
   ]
  },
  {
   "cell_type": "code",
   "execution_count": 10,
   "metadata": {},
   "outputs": [],
   "source": [
    "infile = open('/Users/anamaria/Desktop/dev/security_project/aggressive_behavior_model/pkl/experiment_seppexp_10_2_nuse_prediction.pkl','rb')\n",
    "loaded_nuse = pickle.load(infile)\n",
    "infile.close()"
   ]
  },
  {
   "cell_type": "markdown",
   "metadata": {},
   "source": [
    "## Normalize prediction intensity risk maps"
   ]
  },
  {
   "cell_type": "code",
   "execution_count": 11,
   "metadata": {},
   "outputs": [],
   "source": [
    "loaded_siedco['prediction_normalized'] = loaded_siedco.apply(lambda row: normalize_grid_prediction(row,'prediction'), axis=1)\n",
    "loaded_rnmc['prediction_normalized'] = loaded_rnmc.apply(lambda row: normalize_grid_prediction(row,'prediction'), axis=1)\n",
    "loaded_nuse['prediction_normalized'] = loaded_nuse.apply(lambda row: normalize_grid_prediction(row,'prediction'), axis=1)\n"
   ]
  },
  {
   "cell_type": "code",
   "execution_count": 12,
   "metadata": {},
   "outputs": [],
   "source": [
    "loaded_siedco = loaded_siedco.rename(columns={'prediction_normalized': 'prediction_siedco', 'eval_pts': 'eval_pts_siedco'})\n",
    "loaded_rnmc = loaded_rnmc.rename(columns={'prediction_normalized': 'prediction_rnmc', 'eval_pts': 'eval_pts_rnmc'})\n",
    "loaded_nuse = loaded_nuse.rename(columns={'prediction_normalized': 'prediction_nuse', 'eval_pts': 'eval_pts_nuse'})"
   ]
  },
  {
   "cell_type": "markdown",
   "metadata": {},
   "source": [
    "## Compute maximum prediction"
   ]
  },
  {
   "cell_type": "code",
   "execution_count": 13,
   "metadata": {},
   "outputs": [],
   "source": [
    "result = pd.concat([loaded_siedco, loaded_rnmc, loaded_nuse], axis=1)"
   ]
  },
  {
   "cell_type": "code",
   "execution_count": 14,
   "metadata": {},
   "outputs": [],
   "source": [
    "result['max_prediction'] = result.apply(lambda row: maximum_by_cell(row), axis=1)"
   ]
  },
  {
   "cell_type": "markdown",
   "metadata": {},
   "source": [
    "## Hit rate and PAI"
   ]
  },
  {
   "cell_type": "markdown",
   "metadata": {},
   "source": [
    "#### Real percentage of city coverage over rectangular region (based on script experiment_11_1_get_rectangular_city_region):"
   ]
  },
  {
   "cell_type": "code",
   "execution_count": 15,
   "metadata": {},
   "outputs": [],
   "source": [
    "city_percentage_on_region = 0.26"
   ]
  },
  {
   "cell_type": "code",
   "execution_count": 16,
   "metadata": {},
   "outputs": [],
   "source": [
    "## coverages are represented in % (NOT IN PROPORTION)\n",
    "coverages = [2,4,6,8,10,12,14,16,18,20]\n",
    "### this approach is only used to open_cp hit rate implementation method makes sense\n",
    "real_coverages_city = list(map(lambda c: round((c/100)*city_percentage_on_region*100, 1), coverages))"
   ]
  },
  {
   "cell_type": "code",
   "execution_count": 17,
   "metadata": {},
   "outputs": [
    {
     "data": {
      "text/plain": [
       "[0.5, 1.0, 1.6, 2.1, 2.6, 3.1, 3.6, 4.2, 4.7, 5.2]"
      ]
     },
     "execution_count": 17,
     "metadata": {},
     "output_type": "execute_result"
    }
   ],
   "source": [
    "## coverages are represented in % (NOT IN PROPORTION)\n",
    "real_coverages_city"
   ]
  },
  {
   "cell_type": "markdown",
   "metadata": {},
   "source": [
    "### SIEDCO ground truth"
   ]
  },
  {
   "cell_type": "code",
   "execution_count": 18,
   "metadata": {},
   "outputs": [],
   "source": [
    "df_result = result.copy()"
   ]
  },
  {
   "cell_type": "code",
   "execution_count": 19,
   "metadata": {},
   "outputs": [],
   "source": [
    "df_result['hitrate_default'] = df_result.apply(lambda row: prediction_metrics.measure_hit_rates(row['max_prediction'],row['eval_pts_siedco'],real_coverages_city,'default'), axis=1)\n",
    "df_result['hitrate_TP'] = df_result.apply(lambda row: prediction_metrics.measure_hit_rates(row['max_prediction'],row['eval_pts_siedco'],real_coverages_city,'ground_truth_coverage'), axis=1)\n"
   ]
  },
  {
   "cell_type": "code",
   "execution_count": 20,
   "metadata": {},
   "outputs": [],
   "source": [
    "##For hitrate_TP \"true positives\"\n",
    "df_result['coverage_TP'] = df_result.apply(lambda row: (list(row['hitrate_TP'].keys())[0])/city_percentage_on_region, axis=1)\n",
    "df_result['hit_rate_TP'] = df_result.apply(lambda row: list(row['hitrate_TP'].values())[0], axis=1)\n",
    "df_result['PAI_TP'] = df_result['hit_rate_TP'] / (df_result['coverage_TP']/100)"
   ]
  },
  {
   "cell_type": "code",
   "execution_count": 21,
   "metadata": {},
   "outputs": [],
   "source": [
    "##For hitrate_default\n",
    "#coverages = [2.0,4.0,6.0,8.0,10.0,12.0,14.0,16.0,18.0,20.0]\n",
    "column_dict = 'hitrate_default'\n",
    "for c in real_coverages_city:\n",
    "    new_hit_rate_column = 'hit_rate_default_coverage_'+str(round(c/city_percentage_on_region))\n",
    "    df_result[new_hit_rate_column] = df_result.apply(lambda row: get_hit_rate_from_dict(row,column_dict,c), axis=1)\n",
    "\n",
    "    ##PAI\n",
    "    new_column = 'PAI_default_coverage_'+str(round(c/city_percentage_on_region))\n",
    "    df_result[new_column] = df_result[new_hit_rate_column]/(round(c/city_percentage_on_region)/100)\n"
   ]
  },
  {
   "cell_type": "code",
   "execution_count": 22,
   "metadata": {
    "scrolled": false
   },
   "outputs": [
    {
     "name": "stdout",
     "output_type": "stream",
     "text": [
      "coverage_TP                       0.020564\n",
      "hit_rate_TP                       0.025642\n",
      "PAI_TP                          156.301367\n",
      "hit_rate_default_coverage_2       0.233077\n",
      "PAI_default_coverage_2           11.653829\n",
      "hit_rate_default_coverage_4       0.394948\n",
      "PAI_default_coverage_4            9.873703\n",
      "hit_rate_default_coverage_6       0.552427\n",
      "PAI_default_coverage_6            9.207125\n",
      "hit_rate_default_coverage_8       0.631732\n",
      "PAI_default_coverage_8            7.896647\n",
      "hit_rate_default_coverage_10      0.723020\n",
      "PAI_default_coverage_10           7.230199\n",
      "hit_rate_default_coverage_12      0.803924\n",
      "PAI_default_coverage_12           6.699370\n",
      "hit_rate_default_coverage_14      0.851634\n",
      "PAI_default_coverage_14           6.083101\n",
      "hit_rate_default_coverage_16      0.874887\n",
      "PAI_default_coverage_16           5.468042\n",
      "hit_rate_default_coverage_18      0.874887\n",
      "PAI_default_coverage_18           4.860482\n",
      "hit_rate_default_coverage_20      0.874887\n",
      "PAI_default_coverage_20           4.374434\n",
      "dtype: float64\n"
     ]
    }
   ],
   "source": [
    "#delete datetimes where no crimes were reported (0 crimes on ground truth -> hit-rate = -1)\n",
    "df_result = df_result[df_result['hit_rate_default_coverage_2']!= -1]\n",
    "print(df_result.mean())"
   ]
  },
  {
   "cell_type": "markdown",
   "metadata": {},
   "source": [
    "### RNMC ground truth"
   ]
  },
  {
   "cell_type": "code",
   "execution_count": 23,
   "metadata": {},
   "outputs": [],
   "source": [
    "df_result = result.copy()"
   ]
  },
  {
   "cell_type": "code",
   "execution_count": 24,
   "metadata": {},
   "outputs": [],
   "source": [
    "df_result['hitrate_default'] = df_result.apply(lambda row: prediction_metrics.measure_hit_rates(row['max_prediction'],row['eval_pts_rnmc'],real_coverages_city,'default'), axis=1)\n",
    "df_result['hitrate_TP'] = df_result.apply(lambda row: prediction_metrics.measure_hit_rates(row['max_prediction'],row['eval_pts_rnmc'],real_coverages_city,'ground_truth_coverage'), axis=1)\n"
   ]
  },
  {
   "cell_type": "code",
   "execution_count": 25,
   "metadata": {},
   "outputs": [],
   "source": [
    "##For hitrate_TP \"true positives\"\n",
    "df_result['coverage_TP'] = df_result.apply(lambda row: (list(row['hitrate_TP'].keys())[0])/city_percentage_on_region, axis=1)\n",
    "df_result['hit_rate_TP'] = df_result.apply(lambda row: list(row['hitrate_TP'].values())[0], axis=1)\n",
    "df_result['PAI_TP'] = df_result['hit_rate_TP'] / (df_result['coverage_TP']/100)"
   ]
  },
  {
   "cell_type": "code",
   "execution_count": 26,
   "metadata": {},
   "outputs": [],
   "source": [
    "##For hitrate_default\n",
    "#coverages = [2.0,4.0,6.0,8.0,10.0,12.0,14.0,16.0,18.0,20.0]\n",
    "column_dict = 'hitrate_default'\n",
    "for c in real_coverages_city:\n",
    "    new_hit_rate_column = 'hit_rate_default_coverage_'+str(round(c/city_percentage_on_region))\n",
    "    df_result[new_hit_rate_column] = df_result.apply(lambda row: get_hit_rate_from_dict(row,column_dict,c), axis=1)\n",
    "\n",
    "    ##PAI\n",
    "    new_column = 'PAI_default_coverage_'+str(round(c/city_percentage_on_region))\n",
    "    df_result[new_column] = df_result[new_hit_rate_column]/(round(c/city_percentage_on_region)/100)\n"
   ]
  },
  {
   "cell_type": "code",
   "execution_count": 27,
   "metadata": {
    "scrolled": false
   },
   "outputs": [
    {
     "name": "stdout",
     "output_type": "stream",
     "text": [
      "coverage_TP                      0.124019\n",
      "hit_rate_TP                      0.110404\n",
      "PAI_TP                          89.719709\n",
      "hit_rate_default_coverage_2      0.418178\n",
      "PAI_default_coverage_2          20.908889\n",
      "hit_rate_default_coverage_4      0.587688\n",
      "PAI_default_coverage_4          14.692202\n",
      "hit_rate_default_coverage_6      0.745933\n",
      "PAI_default_coverage_6          12.432223\n",
      "hit_rate_default_coverage_8      0.807276\n",
      "PAI_default_coverage_8          10.090952\n",
      "hit_rate_default_coverage_10     0.882048\n",
      "PAI_default_coverage_10          8.820481\n",
      "hit_rate_default_coverage_12     0.919565\n",
      "PAI_default_coverage_12          7.663045\n",
      "hit_rate_default_coverage_14     0.938684\n",
      "PAI_default_coverage_14          6.704884\n",
      "hit_rate_default_coverage_16     0.949142\n",
      "PAI_default_coverage_16          5.932135\n",
      "hit_rate_default_coverage_18     0.949142\n",
      "PAI_default_coverage_18          5.273009\n",
      "hit_rate_default_coverage_20     0.949142\n",
      "PAI_default_coverage_20          4.745708\n",
      "dtype: float64\n"
     ]
    }
   ],
   "source": [
    "#delete datetimes where no crimes were reported (0 crimes on ground truth -> hit-rate = -1)\n",
    "df_result = df_result[df_result['hit_rate_default_coverage_2']!= -1]\n",
    "print(df_result.mean())"
   ]
  },
  {
   "cell_type": "markdown",
   "metadata": {},
   "source": [
    "### NUSE ground truth"
   ]
  },
  {
   "cell_type": "code",
   "execution_count": 28,
   "metadata": {},
   "outputs": [],
   "source": [
    "df_result = result.copy()"
   ]
  },
  {
   "cell_type": "code",
   "execution_count": 29,
   "metadata": {},
   "outputs": [],
   "source": [
    "df_result['hitrate_default'] = df_result.apply(lambda row: prediction_metrics.measure_hit_rates(row['max_prediction'],row['eval_pts_nuse'],real_coverages_city,'default'), axis=1)\n",
    "df_result['hitrate_TP'] = df_result.apply(lambda row: prediction_metrics.measure_hit_rates(row['max_prediction'],row['eval_pts_nuse'],real_coverages_city,'ground_truth_coverage'), axis=1)\n"
   ]
  },
  {
   "cell_type": "code",
   "execution_count": 30,
   "metadata": {},
   "outputs": [],
   "source": [
    "##For hitrate_TP \"true positives\"\n",
    "df_result['coverage_TP'] = df_result.apply(lambda row: (list(row['hitrate_TP'].keys())[0])/city_percentage_on_region, axis=1)\n",
    "df_result['hit_rate_TP'] = df_result.apply(lambda row: list(row['hitrate_TP'].values())[0], axis=1)\n",
    "df_result['PAI_TP'] = df_result['hit_rate_TP'] / (df_result['coverage_TP']/100)"
   ]
  },
  {
   "cell_type": "code",
   "execution_count": 31,
   "metadata": {},
   "outputs": [],
   "source": [
    "##For hitrate_default\n",
    "#coverages = [2.0,4.0,6.0,8.0,10.0,12.0,14.0,16.0,18.0,20.0]\n",
    "column_dict = 'hitrate_default'\n",
    "for c in real_coverages_city:\n",
    "    new_hit_rate_column = 'hit_rate_default_coverage_'+str(round(c/city_percentage_on_region))\n",
    "    df_result[new_hit_rate_column] = df_result.apply(lambda row: get_hit_rate_from_dict(row,column_dict,c), axis=1)\n",
    "\n",
    "    ##PAI\n",
    "    new_column = 'PAI_default_coverage_'+str(round(c/city_percentage_on_region))\n",
    "    df_result[new_column] = df_result[new_hit_rate_column]/(round(c/city_percentage_on_region)/100)\n"
   ]
  },
  {
   "cell_type": "code",
   "execution_count": 32,
   "metadata": {
    "scrolled": false
   },
   "outputs": [
    {
     "name": "stdout",
     "output_type": "stream",
     "text": [
      "coverage_TP                      0.365678\n",
      "hit_rate_TP                      0.099687\n",
      "PAI_TP                          31.484741\n",
      "hit_rate_default_coverage_2      0.250345\n",
      "PAI_default_coverage_2          12.517274\n",
      "hit_rate_default_coverage_4      0.387138\n",
      "PAI_default_coverage_4           9.678459\n",
      "hit_rate_default_coverage_6      0.593058\n",
      "PAI_default_coverage_6           9.884293\n",
      "hit_rate_default_coverage_8      0.725003\n",
      "PAI_default_coverage_8           9.062537\n",
      "hit_rate_default_coverage_10     0.790549\n",
      "PAI_default_coverage_10          7.905488\n",
      "hit_rate_default_coverage_12     0.878910\n",
      "PAI_default_coverage_12          7.324253\n",
      "hit_rate_default_coverage_14     0.934152\n",
      "PAI_default_coverage_14          6.672511\n",
      "hit_rate_default_coverage_16     0.948344\n",
      "PAI_default_coverage_16          5.927149\n",
      "hit_rate_default_coverage_18     0.948344\n",
      "PAI_default_coverage_18          5.268577\n",
      "hit_rate_default_coverage_20     0.948344\n",
      "PAI_default_coverage_20          4.741719\n",
      "dtype: float64\n"
     ]
    }
   ],
   "source": [
    "#delete datetimes where no crimes were reported (0 crimes on ground truth -> hit-rate = -1)\n",
    "df_result = df_result[df_result['hit_rate_default_coverage_2']!= -1]\n",
    "print(df_result.mean())"
   ]
  },
  {
   "cell_type": "code",
   "execution_count": null,
   "metadata": {},
   "outputs": [],
   "source": []
  }
 ],
 "metadata": {
  "kernelspec": {
   "display_name": "Python 3",
   "language": "python",
   "name": "python3"
  },
  "language_info": {
   "codemirror_mode": {
    "name": "ipython",
    "version": 3
   },
   "file_extension": ".py",
   "mimetype": "text/x-python",
   "name": "python",
   "nbconvert_exporter": "python",
   "pygments_lexer": "ipython3",
   "version": "3.7.2"
  }
 },
 "nbformat": 4,
 "nbformat_minor": 2
}
