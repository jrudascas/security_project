{
 "cells": [
  {
   "cell_type": "markdown",
   "metadata": {},
   "source": [
    "## Method\n",
    "- Normalize prediction risk maps (0, 1)\n",
    "- Get max and average prediction risk map based on risk matrix obtained from different DB (experiment_10_2_SEPPexp...)\n",
    "- Compute variance for prediction by DB and multimodal (by operator)\n",
    "- Measure hit rate and PAI for specific coverage (10%) considering different ground truth scenarios: SIEDCO, RNMC, NUSE. Visualize hit rate and variance to analyze posible relations."
   ]
  },
  {
   "cell_type": "markdown",
   "metadata": {},
   "source": [
    "## Hypothesis:\n",
    "The variance is higher for risk prediction maps associated with the DB with the largest amount of data."
   ]
  },
  {
   "cell_type": "code",
   "execution_count": 1,
   "metadata": {},
   "outputs": [],
   "source": [
    "import pandas as pd\n",
    "import matplotlib.pyplot as plt\n",
    "import numpy as np\n",
    "import sys\n",
    "sys.path.append(\"..\")\n",
    "import geojson\n",
    "from shapely.geometry import Point\n",
    "from shapely.geometry.polygon import Polygon\n",
    "from pyproj import Proj, transform\n",
    "import pickle\n",
    "import open_cp"
   ]
  },
  {
   "cell_type": "code",
   "execution_count": 2,
   "metadata": {},
   "outputs": [
    {
     "name": "stderr",
     "output_type": "stream",
     "text": [
      "Failed to import `rtree`.\n",
      "Failed to import `rtree`.\n"
     ]
    }
   ],
   "source": [
    "from services import prediction_metrics\n",
    "from services.prediction_experiment import PredictionExperiment\n",
    "from services.process_data import ProcessData"
   ]
  },
  {
   "cell_type": "markdown",
   "metadata": {},
   "source": [
    "## Built-in"
   ]
  },
  {
   "cell_type": "code",
   "execution_count": 3,
   "metadata": {},
   "outputs": [],
   "source": [
    "def get_hit_rate_from_dict(row,column,coverage):\n",
    "    return row[column][coverage]"
   ]
  },
  {
   "cell_type": "code",
   "execution_count": 4,
   "metadata": {},
   "outputs": [],
   "source": [
    "def normalize_grid_prediction(row, column_name):\n",
    "    xoffset = row[column_name]._xoffset\n",
    "    yoffset = row[column_name]._yoffset\n",
    "    xsize = row[column_name]._xsize\n",
    "    ysize = row[column_name]._ysize\n",
    "    matrix_norm = row[column_name]._matrix.copy()\n",
    "    # Uses 1 division and matix.size multiplications, multiplication is faster than division\n",
    "    matrix_norm *= 1/row[column_name]._matrix.max()\n",
    "    return open_cp.predictors.GridPredictionArray(xsize=xsize,ysize=ysize,matrix=matrix_norm,xoffset=xoffset,yoffset=yoffset)\n",
    "    "
   ]
  },
  {
   "cell_type": "markdown",
   "metadata": {},
   "source": [
    "### Fusion operators"
   ]
  },
  {
   "cell_type": "code",
   "execution_count": 5,
   "metadata": {},
   "outputs": [],
   "source": [
    "def average_grid_prediction(row):\n",
    "    xoffset_avg = (row['prediction_siedco']._xoffset + row['prediction_rnmc']._xoffset + row['prediction_nuse']._xoffset)/3\n",
    "    yoffset_avg = (row['prediction_siedco']._yoffset + row['prediction_rnmc']._yoffset + row['prediction_nuse']._yoffset)/3\n",
    "    xsize_avg = (row['prediction_siedco']._xsize + row['prediction_rnmc']._xsize + row['prediction_nuse']._xsize)/3\n",
    "    ysize_avg = (row['prediction_siedco']._ysize + row['prediction_rnmc']._ysize + row['prediction_nuse']._ysize)/3\n",
    "    matrix_avg = (row['prediction_siedco']._matrix + row['prediction_rnmc']._matrix + row['prediction_nuse']._matrix)/3\n",
    "    return open_cp.predictors.GridPredictionArray(xsize=xsize_avg,ysize=ysize_avg,matrix=matrix_avg,xoffset=xoffset_avg,yoffset=yoffset_avg)"
   ]
  },
  {
   "cell_type": "code",
   "execution_count": 6,
   "metadata": {},
   "outputs": [],
   "source": [
    "import operator\n",
    "\n",
    "def maximum_grid_prediction(row):\n",
    "    max_intensity = {}\n",
    "    max_intensity['siedco']=np.sum(row['prediction_siedco']._matrix)\n",
    "    max_intensity['rnmc']=np.sum(row['prediction_rnmc']._matrix)\n",
    "    max_intensity['nuse']=np.sum(row['prediction_nuse']._matrix)\n",
    "    key_max_intensity = max(max_intensity.items(), key=operator.itemgetter(1))[0]\n",
    "    \n",
    "    column = 'prediction_'+str(key_max_intensity)\n",
    "    xoffset_max = row[column]._xoffset\n",
    "    yoffset_max = row[column]._yoffset\n",
    "    xsize_max = row[column]._xsize\n",
    "    ysize_max = row[column]._ysize\n",
    "    matrix_max = row[column]._matrix\n",
    "    return open_cp.predictors.GridPredictionArray(xsize=xsize_max,ysize=ysize_max,matrix=matrix_max,xoffset=xoffset_max,yoffset=yoffset_max)\n"
   ]
  },
  {
   "cell_type": "markdown",
   "metadata": {},
   "source": [
    "### Descriptive metrics"
   ]
  },
  {
   "cell_type": "code",
   "execution_count": 7,
   "metadata": {},
   "outputs": [],
   "source": [
    "def shannon_entropy(matrix):\n",
    "    my_array = np.squeeze(np.asarray(matrix))\n",
    "    # ignore zero values for successful compute of log in entropy eq.\n",
    "    # https://stats.stackexchange.com/questions/57069/alternative-to-shannons-entropy-when-probability-equal-to-zero\n",
    "    non_zero_array = my_array[my_array != 0]\n",
    "    p_normalized = non_zero_array / non_zero_array.sum()\n",
    "    entropy = -np.sum(p_normalized*np.log2(p_normalized))\n",
    "    return entropy"
   ]
  },
  {
   "cell_type": "code",
   "execution_count": 8,
   "metadata": {},
   "outputs": [],
   "source": [
    "from scipy.stats import entropy\n",
    "import math\n",
    "\n",
    "def scipy_entropy(matrix, base):\n",
    "    my_array = np.squeeze(np.asarray(matrix))\n",
    "    non_zero_array = my_array[my_array != 0]\n",
    "    return entropy(pk=non_zero_array, base=base)"
   ]
  },
  {
   "cell_type": "code",
   "execution_count": 9,
   "metadata": {},
   "outputs": [],
   "source": [
    "def variance(matrix):\n",
    "    return matrix.var()"
   ]
  },
  {
   "cell_type": "markdown",
   "metadata": {},
   "source": [
    "## Load prediction results"
   ]
  },
  {
   "cell_type": "code",
   "execution_count": 10,
   "metadata": {},
   "outputs": [],
   "source": [
    "infile = open('/Users/anamaria/Desktop/dev/security_project/aggressive_behavior_model/pkl/experiment_seppexp_10_2_siedco_prediction.pkl','rb')\n",
    "loaded_siedco = pickle.load(infile)\n",
    "infile.close()"
   ]
  },
  {
   "cell_type": "code",
   "execution_count": 11,
   "metadata": {},
   "outputs": [],
   "source": [
    "infile = open('/Users/anamaria/Desktop/dev/security_project/aggressive_behavior_model/pkl/experiment_seppexp_10_2_rnmc_prediction.pkl','rb')\n",
    "loaded_rnmc = pickle.load(infile)\n",
    "infile.close()"
   ]
  },
  {
   "cell_type": "code",
   "execution_count": 12,
   "metadata": {},
   "outputs": [],
   "source": [
    "infile = open('/Users/anamaria/Desktop/dev/security_project/aggressive_behavior_model/pkl/experiment_seppexp_10_2_nuse_prediction.pkl','rb')\n",
    "loaded_nuse = pickle.load(infile)\n",
    "infile.close()"
   ]
  },
  {
   "cell_type": "markdown",
   "metadata": {},
   "source": [
    "## Normalize prediction intensity risk maps"
   ]
  },
  {
   "cell_type": "code",
   "execution_count": 13,
   "metadata": {},
   "outputs": [],
   "source": [
    "loaded_siedco['prediction_normalized'] = loaded_siedco.apply(lambda row: normalize_grid_prediction(row,'prediction'), axis=1)\n",
    "loaded_rnmc['prediction_normalized'] = loaded_rnmc.apply(lambda row: normalize_grid_prediction(row,'prediction'), axis=1)\n",
    "loaded_nuse['prediction_normalized'] = loaded_nuse.apply(lambda row: normalize_grid_prediction(row,'prediction'), axis=1)\n"
   ]
  },
  {
   "cell_type": "code",
   "execution_count": 14,
   "metadata": {},
   "outputs": [],
   "source": [
    "# Delete not-normalized prediction columns\n",
    "loaded_siedco.drop(columns=['prediction'], inplace=True)\n",
    "loaded_rnmc.drop(columns=['prediction'], inplace=True)\n",
    "loaded_nuse.drop(columns=['prediction'], inplace=True)"
   ]
  },
  {
   "cell_type": "markdown",
   "metadata": {},
   "source": [
    "### Rename columns to merge df"
   ]
  },
  {
   "cell_type": "code",
   "execution_count": 15,
   "metadata": {},
   "outputs": [],
   "source": [
    "loaded_siedco = loaded_siedco.rename(columns={'prediction_normalized': 'prediction_siedco', 'eval_pts': 'eval_pts_siedco','initial-date':'initial-date-siedco','final-date':'final-date-siedco'})\n",
    "loaded_rnmc = loaded_rnmc.rename(columns={'prediction_normalized': 'prediction_rnmc', 'eval_pts': 'eval_pts_rnmc', 'initial-date':'initial-date-rnmc','final-date':'final-date-rnmc'})\n",
    "loaded_nuse = loaded_nuse.rename(columns={'prediction_normalized': 'prediction_nuse', 'eval_pts': 'eval_pts_nuse', 'initial-date':'initial-date-nuse','final-date':'final-date-nuse'})"
   ]
  },
  {
   "cell_type": "markdown",
   "metadata": {},
   "source": [
    "## Compute maximum and average prediction"
   ]
  },
  {
   "cell_type": "code",
   "execution_count": 16,
   "metadata": {},
   "outputs": [],
   "source": [
    "result = pd.concat([loaded_siedco, loaded_rnmc, loaded_nuse], axis=1)"
   ]
  },
  {
   "cell_type": "code",
   "execution_count": 17,
   "metadata": {},
   "outputs": [],
   "source": [
    "result['average_prediction'] = result.apply(lambda row: average_grid_prediction(row), axis=1)"
   ]
  },
  {
   "cell_type": "code",
   "execution_count": 18,
   "metadata": {},
   "outputs": [],
   "source": [
    "result['max_prediction'] = result.apply(lambda row: maximum_grid_prediction(row), axis=1)"
   ]
  },
  {
   "cell_type": "markdown",
   "metadata": {},
   "source": [
    "### Delete redundant columns"
   ]
  },
  {
   "cell_type": "code",
   "execution_count": 19,
   "metadata": {},
   "outputs": [],
   "source": [
    "result.drop(columns=['initial-date-rnmc','final-date-rnmc','initial-date-nuse','final-date-nuse'], inplace=True)"
   ]
  },
  {
   "cell_type": "code",
   "execution_count": 20,
   "metadata": {},
   "outputs": [],
   "source": [
    "result = result.rename(columns={'initial-date-siedco':'initial-date','final-date-siedco':'final-date'})"
   ]
  },
  {
   "cell_type": "markdown",
   "metadata": {},
   "source": [
    "## Compute variance"
   ]
  },
  {
   "cell_type": "code",
   "execution_count": 22,
   "metadata": {},
   "outputs": [],
   "source": [
    "result['siedco_variance'] = result.apply(lambda row: variance(row['prediction_siedco']._matrix), axis=1)\n",
    "result['rnmc_variance'] = result.apply(lambda row: variance(row['prediction_rnmc']._matrix), axis=1)\n",
    "result['nuse_variance'] = result.apply(lambda row: variance(row['prediction_nuse']._matrix), axis=1)\n",
    "result['multimodal_average_variance'] = result.apply(lambda row: variance(row['average_prediction']._matrix), axis=1)\n",
    "result['multimodal_max_variance'] = result.apply(lambda row: variance(row['max_prediction']._matrix), axis=1)\n"
   ]
  },
  {
   "cell_type": "code",
   "execution_count": 29,
   "metadata": {},
   "outputs": [
    {
     "data": {
      "image/png": "[encoded data removed]",
      "text/plain": [
       "<Figure size 720x720 with 5 Axes>"
      ]
     },
     "metadata": {
      "needs_background": "light"
     },
     "output_type": "display_data"
    }
   ],
   "source": [
    "fig, ax = plt.subplots(5,1, figsize=(10,10), sharex=True, sharey=True)\n",
    "siedco = ax[0].scatter(result['initial-date'].values,result['siedco_variance'].values, marker=\".\",color='blue')\n",
    "rnmc = ax[1].scatter(result['initial-date'].values,result['rnmc_variance'].values, marker=\".\",color='red')\n",
    "nuse = ax[2].scatter(result['initial-date'].values,result['nuse_variance'].values, marker=\".\",color='green')\n",
    "multimodal_average = ax[3].scatter(result['initial-date'].values,result['multimodal_average_variance'].values, marker=\".\",color='orange')\n",
    "multimodal_max = ax[4].scatter(result['initial-date'].values,result['multimodal_max_variance'].values, marker=\".\",color='black')\n",
    "ax[0].set_xlim(result['initial-date'].values[0],result['initial-date'].values[-1])\n",
    "ax[0].set_ylim(0,0.0001)\n",
    "ax[0].set_title('SIEDCO risk intensity map variance')\n",
    "ax[1].set_title('RNMC risk intensity map variance')\n",
    "ax[2].set_title('NUSE risk intensity map variance')\n",
    "ax[3].set_title('Multimodal risk intensity map variance (average operator)')\n",
    "ax[4].set_title('Multimodal risk intensity map variance (max operator)')\n",
    "plt.xlabel('Prediction dates')\n",
    "plt.show()"
   ]
  },
  {
   "cell_type": "code",
   "execution_count": 31,
   "metadata": {},
   "outputs": [
    {
     "data": {
      "image/png": "[encoded data removed]",
      "text/plain": [
       "<Figure size 720x360 with 1 Axes>"
      ]
     },
     "metadata": {
      "needs_background": "light"
     },
     "output_type": "display_data"
    }
   ],
   "source": [
    "fig, ax = plt.subplots(figsize=(10,5))\n",
    "siedco = ax.scatter(result['initial-date'].values,result['siedco_variance'].values, marker=\".\",color='blue')\n",
    "rnmc = ax.scatter(result['initial-date'].values,result['rnmc_variance'].values, marker=\".\",color='red')\n",
    "nuse = ax.scatter(result['initial-date'].values,result['nuse_variance'].values, marker=\".\",color='green')\n",
    "multimodal_average = ax.scatter(result['initial-date'].values,result['multimodal_average_variance'].values, marker=\".\",color='orange')\n",
    "multimodal_max = ax.scatter(result['initial-date'].values,result['multimodal_max_variance'].values, marker=\".\",color='black')\n",
    "ax.set_xlim(result['initial-date'].values[0],result['initial-date'].values[-1])\n",
    "ax.set_ylim(0,0.0001)\n",
    "ax.set_title('Risk intensity maps variance')\n",
    "ax.legend((siedco, rnmc, nuse, multimodal_average, multimodal_max),('siedco', 'rnmc', 'nuse', 'multimodal_average', 'multimodal_max'))\n",
    "plt.xlabel('Prediction dates')\n",
    "plt.ylabel('Variance')\n",
    "plt.show()"
   ]
  },
  {
   "cell_type": "markdown",
   "metadata": {},
   "source": [
    "## Hit rate and PAI"
   ]
  },
  {
   "cell_type": "markdown",
   "metadata": {},
   "source": [
    "#### Real percentage of city coverage over rectangular region (based on script experiment_11_1_get_rectangular_city_region):"
   ]
  },
  {
   "cell_type": "code",
   "execution_count": 32,
   "metadata": {},
   "outputs": [],
   "source": [
    "city_percentage_on_region = 0.26"
   ]
  },
  {
   "cell_type": "code",
   "execution_count": 33,
   "metadata": {},
   "outputs": [],
   "source": [
    "## coverages are represented in % (NOT IN PROPORTION)\n",
    "coverages = [2,4,6,8,10,12,14,16,18,20]\n",
    "### this approach is only used to open_cp hit rate implementation method makes sense\n",
    "real_coverages_city = list(map(lambda c: round((c/100)*city_percentage_on_region*100, 1), coverages))"
   ]
  },
  {
   "cell_type": "code",
   "execution_count": 34,
   "metadata": {},
   "outputs": [
    {
     "data": {
      "text/plain": [
       "[0.5, 1.0, 1.6, 2.1, 2.6, 3.1, 3.6, 4.2, 4.7, 5.2]"
      ]
     },
     "execution_count": 34,
     "metadata": {},
     "output_type": "execute_result"
    }
   ],
   "source": [
    "## coverages are represented in % (NOT IN PROPORTION)\n",
    "real_coverages_city"
   ]
  },
  {
   "cell_type": "markdown",
   "metadata": {},
   "source": [
    "### SIEDCO ground truth"
   ]
  },
  {
   "cell_type": "code",
   "execution_count": 35,
   "metadata": {},
   "outputs": [],
   "source": [
    "df_result = result.copy()"
   ]
  },
  {
   "cell_type": "code",
   "execution_count": 36,
   "metadata": {},
   "outputs": [],
   "source": [
    "df_result['hitrate_default'] = df_result.apply(lambda row: prediction_metrics.measure_hit_rates(row['average_prediction'],row['eval_pts_siedco'],real_coverages_city,'default'), axis=1)\n",
    "df_result['hitrate_TP'] = df_result.apply(lambda row: prediction_metrics.measure_hit_rates(row['average_prediction'],row['eval_pts_siedco'],real_coverages_city,'ground_truth_coverage'), axis=1)\n"
   ]
  },
  {
   "cell_type": "code",
   "execution_count": 37,
   "metadata": {},
   "outputs": [],
   "source": [
    "##For hitrate_TP \"true positives\"\n",
    "df_result['coverage_TP'] = df_result.apply(lambda row: (list(row['hitrate_TP'].keys())[0])/city_percentage_on_region, axis=1)\n",
    "df_result['hit_rate_TP'] = df_result.apply(lambda row: list(row['hitrate_TP'].values())[0], axis=1)\n",
    "df_result['PAI_TP'] = df_result['hit_rate_TP'] / (df_result['coverage_TP']/100)"
   ]
  },
  {
   "cell_type": "code",
   "execution_count": 38,
   "metadata": {},
   "outputs": [],
   "source": [
    "##For hitrate_default\n",
    "#coverages = [2.0,4.0,6.0,8.0,10.0,12.0,14.0,16.0,18.0,20.0]\n",
    "column_dict = 'hitrate_default'\n",
    "for c in real_coverages_city:\n",
    "    new_hit_rate_column = 'hit_rate_default_coverage_'+str(round(c/city_percentage_on_region))\n",
    "    df_result[new_hit_rate_column] = df_result.apply(lambda row: get_hit_rate_from_dict(row,column_dict,c), axis=1)\n",
    "\n",
    "    ##PAI\n",
    "    new_column = 'PAI_default_coverage_'+str(round(c/city_percentage_on_region))\n",
    "    df_result[new_column] = df_result[new_hit_rate_column]/(round(c/city_percentage_on_region)/100)\n"
   ]
  },
  {
   "cell_type": "code",
   "execution_count": 39,
   "metadata": {},
   "outputs": [
    {
     "name": "stdout",
     "output_type": "stream",
     "text": [
      "siedco_variance                   0.000028\n",
      "rnmc_variance                     0.000047\n",
      "nuse_variance                     0.000018\n",
      "multimodal_average_variance       0.000014\n",
      "multimodal_max_variance           0.000047\n",
      "coverage_TP                       0.020564\n",
      "hit_rate_TP                       0.023541\n",
      "PAI_TP                          147.308426\n",
      "hit_rate_default_coverage_2       0.265663\n",
      "PAI_default_coverage_2           13.283166\n",
      "hit_rate_default_coverage_4       0.422466\n",
      "PAI_default_coverage_4           10.561642\n",
      "hit_rate_default_coverage_6       0.548128\n",
      "PAI_default_coverage_6            9.135473\n",
      "hit_rate_default_coverage_8       0.651307\n",
      "PAI_default_coverage_8            8.141343\n",
      "hit_rate_default_coverage_10      0.726994\n",
      "PAI_default_coverage_10           7.269942\n",
      "hit_rate_default_coverage_12      0.803924\n",
      "PAI_default_coverage_12           6.699370\n",
      "hit_rate_default_coverage_14      0.851634\n",
      "PAI_default_coverage_14           6.083101\n",
      "hit_rate_default_coverage_16      0.874887\n",
      "PAI_default_coverage_16           5.468042\n",
      "hit_rate_default_coverage_18      0.874887\n",
      "PAI_default_coverage_18           4.860482\n",
      "hit_rate_default_coverage_20      0.874887\n",
      "PAI_default_coverage_20           4.374434\n",
      "dtype: float64\n"
     ]
    }
   ],
   "source": [
    "#delete datetimes where no crimes were reported (0 crimes on ground truth -> hit-rate = -1)\n",
    "df_result = df_result[df_result['hit_rate_default_coverage_2']!= -1]\n",
    "print(df_result.mean())"
   ]
  },
  {
   "cell_type": "code",
   "execution_count": 40,
   "metadata": {},
   "outputs": [
    {
     "data": {
      "image/png": "[encoded data removed]",
      "text/plain": [
       "<Figure size 720x360 with 1 Axes>"
      ]
     },
     "metadata": {
      "needs_background": "light"
     },
     "output_type": "display_data"
    }
   ],
   "source": [
    "fig, ax = plt.subplots(figsize=(10,5))\n",
    "ax.scatter(df_result['initial-date'].values, df_result['hit_rate_default_coverage_10'].values, marker=\".\",color='blue')\n",
    "ax.set_xlim(df_result['initial-date'].values[0], df_result['initial-date'].values[-1])\n",
    "ax.set_title('Hit rate (coverage 10%)')\n",
    "plt.xlabel('Prediction dates')\n",
    "plt.ylabel('Hit rate')\n",
    "plt.show()"
   ]
  },
  {
   "cell_type": "code",
   "execution_count": 41,
   "metadata": {},
   "outputs": [
    {
     "data": {
      "image/png": "[encoded data removed]",
      "text/plain": [
       "<Figure size 720x360 with 1 Axes>"
      ]
     },
     "metadata": {
      "needs_background": "light"
     },
     "output_type": "display_data"
    }
   ],
   "source": [
    "fig, ax = plt.subplots(figsize=(10,5))\n",
    "ax.scatter(df_result['initial-date'].values, df_result['PAI_default_coverage_10'].values, marker=\".\",color='red')\n",
    "ax.set_xlim(df_result['initial-date'].values[0], df_result['initial-date'].values[-1])\n",
    "ax.set_title('PAI (coverage 10%)')\n",
    "plt.xlabel('Prediction dates')\n",
    "plt.ylabel('PAI')\n",
    "plt.show()"
   ]
  },
  {
   "cell_type": "markdown",
   "metadata": {},
   "source": [
    "### RNMC ground truth"
   ]
  },
  {
   "cell_type": "code",
   "execution_count": 42,
   "metadata": {},
   "outputs": [],
   "source": [
    "df_result = result.copy()"
   ]
  },
  {
   "cell_type": "code",
   "execution_count": 43,
   "metadata": {},
   "outputs": [],
   "source": [
    "df_result['hitrate_default'] = df_result.apply(lambda row: prediction_metrics.measure_hit_rates(row['average_prediction'],row['eval_pts_rnmc'],real_coverages_city,'default'), axis=1)\n",
    "df_result['hitrate_TP'] = df_result.apply(lambda row: prediction_metrics.measure_hit_rates(row['average_prediction'],row['eval_pts_rnmc'],real_coverages_city,'ground_truth_coverage'), axis=1)\n"
   ]
  },
  {
   "cell_type": "code",
   "execution_count": 44,
   "metadata": {},
   "outputs": [],
   "source": [
    "##For hitrate_TP \"true positives\"\n",
    "df_result['coverage_TP'] = df_result.apply(lambda row: (list(row['hitrate_TP'].keys())[0])/city_percentage_on_region, axis=1)\n",
    "df_result['hit_rate_TP'] = df_result.apply(lambda row: list(row['hitrate_TP'].values())[0], axis=1)\n",
    "df_result['PAI_TP'] = df_result['hit_rate_TP'] / (df_result['coverage_TP']/100)"
   ]
  },
  {
   "cell_type": "code",
   "execution_count": 45,
   "metadata": {},
   "outputs": [],
   "source": [
    "##For hitrate_default\n",
    "#coverages = [2.0,4.0,6.0,8.0,10.0,12.0,14.0,16.0,18.0,20.0]\n",
    "column_dict = 'hitrate_default'\n",
    "for c in real_coverages_city:\n",
    "    new_hit_rate_column = 'hit_rate_default_coverage_'+str(round(c/city_percentage_on_region))\n",
    "    df_result[new_hit_rate_column] = df_result.apply(lambda row: get_hit_rate_from_dict(row,column_dict,c), axis=1)\n",
    "\n",
    "    ##PAI\n",
    "    new_column = 'PAI_default_coverage_'+str(round(c/city_percentage_on_region))\n",
    "    df_result[new_column] = df_result[new_hit_rate_column]/(round(c/city_percentage_on_region)/100)\n"
   ]
  },
  {
   "cell_type": "code",
   "execution_count": 46,
   "metadata": {
    "scrolled": false
   },
   "outputs": [
    {
     "name": "stdout",
     "output_type": "stream",
     "text": [
      "siedco_variance                  0.000028\n",
      "rnmc_variance                    0.000047\n",
      "nuse_variance                    0.000018\n",
      "multimodal_average_variance      0.000014\n",
      "multimodal_max_variance          0.000047\n",
      "coverage_TP                      0.124019\n",
      "hit_rate_TP                      0.107693\n",
      "PAI_TP                          88.318215\n",
      "hit_rate_default_coverage_2      0.433587\n",
      "PAI_default_coverage_2          21.679327\n",
      "hit_rate_default_coverage_4      0.598070\n",
      "PAI_default_coverage_4          14.951761\n",
      "hit_rate_default_coverage_6      0.757652\n",
      "PAI_default_coverage_6          12.627533\n",
      "hit_rate_default_coverage_8      0.822752\n",
      "PAI_default_coverage_8          10.284400\n",
      "hit_rate_default_coverage_10     0.883654\n",
      "PAI_default_coverage_10          8.836539\n",
      "hit_rate_default_coverage_12     0.919565\n",
      "PAI_default_coverage_12          7.663045\n",
      "hit_rate_default_coverage_14     0.938684\n",
      "PAI_default_coverage_14          6.704884\n",
      "hit_rate_default_coverage_16     0.949142\n",
      "PAI_default_coverage_16          5.932135\n",
      "hit_rate_default_coverage_18     0.949142\n",
      "PAI_default_coverage_18          5.273009\n",
      "hit_rate_default_coverage_20     0.949142\n",
      "PAI_default_coverage_20          4.745708\n",
      "dtype: float64\n"
     ]
    }
   ],
   "source": [
    "#delete datetimes where no crimes were reported (0 crimes on ground truth -> hit-rate = -1)\n",
    "df_result = df_result[df_result['hit_rate_default_coverage_2']!= -1]\n",
    "print(df_result.mean())"
   ]
  },
  {
   "cell_type": "code",
   "execution_count": 47,
   "metadata": {},
   "outputs": [
    {
     "data": {
      "image/png": "[encoded data removed]",
      "text/plain": [
       "<Figure size 720x360 with 1 Axes>"
      ]
     },
     "metadata": {
      "needs_background": "light"
     },
     "output_type": "display_data"
    }
   ],
   "source": [
    "fig, ax = plt.subplots(figsize=(10,5))\n",
    "ax.scatter(df_result['initial-date'].values, df_result['hit_rate_default_coverage_10'].values, marker=\".\",color='blue')\n",
    "ax.set_xlim(df_result['initial-date'].values[0], df_result['initial-date'].values[-1])\n",
    "ax.set_title('Hit rate (coverage 10%)')\n",
    "plt.xlabel('Prediction dates')\n",
    "plt.ylabel('Hit rate')\n",
    "plt.show()"
   ]
  },
  {
   "cell_type": "code",
   "execution_count": 48,
   "metadata": {},
   "outputs": [
    {
     "data": {
      "image/png": "[encoded data removed]",
      "text/plain": [
       "<Figure size 720x360 with 1 Axes>"
      ]
     },
     "metadata": {
      "needs_background": "light"
     },
     "output_type": "display_data"
    }
   ],
   "source": [
    "fig, ax = plt.subplots(figsize=(10,5))\n",
    "ax.scatter(df_result['initial-date'].values, df_result['PAI_default_coverage_10'].values, marker=\".\",color='red')\n",
    "ax.set_xlim(df_result['initial-date'].values[0], df_result['initial-date'].values[-1])\n",
    "ax.set_title('PAI (coverage 10%)')\n",
    "plt.xlabel('Prediction dates')\n",
    "plt.ylabel('PAI')\n",
    "plt.show()"
   ]
  },
  {
   "cell_type": "markdown",
   "metadata": {},
   "source": [
    "### NUSE ground truth"
   ]
  },
  {
   "cell_type": "code",
   "execution_count": 49,
   "metadata": {},
   "outputs": [],
   "source": [
    "df_result = result.copy()"
   ]
  },
  {
   "cell_type": "code",
   "execution_count": 50,
   "metadata": {},
   "outputs": [],
   "source": [
    "df_result['hitrate_default'] = df_result.apply(lambda row: prediction_metrics.measure_hit_rates(row['average_prediction'],row['eval_pts_nuse'],real_coverages_city,'default'), axis=1)\n",
    "df_result['hitrate_TP'] = df_result.apply(lambda row: prediction_metrics.measure_hit_rates(row['average_prediction'],row['eval_pts_nuse'],real_coverages_city,'ground_truth_coverage'), axis=1)\n"
   ]
  },
  {
   "cell_type": "code",
   "execution_count": 51,
   "metadata": {},
   "outputs": [],
   "source": [
    "##For hitrate_TP \"true positives\"\n",
    "df_result['coverage_TP'] = df_result.apply(lambda row: (list(row['hitrate_TP'].keys())[0])/city_percentage_on_region, axis=1)\n",
    "df_result['hit_rate_TP'] = df_result.apply(lambda row: list(row['hitrate_TP'].values())[0], axis=1)\n",
    "df_result['PAI_TP'] = df_result['hit_rate_TP'] / (df_result['coverage_TP']/100)"
   ]
  },
  {
   "cell_type": "code",
   "execution_count": 52,
   "metadata": {},
   "outputs": [],
   "source": [
    "##For hitrate_default\n",
    "#coverages = [2.0,4.0,6.0,8.0,10.0,12.0,14.0,16.0,18.0,20.0]\n",
    "column_dict = 'hitrate_default'\n",
    "for c in real_coverages_city:\n",
    "    new_hit_rate_column = 'hit_rate_default_coverage_'+str(round(c/city_percentage_on_region))\n",
    "    df_result[new_hit_rate_column] = df_result.apply(lambda row: get_hit_rate_from_dict(row,column_dict,c), axis=1)\n",
    "\n",
    "    ##PAI\n",
    "    new_column = 'PAI_default_coverage_'+str(round(c/city_percentage_on_region))\n",
    "    df_result[new_column] = df_result[new_hit_rate_column]/(round(c/city_percentage_on_region)/100)\n"
   ]
  },
  {
   "cell_type": "code",
   "execution_count": 53,
   "metadata": {
    "scrolled": false
   },
   "outputs": [
    {
     "name": "stdout",
     "output_type": "stream",
     "text": [
      "siedco_variance                  0.000028\n",
      "rnmc_variance                    0.000047\n",
      "nuse_variance                    0.000018\n",
      "multimodal_average_variance      0.000014\n",
      "multimodal_max_variance          0.000047\n",
      "coverage_TP                      0.365678\n",
      "hit_rate_TP                      0.101395\n",
      "PAI_TP                          31.709312\n",
      "hit_rate_default_coverage_2      0.271355\n",
      "PAI_default_coverage_2          13.567731\n",
      "hit_rate_default_coverage_4      0.407541\n",
      "PAI_default_coverage_4          10.188530\n",
      "hit_rate_default_coverage_6      0.597442\n",
      "PAI_default_coverage_6           9.957364\n",
      "hit_rate_default_coverage_8      0.719034\n",
      "PAI_default_coverage_8           8.987928\n",
      "hit_rate_default_coverage_10     0.791507\n",
      "PAI_default_coverage_10          7.915074\n",
      "hit_rate_default_coverage_12     0.878910\n",
      "PAI_default_coverage_12          7.324253\n",
      "hit_rate_default_coverage_14     0.934152\n",
      "PAI_default_coverage_14          6.672511\n",
      "hit_rate_default_coverage_16     0.948344\n",
      "PAI_default_coverage_16          5.927149\n",
      "hit_rate_default_coverage_18     0.948344\n",
      "PAI_default_coverage_18          5.268577\n",
      "hit_rate_default_coverage_20     0.948344\n",
      "PAI_default_coverage_20          4.741719\n",
      "dtype: float64\n"
     ]
    }
   ],
   "source": [
    "#delete datetimes where no crimes were reported (0 crimes on ground truth -> hit-rate = -1)\n",
    "df_result = df_result[df_result['hit_rate_default_coverage_2']!= -1]\n",
    "print(df_result.mean())"
   ]
  },
  {
   "cell_type": "code",
   "execution_count": 54,
   "metadata": {},
   "outputs": [
    {
     "data": {
      "image/png": "[encoded data removed]",
      "text/plain": [
       "<Figure size 720x360 with 1 Axes>"
      ]
     },
     "metadata": {
      "needs_background": "light"
     },
     "output_type": "display_data"
    }
   ],
   "source": [
    "fig, ax = plt.subplots(figsize=(10,5))\n",
    "ax.scatter(df_result['initial-date'].values, df_result['hit_rate_default_coverage_10'].values, marker=\".\",color='blue')\n",
    "ax.set_xlim(df_result['initial-date'].values[0], df_result['initial-date'].values[-1])\n",
    "ax.set_title('Hit rate (coverage 10%)')\n",
    "plt.xlabel('Prediction dates')\n",
    "plt.ylabel('Hit rate')\n",
    "plt.show()"
   ]
  },
  {
   "cell_type": "code",
   "execution_count": 55,
   "metadata": {},
   "outputs": [
    {
     "data": {
      "image/png": "[encoded data removed]",
      "text/plain": [
       "<Figure size 720x360 with 1 Axes>"
      ]
     },
     "metadata": {
      "needs_background": "light"
     },
     "output_type": "display_data"
    }
   ],
   "source": [
    "fig, ax = plt.subplots(figsize=(10,5))\n",
    "ax.scatter(df_result['initial-date'].values, df_result['PAI_default_coverage_10'].values, marker=\".\",color='red')\n",
    "ax.set_xlim(df_result['initial-date'].values[0], df_result['initial-date'].values[-1])\n",
    "ax.set_title('PAI (coverage 10%)')\n",
    "plt.xlabel('Prediction dates')\n",
    "plt.ylabel('PAI')\n",
    "plt.show()"
   ]
  },
  {
   "cell_type": "code",
   "execution_count": null,
   "metadata": {},
   "outputs": [],
   "source": []
  }
 ],
 "metadata": {
  "kernelspec": {
   "display_name": "Python 3",
   "language": "python",
   "name": "python3"
  },
  "language_info": {
   "codemirror_mode": {
    "name": "ipython",
    "version": 3
   },
   "file_extension": ".py",
   "mimetype": "text/x-python",
   "name": "python",
   "nbconvert_exporter": "python",
   "pygments_lexer": "ipython3",
   "version": "3.7.2"
  }
 },
 "nbformat": 4,
 "nbformat_minor": 2
}
