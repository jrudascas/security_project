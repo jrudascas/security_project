{
 "cells": [
  {
   "cell_type": "markdown",
   "metadata": {},
   "source": [
    "## Parameters\n",
    "- model = SEPPexp: simplified SEPP (with 'self-excitation' only in time)\n",
    "- train_base 1 = (2015-01-01 a 2016-12-30)\n",
    "- train_base 2 = (2015-01-01 to 2017-01-01), NOTE: simulation for this date interval took about one day without results...\n",
    "- db = SIEDCO\n",
    "- spatial scope: localidad Santa Fe\n",
    "\n",
    "Method:\n",
    "*Implement 10 realizations with train_base 1 and 10 realizations with train_base 2\n"
   ]
  },
  {
   "cell_type": "markdown",
   "metadata": {},
   "source": [
    "## Hypothesis:\n",
    "The model does not converge consistently in Santa Fe using as a training dataset (2015-01-01 to 2017-01-01); while it converges consistently for (2015-01-01 to 2016-12-21)."
   ]
  },
  {
   "cell_type": "code",
   "execution_count": 1,
   "metadata": {},
   "outputs": [],
   "source": [
    "import pandas as pd\n",
    "import matplotlib.pyplot as plt\n",
    "import sys\n",
    "sys.path.append(\"..\")\n",
    "from services.prediction_experiment import PredictionExperiment"
   ]
  },
  {
   "cell_type": "code",
   "execution_count": 2,
   "metadata": {},
   "outputs": [],
   "source": [
    "def get_value(row,c):\n",
    "    return row['Hit-rates'][c]"
   ]
  },
  {
   "cell_type": "markdown",
   "metadata": {},
   "source": [
    "## SIEDCO"
   ]
  },
  {
   "cell_type": "code",
   "execution_count": 3,
   "metadata": {},
   "outputs": [],
   "source": [
    "csv_path = '/u01/user8/Documents/Riñas/datasets/deduplicate_siedco_10032020.csv'\n",
    "siedco_info = {'name':'SIEDCO','path':csv_path}"
   ]
  },
  {
   "cell_type": "code",
   "execution_count": 4,
   "metadata": {},
   "outputs": [],
   "source": [
    "filter_localidad = {'field':'LOCALIDAD','value':'SANTA FE'}\n",
    "model = \"SEPPexp\"\n",
    "metrics = ''\n",
    "aggregation = ''"
   ]
  },
  {
   "cell_type": "markdown",
   "metadata": {},
   "source": [
    "## First train dataset: (2015-01-01 to 2016-12-30)\n"
   ]
  },
  {
   "cell_type": "code",
   "execution_count": 6,
   "metadata": {},
   "outputs": [
    {
     "name": "stdout",
     "output_type": "stream",
     "text": [
      "train_subset_dates {'initial': datetime.datetime(2015, 1, 1, 0, 0), 'final': datetime.datetime(2016, 12, 30, 0, 0)}\n",
      "current_validation_date 2016-12-30 00:00:00\n",
      "1265\n",
      "successful model convergence\n",
      "train_subset_dates {'initial': datetime.datetime(2015, 1, 1, 0, 0), 'final': datetime.datetime(2016, 12, 30, 0, 0)}\n",
      "current_validation_date 2016-12-30 00:00:00\n",
      "1265\n",
      "successful model convergence\n",
      "train_subset_dates {'initial': datetime.datetime(2015, 1, 1, 0, 0), 'final': datetime.datetime(2016, 12, 30, 0, 0)}\n",
      "current_validation_date 2016-12-30 00:00:00\n",
      "1265\n",
      "successful model convergence\n",
      "train_subset_dates {'initial': datetime.datetime(2015, 1, 1, 0, 0), 'final': datetime.datetime(2016, 12, 30, 0, 0)}\n",
      "current_validation_date 2016-12-30 00:00:00\n",
      "1265\n",
      "successful model convergence\n",
      "train_subset_dates {'initial': datetime.datetime(2015, 1, 1, 0, 0), 'final': datetime.datetime(2016, 12, 30, 0, 0)}\n",
      "current_validation_date 2016-12-30 00:00:00\n",
      "1265\n",
      "successful model convergence\n",
      "train_subset_dates {'initial': datetime.datetime(2015, 1, 1, 0, 0), 'final': datetime.datetime(2016, 12, 30, 0, 0)}\n",
      "current_validation_date 2016-12-30 00:00:00\n",
      "1265\n",
      "successful model convergence\n",
      "train_subset_dates {'initial': datetime.datetime(2015, 1, 1, 0, 0), 'final': datetime.datetime(2016, 12, 30, 0, 0)}\n",
      "current_validation_date 2016-12-30 00:00:00\n",
      "1265\n",
      "successful model convergence\n",
      "train_subset_dates {'initial': datetime.datetime(2015, 1, 1, 0, 0), 'final': datetime.datetime(2016, 12, 30, 0, 0)}\n",
      "current_validation_date 2016-12-30 00:00:00\n",
      "1265\n",
      "successful model convergence\n",
      "train_subset_dates {'initial': datetime.datetime(2015, 1, 1, 0, 0), 'final': datetime.datetime(2016, 12, 30, 0, 0)}\n",
      "current_validation_date 2016-12-30 00:00:00\n",
      "1265\n",
      "successful model convergence\n",
      "train_subset_dates {'initial': datetime.datetime(2015, 1, 1, 0, 0), 'final': datetime.datetime(2016, 12, 30, 0, 0)}\n",
      "current_validation_date 2016-12-30 00:00:00\n",
      "1265\n",
      "successful model convergence\n"
     ]
    }
   ],
   "source": [
    "for i in range(0,10):\n",
    "    train_dates = {'initial':'2015-01-01','final':'2016-12-30'}\n",
    "    validation_dates = {'initial':'2016-12-30','final':'2016-12-30'}\n",
    "    santa_fe_experiment = PredictionExperiment(dataset_info=siedco_info, custom_filter=filter_localidad,train_dates=train_dates, validation_dates=validation_dates, model=model,metrics='',aggregation_data='')\n",
    "    accuracy_array = santa_fe_experiment.run_ncv_experiment(time_unit='',grid_size=150, outer_iterations='')\n",
    "    print('successful model convergence')"
   ]
  },
  {
   "cell_type": "markdown",
   "metadata": {},
   "source": [
    "## Second train dataset: (2015-01-01 to 2017-01-01)\n"
   ]
  },
  {
   "cell_type": "code",
   "execution_count": 7,
   "metadata": {},
   "outputs": [
    {
     "name": "stdout",
     "output_type": "stream",
     "text": [
      "train_subset_dates {'initial': datetime.datetime(2015, 1, 1, 0, 0), 'final': datetime.datetime(2017, 1, 1, 0, 0)}\n",
      "current_validation_date 2017-01-01 00:00:00\n",
      "1272\n",
      "successful model convergence\n",
      "train_subset_dates {'initial': datetime.datetime(2015, 1, 1, 0, 0), 'final': datetime.datetime(2017, 1, 1, 0, 0)}\n",
      "current_validation_date 2017-01-01 00:00:00\n",
      "1272\n",
      "successful model convergence\n",
      "train_subset_dates {'initial': datetime.datetime(2015, 1, 1, 0, 0), 'final': datetime.datetime(2017, 1, 1, 0, 0)}\n",
      "current_validation_date 2017-01-01 00:00:00\n",
      "1272\n",
      "successful model convergence\n",
      "train_subset_dates {'initial': datetime.datetime(2015, 1, 1, 0, 0), 'final': datetime.datetime(2017, 1, 1, 0, 0)}\n",
      "current_validation_date 2017-01-01 00:00:00\n",
      "1272\n",
      "successful model convergence\n",
      "train_subset_dates {'initial': datetime.datetime(2015, 1, 1, 0, 0), 'final': datetime.datetime(2017, 1, 1, 0, 0)}\n",
      "current_validation_date 2017-01-01 00:00:00\n",
      "1272\n",
      "successful model convergence\n",
      "train_subset_dates {'initial': datetime.datetime(2015, 1, 1, 0, 0), 'final': datetime.datetime(2017, 1, 1, 0, 0)}\n",
      "current_validation_date 2017-01-01 00:00:00\n",
      "1272\n",
      "successful model convergence\n",
      "train_subset_dates {'initial': datetime.datetime(2015, 1, 1, 0, 0), 'final': datetime.datetime(2017, 1, 1, 0, 0)}\n",
      "current_validation_date 2017-01-01 00:00:00\n",
      "1272\n",
      "successful model convergence\n",
      "train_subset_dates {'initial': datetime.datetime(2015, 1, 1, 0, 0), 'final': datetime.datetime(2017, 1, 1, 0, 0)}\n",
      "current_validation_date 2017-01-01 00:00:00\n",
      "1272\n",
      "successful model convergence\n",
      "train_subset_dates {'initial': datetime.datetime(2015, 1, 1, 0, 0), 'final': datetime.datetime(2017, 1, 1, 0, 0)}\n",
      "current_validation_date 2017-01-01 00:00:00\n",
      "1272\n",
      "successful model convergence\n",
      "train_subset_dates {'initial': datetime.datetime(2015, 1, 1, 0, 0), 'final': datetime.datetime(2017, 1, 1, 0, 0)}\n",
      "current_validation_date 2017-01-01 00:00:00\n",
      "1272\n",
      "successful model convergence\n"
     ]
    }
   ],
   "source": [
    "train_dates = {'initial':'2015-01-01','final':'2017-01-01'}\n",
    "validation_dates = {'initial':'2017-01-01','final':'2017-01-01'}\n",
    "for i in range(0,10):\n",
    "    santa_fe_experiment = PredictionExperiment(dataset_info=siedco_info, custom_filter=filter_localidad,train_dates=train_dates, validation_dates=validation_dates, model=model,metrics='',aggregation_data='')\n",
    "    try:\n",
    "        accuracy_array = santa_fe_experiment.run_ncv_experiment(time_unit='',grid_size=150, outer_iterations='')\n",
    "        print(\"successful model convergence\")\n",
    "    except:\n",
    "        print(\"convergence fail!\")"
   ]
  },
  {
   "cell_type": "code",
   "execution_count": null,
   "metadata": {},
   "outputs": [],
   "source": []
  }
 ],
 "metadata": {
  "kernelspec": {
   "display_name": "Python 3",
   "language": "python",
   "name": "python3"
  },
  "language_info": {
   "codemirror_mode": {
    "name": "ipython",
    "version": 3
   },
   "file_extension": ".py",
   "mimetype": "text/x-python",
   "name": "python",
   "nbconvert_exporter": "python",
   "pygments_lexer": "ipython3",
   "version": "3.7.4"
  }
 },
 "nbformat": 4,
 "nbformat_minor": 2
}
