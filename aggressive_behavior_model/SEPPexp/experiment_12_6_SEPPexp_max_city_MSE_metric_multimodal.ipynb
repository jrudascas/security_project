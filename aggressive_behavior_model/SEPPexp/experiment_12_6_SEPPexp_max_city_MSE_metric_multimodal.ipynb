{
 "cells": [
  {
   "cell_type": "markdown",
   "metadata": {},
   "source": [
    "## Method\n",
    "*Similar to experiment_12_2 but add MSE measure\n",
    "- Normalize prediction risk maps (0, 1)\n",
    "- Get maximum prediction risk map based on risk matrix obtained from different DB (experiment_10_2_SEPPexp...)\n",
    "- Measure hit rate, PAI and MSE considering different ground truth scenarios:\n",
    "    1. SIEDCO\n",
    "    2. RNMC\n",
    "    3. NUSE"
   ]
  },
  {
   "cell_type": "markdown",
   "metadata": {},
   "source": [
    "## Hypothesis: \n",
    "MSE between multimodal prediction (using maximum operator) and ground truth maps (by DB) is higher than MSEs obtained on unimodal scenario but lower than multimodal-average results."
   ]
  },
  {
   "cell_type": "code",
   "execution_count": 1,
   "metadata": {},
   "outputs": [],
   "source": [
    "import pandas as pd\n",
    "import matplotlib.pyplot as plt\n",
    "import numpy as np\n",
    "import sys\n",
    "sys.path.append(\"..\")\n",
    "import geojson\n",
    "from shapely.geometry import Point\n",
    "from shapely.geometry.polygon import Polygon\n",
    "from pyproj import Proj, transform\n",
    "import pickle\n",
    "import open_cp"
   ]
  },
  {
   "cell_type": "code",
   "execution_count": 2,
   "metadata": {},
   "outputs": [
    {
     "name": "stderr",
     "output_type": "stream",
     "text": [
      "Failed to import `rtree`.\n",
      "Failed to import `rtree`.\n"
     ]
    }
   ],
   "source": [
    "from services import prediction_metrics\n",
    "from services.prediction_experiment import PredictionExperiment\n",
    "from services.process_data import ProcessData"
   ]
  },
  {
   "cell_type": "markdown",
   "metadata": {},
   "source": [
    "## Built-in"
   ]
  },
  {
   "cell_type": "code",
   "execution_count": 3,
   "metadata": {},
   "outputs": [],
   "source": [
    "def get_hit_rate_from_dict(row,column,coverage):\n",
    "    return row[column][coverage]"
   ]
  },
  {
   "cell_type": "code",
   "execution_count": 4,
   "metadata": {},
   "outputs": [],
   "source": [
    "def average_grid_prediction(row):\n",
    "    xoffset_avg = (row['prediction_siedco']._xoffset + row['prediction_rnmc']._xoffset + row['prediction_nuse']._xoffset)/3\n",
    "    yoffset_avg = (row['prediction_siedco']._yoffset + row['prediction_rnmc']._yoffset + row['prediction_nuse']._yoffset)/3\n",
    "    xsize_avg = (row['prediction_siedco']._xsize + row['prediction_rnmc']._xsize + row['prediction_nuse']._xsize)/3\n",
    "    ysize_avg = (row['prediction_siedco']._ysize + row['prediction_rnmc']._ysize + row['prediction_nuse']._ysize)/3\n",
    "    matrix_avg = (row['prediction_siedco']._matrix + row['prediction_rnmc']._matrix + row['prediction_nuse']._matrix)/3\n",
    "    return open_cp.predictors.GridPredictionArray(xsize=xsize_avg,ysize=ysize_avg,matrix=matrix_avg,xoffset=xoffset_avg,yoffset=yoffset_avg)"
   ]
  },
  {
   "cell_type": "code",
   "execution_count": 5,
   "metadata": {},
   "outputs": [],
   "source": [
    "import operator\n",
    "\n",
    "def maximum_grid_prediction(row):\n",
    "    max_intensity = {}\n",
    "    max_intensity['siedco']=np.sum(row['prediction_siedco']._matrix)\n",
    "    max_intensity['rnmc']=np.sum(row['prediction_rnmc']._matrix)\n",
    "    max_intensity['nuse']=np.sum(row['prediction_nuse']._matrix)\n",
    "    key_max_intensity = max(max_intensity.items(), key=operator.itemgetter(1))[0]\n",
    "    \n",
    "    column = 'prediction_'+str(key_max_intensity)\n",
    "    xoffset_max = row[column]._xoffset\n",
    "    yoffset_max = row[column]._yoffset\n",
    "    xsize_max = row[column]._xsize\n",
    "    ysize_max = row[column]._ysize\n",
    "    matrix_max = row[column]._matrix\n",
    "    return open_cp.predictors.GridPredictionArray(xsize=xsize_max,ysize=ysize_max,matrix=matrix_max,xoffset=xoffset_max,yoffset=yoffset_max)\n"
   ]
  },
  {
   "cell_type": "code",
   "execution_count": 6,
   "metadata": {},
   "outputs": [],
   "source": [
    "def normalize_grid_prediction(row, column_name):\n",
    "    xoffset = row[column_name]._xoffset\n",
    "    yoffset = row[column_name]._yoffset\n",
    "    xsize = row[column_name]._xsize\n",
    "    ysize = row[column_name]._ysize\n",
    "    matrix_norm = row[column_name]._matrix.copy()\n",
    "    # Uses 1 division and matix.size multiplications, multiplication is faster than division\n",
    "    matrix_norm *= 1/row[column_name]._matrix.max()\n",
    "    return open_cp.predictors.GridPredictionArray(xsize=xsize,ysize=ysize,matrix=matrix_norm,xoffset=xoffset,yoffset=yoffset)\n",
    "    "
   ]
  },
  {
   "cell_type": "markdown",
   "metadata": {},
   "source": [
    "## Load prediction results"
   ]
  },
  {
   "cell_type": "code",
   "execution_count": 7,
   "metadata": {},
   "outputs": [],
   "source": [
    "infile = open('/Users/anamaria/Desktop/dev/security_project/aggressive_behavior_model/pkl/experiment_seppexp_10_2_siedco_prediction.pkl','rb')\n",
    "loaded_siedco = pickle.load(infile)\n",
    "infile.close()"
   ]
  },
  {
   "cell_type": "code",
   "execution_count": 8,
   "metadata": {},
   "outputs": [],
   "source": [
    "infile = open('/Users/anamaria/Desktop/dev/security_project/aggressive_behavior_model/pkl/experiment_seppexp_10_2_rnmc_prediction.pkl','rb')\n",
    "loaded_rnmc = pickle.load(infile)\n",
    "infile.close()"
   ]
  },
  {
   "cell_type": "code",
   "execution_count": 9,
   "metadata": {},
   "outputs": [],
   "source": [
    "infile = open('/Users/anamaria/Desktop/dev/security_project/aggressive_behavior_model/pkl/experiment_seppexp_10_2_nuse_prediction.pkl','rb')\n",
    "loaded_nuse = pickle.load(infile)\n",
    "infile.close()"
   ]
  },
  {
   "cell_type": "markdown",
   "metadata": {},
   "source": [
    "## Normalize prediction intensity risk maps"
   ]
  },
  {
   "cell_type": "code",
   "execution_count": 10,
   "metadata": {},
   "outputs": [],
   "source": [
    "loaded_siedco['prediction_normalized'] = loaded_siedco.apply(lambda row: normalize_grid_prediction(row,'prediction'), axis=1)\n",
    "loaded_rnmc['prediction_normalized'] = loaded_rnmc.apply(lambda row: normalize_grid_prediction(row,'prediction'), axis=1)\n",
    "loaded_nuse['prediction_normalized'] = loaded_nuse.apply(lambda row: normalize_grid_prediction(row,'prediction'), axis=1)\n"
   ]
  },
  {
   "cell_type": "markdown",
   "metadata": {},
   "source": [
    "## Compute maximum prediction"
   ]
  },
  {
   "cell_type": "code",
   "execution_count": 11,
   "metadata": {},
   "outputs": [],
   "source": [
    "loaded_siedco = loaded_siedco.rename(columns={'prediction_normalized': 'prediction_siedco', 'eval_pts': 'eval_pts_siedco'})\n",
    "loaded_rnmc = loaded_rnmc.rename(columns={'prediction_normalized': 'prediction_rnmc', 'eval_pts': 'eval_pts_rnmc'})\n",
    "loaded_nuse = loaded_nuse.rename(columns={'prediction_normalized': 'prediction_nuse', 'eval_pts': 'eval_pts_nuse'})"
   ]
  },
  {
   "cell_type": "code",
   "execution_count": 12,
   "metadata": {},
   "outputs": [],
   "source": [
    "result = pd.concat([loaded_siedco, loaded_rnmc, loaded_nuse], axis=1)"
   ]
  },
  {
   "cell_type": "code",
   "execution_count": 13,
   "metadata": {},
   "outputs": [],
   "source": [
    "result['max_prediction'] = result.apply(lambda row: maximum_grid_prediction(row), axis=1)"
   ]
  },
  {
   "cell_type": "markdown",
   "metadata": {},
   "source": [
    "## Hit rate, PAI and MSE"
   ]
  },
  {
   "cell_type": "markdown",
   "metadata": {},
   "source": [
    "#### Real percentage of city coverage over rectangular region (based on script experiment_11_1_get_rectangular_city_region):"
   ]
  },
  {
   "cell_type": "code",
   "execution_count": 14,
   "metadata": {},
   "outputs": [],
   "source": [
    "city_percentage_on_region = 0.26"
   ]
  },
  {
   "cell_type": "code",
   "execution_count": 15,
   "metadata": {},
   "outputs": [],
   "source": [
    "## coverages are represented in % (NOT IN PROPORTION)\n",
    "coverages = [2,4,6,8,10,12,14,16,18,20]\n",
    "### this approach is only used to open_cp hit rate implementation method makes sense\n",
    "real_coverages_city = list(map(lambda c: round((c/100)*city_percentage_on_region*100, 1), coverages))"
   ]
  },
  {
   "cell_type": "code",
   "execution_count": 16,
   "metadata": {},
   "outputs": [
    {
     "data": {
      "text/plain": [
       "[0.5, 1.0, 1.6, 2.1, 2.6, 3.1, 3.6, 4.2, 4.7, 5.2]"
      ]
     },
     "execution_count": 16,
     "metadata": {},
     "output_type": "execute_result"
    }
   ],
   "source": [
    "## coverages are represented in % (NOT IN PROPORTION)\n",
    "real_coverages_city"
   ]
  },
  {
   "cell_type": "markdown",
   "metadata": {},
   "source": [
    "### SIEDCO ground truth"
   ]
  },
  {
   "cell_type": "code",
   "execution_count": 17,
   "metadata": {},
   "outputs": [],
   "source": [
    "df_result = result.copy()"
   ]
  },
  {
   "cell_type": "code",
   "execution_count": 18,
   "metadata": {},
   "outputs": [],
   "source": [
    "df_result['hitrate_default'] = df_result.apply(lambda row: prediction_metrics.measure_hit_rates(row['max_prediction'],row['eval_pts_siedco'],real_coverages_city,'default'), axis=1)\n",
    "df_result['hitrate_TP'] = df_result.apply(lambda row: prediction_metrics.measure_hit_rates(row['max_prediction'],row['eval_pts_siedco'],real_coverages_city,'ground_truth_coverage'), axis=1)\n"
   ]
  },
  {
   "cell_type": "code",
   "execution_count": 19,
   "metadata": {},
   "outputs": [],
   "source": [
    "##For hitrate_TP \"true positives\"\n",
    "df_result['coverage_TP'] = df_result.apply(lambda row: (list(row['hitrate_TP'].keys())[0])/city_percentage_on_region, axis=1)\n",
    "df_result['hit_rate_TP'] = df_result.apply(lambda row: list(row['hitrate_TP'].values())[0], axis=1)\n",
    "df_result['PAI_TP'] = df_result['hit_rate_TP'] / (df_result['coverage_TP']/100)"
   ]
  },
  {
   "cell_type": "code",
   "execution_count": 20,
   "metadata": {},
   "outputs": [],
   "source": [
    "##For hitrate_default\n",
    "#coverages = [2.0,4.0,6.0,8.0,10.0,12.0,14.0,16.0,18.0,20.0]\n",
    "column_dict = 'hitrate_default'\n",
    "for c in real_coverages_city:\n",
    "    new_hit_rate_column = 'hit_rate_default_coverage_'+str(round(c/city_percentage_on_region))\n",
    "    df_result[new_hit_rate_column] = df_result.apply(lambda row: get_hit_rate_from_dict(row,column_dict,c), axis=1)\n",
    "\n",
    "    ##PAI\n",
    "    new_column = 'PAI_default_coverage_'+str(round(c/city_percentage_on_region))\n",
    "    df_result[new_column] = df_result[new_hit_rate_column]/(round(c/city_percentage_on_region)/100)\n"
   ]
  },
  {
   "cell_type": "code",
   "execution_count": 21,
   "metadata": {},
   "outputs": [],
   "source": [
    "## MSE\n",
    "df_result['MSE'] = df_result.apply(lambda row: prediction_metrics.mse(row['max_prediction'],row['eval_pts_siedco']), axis=1)\n"
   ]
  },
  {
   "cell_type": "code",
   "execution_count": 22,
   "metadata": {
    "scrolled": false
   },
   "outputs": [
    {
     "name": "stdout",
     "output_type": "stream",
     "text": [
      "coverage_TP                     0.020564\n",
      "hit_rate_TP                     0.000000\n",
      "PAI_TP                          0.000000\n",
      "hit_rate_default_coverage_2     0.198390\n",
      "PAI_default_coverage_2          9.919509\n",
      "hit_rate_default_coverage_4     0.338189\n",
      "PAI_default_coverage_4          8.454731\n",
      "hit_rate_default_coverage_6     0.472689\n",
      "PAI_default_coverage_6          7.878157\n",
      "hit_rate_default_coverage_8     0.525644\n",
      "PAI_default_coverage_8          6.570548\n",
      "hit_rate_default_coverage_10    0.525644\n",
      "PAI_default_coverage_10         5.256439\n",
      "hit_rate_default_coverage_12    0.525644\n",
      "PAI_default_coverage_12         4.380366\n",
      "hit_rate_default_coverage_14    0.525644\n",
      "PAI_default_coverage_14         3.754599\n",
      "hit_rate_default_coverage_16    0.525644\n",
      "PAI_default_coverage_16         3.285274\n",
      "hit_rate_default_coverage_18    0.525644\n",
      "PAI_default_coverage_18         2.920244\n",
      "hit_rate_default_coverage_20    0.525644\n",
      "PAI_default_coverage_20         2.628219\n",
      "MSE                             0.000089\n",
      "dtype: float64\n"
     ]
    }
   ],
   "source": [
    "#delete datetimes where no crimes were reported (0 crimes on ground truth -> hit-rate = -1)\n",
    "df_result = df_result[df_result['hit_rate_default_coverage_2']!= -1]\n",
    "print(df_result.mean())"
   ]
  },
  {
   "cell_type": "markdown",
   "metadata": {},
   "source": [
    "### RNMC ground truth"
   ]
  },
  {
   "cell_type": "code",
   "execution_count": 23,
   "metadata": {},
   "outputs": [],
   "source": [
    "df_result = result.copy()"
   ]
  },
  {
   "cell_type": "code",
   "execution_count": 24,
   "metadata": {},
   "outputs": [],
   "source": [
    "df_result['hitrate_default'] = df_result.apply(lambda row: prediction_metrics.measure_hit_rates(row['max_prediction'],row['eval_pts_rnmc'],real_coverages_city,'default'), axis=1)\n",
    "df_result['hitrate_TP'] = df_result.apply(lambda row: prediction_metrics.measure_hit_rates(row['max_prediction'],row['eval_pts_rnmc'],real_coverages_city,'ground_truth_coverage'), axis=1)\n"
   ]
  },
  {
   "cell_type": "code",
   "execution_count": 25,
   "metadata": {},
   "outputs": [],
   "source": [
    "##For hitrate_TP \"true positives\"\n",
    "df_result['coverage_TP'] = df_result.apply(lambda row: (list(row['hitrate_TP'].keys())[0])/city_percentage_on_region, axis=1)\n",
    "df_result['hit_rate_TP'] = df_result.apply(lambda row: list(row['hitrate_TP'].values())[0], axis=1)\n",
    "df_result['PAI_TP'] = df_result['hit_rate_TP'] / (df_result['coverage_TP']/100)"
   ]
  },
  {
   "cell_type": "code",
   "execution_count": 26,
   "metadata": {},
   "outputs": [],
   "source": [
    "##For hitrate_default\n",
    "#coverages = [2.0,4.0,6.0,8.0,10.0,12.0,14.0,16.0,18.0,20.0]\n",
    "column_dict = 'hitrate_default'\n",
    "for c in real_coverages_city:\n",
    "    new_hit_rate_column = 'hit_rate_default_coverage_'+str(round(c/city_percentage_on_region))\n",
    "    df_result[new_hit_rate_column] = df_result.apply(lambda row: get_hit_rate_from_dict(row,column_dict,c), axis=1)\n",
    "\n",
    "    ##PAI\n",
    "    new_column = 'PAI_default_coverage_'+str(round(c/city_percentage_on_region))\n",
    "    df_result[new_column] = df_result[new_hit_rate_column]/(round(c/city_percentage_on_region)/100)\n"
   ]
  },
  {
   "cell_type": "code",
   "execution_count": 28,
   "metadata": {},
   "outputs": [],
   "source": [
    "## MSE\n",
    "df_result['MSE'] = df_result.apply(lambda row: prediction_metrics.mse(row['max_prediction'],row['eval_pts_rnmc']), axis=1)\n"
   ]
  },
  {
   "cell_type": "code",
   "execution_count": 29,
   "metadata": {
    "scrolled": false
   },
   "outputs": [
    {
     "name": "stdout",
     "output_type": "stream",
     "text": [
      "coverage_TP                       0.124019\n",
      "hit_rate_TP                       0.133222\n",
      "PAI_TP                          108.963108\n",
      "hit_rate_default_coverage_2       0.518141\n",
      "PAI_default_coverage_2           25.907043\n",
      "hit_rate_default_coverage_4       0.662509\n",
      "PAI_default_coverage_4           16.562716\n",
      "hit_rate_default_coverage_6       0.755519\n",
      "PAI_default_coverage_6           12.591988\n",
      "hit_rate_default_coverage_8       0.804676\n",
      "PAI_default_coverage_8           10.058450\n",
      "hit_rate_default_coverage_10      0.804676\n",
      "PAI_default_coverage_10           8.046760\n",
      "hit_rate_default_coverage_12      0.804676\n",
      "PAI_default_coverage_12           6.705633\n",
      "hit_rate_default_coverage_14      0.804676\n",
      "PAI_default_coverage_14           5.747686\n",
      "hit_rate_default_coverage_16      0.804676\n",
      "PAI_default_coverage_16           5.029225\n",
      "hit_rate_default_coverage_18      0.804676\n",
      "PAI_default_coverage_18           4.470422\n",
      "hit_rate_default_coverage_20      0.804676\n",
      "PAI_default_coverage_20           4.023380\n",
      "MSE                               0.000098\n",
      "dtype: float64\n"
     ]
    }
   ],
   "source": [
    "#delete datetimes where no crimes were reported (0 crimes on ground truth -> hit-rate = -1)\n",
    "df_result = df_result[df_result['hit_rate_default_coverage_2']!= -1]\n",
    "print(df_result.mean())"
   ]
  },
  {
   "cell_type": "markdown",
   "metadata": {},
   "source": [
    "### NUSE ground truth"
   ]
  },
  {
   "cell_type": "code",
   "execution_count": 30,
   "metadata": {},
   "outputs": [],
   "source": [
    "df_result = result.copy()"
   ]
  },
  {
   "cell_type": "code",
   "execution_count": 31,
   "metadata": {},
   "outputs": [],
   "source": [
    "df_result['hitrate_default'] = df_result.apply(lambda row: prediction_metrics.measure_hit_rates(row['max_prediction'],row['eval_pts_nuse'],real_coverages_city,'default'), axis=1)\n",
    "df_result['hitrate_TP'] = df_result.apply(lambda row: prediction_metrics.measure_hit_rates(row['max_prediction'],row['eval_pts_nuse'],real_coverages_city,'ground_truth_coverage'), axis=1)\n"
   ]
  },
  {
   "cell_type": "code",
   "execution_count": 32,
   "metadata": {},
   "outputs": [],
   "source": [
    "##For hitrate_TP \"true positives\"\n",
    "df_result['coverage_TP'] = df_result.apply(lambda row: (list(row['hitrate_TP'].keys())[0])/city_percentage_on_region, axis=1)\n",
    "df_result['hit_rate_TP'] = df_result.apply(lambda row: list(row['hitrate_TP'].values())[0], axis=1)\n",
    "df_result['PAI_TP'] = df_result['hit_rate_TP'] / (df_result['coverage_TP']/100)"
   ]
  },
  {
   "cell_type": "code",
   "execution_count": 33,
   "metadata": {},
   "outputs": [],
   "source": [
    "##For hitrate_default\n",
    "#coverages = [2.0,4.0,6.0,8.0,10.0,12.0,14.0,16.0,18.0,20.0]\n",
    "column_dict = 'hitrate_default'\n",
    "for c in real_coverages_city:\n",
    "    new_hit_rate_column = 'hit_rate_default_coverage_'+str(round(c/city_percentage_on_region))\n",
    "    df_result[new_hit_rate_column] = df_result.apply(lambda row: get_hit_rate_from_dict(row,column_dict,c), axis=1)\n",
    "\n",
    "    ##PAI\n",
    "    new_column = 'PAI_default_coverage_'+str(round(c/city_percentage_on_region))\n",
    "    df_result[new_column] = df_result[new_hit_rate_column]/(round(c/city_percentage_on_region)/100)\n"
   ]
  },
  {
   "cell_type": "code",
   "execution_count": 34,
   "metadata": {},
   "outputs": [],
   "source": [
    "## MSE\n",
    "df_result['MSE'] = df_result.apply(lambda row: prediction_metrics.mse(row['max_prediction'],row['eval_pts_nuse']), axis=1)\n"
   ]
  },
  {
   "cell_type": "code",
   "execution_count": 35,
   "metadata": {
    "scrolled": false
   },
   "outputs": [
    {
     "name": "stdout",
     "output_type": "stream",
     "text": [
      "coverage_TP                     0.365678\n",
      "hit_rate_TP                     0.033797\n",
      "PAI_TP                          9.609092\n",
      "hit_rate_default_coverage_2     0.167902\n",
      "PAI_default_coverage_2          8.395106\n",
      "hit_rate_default_coverage_4     0.308585\n",
      "PAI_default_coverage_4          7.714634\n",
      "hit_rate_default_coverage_6     0.447195\n",
      "PAI_default_coverage_6          7.453255\n",
      "hit_rate_default_coverage_8     0.483228\n",
      "PAI_default_coverage_8          6.040351\n",
      "hit_rate_default_coverage_10    0.483228\n",
      "PAI_default_coverage_10         4.832281\n",
      "hit_rate_default_coverage_12    0.483228\n",
      "PAI_default_coverage_12         4.026900\n",
      "hit_rate_default_coverage_14    0.483228\n",
      "PAI_default_coverage_14         3.451629\n",
      "hit_rate_default_coverage_16    0.483228\n",
      "PAI_default_coverage_16         3.020175\n",
      "hit_rate_default_coverage_18    0.483228\n",
      "PAI_default_coverage_18         2.684600\n",
      "hit_rate_default_coverage_20    0.483228\n",
      "PAI_default_coverage_20         2.416140\n",
      "MSE                             0.000138\n",
      "dtype: float64\n"
     ]
    }
   ],
   "source": [
    "#delete datetimes where no crimes were reported (0 crimes on ground truth -> hit-rate = -1)\n",
    "df_result = df_result[df_result['hit_rate_default_coverage_2']!= -1]\n",
    "print(df_result.mean())"
   ]
  },
  {
   "cell_type": "markdown",
   "metadata": {},
   "source": [
    "## MSE summary results"
   ]
  },
  {
   "cell_type": "code",
   "execution_count": 36,
   "metadata": {},
   "outputs": [
    {
     "name": "stderr",
     "output_type": "stream",
     "text": [
      "/Users/anamaria/Desktop/dev/security_project/security_venv/lib/python3.7/site-packages/ipykernel_launcher.py:15: UserWarning: Legend does not support [<matplotlib.lines.Line2D object at 0x1236a3208>] instances.\n",
      "A proxy artist may be used instead.\n",
      "See: http://matplotlib.org/users/legend_guide.html#creating-artists-specifically-for-adding-to-the-legend-aka-proxy-artists\n",
      "  from ipykernel import kernelapp as app\n",
      "/Users/anamaria/Desktop/dev/security_project/security_venv/lib/python3.7/site-packages/ipykernel_launcher.py:15: UserWarning: Legend does not support [<matplotlib.lines.Line2D object at 0x12eacdb70>] instances.\n",
      "A proxy artist may be used instead.\n",
      "See: http://matplotlib.org/users/legend_guide.html#creating-artists-specifically-for-adding-to-the-legend-aka-proxy-artists\n",
      "  from ipykernel import kernelapp as app\n",
      "/Users/anamaria/Desktop/dev/security_project/security_venv/lib/python3.7/site-packages/ipykernel_launcher.py:15: UserWarning: Legend does not support [<matplotlib.lines.Line2D object at 0x12eacdc88>] instances.\n",
      "A proxy artist may be used instead.\n",
      "See: http://matplotlib.org/users/legend_guide.html#creating-artists-specifically-for-adding-to-the-legend-aka-proxy-artists\n",
      "  from ipykernel import kernelapp as app\n"
     ]
    },
    {
     "data": {
      "image/png": "[encoded data removed]",
      "text/plain": [
       "<Figure size 720x360 with 1 Axes>"
      ]
     },
     "metadata": {
      "needs_background": "light"
     },
     "output_type": "display_data"
    }
   ],
   "source": [
    "df_mse = result.copy()\n",
    "df_mse['MSE_siedco'] = df_mse.apply(lambda row: prediction_metrics.mse(row['max_prediction'],row['eval_pts_siedco']), axis=1)\n",
    "df_mse['MSE_rnmc'] = df_mse.apply(lambda row: prediction_metrics.mse(row['max_prediction'],row['eval_pts_rnmc']), axis=1)\n",
    "df_mse['MSE_nuse'] = df_mse.apply(lambda row: prediction_metrics.mse(row['max_prediction'],row['eval_pts_nuse']), axis=1)\n",
    "\n",
    "fig, ax = plt.subplots(figsize=(10,5))\n",
    "siedco = ax.plot(df_mse.index.values, df_mse['MSE_siedco'].values, marker=\".\",color='blue')\n",
    "rnmc = ax.plot(df_mse.index.values, df_mse['MSE_rnmc'].values, marker=\".\",color='red')\n",
    "nuse = ax.plot(df_mse.index.values, df_mse['MSE_nuse'].values, marker=\".\",color='green')\n",
    "#multimodal_average = ax.scatter(result.index.values,result['multimodal_average_entropy'].values, marker=\".\",color='orange')\n",
    "#multimodal_max = ax.scatter(result.index.values,result['multimodal_max_entropy'].values, marker=\".\",color='blue')\n",
    "#multimodal_max_cell = ax.scatter(result.index.values,result['multimodal_max_cell_entropy'].values, marker=\".\",color='black')\n",
    "ax.set_title('Mean Squared Error')\n",
    "#ax.set_ylim(0,0.00020)\n",
    "ax.legend((siedco, rnmc, nuse),('siedco', 'rnmc', 'nuse'))\n",
    "plt.xlabel('Iteration on Nested Cross Validation')\n",
    "plt.ylabel('MSE')\n",
    "plt.show()"
   ]
  },
  {
   "cell_type": "code",
   "execution_count": null,
   "metadata": {},
   "outputs": [],
   "source": []
  }
 ],
 "metadata": {
  "kernelspec": {
   "display_name": "Python 3",
   "language": "python",
   "name": "python3"
  },
  "language_info": {
   "codemirror_mode": {
    "name": "ipython",
    "version": 3
   },
   "file_extension": ".py",
   "mimetype": "text/x-python",
   "name": "python",
   "nbconvert_exporter": "python",
   "pygments_lexer": "ipython3",
   "version": "3.7.2"
  }
 },
 "nbformat": 4,
 "nbformat_minor": 2
}
