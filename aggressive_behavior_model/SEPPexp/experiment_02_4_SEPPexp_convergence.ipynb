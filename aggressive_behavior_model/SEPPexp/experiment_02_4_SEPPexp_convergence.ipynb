{
 "cells": [
  {
   "cell_type": "markdown",
   "metadata": {},
   "source": [
    "## Parameters\n",
    "- model = SEPPexp: simplified SEPP (with 'self-excitation' only in time)\n",
    "- train_base 1 = (2015-01-01 a 2015-01-30)\n",
    "- train_base 2 = (2016-01-01 to 2016-01-30)\n",
    "- db = SIEDCO\n",
    "- spatial scope: city\n",
    "\n",
    "Method:\n",
    "*Implement 10 realizations with train_base 1 and 10 realizations with train_base 2\n"
   ]
  },
  {
   "cell_type": "markdown",
   "metadata": {},
   "source": [
    "## Hypothesis:\n",
    "The model does not converge consistently at city level using as a training dataset (2016-01-01 a 2016-01-30); while it converges consistently for (2015-01-01 a 2015-01-30)."
   ]
  },
  {
   "cell_type": "code",
   "execution_count": 1,
   "metadata": {},
   "outputs": [
    {
     "name": "stderr",
     "output_type": "stream",
     "text": [
      "Failed to import `rtree`.\n",
      "Failed to import `rtree`.\n"
     ]
    }
   ],
   "source": [
    "import pandas as pd\n",
    "import matplotlib.pyplot as plt\n",
    "import sys\n",
    "sys.path.append(\"..\")\n",
    "from services.prediction_experiment import PredictionExperiment"
   ]
  },
  {
   "cell_type": "code",
   "execution_count": 2,
   "metadata": {},
   "outputs": [],
   "source": [
    "def get_value(row,c):\n",
    "    return row['Hit-rates'][c]"
   ]
  },
  {
   "cell_type": "markdown",
   "metadata": {},
   "source": [
    "## SIEDCO"
   ]
  },
  {
   "cell_type": "code",
   "execution_count": 3,
   "metadata": {},
   "outputs": [],
   "source": [
    "csv_path = '/Users/anamaria/Desktop/dev/security_project/datasets/deduplicate_siedco_10032020.csv'\n",
    "siedco_info = {'name':'SIEDCO','path':csv_path}"
   ]
  },
  {
   "cell_type": "code",
   "execution_count": 4,
   "metadata": {},
   "outputs": [],
   "source": [
    "filter_localidad = {'field':'','value':''}\n",
    "model = \"SEPPexp\"\n",
    "metrics = ''\n",
    "aggregation = ''"
   ]
  },
  {
   "cell_type": "markdown",
   "metadata": {},
   "source": [
    "## First train dataset: (2015-01-01 to 2015-01-30)\n"
   ]
  },
  {
   "cell_type": "code",
   "execution_count": 5,
   "metadata": {},
   "outputs": [
    {
     "name": "stdout",
     "output_type": "stream",
     "text": [
      "train_subset_dates {'initial': datetime.datetime(2015, 1, 1, 0, 0), 'final': datetime.datetime(2015, 1, 30, 0, 0)}\n",
      "current_validation_date 2015-01-30 00:00:00\n",
      "1246\n",
      "successful model convergence\n",
      "train_subset_dates {'initial': datetime.datetime(2015, 1, 1, 0, 0), 'final': datetime.datetime(2015, 1, 30, 0, 0)}\n",
      "current_validation_date 2015-01-30 00:00:00\n",
      "1246\n",
      "successful model convergence\n",
      "train_subset_dates {'initial': datetime.datetime(2015, 1, 1, 0, 0), 'final': datetime.datetime(2015, 1, 30, 0, 0)}\n",
      "current_validation_date 2015-01-30 00:00:00\n",
      "1246\n",
      "successful model convergence\n",
      "train_subset_dates {'initial': datetime.datetime(2015, 1, 1, 0, 0), 'final': datetime.datetime(2015, 1, 30, 0, 0)}\n",
      "current_validation_date 2015-01-30 00:00:00\n",
      "1246\n",
      "successful model convergence\n",
      "train_subset_dates {'initial': datetime.datetime(2015, 1, 1, 0, 0), 'final': datetime.datetime(2015, 1, 30, 0, 0)}\n",
      "current_validation_date 2015-01-30 00:00:00\n",
      "1246\n",
      "successful model convergence\n",
      "train_subset_dates {'initial': datetime.datetime(2015, 1, 1, 0, 0), 'final': datetime.datetime(2015, 1, 30, 0, 0)}\n",
      "current_validation_date 2015-01-30 00:00:00\n",
      "1246\n",
      "successful model convergence\n",
      "train_subset_dates {'initial': datetime.datetime(2015, 1, 1, 0, 0), 'final': datetime.datetime(2015, 1, 30, 0, 0)}\n",
      "current_validation_date 2015-01-30 00:00:00\n",
      "1246\n",
      "successful model convergence\n",
      "train_subset_dates {'initial': datetime.datetime(2015, 1, 1, 0, 0), 'final': datetime.datetime(2015, 1, 30, 0, 0)}\n",
      "current_validation_date 2015-01-30 00:00:00\n",
      "1246\n",
      "successful model convergence\n",
      "train_subset_dates {'initial': datetime.datetime(2015, 1, 1, 0, 0), 'final': datetime.datetime(2015, 1, 30, 0, 0)}\n",
      "current_validation_date 2015-01-30 00:00:00\n",
      "1246\n",
      "successful model convergence\n",
      "train_subset_dates {'initial': datetime.datetime(2015, 1, 1, 0, 0), 'final': datetime.datetime(2015, 1, 30, 0, 0)}\n",
      "current_validation_date 2015-01-30 00:00:00\n",
      "1246\n",
      "successful model convergence\n"
     ]
    }
   ],
   "source": [
    "train_dates = {'initial':'2015-01-01','final':'2015-01-30'}\n",
    "validation_dates = {'initial':'2015-01-30','final':'2015-01-30'}\n",
    "for i in range(0,10):\n",
    "    city_experiment = PredictionExperiment(dataset_info=siedco_info, custom_filter=filter_localidad,train_dates=train_dates, validation_dates=validation_dates, model=model,metrics='',aggregation_data='')\n",
    "    accuracy_array = city_experiment.run_ncv_experiment(time_unit='',grid_size=150, outer_iterations='')\n",
    "    print('successful model convergence')"
   ]
  },
  {
   "cell_type": "markdown",
   "metadata": {},
   "source": [
    "## Second train dataset: (2016-01-01 to 2016-01-30)\n"
   ]
  },
  {
   "cell_type": "code",
   "execution_count": 9,
   "metadata": {},
   "outputs": [
    {
     "name": "stdout",
     "output_type": "stream",
     "text": [
      "train_subset_dates {'initial': datetime.datetime(2016, 1, 1, 0, 0), 'final': datetime.datetime(2016, 1, 30, 0, 0)}\n",
      "current_validation_date 2016-01-30 00:00:00\n",
      "1509\n"
     ]
    },
    {
     "name": "stderr",
     "output_type": "stream",
     "text": [
      "/Users/anamaria/Desktop/dev/security_project/security_venv/lib/python3.7/site-packages/open_cp/seppexp.py:183: RuntimeWarning: divide by zero encountered in double_scalars\n",
      "  omega = _np.sum(upper_trianglar_sums) / _np.sum(weighted_upper_trianglar_sums)\n"
     ]
    },
    {
     "name": "stdout",
     "output_type": "stream",
     "text": [
      "convergence fail\n",
      "train_subset_dates {'initial': datetime.datetime(2016, 1, 1, 0, 0), 'final': datetime.datetime(2016, 1, 30, 0, 0)}\n",
      "current_validation_date 2016-01-30 00:00:00\n",
      "1509\n",
      "convergence fail\n",
      "train_subset_dates {'initial': datetime.datetime(2016, 1, 1, 0, 0), 'final': datetime.datetime(2016, 1, 30, 0, 0)}\n",
      "current_validation_date 2016-01-30 00:00:00\n",
      "1509\n",
      "convergence fail\n",
      "train_subset_dates {'initial': datetime.datetime(2016, 1, 1, 0, 0), 'final': datetime.datetime(2016, 1, 30, 0, 0)}\n",
      "current_validation_date 2016-01-30 00:00:00\n",
      "1509\n",
      "convergence fail\n",
      "train_subset_dates {'initial': datetime.datetime(2016, 1, 1, 0, 0), 'final': datetime.datetime(2016, 1, 30, 0, 0)}\n",
      "current_validation_date 2016-01-30 00:00:00\n",
      "1509\n",
      "convergence fail\n",
      "train_subset_dates {'initial': datetime.datetime(2016, 1, 1, 0, 0), 'final': datetime.datetime(2016, 1, 30, 0, 0)}\n",
      "current_validation_date 2016-01-30 00:00:00\n",
      "1509\n",
      "convergence fail\n",
      "train_subset_dates {'initial': datetime.datetime(2016, 1, 1, 0, 0), 'final': datetime.datetime(2016, 1, 30, 0, 0)}\n",
      "current_validation_date 2016-01-30 00:00:00\n",
      "1509\n",
      "convergence fail\n",
      "train_subset_dates {'initial': datetime.datetime(2016, 1, 1, 0, 0), 'final': datetime.datetime(2016, 1, 30, 0, 0)}\n",
      "current_validation_date 2016-01-30 00:00:00\n",
      "1509\n",
      "convergence fail\n",
      "train_subset_dates {'initial': datetime.datetime(2016, 1, 1, 0, 0), 'final': datetime.datetime(2016, 1, 30, 0, 0)}\n",
      "current_validation_date 2016-01-30 00:00:00\n",
      "1509\n",
      "convergence fail\n",
      "train_subset_dates {'initial': datetime.datetime(2016, 1, 1, 0, 0), 'final': datetime.datetime(2016, 1, 30, 0, 0)}\n",
      "current_validation_date 2016-01-30 00:00:00\n",
      "1509\n",
      "convergence fail\n"
     ]
    }
   ],
   "source": [
    "train_dates = {'initial':'2016-01-01','final':'2016-01-30'}\n",
    "validation_dates = {'initial':'2016-01-30','final':'2016-01-30'}\n",
    "for i in range(0,10):\n",
    "    city_experiment = PredictionExperiment(dataset_info=siedco_info, custom_filter=filter_localidad,train_dates=train_dates, validation_dates=validation_dates, model=model,metrics='',aggregation_data='')\n",
    "    try:\n",
    "        accuracy_array = city_experiment.run_ncv_experiment(time_unit='',grid_size=150, outer_iterations='')\n",
    "        print('successful model convergence')\n",
    "    except:\n",
    "        print('convergence fail')"
   ]
  },
  {
   "cell_type": "code",
   "execution_count": null,
   "metadata": {},
   "outputs": [],
   "source": []
  }
 ],
 "metadata": {
  "kernelspec": {
   "display_name": "Python 3",
   "language": "python",
   "name": "python3"
  },
  "language_info": {
   "codemirror_mode": {
    "name": "ipython",
    "version": 3
   },
   "file_extension": ".py",
   "mimetype": "text/x-python",
   "name": "python",
   "nbconvert_exporter": "python",
   "pygments_lexer": "ipython3",
   "version": "3.7.2"
  }
 },
 "nbformat": 4,
 "nbformat_minor": 2
}
