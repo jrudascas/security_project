{
 "cells": [
  {
   "cell_type": "markdown",
   "metadata": {},
   "source": [
    "## Parameters\n",
    "\n",
    "Rerun experiment_02_1_SEPPexp_convergence after removing outliers (points out of Bogotá and predefined locations):\n",
    "\n",
    "- model = SEPPexp: simplified SEPP (with 'self-excitation' only in time)\n",
    "- train_base = variable*\n",
    "- validation = a couple of days\n",
    "- prediction_horizon = one day\n",
    "- validation = nested-cross; day-forward chaining\n",
    "- db = SIEDCO\n",
    "- spatial scope: localidad (Ciudad Bolívar, Santa Fe), city\n",
    "\n",
    "*Change training dates (but always keep at least 1000 training points)\n"
   ]
  },
  {
   "cell_type": "markdown",
   "metadata": {},
   "source": [
    "## Hypothesis:\n",
    "Convergence results are equivalent to the ones obtained on experiment 02_1"
   ]
  },
  {
   "cell_type": "code",
   "execution_count": 1,
   "metadata": {},
   "outputs": [],
   "source": [
    "import pandas as pd\n",
    "import matplotlib.pyplot as plt\n",
    "import sys\n",
    "sys.path.append(\"..\")\n",
    "from services.prediction_experiment import PredictionExperiment"
   ]
  },
  {
   "cell_type": "code",
   "execution_count": 2,
   "metadata": {},
   "outputs": [],
   "source": [
    "def get_value(row,c):\n",
    "    return row['Hit-rates'][c]"
   ]
  },
  {
   "cell_type": "markdown",
   "metadata": {},
   "source": [
    "## SIEDCO"
   ]
  },
  {
   "cell_type": "code",
   "execution_count": 3,
   "metadata": {},
   "outputs": [],
   "source": [
    "csv_path = '/u01/user8/Documents/Riñas/datasets/05. deduplicate_siedco_09062020.csv'\n",
    "siedco_info = {'name':'SIEDCO','path':csv_path}"
   ]
  },
  {
   "cell_type": "markdown",
   "metadata": {},
   "source": [
    "## City scope: sweep training dates (select dates to keep at least 1000 points on training)"
   ]
  },
  {
   "cell_type": "code",
   "execution_count": 4,
   "metadata": {},
   "outputs": [],
   "source": [
    "filter_localidad = {'field':'','value':''}\n",
    "model = \"SEPPexp\"\n",
    "metrics = ''\n",
    "aggregation = ''"
   ]
  },
  {
   "cell_type": "code",
   "execution_count": 5,
   "metadata": {},
   "outputs": [
    {
     "name": "stderr",
     "output_type": "stream",
     "text": [
      "/u01/user8/anaconda3/lib/python3.7/site-packages/ipykernel_launcher.py:4: DtypeWarning: Columns (32,44) have mixed types. Specify dtype option on import or set low_memory=False.\n",
      "  after removing the cwd from sys.path.\n"
     ]
    },
    {
     "name": "stdout",
     "output_type": "stream",
     "text": [
      "train_subset_dates {'initial': datetime.datetime(2015, 1, 1, 0, 0), 'final': datetime.datetime(2015, 1, 30, 0, 0)}\n",
      "current_validation_date 2015-02-01 00:00:00\n",
      "1246\n",
      "train_subset_dates {'initial': datetime.datetime(2015, 1, 1, 0, 0), 'final': datetime.datetime(2015, 1, 31, 0, 0)}\n",
      "current_validation_date 2015-02-02 00:00:00\n",
      "1309\n",
      "train_subset_dates {'initial': datetime.datetime(2015, 1, 1, 0, 0), 'final': datetime.datetime(2015, 2, 1, 0, 0)}\n",
      "current_validation_date 2015-02-03 00:00:00\n",
      "1406\n"
     ]
    }
   ],
   "source": [
    "train_dates = {'initial':'2015-01-01','final':'2015-01-30'}\n",
    "validation_dates = {'initial':'2015-02-01','final':'2015-02-03'}\n",
    "city_experiment = PredictionExperiment(dataset_info=siedco_info, custom_filter=filter_localidad,train_dates=train_dates, validation_dates=validation_dates, model=model,metrics='',aggregation_data='')\n",
    "accuracy_array = city_experiment.run_ncv_experiment(time_unit='',grid_size=150, outer_iterations='')\n"
   ]
  },
  {
   "cell_type": "code",
   "execution_count": 6,
   "metadata": {},
   "outputs": [
    {
     "name": "stderr",
     "output_type": "stream",
     "text": [
      "/u01/user8/anaconda3/lib/python3.7/site-packages/ipykernel_launcher.py:4: DtypeWarning: Columns (32,44) have mixed types. Specify dtype option on import or set low_memory=False.\n",
      "  after removing the cwd from sys.path.\n"
     ]
    },
    {
     "name": "stdout",
     "output_type": "stream",
     "text": [
      "train_subset_dates {'initial': datetime.datetime(2016, 1, 1, 0, 0), 'final': datetime.datetime(2016, 1, 30, 0, 0)}\n",
      "current_validation_date 2016-02-01 00:00:00\n",
      "1508\n"
     ]
    },
    {
     "name": "stderr",
     "output_type": "stream",
     "text": [
      "/u01/user8/anaconda3/lib/python3.7/site-packages/open_cp/seppexp.py:183: RuntimeWarning: divide by zero encountered in double_scalars\n",
      "  omega = _np.sum(upper_trianglar_sums) / _np.sum(weighted_upper_trianglar_sums)\n"
     ]
    },
    {
     "ename": "Exception",
     "evalue": "Convergence failed!",
     "output_type": "error",
     "traceback": [
      "\u001b[0;31m---------------------------------------------------------------------------\u001b[0m",
      "\u001b[0;31mException\u001b[0m                                 Traceback (most recent call last)",
      "\u001b[0;32m<ipython-input-6-f3718bb05775>\u001b[0m in \u001b[0;36m<module>\u001b[0;34m\u001b[0m\n\u001b[1;32m      2\u001b[0m \u001b[0mvalidation_dates\u001b[0m \u001b[0;34m=\u001b[0m \u001b[0;34m{\u001b[0m\u001b[0;34m'initial'\u001b[0m\u001b[0;34m:\u001b[0m\u001b[0;34m'2016-02-01'\u001b[0m\u001b[0;34m,\u001b[0m\u001b[0;34m'final'\u001b[0m\u001b[0;34m:\u001b[0m\u001b[0;34m'2016-02-03'\u001b[0m\u001b[0;34m}\u001b[0m\u001b[0;34m\u001b[0m\u001b[0;34m\u001b[0m\u001b[0m\n\u001b[1;32m      3\u001b[0m \u001b[0mcity_experiment\u001b[0m \u001b[0;34m=\u001b[0m \u001b[0mPredictionExperiment\u001b[0m\u001b[0;34m(\u001b[0m\u001b[0mdataset_info\u001b[0m\u001b[0;34m=\u001b[0m\u001b[0msiedco_info\u001b[0m\u001b[0;34m,\u001b[0m \u001b[0mcustom_filter\u001b[0m\u001b[0;34m=\u001b[0m\u001b[0mfilter_localidad\u001b[0m\u001b[0;34m,\u001b[0m\u001b[0mtrain_dates\u001b[0m\u001b[0;34m=\u001b[0m\u001b[0mtrain_dates\u001b[0m\u001b[0;34m,\u001b[0m \u001b[0mvalidation_dates\u001b[0m\u001b[0;34m=\u001b[0m\u001b[0mvalidation_dates\u001b[0m\u001b[0;34m,\u001b[0m \u001b[0mmodel\u001b[0m\u001b[0;34m=\u001b[0m\u001b[0mmodel\u001b[0m\u001b[0;34m,\u001b[0m\u001b[0mmetrics\u001b[0m\u001b[0;34m=\u001b[0m\u001b[0;34m''\u001b[0m\u001b[0;34m,\u001b[0m\u001b[0maggregation_data\u001b[0m\u001b[0;34m=\u001b[0m\u001b[0;34m''\u001b[0m\u001b[0;34m)\u001b[0m\u001b[0;34m\u001b[0m\u001b[0;34m\u001b[0m\u001b[0m\n\u001b[0;32m----> 4\u001b[0;31m \u001b[0maccuracy_array\u001b[0m \u001b[0;34m=\u001b[0m \u001b[0mcity_experiment\u001b[0m\u001b[0;34m.\u001b[0m\u001b[0mrun_ncv_experiment\u001b[0m\u001b[0;34m(\u001b[0m\u001b[0mtime_unit\u001b[0m\u001b[0;34m=\u001b[0m\u001b[0;34m''\u001b[0m\u001b[0;34m,\u001b[0m\u001b[0mgrid_size\u001b[0m\u001b[0;34m=\u001b[0m\u001b[0;36m150\u001b[0m\u001b[0;34m,\u001b[0m \u001b[0mouter_iterations\u001b[0m\u001b[0;34m=\u001b[0m\u001b[0;34m''\u001b[0m\u001b[0;34m)\u001b[0m\u001b[0;34m\u001b[0m\u001b[0;34m\u001b[0m\u001b[0m\n\u001b[0m",
      "\u001b[0;32m~/Documents/Riñas/aggressive_behavior_model/services/prediction_experiment.py\u001b[0m in \u001b[0;36mrun_ncv_experiment\u001b[0;34m(self, time_unit, grid_size, outer_iterations)\u001b[0m\n\u001b[1;32m     43\u001b[0m         \u001b[0mdf_train_validation\u001b[0m \u001b[0;34m=\u001b[0m \u001b[0mProcessData\u001b[0m\u001b[0;34m.\u001b[0m\u001b[0mselect_data\u001b[0m\u001b[0;34m(\u001b[0m\u001b[0mdf\u001b[0m\u001b[0;34m,\u001b[0m \u001b[0mself\u001b[0m\u001b[0;34m.\u001b[0m\u001b[0mdataset_info\u001b[0m\u001b[0;34m[\u001b[0m\u001b[0;34m'dict'\u001b[0m\u001b[0;34m]\u001b[0m\u001b[0;34m,\u001b[0m \u001b[0mself\u001b[0m\u001b[0;34m.\u001b[0m\u001b[0mcustom_filter\u001b[0m\u001b[0;34m,\u001b[0m \u001b[0mdates_interval\u001b[0m\u001b[0;34m)\u001b[0m\u001b[0;34m\u001b[0m\u001b[0;34m\u001b[0m\u001b[0m\n\u001b[1;32m     44\u001b[0m         \u001b[0mvalidation\u001b[0m \u001b[0;34m=\u001b[0m \u001b[0mValidateModel\u001b[0m\u001b[0;34m(\u001b[0m\u001b[0mdf_train_validation\u001b[0m\u001b[0;34m,\u001b[0m \u001b[0mself\u001b[0m\u001b[0;34m.\u001b[0m\u001b[0mdataset_info\u001b[0m\u001b[0;34m[\u001b[0m\u001b[0;34m'dict'\u001b[0m\u001b[0;34m]\u001b[0m\u001b[0;34m,\u001b[0m \u001b[0mtime_unit\u001b[0m\u001b[0;34m,\u001b[0m \u001b[0mouter_iterations\u001b[0m\u001b[0;34m)\u001b[0m\u001b[0;34m\u001b[0m\u001b[0;34m\u001b[0m\u001b[0m\n\u001b[0;32m---> 45\u001b[0;31m         \u001b[0mperformance_results\u001b[0m \u001b[0;34m=\u001b[0m \u001b[0mvalidation\u001b[0m\u001b[0;34m.\u001b[0m\u001b[0mwalk_fwd_chain\u001b[0m\u001b[0;34m(\u001b[0m\u001b[0mself\u001b[0m\u001b[0;34m.\u001b[0m\u001b[0mmodel\u001b[0m\u001b[0;34m,\u001b[0m \u001b[0mgrid_size\u001b[0m\u001b[0;34m,\u001b[0m \u001b[0mself\u001b[0m\u001b[0;34m.\u001b[0m\u001b[0mtrain_dates\u001b[0m\u001b[0;34m,\u001b[0m \u001b[0mself\u001b[0m\u001b[0;34m.\u001b[0m\u001b[0mvalidation_dates\u001b[0m\u001b[0;34m,\u001b[0m \u001b[0mself\u001b[0m\u001b[0;34m.\u001b[0m\u001b[0mmetrics\u001b[0m\u001b[0;34m)\u001b[0m\u001b[0;34m\u001b[0m\u001b[0;34m\u001b[0m\u001b[0m\n\u001b[0m\u001b[1;32m     46\u001b[0m         \u001b[0;32mreturn\u001b[0m \u001b[0mperformance_results\u001b[0m\u001b[0;34m\u001b[0m\u001b[0;34m\u001b[0m\u001b[0m\n\u001b[1;32m     47\u001b[0m \u001b[0;34m\u001b[0m\u001b[0m\n",
      "\u001b[0;32m~/Documents/Riñas/aggressive_behavior_model/services/validate_model.py\u001b[0m in \u001b[0;36mwalk_fwd_chain\u001b[0;34m(self, model_class_name, grid_size, train_dates, validation_dates, metrics)\u001b[0m\n\u001b[1;32m     79\u001b[0m             \u001b[0mprint\u001b[0m\u001b[0;34m(\u001b[0m\u001b[0;34m'train_subset_dates'\u001b[0m\u001b[0;34m,\u001b[0m \u001b[0mtrain_subset_dates\u001b[0m\u001b[0;34m)\u001b[0m\u001b[0;34m\u001b[0m\u001b[0;34m\u001b[0m\u001b[0m\n\u001b[1;32m     80\u001b[0m             \u001b[0mprint\u001b[0m\u001b[0;34m(\u001b[0m\u001b[0;34m'current_validation_date'\u001b[0m\u001b[0;34m,\u001b[0m \u001b[0mcurrent_validation_date\u001b[0m\u001b[0;34m)\u001b[0m\u001b[0;34m\u001b[0m\u001b[0;34m\u001b[0m\u001b[0m\n\u001b[0;32m---> 81\u001b[0;31m             \u001b[0mperformance_metrics\u001b[0m \u001b[0;34m=\u001b[0m \u001b[0mself\u001b[0m\u001b[0;34m.\u001b[0m\u001b[0minner_loop_validation\u001b[0m\u001b[0;34m(\u001b[0m\u001b[0mmodel_class_name\u001b[0m\u001b[0;34m,\u001b[0m \u001b[0mgrid_size\u001b[0m\u001b[0;34m,\u001b[0m \u001b[0mtrain_subset_dates\u001b[0m\u001b[0;34m,\u001b[0m \u001b[0mcurrent_validation_date\u001b[0m\u001b[0;34m,\u001b[0m \u001b[0mmetrics\u001b[0m\u001b[0;34m)\u001b[0m\u001b[0;34m\u001b[0m\u001b[0;34m\u001b[0m\u001b[0m\n\u001b[0m\u001b[1;32m     82\u001b[0m             \u001b[0mperformance_array\u001b[0m\u001b[0;34m.\u001b[0m\u001b[0mappend\u001b[0m\u001b[0;34m(\u001b[0m\u001b[0mperformance_metrics\u001b[0m\u001b[0;34m)\u001b[0m\u001b[0;34m\u001b[0m\u001b[0;34m\u001b[0m\u001b[0m\n\u001b[1;32m     83\u001b[0m             \u001b[0mtrain_subset_dates\u001b[0m\u001b[0;34m,\u001b[0m \u001b[0mcurrent_validation_date\u001b[0m \u001b[0;34m=\u001b[0m \u001b[0mValidateModel\u001b[0m\u001b[0;34m.\u001b[0m\u001b[0mupdate_train_validation_subsets\u001b[0m\u001b[0;34m(\u001b[0m\u001b[0mtrain_subset_dates\u001b[0m\u001b[0;34m,\u001b[0m\u001b[0mcurrent_validation_date\u001b[0m\u001b[0;34m)\u001b[0m\u001b[0;34m\u001b[0m\u001b[0;34m\u001b[0m\u001b[0m\n",
      "\u001b[0;32m~/Documents/Riñas/aggressive_behavior_model/services/validate_model.py\u001b[0m in \u001b[0;36minner_loop_validation\u001b[0;34m(self, model_class_name, grid_size, train_subset_dates, current_validation_date, metrics)\u001b[0m\n\u001b[1;32m     23\u001b[0m         \u001b[0mdf_train_subset\u001b[0m \u001b[0;34m=\u001b[0m \u001b[0mProcessData\u001b[0m\u001b[0;34m.\u001b[0m\u001b[0mfilter_by_date\u001b[0m\u001b[0;34m(\u001b[0m\u001b[0mself\u001b[0m\u001b[0;34m.\u001b[0m\u001b[0mdf_train_validation\u001b[0m\u001b[0;34m,\u001b[0m \u001b[0mself\u001b[0m\u001b[0;34m.\u001b[0m\u001b[0mdataset_dict\u001b[0m\u001b[0;34m,\u001b[0m \u001b[0mtrain_subset_dates\u001b[0m\u001b[0;34m[\u001b[0m\u001b[0;34m'initial'\u001b[0m\u001b[0;34m]\u001b[0m\u001b[0;34m,\u001b[0m \u001b[0mtrain_subset_dates\u001b[0m\u001b[0;34m[\u001b[0m\u001b[0;34m'final'\u001b[0m\u001b[0;34m]\u001b[0m\u001b[0;34m)\u001b[0m\u001b[0;34m\u001b[0m\u001b[0;34m\u001b[0m\u001b[0m\n\u001b[1;32m     24\u001b[0m         \u001b[0mprint\u001b[0m\u001b[0;34m(\u001b[0m\u001b[0mlen\u001b[0m\u001b[0;34m(\u001b[0m\u001b[0mdf_train_subset\u001b[0m\u001b[0;34m)\u001b[0m\u001b[0;34m)\u001b[0m\u001b[0;34m\u001b[0m\u001b[0;34m\u001b[0m\u001b[0m\n\u001b[0;32m---> 25\u001b[0;31m         \u001b[0mtrained_model\u001b[0m \u001b[0;34m=\u001b[0m \u001b[0mmodel_object\u001b[0m\u001b[0;34m.\u001b[0m\u001b[0mtrain\u001b[0m\u001b[0;34m(\u001b[0m\u001b[0mdf_train_subset\u001b[0m\u001b[0;34m,\u001b[0m \u001b[0mself\u001b[0m\u001b[0;34m.\u001b[0m\u001b[0mdataset_dict\u001b[0m\u001b[0;34m,\u001b[0m \u001b[0mgrid_size\u001b[0m\u001b[0;34m)\u001b[0m\u001b[0;34m\u001b[0m\u001b[0;34m\u001b[0m\u001b[0m\n\u001b[0m\u001b[1;32m     26\u001b[0m         \u001b[0;31m## TODO: save trained_model\u001b[0m\u001b[0;34m\u001b[0m\u001b[0;34m\u001b[0m\u001b[0;34m\u001b[0m\u001b[0m\n\u001b[1;32m     27\u001b[0m \u001b[0;34m\u001b[0m\u001b[0m\n",
      "\u001b[0;32m~/Documents/Riñas/aggressive_behavior_model/services/aggressive_model.py\u001b[0m in \u001b[0;36mtrain\u001b[0;34m(self, df_train_subset, dataset_dict, grid_size)\u001b[0m\n\u001b[1;32m     40\u001b[0m         \u001b[0mtrainer\u001b[0m \u001b[0;34m=\u001b[0m \u001b[0mseppexp\u001b[0m\u001b[0;34m.\u001b[0m\u001b[0mSEPPTrainer\u001b[0m\u001b[0;34m(\u001b[0m\u001b[0mregion\u001b[0m\u001b[0;34m=\u001b[0m\u001b[0mtraining_region\u001b[0m\u001b[0;34m,\u001b[0m \u001b[0mgrid_size\u001b[0m\u001b[0;34m=\u001b[0m\u001b[0mgrid_size\u001b[0m\u001b[0;34m)\u001b[0m\u001b[0;34m\u001b[0m\u001b[0;34m\u001b[0m\u001b[0m\n\u001b[1;32m     41\u001b[0m         \u001b[0mtrainer\u001b[0m\u001b[0;34m.\u001b[0m\u001b[0mdata\u001b[0m \u001b[0;34m=\u001b[0m \u001b[0mtraining_points\u001b[0m\u001b[0;34m\u001b[0m\u001b[0;34m\u001b[0m\u001b[0m\n\u001b[0;32m---> 42\u001b[0;31m         \u001b[0mtrained_model\u001b[0m \u001b[0;34m=\u001b[0m \u001b[0mtrainer\u001b[0m\u001b[0;34m.\u001b[0m\u001b[0mtrain\u001b[0m\u001b[0;34m(\u001b[0m\u001b[0miterations\u001b[0m\u001b[0;34m=\u001b[0m\u001b[0;36m100\u001b[0m\u001b[0;34m,\u001b[0m \u001b[0muse_corrected\u001b[0m\u001b[0;34m=\u001b[0m\u001b[0;32mTrue\u001b[0m\u001b[0;34m)\u001b[0m\u001b[0;34m\u001b[0m\u001b[0;34m\u001b[0m\u001b[0m\n\u001b[0m\u001b[1;32m     43\u001b[0m         \u001b[0mtrained_model\u001b[0m\u001b[0;34m.\u001b[0m\u001b[0mdata\u001b[0m \u001b[0;34m=\u001b[0m \u001b[0mtraining_points\u001b[0m\u001b[0;34m\u001b[0m\u001b[0;34m\u001b[0m\u001b[0m\n\u001b[1;32m     44\u001b[0m         \u001b[0;32mreturn\u001b[0m \u001b[0mtrained_model\u001b[0m\u001b[0;34m\u001b[0m\u001b[0;34m\u001b[0m\u001b[0m\n",
      "\u001b[0;32m~/anaconda3/lib/python3.7/site-packages/open_cp/seppexp.py\u001b[0m in \u001b[0;36mtrain\u001b[0;34m(self, cutoff_time, iterations, use_corrected)\u001b[0m\n\u001b[1;32m    313\u001b[0m                 \u001b[0momega\u001b[0m\u001b[0;34m,\u001b[0m \u001b[0mtheta\u001b[0m\u001b[0;34m,\u001b[0m \u001b[0mmu\u001b[0m \u001b[0;34m=\u001b[0m \u001b[0mmaximisation_corrected\u001b[0m\u001b[0;34m(\u001b[0m\u001b[0mcells\u001b[0m\u001b[0;34m,\u001b[0m \u001b[0momega\u001b[0m\u001b[0;34m,\u001b[0m \u001b[0mtheta\u001b[0m\u001b[0;34m,\u001b[0m \u001b[0mmu\u001b[0m\u001b[0;34m,\u001b[0m \u001b[0mtime_duration\u001b[0m\u001b[0;34m)\u001b[0m\u001b[0;34m\u001b[0m\u001b[0;34m\u001b[0m\u001b[0m\n\u001b[1;32m    314\u001b[0m                 \u001b[0;32mif\u001b[0m \u001b[0;32mnot\u001b[0m \u001b[0m_np\u001b[0m\u001b[0;34m.\u001b[0m\u001b[0mall\u001b[0m\u001b[0;34m(\u001b[0m\u001b[0m_np\u001b[0m\u001b[0;34m.\u001b[0m\u001b[0misfinite\u001b[0m\u001b[0;34m(\u001b[0m\u001b[0;34m[\u001b[0m\u001b[0momega\u001b[0m\u001b[0;34m,\u001b[0m \u001b[0mtheta\u001b[0m\u001b[0;34m]\u001b[0m\u001b[0;34m)\u001b[0m\u001b[0;34m)\u001b[0m \u001b[0;32mor\u001b[0m \u001b[0;32mnot\u001b[0m \u001b[0m_np\u001b[0m\u001b[0;34m.\u001b[0m\u001b[0mall\u001b[0m\u001b[0;34m(\u001b[0m\u001b[0m_np\u001b[0m\u001b[0;34m.\u001b[0m\u001b[0misfinite\u001b[0m\u001b[0;34m(\u001b[0m\u001b[0mmu\u001b[0m\u001b[0;34m)\u001b[0m\u001b[0;34m)\u001b[0m\u001b[0;34m:\u001b[0m\u001b[0;34m\u001b[0m\u001b[0;34m\u001b[0m\u001b[0m\n\u001b[0;32m--> 315\u001b[0;31m                     \u001b[0;32mraise\u001b[0m \u001b[0mException\u001b[0m\u001b[0;34m(\u001b[0m\u001b[0;34m\"Convergence failed!\"\u001b[0m\u001b[0;34m)\u001b[0m\u001b[0;34m\u001b[0m\u001b[0;34m\u001b[0m\u001b[0m\n\u001b[0m\u001b[1;32m    316\u001b[0m             self._logger.debug(\"Using edge-corrected algorithm, estimated omega=%s, theta=%s, mu=%s\",\n\u001b[1;32m    317\u001b[0m                                omega, theta, mu)\n",
      "\u001b[0;31mException\u001b[0m: Convergence failed!"
     ]
    }
   ],
   "source": [
    "train_dates = {'initial':'2016-01-01','final':'2016-01-30'}\n",
    "validation_dates = {'initial':'2016-02-01','final':'2016-02-03'}\n",
    "city_experiment = PredictionExperiment(dataset_info=siedco_info, custom_filter=filter_localidad,train_dates=train_dates, validation_dates=validation_dates, model=model,metrics='',aggregation_data='')\n",
    "accuracy_array = city_experiment.run_ncv_experiment(time_unit='',grid_size=150, outer_iterations='')\n"
   ]
  },
  {
   "cell_type": "code",
   "execution_count": 7,
   "metadata": {},
   "outputs": [
    {
     "name": "stderr",
     "output_type": "stream",
     "text": [
      "/u01/user8/anaconda3/lib/python3.7/site-packages/ipykernel_launcher.py:4: DtypeWarning: Columns (32,44) have mixed types. Specify dtype option on import or set low_memory=False.\n",
      "  after removing the cwd from sys.path.\n"
     ]
    },
    {
     "name": "stdout",
     "output_type": "stream",
     "text": [
      "train_subset_dates {'initial': datetime.datetime(2017, 1, 1, 0, 0), 'final': datetime.datetime(2017, 1, 30, 0, 0)}\n",
      "current_validation_date 2017-02-01 00:00:00\n",
      "1398\n"
     ]
    },
    {
     "ename": "Exception",
     "evalue": "Convergence failed!",
     "output_type": "error",
     "traceback": [
      "\u001b[0;31m---------------------------------------------------------------------------\u001b[0m",
      "\u001b[0;31mException\u001b[0m                                 Traceback (most recent call last)",
      "\u001b[0;32m<ipython-input-7-59699cab9093>\u001b[0m in \u001b[0;36m<module>\u001b[0;34m\u001b[0m\n\u001b[1;32m      2\u001b[0m \u001b[0mvalidation_dates\u001b[0m \u001b[0;34m=\u001b[0m \u001b[0;34m{\u001b[0m\u001b[0;34m'initial'\u001b[0m\u001b[0;34m:\u001b[0m\u001b[0;34m'2017-02-01'\u001b[0m\u001b[0;34m,\u001b[0m\u001b[0;34m'final'\u001b[0m\u001b[0;34m:\u001b[0m\u001b[0;34m'2017-02-03'\u001b[0m\u001b[0;34m}\u001b[0m\u001b[0;34m\u001b[0m\u001b[0;34m\u001b[0m\u001b[0m\n\u001b[1;32m      3\u001b[0m \u001b[0mcity_experiment\u001b[0m \u001b[0;34m=\u001b[0m \u001b[0mPredictionExperiment\u001b[0m\u001b[0;34m(\u001b[0m\u001b[0mdataset_info\u001b[0m\u001b[0;34m=\u001b[0m\u001b[0msiedco_info\u001b[0m\u001b[0;34m,\u001b[0m \u001b[0mcustom_filter\u001b[0m\u001b[0;34m=\u001b[0m\u001b[0mfilter_localidad\u001b[0m\u001b[0;34m,\u001b[0m\u001b[0mtrain_dates\u001b[0m\u001b[0;34m=\u001b[0m\u001b[0mtrain_dates\u001b[0m\u001b[0;34m,\u001b[0m \u001b[0mvalidation_dates\u001b[0m\u001b[0;34m=\u001b[0m\u001b[0mvalidation_dates\u001b[0m\u001b[0;34m,\u001b[0m \u001b[0mmodel\u001b[0m\u001b[0;34m=\u001b[0m\u001b[0mmodel\u001b[0m\u001b[0;34m,\u001b[0m\u001b[0mmetrics\u001b[0m\u001b[0;34m=\u001b[0m\u001b[0;34m''\u001b[0m\u001b[0;34m,\u001b[0m\u001b[0maggregation_data\u001b[0m\u001b[0;34m=\u001b[0m\u001b[0;34m''\u001b[0m\u001b[0;34m)\u001b[0m\u001b[0;34m\u001b[0m\u001b[0;34m\u001b[0m\u001b[0m\n\u001b[0;32m----> 4\u001b[0;31m \u001b[0maccuracy_array\u001b[0m \u001b[0;34m=\u001b[0m \u001b[0mcity_experiment\u001b[0m\u001b[0;34m.\u001b[0m\u001b[0mrun_ncv_experiment\u001b[0m\u001b[0;34m(\u001b[0m\u001b[0mtime_unit\u001b[0m\u001b[0;34m=\u001b[0m\u001b[0;34m''\u001b[0m\u001b[0;34m,\u001b[0m\u001b[0mgrid_size\u001b[0m\u001b[0;34m=\u001b[0m\u001b[0;36m150\u001b[0m\u001b[0;34m,\u001b[0m \u001b[0mouter_iterations\u001b[0m\u001b[0;34m=\u001b[0m\u001b[0;34m''\u001b[0m\u001b[0;34m)\u001b[0m\u001b[0;34m\u001b[0m\u001b[0;34m\u001b[0m\u001b[0m\n\u001b[0m",
      "\u001b[0;32m~/Documents/Riñas/aggressive_behavior_model/services/prediction_experiment.py\u001b[0m in \u001b[0;36mrun_ncv_experiment\u001b[0;34m(self, time_unit, grid_size, outer_iterations)\u001b[0m\n\u001b[1;32m     43\u001b[0m         \u001b[0mdf_train_validation\u001b[0m \u001b[0;34m=\u001b[0m \u001b[0mProcessData\u001b[0m\u001b[0;34m.\u001b[0m\u001b[0mselect_data\u001b[0m\u001b[0;34m(\u001b[0m\u001b[0mdf\u001b[0m\u001b[0;34m,\u001b[0m \u001b[0mself\u001b[0m\u001b[0;34m.\u001b[0m\u001b[0mdataset_info\u001b[0m\u001b[0;34m[\u001b[0m\u001b[0;34m'dict'\u001b[0m\u001b[0;34m]\u001b[0m\u001b[0;34m,\u001b[0m \u001b[0mself\u001b[0m\u001b[0;34m.\u001b[0m\u001b[0mcustom_filter\u001b[0m\u001b[0;34m,\u001b[0m \u001b[0mdates_interval\u001b[0m\u001b[0;34m)\u001b[0m\u001b[0;34m\u001b[0m\u001b[0;34m\u001b[0m\u001b[0m\n\u001b[1;32m     44\u001b[0m         \u001b[0mvalidation\u001b[0m \u001b[0;34m=\u001b[0m \u001b[0mValidateModel\u001b[0m\u001b[0;34m(\u001b[0m\u001b[0mdf_train_validation\u001b[0m\u001b[0;34m,\u001b[0m \u001b[0mself\u001b[0m\u001b[0;34m.\u001b[0m\u001b[0mdataset_info\u001b[0m\u001b[0;34m[\u001b[0m\u001b[0;34m'dict'\u001b[0m\u001b[0;34m]\u001b[0m\u001b[0;34m,\u001b[0m \u001b[0mtime_unit\u001b[0m\u001b[0;34m,\u001b[0m \u001b[0mouter_iterations\u001b[0m\u001b[0;34m)\u001b[0m\u001b[0;34m\u001b[0m\u001b[0;34m\u001b[0m\u001b[0m\n\u001b[0;32m---> 45\u001b[0;31m         \u001b[0mperformance_results\u001b[0m \u001b[0;34m=\u001b[0m \u001b[0mvalidation\u001b[0m\u001b[0;34m.\u001b[0m\u001b[0mwalk_fwd_chain\u001b[0m\u001b[0;34m(\u001b[0m\u001b[0mself\u001b[0m\u001b[0;34m.\u001b[0m\u001b[0mmodel\u001b[0m\u001b[0;34m,\u001b[0m \u001b[0mgrid_size\u001b[0m\u001b[0;34m,\u001b[0m \u001b[0mself\u001b[0m\u001b[0;34m.\u001b[0m\u001b[0mtrain_dates\u001b[0m\u001b[0;34m,\u001b[0m \u001b[0mself\u001b[0m\u001b[0;34m.\u001b[0m\u001b[0mvalidation_dates\u001b[0m\u001b[0;34m,\u001b[0m \u001b[0mself\u001b[0m\u001b[0;34m.\u001b[0m\u001b[0mmetrics\u001b[0m\u001b[0;34m)\u001b[0m\u001b[0;34m\u001b[0m\u001b[0;34m\u001b[0m\u001b[0m\n\u001b[0m\u001b[1;32m     46\u001b[0m         \u001b[0;32mreturn\u001b[0m \u001b[0mperformance_results\u001b[0m\u001b[0;34m\u001b[0m\u001b[0;34m\u001b[0m\u001b[0m\n\u001b[1;32m     47\u001b[0m \u001b[0;34m\u001b[0m\u001b[0m\n",
      "\u001b[0;32m~/Documents/Riñas/aggressive_behavior_model/services/validate_model.py\u001b[0m in \u001b[0;36mwalk_fwd_chain\u001b[0;34m(self, model_class_name, grid_size, train_dates, validation_dates, metrics)\u001b[0m\n\u001b[1;32m     79\u001b[0m             \u001b[0mprint\u001b[0m\u001b[0;34m(\u001b[0m\u001b[0;34m'train_subset_dates'\u001b[0m\u001b[0;34m,\u001b[0m \u001b[0mtrain_subset_dates\u001b[0m\u001b[0;34m)\u001b[0m\u001b[0;34m\u001b[0m\u001b[0;34m\u001b[0m\u001b[0m\n\u001b[1;32m     80\u001b[0m             \u001b[0mprint\u001b[0m\u001b[0;34m(\u001b[0m\u001b[0;34m'current_validation_date'\u001b[0m\u001b[0;34m,\u001b[0m \u001b[0mcurrent_validation_date\u001b[0m\u001b[0;34m)\u001b[0m\u001b[0;34m\u001b[0m\u001b[0;34m\u001b[0m\u001b[0m\n\u001b[0;32m---> 81\u001b[0;31m             \u001b[0mperformance_metrics\u001b[0m \u001b[0;34m=\u001b[0m \u001b[0mself\u001b[0m\u001b[0;34m.\u001b[0m\u001b[0minner_loop_validation\u001b[0m\u001b[0;34m(\u001b[0m\u001b[0mmodel_class_name\u001b[0m\u001b[0;34m,\u001b[0m \u001b[0mgrid_size\u001b[0m\u001b[0;34m,\u001b[0m \u001b[0mtrain_subset_dates\u001b[0m\u001b[0;34m,\u001b[0m \u001b[0mcurrent_validation_date\u001b[0m\u001b[0;34m,\u001b[0m \u001b[0mmetrics\u001b[0m\u001b[0;34m)\u001b[0m\u001b[0;34m\u001b[0m\u001b[0;34m\u001b[0m\u001b[0m\n\u001b[0m\u001b[1;32m     82\u001b[0m             \u001b[0mperformance_array\u001b[0m\u001b[0;34m.\u001b[0m\u001b[0mappend\u001b[0m\u001b[0;34m(\u001b[0m\u001b[0mperformance_metrics\u001b[0m\u001b[0;34m)\u001b[0m\u001b[0;34m\u001b[0m\u001b[0;34m\u001b[0m\u001b[0m\n\u001b[1;32m     83\u001b[0m             \u001b[0mtrain_subset_dates\u001b[0m\u001b[0;34m,\u001b[0m \u001b[0mcurrent_validation_date\u001b[0m \u001b[0;34m=\u001b[0m \u001b[0mValidateModel\u001b[0m\u001b[0;34m.\u001b[0m\u001b[0mupdate_train_validation_subsets\u001b[0m\u001b[0;34m(\u001b[0m\u001b[0mtrain_subset_dates\u001b[0m\u001b[0;34m,\u001b[0m\u001b[0mcurrent_validation_date\u001b[0m\u001b[0;34m)\u001b[0m\u001b[0;34m\u001b[0m\u001b[0;34m\u001b[0m\u001b[0m\n",
      "\u001b[0;32m~/Documents/Riñas/aggressive_behavior_model/services/validate_model.py\u001b[0m in \u001b[0;36minner_loop_validation\u001b[0;34m(self, model_class_name, grid_size, train_subset_dates, current_validation_date, metrics)\u001b[0m\n\u001b[1;32m     23\u001b[0m         \u001b[0mdf_train_subset\u001b[0m \u001b[0;34m=\u001b[0m \u001b[0mProcessData\u001b[0m\u001b[0;34m.\u001b[0m\u001b[0mfilter_by_date\u001b[0m\u001b[0;34m(\u001b[0m\u001b[0mself\u001b[0m\u001b[0;34m.\u001b[0m\u001b[0mdf_train_validation\u001b[0m\u001b[0;34m,\u001b[0m \u001b[0mself\u001b[0m\u001b[0;34m.\u001b[0m\u001b[0mdataset_dict\u001b[0m\u001b[0;34m,\u001b[0m \u001b[0mtrain_subset_dates\u001b[0m\u001b[0;34m[\u001b[0m\u001b[0;34m'initial'\u001b[0m\u001b[0;34m]\u001b[0m\u001b[0;34m,\u001b[0m \u001b[0mtrain_subset_dates\u001b[0m\u001b[0;34m[\u001b[0m\u001b[0;34m'final'\u001b[0m\u001b[0;34m]\u001b[0m\u001b[0;34m)\u001b[0m\u001b[0;34m\u001b[0m\u001b[0;34m\u001b[0m\u001b[0m\n\u001b[1;32m     24\u001b[0m         \u001b[0mprint\u001b[0m\u001b[0;34m(\u001b[0m\u001b[0mlen\u001b[0m\u001b[0;34m(\u001b[0m\u001b[0mdf_train_subset\u001b[0m\u001b[0;34m)\u001b[0m\u001b[0;34m)\u001b[0m\u001b[0;34m\u001b[0m\u001b[0;34m\u001b[0m\u001b[0m\n\u001b[0;32m---> 25\u001b[0;31m         \u001b[0mtrained_model\u001b[0m \u001b[0;34m=\u001b[0m \u001b[0mmodel_object\u001b[0m\u001b[0;34m.\u001b[0m\u001b[0mtrain\u001b[0m\u001b[0;34m(\u001b[0m\u001b[0mdf_train_subset\u001b[0m\u001b[0;34m,\u001b[0m \u001b[0mself\u001b[0m\u001b[0;34m.\u001b[0m\u001b[0mdataset_dict\u001b[0m\u001b[0;34m,\u001b[0m \u001b[0mgrid_size\u001b[0m\u001b[0;34m)\u001b[0m\u001b[0;34m\u001b[0m\u001b[0;34m\u001b[0m\u001b[0m\n\u001b[0m\u001b[1;32m     26\u001b[0m         \u001b[0;31m## TODO: save trained_model\u001b[0m\u001b[0;34m\u001b[0m\u001b[0;34m\u001b[0m\u001b[0;34m\u001b[0m\u001b[0m\n\u001b[1;32m     27\u001b[0m \u001b[0;34m\u001b[0m\u001b[0m\n",
      "\u001b[0;32m~/Documents/Riñas/aggressive_behavior_model/services/aggressive_model.py\u001b[0m in \u001b[0;36mtrain\u001b[0;34m(self, df_train_subset, dataset_dict, grid_size)\u001b[0m\n\u001b[1;32m     40\u001b[0m         \u001b[0mtrainer\u001b[0m \u001b[0;34m=\u001b[0m \u001b[0mseppexp\u001b[0m\u001b[0;34m.\u001b[0m\u001b[0mSEPPTrainer\u001b[0m\u001b[0;34m(\u001b[0m\u001b[0mregion\u001b[0m\u001b[0;34m=\u001b[0m\u001b[0mtraining_region\u001b[0m\u001b[0;34m,\u001b[0m \u001b[0mgrid_size\u001b[0m\u001b[0;34m=\u001b[0m\u001b[0mgrid_size\u001b[0m\u001b[0;34m)\u001b[0m\u001b[0;34m\u001b[0m\u001b[0;34m\u001b[0m\u001b[0m\n\u001b[1;32m     41\u001b[0m         \u001b[0mtrainer\u001b[0m\u001b[0;34m.\u001b[0m\u001b[0mdata\u001b[0m \u001b[0;34m=\u001b[0m \u001b[0mtraining_points\u001b[0m\u001b[0;34m\u001b[0m\u001b[0;34m\u001b[0m\u001b[0m\n\u001b[0;32m---> 42\u001b[0;31m         \u001b[0mtrained_model\u001b[0m \u001b[0;34m=\u001b[0m \u001b[0mtrainer\u001b[0m\u001b[0;34m.\u001b[0m\u001b[0mtrain\u001b[0m\u001b[0;34m(\u001b[0m\u001b[0miterations\u001b[0m\u001b[0;34m=\u001b[0m\u001b[0;36m100\u001b[0m\u001b[0;34m,\u001b[0m \u001b[0muse_corrected\u001b[0m\u001b[0;34m=\u001b[0m\u001b[0;32mTrue\u001b[0m\u001b[0;34m)\u001b[0m\u001b[0;34m\u001b[0m\u001b[0;34m\u001b[0m\u001b[0m\n\u001b[0m\u001b[1;32m     43\u001b[0m         \u001b[0mtrained_model\u001b[0m\u001b[0;34m.\u001b[0m\u001b[0mdata\u001b[0m \u001b[0;34m=\u001b[0m \u001b[0mtraining_points\u001b[0m\u001b[0;34m\u001b[0m\u001b[0;34m\u001b[0m\u001b[0m\n\u001b[1;32m     44\u001b[0m         \u001b[0;32mreturn\u001b[0m \u001b[0mtrained_model\u001b[0m\u001b[0;34m\u001b[0m\u001b[0;34m\u001b[0m\u001b[0m\n",
      "\u001b[0;32m~/anaconda3/lib/python3.7/site-packages/open_cp/seppexp.py\u001b[0m in \u001b[0;36mtrain\u001b[0;34m(self, cutoff_time, iterations, use_corrected)\u001b[0m\n\u001b[1;32m    313\u001b[0m                 \u001b[0momega\u001b[0m\u001b[0;34m,\u001b[0m \u001b[0mtheta\u001b[0m\u001b[0;34m,\u001b[0m \u001b[0mmu\u001b[0m \u001b[0;34m=\u001b[0m \u001b[0mmaximisation_corrected\u001b[0m\u001b[0;34m(\u001b[0m\u001b[0mcells\u001b[0m\u001b[0;34m,\u001b[0m \u001b[0momega\u001b[0m\u001b[0;34m,\u001b[0m \u001b[0mtheta\u001b[0m\u001b[0;34m,\u001b[0m \u001b[0mmu\u001b[0m\u001b[0;34m,\u001b[0m \u001b[0mtime_duration\u001b[0m\u001b[0;34m)\u001b[0m\u001b[0;34m\u001b[0m\u001b[0;34m\u001b[0m\u001b[0m\n\u001b[1;32m    314\u001b[0m                 \u001b[0;32mif\u001b[0m \u001b[0;32mnot\u001b[0m \u001b[0m_np\u001b[0m\u001b[0;34m.\u001b[0m\u001b[0mall\u001b[0m\u001b[0;34m(\u001b[0m\u001b[0m_np\u001b[0m\u001b[0;34m.\u001b[0m\u001b[0misfinite\u001b[0m\u001b[0;34m(\u001b[0m\u001b[0;34m[\u001b[0m\u001b[0momega\u001b[0m\u001b[0;34m,\u001b[0m \u001b[0mtheta\u001b[0m\u001b[0;34m]\u001b[0m\u001b[0;34m)\u001b[0m\u001b[0;34m)\u001b[0m \u001b[0;32mor\u001b[0m \u001b[0;32mnot\u001b[0m \u001b[0m_np\u001b[0m\u001b[0;34m.\u001b[0m\u001b[0mall\u001b[0m\u001b[0;34m(\u001b[0m\u001b[0m_np\u001b[0m\u001b[0;34m.\u001b[0m\u001b[0misfinite\u001b[0m\u001b[0;34m(\u001b[0m\u001b[0mmu\u001b[0m\u001b[0;34m)\u001b[0m\u001b[0;34m)\u001b[0m\u001b[0;34m:\u001b[0m\u001b[0;34m\u001b[0m\u001b[0;34m\u001b[0m\u001b[0m\n\u001b[0;32m--> 315\u001b[0;31m                     \u001b[0;32mraise\u001b[0m \u001b[0mException\u001b[0m\u001b[0;34m(\u001b[0m\u001b[0;34m\"Convergence failed!\"\u001b[0m\u001b[0;34m)\u001b[0m\u001b[0;34m\u001b[0m\u001b[0;34m\u001b[0m\u001b[0m\n\u001b[0m\u001b[1;32m    316\u001b[0m             self._logger.debug(\"Using edge-corrected algorithm, estimated omega=%s, theta=%s, mu=%s\",\n\u001b[1;32m    317\u001b[0m                                omega, theta, mu)\n",
      "\u001b[0;31mException\u001b[0m: Convergence failed!"
     ]
    }
   ],
   "source": [
    "train_dates = {'initial':'2017-01-01','final':'2017-01-30'}\n",
    "validation_dates = {'initial':'2017-02-01','final':'2017-02-03'}\n",
    "city_experiment = PredictionExperiment(dataset_info=siedco_info, custom_filter=filter_localidad,train_dates=train_dates, validation_dates=validation_dates, model=model,metrics='',aggregation_data='')\n",
    "accuracy_array = city_experiment.run_ncv_experiment(time_unit='',grid_size=150, outer_iterations='')\n"
   ]
  },
  {
   "cell_type": "code",
   "execution_count": 8,
   "metadata": {},
   "outputs": [
    {
     "name": "stderr",
     "output_type": "stream",
     "text": [
      "/u01/user8/anaconda3/lib/python3.7/site-packages/ipykernel_launcher.py:4: DtypeWarning: Columns (32,44) have mixed types. Specify dtype option on import or set low_memory=False.\n",
      "  after removing the cwd from sys.path.\n"
     ]
    },
    {
     "name": "stdout",
     "output_type": "stream",
     "text": [
      "train_subset_dates {'initial': datetime.datetime(2018, 1, 1, 0, 0), 'final': datetime.datetime(2018, 1, 20, 0, 0)}\n",
      "current_validation_date 2018-02-01 00:00:00\n",
      "1086\n"
     ]
    },
    {
     "ename": "Exception",
     "evalue": "Convergence failed!",
     "output_type": "error",
     "traceback": [
      "\u001b[0;31m---------------------------------------------------------------------------\u001b[0m",
      "\u001b[0;31mException\u001b[0m                                 Traceback (most recent call last)",
      "\u001b[0;32m<ipython-input-8-74e98e7aad18>\u001b[0m in \u001b[0;36m<module>\u001b[0;34m\u001b[0m\n\u001b[1;32m      2\u001b[0m \u001b[0mvalidation_dates\u001b[0m \u001b[0;34m=\u001b[0m \u001b[0;34m{\u001b[0m\u001b[0;34m'initial'\u001b[0m\u001b[0;34m:\u001b[0m\u001b[0;34m'2018-02-01'\u001b[0m\u001b[0;34m,\u001b[0m\u001b[0;34m'final'\u001b[0m\u001b[0;34m:\u001b[0m\u001b[0;34m'2018-02-03'\u001b[0m\u001b[0;34m}\u001b[0m\u001b[0;34m\u001b[0m\u001b[0;34m\u001b[0m\u001b[0m\n\u001b[1;32m      3\u001b[0m \u001b[0mcity_experiment\u001b[0m \u001b[0;34m=\u001b[0m \u001b[0mPredictionExperiment\u001b[0m\u001b[0;34m(\u001b[0m\u001b[0mdataset_info\u001b[0m\u001b[0;34m=\u001b[0m\u001b[0msiedco_info\u001b[0m\u001b[0;34m,\u001b[0m \u001b[0mcustom_filter\u001b[0m\u001b[0;34m=\u001b[0m\u001b[0mfilter_localidad\u001b[0m\u001b[0;34m,\u001b[0m\u001b[0mtrain_dates\u001b[0m\u001b[0;34m=\u001b[0m\u001b[0mtrain_dates\u001b[0m\u001b[0;34m,\u001b[0m \u001b[0mvalidation_dates\u001b[0m\u001b[0;34m=\u001b[0m\u001b[0mvalidation_dates\u001b[0m\u001b[0;34m,\u001b[0m \u001b[0mmodel\u001b[0m\u001b[0;34m=\u001b[0m\u001b[0mmodel\u001b[0m\u001b[0;34m,\u001b[0m\u001b[0mmetrics\u001b[0m\u001b[0;34m=\u001b[0m\u001b[0;34m''\u001b[0m\u001b[0;34m,\u001b[0m\u001b[0maggregation_data\u001b[0m\u001b[0;34m=\u001b[0m\u001b[0;34m''\u001b[0m\u001b[0;34m)\u001b[0m\u001b[0;34m\u001b[0m\u001b[0;34m\u001b[0m\u001b[0m\n\u001b[0;32m----> 4\u001b[0;31m \u001b[0maccuracy_array\u001b[0m \u001b[0;34m=\u001b[0m \u001b[0mcity_experiment\u001b[0m\u001b[0;34m.\u001b[0m\u001b[0mrun_ncv_experiment\u001b[0m\u001b[0;34m(\u001b[0m\u001b[0mtime_unit\u001b[0m\u001b[0;34m=\u001b[0m\u001b[0;34m''\u001b[0m\u001b[0;34m,\u001b[0m\u001b[0mgrid_size\u001b[0m\u001b[0;34m=\u001b[0m\u001b[0;36m150\u001b[0m\u001b[0;34m,\u001b[0m \u001b[0mouter_iterations\u001b[0m\u001b[0;34m=\u001b[0m\u001b[0;34m''\u001b[0m\u001b[0;34m)\u001b[0m\u001b[0;34m\u001b[0m\u001b[0;34m\u001b[0m\u001b[0m\n\u001b[0m",
      "\u001b[0;32m~/Documents/Riñas/aggressive_behavior_model/services/prediction_experiment.py\u001b[0m in \u001b[0;36mrun_ncv_experiment\u001b[0;34m(self, time_unit, grid_size, outer_iterations)\u001b[0m\n\u001b[1;32m     43\u001b[0m         \u001b[0mdf_train_validation\u001b[0m \u001b[0;34m=\u001b[0m \u001b[0mProcessData\u001b[0m\u001b[0;34m.\u001b[0m\u001b[0mselect_data\u001b[0m\u001b[0;34m(\u001b[0m\u001b[0mdf\u001b[0m\u001b[0;34m,\u001b[0m \u001b[0mself\u001b[0m\u001b[0;34m.\u001b[0m\u001b[0mdataset_info\u001b[0m\u001b[0;34m[\u001b[0m\u001b[0;34m'dict'\u001b[0m\u001b[0;34m]\u001b[0m\u001b[0;34m,\u001b[0m \u001b[0mself\u001b[0m\u001b[0;34m.\u001b[0m\u001b[0mcustom_filter\u001b[0m\u001b[0;34m,\u001b[0m \u001b[0mdates_interval\u001b[0m\u001b[0;34m)\u001b[0m\u001b[0;34m\u001b[0m\u001b[0;34m\u001b[0m\u001b[0m\n\u001b[1;32m     44\u001b[0m         \u001b[0mvalidation\u001b[0m \u001b[0;34m=\u001b[0m \u001b[0mValidateModel\u001b[0m\u001b[0;34m(\u001b[0m\u001b[0mdf_train_validation\u001b[0m\u001b[0;34m,\u001b[0m \u001b[0mself\u001b[0m\u001b[0;34m.\u001b[0m\u001b[0mdataset_info\u001b[0m\u001b[0;34m[\u001b[0m\u001b[0;34m'dict'\u001b[0m\u001b[0;34m]\u001b[0m\u001b[0;34m,\u001b[0m \u001b[0mtime_unit\u001b[0m\u001b[0;34m,\u001b[0m \u001b[0mouter_iterations\u001b[0m\u001b[0;34m)\u001b[0m\u001b[0;34m\u001b[0m\u001b[0;34m\u001b[0m\u001b[0m\n\u001b[0;32m---> 45\u001b[0;31m         \u001b[0mperformance_results\u001b[0m \u001b[0;34m=\u001b[0m \u001b[0mvalidation\u001b[0m\u001b[0;34m.\u001b[0m\u001b[0mwalk_fwd_chain\u001b[0m\u001b[0;34m(\u001b[0m\u001b[0mself\u001b[0m\u001b[0;34m.\u001b[0m\u001b[0mmodel\u001b[0m\u001b[0;34m,\u001b[0m \u001b[0mgrid_size\u001b[0m\u001b[0;34m,\u001b[0m \u001b[0mself\u001b[0m\u001b[0;34m.\u001b[0m\u001b[0mtrain_dates\u001b[0m\u001b[0;34m,\u001b[0m \u001b[0mself\u001b[0m\u001b[0;34m.\u001b[0m\u001b[0mvalidation_dates\u001b[0m\u001b[0;34m,\u001b[0m \u001b[0mself\u001b[0m\u001b[0;34m.\u001b[0m\u001b[0mmetrics\u001b[0m\u001b[0;34m)\u001b[0m\u001b[0;34m\u001b[0m\u001b[0;34m\u001b[0m\u001b[0m\n\u001b[0m\u001b[1;32m     46\u001b[0m         \u001b[0;32mreturn\u001b[0m \u001b[0mperformance_results\u001b[0m\u001b[0;34m\u001b[0m\u001b[0;34m\u001b[0m\u001b[0m\n\u001b[1;32m     47\u001b[0m \u001b[0;34m\u001b[0m\u001b[0m\n",
      "\u001b[0;32m~/Documents/Riñas/aggressive_behavior_model/services/validate_model.py\u001b[0m in \u001b[0;36mwalk_fwd_chain\u001b[0;34m(self, model_class_name, grid_size, train_dates, validation_dates, metrics)\u001b[0m\n\u001b[1;32m     79\u001b[0m             \u001b[0mprint\u001b[0m\u001b[0;34m(\u001b[0m\u001b[0;34m'train_subset_dates'\u001b[0m\u001b[0;34m,\u001b[0m \u001b[0mtrain_subset_dates\u001b[0m\u001b[0;34m)\u001b[0m\u001b[0;34m\u001b[0m\u001b[0;34m\u001b[0m\u001b[0m\n\u001b[1;32m     80\u001b[0m             \u001b[0mprint\u001b[0m\u001b[0;34m(\u001b[0m\u001b[0;34m'current_validation_date'\u001b[0m\u001b[0;34m,\u001b[0m \u001b[0mcurrent_validation_date\u001b[0m\u001b[0;34m)\u001b[0m\u001b[0;34m\u001b[0m\u001b[0;34m\u001b[0m\u001b[0m\n\u001b[0;32m---> 81\u001b[0;31m             \u001b[0mperformance_metrics\u001b[0m \u001b[0;34m=\u001b[0m \u001b[0mself\u001b[0m\u001b[0;34m.\u001b[0m\u001b[0minner_loop_validation\u001b[0m\u001b[0;34m(\u001b[0m\u001b[0mmodel_class_name\u001b[0m\u001b[0;34m,\u001b[0m \u001b[0mgrid_size\u001b[0m\u001b[0;34m,\u001b[0m \u001b[0mtrain_subset_dates\u001b[0m\u001b[0;34m,\u001b[0m \u001b[0mcurrent_validation_date\u001b[0m\u001b[0;34m,\u001b[0m \u001b[0mmetrics\u001b[0m\u001b[0;34m)\u001b[0m\u001b[0;34m\u001b[0m\u001b[0;34m\u001b[0m\u001b[0m\n\u001b[0m\u001b[1;32m     82\u001b[0m             \u001b[0mperformance_array\u001b[0m\u001b[0;34m.\u001b[0m\u001b[0mappend\u001b[0m\u001b[0;34m(\u001b[0m\u001b[0mperformance_metrics\u001b[0m\u001b[0;34m)\u001b[0m\u001b[0;34m\u001b[0m\u001b[0;34m\u001b[0m\u001b[0m\n\u001b[1;32m     83\u001b[0m             \u001b[0mtrain_subset_dates\u001b[0m\u001b[0;34m,\u001b[0m \u001b[0mcurrent_validation_date\u001b[0m \u001b[0;34m=\u001b[0m \u001b[0mValidateModel\u001b[0m\u001b[0;34m.\u001b[0m\u001b[0mupdate_train_validation_subsets\u001b[0m\u001b[0;34m(\u001b[0m\u001b[0mtrain_subset_dates\u001b[0m\u001b[0;34m,\u001b[0m\u001b[0mcurrent_validation_date\u001b[0m\u001b[0;34m)\u001b[0m\u001b[0;34m\u001b[0m\u001b[0;34m\u001b[0m\u001b[0m\n",
      "\u001b[0;32m~/Documents/Riñas/aggressive_behavior_model/services/validate_model.py\u001b[0m in \u001b[0;36minner_loop_validation\u001b[0;34m(self, model_class_name, grid_size, train_subset_dates, current_validation_date, metrics)\u001b[0m\n\u001b[1;32m     23\u001b[0m         \u001b[0mdf_train_subset\u001b[0m \u001b[0;34m=\u001b[0m \u001b[0mProcessData\u001b[0m\u001b[0;34m.\u001b[0m\u001b[0mfilter_by_date\u001b[0m\u001b[0;34m(\u001b[0m\u001b[0mself\u001b[0m\u001b[0;34m.\u001b[0m\u001b[0mdf_train_validation\u001b[0m\u001b[0;34m,\u001b[0m \u001b[0mself\u001b[0m\u001b[0;34m.\u001b[0m\u001b[0mdataset_dict\u001b[0m\u001b[0;34m,\u001b[0m \u001b[0mtrain_subset_dates\u001b[0m\u001b[0;34m[\u001b[0m\u001b[0;34m'initial'\u001b[0m\u001b[0;34m]\u001b[0m\u001b[0;34m,\u001b[0m \u001b[0mtrain_subset_dates\u001b[0m\u001b[0;34m[\u001b[0m\u001b[0;34m'final'\u001b[0m\u001b[0;34m]\u001b[0m\u001b[0;34m)\u001b[0m\u001b[0;34m\u001b[0m\u001b[0;34m\u001b[0m\u001b[0m\n\u001b[1;32m     24\u001b[0m         \u001b[0mprint\u001b[0m\u001b[0;34m(\u001b[0m\u001b[0mlen\u001b[0m\u001b[0;34m(\u001b[0m\u001b[0mdf_train_subset\u001b[0m\u001b[0;34m)\u001b[0m\u001b[0;34m)\u001b[0m\u001b[0;34m\u001b[0m\u001b[0;34m\u001b[0m\u001b[0m\n\u001b[0;32m---> 25\u001b[0;31m         \u001b[0mtrained_model\u001b[0m \u001b[0;34m=\u001b[0m \u001b[0mmodel_object\u001b[0m\u001b[0;34m.\u001b[0m\u001b[0mtrain\u001b[0m\u001b[0;34m(\u001b[0m\u001b[0mdf_train_subset\u001b[0m\u001b[0;34m,\u001b[0m \u001b[0mself\u001b[0m\u001b[0;34m.\u001b[0m\u001b[0mdataset_dict\u001b[0m\u001b[0;34m,\u001b[0m \u001b[0mgrid_size\u001b[0m\u001b[0;34m)\u001b[0m\u001b[0;34m\u001b[0m\u001b[0;34m\u001b[0m\u001b[0m\n\u001b[0m\u001b[1;32m     26\u001b[0m         \u001b[0;31m## TODO: save trained_model\u001b[0m\u001b[0;34m\u001b[0m\u001b[0;34m\u001b[0m\u001b[0;34m\u001b[0m\u001b[0m\n\u001b[1;32m     27\u001b[0m \u001b[0;34m\u001b[0m\u001b[0m\n",
      "\u001b[0;32m~/Documents/Riñas/aggressive_behavior_model/services/aggressive_model.py\u001b[0m in \u001b[0;36mtrain\u001b[0;34m(self, df_train_subset, dataset_dict, grid_size)\u001b[0m\n\u001b[1;32m     40\u001b[0m         \u001b[0mtrainer\u001b[0m \u001b[0;34m=\u001b[0m \u001b[0mseppexp\u001b[0m\u001b[0;34m.\u001b[0m\u001b[0mSEPPTrainer\u001b[0m\u001b[0;34m(\u001b[0m\u001b[0mregion\u001b[0m\u001b[0;34m=\u001b[0m\u001b[0mtraining_region\u001b[0m\u001b[0;34m,\u001b[0m \u001b[0mgrid_size\u001b[0m\u001b[0;34m=\u001b[0m\u001b[0mgrid_size\u001b[0m\u001b[0;34m)\u001b[0m\u001b[0;34m\u001b[0m\u001b[0;34m\u001b[0m\u001b[0m\n\u001b[1;32m     41\u001b[0m         \u001b[0mtrainer\u001b[0m\u001b[0;34m.\u001b[0m\u001b[0mdata\u001b[0m \u001b[0;34m=\u001b[0m \u001b[0mtraining_points\u001b[0m\u001b[0;34m\u001b[0m\u001b[0;34m\u001b[0m\u001b[0m\n\u001b[0;32m---> 42\u001b[0;31m         \u001b[0mtrained_model\u001b[0m \u001b[0;34m=\u001b[0m \u001b[0mtrainer\u001b[0m\u001b[0;34m.\u001b[0m\u001b[0mtrain\u001b[0m\u001b[0;34m(\u001b[0m\u001b[0miterations\u001b[0m\u001b[0;34m=\u001b[0m\u001b[0;36m100\u001b[0m\u001b[0;34m,\u001b[0m \u001b[0muse_corrected\u001b[0m\u001b[0;34m=\u001b[0m\u001b[0;32mTrue\u001b[0m\u001b[0;34m)\u001b[0m\u001b[0;34m\u001b[0m\u001b[0;34m\u001b[0m\u001b[0m\n\u001b[0m\u001b[1;32m     43\u001b[0m         \u001b[0mtrained_model\u001b[0m\u001b[0;34m.\u001b[0m\u001b[0mdata\u001b[0m \u001b[0;34m=\u001b[0m \u001b[0mtraining_points\u001b[0m\u001b[0;34m\u001b[0m\u001b[0;34m\u001b[0m\u001b[0m\n\u001b[1;32m     44\u001b[0m         \u001b[0;32mreturn\u001b[0m \u001b[0mtrained_model\u001b[0m\u001b[0;34m\u001b[0m\u001b[0;34m\u001b[0m\u001b[0m\n",
      "\u001b[0;32m~/anaconda3/lib/python3.7/site-packages/open_cp/seppexp.py\u001b[0m in \u001b[0;36mtrain\u001b[0;34m(self, cutoff_time, iterations, use_corrected)\u001b[0m\n\u001b[1;32m    313\u001b[0m                 \u001b[0momega\u001b[0m\u001b[0;34m,\u001b[0m \u001b[0mtheta\u001b[0m\u001b[0;34m,\u001b[0m \u001b[0mmu\u001b[0m \u001b[0;34m=\u001b[0m \u001b[0mmaximisation_corrected\u001b[0m\u001b[0;34m(\u001b[0m\u001b[0mcells\u001b[0m\u001b[0;34m,\u001b[0m \u001b[0momega\u001b[0m\u001b[0;34m,\u001b[0m \u001b[0mtheta\u001b[0m\u001b[0;34m,\u001b[0m \u001b[0mmu\u001b[0m\u001b[0;34m,\u001b[0m \u001b[0mtime_duration\u001b[0m\u001b[0;34m)\u001b[0m\u001b[0;34m\u001b[0m\u001b[0;34m\u001b[0m\u001b[0m\n\u001b[1;32m    314\u001b[0m                 \u001b[0;32mif\u001b[0m \u001b[0;32mnot\u001b[0m \u001b[0m_np\u001b[0m\u001b[0;34m.\u001b[0m\u001b[0mall\u001b[0m\u001b[0;34m(\u001b[0m\u001b[0m_np\u001b[0m\u001b[0;34m.\u001b[0m\u001b[0misfinite\u001b[0m\u001b[0;34m(\u001b[0m\u001b[0;34m[\u001b[0m\u001b[0momega\u001b[0m\u001b[0;34m,\u001b[0m \u001b[0mtheta\u001b[0m\u001b[0;34m]\u001b[0m\u001b[0;34m)\u001b[0m\u001b[0;34m)\u001b[0m \u001b[0;32mor\u001b[0m \u001b[0;32mnot\u001b[0m \u001b[0m_np\u001b[0m\u001b[0;34m.\u001b[0m\u001b[0mall\u001b[0m\u001b[0;34m(\u001b[0m\u001b[0m_np\u001b[0m\u001b[0;34m.\u001b[0m\u001b[0misfinite\u001b[0m\u001b[0;34m(\u001b[0m\u001b[0mmu\u001b[0m\u001b[0;34m)\u001b[0m\u001b[0;34m)\u001b[0m\u001b[0;34m:\u001b[0m\u001b[0;34m\u001b[0m\u001b[0;34m\u001b[0m\u001b[0m\n\u001b[0;32m--> 315\u001b[0;31m                     \u001b[0;32mraise\u001b[0m \u001b[0mException\u001b[0m\u001b[0;34m(\u001b[0m\u001b[0;34m\"Convergence failed!\"\u001b[0m\u001b[0;34m)\u001b[0m\u001b[0;34m\u001b[0m\u001b[0;34m\u001b[0m\u001b[0m\n\u001b[0m\u001b[1;32m    316\u001b[0m             self._logger.debug(\"Using edge-corrected algorithm, estimated omega=%s, theta=%s, mu=%s\",\n\u001b[1;32m    317\u001b[0m                                omega, theta, mu)\n",
      "\u001b[0;31mException\u001b[0m: Convergence failed!"
     ]
    }
   ],
   "source": [
    "train_dates = {'initial':'2018-01-01','final':'2018-01-20'}\n",
    "validation_dates = {'initial':'2018-02-01','final':'2018-02-03'}\n",
    "city_experiment = PredictionExperiment(dataset_info=siedco_info, custom_filter=filter_localidad,train_dates=train_dates, validation_dates=validation_dates, model=model,metrics='',aggregation_data='')\n",
    "accuracy_array = city_experiment.run_ncv_experiment(time_unit='',grid_size=150, outer_iterations='')\n"
   ]
  },
  {
   "cell_type": "markdown",
   "metadata": {},
   "source": [
    "## Localidad with high level of crimes (Ciudad Bolívar): sweep training dates (select dates to keep at least 1000 points on training)\n",
    "\n",
    "These experiments took about two days..."
   ]
  },
  {
   "cell_type": "code",
   "execution_count": 9,
   "metadata": {},
   "outputs": [],
   "source": [
    "filter_localidad = {'field':'LOCALIDAD','value':'CIUDAD BOLIVAR'}\n",
    "model = \"SEPPexp\"\n",
    "metrics = ''\n",
    "aggregation = ''"
   ]
  },
  {
   "cell_type": "code",
   "execution_count": 10,
   "metadata": {},
   "outputs": [
    {
     "name": "stderr",
     "output_type": "stream",
     "text": [
      "/u01/user8/anaconda3/lib/python3.7/site-packages/ipykernel_launcher.py:4: DtypeWarning: Columns (32,44) have mixed types. Specify dtype option on import or set low_memory=False.\n",
      "  after removing the cwd from sys.path.\n"
     ]
    },
    {
     "name": "stdout",
     "output_type": "stream",
     "text": [
      "train_subset_dates {'initial': datetime.datetime(2015, 1, 1, 0, 0), 'final': datetime.datetime(2015, 9, 30, 0, 0)}\n",
      "current_validation_date 2015-10-01 00:00:00\n",
      "1039\n",
      "train_subset_dates {'initial': datetime.datetime(2015, 1, 1, 0, 0), 'final': datetime.datetime(2015, 10, 1, 0, 0)}\n",
      "current_validation_date 2015-10-02 00:00:00\n",
      "1043\n",
      "train_subset_dates {'initial': datetime.datetime(2015, 1, 1, 0, 0), 'final': datetime.datetime(2015, 10, 2, 0, 0)}\n",
      "current_validation_date 2015-10-03 00:00:00\n",
      "1045\n"
     ]
    }
   ],
   "source": [
    "train_dates = {'initial':'2015-01-01','final':'2015-09-30'}\n",
    "validation_dates = {'initial':'2015-10-01','final':'2015-10-03'}\n",
    "ciudad_bolivar_experiment = PredictionExperiment(dataset_info=siedco_info, custom_filter=filter_localidad,train_dates=train_dates, validation_dates=validation_dates, model=model,metrics='',aggregation_data='')\n",
    "accuracy_array = ciudad_bolivar_experiment.run_ncv_experiment(time_unit='',grid_size=150, outer_iterations='')"
   ]
  },
  {
   "cell_type": "code",
   "execution_count": 11,
   "metadata": {},
   "outputs": [
    {
     "name": "stderr",
     "output_type": "stream",
     "text": [
      "/u01/user8/anaconda3/lib/python3.7/site-packages/ipykernel_launcher.py:4: DtypeWarning: Columns (32,44) have mixed types. Specify dtype option on import or set low_memory=False.\n",
      "  after removing the cwd from sys.path.\n"
     ]
    },
    {
     "name": "stdout",
     "output_type": "stream",
     "text": [
      "train_subset_dates {'initial': datetime.datetime(2016, 1, 1, 0, 0), 'final': datetime.datetime(2016, 7, 30, 0, 0)}\n",
      "current_validation_date 2016-08-01 00:00:00\n",
      "1057\n",
      "train_subset_dates {'initial': datetime.datetime(2016, 1, 1, 0, 0), 'final': datetime.datetime(2016, 7, 31, 0, 0)}\n",
      "current_validation_date 2016-08-02 00:00:00\n",
      "1063\n",
      "train_subset_dates {'initial': datetime.datetime(2016, 1, 1, 0, 0), 'final': datetime.datetime(2016, 8, 1, 0, 0)}\n",
      "current_validation_date 2016-08-03 00:00:00\n",
      "1069\n"
     ]
    }
   ],
   "source": [
    "train_dates = {'initial':'2016-01-01','final':'2016-07-30'}\n",
    "validation_dates = {'initial':'2016-08-01','final':'2016-08-03'}\n",
    "ciudad_bolivar_experiment = PredictionExperiment(dataset_info=siedco_info, custom_filter=filter_localidad,train_dates=train_dates, validation_dates=validation_dates, model=model,metrics='',aggregation_data='')\n",
    "accuracy_array = ciudad_bolivar_experiment.run_ncv_experiment(time_unit='',grid_size=150, outer_iterations='')"
   ]
  },
  {
   "cell_type": "code",
   "execution_count": 12,
   "metadata": {},
   "outputs": [
    {
     "name": "stderr",
     "output_type": "stream",
     "text": [
      "/u01/user8/anaconda3/lib/python3.7/site-packages/ipykernel_launcher.py:4: DtypeWarning: Columns (32,44) have mixed types. Specify dtype option on import or set low_memory=False.\n",
      "  after removing the cwd from sys.path.\n"
     ]
    },
    {
     "name": "stdout",
     "output_type": "stream",
     "text": [
      "train_subset_dates {'initial': datetime.datetime(2017, 1, 1, 0, 0), 'final': datetime.datetime(2017, 7, 30, 0, 0)}\n",
      "current_validation_date 2017-08-01 00:00:00\n",
      "1171\n",
      "train_subset_dates {'initial': datetime.datetime(2017, 1, 1, 0, 0), 'final': datetime.datetime(2017, 7, 31, 0, 0)}\n",
      "current_validation_date 2017-08-02 00:00:00\n",
      "1177\n"
     ]
    },
    {
     "name": "stderr",
     "output_type": "stream",
     "text": [
      "../services/process_data.py:67: UserWarning: Empty filter result, check dates. Initial date: 2017-08-02, final date: 2017-08-02\n",
      "  warnings.warn('Empty filter result, check dates. Initial date: '+initial_date.strftime('%Y-%m-%d')+', final date: '+final_date.strftime('%Y-%m-%d'))\n"
     ]
    },
    {
     "name": "stdout",
     "output_type": "stream",
     "text": [
      "train_subset_dates {'initial': datetime.datetime(2017, 1, 1, 0, 0), 'final': datetime.datetime(2017, 8, 1, 0, 0)}\n",
      "current_validation_date 2017-08-03 00:00:00\n",
      "1183\n"
     ]
    }
   ],
   "source": [
    "train_dates = {'initial':'2017-01-01','final':'2017-07-30'}\n",
    "validation_dates = {'initial':'2017-08-01','final':'2017-08-03'}\n",
    "ciudad_bolivar_experiment = PredictionExperiment(dataset_info=siedco_info, custom_filter=filter_localidad,train_dates=train_dates, validation_dates=validation_dates, model=model,metrics='',aggregation_data='')\n",
    "accuracy_array = ciudad_bolivar_experiment.run_ncv_experiment(time_unit='',grid_size=150, outer_iterations='')"
   ]
  },
  {
   "cell_type": "code",
   "execution_count": 20,
   "metadata": {
    "scrolled": false
   },
   "outputs": [
    {
     "name": "stderr",
     "output_type": "stream",
     "text": [
      "/u01/user8/anaconda3/lib/python3.7/site-packages/ipykernel_launcher.py:4: DtypeWarning: Columns (32,44) have mixed types. Specify dtype option on import or set low_memory=False.\n",
      "  after removing the cwd from sys.path.\n"
     ]
    },
    {
     "name": "stdout",
     "output_type": "stream",
     "text": [
      "train_subset_dates {'initial': datetime.datetime(2018, 1, 1, 0, 0), 'final': datetime.datetime(2018, 7, 28, 0, 0)}\n",
      "current_validation_date 2018-08-01 00:00:00\n",
      "1190\n",
      "train_subset_dates {'initial': datetime.datetime(2018, 1, 1, 0, 0), 'final': datetime.datetime(2018, 7, 29, 0, 0)}\n",
      "current_validation_date 2018-08-02 00:00:00\n",
      "1202\n"
     ]
    },
    {
     "ename": "Exception",
     "evalue": "Convergence failed!",
     "output_type": "error",
     "traceback": [
      "\u001b[0;31m---------------------------------------------------------------------------\u001b[0m",
      "\u001b[0;31mException\u001b[0m                                 Traceback (most recent call last)",
      "\u001b[0;32m<ipython-input-20-864e13bd0fda>\u001b[0m in \u001b[0;36m<module>\u001b[0;34m\u001b[0m\n\u001b[1;32m      2\u001b[0m \u001b[0mvalidation_dates\u001b[0m \u001b[0;34m=\u001b[0m \u001b[0;34m{\u001b[0m\u001b[0;34m'initial'\u001b[0m\u001b[0;34m:\u001b[0m\u001b[0;34m'2018-08-01'\u001b[0m\u001b[0;34m,\u001b[0m\u001b[0;34m'final'\u001b[0m\u001b[0;34m:\u001b[0m\u001b[0;34m'2018-08-03'\u001b[0m\u001b[0;34m}\u001b[0m\u001b[0;34m\u001b[0m\u001b[0;34m\u001b[0m\u001b[0m\n\u001b[1;32m      3\u001b[0m \u001b[0mciudad_bolivar_experiment\u001b[0m \u001b[0;34m=\u001b[0m \u001b[0mPredictionExperiment\u001b[0m\u001b[0;34m(\u001b[0m\u001b[0mdataset_info\u001b[0m\u001b[0;34m=\u001b[0m\u001b[0msiedco_info\u001b[0m\u001b[0;34m,\u001b[0m \u001b[0mcustom_filter\u001b[0m\u001b[0;34m=\u001b[0m\u001b[0mfilter_localidad\u001b[0m\u001b[0;34m,\u001b[0m\u001b[0mtrain_dates\u001b[0m\u001b[0;34m=\u001b[0m\u001b[0mtrain_dates\u001b[0m\u001b[0;34m,\u001b[0m \u001b[0mvalidation_dates\u001b[0m\u001b[0;34m=\u001b[0m\u001b[0mvalidation_dates\u001b[0m\u001b[0;34m,\u001b[0m \u001b[0mmodel\u001b[0m\u001b[0;34m=\u001b[0m\u001b[0mmodel\u001b[0m\u001b[0;34m,\u001b[0m\u001b[0mmetrics\u001b[0m\u001b[0;34m=\u001b[0m\u001b[0;34m''\u001b[0m\u001b[0;34m,\u001b[0m\u001b[0maggregation_data\u001b[0m\u001b[0;34m=\u001b[0m\u001b[0;34m''\u001b[0m\u001b[0;34m)\u001b[0m\u001b[0;34m\u001b[0m\u001b[0;34m\u001b[0m\u001b[0m\n\u001b[0;32m----> 4\u001b[0;31m \u001b[0maccuracy_array\u001b[0m \u001b[0;34m=\u001b[0m \u001b[0mciudad_bolivar_experiment\u001b[0m\u001b[0;34m.\u001b[0m\u001b[0mrun_ncv_experiment\u001b[0m\u001b[0;34m(\u001b[0m\u001b[0mtime_unit\u001b[0m\u001b[0;34m=\u001b[0m\u001b[0;34m''\u001b[0m\u001b[0;34m,\u001b[0m\u001b[0mgrid_size\u001b[0m\u001b[0;34m=\u001b[0m\u001b[0;36m150\u001b[0m\u001b[0;34m,\u001b[0m \u001b[0mouter_iterations\u001b[0m\u001b[0;34m=\u001b[0m\u001b[0;34m''\u001b[0m\u001b[0;34m)\u001b[0m\u001b[0;34m\u001b[0m\u001b[0;34m\u001b[0m\u001b[0m\n\u001b[0m",
      "\u001b[0;32m~/Documents/Riñas/aggressive_behavior_model/services/prediction_experiment.py\u001b[0m in \u001b[0;36mrun_ncv_experiment\u001b[0;34m(self, time_unit, grid_size, outer_iterations)\u001b[0m\n\u001b[1;32m     43\u001b[0m         \u001b[0mdf_train_validation\u001b[0m \u001b[0;34m=\u001b[0m \u001b[0mProcessData\u001b[0m\u001b[0;34m.\u001b[0m\u001b[0mselect_data\u001b[0m\u001b[0;34m(\u001b[0m\u001b[0mdf\u001b[0m\u001b[0;34m,\u001b[0m \u001b[0mself\u001b[0m\u001b[0;34m.\u001b[0m\u001b[0mdataset_info\u001b[0m\u001b[0;34m[\u001b[0m\u001b[0;34m'dict'\u001b[0m\u001b[0;34m]\u001b[0m\u001b[0;34m,\u001b[0m \u001b[0mself\u001b[0m\u001b[0;34m.\u001b[0m\u001b[0mcustom_filter\u001b[0m\u001b[0;34m,\u001b[0m \u001b[0mdates_interval\u001b[0m\u001b[0;34m)\u001b[0m\u001b[0;34m\u001b[0m\u001b[0;34m\u001b[0m\u001b[0m\n\u001b[1;32m     44\u001b[0m         \u001b[0mvalidation\u001b[0m \u001b[0;34m=\u001b[0m \u001b[0mValidateModel\u001b[0m\u001b[0;34m(\u001b[0m\u001b[0mdf_train_validation\u001b[0m\u001b[0;34m,\u001b[0m \u001b[0mself\u001b[0m\u001b[0;34m.\u001b[0m\u001b[0mdataset_info\u001b[0m\u001b[0;34m[\u001b[0m\u001b[0;34m'dict'\u001b[0m\u001b[0;34m]\u001b[0m\u001b[0;34m,\u001b[0m \u001b[0mtime_unit\u001b[0m\u001b[0;34m,\u001b[0m \u001b[0mouter_iterations\u001b[0m\u001b[0;34m)\u001b[0m\u001b[0;34m\u001b[0m\u001b[0;34m\u001b[0m\u001b[0m\n\u001b[0;32m---> 45\u001b[0;31m         \u001b[0mperformance_results\u001b[0m \u001b[0;34m=\u001b[0m \u001b[0mvalidation\u001b[0m\u001b[0;34m.\u001b[0m\u001b[0mwalk_fwd_chain\u001b[0m\u001b[0;34m(\u001b[0m\u001b[0mself\u001b[0m\u001b[0;34m.\u001b[0m\u001b[0mmodel\u001b[0m\u001b[0;34m,\u001b[0m \u001b[0mgrid_size\u001b[0m\u001b[0;34m,\u001b[0m \u001b[0mself\u001b[0m\u001b[0;34m.\u001b[0m\u001b[0mtrain_dates\u001b[0m\u001b[0;34m,\u001b[0m \u001b[0mself\u001b[0m\u001b[0;34m.\u001b[0m\u001b[0mvalidation_dates\u001b[0m\u001b[0;34m,\u001b[0m \u001b[0mself\u001b[0m\u001b[0;34m.\u001b[0m\u001b[0mmetrics\u001b[0m\u001b[0;34m)\u001b[0m\u001b[0;34m\u001b[0m\u001b[0;34m\u001b[0m\u001b[0m\n\u001b[0m\u001b[1;32m     46\u001b[0m         \u001b[0;32mreturn\u001b[0m \u001b[0mperformance_results\u001b[0m\u001b[0;34m\u001b[0m\u001b[0;34m\u001b[0m\u001b[0m\n\u001b[1;32m     47\u001b[0m \u001b[0;34m\u001b[0m\u001b[0m\n",
      "\u001b[0;32m~/Documents/Riñas/aggressive_behavior_model/services/validate_model.py\u001b[0m in \u001b[0;36mwalk_fwd_chain\u001b[0;34m(self, model_class_name, grid_size, train_dates, validation_dates, metrics)\u001b[0m\n\u001b[1;32m     79\u001b[0m             \u001b[0mprint\u001b[0m\u001b[0;34m(\u001b[0m\u001b[0;34m'train_subset_dates'\u001b[0m\u001b[0;34m,\u001b[0m \u001b[0mtrain_subset_dates\u001b[0m\u001b[0;34m)\u001b[0m\u001b[0;34m\u001b[0m\u001b[0;34m\u001b[0m\u001b[0m\n\u001b[1;32m     80\u001b[0m             \u001b[0mprint\u001b[0m\u001b[0;34m(\u001b[0m\u001b[0;34m'current_validation_date'\u001b[0m\u001b[0;34m,\u001b[0m \u001b[0mcurrent_validation_date\u001b[0m\u001b[0;34m)\u001b[0m\u001b[0;34m\u001b[0m\u001b[0;34m\u001b[0m\u001b[0m\n\u001b[0;32m---> 81\u001b[0;31m             \u001b[0mperformance_metrics\u001b[0m \u001b[0;34m=\u001b[0m \u001b[0mself\u001b[0m\u001b[0;34m.\u001b[0m\u001b[0minner_loop_validation\u001b[0m\u001b[0;34m(\u001b[0m\u001b[0mmodel_class_name\u001b[0m\u001b[0;34m,\u001b[0m \u001b[0mgrid_size\u001b[0m\u001b[0;34m,\u001b[0m \u001b[0mtrain_subset_dates\u001b[0m\u001b[0;34m,\u001b[0m \u001b[0mcurrent_validation_date\u001b[0m\u001b[0;34m,\u001b[0m \u001b[0mmetrics\u001b[0m\u001b[0;34m)\u001b[0m\u001b[0;34m\u001b[0m\u001b[0;34m\u001b[0m\u001b[0m\n\u001b[0m\u001b[1;32m     82\u001b[0m             \u001b[0mperformance_array\u001b[0m\u001b[0;34m.\u001b[0m\u001b[0mappend\u001b[0m\u001b[0;34m(\u001b[0m\u001b[0mperformance_metrics\u001b[0m\u001b[0;34m)\u001b[0m\u001b[0;34m\u001b[0m\u001b[0;34m\u001b[0m\u001b[0m\n\u001b[1;32m     83\u001b[0m             \u001b[0mtrain_subset_dates\u001b[0m\u001b[0;34m,\u001b[0m \u001b[0mcurrent_validation_date\u001b[0m \u001b[0;34m=\u001b[0m \u001b[0mValidateModel\u001b[0m\u001b[0;34m.\u001b[0m\u001b[0mupdate_train_validation_subsets\u001b[0m\u001b[0;34m(\u001b[0m\u001b[0mtrain_subset_dates\u001b[0m\u001b[0;34m,\u001b[0m\u001b[0mcurrent_validation_date\u001b[0m\u001b[0;34m)\u001b[0m\u001b[0;34m\u001b[0m\u001b[0;34m\u001b[0m\u001b[0m\n",
      "\u001b[0;32m~/Documents/Riñas/aggressive_behavior_model/services/validate_model.py\u001b[0m in \u001b[0;36minner_loop_validation\u001b[0;34m(self, model_class_name, grid_size, train_subset_dates, current_validation_date, metrics)\u001b[0m\n\u001b[1;32m     23\u001b[0m         \u001b[0mdf_train_subset\u001b[0m \u001b[0;34m=\u001b[0m \u001b[0mProcessData\u001b[0m\u001b[0;34m.\u001b[0m\u001b[0mfilter_by_date\u001b[0m\u001b[0;34m(\u001b[0m\u001b[0mself\u001b[0m\u001b[0;34m.\u001b[0m\u001b[0mdf_train_validation\u001b[0m\u001b[0;34m,\u001b[0m \u001b[0mself\u001b[0m\u001b[0;34m.\u001b[0m\u001b[0mdataset_dict\u001b[0m\u001b[0;34m,\u001b[0m \u001b[0mtrain_subset_dates\u001b[0m\u001b[0;34m[\u001b[0m\u001b[0;34m'initial'\u001b[0m\u001b[0;34m]\u001b[0m\u001b[0;34m,\u001b[0m \u001b[0mtrain_subset_dates\u001b[0m\u001b[0;34m[\u001b[0m\u001b[0;34m'final'\u001b[0m\u001b[0;34m]\u001b[0m\u001b[0;34m)\u001b[0m\u001b[0;34m\u001b[0m\u001b[0;34m\u001b[0m\u001b[0m\n\u001b[1;32m     24\u001b[0m         \u001b[0mprint\u001b[0m\u001b[0;34m(\u001b[0m\u001b[0mlen\u001b[0m\u001b[0;34m(\u001b[0m\u001b[0mdf_train_subset\u001b[0m\u001b[0;34m)\u001b[0m\u001b[0;34m)\u001b[0m\u001b[0;34m\u001b[0m\u001b[0;34m\u001b[0m\u001b[0m\n\u001b[0;32m---> 25\u001b[0;31m         \u001b[0mtrained_model\u001b[0m \u001b[0;34m=\u001b[0m \u001b[0mmodel_object\u001b[0m\u001b[0;34m.\u001b[0m\u001b[0mtrain\u001b[0m\u001b[0;34m(\u001b[0m\u001b[0mdf_train_subset\u001b[0m\u001b[0;34m,\u001b[0m \u001b[0mself\u001b[0m\u001b[0;34m.\u001b[0m\u001b[0mdataset_dict\u001b[0m\u001b[0;34m,\u001b[0m \u001b[0mgrid_size\u001b[0m\u001b[0;34m)\u001b[0m\u001b[0;34m\u001b[0m\u001b[0;34m\u001b[0m\u001b[0m\n\u001b[0m\u001b[1;32m     26\u001b[0m         \u001b[0;31m## TODO: save trained_model\u001b[0m\u001b[0;34m\u001b[0m\u001b[0;34m\u001b[0m\u001b[0;34m\u001b[0m\u001b[0m\n\u001b[1;32m     27\u001b[0m \u001b[0;34m\u001b[0m\u001b[0m\n",
      "\u001b[0;32m~/Documents/Riñas/aggressive_behavior_model/services/aggressive_model.py\u001b[0m in \u001b[0;36mtrain\u001b[0;34m(self, df_train_subset, dataset_dict, grid_size)\u001b[0m\n\u001b[1;32m     40\u001b[0m         \u001b[0mtrainer\u001b[0m \u001b[0;34m=\u001b[0m \u001b[0mseppexp\u001b[0m\u001b[0;34m.\u001b[0m\u001b[0mSEPPTrainer\u001b[0m\u001b[0;34m(\u001b[0m\u001b[0mregion\u001b[0m\u001b[0;34m=\u001b[0m\u001b[0mtraining_region\u001b[0m\u001b[0;34m,\u001b[0m \u001b[0mgrid_size\u001b[0m\u001b[0;34m=\u001b[0m\u001b[0mgrid_size\u001b[0m\u001b[0;34m)\u001b[0m\u001b[0;34m\u001b[0m\u001b[0;34m\u001b[0m\u001b[0m\n\u001b[1;32m     41\u001b[0m         \u001b[0mtrainer\u001b[0m\u001b[0;34m.\u001b[0m\u001b[0mdata\u001b[0m \u001b[0;34m=\u001b[0m \u001b[0mtraining_points\u001b[0m\u001b[0;34m\u001b[0m\u001b[0;34m\u001b[0m\u001b[0m\n\u001b[0;32m---> 42\u001b[0;31m         \u001b[0mtrained_model\u001b[0m \u001b[0;34m=\u001b[0m \u001b[0mtrainer\u001b[0m\u001b[0;34m.\u001b[0m\u001b[0mtrain\u001b[0m\u001b[0;34m(\u001b[0m\u001b[0miterations\u001b[0m\u001b[0;34m=\u001b[0m\u001b[0;36m100\u001b[0m\u001b[0;34m,\u001b[0m \u001b[0muse_corrected\u001b[0m\u001b[0;34m=\u001b[0m\u001b[0;32mTrue\u001b[0m\u001b[0;34m)\u001b[0m\u001b[0;34m\u001b[0m\u001b[0;34m\u001b[0m\u001b[0m\n\u001b[0m\u001b[1;32m     43\u001b[0m         \u001b[0mtrained_model\u001b[0m\u001b[0;34m.\u001b[0m\u001b[0mdata\u001b[0m \u001b[0;34m=\u001b[0m \u001b[0mtraining_points\u001b[0m\u001b[0;34m\u001b[0m\u001b[0;34m\u001b[0m\u001b[0m\n\u001b[1;32m     44\u001b[0m         \u001b[0;32mreturn\u001b[0m \u001b[0mtrained_model\u001b[0m\u001b[0;34m\u001b[0m\u001b[0;34m\u001b[0m\u001b[0m\n",
      "\u001b[0;32m~/anaconda3/lib/python3.7/site-packages/open_cp/seppexp.py\u001b[0m in \u001b[0;36mtrain\u001b[0;34m(self, cutoff_time, iterations, use_corrected)\u001b[0m\n\u001b[1;32m    313\u001b[0m                 \u001b[0momega\u001b[0m\u001b[0;34m,\u001b[0m \u001b[0mtheta\u001b[0m\u001b[0;34m,\u001b[0m \u001b[0mmu\u001b[0m \u001b[0;34m=\u001b[0m \u001b[0mmaximisation_corrected\u001b[0m\u001b[0;34m(\u001b[0m\u001b[0mcells\u001b[0m\u001b[0;34m,\u001b[0m \u001b[0momega\u001b[0m\u001b[0;34m,\u001b[0m \u001b[0mtheta\u001b[0m\u001b[0;34m,\u001b[0m \u001b[0mmu\u001b[0m\u001b[0;34m,\u001b[0m \u001b[0mtime_duration\u001b[0m\u001b[0;34m)\u001b[0m\u001b[0;34m\u001b[0m\u001b[0;34m\u001b[0m\u001b[0m\n\u001b[1;32m    314\u001b[0m                 \u001b[0;32mif\u001b[0m \u001b[0;32mnot\u001b[0m \u001b[0m_np\u001b[0m\u001b[0;34m.\u001b[0m\u001b[0mall\u001b[0m\u001b[0;34m(\u001b[0m\u001b[0m_np\u001b[0m\u001b[0;34m.\u001b[0m\u001b[0misfinite\u001b[0m\u001b[0;34m(\u001b[0m\u001b[0;34m[\u001b[0m\u001b[0momega\u001b[0m\u001b[0;34m,\u001b[0m \u001b[0mtheta\u001b[0m\u001b[0;34m]\u001b[0m\u001b[0;34m)\u001b[0m\u001b[0;34m)\u001b[0m \u001b[0;32mor\u001b[0m \u001b[0;32mnot\u001b[0m \u001b[0m_np\u001b[0m\u001b[0;34m.\u001b[0m\u001b[0mall\u001b[0m\u001b[0;34m(\u001b[0m\u001b[0m_np\u001b[0m\u001b[0;34m.\u001b[0m\u001b[0misfinite\u001b[0m\u001b[0;34m(\u001b[0m\u001b[0mmu\u001b[0m\u001b[0;34m)\u001b[0m\u001b[0;34m)\u001b[0m\u001b[0;34m:\u001b[0m\u001b[0;34m\u001b[0m\u001b[0;34m\u001b[0m\u001b[0m\n\u001b[0;32m--> 315\u001b[0;31m                     \u001b[0;32mraise\u001b[0m \u001b[0mException\u001b[0m\u001b[0;34m(\u001b[0m\u001b[0;34m\"Convergence failed!\"\u001b[0m\u001b[0;34m)\u001b[0m\u001b[0;34m\u001b[0m\u001b[0;34m\u001b[0m\u001b[0m\n\u001b[0m\u001b[1;32m    316\u001b[0m             self._logger.debug(\"Using edge-corrected algorithm, estimated omega=%s, theta=%s, mu=%s\",\n\u001b[1;32m    317\u001b[0m                                omega, theta, mu)\n",
      "\u001b[0;31mException\u001b[0m: Convergence failed!"
     ]
    }
   ],
   "source": [
    "train_dates = {'initial':'2018-01-01','final':'2018-07-28'}\n",
    "validation_dates = {'initial':'2018-08-01','final':'2018-08-03'}\n",
    "ciudad_bolivar_experiment = PredictionExperiment(dataset_info=siedco_info, custom_filter=filter_localidad,train_dates=train_dates, validation_dates=validation_dates, model=model,metrics='',aggregation_data='')\n",
    "accuracy_array = ciudad_bolivar_experiment.run_ncv_experiment(time_unit='',grid_size=150, outer_iterations='')"
   ]
  },
  {
   "cell_type": "markdown",
   "metadata": {},
   "source": [
    "## Localidad with low level of crimes (Santa Fe): sweep training dates (select dates to keep at least 1000 points on training)\n",
    "\n",
    "These experiments took about "
   ]
  },
  {
   "cell_type": "code",
   "execution_count": 21,
   "metadata": {},
   "outputs": [],
   "source": [
    "filter_localidad = {'field':'LOCALIDAD','value':'SANTA FE'}\n",
    "model = \"SEPPexp\"\n",
    "metrics = ''\n",
    "aggregation = ''"
   ]
  },
  {
   "cell_type": "code",
   "execution_count": 22,
   "metadata": {},
   "outputs": [
    {
     "name": "stderr",
     "output_type": "stream",
     "text": [
      "/u01/user8/anaconda3/lib/python3.7/site-packages/ipykernel_launcher.py:4: DtypeWarning: Columns (32,44) have mixed types. Specify dtype option on import or set low_memory=False.\n",
      "  after removing the cwd from sys.path.\n"
     ]
    },
    {
     "name": "stdout",
     "output_type": "stream",
     "text": [
      "train_subset_dates {'initial': datetime.datetime(2015, 1, 1, 0, 0), 'final': datetime.datetime(2016, 12, 30, 0, 0)}\n",
      "current_validation_date 2017-01-01 00:00:00\n",
      "1256\n",
      "train_subset_dates {'initial': datetime.datetime(2015, 1, 1, 0, 0), 'final': datetime.datetime(2016, 12, 31, 0, 0)}\n",
      "current_validation_date 2017-01-02 00:00:00\n",
      "1257\n",
      "train_subset_dates {'initial': datetime.datetime(2015, 1, 1, 0, 0), 'final': datetime.datetime(2017, 1, 1, 0, 0)}\n",
      "current_validation_date 2017-01-03 00:00:00\n",
      "1263\n"
     ]
    }
   ],
   "source": [
    "train_dates = {'initial':'2015-01-01','final':'2016-12-30'}\n",
    "validation_dates = {'initial':'2017-01-01','final':'2017-01-03'}\n",
    "santa_fe_experiment = PredictionExperiment(dataset_info=siedco_info, custom_filter=filter_localidad,train_dates=train_dates, validation_dates=validation_dates, model=model,metrics='',aggregation_data='')\n",
    "accuracy_array = santa_fe_experiment.run_ncv_experiment(time_unit='',grid_size=150, outer_iterations='')"
   ]
  },
  {
   "cell_type": "code",
   "execution_count": 23,
   "metadata": {},
   "outputs": [
    {
     "name": "stderr",
     "output_type": "stream",
     "text": [
      "/u01/user8/anaconda3/lib/python3.7/site-packages/ipykernel_launcher.py:4: DtypeWarning: Columns (32,44) have mixed types. Specify dtype option on import or set low_memory=False.\n",
      "  after removing the cwd from sys.path.\n"
     ]
    },
    {
     "name": "stdout",
     "output_type": "stream",
     "text": [
      "train_subset_dates {'initial': datetime.datetime(2017, 1, 1, 0, 0), 'final': datetime.datetime(2018, 2, 28, 0, 0)}\n",
      "current_validation_date 2018-03-01 00:00:00\n",
      "1078\n"
     ]
    },
    {
     "name": "stderr",
     "output_type": "stream",
     "text": [
      "../services/process_data.py:67: UserWarning: Empty filter result, check dates. Initial date: 2018-03-01, final date: 2018-03-01\n",
      "  warnings.warn('Empty filter result, check dates. Initial date: '+initial_date.strftime('%Y-%m-%d')+', final date: '+final_date.strftime('%Y-%m-%d'))\n"
     ]
    },
    {
     "name": "stdout",
     "output_type": "stream",
     "text": [
      "train_subset_dates {'initial': datetime.datetime(2017, 1, 1, 0, 0), 'final': datetime.datetime(2018, 3, 1, 0, 0)}\n",
      "current_validation_date 2018-03-02 00:00:00\n",
      "1078\n"
     ]
    },
    {
     "name": "stderr",
     "output_type": "stream",
     "text": [
      "../services/process_data.py:67: UserWarning: Empty filter result, check dates. Initial date: 2018-03-02, final date: 2018-03-02\n",
      "  warnings.warn('Empty filter result, check dates. Initial date: '+initial_date.strftime('%Y-%m-%d')+', final date: '+final_date.strftime('%Y-%m-%d'))\n"
     ]
    },
    {
     "name": "stdout",
     "output_type": "stream",
     "text": [
      "train_subset_dates {'initial': datetime.datetime(2017, 1, 1, 0, 0), 'final': datetime.datetime(2018, 3, 2, 0, 0)}\n",
      "current_validation_date 2018-03-03 00:00:00\n",
      "1078\n"
     ]
    }
   ],
   "source": [
    "train_dates = {'initial':'2017-01-01','final':'2018-02-28'}\n",
    "validation_dates = {'initial':'2018-03-01','final':'2018-03-03'}\n",
    "santa_fe_experiment = PredictionExperiment(dataset_info=siedco_info, custom_filter=filter_localidad,train_dates=train_dates, validation_dates=validation_dates, model=model,metrics='',aggregation_data='')\n",
    "accuracy_array = santa_fe_experiment.run_ncv_experiment(time_unit='',grid_size=150, outer_iterations='')"
   ]
  },
  {
   "cell_type": "code",
   "execution_count": 24,
   "metadata": {},
   "outputs": [
    {
     "name": "stderr",
     "output_type": "stream",
     "text": [
      "/u01/user8/anaconda3/lib/python3.7/site-packages/ipykernel_launcher.py:4: DtypeWarning: Columns (32,44) have mixed types. Specify dtype option on import or set low_memory=False.\n",
      "  after removing the cwd from sys.path.\n"
     ]
    },
    {
     "name": "stdout",
     "output_type": "stream",
     "text": [
      "train_subset_dates {'initial': datetime.datetime(2018, 1, 1, 0, 0), 'final': datetime.datetime(2018, 12, 31, 0, 0)}\n",
      "current_validation_date 2019-01-01 00:00:00\n",
      "1023\n",
      "train_subset_dates {'initial': datetime.datetime(2018, 1, 1, 0, 0), 'final': datetime.datetime(2019, 1, 1, 0, 0)}\n",
      "current_validation_date 2019-01-02 00:00:00\n",
      "1024\n",
      "train_subset_dates {'initial': datetime.datetime(2018, 1, 1, 0, 0), 'final': datetime.datetime(2019, 1, 2, 0, 0)}\n",
      "current_validation_date 2019-01-03 00:00:00\n",
      "1027\n"
     ]
    }
   ],
   "source": [
    "train_dates = {'initial':'2018-01-01','final':'2018-12-31'}\n",
    "validation_dates = {'initial':'2019-01-01','final':'2019-01-03'}\n",
    "santa_fe_experiment = PredictionExperiment(dataset_info=siedco_info, custom_filter=filter_localidad,train_dates=train_dates, validation_dates=validation_dates, model=model,metrics='',aggregation_data='')\n",
    "accuracy_array = santa_fe_experiment.run_ncv_experiment(time_unit='',grid_size=150, outer_iterations='')"
   ]
  },
  {
   "cell_type": "code",
   "execution_count": 25,
   "metadata": {},
   "outputs": [
    {
     "name": "stderr",
     "output_type": "stream",
     "text": [
      "/u01/user8/anaconda3/lib/python3.7/site-packages/ipykernel_launcher.py:4: DtypeWarning: Columns (32,44) have mixed types. Specify dtype option on import or set low_memory=False.\n",
      "  after removing the cwd from sys.path.\n"
     ]
    },
    {
     "name": "stdout",
     "output_type": "stream",
     "text": [
      "train_subset_dates {'initial': datetime.datetime(2018, 8, 1, 0, 0), 'final': datetime.datetime(2019, 12, 31, 0, 0)}\n",
      "current_validation_date 2020-01-01 00:00:00\n",
      "1098\n"
     ]
    },
    {
     "name": "stderr",
     "output_type": "stream",
     "text": [
      "../services/process_data.py:67: UserWarning: Empty filter result, check dates. Initial date: 2020-01-01, final date: 2020-01-01\n",
      "  warnings.warn('Empty filter result, check dates. Initial date: '+initial_date.strftime('%Y-%m-%d')+', final date: '+final_date.strftime('%Y-%m-%d'))\n"
     ]
    },
    {
     "name": "stdout",
     "output_type": "stream",
     "text": [
      "train_subset_dates {'initial': datetime.datetime(2018, 8, 1, 0, 0), 'final': datetime.datetime(2020, 1, 1, 0, 0)}\n",
      "current_validation_date 2020-01-02 00:00:00\n",
      "1098\n"
     ]
    },
    {
     "name": "stderr",
     "output_type": "stream",
     "text": [
      "../services/process_data.py:67: UserWarning: Empty filter result, check dates. Initial date: 2020-01-02, final date: 2020-01-02\n",
      "  warnings.warn('Empty filter result, check dates. Initial date: '+initial_date.strftime('%Y-%m-%d')+', final date: '+final_date.strftime('%Y-%m-%d'))\n"
     ]
    },
    {
     "name": "stdout",
     "output_type": "stream",
     "text": [
      "train_subset_dates {'initial': datetime.datetime(2018, 8, 1, 0, 0), 'final': datetime.datetime(2020, 1, 2, 0, 0)}\n",
      "current_validation_date 2020-01-03 00:00:00\n",
      "1098\n"
     ]
    },
    {
     "name": "stderr",
     "output_type": "stream",
     "text": [
      "../services/process_data.py:67: UserWarning: Empty filter result, check dates. Initial date: 2020-01-03, final date: 2020-01-03\n",
      "  warnings.warn('Empty filter result, check dates. Initial date: '+initial_date.strftime('%Y-%m-%d')+', final date: '+final_date.strftime('%Y-%m-%d'))\n"
     ]
    }
   ],
   "source": [
    "train_dates = {'initial':'2018-08-01','final':'2019-12-31'}\n",
    "validation_dates = {'initial':'2020-01-01','final':'2020-01-03'}\n",
    "santa_fe_experiment = PredictionExperiment(dataset_info=siedco_info, custom_filter=filter_localidad,train_dates=train_dates, validation_dates=validation_dates, model=model,metrics='',aggregation_data='')\n",
    "accuracy_array = santa_fe_experiment.run_ncv_experiment(time_unit='',grid_size=150, outer_iterations='')"
   ]
  },
  {
   "cell_type": "code",
   "execution_count": null,
   "metadata": {},
   "outputs": [],
   "source": []
  }
 ],
 "metadata": {
  "kernelspec": {
   "display_name": "Python 3",
   "language": "python",
   "name": "python3"
  },
  "language_info": {
   "codemirror_mode": {
    "name": "ipython",
    "version": 3
   },
   "file_extension": ".py",
   "mimetype": "text/x-python",
   "name": "python",
   "nbconvert_exporter": "python",
   "pygments_lexer": "ipython3",
   "version": "3.7.2"
  }
 },
 "nbformat": 4,
 "nbformat_minor": 2
}
