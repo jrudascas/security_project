{
 "cells": [
  {
   "cell_type": "markdown",
   "metadata": {},
   "source": [
    "## Method\n",
    "- Normalize prediction risk maps (0, 1)\n",
    "- Get max, average and max_by_cell prediction risk map based on risk matrix obtained from different DB (experiment_10_2_SEPPexp...)\n",
    "- Transform cell prediction to be on range (0, 255)\n",
    "- Compute texture measures based on GLCM ( gray-level co-occurrence matrix)"
   ]
  },
  {
   "cell_type": "markdown",
   "metadata": {},
   "source": [
    "## Hypothesis:\n",
    "Entropy is higher on maps generated from a multimodal approximation; additionally, compared to unimodal approximations, multimodal maps are more heterogeneous, with lower energy and higher contrast."
   ]
  },
  {
   "cell_type": "code",
   "execution_count": 1,
   "metadata": {},
   "outputs": [],
   "source": [
    "import pandas as pd\n",
    "import matplotlib.pyplot as plt\n",
    "import numpy as np\n",
    "import sys\n",
    "sys.path.append(\"..\")\n",
    "import geojson\n",
    "from shapely.geometry import Point\n",
    "from shapely.geometry.polygon import Polygon\n",
    "from pyproj import Proj, transform\n",
    "import pickle\n",
    "import open_cp\n",
    "import gentex"
   ]
  },
  {
   "cell_type": "code",
   "execution_count": 2,
   "metadata": {},
   "outputs": [
    {
     "name": "stderr",
     "output_type": "stream",
     "text": [
      "Failed to import `rtree`.\n",
      "Failed to import `rtree`.\n"
     ]
    }
   ],
   "source": [
    "from services import prediction_metrics\n",
    "from services.prediction_experiment import PredictionExperiment\n",
    "from services.process_data import ProcessData"
   ]
  },
  {
   "cell_type": "markdown",
   "metadata": {},
   "source": [
    "## Built-in"
   ]
  },
  {
   "cell_type": "code",
   "execution_count": 3,
   "metadata": {},
   "outputs": [],
   "source": [
    "def get_hit_rate_from_dict(row,column,coverage):\n",
    "    return row[column][coverage]"
   ]
  },
  {
   "cell_type": "code",
   "execution_count": 4,
   "metadata": {},
   "outputs": [],
   "source": [
    "def normalize_grid_prediction(row, column_name):\n",
    "    xoffset = row[column_name]._xoffset\n",
    "    yoffset = row[column_name]._yoffset\n",
    "    xsize = row[column_name]._xsize\n",
    "    ysize = row[column_name]._ysize\n",
    "    matrix_norm = row[column_name]._matrix.copy()\n",
    "    # Uses 1 division and matix.size multiplications, multiplication is faster than division\n",
    "    matrix_norm *= 1/row[column_name]._matrix.max()\n",
    "    return open_cp.predictors.GridPredictionArray(xsize=xsize,ysize=ysize,matrix=matrix_norm,xoffset=xoffset,yoffset=yoffset)\n",
    "    "
   ]
  },
  {
   "cell_type": "code",
   "execution_count": 5,
   "metadata": {},
   "outputs": [],
   "source": [
    "def to_gray_scale(matrix):\n",
    "    matrix_int = (matrix.copy() * 254).astype(int)\n",
    "    #matrix_offset = np.ones([matrix.shape[0],matrix.shape[1]]) # to avoid elements with 0 value (measures as entropy can be computed)\n",
    "    return (matrix_int).astype(int)"
   ]
  },
  {
   "cell_type": "markdown",
   "metadata": {},
   "source": [
    "### Fusion operators"
   ]
  },
  {
   "cell_type": "code",
   "execution_count": 6,
   "metadata": {},
   "outputs": [],
   "source": [
    "def average_grid_prediction(row):\n",
    "    xoffset_avg = (row['prediction_siedco']._xoffset + row['prediction_rnmc']._xoffset + row['prediction_nuse']._xoffset)/3\n",
    "    yoffset_avg = (row['prediction_siedco']._yoffset + row['prediction_rnmc']._yoffset + row['prediction_nuse']._yoffset)/3\n",
    "    xsize_avg = (row['prediction_siedco']._xsize + row['prediction_rnmc']._xsize + row['prediction_nuse']._xsize)/3\n",
    "    ysize_avg = (row['prediction_siedco']._ysize + row['prediction_rnmc']._ysize + row['prediction_nuse']._ysize)/3\n",
    "    matrix_avg = (row['prediction_siedco']._matrix + row['prediction_rnmc']._matrix + row['prediction_nuse']._matrix)/3\n",
    "    return open_cp.predictors.GridPredictionArray(xsize=xsize_avg,ysize=ysize_avg,matrix=matrix_avg,xoffset=xoffset_avg,yoffset=yoffset_avg)"
   ]
  },
  {
   "cell_type": "code",
   "execution_count": 7,
   "metadata": {},
   "outputs": [],
   "source": [
    "import operator\n",
    "\n",
    "def maximum_grid_prediction(row):\n",
    "    max_intensity = {}\n",
    "    max_intensity['siedco']=np.sum(row['prediction_siedco']._matrix)\n",
    "    max_intensity['rnmc']=np.sum(row['prediction_rnmc']._matrix)\n",
    "    max_intensity['nuse']=np.sum(row['prediction_nuse']._matrix)\n",
    "    key_max_intensity = max(max_intensity.items(), key=operator.itemgetter(1))[0]\n",
    "    \n",
    "    column = 'prediction_'+str(key_max_intensity)\n",
    "    xoffset_max = row[column]._xoffset\n",
    "    yoffset_max = row[column]._yoffset\n",
    "    xsize_max = row[column]._xsize\n",
    "    ysize_max = row[column]._ysize\n",
    "    matrix_max = row[column]._matrix\n",
    "    return open_cp.predictors.GridPredictionArray(xsize=xsize_max,ysize=ysize_max,matrix=matrix_max,xoffset=xoffset_max,yoffset=yoffset_max)\n"
   ]
  },
  {
   "cell_type": "code",
   "execution_count": 8,
   "metadata": {},
   "outputs": [],
   "source": [
    "def maximum_by_cell(row):\n",
    "    matrix_1 = np.maximum(row['prediction_siedco']._matrix, row['prediction_rnmc']._matrix)\n",
    "    matrix_2 = np.maximum(matrix_1, row['prediction_nuse']._matrix)\n",
    "    # assign any from DB, since all attributes are equal\n",
    "    xoffset_max = row['prediction_siedco']._xoffset\n",
    "    yoffset_max = row['prediction_siedco']._yoffset\n",
    "    xsize_max = row['prediction_siedco']._xsize\n",
    "    ysize_max = row['prediction_siedco']._ysize\n",
    "    return open_cp.predictors.GridPredictionArray(xsize=xsize_max,ysize=ysize_max,matrix=matrix_2,xoffset=xoffset_max,yoffset=yoffset_max)"
   ]
  },
  {
   "cell_type": "markdown",
   "metadata": {},
   "source": [
    "### Texture features"
   ]
  },
  {
   "cell_type": "code",
   "execution_count": 9,
   "metadata": {},
   "outputs": [],
   "source": [
    "def shannon_entropy(matrix):\n",
    "    my_array = np.squeeze(np.asarray(matrix))\n",
    "    # ignore zero values for successful compute of log in entropy eq.\n",
    "    # https://stats.stackexchange.com/questions/57069/alternative-to-shannons-entropy-when-probability-equal-to-zero\n",
    "    non_zero_array = my_array[my_array != 0]\n",
    "    p_normalized = non_zero_array / non_zero_array.sum()\n",
    "    entropy = -np.sum(p_normalized*np.log2(p_normalized))\n",
    "    return entropy"
   ]
  },
  {
   "cell_type": "code",
   "execution_count": 10,
   "metadata": {},
   "outputs": [],
   "source": [
    "from scipy.stats import entropy\n",
    "import math\n",
    "\n",
    "def scipy_entropy(matrix, base):\n",
    "    my_array = np.squeeze(np.asarray(matrix))\n",
    "    non_zero_array = my_array[my_array != 0]\n",
    "    return entropy(pk=non_zero_array, base=base)"
   ]
  },
  {
   "cell_type": "code",
   "execution_count": 11,
   "metadata": {},
   "outputs": [],
   "source": [
    "import gentex\n",
    "texm = ['CM Entropy',\n",
    "        'EM Entropy',\n",
    "        'Statistical Complexity',\n",
    "        'Energy Uniformity',\n",
    "        'Maximum Probability',\n",
    "        'Contrast',\n",
    "        'Inverse Difference Moment',\n",
    "        'Correlation',\n",
    "        'Homogeneity',\n",
    "        'Multifractal Spectrum Energy Range',\n",
    "        'Multifractal Spectrum Entropy Range']\n",
    "\n",
    "def gclm_text(current_prediction,feature):\n",
    "    matrix = to_gray_scale(current_prediction._matrix)\n",
    "    mask = np.ones([matrix.shape[0],matrix.shape[1]])\n",
    "    d = 1 # 1 cell-distance\n",
    "    offset = [[1*d,0],[-1*d,0],[0,1*d],[0,-1*d],[1*d,1*d],[-1*d,-1*d],[1*d,-1*d],[-1*d,1*d]] #all diections\n",
    "    cm = gentex.comat.comat_mult(matrix, mask, offset, levels=255)\n",
    "    mytex = gentex.texmeas.Texmeas(comat=cm, coordmom=2, probmom=1)\n",
    "    mytex.calc_measure(feature)\n",
    "    return abs(mytex.val)"
   ]
  },
  {
   "cell_type": "markdown",
   "metadata": {},
   "source": [
    "## Load prediction results"
   ]
  },
  {
   "cell_type": "code",
   "execution_count": 12,
   "metadata": {},
   "outputs": [],
   "source": [
    "infile = open('/Users/anamaria/Desktop/dev/security_project/aggressive_behavior_model/pkl/experiment_seppexp_10_2_siedco_prediction.pkl','rb')\n",
    "loaded_siedco = pickle.load(infile)\n",
    "infile.close()"
   ]
  },
  {
   "cell_type": "code",
   "execution_count": 13,
   "metadata": {},
   "outputs": [],
   "source": [
    "infile = open('/Users/anamaria/Desktop/dev/security_project/aggressive_behavior_model/pkl/experiment_seppexp_10_2_rnmc_prediction.pkl','rb')\n",
    "loaded_rnmc = pickle.load(infile)\n",
    "infile.close()"
   ]
  },
  {
   "cell_type": "code",
   "execution_count": 14,
   "metadata": {},
   "outputs": [],
   "source": [
    "infile = open('/Users/anamaria/Desktop/dev/security_project/aggressive_behavior_model/pkl/experiment_seppexp_10_2_nuse_prediction.pkl','rb')\n",
    "loaded_nuse = pickle.load(infile)\n",
    "infile.close()"
   ]
  },
  {
   "cell_type": "markdown",
   "metadata": {},
   "source": [
    "## Normalize prediction intensity risk maps"
   ]
  },
  {
   "cell_type": "code",
   "execution_count": 15,
   "metadata": {},
   "outputs": [],
   "source": [
    "loaded_siedco['prediction_normalized'] = loaded_siedco.apply(lambda row: normalize_grid_prediction(row,'prediction'), axis=1)\n",
    "loaded_rnmc['prediction_normalized'] = loaded_rnmc.apply(lambda row: normalize_grid_prediction(row,'prediction'), axis=1)\n",
    "loaded_nuse['prediction_normalized'] = loaded_nuse.apply(lambda row: normalize_grid_prediction(row,'prediction'), axis=1)\n"
   ]
  },
  {
   "cell_type": "code",
   "execution_count": 16,
   "metadata": {},
   "outputs": [],
   "source": [
    "# Delete not-normalized prediction columns\n",
    "loaded_siedco.drop(columns=['prediction'], inplace=True)\n",
    "loaded_rnmc.drop(columns=['prediction'], inplace=True)\n",
    "loaded_nuse.drop(columns=['prediction'], inplace=True)"
   ]
  },
  {
   "cell_type": "markdown",
   "metadata": {},
   "source": [
    "### Rename columns to merge df"
   ]
  },
  {
   "cell_type": "code",
   "execution_count": 17,
   "metadata": {},
   "outputs": [],
   "source": [
    "loaded_siedco = loaded_siedco.rename(columns={'prediction_normalized': 'prediction_siedco', 'eval_pts': 'eval_pts_siedco','initial-date':'initial-date-siedco','final-date':'final-date-siedco'})\n",
    "loaded_rnmc = loaded_rnmc.rename(columns={'prediction_normalized': 'prediction_rnmc', 'eval_pts': 'eval_pts_rnmc', 'initial-date':'initial-date-rnmc','final-date':'final-date-rnmc'})\n",
    "loaded_nuse = loaded_nuse.rename(columns={'prediction_normalized': 'prediction_nuse', 'eval_pts': 'eval_pts_nuse', 'initial-date':'initial-date-nuse','final-date':'final-date-nuse'})"
   ]
  },
  {
   "cell_type": "markdown",
   "metadata": {},
   "source": [
    "## Compute maximum and average prediction"
   ]
  },
  {
   "cell_type": "code",
   "execution_count": 18,
   "metadata": {},
   "outputs": [],
   "source": [
    "result = pd.concat([loaded_siedco, loaded_rnmc, loaded_nuse], axis=1)"
   ]
  },
  {
   "cell_type": "code",
   "execution_count": 19,
   "metadata": {},
   "outputs": [],
   "source": [
    "result['average_prediction'] = result.apply(lambda row: average_grid_prediction(row), axis=1)"
   ]
  },
  {
   "cell_type": "code",
   "execution_count": 20,
   "metadata": {},
   "outputs": [],
   "source": [
    "result['max_prediction'] = result.apply(lambda row: maximum_grid_prediction(row), axis=1)"
   ]
  },
  {
   "cell_type": "code",
   "execution_count": 21,
   "metadata": {},
   "outputs": [],
   "source": [
    "result['max_cell_prediction'] = result.apply(lambda row: maximum_by_cell(row), axis=1)"
   ]
  },
  {
   "cell_type": "markdown",
   "metadata": {},
   "source": [
    "### Delete redundant columns"
   ]
  },
  {
   "cell_type": "code",
   "execution_count": 22,
   "metadata": {},
   "outputs": [],
   "source": [
    "result.drop(columns=['initial-date-rnmc','final-date-rnmc','initial-date-nuse','final-date-nuse'], inplace=True)"
   ]
  },
  {
   "cell_type": "code",
   "execution_count": 23,
   "metadata": {},
   "outputs": [],
   "source": [
    "result = result.rename(columns={'initial-date-siedco':'initial-date','final-date-siedco':'final-date'})"
   ]
  },
  {
   "cell_type": "markdown",
   "metadata": {},
   "source": [
    "## Risk maps"
   ]
  },
  {
   "cell_type": "code",
   "execution_count": 24,
   "metadata": {
    "scrolled": true
   },
   "outputs": [
    {
     "data": {
      "text/plain": [
       "GridPredictionArray(offset=(958645.8182116301,904338.0678953262), size=150.0x150.0, risk intensity size=343x816)"
      ]
     },
     "execution_count": 24,
     "metadata": {},
     "output_type": "execute_result"
    }
   ],
   "source": [
    "result['prediction_siedco'].values[0]"
   ]
  },
  {
   "cell_type": "code",
   "execution_count": 25,
   "metadata": {
    "scrolled": true
   },
   "outputs": [
    {
     "data": {
      "text/plain": [
       "(array([279680,    200,      4,      2,      0,      0,      1,      0,\n",
       "             0,      1]),\n",
       " array([0. , 0.1, 0.2, 0.3, 0.4, 0.5, 0.6, 0.7, 0.8, 0.9, 1. ]))"
      ]
     },
     "execution_count": 25,
     "metadata": {},
     "output_type": "execute_result"
    }
   ],
   "source": [
    "np.histogram(result['prediction_siedco'].values[0]._matrix)"
   ]
  },
  {
   "cell_type": "code",
   "execution_count": 30,
   "metadata": {},
   "outputs": [
    {
     "data": {
      "text/plain": [
       "278238"
      ]
     },
     "execution_count": 30,
     "metadata": {},
     "output_type": "execute_result"
    }
   ],
   "source": [
    "np.count_nonzero(result['prediction_siedco'].values[0]._matrix==0)"
   ]
  },
  {
   "cell_type": "code",
   "execution_count": 27,
   "metadata": {},
   "outputs": [
    {
     "data": {
      "text/plain": [
       "(array([279866,     12,      3,      1,      2,      2,      1,      0,\n",
       "             0,      1]),\n",
       " array([0. , 0.1, 0.2, 0.3, 0.4, 0.5, 0.6, 0.7, 0.8, 0.9, 1. ]))"
      ]
     },
     "execution_count": 27,
     "metadata": {},
     "output_type": "execute_result"
    }
   ],
   "source": [
    "np.histogram(result['prediction_nuse'].values[0]._matrix)"
   ]
  },
  {
   "cell_type": "code",
   "execution_count": 31,
   "metadata": {},
   "outputs": [
    {
     "data": {
      "text/plain": [
       "271115"
      ]
     },
     "execution_count": 31,
     "metadata": {},
     "output_type": "execute_result"
    }
   ],
   "source": [
    "np.count_nonzero(result['prediction_nuse'].values[0]._matrix==0)"
   ]
  },
  {
   "cell_type": "code",
   "execution_count": 29,
   "metadata": {},
   "outputs": [
    {
     "data": {
      "text/plain": [
       "(array([279661,    176,     30,     13,      1,      4,      0,      1,\n",
       "             0,      2]),\n",
       " array([0. , 0.1, 0.2, 0.3, 0.4, 0.5, 0.6, 0.7, 0.8, 0.9, 1. ]))"
      ]
     },
     "execution_count": 29,
     "metadata": {},
     "output_type": "execute_result"
    }
   ],
   "source": [
    "np.histogram(result['prediction_rnmc'].values[0]._matrix)"
   ]
  },
  {
   "cell_type": "code",
   "execution_count": 26,
   "metadata": {},
   "outputs": [
    {
     "data": {
      "image/png": "[encoded data removed]",
      "text/plain": [
       "<Figure size 720x720 with 1 Axes>"
      ]
     },
     "metadata": {
      "needs_background": "light"
     },
     "output_type": "display_data"
    }
   ],
   "source": [
    "ProcessData.plot_grid_prediction(result['prediction_siedco'].values[0], '', {'initial':'','final':''})"
   ]
  },
  {
   "cell_type": "markdown",
   "metadata": {},
   "source": [
    "## Compute texture features"
   ]
  },
  {
   "cell_type": "code",
   "execution_count": 35,
   "metadata": {},
   "outputs": [],
   "source": [
    "df_result = result.copy()"
   ]
  },
  {
   "cell_type": "markdown",
   "metadata": {},
   "source": [
    "### 1. CM Entropy"
   ]
  },
  {
   "cell_type": "code",
   "execution_count": 36,
   "metadata": {},
   "outputs": [],
   "source": [
    "feature = 'CM Entropy'\n",
    "short_name = 'CM_entropy'\n",
    "df_result[str('siedco_'+short_name)] = df_result.apply(lambda row: gclm_text(row['prediction_siedco'],feature), axis=1)\n",
    "df_result[str('rnmc_'+short_name)] = df_result.apply(lambda row: gclm_text(row['prediction_rnmc'],feature), axis=1)\n",
    "df_result[str('nuse_'+short_name)] = df_result.apply(lambda row: gclm_text(row['prediction_nuse'],feature), axis=1)\n",
    "df_result[str('multi_average_'+short_name)] = df_result.apply(lambda row: gclm_text(row['average_prediction'],feature), axis=1)\n",
    "df_result[str('multi_max_'+short_name)] = df_result.apply(lambda row: gclm_text(row['max_prediction'],feature), axis=1)\n",
    "df_result[str('multi_maxcell_'+short_name)] = df_result.apply(lambda row: gclm_text(row['max_cell_prediction'],feature), axis=1)\n"
   ]
  },
  {
   "cell_type": "code",
   "execution_count": 37,
   "metadata": {
    "scrolled": false
   },
   "outputs": [
    {
     "data": {
      "image/png": "[encoded data removed]",
      "text/plain": [
       "<Figure size 720x360 with 1 Axes>"
      ]
     },
     "metadata": {
      "needs_background": "light"
     },
     "output_type": "display_data"
    }
   ],
   "source": [
    "fig, ax = plt.subplots(figsize=(10,5))\n",
    "siedco = ax.scatter(df_result.index.values,df_result[str('siedco_'+short_name)].values, marker=\".\",color='yellow')\n",
    "rnmc = ax.scatter(df_result.index.values,df_result[str('rnmc_'+short_name)].values, marker=\".\",color='red')\n",
    "nuse = ax.scatter(df_result.index.values,df_result[str('nuse_'+short_name)].values, marker=\".\",color='green')\n",
    "multimodal_average = ax.scatter(df_result.index.values,df_result[str('multi_average_'+short_name)].values, marker=\".\",color='orange')\n",
    "multimodal_max = ax.scatter(df_result.index.values,df_result[str('multi_max_'+short_name)].values, marker=\".\",color='blue')\n",
    "multimodal_max_cell = ax.scatter(df_result.index.values,df_result[str('multi_maxcell_'+short_name)].values, marker=\".\",color='black')\n",
    "ax.set_title(str('GCLM risk intensity maps - '+feature))\n",
    "ax.legend((siedco, rnmc, nuse, multimodal_average, multimodal_max, multimodal_max_cell),('siedco', 'rnmc', 'nuse', 'multimodal_average', 'multimodal_max', 'multimodal_max_cell'))\n",
    "plt.xlabel('Iteration on Nested Cross Validation')\n",
    "plt.ylabel(feature)\n",
    "plt.show()"
   ]
  },
  {
   "cell_type": "markdown",
   "metadata": {},
   "source": [
    "### 2. Statistical Complexity"
   ]
  },
  {
   "cell_type": "code",
   "execution_count": 38,
   "metadata": {},
   "outputs": [],
   "source": [
    "feature = 'Statistical Complexity'\n",
    "short_name = 'stat_complex'\n",
    "df_result[str('siedco_'+short_name)] = df_result.apply(lambda row: gclm_text(row['prediction_siedco'],feature), axis=1)\n",
    "df_result[str('rnmc_'+short_name)] = df_result.apply(lambda row: gclm_text(row['prediction_rnmc'],feature), axis=1)\n",
    "df_result[str('nuse_'+short_name)] = df_result.apply(lambda row: gclm_text(row['prediction_nuse'],feature), axis=1)\n",
    "df_result[str('multi_average_'+short_name)] = df_result.apply(lambda row: gclm_text(row['average_prediction'],feature), axis=1)\n",
    "df_result[str('multi_max_'+short_name)] = df_result.apply(lambda row: gclm_text(row['max_prediction'],feature), axis=1)\n",
    "df_result[str('multi_maxcell_'+short_name)] = df_result.apply(lambda row: gclm_text(row['max_cell_prediction'],feature), axis=1)\n"
   ]
  },
  {
   "cell_type": "code",
   "execution_count": 39,
   "metadata": {
    "scrolled": false
   },
   "outputs": [
    {
     "data": {
      "image/png": "[encoded data removed]",
      "text/plain": [
       "<Figure size 720x360 with 1 Axes>"
      ]
     },
     "metadata": {
      "needs_background": "light"
     },
     "output_type": "display_data"
    }
   ],
   "source": [
    "fig, ax = plt.subplots(figsize=(10,5))\n",
    "siedco = ax.scatter(df_result.index.values,df_result[str('siedco_'+short_name)].values, marker=\".\",color='yellow')\n",
    "rnmc = ax.scatter(df_result.index.values,df_result[str('rnmc_'+short_name)].values, marker=\".\",color='red')\n",
    "nuse = ax.scatter(df_result.index.values,df_result[str('nuse_'+short_name)].values, marker=\".\",color='green')\n",
    "multimodal_average = ax.scatter(df_result.index.values,df_result[str('multi_average_'+short_name)].values, marker=\".\",color='orange')\n",
    "multimodal_max = ax.scatter(df_result.index.values,df_result[str('multi_max_'+short_name)].values, marker=\".\",color='blue')\n",
    "multimodal_max_cell = ax.scatter(df_result.index.values,df_result[str('multi_maxcell_'+short_name)].values, marker=\".\",color='black')\n",
    "ax.set_title(str('GCLM risk intensity maps - '+feature))\n",
    "ax.legend((siedco, rnmc, nuse, multimodal_average, multimodal_max, multimodal_max_cell),('siedco', 'rnmc', 'nuse', 'multimodal_average', 'multimodal_max', 'multimodal_max_cell'))\n",
    "plt.xlabel('Iteration on Nested Cross Validation')\n",
    "plt.ylabel(feature)\n",
    "plt.show()"
   ]
  },
  {
   "cell_type": "markdown",
   "metadata": {},
   "source": [
    "### 3. Energy Uniformity"
   ]
  },
  {
   "cell_type": "code",
   "execution_count": 40,
   "metadata": {},
   "outputs": [],
   "source": [
    "feature = 'Energy Uniformity'\n",
    "short_name = 'energy_unif'\n",
    "df_result[str('siedco_'+short_name)] = df_result.apply(lambda row: gclm_text(row['prediction_siedco'],feature), axis=1)\n",
    "df_result[str('rnmc_'+short_name)] = df_result.apply(lambda row: gclm_text(row['prediction_rnmc'],feature), axis=1)\n",
    "df_result[str('nuse_'+short_name)] = df_result.apply(lambda row: gclm_text(row['prediction_nuse'],feature), axis=1)\n",
    "df_result[str('multi_average_'+short_name)] = df_result.apply(lambda row: gclm_text(row['average_prediction'],feature), axis=1)\n",
    "df_result[str('multi_max_'+short_name)] = df_result.apply(lambda row: gclm_text(row['max_prediction'],feature), axis=1)\n",
    "df_result[str('multi_maxcell_'+short_name)] = df_result.apply(lambda row: gclm_text(row['max_cell_prediction'],feature), axis=1)\n"
   ]
  },
  {
   "cell_type": "code",
   "execution_count": 41,
   "metadata": {
    "scrolled": false
   },
   "outputs": [
    {
     "data": {
      "image/png": "[encoded data removed]",
      "text/plain": [
       "<Figure size 720x360 with 1 Axes>"
      ]
     },
     "metadata": {
      "needs_background": "light"
     },
     "output_type": "display_data"
    }
   ],
   "source": [
    "fig, ax = plt.subplots(figsize=(10,5))\n",
    "siedco = ax.scatter(df_result.index.values,df_result[str('siedco_'+short_name)].values, marker=\".\",color='yellow')\n",
    "rnmc = ax.scatter(df_result.index.values,df_result[str('rnmc_'+short_name)].values, marker=\".\",color='red')\n",
    "nuse = ax.scatter(df_result.index.values,df_result[str('nuse_'+short_name)].values, marker=\".\",color='green')\n",
    "multimodal_average = ax.scatter(df_result.index.values,df_result[str('multi_average_'+short_name)].values, marker=\".\",color='orange')\n",
    "multimodal_max = ax.scatter(df_result.index.values,df_result[str('multi_max_'+short_name)].values, marker=\".\",color='blue')\n",
    "multimodal_max_cell = ax.scatter(df_result.index.values,df_result[str('multi_maxcell_'+short_name)].values, marker=\".\",color='black')\n",
    "ax.set_title(str('GCLM risk intensity maps - '+feature))\n",
    "ax.legend((siedco, rnmc, nuse, multimodal_average, multimodal_max, multimodal_max_cell),('siedco', 'rnmc', 'nuse', 'multimodal_average', 'multimodal_max', 'multimodal_max_cell'))\n",
    "plt.xlabel('Iteration on Nested Cross Validation')\n",
    "plt.ylabel(feature)\n",
    "plt.show()"
   ]
  },
  {
   "cell_type": "markdown",
   "metadata": {},
   "source": [
    "### 4. Maximum Probability"
   ]
  },
  {
   "cell_type": "code",
   "execution_count": 42,
   "metadata": {},
   "outputs": [],
   "source": [
    "feature = 'Maximum Probability'\n",
    "short_name = 'max_prob'\n",
    "df_result[str('siedco_'+short_name)] = df_result.apply(lambda row: gclm_text(row['prediction_siedco'],feature), axis=1)\n",
    "df_result[str('rnmc_'+short_name)] = df_result.apply(lambda row: gclm_text(row['prediction_rnmc'],feature), axis=1)\n",
    "df_result[str('nuse_'+short_name)] = df_result.apply(lambda row: gclm_text(row['prediction_nuse'],feature), axis=1)\n",
    "df_result[str('multi_average_'+short_name)] = df_result.apply(lambda row: gclm_text(row['average_prediction'],feature), axis=1)\n",
    "df_result[str('multi_max_'+short_name)] = df_result.apply(lambda row: gclm_text(row['max_prediction'],feature), axis=1)\n",
    "df_result[str('multi_maxcell_'+short_name)] = df_result.apply(lambda row: gclm_text(row['max_cell_prediction'],feature), axis=1)\n"
   ]
  },
  {
   "cell_type": "code",
   "execution_count": 43,
   "metadata": {
    "scrolled": false
   },
   "outputs": [
    {
     "data": {
      "image/png": "[encoded data removed]",
      "text/plain": [
       "<Figure size 720x360 with 1 Axes>"
      ]
     },
     "metadata": {
      "needs_background": "light"
     },
     "output_type": "display_data"
    }
   ],
   "source": [
    "fig, ax = plt.subplots(figsize=(10,5))\n",
    "siedco = ax.scatter(df_result.index.values,df_result[str('siedco_'+short_name)].values, marker=\".\",color='yellow')\n",
    "rnmc = ax.scatter(df_result.index.values,df_result[str('rnmc_'+short_name)].values, marker=\".\",color='red')\n",
    "nuse = ax.scatter(df_result.index.values,df_result[str('nuse_'+short_name)].values, marker=\".\",color='green')\n",
    "multimodal_average = ax.scatter(df_result.index.values,df_result[str('multi_average_'+short_name)].values, marker=\".\",color='orange')\n",
    "multimodal_max = ax.scatter(df_result.index.values,df_result[str('multi_max_'+short_name)].values, marker=\".\",color='blue')\n",
    "multimodal_max_cell = ax.scatter(df_result.index.values,df_result[str('multi_maxcell_'+short_name)].values, marker=\".\",color='black')\n",
    "ax.set_title(str('GCLM risk intensity maps - '+feature))\n",
    "ax.legend((siedco, rnmc, nuse, multimodal_average, multimodal_max, multimodal_max_cell),('siedco', 'rnmc', 'nuse', 'multimodal_average', 'multimodal_max', 'multimodal_max_cell'))\n",
    "plt.xlabel('Iteration on Nested Cross Validation')\n",
    "plt.ylabel(feature)\n",
    "plt.show()"
   ]
  },
  {
   "cell_type": "markdown",
   "metadata": {},
   "source": [
    "### 5. Contrast"
   ]
  },
  {
   "cell_type": "code",
   "execution_count": 44,
   "metadata": {},
   "outputs": [],
   "source": [
    "feature = 'Contrast'\n",
    "short_name = 'contrast'\n",
    "df_result[str('siedco_'+short_name)] = df_result.apply(lambda row: gclm_text(row['prediction_siedco'],feature), axis=1)\n",
    "df_result[str('rnmc_'+short_name)] = df_result.apply(lambda row: gclm_text(row['prediction_rnmc'],feature), axis=1)\n",
    "df_result[str('nuse_'+short_name)] = df_result.apply(lambda row: gclm_text(row['prediction_nuse'],feature), axis=1)\n",
    "df_result[str('multi_average_'+short_name)] = df_result.apply(lambda row: gclm_text(row['average_prediction'],feature), axis=1)\n",
    "df_result[str('multi_max_'+short_name)] = df_result.apply(lambda row: gclm_text(row['max_prediction'],feature), axis=1)\n",
    "df_result[str('multi_maxcell_'+short_name)] = df_result.apply(lambda row: gclm_text(row['max_cell_prediction'],feature), axis=1)\n"
   ]
  },
  {
   "cell_type": "code",
   "execution_count": 45,
   "metadata": {
    "scrolled": false
   },
   "outputs": [
    {
     "data": {
      "image/png": "[encoded data removed]",
      "text/plain": [
       "<Figure size 720x360 with 1 Axes>"
      ]
     },
     "metadata": {
      "needs_background": "light"
     },
     "output_type": "display_data"
    }
   ],
   "source": [
    "fig, ax = plt.subplots(figsize=(10,5))\n",
    "siedco = ax.scatter(df_result.index.values,df_result[str('siedco_'+short_name)].values, marker=\".\",color='yellow')\n",
    "rnmc = ax.scatter(df_result.index.values,df_result[str('rnmc_'+short_name)].values, marker=\".\",color='red')\n",
    "nuse = ax.scatter(df_result.index.values,df_result[str('nuse_'+short_name)].values, marker=\".\",color='green')\n",
    "multimodal_average = ax.scatter(df_result.index.values,df_result[str('multi_average_'+short_name)].values, marker=\".\",color='orange')\n",
    "multimodal_max = ax.scatter(df_result.index.values,df_result[str('multi_max_'+short_name)].values, marker=\".\",color='blue')\n",
    "multimodal_max_cell = ax.scatter(df_result.index.values,df_result[str('multi_maxcell_'+short_name)].values, marker=\".\",color='black')\n",
    "ax.set_title(str('GCLM risk intensity maps - '+feature))\n",
    "ax.legend((siedco, rnmc, nuse, multimodal_average, multimodal_max, multimodal_max_cell),('siedco', 'rnmc', 'nuse', 'multimodal_average', 'multimodal_max', 'multimodal_max_cell'))\n",
    "plt.xlabel('Iteration on Nested Cross Validation')\n",
    "plt.ylabel(feature)\n",
    "plt.show()"
   ]
  },
  {
   "cell_type": "markdown",
   "metadata": {},
   "source": [
    "### 6. Inverse Difference Moment"
   ]
  },
  {
   "cell_type": "code",
   "execution_count": 46,
   "metadata": {},
   "outputs": [],
   "source": [
    "feature = 'Inverse Difference Moment'\n",
    "short_name = 'inv_dif_mom'\n",
    "df_result[str('siedco_'+short_name)] = df_result.apply(lambda row: gclm_text(row['prediction_siedco'],feature), axis=1)\n",
    "df_result[str('rnmc_'+short_name)] = df_result.apply(lambda row: gclm_text(row['prediction_rnmc'],feature), axis=1)\n",
    "df_result[str('nuse_'+short_name)] = df_result.apply(lambda row: gclm_text(row['prediction_nuse'],feature), axis=1)\n",
    "df_result[str('multi_average_'+short_name)] = df_result.apply(lambda row: gclm_text(row['average_prediction'],feature), axis=1)\n",
    "df_result[str('multi_max_'+short_name)] = df_result.apply(lambda row: gclm_text(row['max_prediction'],feature), axis=1)\n",
    "df_result[str('multi_maxcell_'+short_name)] = df_result.apply(lambda row: gclm_text(row['max_cell_prediction'],feature), axis=1)\n"
   ]
  },
  {
   "cell_type": "code",
   "execution_count": 47,
   "metadata": {
    "scrolled": false
   },
   "outputs": [
    {
     "data": {
      "image/png": "[encoded data removed]",
      "text/plain": [
       "<Figure size 720x360 with 1 Axes>"
      ]
     },
     "metadata": {
      "needs_background": "light"
     },
     "output_type": "display_data"
    }
   ],
   "source": [
    "fig, ax = plt.subplots(figsize=(10,5))\n",
    "siedco = ax.scatter(df_result.index.values,df_result[str('siedco_'+short_name)].values, marker=\".\",color='yellow')\n",
    "rnmc = ax.scatter(df_result.index.values,df_result[str('rnmc_'+short_name)].values, marker=\".\",color='red')\n",
    "nuse = ax.scatter(df_result.index.values,df_result[str('nuse_'+short_name)].values, marker=\".\",color='green')\n",
    "multimodal_average = ax.scatter(df_result.index.values,df_result[str('multi_average_'+short_name)].values, marker=\".\",color='orange')\n",
    "multimodal_max = ax.scatter(df_result.index.values,df_result[str('multi_max_'+short_name)].values, marker=\".\",color='blue')\n",
    "multimodal_max_cell = ax.scatter(df_result.index.values,df_result[str('multi_maxcell_'+short_name)].values, marker=\".\",color='black')\n",
    "ax.set_title(str('GCLM risk intensity maps - '+feature))\n",
    "ax.legend((siedco, rnmc, nuse, multimodal_average, multimodal_max, multimodal_max_cell),('siedco', 'rnmc', 'nuse', 'multimodal_average', 'multimodal_max', 'multimodal_max_cell'))\n",
    "plt.xlabel('Iteration on Nested Cross Validation')\n",
    "plt.ylabel(feature)\n",
    "plt.show()"
   ]
  },
  {
   "cell_type": "markdown",
   "metadata": {},
   "source": [
    "### 7. Correlation"
   ]
  },
  {
   "cell_type": "code",
   "execution_count": 48,
   "metadata": {},
   "outputs": [],
   "source": [
    "feature = 'Correlation'\n",
    "short_name = 'correlation'\n",
    "df_result[str('siedco_'+short_name)] = df_result.apply(lambda row: gclm_text(row['prediction_siedco'],feature), axis=1)\n",
    "df_result[str('rnmc_'+short_name)] = df_result.apply(lambda row: gclm_text(row['prediction_rnmc'],feature), axis=1)\n",
    "df_result[str('nuse_'+short_name)] = df_result.apply(lambda row: gclm_text(row['prediction_nuse'],feature), axis=1)\n",
    "df_result[str('multi_average_'+short_name)] = df_result.apply(lambda row: gclm_text(row['average_prediction'],feature), axis=1)\n",
    "df_result[str('multi_max_'+short_name)] = df_result.apply(lambda row: gclm_text(row['max_prediction'],feature), axis=1)\n",
    "df_result[str('multi_maxcell_'+short_name)] = df_result.apply(lambda row: gclm_text(row['max_cell_prediction'],feature), axis=1)\n"
   ]
  },
  {
   "cell_type": "code",
   "execution_count": 49,
   "metadata": {
    "scrolled": false
   },
   "outputs": [
    {
     "data": {
      "image/png": "[encoded data removed]",
      "text/plain": [
       "<Figure size 720x360 with 1 Axes>"
      ]
     },
     "metadata": {
      "needs_background": "light"
     },
     "output_type": "display_data"
    }
   ],
   "source": [
    "fig, ax = plt.subplots(figsize=(10,5))\n",
    "siedco = ax.scatter(df_result.index.values,df_result[str('siedco_'+short_name)].values, marker=\".\",color='yellow')\n",
    "rnmc = ax.scatter(df_result.index.values,df_result[str('rnmc_'+short_name)].values, marker=\".\",color='red')\n",
    "nuse = ax.scatter(df_result.index.values,df_result[str('nuse_'+short_name)].values, marker=\".\",color='green')\n",
    "multimodal_average = ax.scatter(df_result.index.values,df_result[str('multi_average_'+short_name)].values, marker=\".\",color='orange')\n",
    "multimodal_max = ax.scatter(df_result.index.values,df_result[str('multi_max_'+short_name)].values, marker=\".\",color='blue')\n",
    "multimodal_max_cell = ax.scatter(df_result.index.values,df_result[str('multi_maxcell_'+short_name)].values, marker=\".\",color='black')\n",
    "ax.set_title(str('GCLM risk intensity maps - '+feature))\n",
    "ax.legend((siedco, rnmc, nuse, multimodal_average, multimodal_max, multimodal_max_cell),('siedco', 'rnmc', 'nuse', 'multimodal_average', 'multimodal_max', 'multimodal_max_cell'))\n",
    "plt.xlabel('Iteration on Nested Cross Validation')\n",
    "plt.ylabel(feature)\n",
    "plt.show()"
   ]
  },
  {
   "cell_type": "markdown",
   "metadata": {},
   "source": [
    "### 8. Homogeneity"
   ]
  },
  {
   "cell_type": "code",
   "execution_count": 50,
   "metadata": {},
   "outputs": [],
   "source": [
    "feature = 'Homogeneity'\n",
    "short_name = 'homogen'\n",
    "df_result[str('siedco_'+short_name)] = df_result.apply(lambda row: gclm_text(row['prediction_siedco'],feature), axis=1)\n",
    "df_result[str('rnmc_'+short_name)] = df_result.apply(lambda row: gclm_text(row['prediction_rnmc'],feature), axis=1)\n",
    "df_result[str('nuse_'+short_name)] = df_result.apply(lambda row: gclm_text(row['prediction_nuse'],feature), axis=1)\n",
    "df_result[str('multi_average_'+short_name)] = df_result.apply(lambda row: gclm_text(row['average_prediction'],feature), axis=1)\n",
    "df_result[str('multi_max_'+short_name)] = df_result.apply(lambda row: gclm_text(row['max_prediction'],feature), axis=1)\n",
    "df_result[str('multi_maxcell_'+short_name)] = df_result.apply(lambda row: gclm_text(row['max_cell_prediction'],feature), axis=1)\n"
   ]
  },
  {
   "cell_type": "code",
   "execution_count": 51,
   "metadata": {
    "scrolled": true
   },
   "outputs": [
    {
     "data": {
      "image/png": "[encoded data removed]",
      "text/plain": [
       "<Figure size 720x360 with 1 Axes>"
      ]
     },
     "metadata": {
      "needs_background": "light"
     },
     "output_type": "display_data"
    }
   ],
   "source": [
    "fig, ax = plt.subplots(figsize=(10,5))\n",
    "siedco = ax.scatter(df_result.index.values,df_result[str('siedco_'+short_name)].values, marker=\".\",color='yellow')\n",
    "rnmc = ax.scatter(df_result.index.values,df_result[str('rnmc_'+short_name)].values, marker=\".\",color='red')\n",
    "nuse = ax.scatter(df_result.index.values,df_result[str('nuse_'+short_name)].values, marker=\".\",color='green')\n",
    "multimodal_average = ax.scatter(df_result.index.values,df_result[str('multi_average_'+short_name)].values, marker=\".\",color='orange')\n",
    "multimodal_max = ax.scatter(df_result.index.values,df_result[str('multi_max_'+short_name)].values, marker=\".\",color='blue')\n",
    "multimodal_max_cell = ax.scatter(df_result.index.values,df_result[str('multi_maxcell_'+short_name)].values, marker=\".\",color='black')\n",
    "ax.set_title(str('GCLM risk intensity maps - '+feature))\n",
    "ax.legend((siedco, rnmc, nuse, multimodal_average, multimodal_max, multimodal_max_cell),('siedco', 'rnmc', 'nuse', 'multimodal_average', 'multimodal_max', 'multimodal_max_cell'))\n",
    "plt.xlabel('Iteration on Nested Cross Validation')\n",
    "plt.ylabel(feature)\n",
    "plt.show()"
   ]
  },
  {
   "cell_type": "code",
   "execution_count": null,
   "metadata": {},
   "outputs": [],
   "source": []
  },
  {
   "cell_type": "code",
   "execution_count": 52,
   "metadata": {},
   "outputs": [
    {
     "name": "stdout",
     "output_type": "stream",
     "text": [
      "siedco_CM_entropy                  0.115347\n",
      "rnmc_CM_entropy                    0.313797\n",
      "nuse_CM_entropy                    0.389167\n",
      "multi_average_CM_entropy           0.415887\n",
      "multi_max_CM_entropy               0.313797\n",
      "multi_maxcell_CM_entropy           0.530179\n",
      "siedco_stat_complex                7.994353\n",
      "rnmc_stat_complex                  7.994353\n",
      "nuse_stat_complex                  7.994353\n",
      "multi_average_stat_complex         7.994353\n",
      "multi_max_stat_complex             7.994353\n",
      "multi_maxcell_stat_complex         7.994353\n",
      "siedco_energy_unif                 0.977098\n",
      "rnmc_energy_unif                   0.947344\n",
      "nuse_energy_unif                   0.936134\n",
      "multi_average_energy_unif          0.932889\n",
      "multi_max_energy_unif              0.947344\n",
      "multi_maxcell_energy_unif          0.919165\n",
      "siedco_max_prob                    0.988461\n",
      "rnmc_max_prob                      0.973280\n",
      "nuse_max_prob                      0.967517\n",
      "multi_average_max_prob             0.965834\n",
      "multi_max_max_prob                 0.973280\n",
      "multi_maxcell_max_prob             0.958710\n",
      "siedco_contrast                    3.002618\n",
      "rnmc_contrast                      3.868581\n",
      "nuse_contrast                      1.834816\n",
      "multi_average_contrast             1.043626\n",
      "multi_max_contrast                 3.868581\n",
      "multi_maxcell_contrast             6.975177\n",
      "siedco_inv_dif_mom                 0.000076\n",
      "rnmc_inv_dif_mom                   0.002534\n",
      "nuse_inv_dif_mom                   0.012691\n",
      "multi_average_inv_dif_mom          0.013577\n",
      "multi_max_inv_dif_mom              0.002534\n",
      "multi_maxcell_inv_dif_mom          0.008382\n",
      "siedco_correlation             14862.643432\n",
      "rnmc_correlation               69202.027235\n",
      "nuse_correlation               12831.987402\n",
      "multi_average_correlation      21984.604314\n",
      "multi_max_correlation          69202.027235\n",
      "multi_maxcell_correlation     129946.721277\n",
      "siedco_homogen                     0.989992\n",
      "rnmc_homogen                       0.980654\n",
      "nuse_homogen                       0.979730\n",
      "multi_average_homogen              0.978566\n",
      "multi_max_homogen                  0.980654\n",
      "multi_maxcell_homogen              0.970532\n",
      "dtype: float64\n"
     ]
    }
   ],
   "source": [
    "print(df_result.mean())"
   ]
  },
  {
   "cell_type": "markdown",
   "metadata": {},
   "source": [
    "## Texture features comparison"
   ]
  },
  {
   "cell_type": "code",
   "execution_count": 1,
   "metadata": {},
   "outputs": [],
   "source": [
    "import plotly.express as px\n",
    "import plotly.graph_objects as go\n",
    "import matplotlib.pyplot as plt"
   ]
  },
  {
   "cell_type": "code",
   "execution_count": 2,
   "metadata": {},
   "outputs": [],
   "source": [
    "def compute_width(value, max_value, max_width):\n",
    "    current_width = round(value*max_width/max_value)\n",
    "    if current_width > 20:\n",
    "        return current_width\n",
    "    else:\n",
    "        return 20"
   ]
  },
  {
   "cell_type": "code",
   "execution_count": 3,
   "metadata": {},
   "outputs": [],
   "source": [
    "\n",
    "theta=[36,108,180,252,324]\n",
    "theta=[36,99,162,225,318]\n",
    "labels = ['Unimodal: legal complaints','Unimodal: police penalties','Unimodal: emergency calls','Multimodal: average-fusion','Multimodal: max-fusion']"
   ]
  },
  {
   "cell_type": "code",
   "execution_count": 7,
   "metadata": {},
   "outputs": [
    {
     "data": {
      "application/vnd.plotly.v1+json": {
       "config": {
        "plotlyServerURL": "https://plot.ly"
       },
       "data": [
        {
         "type": "barpolar"
        },
        {
         "marker": {
          "color": [
           "#636efa"
          ],
          "line": {
           "color": "black",
           "width": 2
          }
         },
         "name": "Unimodal: legal complaints",
         "opacity": 0.8,
         "r": [
          0.12
         ],
         "theta": [
          36
         ],
         "type": "barpolar",
         "width": [
          20
         ]
        },
        {
         "marker": {
          "color": [
           "#EF553B"
          ],
          "line": {
           "color": "black",
           "width": 2
          }
         },
         "name": "Unimodal: police penalties",
         "opacity": 0.8,
         "r": [
          0.31
         ],
         "theta": [
          99
         ],
         "type": "barpolar",
         "width": [
          20
         ]
        },
        {
         "marker": {
          "color": [
           "#00cc96"
          ],
          "line": {
           "color": "black",
           "width": 2
          }
         },
         "name": "Unimodal: emergency calls",
         "opacity": 0.8,
         "r": [
          0.39
         ],
         "theta": [
          162
         ],
         "type": "barpolar",
         "width": [
          22
         ]
        },
        {
         "marker": {
          "color": [
           "#ab63fa"
          ],
          "line": {
           "color": "black",
           "width": 2
          }
         },
         "name": "Multimodal: average-fusion",
         "opacity": 0.8,
         "r": [
          0.42
         ],
         "theta": [
          225
         ],
         "type": "barpolar",
         "width": [
          24
         ]
        },
        {
         "marker": {
          "color": [
           "#FFA15A"
          ],
          "line": {
           "color": "black",
           "width": 2
          }
         },
         "name": "Multimodal: max-fusion",
         "opacity": 0.8,
         "r": [
          0.53
         ],
         "theta": [
          318
         ],
         "type": "barpolar",
         "width": [
          30
         ]
        }
       ],
       "layout": {
        "legend": {
         "font": {
          "size": 14
         },
         "orientation": "h",
         "x": 1,
         "xanchor": "center",
         "y": -0.4,
         "yanchor": "bottom"
        },
        "polar": {
         "angularaxis": {
          "showticklabels": false,
          "ticks": ""
         },
         "radialaxis": {
          "dtick": 0.2,
          "range": [
           0,
           0.6
          ],
          "showticklabels": true,
          "tick0": 0,
          "tickmode": "linear"
         }
        },
        "showlegend": true,
        "template": {},
        "title": {
         "text": "Entropy"
        }
       }
      },
      "text/html": [
       "<div>\n",
       "        \n",
       "        \n",
       "            <div id=\"a85ae973-4115-48ae-b90b-629cdf8403e3\" class=\"plotly-graph-div\" style=\"height:525px; width:100%;\"></div>\n",
       "            <script type=\"text/javascript\">\n",
       "                require([\"plotly\"], function(Plotly) {\n",
       "                    window.PLOTLYENV=window.PLOTLYENV || {};\n",
       "                    \n",
       "                if (document.getElementById(\"a85ae973-4115-48ae-b90b-629cdf8403e3\")) {\n",
       "                    Plotly.newPlot(\n",
       "                        'a85ae973-4115-48ae-b90b-629cdf8403e3',\n",
       "                        [{\"type\": \"barpolar\"}, {\"marker\": {\"color\": [\"#636efa\"], \"line\": {\"color\": \"black\", \"width\": 2}}, \"name\": \"Unimodal: legal complaints\", \"opacity\": 0.8, \"r\": [0.12], \"theta\": [36], \"type\": \"barpolar\", \"width\": [20]}, {\"marker\": {\"color\": [\"#EF553B\"], \"line\": {\"color\": \"black\", \"width\": 2}}, \"name\": \"Unimodal: police penalties\", \"opacity\": 0.8, \"r\": [0.31], \"theta\": [99], \"type\": \"barpolar\", \"width\": [20]}, {\"marker\": {\"color\": [\"#00cc96\"], \"line\": {\"color\": \"black\", \"width\": 2}}, \"name\": \"Unimodal: emergency calls\", \"opacity\": 0.8, \"r\": [0.39], \"theta\": [162], \"type\": \"barpolar\", \"width\": [22]}, {\"marker\": {\"color\": [\"#ab63fa\"], \"line\": {\"color\": \"black\", \"width\": 2}}, \"name\": \"Multimodal: average-fusion\", \"opacity\": 0.8, \"r\": [0.42], \"theta\": [225], \"type\": \"barpolar\", \"width\": [24]}, {\"marker\": {\"color\": [\"#FFA15A\"], \"line\": {\"color\": \"black\", \"width\": 2}}, \"name\": \"Multimodal: max-fusion\", \"opacity\": 0.8, \"r\": [0.53], \"theta\": [318], \"type\": \"barpolar\", \"width\": [30]}],\n",
       "                        {\"legend\": {\"font\": {\"size\": 14}, \"orientation\": \"h\", \"x\": 1, \"xanchor\": \"center\", \"y\": -0.4, \"yanchor\": \"bottom\"}, \"polar\": {\"angularaxis\": {\"showticklabels\": false, \"ticks\": \"\"}, \"radialaxis\": {\"dtick\": 0.2, \"range\": [0, 0.6], \"showticklabels\": true, \"tick0\": 0, \"tickmode\": \"linear\"}}, \"showlegend\": true, \"template\": {}, \"title\": {\"text\": \"Entropy\"}},\n",
       "                        {\"responsive\": true}\n",
       "                    ).then(function(){\n",
       "                            \n",
       "var gd = document.getElementById('a85ae973-4115-48ae-b90b-629cdf8403e3');\n",
       "var x = new MutationObserver(function (mutations, observer) {{\n",
       "        var display = window.getComputedStyle(gd).display;\n",
       "        if (!display || display === 'none') {{\n",
       "            console.log([gd, 'removed!']);\n",
       "            Plotly.purge(gd);\n",
       "            observer.disconnect();\n",
       "        }}\n",
       "}});\n",
       "\n",
       "// Listen for the removal of the full notebook cells\n",
       "var notebookContainer = gd.closest('#notebook-container');\n",
       "if (notebookContainer) {{\n",
       "    x.observe(notebookContainer, {childList: true});\n",
       "}}\n",
       "\n",
       "// Listen for the clearing of the current output cell\n",
       "var outputEl = gd.closest('.output');\n",
       "if (outputEl) {{\n",
       "    x.observe(outputEl, {childList: true});\n",
       "}}\n",
       "\n",
       "                        })\n",
       "                };\n",
       "                });\n",
       "            </script>\n",
       "        </div>"
      ]
     },
     "metadata": {},
     "output_type": "display_data"
    }
   ],
   "source": [
    "entropy_values=[0.12,0.31,0.39,0.42,0.53]\n",
    "width= list(map(lambda x: compute_width(x,max(entropy_values),30), entropy_values))\n",
    "\n",
    "fig = go.Figure(go.Barpolar())\n",
    "\n",
    "for i in list(range(5)):\n",
    "    \n",
    "    fig.add_trace(go.Barpolar(\n",
    "        r=[entropy_values[i]],\n",
    "        theta=[theta[i]],\n",
    "        width=[width[i]],\n",
    "        marker_color=[px.colors.qualitative.Plotly[i]],\n",
    "        marker_line_color=\"black\",\n",
    "        marker_line_width=2,\n",
    "        opacity=0.8,\n",
    "        name = labels[i]\n",
    "    ))        \n",
    "\n",
    "fig.update_layout(\n",
    "    template=None,\n",
    "    title = \"Entropy\",\n",
    "    polar = dict(\n",
    "        radialaxis = dict(range=[0,0.6], showticklabels=True, tickmode = 'linear', tick0 = 0, dtick = 0.2),\n",
    "        angularaxis = dict(showticklabels=False, ticks='')\n",
    "    ),\n",
    "    legend_font_size=14,\n",
    "    legend=dict(orientation=\"h\",\n",
    "                yanchor=\"bottom\",\n",
    "                y=-0.4,\n",
    "                xanchor=\"center\",\n",
    "                x=1),\n",
    "    showlegend = True\n",
    ")\n",
    "file_path = '/Users/anamaria/Desktop/multimodal prediction draft figures/'\n",
    "fig.write_image(file_path+'GLCM_entropy.svg')\n",
    "    \n",
    "fig.show()"
   ]
  },
  {
   "cell_type": "code",
   "execution_count": 8,
   "metadata": {},
   "outputs": [
    {
     "data": {
      "application/vnd.plotly.v1+json": {
       "config": {
        "plotlyServerURL": "https://plot.ly"
       },
       "data": [
        {
         "type": "barpolar"
        },
        {
         "marker": {
          "color": [
           "#636efa"
          ],
          "line": {
           "color": "black",
           "width": 2
          }
         },
         "name": "Unimodal: legal complaints",
         "opacity": 0.8,
         "r": [
          0.99
         ],
         "theta": [
          36
         ],
         "type": "barpolar",
         "width": [
          30
         ]
        },
        {
         "marker": {
          "color": [
           "#EF553B"
          ],
          "line": {
           "color": "black",
           "width": 2
          }
         },
         "name": "Unimodal: police penalties",
         "opacity": 0.8,
         "r": [
          0.981
         ],
         "theta": [
          99
         ],
         "type": "barpolar",
         "width": [
          30
         ]
        },
        {
         "marker": {
          "color": [
           "#00cc96"
          ],
          "line": {
           "color": "black",
           "width": 2
          }
         },
         "name": "Unimodal: emergency calls",
         "opacity": 0.8,
         "r": [
          0.98
         ],
         "theta": [
          162
         ],
         "type": "barpolar",
         "width": [
          30
         ]
        },
        {
         "marker": {
          "color": [
           "#ab63fa"
          ],
          "line": {
           "color": "black",
           "width": 2
          }
         },
         "name": "Multimodal: average-fusion",
         "opacity": 0.8,
         "r": [
          0.979
         ],
         "theta": [
          225
         ],
         "type": "barpolar",
         "width": [
          30
         ]
        },
        {
         "marker": {
          "color": [
           "#FFA15A"
          ],
          "line": {
           "color": "black",
           "width": 2
          }
         },
         "name": "Multimodal: max-fusion",
         "opacity": 0.8,
         "r": [
          0.971
         ],
         "theta": [
          318
         ],
         "type": "barpolar",
         "width": [
          29
         ]
        }
       ],
       "layout": {
        "legend": {
         "font": {
          "size": 14
         },
         "orientation": "h",
         "x": 1,
         "xanchor": "center",
         "y": -0.4,
         "yanchor": "bottom"
        },
        "polar": {
         "angularaxis": {
          "showticklabels": false,
          "ticks": ""
         },
         "radialaxis": {
          "dtick": 0.01,
          "range": [
           0.96,
           1
          ],
          "showticklabels": true,
          "tick0": 0.96,
          "tickmode": "linear"
         }
        },
        "showlegend": true,
        "template": {},
        "title": {
         "text": "Homogeneity"
        }
       }
      },
      "text/html": [
       "<div>\n",
       "        \n",
       "        \n",
       "            <div id=\"b85d6280-63bb-430e-893d-f7568361845a\" class=\"plotly-graph-div\" style=\"height:525px; width:100%;\"></div>\n",
       "            <script type=\"text/javascript\">\n",
       "                require([\"plotly\"], function(Plotly) {\n",
       "                    window.PLOTLYENV=window.PLOTLYENV || {};\n",
       "                    \n",
       "                if (document.getElementById(\"b85d6280-63bb-430e-893d-f7568361845a\")) {\n",
       "                    Plotly.newPlot(\n",
       "                        'b85d6280-63bb-430e-893d-f7568361845a',\n",
       "                        [{\"type\": \"barpolar\"}, {\"marker\": {\"color\": [\"#636efa\"], \"line\": {\"color\": \"black\", \"width\": 2}}, \"name\": \"Unimodal: legal complaints\", \"opacity\": 0.8, \"r\": [0.99], \"theta\": [36], \"type\": \"barpolar\", \"width\": [30]}, {\"marker\": {\"color\": [\"#EF553B\"], \"line\": {\"color\": \"black\", \"width\": 2}}, \"name\": \"Unimodal: police penalties\", \"opacity\": 0.8, \"r\": [0.981], \"theta\": [99], \"type\": \"barpolar\", \"width\": [30]}, {\"marker\": {\"color\": [\"#00cc96\"], \"line\": {\"color\": \"black\", \"width\": 2}}, \"name\": \"Unimodal: emergency calls\", \"opacity\": 0.8, \"r\": [0.98], \"theta\": [162], \"type\": \"barpolar\", \"width\": [30]}, {\"marker\": {\"color\": [\"#ab63fa\"], \"line\": {\"color\": \"black\", \"width\": 2}}, \"name\": \"Multimodal: average-fusion\", \"opacity\": 0.8, \"r\": [0.979], \"theta\": [225], \"type\": \"barpolar\", \"width\": [30]}, {\"marker\": {\"color\": [\"#FFA15A\"], \"line\": {\"color\": \"black\", \"width\": 2}}, \"name\": \"Multimodal: max-fusion\", \"opacity\": 0.8, \"r\": [0.971], \"theta\": [318], \"type\": \"barpolar\", \"width\": [29]}],\n",
       "                        {\"legend\": {\"font\": {\"size\": 14}, \"orientation\": \"h\", \"x\": 1, \"xanchor\": \"center\", \"y\": -0.4, \"yanchor\": \"bottom\"}, \"polar\": {\"angularaxis\": {\"showticklabels\": false, \"ticks\": \"\"}, \"radialaxis\": {\"dtick\": 0.01, \"range\": [0.96, 1.0], \"showticklabels\": true, \"tick0\": 0.96, \"tickmode\": \"linear\"}}, \"showlegend\": true, \"template\": {}, \"title\": {\"text\": \"Homogeneity\"}},\n",
       "                        {\"responsive\": true}\n",
       "                    ).then(function(){\n",
       "                            \n",
       "var gd = document.getElementById('b85d6280-63bb-430e-893d-f7568361845a');\n",
       "var x = new MutationObserver(function (mutations, observer) {{\n",
       "        var display = window.getComputedStyle(gd).display;\n",
       "        if (!display || display === 'none') {{\n",
       "            console.log([gd, 'removed!']);\n",
       "            Plotly.purge(gd);\n",
       "            observer.disconnect();\n",
       "        }}\n",
       "}});\n",
       "\n",
       "// Listen for the removal of the full notebook cells\n",
       "var notebookContainer = gd.closest('#notebook-container');\n",
       "if (notebookContainer) {{\n",
       "    x.observe(notebookContainer, {childList: true});\n",
       "}}\n",
       "\n",
       "// Listen for the clearing of the current output cell\n",
       "var outputEl = gd.closest('.output');\n",
       "if (outputEl) {{\n",
       "    x.observe(outputEl, {childList: true});\n",
       "}}\n",
       "\n",
       "                        })\n",
       "                };\n",
       "                });\n",
       "            </script>\n",
       "        </div>"
      ]
     },
     "metadata": {},
     "output_type": "display_data"
    }
   ],
   "source": [
    "homogeneity_values=[0.990,0.981,0.980,0.979,0.971]\n",
    "width= list(map(lambda x: compute_width(x,max(homogeneity_values),30), homogeneity_values))\n",
    "\n",
    "fig = go.Figure(go.Barpolar())\n",
    "\n",
    "for i in list(range(5)):\n",
    "    \n",
    "    fig.add_trace(go.Barpolar(\n",
    "        r=[homogeneity_values[i]],\n",
    "        theta=[theta[i]],\n",
    "        width=[width[i]],\n",
    "        marker_color=[px.colors.qualitative.Plotly[i]],\n",
    "        marker_line_color=\"black\",\n",
    "        marker_line_width=2,\n",
    "        opacity=0.8,\n",
    "        name = labels[i]\n",
    "    ))        \n",
    "\n",
    "fig.update_layout(\n",
    "    template=None,\n",
    "    title = \"Homogeneity\",\n",
    "    polar = dict(\n",
    "        radialaxis = dict(range=[0.96, 1.0], showticklabels=True, tickmode = 'linear', tick0 = 0.96, dtick = 0.01),\n",
    "        angularaxis = dict(showticklabels=False, ticks='')\n",
    "    ),\n",
    "    legend_font_size=14,\n",
    "    legend=dict(orientation=\"h\",\n",
    "                yanchor=\"bottom\",\n",
    "                y=-0.4,\n",
    "                xanchor=\"center\",\n",
    "                x=1),\n",
    "    showlegend = True\n",
    ")\n",
    "\n",
    "file_path = '/Users/anamaria/Desktop/multimodal prediction draft figures/'\n",
    "fig.write_image(file_path+'GLCM_homogeneity.svg')\n",
    "fig.show()"
   ]
  },
  {
   "cell_type": "code",
   "execution_count": 9,
   "metadata": {},
   "outputs": [
    {
     "data": {
      "application/vnd.plotly.v1+json": {
       "config": {
        "plotlyServerURL": "https://plot.ly"
       },
       "data": [
        {
         "type": "barpolar"
        },
        {
         "marker": {
          "color": [
           "#636efa"
          ],
          "line": {
           "color": "black",
           "width": 2
          }
         },
         "name": "Unimodal: legal complaints",
         "opacity": 0.8,
         "r": [
          0.98
         ],
         "theta": [
          36
         ],
         "type": "barpolar",
         "width": [
          30
         ]
        },
        {
         "marker": {
          "color": [
           "#EF553B"
          ],
          "line": {
           "color": "black",
           "width": 2
          }
         },
         "name": "Unimodal: police penalties",
         "opacity": 0.8,
         "r": [
          0.95
         ],
         "theta": [
          99
         ],
         "type": "barpolar",
         "width": [
          29
         ]
        },
        {
         "marker": {
          "color": [
           "#00cc96"
          ],
          "line": {
           "color": "black",
           "width": 2
          }
         },
         "name": "Unimodal: emergency calls",
         "opacity": 0.8,
         "r": [
          0.94
         ],
         "theta": [
          162
         ],
         "type": "barpolar",
         "width": [
          29
         ]
        },
        {
         "marker": {
          "color": [
           "#ab63fa"
          ],
          "line": {
           "color": "black",
           "width": 2
          }
         },
         "name": "Multimodal: average-fusion",
         "opacity": 0.8,
         "r": [
          0.93
         ],
         "theta": [
          225
         ],
         "type": "barpolar",
         "width": [
          28
         ]
        },
        {
         "marker": {
          "color": [
           "#FFA15A"
          ],
          "line": {
           "color": "black",
           "width": 2
          }
         },
         "name": "Multimodal: max-fusion",
         "opacity": 0.8,
         "r": [
          0.92
         ],
         "theta": [
          318
         ],
         "type": "barpolar",
         "width": [
          28
         ]
        }
       ],
       "layout": {
        "legend": {
         "font": {
          "size": 14
         },
         "orientation": "h",
         "x": 1,
         "xanchor": "center",
         "y": -0.4,
         "yanchor": "bottom"
        },
        "polar": {
         "angularaxis": {
          "showticklabels": false,
          "ticks": ""
         },
         "radialaxis": {
          "dtick": 0.03,
          "range": [
           0.9,
           0.99
          ],
          "showticklabels": true,
          "tick0": 0.9,
          "tickmode": "linear"
         }
        },
        "showlegend": true,
        "template": {},
        "title": {
         "text": "Energy"
        }
       }
      },
      "text/html": [
       "<div>\n",
       "        \n",
       "        \n",
       "            <div id=\"e85befd6-3a10-4559-a797-0eb0789d5206\" class=\"plotly-graph-div\" style=\"height:525px; width:100%;\"></div>\n",
       "            <script type=\"text/javascript\">\n",
       "                require([\"plotly\"], function(Plotly) {\n",
       "                    window.PLOTLYENV=window.PLOTLYENV || {};\n",
       "                    \n",
       "                if (document.getElementById(\"e85befd6-3a10-4559-a797-0eb0789d5206\")) {\n",
       "                    Plotly.newPlot(\n",
       "                        'e85befd6-3a10-4559-a797-0eb0789d5206',\n",
       "                        [{\"type\": \"barpolar\"}, {\"marker\": {\"color\": [\"#636efa\"], \"line\": {\"color\": \"black\", \"width\": 2}}, \"name\": \"Unimodal: legal complaints\", \"opacity\": 0.8, \"r\": [0.98], \"theta\": [36], \"type\": \"barpolar\", \"width\": [30]}, {\"marker\": {\"color\": [\"#EF553B\"], \"line\": {\"color\": \"black\", \"width\": 2}}, \"name\": \"Unimodal: police penalties\", \"opacity\": 0.8, \"r\": [0.95], \"theta\": [99], \"type\": \"barpolar\", \"width\": [29]}, {\"marker\": {\"color\": [\"#00cc96\"], \"line\": {\"color\": \"black\", \"width\": 2}}, \"name\": \"Unimodal: emergency calls\", \"opacity\": 0.8, \"r\": [0.94], \"theta\": [162], \"type\": \"barpolar\", \"width\": [29]}, {\"marker\": {\"color\": [\"#ab63fa\"], \"line\": {\"color\": \"black\", \"width\": 2}}, \"name\": \"Multimodal: average-fusion\", \"opacity\": 0.8, \"r\": [0.93], \"theta\": [225], \"type\": \"barpolar\", \"width\": [28]}, {\"marker\": {\"color\": [\"#FFA15A\"], \"line\": {\"color\": \"black\", \"width\": 2}}, \"name\": \"Multimodal: max-fusion\", \"opacity\": 0.8, \"r\": [0.92], \"theta\": [318], \"type\": \"barpolar\", \"width\": [28]}],\n",
       "                        {\"legend\": {\"font\": {\"size\": 14}, \"orientation\": \"h\", \"x\": 1, \"xanchor\": \"center\", \"y\": -0.4, \"yanchor\": \"bottom\"}, \"polar\": {\"angularaxis\": {\"showticklabels\": false, \"ticks\": \"\"}, \"radialaxis\": {\"dtick\": 0.03, \"range\": [0.9, 0.99], \"showticklabels\": true, \"tick0\": 0.9, \"tickmode\": \"linear\"}}, \"showlegend\": true, \"template\": {}, \"title\": {\"text\": \"Energy\"}},\n",
       "                        {\"responsive\": true}\n",
       "                    ).then(function(){\n",
       "                            \n",
       "var gd = document.getElementById('e85befd6-3a10-4559-a797-0eb0789d5206');\n",
       "var x = new MutationObserver(function (mutations, observer) {{\n",
       "        var display = window.getComputedStyle(gd).display;\n",
       "        if (!display || display === 'none') {{\n",
       "            console.log([gd, 'removed!']);\n",
       "            Plotly.purge(gd);\n",
       "            observer.disconnect();\n",
       "        }}\n",
       "}});\n",
       "\n",
       "// Listen for the removal of the full notebook cells\n",
       "var notebookContainer = gd.closest('#notebook-container');\n",
       "if (notebookContainer) {{\n",
       "    x.observe(notebookContainer, {childList: true});\n",
       "}}\n",
       "\n",
       "// Listen for the clearing of the current output cell\n",
       "var outputEl = gd.closest('.output');\n",
       "if (outputEl) {{\n",
       "    x.observe(outputEl, {childList: true});\n",
       "}}\n",
       "\n",
       "                        })\n",
       "                };\n",
       "                });\n",
       "            </script>\n",
       "        </div>"
      ]
     },
     "metadata": {},
     "output_type": "display_data"
    }
   ],
   "source": [
    "energy_values=[0.98,0.95,0.94,0.93,0.92]\n",
    "width= list(map(lambda x: compute_width(x,max(energy_values),30), energy_values))\n",
    "\n",
    "fig = go.Figure(go.Barpolar())\n",
    "\n",
    "for i in list(range(5)):\n",
    "    \n",
    "    fig.add_trace(go.Barpolar(\n",
    "        r=[energy_values[i]],\n",
    "        theta=[theta[i]],\n",
    "        width=[width[i]],\n",
    "        marker_color=[px.colors.qualitative.Plotly[i]],\n",
    "        marker_line_color=\"black\",\n",
    "        marker_line_width=2,\n",
    "        opacity=0.8,\n",
    "        name = labels[i]\n",
    "    ))        \n",
    "\n",
    "fig.update_layout(\n",
    "    template=None,\n",
    "    title = \"Energy\",\n",
    "    polar = dict(\n",
    "        radialaxis = dict(range=[0.90, 0.99], showticklabels=True, tickmode = 'linear', tick0 = 0.90, dtick = 0.03),\n",
    "        angularaxis = dict(showticklabels=False, ticks='')\n",
    "    ),\n",
    "    legend_font_size=14,\n",
    "    legend=dict(orientation=\"h\",\n",
    "                yanchor=\"bottom\",\n",
    "                y=-0.4,\n",
    "                xanchor=\"center\",\n",
    "                x=1),\n",
    "    showlegend = True\n",
    ")\n",
    "\n",
    "file_path = '/Users/anamaria/Desktop/multimodal prediction draft figures/'\n",
    "fig.write_image(file_path+'GLCM_energy.svg')\n",
    "fig.show()"
   ]
  },
  {
   "cell_type": "code",
   "execution_count": 10,
   "metadata": {},
   "outputs": [
    {
     "data": {
      "application/vnd.plotly.v1+json": {
       "config": {
        "plotlyServerURL": "https://plot.ly"
       },
       "data": [
        {
         "type": "barpolar"
        },
        {
         "marker": {
          "color": [
           "#636efa"
          ],
          "line": {
           "color": "black",
           "width": 2
          }
         },
         "name": "Unimodal: legal complaints",
         "opacity": 0.8,
         "r": [
          3
         ],
         "theta": [
          36
         ],
         "type": "barpolar",
         "width": [
          20
         ]
        },
        {
         "marker": {
          "color": [
           "#EF553B"
          ],
          "line": {
           "color": "black",
           "width": 2
          }
         },
         "name": "Unimodal: police penalties",
         "opacity": 0.8,
         "r": [
          3.8
         ],
         "theta": [
          99
         ],
         "type": "barpolar",
         "width": [
          20
         ]
        },
        {
         "marker": {
          "color": [
           "#00cc96"
          ],
          "line": {
           "color": "black",
           "width": 2
          }
         },
         "name": "Unimodal: emergency calls",
         "opacity": 0.8,
         "r": [
          1.8
         ],
         "theta": [
          162
         ],
         "type": "barpolar",
         "width": [
          20
         ]
        },
        {
         "marker": {
          "color": [
           "#ab63fa"
          ],
          "line": {
           "color": "black",
           "width": 2
          }
         },
         "name": "Multimodal: average-fusion",
         "opacity": 0.8,
         "r": [
          1
         ],
         "theta": [
          225
         ],
         "type": "barpolar",
         "width": [
          20
         ]
        },
        {
         "marker": {
          "color": [
           "#FFA15A"
          ],
          "line": {
           "color": "black",
           "width": 2
          }
         },
         "name": "Multimodal: max-fusion",
         "opacity": 0.8,
         "r": [
          7
         ],
         "theta": [
          318
         ],
         "type": "barpolar",
         "width": [
          30
         ]
        }
       ],
       "layout": {
        "legend": {
         "font": {
          "size": 14
         },
         "orientation": "h",
         "x": 1,
         "xanchor": "center",
         "y": -0.4,
         "yanchor": "bottom"
        },
        "polar": {
         "angularaxis": {
          "showticklabels": false,
          "ticks": ""
         },
         "radialaxis": {
          "dtick": 2,
          "range": [
           0,
           8
          ],
          "showticklabels": true,
          "tick0": 0,
          "tickmode": "linear"
         }
        },
        "showlegend": true,
        "template": {},
        "title": {
         "text": "Contrast"
        }
       }
      },
      "text/html": [
       "<div>\n",
       "        \n",
       "        \n",
       "            <div id=\"439a00e7-e8fe-4b50-b489-1db7b306c599\" class=\"plotly-graph-div\" style=\"height:525px; width:100%;\"></div>\n",
       "            <script type=\"text/javascript\">\n",
       "                require([\"plotly\"], function(Plotly) {\n",
       "                    window.PLOTLYENV=window.PLOTLYENV || {};\n",
       "                    \n",
       "                if (document.getElementById(\"439a00e7-e8fe-4b50-b489-1db7b306c599\")) {\n",
       "                    Plotly.newPlot(\n",
       "                        '439a00e7-e8fe-4b50-b489-1db7b306c599',\n",
       "                        [{\"type\": \"barpolar\"}, {\"marker\": {\"color\": [\"#636efa\"], \"line\": {\"color\": \"black\", \"width\": 2}}, \"name\": \"Unimodal: legal complaints\", \"opacity\": 0.8, \"r\": [3], \"theta\": [36], \"type\": \"barpolar\", \"width\": [20]}, {\"marker\": {\"color\": [\"#EF553B\"], \"line\": {\"color\": \"black\", \"width\": 2}}, \"name\": \"Unimodal: police penalties\", \"opacity\": 0.8, \"r\": [3.8], \"theta\": [99], \"type\": \"barpolar\", \"width\": [20]}, {\"marker\": {\"color\": [\"#00cc96\"], \"line\": {\"color\": \"black\", \"width\": 2}}, \"name\": \"Unimodal: emergency calls\", \"opacity\": 0.8, \"r\": [1.8], \"theta\": [162], \"type\": \"barpolar\", \"width\": [20]}, {\"marker\": {\"color\": [\"#ab63fa\"], \"line\": {\"color\": \"black\", \"width\": 2}}, \"name\": \"Multimodal: average-fusion\", \"opacity\": 0.8, \"r\": [1], \"theta\": [225], \"type\": \"barpolar\", \"width\": [20]}, {\"marker\": {\"color\": [\"#FFA15A\"], \"line\": {\"color\": \"black\", \"width\": 2}}, \"name\": \"Multimodal: max-fusion\", \"opacity\": 0.8, \"r\": [7], \"theta\": [318], \"type\": \"barpolar\", \"width\": [30]}],\n",
       "                        {\"legend\": {\"font\": {\"size\": 14}, \"orientation\": \"h\", \"x\": 1, \"xanchor\": \"center\", \"y\": -0.4, \"yanchor\": \"bottom\"}, \"polar\": {\"angularaxis\": {\"showticklabels\": false, \"ticks\": \"\"}, \"radialaxis\": {\"dtick\": 2, \"range\": [0, 8], \"showticklabels\": true, \"tick0\": 0, \"tickmode\": \"linear\"}}, \"showlegend\": true, \"template\": {}, \"title\": {\"text\": \"Contrast\"}},\n",
       "                        {\"responsive\": true}\n",
       "                    ).then(function(){\n",
       "                            \n",
       "var gd = document.getElementById('439a00e7-e8fe-4b50-b489-1db7b306c599');\n",
       "var x = new MutationObserver(function (mutations, observer) {{\n",
       "        var display = window.getComputedStyle(gd).display;\n",
       "        if (!display || display === 'none') {{\n",
       "            console.log([gd, 'removed!']);\n",
       "            Plotly.purge(gd);\n",
       "            observer.disconnect();\n",
       "        }}\n",
       "}});\n",
       "\n",
       "// Listen for the removal of the full notebook cells\n",
       "var notebookContainer = gd.closest('#notebook-container');\n",
       "if (notebookContainer) {{\n",
       "    x.observe(notebookContainer, {childList: true});\n",
       "}}\n",
       "\n",
       "// Listen for the clearing of the current output cell\n",
       "var outputEl = gd.closest('.output');\n",
       "if (outputEl) {{\n",
       "    x.observe(outputEl, {childList: true});\n",
       "}}\n",
       "\n",
       "                        })\n",
       "                };\n",
       "                });\n",
       "            </script>\n",
       "        </div>"
      ]
     },
     "metadata": {},
     "output_type": "display_data"
    }
   ],
   "source": [
    "contrast_values=[3,3.8,1.8,1,7]\n",
    "width= list(map(lambda x: compute_width(x,max(contrast_values),30), contrast_values))\n",
    "\n",
    "fig = go.Figure(go.Barpolar())\n",
    "\n",
    "for i in list(range(5)):\n",
    "    \n",
    "    fig.add_trace(go.Barpolar(\n",
    "        r=[contrast_values[i]],\n",
    "        theta=[theta[i]],\n",
    "        width=[width[i]],\n",
    "        marker_color=[px.colors.qualitative.Plotly[i]],\n",
    "        marker_line_color=\"black\",\n",
    "        marker_line_width=2,\n",
    "        opacity=0.8,\n",
    "        name = labels[i]\n",
    "    ))        \n",
    "\n",
    "fig.update_layout(\n",
    "    template=None,\n",
    "    title = \"Contrast\",\n",
    "    polar = dict(\n",
    "        radialaxis = dict(range=[0,8], showticklabels=True, tickmode = 'linear', tick0 = 0, dtick = 2),\n",
    "        angularaxis = dict(showticklabels=False, ticks='')\n",
    "    ),\n",
    "    legend_font_size=14,\n",
    "    legend=dict(orientation=\"h\",\n",
    "                yanchor=\"bottom\",\n",
    "                y=-0.4,\n",
    "                xanchor=\"center\",\n",
    "                x=1),\n",
    "    showlegend = True\n",
    ")\n",
    "\n",
    "file_path = '/Users/anamaria/Desktop/multimodal prediction draft figures/'\n",
    "fig.write_image(file_path+'GLCM_contrast.svg')\n",
    "fig.show()"
   ]
  },
  {
   "cell_type": "code",
   "execution_count": 11,
   "metadata": {},
   "outputs": [
    {
     "data": {
      "application/vnd.plotly.v1+json": {
       "config": {
        "plotlyServerURL": "https://plot.ly"
       },
       "data": [
        {
         "type": "barpolar"
        },
        {
         "marker": {
          "color": [
           "#636efa"
          ],
          "line": {
           "color": "black",
           "width": 2
          }
         },
         "name": "Unimodal: legal complaints",
         "opacity": 0.8,
         "r": [
          15
         ],
         "theta": [
          36
         ],
         "type": "barpolar",
         "width": [
          20
         ]
        },
        {
         "marker": {
          "color": [
           "#EF553B"
          ],
          "line": {
           "color": "black",
           "width": 2
          }
         },
         "name": "Unimodal: police penalties",
         "opacity": 0.8,
         "r": [
          69
         ],
         "theta": [
          99
         ],
         "type": "barpolar",
         "width": [
          20
         ]
        },
        {
         "marker": {
          "color": [
           "#00cc96"
          ],
          "line": {
           "color": "black",
           "width": 2
          }
         },
         "name": "Unimodal: emergency calls",
         "opacity": 0.8,
         "r": [
          13
         ],
         "theta": [
          162
         ],
         "type": "barpolar",
         "width": [
          20
         ]
        },
        {
         "marker": {
          "color": [
           "#ab63fa"
          ],
          "line": {
           "color": "black",
           "width": 2
          }
         },
         "name": "Multimodal: average-fusion",
         "opacity": 0.8,
         "r": [
          22
         ],
         "theta": [
          225
         ],
         "type": "barpolar",
         "width": [
          20
         ]
        },
        {
         "marker": {
          "color": [
           "#FFA15A"
          ],
          "line": {
           "color": "black",
           "width": 2
          }
         },
         "name": "Multimodal: max-fusion",
         "opacity": 0.8,
         "r": [
          120
         ],
         "theta": [
          318
         ],
         "type": "barpolar",
         "width": [
          30
         ]
        }
       ],
       "layout": {
        "legend": {
         "font": {
          "size": 14
         },
         "orientation": "h",
         "x": 1,
         "xanchor": "center",
         "y": -0.4,
         "yanchor": "bottom"
        },
        "polar": {
         "angularaxis": {
          "showticklabels": false,
          "ticks": ""
         },
         "radialaxis": {
          "dtick": 30,
          "range": [
           0,
           130
          ],
          "showticklabels": true,
          "tick0": 0,
          "tickmode": "linear"
         }
        },
        "showlegend": true,
        "template": {},
        "title": {
         "text": "Correlation"
        }
       }
      },
      "text/html": [
       "<div>\n",
       "        \n",
       "        \n",
       "            <div id=\"7e4747bd-6750-4709-bbc7-b5d37aef383c\" class=\"plotly-graph-div\" style=\"height:525px; width:100%;\"></div>\n",
       "            <script type=\"text/javascript\">\n",
       "                require([\"plotly\"], function(Plotly) {\n",
       "                    window.PLOTLYENV=window.PLOTLYENV || {};\n",
       "                    \n",
       "                if (document.getElementById(\"7e4747bd-6750-4709-bbc7-b5d37aef383c\")) {\n",
       "                    Plotly.newPlot(\n",
       "                        '7e4747bd-6750-4709-bbc7-b5d37aef383c',\n",
       "                        [{\"type\": \"barpolar\"}, {\"marker\": {\"color\": [\"#636efa\"], \"line\": {\"color\": \"black\", \"width\": 2}}, \"name\": \"Unimodal: legal complaints\", \"opacity\": 0.8, \"r\": [15], \"theta\": [36], \"type\": \"barpolar\", \"width\": [20]}, {\"marker\": {\"color\": [\"#EF553B\"], \"line\": {\"color\": \"black\", \"width\": 2}}, \"name\": \"Unimodal: police penalties\", \"opacity\": 0.8, \"r\": [69], \"theta\": [99], \"type\": \"barpolar\", \"width\": [20]}, {\"marker\": {\"color\": [\"#00cc96\"], \"line\": {\"color\": \"black\", \"width\": 2}}, \"name\": \"Unimodal: emergency calls\", \"opacity\": 0.8, \"r\": [13], \"theta\": [162], \"type\": \"barpolar\", \"width\": [20]}, {\"marker\": {\"color\": [\"#ab63fa\"], \"line\": {\"color\": \"black\", \"width\": 2}}, \"name\": \"Multimodal: average-fusion\", \"opacity\": 0.8, \"r\": [22], \"theta\": [225], \"type\": \"barpolar\", \"width\": [20]}, {\"marker\": {\"color\": [\"#FFA15A\"], \"line\": {\"color\": \"black\", \"width\": 2}}, \"name\": \"Multimodal: max-fusion\", \"opacity\": 0.8, \"r\": [120], \"theta\": [318], \"type\": \"barpolar\", \"width\": [30]}],\n",
       "                        {\"legend\": {\"font\": {\"size\": 14}, \"orientation\": \"h\", \"x\": 1, \"xanchor\": \"center\", \"y\": -0.4, \"yanchor\": \"bottom\"}, \"polar\": {\"angularaxis\": {\"showticklabels\": false, \"ticks\": \"\"}, \"radialaxis\": {\"dtick\": 30, \"range\": [0, 130], \"showticklabels\": true, \"tick0\": 0, \"tickmode\": \"linear\"}}, \"showlegend\": true, \"template\": {}, \"title\": {\"text\": \"Correlation\"}},\n",
       "                        {\"responsive\": true}\n",
       "                    ).then(function(){\n",
       "                            \n",
       "var gd = document.getElementById('7e4747bd-6750-4709-bbc7-b5d37aef383c');\n",
       "var x = new MutationObserver(function (mutations, observer) {{\n",
       "        var display = window.getComputedStyle(gd).display;\n",
       "        if (!display || display === 'none') {{\n",
       "            console.log([gd, 'removed!']);\n",
       "            Plotly.purge(gd);\n",
       "            observer.disconnect();\n",
       "        }}\n",
       "}});\n",
       "\n",
       "// Listen for the removal of the full notebook cells\n",
       "var notebookContainer = gd.closest('#notebook-container');\n",
       "if (notebookContainer) {{\n",
       "    x.observe(notebookContainer, {childList: true});\n",
       "}}\n",
       "\n",
       "// Listen for the clearing of the current output cell\n",
       "var outputEl = gd.closest('.output');\n",
       "if (outputEl) {{\n",
       "    x.observe(outputEl, {childList: true});\n",
       "}}\n",
       "\n",
       "                        })\n",
       "                };\n",
       "                });\n",
       "            </script>\n",
       "        </div>"
      ]
     },
     "metadata": {},
     "output_type": "display_data"
    }
   ],
   "source": [
    "correlation_values=[15,69,13,22,120]\n",
    "width= list(map(lambda x: compute_width(x,max(correlation_values),30), correlation_values))\n",
    "\n",
    "fig = go.Figure(go.Barpolar())\n",
    "\n",
    "for i in list(range(5)):\n",
    "    \n",
    "    fig.add_trace(go.Barpolar(\n",
    "        r=[correlation_values[i]],\n",
    "        theta=[theta[i]],\n",
    "        width=[width[i]],\n",
    "        marker_color=[px.colors.qualitative.Plotly[i]],\n",
    "        marker_line_color=\"black\",\n",
    "        marker_line_width=2,\n",
    "        opacity=0.8,\n",
    "        name = labels[i]\n",
    "    ))        \n",
    "\n",
    "fig.update_layout(\n",
    "    template=None,\n",
    "    title = \"Correlation\",\n",
    "    polar = dict(\n",
    "        radialaxis = dict(range=[0,130], showticklabels=True, tickmode = 'linear', tick0 = 0, dtick = 30),\n",
    "        angularaxis = dict(showticklabels=False, ticks='')\n",
    "    ),\n",
    "    legend_font_size=14,\n",
    "    legend=dict(orientation=\"h\",\n",
    "                yanchor=\"bottom\",\n",
    "                y=-0.4,\n",
    "                xanchor=\"center\",\n",
    "                x=1),\n",
    "    showlegend = True\n",
    ")\n",
    "\n",
    "file_path = '/Users/anamaria/Desktop/multimodal prediction draft figures/'\n",
    "fig.write_image(file_path+'GLCM_correlation.svg')\n",
    "fig.show()"
   ]
  },
  {
   "cell_type": "code",
   "execution_count": null,
   "metadata": {},
   "outputs": [],
   "source": []
  }
 ],
 "metadata": {
  "kernelspec": {
   "display_name": "Python 3",
   "language": "python",
   "name": "python3"
  },
  "language_info": {
   "codemirror_mode": {
    "name": "ipython",
    "version": 3
   },
   "file_extension": ".py",
   "mimetype": "text/x-python",
   "name": "python",
   "nbconvert_exporter": "python",
   "pygments_lexer": "ipython3",
   "version": "3.7.2"
  }
 },
 "nbformat": 4,
 "nbformat_minor": 2
}
