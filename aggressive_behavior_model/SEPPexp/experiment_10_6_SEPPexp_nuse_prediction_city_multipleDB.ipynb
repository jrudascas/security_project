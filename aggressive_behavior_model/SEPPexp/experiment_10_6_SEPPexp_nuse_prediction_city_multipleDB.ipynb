{
 "cells": [
  {
   "cell_type": "markdown",
   "metadata": {},
   "source": [
    "## Method\n",
    "- Get prediction risk map based only on NUSE DB (experiment_10_2_SEPPexp...)\n",
    "- Measure hit rate and PAI considering different ground truth scenarios:\n",
    "    1. SIEDCO\n",
    "    2. RNMC\n",
    "    3. NUSE\n",
    "- Check if results are equivalent to prediction using sum and average operators"
   ]
  },
  {
   "cell_type": "markdown",
   "metadata": {},
   "source": [
    "## Hypothesis:\n",
    "Multimodal prediction is driven by NUSE prediction."
   ]
  },
  {
   "cell_type": "code",
   "execution_count": 1,
   "metadata": {},
   "outputs": [],
   "source": [
    "import pandas as pd\n",
    "import matplotlib.pyplot as plt\n",
    "import numpy as np\n",
    "import sys\n",
    "sys.path.append(\"..\")\n",
    "import geojson\n",
    "from shapely.geometry import Point\n",
    "from shapely.geometry.polygon import Polygon\n",
    "from pyproj import Proj, transform\n",
    "import pickle\n",
    "import open_cp"
   ]
  },
  {
   "cell_type": "code",
   "execution_count": 2,
   "metadata": {},
   "outputs": [
    {
     "name": "stderr",
     "output_type": "stream",
     "text": [
      "Failed to import `rtree`.\n",
      "Failed to import `rtree`.\n"
     ]
    }
   ],
   "source": [
    "from services import prediction_metrics\n",
    "from services.prediction_experiment import PredictionExperiment\n",
    "from services.process_data import ProcessData"
   ]
  },
  {
   "cell_type": "markdown",
   "metadata": {},
   "source": [
    "## Built-in"
   ]
  },
  {
   "cell_type": "code",
   "execution_count": 3,
   "metadata": {},
   "outputs": [],
   "source": [
    "def get_hit_rate_from_dict(row,column,coverage):\n",
    "    return row[column][coverage]"
   ]
  },
  {
   "cell_type": "markdown",
   "metadata": {},
   "source": [
    "## Load prediction results"
   ]
  },
  {
   "cell_type": "code",
   "execution_count": 4,
   "metadata": {},
   "outputs": [],
   "source": [
    "infile = open('/Users/anamaria/Desktop/dev/security_project/aggressive_behavior_model/pkl/experiment_seppexp_10_2_siedco_prediction.pkl','rb')\n",
    "loaded_siedco = pickle.load(infile)\n",
    "infile.close()"
   ]
  },
  {
   "cell_type": "code",
   "execution_count": 5,
   "metadata": {},
   "outputs": [],
   "source": [
    "infile = open('/Users/anamaria/Desktop/dev/security_project/aggressive_behavior_model/pkl/experiment_seppexp_10_2_rnmc_prediction.pkl','rb')\n",
    "loaded_rnmc = pickle.load(infile)\n",
    "infile.close()"
   ]
  },
  {
   "cell_type": "code",
   "execution_count": 6,
   "metadata": {},
   "outputs": [],
   "source": [
    "infile = open('/Users/anamaria/Desktop/dev/security_project/aggressive_behavior_model/pkl/experiment_seppexp_10_2_nuse_prediction.pkl','rb')\n",
    "loaded_nuse = pickle.load(infile)\n",
    "infile.close()"
   ]
  },
  {
   "cell_type": "code",
   "execution_count": 7,
   "metadata": {},
   "outputs": [],
   "source": [
    "loaded_siedco = loaded_siedco.rename(columns={'prediction': 'prediction_siedco', 'eval_pts': 'eval_pts_siedco'})\n",
    "loaded_rnmc = loaded_rnmc.rename(columns={'prediction': 'prediction_rnmc', 'eval_pts': 'eval_pts_rnmc'})\n",
    "loaded_nuse = loaded_nuse.rename(columns={'prediction': 'prediction_nuse', 'eval_pts': 'eval_pts_nuse'})"
   ]
  },
  {
   "cell_type": "markdown",
   "metadata": {},
   "source": [
    "## Compute maximum prediction"
   ]
  },
  {
   "cell_type": "code",
   "execution_count": 8,
   "metadata": {},
   "outputs": [],
   "source": [
    "result = pd.concat([loaded_siedco, loaded_rnmc, loaded_nuse], axis=1)"
   ]
  },
  {
   "cell_type": "markdown",
   "metadata": {},
   "source": [
    "## Hit rate and PAI"
   ]
  },
  {
   "cell_type": "markdown",
   "metadata": {},
   "source": [
    "#### Real percentage of city coverage over rectangular region (based on script experiment_11_1_get_rectangular_city_region):"
   ]
  },
  {
   "cell_type": "code",
   "execution_count": 9,
   "metadata": {},
   "outputs": [],
   "source": [
    "city_percentage_on_region = 0.26"
   ]
  },
  {
   "cell_type": "code",
   "execution_count": 10,
   "metadata": {},
   "outputs": [],
   "source": [
    "## coverages are represented in % (NOT IN PROPORTION)\n",
    "coverages = [2,4,6,8,10,12,14,16,18,20]\n",
    "### this approach is only used to open_cp hit rate implementation method makes sense\n",
    "real_coverages_city = list(map(lambda c: round((c/100)*city_percentage_on_region*100, 1), coverages))"
   ]
  },
  {
   "cell_type": "code",
   "execution_count": 11,
   "metadata": {},
   "outputs": [
    {
     "data": {
      "text/plain": [
       "[0.5, 1.0, 1.6, 2.1, 2.6, 3.1, 3.6, 4.2, 4.7, 5.2]"
      ]
     },
     "execution_count": 11,
     "metadata": {},
     "output_type": "execute_result"
    }
   ],
   "source": [
    "## coverages are represented in % (NOT IN PROPORTION)\n",
    "real_coverages_city"
   ]
  },
  {
   "cell_type": "markdown",
   "metadata": {},
   "source": [
    "### SIEDCO ground truth"
   ]
  },
  {
   "cell_type": "code",
   "execution_count": 12,
   "metadata": {},
   "outputs": [],
   "source": [
    "df_result = result.copy()"
   ]
  },
  {
   "cell_type": "code",
   "execution_count": 13,
   "metadata": {},
   "outputs": [],
   "source": [
    "df_result['hitrate_default'] = df_result.apply(lambda row: prediction_metrics.measure_hit_rates(row['prediction_nuse'],row['eval_pts_siedco'],real_coverages_city,'default'), axis=1)\n",
    "df_result['hitrate_TP'] = df_result.apply(lambda row: prediction_metrics.measure_hit_rates(row['prediction_nuse'],row['eval_pts_siedco'],real_coverages_city,'ground_truth_coverage'), axis=1)\n"
   ]
  },
  {
   "cell_type": "code",
   "execution_count": 14,
   "metadata": {},
   "outputs": [],
   "source": [
    "##For hitrate_TP \"true positives\"\n",
    "df_result['coverage_TP'] = df_result.apply(lambda row: (list(row['hitrate_TP'].keys())[0])/city_percentage_on_region, axis=1)\n",
    "df_result['hit_rate_TP'] = df_result.apply(lambda row: list(row['hitrate_TP'].values())[0], axis=1)\n",
    "df_result['PAI_TP'] = df_result['hit_rate_TP'] / (df_result['coverage_TP']/100)"
   ]
  },
  {
   "cell_type": "code",
   "execution_count": 15,
   "metadata": {},
   "outputs": [],
   "source": [
    "##For hitrate_default\n",
    "#coverages = [2.0,4.0,6.0,8.0,10.0,12.0,14.0,16.0,18.0,20.0]\n",
    "column_dict = 'hitrate_default'\n",
    "for c in real_coverages_city:\n",
    "    new_hit_rate_column = 'hit_rate_default_coverage_'+str(round(c/city_percentage_on_region))\n",
    "    df_result[new_hit_rate_column] = df_result.apply(lambda row: get_hit_rate_from_dict(row,column_dict,c), axis=1)\n",
    "\n",
    "    ##PAI\n",
    "    new_column = 'PAI_default_coverage_'+str(round(c/city_percentage_on_region))\n",
    "    df_result[new_column] = df_result[new_hit_rate_column]/(round(c/city_percentage_on_region)/100)\n"
   ]
  },
  {
   "cell_type": "code",
   "execution_count": 16,
   "metadata": {
    "scrolled": false
   },
   "outputs": [
    {
     "name": "stdout",
     "output_type": "stream",
     "text": [
      "coverage_TP                     0.020564\n",
      "hit_rate_TP                     0.000000\n",
      "PAI_TP                          0.000000\n",
      "hit_rate_default_coverage_2     0.176642\n",
      "PAI_default_coverage_2          8.832112\n",
      "hit_rate_default_coverage_4     0.306670\n",
      "PAI_default_coverage_4          7.666738\n",
      "hit_rate_default_coverage_6     0.449193\n",
      "PAI_default_coverage_6          7.486547\n",
      "hit_rate_default_coverage_8     0.552751\n",
      "PAI_default_coverage_8          6.909393\n",
      "hit_rate_default_coverage_10    0.618565\n",
      "PAI_default_coverage_10         6.185654\n",
      "hit_rate_default_coverage_12    0.697717\n",
      "PAI_default_coverage_12         5.814308\n",
      "hit_rate_default_coverage_14    0.719086\n",
      "PAI_default_coverage_14         5.136331\n",
      "hit_rate_default_coverage_16    0.719086\n",
      "PAI_default_coverage_16         4.494290\n",
      "hit_rate_default_coverage_18    0.719086\n",
      "PAI_default_coverage_18         3.994924\n",
      "hit_rate_default_coverage_20    0.719086\n",
      "PAI_default_coverage_20         3.595432\n",
      "dtype: float64\n"
     ]
    }
   ],
   "source": [
    "#delete datetimes where no crimes were reported (0 crimes on ground truth -> hit-rate = -1)\n",
    "df_result = df_result[df_result['hit_rate_default_coverage_2']!= -1]\n",
    "print(df_result.mean())"
   ]
  },
  {
   "cell_type": "markdown",
   "metadata": {},
   "source": [
    "### RNMC ground truth"
   ]
  },
  {
   "cell_type": "code",
   "execution_count": 17,
   "metadata": {},
   "outputs": [],
   "source": [
    "df_result = result.copy()"
   ]
  },
  {
   "cell_type": "code",
   "execution_count": 18,
   "metadata": {},
   "outputs": [],
   "source": [
    "df_result['hitrate_default'] = df_result.apply(lambda row: prediction_metrics.measure_hit_rates(row['prediction_nuse'],row['eval_pts_rnmc'],real_coverages_city,'default'), axis=1)\n",
    "df_result['hitrate_TP'] = df_result.apply(lambda row: prediction_metrics.measure_hit_rates(row['prediction_nuse'],row['eval_pts_rnmc'],real_coverages_city,'ground_truth_coverage'), axis=1)\n"
   ]
  },
  {
   "cell_type": "code",
   "execution_count": 19,
   "metadata": {},
   "outputs": [],
   "source": [
    "##For hitrate_TP \"true positives\"\n",
    "df_result['coverage_TP'] = df_result.apply(lambda row: (list(row['hitrate_TP'].keys())[0])/city_percentage_on_region, axis=1)\n",
    "df_result['hit_rate_TP'] = df_result.apply(lambda row: list(row['hitrate_TP'].values())[0], axis=1)\n",
    "df_result['PAI_TP'] = df_result['hit_rate_TP'] / (df_result['coverage_TP']/100)"
   ]
  },
  {
   "cell_type": "code",
   "execution_count": 20,
   "metadata": {},
   "outputs": [],
   "source": [
    "##For hitrate_default\n",
    "#coverages = [2.0,4.0,6.0,8.0,10.0,12.0,14.0,16.0,18.0,20.0]\n",
    "column_dict = 'hitrate_default'\n",
    "for c in real_coverages_city:\n",
    "    new_hit_rate_column = 'hit_rate_default_coverage_'+str(round(c/city_percentage_on_region))\n",
    "    df_result[new_hit_rate_column] = df_result.apply(lambda row: get_hit_rate_from_dict(row,column_dict,c), axis=1)\n",
    "\n",
    "    ##PAI\n",
    "    new_column = 'PAI_default_coverage_'+str(round(c/city_percentage_on_region))\n",
    "    df_result[new_column] = df_result[new_hit_rate_column]/(round(c/city_percentage_on_region)/100)\n"
   ]
  },
  {
   "cell_type": "code",
   "execution_count": 21,
   "metadata": {
    "scrolled": false
   },
   "outputs": [
    {
     "name": "stdout",
     "output_type": "stream",
     "text": [
      "coverage_TP                      0.124019\n",
      "hit_rate_TP                      0.009060\n",
      "PAI_TP                           6.569966\n",
      "hit_rate_default_coverage_2      0.200722\n",
      "PAI_default_coverage_2          10.036092\n",
      "hit_rate_default_coverage_4      0.358927\n",
      "PAI_default_coverage_4           8.973183\n",
      "hit_rate_default_coverage_6      0.496709\n",
      "PAI_default_coverage_6           8.278491\n",
      "hit_rate_default_coverage_8      0.603470\n",
      "PAI_default_coverage_8           7.543377\n",
      "hit_rate_default_coverage_10     0.677516\n",
      "PAI_default_coverage_10          6.775156\n",
      "hit_rate_default_coverage_12     0.759014\n",
      "PAI_default_coverage_12          6.325116\n",
      "hit_rate_default_coverage_14     0.791374\n",
      "PAI_default_coverage_14          5.652669\n",
      "hit_rate_default_coverage_16     0.791374\n",
      "PAI_default_coverage_16          4.946086\n",
      "hit_rate_default_coverage_18     0.791374\n",
      "PAI_default_coverage_18          4.396521\n",
      "hit_rate_default_coverage_20     0.791374\n",
      "PAI_default_coverage_20          3.956869\n",
      "dtype: float64\n"
     ]
    }
   ],
   "source": [
    "#delete datetimes where no crimes were reported (0 crimes on ground truth -> hit-rate = -1)\n",
    "df_result = df_result[df_result['hit_rate_default_coverage_2']!= -1]\n",
    "print(df_result.mean())"
   ]
  },
  {
   "cell_type": "markdown",
   "metadata": {},
   "source": [
    "### NUSE ground truth"
   ]
  },
  {
   "cell_type": "code",
   "execution_count": 22,
   "metadata": {},
   "outputs": [],
   "source": [
    "df_result = result.copy()"
   ]
  },
  {
   "cell_type": "code",
   "execution_count": 23,
   "metadata": {},
   "outputs": [],
   "source": [
    "df_result['hitrate_default'] = df_result.apply(lambda row: prediction_metrics.measure_hit_rates(row['prediction_nuse'],row['eval_pts_nuse'],real_coverages_city,'default'), axis=1)\n",
    "df_result['hitrate_TP'] = df_result.apply(lambda row: prediction_metrics.measure_hit_rates(row['prediction_nuse'],row['eval_pts_nuse'],real_coverages_city,'ground_truth_coverage'), axis=1)\n"
   ]
  },
  {
   "cell_type": "code",
   "execution_count": 24,
   "metadata": {},
   "outputs": [],
   "source": [
    "##For hitrate_TP \"true positives\"\n",
    "df_result['coverage_TP'] = df_result.apply(lambda row: (list(row['hitrate_TP'].keys())[0])/city_percentage_on_region, axis=1)\n",
    "df_result['hit_rate_TP'] = df_result.apply(lambda row: list(row['hitrate_TP'].values())[0], axis=1)\n",
    "df_result['PAI_TP'] = df_result['hit_rate_TP'] / (df_result['coverage_TP']/100)"
   ]
  },
  {
   "cell_type": "code",
   "execution_count": 25,
   "metadata": {},
   "outputs": [],
   "source": [
    "##For hitrate_default\n",
    "#coverages = [2.0,4.0,6.0,8.0,10.0,12.0,14.0,16.0,18.0,20.0]\n",
    "column_dict = 'hitrate_default'\n",
    "for c in real_coverages_city:\n",
    "    new_hit_rate_column = 'hit_rate_default_coverage_'+str(round(c/city_percentage_on_region))\n",
    "    df_result[new_hit_rate_column] = df_result.apply(lambda row: get_hit_rate_from_dict(row,column_dict,c), axis=1)\n",
    "\n",
    "    ##PAI\n",
    "    new_column = 'PAI_default_coverage_'+str(round(c/city_percentage_on_region))\n",
    "    df_result[new_column] = df_result[new_hit_rate_column]/(round(c/city_percentage_on_region)/100)\n"
   ]
  },
  {
   "cell_type": "code",
   "execution_count": 26,
   "metadata": {
    "scrolled": false
   },
   "outputs": [
    {
     "name": "stdout",
     "output_type": "stream",
     "text": [
      "coverage_TP                      0.365678\n",
      "hit_rate_TP                      0.155397\n",
      "PAI_TP                          48.633940\n",
      "hit_rate_default_coverage_2      0.371721\n",
      "PAI_default_coverage_2          18.586058\n",
      "hit_rate_default_coverage_4      0.543793\n",
      "PAI_default_coverage_4          13.594828\n",
      "hit_rate_default_coverage_6      0.694170\n",
      "PAI_default_coverage_6          11.569497\n",
      "hit_rate_default_coverage_8      0.785099\n",
      "PAI_default_coverage_8           9.813744\n",
      "hit_rate_default_coverage_10     0.853635\n",
      "PAI_default_coverage_10          8.536345\n",
      "hit_rate_default_coverage_12     0.909905\n",
      "PAI_default_coverage_12          7.582541\n",
      "hit_rate_default_coverage_14     0.920220\n",
      "PAI_default_coverage_14          6.572999\n",
      "hit_rate_default_coverage_16     0.920220\n",
      "PAI_default_coverage_16          5.751374\n",
      "hit_rate_default_coverage_18     0.920220\n",
      "PAI_default_coverage_18          5.112332\n",
      "hit_rate_default_coverage_20     0.920220\n",
      "PAI_default_coverage_20          4.601099\n",
      "dtype: float64\n"
     ]
    }
   ],
   "source": [
    "#delete datetimes where no crimes were reported (0 crimes on ground truth -> hit-rate = -1)\n",
    "df_result = df_result[df_result['hit_rate_default_coverage_2']!= -1]\n",
    "print(df_result.mean())"
   ]
  },
  {
   "cell_type": "code",
   "execution_count": null,
   "metadata": {},
   "outputs": [],
   "source": []
  }
 ],
 "metadata": {
  "kernelspec": {
   "display_name": "Python 3",
   "language": "python",
   "name": "python3"
  },
  "language_info": {
   "codemirror_mode": {
    "name": "ipython",
    "version": 3
   },
   "file_extension": ".py",
   "mimetype": "text/x-python",
   "name": "python",
   "nbconvert_exporter": "python",
   "pygments_lexer": "ipython3",
   "version": "3.7.2"
  }
 },
 "nbformat": 4,
 "nbformat_minor": 2
}
