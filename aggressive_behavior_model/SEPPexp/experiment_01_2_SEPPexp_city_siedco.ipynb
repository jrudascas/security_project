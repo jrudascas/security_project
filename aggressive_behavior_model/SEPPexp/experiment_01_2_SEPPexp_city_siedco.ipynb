{
 "cells": [
  {
   "cell_type": "markdown",
   "metadata": {},
   "source": [
    "## Parameters\n",
    "- model = SEPPexp: simplified SEPP (with 'self-excitation' only in time)\n",
    "- train_base = \n",
    "- validation = (2018-07-08 to 2018-07-15); modified from experimental design\n",
    "- prediction_horizon = one day\n",
    "- validation = nested-cross; day-forward chaining\n",
    "- db = SIEDCO\n",
    "- spatial scope: city\n",
    "\n",
    "Change training base dates for model convergence:\n",
    "- train_base = one week, one month, one semester"
   ]
  },
  {
   "cell_type": "markdown",
   "metadata": {},
   "source": [
    "## Hypothesis:\n",
    "Model converge if base training dates are modified (increase the number of days on training dataset for the first iteration on Nested cross validation) NOTE: original experimental design considered just one day on first iteration"
   ]
  },
  {
   "cell_type": "code",
   "execution_count": 1,
   "metadata": {},
   "outputs": [
    {
     "name": "stderr",
     "output_type": "stream",
     "text": [
      "Failed to import `rtree`.\n",
      "Failed to import `rtree`.\n"
     ]
    }
   ],
   "source": [
    "import pandas as pd\n",
    "import matplotlib.pyplot as plt\n",
    "import sys\n",
    "sys.path.append(\"..\")\n",
    "from services.prediction_experiment import PredictionExperiment"
   ]
  },
  {
   "cell_type": "code",
   "execution_count": 2,
   "metadata": {},
   "outputs": [],
   "source": [
    "def get_value(row,c):\n",
    "    return row['Hit-rates'][c]"
   ]
  },
  {
   "cell_type": "code",
   "execution_count": 3,
   "metadata": {},
   "outputs": [],
   "source": [
    "filter_localidad = {'field':'','value':''}\n",
    "model = \"SEPPexp\"\n",
    "metrics = ''\n",
    "aggregation = ''"
   ]
  },
  {
   "cell_type": "markdown",
   "metadata": {},
   "source": [
    "## SIEDCO"
   ]
  },
  {
   "cell_type": "code",
   "execution_count": 4,
   "metadata": {},
   "outputs": [],
   "source": [
    "csv_path = '/Users/anamaria/Desktop/dev/security_project/datasets/deduplicate_siedco_10032020.csv'\n",
    "siedco_info = {'name':'SIEDCO','path':csv_path}"
   ]
  },
  {
   "cell_type": "markdown",
   "metadata": {},
   "source": [
    "## One week as base training"
   ]
  },
  {
   "cell_type": "code",
   "execution_count": null,
   "metadata": {},
   "outputs": [],
   "source": [
    "train_dates = {'initial':'2018-07-01','final':'2018-07-07'}\n",
    "validation_dates = {'initial':'2018-07-08','final':'2018-07-15'}"
   ]
  },
  {
   "cell_type": "code",
   "execution_count": 5,
   "metadata": {
    "scrolled": true
   },
   "outputs": [
    {
     "name": "stdout",
     "output_type": "stream",
     "text": [
      "train_subset_dates {'initial': datetime.datetime(2018, 7, 1, 0, 0), 'final': datetime.datetime(2018, 7, 7, 0, 0)}\n",
      "current_validation_date 2018-07-08 00:00:00\n",
      "462\n"
     ]
    },
    {
     "name": "stderr",
     "output_type": "stream",
     "text": [
      "/Users/anamaria/Desktop/dev/security_project/security_venv/lib/python3.7/site-packages/open_cp/seppexp.py:183: RuntimeWarning: invalid value encountered in double_scalars\n",
      "  omega = _np.sum(upper_trianglar_sums) / _np.sum(weighted_upper_trianglar_sums)\n",
      "/Users/anamaria/Desktop/dev/security_project/security_venv/lib/python3.7/site-packages/open_cp/seppexp.py:184: RuntimeWarning: invalid value encountered in double_scalars\n",
      "  theta = _np.sum(upper_trianglar_sums) / _np.sum(event_counts)\n"
     ]
    },
    {
     "ename": "Exception",
     "evalue": "Convergence failed!",
     "output_type": "error",
     "traceback": [
      "\u001b[0;31m---------------------------------------------------------------------------\u001b[0m",
      "\u001b[0;31mException\u001b[0m                                 Traceback (most recent call last)",
      "\u001b[0;32m<ipython-input-5-0db6b81b1b86>\u001b[0m in \u001b[0;36m<module>\u001b[0;34m\u001b[0m\n\u001b[1;32m      1\u001b[0m \u001b[0mcity_experiment\u001b[0m \u001b[0;34m=\u001b[0m \u001b[0mPredictionExperiment\u001b[0m\u001b[0;34m(\u001b[0m\u001b[0mdataset_info\u001b[0m\u001b[0;34m=\u001b[0m\u001b[0msiedco_info\u001b[0m\u001b[0;34m,\u001b[0m \u001b[0mcustom_filter\u001b[0m\u001b[0;34m=\u001b[0m\u001b[0mfilter_localidad\u001b[0m\u001b[0;34m,\u001b[0m\u001b[0mtrain_dates\u001b[0m\u001b[0;34m=\u001b[0m\u001b[0mtrain_dates\u001b[0m\u001b[0;34m,\u001b[0m \u001b[0mvalidation_dates\u001b[0m\u001b[0;34m=\u001b[0m\u001b[0mvalidation_dates\u001b[0m\u001b[0;34m,\u001b[0m \u001b[0mmodel\u001b[0m\u001b[0;34m=\u001b[0m\u001b[0mmodel\u001b[0m\u001b[0;34m,\u001b[0m\u001b[0mmetrics\u001b[0m\u001b[0;34m=\u001b[0m\u001b[0;34m''\u001b[0m\u001b[0;34m,\u001b[0m\u001b[0maggregation_data\u001b[0m\u001b[0;34m=\u001b[0m\u001b[0;34m''\u001b[0m\u001b[0;34m)\u001b[0m\u001b[0;34m\u001b[0m\u001b[0;34m\u001b[0m\u001b[0m\n\u001b[0;32m----> 2\u001b[0;31m \u001b[0maccuracy_array\u001b[0m \u001b[0;34m=\u001b[0m \u001b[0mcity_experiment\u001b[0m\u001b[0;34m.\u001b[0m\u001b[0mrun_ncv_experiment\u001b[0m\u001b[0;34m(\u001b[0m\u001b[0mtime_unit\u001b[0m\u001b[0;34m=\u001b[0m\u001b[0;34m''\u001b[0m\u001b[0;34m,\u001b[0m\u001b[0mgrid_size\u001b[0m\u001b[0;34m=\u001b[0m\u001b[0;36m150\u001b[0m\u001b[0;34m,\u001b[0m \u001b[0mouter_iterations\u001b[0m\u001b[0;34m=\u001b[0m\u001b[0;34m''\u001b[0m\u001b[0;34m)\u001b[0m\u001b[0;34m\u001b[0m\u001b[0;34m\u001b[0m\u001b[0m\n\u001b[0m",
      "\u001b[0;32m~/Desktop/dev/security_project/aggressive_behavior_model/services/prediction_experiment.py\u001b[0m in \u001b[0;36mrun_ncv_experiment\u001b[0;34m(self, time_unit, grid_size, outer_iterations)\u001b[0m\n\u001b[1;32m     43\u001b[0m         \u001b[0mdf_train_validation\u001b[0m \u001b[0;34m=\u001b[0m \u001b[0mProcessData\u001b[0m\u001b[0;34m.\u001b[0m\u001b[0mselect_data\u001b[0m\u001b[0;34m(\u001b[0m\u001b[0mdf\u001b[0m\u001b[0;34m,\u001b[0m \u001b[0mself\u001b[0m\u001b[0;34m.\u001b[0m\u001b[0mdataset_info\u001b[0m\u001b[0;34m[\u001b[0m\u001b[0;34m'dict'\u001b[0m\u001b[0;34m]\u001b[0m\u001b[0;34m,\u001b[0m \u001b[0mself\u001b[0m\u001b[0;34m.\u001b[0m\u001b[0mcustom_filter\u001b[0m\u001b[0;34m,\u001b[0m \u001b[0mdates_interval\u001b[0m\u001b[0;34m)\u001b[0m\u001b[0;34m\u001b[0m\u001b[0;34m\u001b[0m\u001b[0m\n\u001b[1;32m     44\u001b[0m         \u001b[0mvalidation\u001b[0m \u001b[0;34m=\u001b[0m \u001b[0mValidateModel\u001b[0m\u001b[0;34m(\u001b[0m\u001b[0mdf_train_validation\u001b[0m\u001b[0;34m,\u001b[0m \u001b[0mself\u001b[0m\u001b[0;34m.\u001b[0m\u001b[0mdataset_info\u001b[0m\u001b[0;34m[\u001b[0m\u001b[0;34m'dict'\u001b[0m\u001b[0;34m]\u001b[0m\u001b[0;34m,\u001b[0m \u001b[0mtime_unit\u001b[0m\u001b[0;34m,\u001b[0m \u001b[0mouter_iterations\u001b[0m\u001b[0;34m)\u001b[0m\u001b[0;34m\u001b[0m\u001b[0;34m\u001b[0m\u001b[0m\n\u001b[0;32m---> 45\u001b[0;31m         \u001b[0mperformance_results\u001b[0m \u001b[0;34m=\u001b[0m \u001b[0mvalidation\u001b[0m\u001b[0;34m.\u001b[0m\u001b[0mwalk_fwd_chain\u001b[0m\u001b[0;34m(\u001b[0m\u001b[0mself\u001b[0m\u001b[0;34m.\u001b[0m\u001b[0mmodel\u001b[0m\u001b[0;34m,\u001b[0m \u001b[0mgrid_size\u001b[0m\u001b[0;34m,\u001b[0m \u001b[0mself\u001b[0m\u001b[0;34m.\u001b[0m\u001b[0mtrain_dates\u001b[0m\u001b[0;34m,\u001b[0m \u001b[0mself\u001b[0m\u001b[0;34m.\u001b[0m\u001b[0mvalidation_dates\u001b[0m\u001b[0;34m,\u001b[0m \u001b[0mself\u001b[0m\u001b[0;34m.\u001b[0m\u001b[0mmetrics\u001b[0m\u001b[0;34m)\u001b[0m\u001b[0;34m\u001b[0m\u001b[0;34m\u001b[0m\u001b[0m\n\u001b[0m\u001b[1;32m     46\u001b[0m         \u001b[0;32mreturn\u001b[0m \u001b[0mperformance_results\u001b[0m\u001b[0;34m\u001b[0m\u001b[0;34m\u001b[0m\u001b[0m\n\u001b[1;32m     47\u001b[0m \u001b[0;34m\u001b[0m\u001b[0m\n",
      "\u001b[0;32m~/Desktop/dev/security_project/aggressive_behavior_model/services/validate_model.py\u001b[0m in \u001b[0;36mwalk_fwd_chain\u001b[0;34m(self, model_class_name, grid_size, train_dates, validation_dates, metrics)\u001b[0m\n\u001b[1;32m     79\u001b[0m             \u001b[0mprint\u001b[0m\u001b[0;34m(\u001b[0m\u001b[0;34m'train_subset_dates'\u001b[0m\u001b[0;34m,\u001b[0m \u001b[0mtrain_subset_dates\u001b[0m\u001b[0;34m)\u001b[0m\u001b[0;34m\u001b[0m\u001b[0;34m\u001b[0m\u001b[0m\n\u001b[1;32m     80\u001b[0m             \u001b[0mprint\u001b[0m\u001b[0;34m(\u001b[0m\u001b[0;34m'current_validation_date'\u001b[0m\u001b[0;34m,\u001b[0m \u001b[0mcurrent_validation_date\u001b[0m\u001b[0;34m)\u001b[0m\u001b[0;34m\u001b[0m\u001b[0;34m\u001b[0m\u001b[0m\n\u001b[0;32m---> 81\u001b[0;31m             \u001b[0mperformance_metrics\u001b[0m \u001b[0;34m=\u001b[0m \u001b[0mself\u001b[0m\u001b[0;34m.\u001b[0m\u001b[0minner_loop_validation\u001b[0m\u001b[0;34m(\u001b[0m\u001b[0mmodel_class_name\u001b[0m\u001b[0;34m,\u001b[0m \u001b[0mgrid_size\u001b[0m\u001b[0;34m,\u001b[0m \u001b[0mtrain_subset_dates\u001b[0m\u001b[0;34m,\u001b[0m \u001b[0mcurrent_validation_date\u001b[0m\u001b[0;34m,\u001b[0m \u001b[0mmetrics\u001b[0m\u001b[0;34m)\u001b[0m\u001b[0;34m\u001b[0m\u001b[0;34m\u001b[0m\u001b[0m\n\u001b[0m\u001b[1;32m     82\u001b[0m             \u001b[0mperformance_array\u001b[0m\u001b[0;34m.\u001b[0m\u001b[0mappend\u001b[0m\u001b[0;34m(\u001b[0m\u001b[0mperformance_metrics\u001b[0m\u001b[0;34m)\u001b[0m\u001b[0;34m\u001b[0m\u001b[0;34m\u001b[0m\u001b[0m\n\u001b[1;32m     83\u001b[0m             \u001b[0mtrain_subset_dates\u001b[0m\u001b[0;34m,\u001b[0m \u001b[0mcurrent_validation_date\u001b[0m \u001b[0;34m=\u001b[0m \u001b[0mValidateModel\u001b[0m\u001b[0;34m.\u001b[0m\u001b[0mupdate_train_validation_subsets\u001b[0m\u001b[0;34m(\u001b[0m\u001b[0mtrain_subset_dates\u001b[0m\u001b[0;34m,\u001b[0m\u001b[0mcurrent_validation_date\u001b[0m\u001b[0;34m)\u001b[0m\u001b[0;34m\u001b[0m\u001b[0;34m\u001b[0m\u001b[0m\n",
      "\u001b[0;32m~/Desktop/dev/security_project/aggressive_behavior_model/services/validate_model.py\u001b[0m in \u001b[0;36minner_loop_validation\u001b[0;34m(self, model_class_name, grid_size, train_subset_dates, current_validation_date, metrics)\u001b[0m\n\u001b[1;32m     23\u001b[0m         \u001b[0mdf_train_subset\u001b[0m \u001b[0;34m=\u001b[0m \u001b[0mProcessData\u001b[0m\u001b[0;34m.\u001b[0m\u001b[0mfilter_by_date\u001b[0m\u001b[0;34m(\u001b[0m\u001b[0mself\u001b[0m\u001b[0;34m.\u001b[0m\u001b[0mdf_train_validation\u001b[0m\u001b[0;34m,\u001b[0m \u001b[0mself\u001b[0m\u001b[0;34m.\u001b[0m\u001b[0mdataset_dict\u001b[0m\u001b[0;34m,\u001b[0m \u001b[0mtrain_subset_dates\u001b[0m\u001b[0;34m[\u001b[0m\u001b[0;34m'initial'\u001b[0m\u001b[0;34m]\u001b[0m\u001b[0;34m,\u001b[0m \u001b[0mtrain_subset_dates\u001b[0m\u001b[0;34m[\u001b[0m\u001b[0;34m'final'\u001b[0m\u001b[0;34m]\u001b[0m\u001b[0;34m)\u001b[0m\u001b[0;34m\u001b[0m\u001b[0;34m\u001b[0m\u001b[0m\n\u001b[1;32m     24\u001b[0m         \u001b[0mprint\u001b[0m\u001b[0;34m(\u001b[0m\u001b[0mlen\u001b[0m\u001b[0;34m(\u001b[0m\u001b[0mdf_train_subset\u001b[0m\u001b[0;34m)\u001b[0m\u001b[0;34m)\u001b[0m\u001b[0;34m\u001b[0m\u001b[0;34m\u001b[0m\u001b[0m\n\u001b[0;32m---> 25\u001b[0;31m         \u001b[0mtrained_model\u001b[0m \u001b[0;34m=\u001b[0m \u001b[0mmodel_object\u001b[0m\u001b[0;34m.\u001b[0m\u001b[0mtrain\u001b[0m\u001b[0;34m(\u001b[0m\u001b[0mdf_train_subset\u001b[0m\u001b[0;34m,\u001b[0m \u001b[0mself\u001b[0m\u001b[0;34m.\u001b[0m\u001b[0mdataset_dict\u001b[0m\u001b[0;34m,\u001b[0m \u001b[0mgrid_size\u001b[0m\u001b[0;34m)\u001b[0m\u001b[0;34m\u001b[0m\u001b[0;34m\u001b[0m\u001b[0m\n\u001b[0m\u001b[1;32m     26\u001b[0m         \u001b[0;31m## TODO: save trained_model\u001b[0m\u001b[0;34m\u001b[0m\u001b[0;34m\u001b[0m\u001b[0;34m\u001b[0m\u001b[0m\n\u001b[1;32m     27\u001b[0m \u001b[0;34m\u001b[0m\u001b[0m\n",
      "\u001b[0;32m~/Desktop/dev/security_project/aggressive_behavior_model/services/aggressive_model.py\u001b[0m in \u001b[0;36mtrain\u001b[0;34m(self, df_train_subset, dataset_dict, grid_size)\u001b[0m\n\u001b[1;32m     40\u001b[0m         \u001b[0mtrainer\u001b[0m \u001b[0;34m=\u001b[0m \u001b[0mseppexp\u001b[0m\u001b[0;34m.\u001b[0m\u001b[0mSEPPTrainer\u001b[0m\u001b[0;34m(\u001b[0m\u001b[0mregion\u001b[0m\u001b[0;34m=\u001b[0m\u001b[0mtraining_region\u001b[0m\u001b[0;34m,\u001b[0m \u001b[0mgrid_size\u001b[0m\u001b[0;34m=\u001b[0m\u001b[0mgrid_size\u001b[0m\u001b[0;34m)\u001b[0m\u001b[0;34m\u001b[0m\u001b[0;34m\u001b[0m\u001b[0m\n\u001b[1;32m     41\u001b[0m         \u001b[0mtrainer\u001b[0m\u001b[0;34m.\u001b[0m\u001b[0mdata\u001b[0m \u001b[0;34m=\u001b[0m \u001b[0mtraining_points\u001b[0m\u001b[0;34m\u001b[0m\u001b[0;34m\u001b[0m\u001b[0m\n\u001b[0;32m---> 42\u001b[0;31m         \u001b[0mtrained_model\u001b[0m \u001b[0;34m=\u001b[0m \u001b[0mtrainer\u001b[0m\u001b[0;34m.\u001b[0m\u001b[0mtrain\u001b[0m\u001b[0;34m(\u001b[0m\u001b[0miterations\u001b[0m\u001b[0;34m=\u001b[0m\u001b[0;36m100\u001b[0m\u001b[0;34m,\u001b[0m \u001b[0muse_corrected\u001b[0m\u001b[0;34m=\u001b[0m\u001b[0;32mTrue\u001b[0m\u001b[0;34m)\u001b[0m\u001b[0;34m\u001b[0m\u001b[0;34m\u001b[0m\u001b[0m\n\u001b[0m\u001b[1;32m     43\u001b[0m         \u001b[0mtrained_model\u001b[0m\u001b[0;34m.\u001b[0m\u001b[0mdata\u001b[0m \u001b[0;34m=\u001b[0m \u001b[0mtraining_points\u001b[0m\u001b[0;34m\u001b[0m\u001b[0;34m\u001b[0m\u001b[0m\n\u001b[1;32m     44\u001b[0m         \u001b[0;32mreturn\u001b[0m \u001b[0mtrained_model\u001b[0m\u001b[0;34m\u001b[0m\u001b[0;34m\u001b[0m\u001b[0m\n",
      "\u001b[0;32m~/Desktop/dev/security_project/security_venv/lib/python3.7/site-packages/open_cp/seppexp.py\u001b[0m in \u001b[0;36mtrain\u001b[0;34m(self, cutoff_time, iterations, use_corrected)\u001b[0m\n\u001b[1;32m    313\u001b[0m                 \u001b[0momega\u001b[0m\u001b[0;34m,\u001b[0m \u001b[0mtheta\u001b[0m\u001b[0;34m,\u001b[0m \u001b[0mmu\u001b[0m \u001b[0;34m=\u001b[0m \u001b[0mmaximisation_corrected\u001b[0m\u001b[0;34m(\u001b[0m\u001b[0mcells\u001b[0m\u001b[0;34m,\u001b[0m \u001b[0momega\u001b[0m\u001b[0;34m,\u001b[0m \u001b[0mtheta\u001b[0m\u001b[0;34m,\u001b[0m \u001b[0mmu\u001b[0m\u001b[0;34m,\u001b[0m \u001b[0mtime_duration\u001b[0m\u001b[0;34m)\u001b[0m\u001b[0;34m\u001b[0m\u001b[0;34m\u001b[0m\u001b[0m\n\u001b[1;32m    314\u001b[0m                 \u001b[0;32mif\u001b[0m \u001b[0;32mnot\u001b[0m \u001b[0m_np\u001b[0m\u001b[0;34m.\u001b[0m\u001b[0mall\u001b[0m\u001b[0;34m(\u001b[0m\u001b[0m_np\u001b[0m\u001b[0;34m.\u001b[0m\u001b[0misfinite\u001b[0m\u001b[0;34m(\u001b[0m\u001b[0;34m[\u001b[0m\u001b[0momega\u001b[0m\u001b[0;34m,\u001b[0m \u001b[0mtheta\u001b[0m\u001b[0;34m]\u001b[0m\u001b[0;34m)\u001b[0m\u001b[0;34m)\u001b[0m \u001b[0;32mor\u001b[0m \u001b[0;32mnot\u001b[0m \u001b[0m_np\u001b[0m\u001b[0;34m.\u001b[0m\u001b[0mall\u001b[0m\u001b[0;34m(\u001b[0m\u001b[0m_np\u001b[0m\u001b[0;34m.\u001b[0m\u001b[0misfinite\u001b[0m\u001b[0;34m(\u001b[0m\u001b[0mmu\u001b[0m\u001b[0;34m)\u001b[0m\u001b[0;34m)\u001b[0m\u001b[0;34m:\u001b[0m\u001b[0;34m\u001b[0m\u001b[0;34m\u001b[0m\u001b[0m\n\u001b[0;32m--> 315\u001b[0;31m                     \u001b[0;32mraise\u001b[0m \u001b[0mException\u001b[0m\u001b[0;34m(\u001b[0m\u001b[0;34m\"Convergence failed!\"\u001b[0m\u001b[0;34m)\u001b[0m\u001b[0;34m\u001b[0m\u001b[0;34m\u001b[0m\u001b[0m\n\u001b[0m\u001b[1;32m    316\u001b[0m             self._logger.debug(\"Using edge-corrected algorithm, estimated omega=%s, theta=%s, mu=%s\",\n\u001b[1;32m    317\u001b[0m                                omega, theta, mu)\n",
      "\u001b[0;31mException\u001b[0m: Convergence failed!"
     ]
    }
   ],
   "source": [
    "city_experiment = PredictionExperiment(dataset_info=siedco_info, custom_filter=filter_localidad,train_dates=train_dates, validation_dates=validation_dates, model=model,metrics='',aggregation_data='')\n",
    "accuracy_array = city_experiment.run_ncv_experiment(time_unit='',grid_size=150, outer_iterations='')"
   ]
  },
  {
   "cell_type": "markdown",
   "metadata": {},
   "source": [
    "## One month as base training"
   ]
  },
  {
   "cell_type": "code",
   "execution_count": 6,
   "metadata": {},
   "outputs": [],
   "source": [
    "train_dates = {'initial':'2018-06-07','final':'2018-07-07'}\n",
    "validation_dates = {'initial':'2018-07-08','final':'2018-07-15'}"
   ]
  },
  {
   "cell_type": "code",
   "execution_count": 7,
   "metadata": {
    "scrolled": true
   },
   "outputs": [
    {
     "name": "stdout",
     "output_type": "stream",
     "text": [
      "train_subset_dates {'initial': datetime.datetime(2018, 6, 7, 0, 0), 'final': datetime.datetime(2018, 7, 7, 0, 0)}\n",
      "current_validation_date 2018-07-08 00:00:00\n",
      "2002\n",
      "train_subset_dates {'initial': datetime.datetime(2018, 6, 7, 0, 0), 'final': datetime.datetime(2018, 7, 8, 0, 0)}\n",
      "current_validation_date 2018-07-09 00:00:00\n",
      "2091\n",
      "train_subset_dates {'initial': datetime.datetime(2018, 6, 7, 0, 0), 'final': datetime.datetime(2018, 7, 9, 0, 0)}\n",
      "current_validation_date 2018-07-10 00:00:00\n",
      "2134\n",
      "train_subset_dates {'initial': datetime.datetime(2018, 6, 7, 0, 0), 'final': datetime.datetime(2018, 7, 10, 0, 0)}\n",
      "current_validation_date 2018-07-11 00:00:00\n",
      "2190\n",
      "train_subset_dates {'initial': datetime.datetime(2018, 6, 7, 0, 0), 'final': datetime.datetime(2018, 7, 11, 0, 0)}\n",
      "current_validation_date 2018-07-12 00:00:00\n",
      "2251\n",
      "train_subset_dates {'initial': datetime.datetime(2018, 6, 7, 0, 0), 'final': datetime.datetime(2018, 7, 12, 0, 0)}\n",
      "current_validation_date 2018-07-13 00:00:00\n",
      "2301\n",
      "train_subset_dates {'initial': datetime.datetime(2018, 6, 7, 0, 0), 'final': datetime.datetime(2018, 7, 13, 0, 0)}\n",
      "current_validation_date 2018-07-14 00:00:00\n",
      "2350\n",
      "train_subset_dates {'initial': datetime.datetime(2018, 6, 7, 0, 0), 'final': datetime.datetime(2018, 7, 14, 0, 0)}\n",
      "current_validation_date 2018-07-15 00:00:00\n",
      "2419\n"
     ]
    },
    {
     "name": "stderr",
     "output_type": "stream",
     "text": [
      "/Users/anamaria/Desktop/dev/security_project/security_venv/lib/python3.7/site-packages/open_cp/seppexp.py:183: RuntimeWarning: divide by zero encountered in double_scalars\n",
      "  omega = _np.sum(upper_trianglar_sums) / _np.sum(weighted_upper_trianglar_sums)\n"
     ]
    },
    {
     "ename": "Exception",
     "evalue": "Convergence failed!",
     "output_type": "error",
     "traceback": [
      "\u001b[0;31m---------------------------------------------------------------------------\u001b[0m",
      "\u001b[0;31mException\u001b[0m                                 Traceback (most recent call last)",
      "\u001b[0;32m<ipython-input-7-0db6b81b1b86>\u001b[0m in \u001b[0;36m<module>\u001b[0;34m\u001b[0m\n\u001b[1;32m      1\u001b[0m \u001b[0mcity_experiment\u001b[0m \u001b[0;34m=\u001b[0m \u001b[0mPredictionExperiment\u001b[0m\u001b[0;34m(\u001b[0m\u001b[0mdataset_info\u001b[0m\u001b[0;34m=\u001b[0m\u001b[0msiedco_info\u001b[0m\u001b[0;34m,\u001b[0m \u001b[0mcustom_filter\u001b[0m\u001b[0;34m=\u001b[0m\u001b[0mfilter_localidad\u001b[0m\u001b[0;34m,\u001b[0m\u001b[0mtrain_dates\u001b[0m\u001b[0;34m=\u001b[0m\u001b[0mtrain_dates\u001b[0m\u001b[0;34m,\u001b[0m \u001b[0mvalidation_dates\u001b[0m\u001b[0;34m=\u001b[0m\u001b[0mvalidation_dates\u001b[0m\u001b[0;34m,\u001b[0m \u001b[0mmodel\u001b[0m\u001b[0;34m=\u001b[0m\u001b[0mmodel\u001b[0m\u001b[0;34m,\u001b[0m\u001b[0mmetrics\u001b[0m\u001b[0;34m=\u001b[0m\u001b[0;34m''\u001b[0m\u001b[0;34m,\u001b[0m\u001b[0maggregation_data\u001b[0m\u001b[0;34m=\u001b[0m\u001b[0;34m''\u001b[0m\u001b[0;34m)\u001b[0m\u001b[0;34m\u001b[0m\u001b[0;34m\u001b[0m\u001b[0m\n\u001b[0;32m----> 2\u001b[0;31m \u001b[0maccuracy_array\u001b[0m \u001b[0;34m=\u001b[0m \u001b[0mcity_experiment\u001b[0m\u001b[0;34m.\u001b[0m\u001b[0mrun_ncv_experiment\u001b[0m\u001b[0;34m(\u001b[0m\u001b[0mtime_unit\u001b[0m\u001b[0;34m=\u001b[0m\u001b[0;34m''\u001b[0m\u001b[0;34m,\u001b[0m\u001b[0mgrid_size\u001b[0m\u001b[0;34m=\u001b[0m\u001b[0;36m150\u001b[0m\u001b[0;34m,\u001b[0m \u001b[0mouter_iterations\u001b[0m\u001b[0;34m=\u001b[0m\u001b[0;34m''\u001b[0m\u001b[0;34m)\u001b[0m\u001b[0;34m\u001b[0m\u001b[0;34m\u001b[0m\u001b[0m\n\u001b[0m",
      "\u001b[0;32m~/Desktop/dev/security_project/aggressive_behavior_model/services/prediction_experiment.py\u001b[0m in \u001b[0;36mrun_ncv_experiment\u001b[0;34m(self, time_unit, grid_size, outer_iterations)\u001b[0m\n\u001b[1;32m     43\u001b[0m         \u001b[0mdf_train_validation\u001b[0m \u001b[0;34m=\u001b[0m \u001b[0mProcessData\u001b[0m\u001b[0;34m.\u001b[0m\u001b[0mselect_data\u001b[0m\u001b[0;34m(\u001b[0m\u001b[0mdf\u001b[0m\u001b[0;34m,\u001b[0m \u001b[0mself\u001b[0m\u001b[0;34m.\u001b[0m\u001b[0mdataset_info\u001b[0m\u001b[0;34m[\u001b[0m\u001b[0;34m'dict'\u001b[0m\u001b[0;34m]\u001b[0m\u001b[0;34m,\u001b[0m \u001b[0mself\u001b[0m\u001b[0;34m.\u001b[0m\u001b[0mcustom_filter\u001b[0m\u001b[0;34m,\u001b[0m \u001b[0mdates_interval\u001b[0m\u001b[0;34m)\u001b[0m\u001b[0;34m\u001b[0m\u001b[0;34m\u001b[0m\u001b[0m\n\u001b[1;32m     44\u001b[0m         \u001b[0mvalidation\u001b[0m \u001b[0;34m=\u001b[0m \u001b[0mValidateModel\u001b[0m\u001b[0;34m(\u001b[0m\u001b[0mdf_train_validation\u001b[0m\u001b[0;34m,\u001b[0m \u001b[0mself\u001b[0m\u001b[0;34m.\u001b[0m\u001b[0mdataset_info\u001b[0m\u001b[0;34m[\u001b[0m\u001b[0;34m'dict'\u001b[0m\u001b[0;34m]\u001b[0m\u001b[0;34m,\u001b[0m \u001b[0mtime_unit\u001b[0m\u001b[0;34m,\u001b[0m \u001b[0mouter_iterations\u001b[0m\u001b[0;34m)\u001b[0m\u001b[0;34m\u001b[0m\u001b[0;34m\u001b[0m\u001b[0m\n\u001b[0;32m---> 45\u001b[0;31m         \u001b[0mperformance_results\u001b[0m \u001b[0;34m=\u001b[0m \u001b[0mvalidation\u001b[0m\u001b[0;34m.\u001b[0m\u001b[0mwalk_fwd_chain\u001b[0m\u001b[0;34m(\u001b[0m\u001b[0mself\u001b[0m\u001b[0;34m.\u001b[0m\u001b[0mmodel\u001b[0m\u001b[0;34m,\u001b[0m \u001b[0mgrid_size\u001b[0m\u001b[0;34m,\u001b[0m \u001b[0mself\u001b[0m\u001b[0;34m.\u001b[0m\u001b[0mtrain_dates\u001b[0m\u001b[0;34m,\u001b[0m \u001b[0mself\u001b[0m\u001b[0;34m.\u001b[0m\u001b[0mvalidation_dates\u001b[0m\u001b[0;34m,\u001b[0m \u001b[0mself\u001b[0m\u001b[0;34m.\u001b[0m\u001b[0mmetrics\u001b[0m\u001b[0;34m)\u001b[0m\u001b[0;34m\u001b[0m\u001b[0;34m\u001b[0m\u001b[0m\n\u001b[0m\u001b[1;32m     46\u001b[0m         \u001b[0;32mreturn\u001b[0m \u001b[0mperformance_results\u001b[0m\u001b[0;34m\u001b[0m\u001b[0;34m\u001b[0m\u001b[0m\n\u001b[1;32m     47\u001b[0m \u001b[0;34m\u001b[0m\u001b[0m\n",
      "\u001b[0;32m~/Desktop/dev/security_project/aggressive_behavior_model/services/validate_model.py\u001b[0m in \u001b[0;36mwalk_fwd_chain\u001b[0;34m(self, model_class_name, grid_size, train_dates, validation_dates, metrics)\u001b[0m\n\u001b[1;32m     79\u001b[0m             \u001b[0mprint\u001b[0m\u001b[0;34m(\u001b[0m\u001b[0;34m'train_subset_dates'\u001b[0m\u001b[0;34m,\u001b[0m \u001b[0mtrain_subset_dates\u001b[0m\u001b[0;34m)\u001b[0m\u001b[0;34m\u001b[0m\u001b[0;34m\u001b[0m\u001b[0m\n\u001b[1;32m     80\u001b[0m             \u001b[0mprint\u001b[0m\u001b[0;34m(\u001b[0m\u001b[0;34m'current_validation_date'\u001b[0m\u001b[0;34m,\u001b[0m \u001b[0mcurrent_validation_date\u001b[0m\u001b[0;34m)\u001b[0m\u001b[0;34m\u001b[0m\u001b[0;34m\u001b[0m\u001b[0m\n\u001b[0;32m---> 81\u001b[0;31m             \u001b[0mperformance_metrics\u001b[0m \u001b[0;34m=\u001b[0m \u001b[0mself\u001b[0m\u001b[0;34m.\u001b[0m\u001b[0minner_loop_validation\u001b[0m\u001b[0;34m(\u001b[0m\u001b[0mmodel_class_name\u001b[0m\u001b[0;34m,\u001b[0m \u001b[0mgrid_size\u001b[0m\u001b[0;34m,\u001b[0m \u001b[0mtrain_subset_dates\u001b[0m\u001b[0;34m,\u001b[0m \u001b[0mcurrent_validation_date\u001b[0m\u001b[0;34m,\u001b[0m \u001b[0mmetrics\u001b[0m\u001b[0;34m)\u001b[0m\u001b[0;34m\u001b[0m\u001b[0;34m\u001b[0m\u001b[0m\n\u001b[0m\u001b[1;32m     82\u001b[0m             \u001b[0mperformance_array\u001b[0m\u001b[0;34m.\u001b[0m\u001b[0mappend\u001b[0m\u001b[0;34m(\u001b[0m\u001b[0mperformance_metrics\u001b[0m\u001b[0;34m)\u001b[0m\u001b[0;34m\u001b[0m\u001b[0;34m\u001b[0m\u001b[0m\n\u001b[1;32m     83\u001b[0m             \u001b[0mtrain_subset_dates\u001b[0m\u001b[0;34m,\u001b[0m \u001b[0mcurrent_validation_date\u001b[0m \u001b[0;34m=\u001b[0m \u001b[0mValidateModel\u001b[0m\u001b[0;34m.\u001b[0m\u001b[0mupdate_train_validation_subsets\u001b[0m\u001b[0;34m(\u001b[0m\u001b[0mtrain_subset_dates\u001b[0m\u001b[0;34m,\u001b[0m\u001b[0mcurrent_validation_date\u001b[0m\u001b[0;34m)\u001b[0m\u001b[0;34m\u001b[0m\u001b[0;34m\u001b[0m\u001b[0m\n",
      "\u001b[0;32m~/Desktop/dev/security_project/aggressive_behavior_model/services/validate_model.py\u001b[0m in \u001b[0;36minner_loop_validation\u001b[0;34m(self, model_class_name, grid_size, train_subset_dates, current_validation_date, metrics)\u001b[0m\n\u001b[1;32m     23\u001b[0m         \u001b[0mdf_train_subset\u001b[0m \u001b[0;34m=\u001b[0m \u001b[0mProcessData\u001b[0m\u001b[0;34m.\u001b[0m\u001b[0mfilter_by_date\u001b[0m\u001b[0;34m(\u001b[0m\u001b[0mself\u001b[0m\u001b[0;34m.\u001b[0m\u001b[0mdf_train_validation\u001b[0m\u001b[0;34m,\u001b[0m \u001b[0mself\u001b[0m\u001b[0;34m.\u001b[0m\u001b[0mdataset_dict\u001b[0m\u001b[0;34m,\u001b[0m \u001b[0mtrain_subset_dates\u001b[0m\u001b[0;34m[\u001b[0m\u001b[0;34m'initial'\u001b[0m\u001b[0;34m]\u001b[0m\u001b[0;34m,\u001b[0m \u001b[0mtrain_subset_dates\u001b[0m\u001b[0;34m[\u001b[0m\u001b[0;34m'final'\u001b[0m\u001b[0;34m]\u001b[0m\u001b[0;34m)\u001b[0m\u001b[0;34m\u001b[0m\u001b[0;34m\u001b[0m\u001b[0m\n\u001b[1;32m     24\u001b[0m         \u001b[0mprint\u001b[0m\u001b[0;34m(\u001b[0m\u001b[0mlen\u001b[0m\u001b[0;34m(\u001b[0m\u001b[0mdf_train_subset\u001b[0m\u001b[0;34m)\u001b[0m\u001b[0;34m)\u001b[0m\u001b[0;34m\u001b[0m\u001b[0;34m\u001b[0m\u001b[0m\n\u001b[0;32m---> 25\u001b[0;31m         \u001b[0mtrained_model\u001b[0m \u001b[0;34m=\u001b[0m \u001b[0mmodel_object\u001b[0m\u001b[0;34m.\u001b[0m\u001b[0mtrain\u001b[0m\u001b[0;34m(\u001b[0m\u001b[0mdf_train_subset\u001b[0m\u001b[0;34m,\u001b[0m \u001b[0mself\u001b[0m\u001b[0;34m.\u001b[0m\u001b[0mdataset_dict\u001b[0m\u001b[0;34m,\u001b[0m \u001b[0mgrid_size\u001b[0m\u001b[0;34m)\u001b[0m\u001b[0;34m\u001b[0m\u001b[0;34m\u001b[0m\u001b[0m\n\u001b[0m\u001b[1;32m     26\u001b[0m         \u001b[0;31m## TODO: save trained_model\u001b[0m\u001b[0;34m\u001b[0m\u001b[0;34m\u001b[0m\u001b[0;34m\u001b[0m\u001b[0m\n\u001b[1;32m     27\u001b[0m \u001b[0;34m\u001b[0m\u001b[0m\n",
      "\u001b[0;32m~/Desktop/dev/security_project/aggressive_behavior_model/services/aggressive_model.py\u001b[0m in \u001b[0;36mtrain\u001b[0;34m(self, df_train_subset, dataset_dict, grid_size)\u001b[0m\n\u001b[1;32m     40\u001b[0m         \u001b[0mtrainer\u001b[0m \u001b[0;34m=\u001b[0m \u001b[0mseppexp\u001b[0m\u001b[0;34m.\u001b[0m\u001b[0mSEPPTrainer\u001b[0m\u001b[0;34m(\u001b[0m\u001b[0mregion\u001b[0m\u001b[0;34m=\u001b[0m\u001b[0mtraining_region\u001b[0m\u001b[0;34m,\u001b[0m \u001b[0mgrid_size\u001b[0m\u001b[0;34m=\u001b[0m\u001b[0mgrid_size\u001b[0m\u001b[0;34m)\u001b[0m\u001b[0;34m\u001b[0m\u001b[0;34m\u001b[0m\u001b[0m\n\u001b[1;32m     41\u001b[0m         \u001b[0mtrainer\u001b[0m\u001b[0;34m.\u001b[0m\u001b[0mdata\u001b[0m \u001b[0;34m=\u001b[0m \u001b[0mtraining_points\u001b[0m\u001b[0;34m\u001b[0m\u001b[0;34m\u001b[0m\u001b[0m\n\u001b[0;32m---> 42\u001b[0;31m         \u001b[0mtrained_model\u001b[0m \u001b[0;34m=\u001b[0m \u001b[0mtrainer\u001b[0m\u001b[0;34m.\u001b[0m\u001b[0mtrain\u001b[0m\u001b[0;34m(\u001b[0m\u001b[0miterations\u001b[0m\u001b[0;34m=\u001b[0m\u001b[0;36m100\u001b[0m\u001b[0;34m,\u001b[0m \u001b[0muse_corrected\u001b[0m\u001b[0;34m=\u001b[0m\u001b[0;32mTrue\u001b[0m\u001b[0;34m)\u001b[0m\u001b[0;34m\u001b[0m\u001b[0;34m\u001b[0m\u001b[0m\n\u001b[0m\u001b[1;32m     43\u001b[0m         \u001b[0mtrained_model\u001b[0m\u001b[0;34m.\u001b[0m\u001b[0mdata\u001b[0m \u001b[0;34m=\u001b[0m \u001b[0mtraining_points\u001b[0m\u001b[0;34m\u001b[0m\u001b[0;34m\u001b[0m\u001b[0m\n\u001b[1;32m     44\u001b[0m         \u001b[0;32mreturn\u001b[0m \u001b[0mtrained_model\u001b[0m\u001b[0;34m\u001b[0m\u001b[0;34m\u001b[0m\u001b[0m\n",
      "\u001b[0;32m~/Desktop/dev/security_project/security_venv/lib/python3.7/site-packages/open_cp/seppexp.py\u001b[0m in \u001b[0;36mtrain\u001b[0;34m(self, cutoff_time, iterations, use_corrected)\u001b[0m\n\u001b[1;32m    313\u001b[0m                 \u001b[0momega\u001b[0m\u001b[0;34m,\u001b[0m \u001b[0mtheta\u001b[0m\u001b[0;34m,\u001b[0m \u001b[0mmu\u001b[0m \u001b[0;34m=\u001b[0m \u001b[0mmaximisation_corrected\u001b[0m\u001b[0;34m(\u001b[0m\u001b[0mcells\u001b[0m\u001b[0;34m,\u001b[0m \u001b[0momega\u001b[0m\u001b[0;34m,\u001b[0m \u001b[0mtheta\u001b[0m\u001b[0;34m,\u001b[0m \u001b[0mmu\u001b[0m\u001b[0;34m,\u001b[0m \u001b[0mtime_duration\u001b[0m\u001b[0;34m)\u001b[0m\u001b[0;34m\u001b[0m\u001b[0;34m\u001b[0m\u001b[0m\n\u001b[1;32m    314\u001b[0m                 \u001b[0;32mif\u001b[0m \u001b[0;32mnot\u001b[0m \u001b[0m_np\u001b[0m\u001b[0;34m.\u001b[0m\u001b[0mall\u001b[0m\u001b[0;34m(\u001b[0m\u001b[0m_np\u001b[0m\u001b[0;34m.\u001b[0m\u001b[0misfinite\u001b[0m\u001b[0;34m(\u001b[0m\u001b[0;34m[\u001b[0m\u001b[0momega\u001b[0m\u001b[0;34m,\u001b[0m \u001b[0mtheta\u001b[0m\u001b[0;34m]\u001b[0m\u001b[0;34m)\u001b[0m\u001b[0;34m)\u001b[0m \u001b[0;32mor\u001b[0m \u001b[0;32mnot\u001b[0m \u001b[0m_np\u001b[0m\u001b[0;34m.\u001b[0m\u001b[0mall\u001b[0m\u001b[0;34m(\u001b[0m\u001b[0m_np\u001b[0m\u001b[0;34m.\u001b[0m\u001b[0misfinite\u001b[0m\u001b[0;34m(\u001b[0m\u001b[0mmu\u001b[0m\u001b[0;34m)\u001b[0m\u001b[0;34m)\u001b[0m\u001b[0;34m:\u001b[0m\u001b[0;34m\u001b[0m\u001b[0;34m\u001b[0m\u001b[0m\n\u001b[0;32m--> 315\u001b[0;31m                     \u001b[0;32mraise\u001b[0m \u001b[0mException\u001b[0m\u001b[0;34m(\u001b[0m\u001b[0;34m\"Convergence failed!\"\u001b[0m\u001b[0;34m)\u001b[0m\u001b[0;34m\u001b[0m\u001b[0;34m\u001b[0m\u001b[0m\n\u001b[0m\u001b[1;32m    316\u001b[0m             self._logger.debug(\"Using edge-corrected algorithm, estimated omega=%s, theta=%s, mu=%s\",\n\u001b[1;32m    317\u001b[0m                                omega, theta, mu)\n",
      "\u001b[0;31mException\u001b[0m: Convergence failed!"
     ]
    }
   ],
   "source": [
    "city_experiment = PredictionExperiment(dataset_info=siedco_info, custom_filter=filter_localidad,train_dates=train_dates, validation_dates=validation_dates, model=model,metrics='',aggregation_data='')\n",
    "accuracy_array = city_experiment.run_ncv_experiment(time_unit='',grid_size=150, outer_iterations='')"
   ]
  },
  {
   "cell_type": "markdown",
   "metadata": {},
   "source": [
    "## One semester as base training"
   ]
  },
  {
   "cell_type": "code",
   "execution_count": 8,
   "metadata": {},
   "outputs": [],
   "source": [
    "train_dates = {'initial':'2018-02-07','final':'2018-07-07'}\n",
    "validation_dates = {'initial':'2018-07-08','final':'2018-07-15'}"
   ]
  },
  {
   "cell_type": "code",
   "execution_count": 9,
   "metadata": {
    "scrolled": false
   },
   "outputs": [
    {
     "name": "stdout",
     "output_type": "stream",
     "text": [
      "train_subset_dates {'initial': datetime.datetime(2018, 2, 7, 0, 0), 'final': datetime.datetime(2018, 7, 7, 0, 0)}\n",
      "current_validation_date 2018-07-08 00:00:00\n",
      "10801\n",
      "train_subset_dates {'initial': datetime.datetime(2018, 2, 7, 0, 0), 'final': datetime.datetime(2018, 7, 8, 0, 0)}\n",
      "current_validation_date 2018-07-09 00:00:00\n",
      "10890\n",
      "train_subset_dates {'initial': datetime.datetime(2018, 2, 7, 0, 0), 'final': datetime.datetime(2018, 7, 9, 0, 0)}\n",
      "current_validation_date 2018-07-10 00:00:00\n",
      "10933\n",
      "train_subset_dates {'initial': datetime.datetime(2018, 2, 7, 0, 0), 'final': datetime.datetime(2018, 7, 10, 0, 0)}\n",
      "current_validation_date 2018-07-11 00:00:00\n",
      "10989\n",
      "train_subset_dates {'initial': datetime.datetime(2018, 2, 7, 0, 0), 'final': datetime.datetime(2018, 7, 11, 0, 0)}\n",
      "current_validation_date 2018-07-12 00:00:00\n",
      "11050\n",
      "train_subset_dates {'initial': datetime.datetime(2018, 2, 7, 0, 0), 'final': datetime.datetime(2018, 7, 12, 0, 0)}\n",
      "current_validation_date 2018-07-13 00:00:00\n",
      "11100\n",
      "train_subset_dates {'initial': datetime.datetime(2018, 2, 7, 0, 0), 'final': datetime.datetime(2018, 7, 13, 0, 0)}\n",
      "current_validation_date 2018-07-14 00:00:00\n",
      "11149\n",
      "train_subset_dates {'initial': datetime.datetime(2018, 2, 7, 0, 0), 'final': datetime.datetime(2018, 7, 14, 0, 0)}\n",
      "current_validation_date 2018-07-15 00:00:00\n",
      "11218\n"
     ]
    }
   ],
   "source": [
    "city_experiment = PredictionExperiment(dataset_info=siedco_info, custom_filter=filter_localidad,train_dates=train_dates, validation_dates=validation_dates, model=model,metrics='',aggregation_data='')\n",
    "accuracy_array = city_experiment.run_ncv_experiment(time_unit='',grid_size=150, outer_iterations='')"
   ]
  },
  {
   "cell_type": "code",
   "execution_count": 10,
   "metadata": {},
   "outputs": [],
   "source": [
    "flat_list = [item for sublist in accuracy_array for item in sublist]\n",
    "df_result = pd.DataFrame(flat_list, columns =['Prediction-time', 'Hit-rates'])\n",
    "coverages = [2.0,4.0,6.0,8.0,10.0,12.0,14.0,16.0,18.0,20.0]\n",
    "for c in coverages:\n",
    "    column = 'coverage_'+str(c)\n",
    "    df_result[column] = df_result.apply(lambda row: get_value(row,c), axis=1)"
   ]
  },
  {
   "cell_type": "code",
   "execution_count": 11,
   "metadata": {},
   "outputs": [],
   "source": [
    "df_siedco = df_result.copy()"
   ]
  },
  {
   "cell_type": "code",
   "execution_count": 12,
   "metadata": {},
   "outputs": [
    {
     "data": {
      "text/plain": [
       "coverage_2.0     0.541066\n",
       "coverage_4.0     0.656132\n",
       "coverage_6.0     0.658085\n",
       "coverage_8.0     0.658085\n",
       "coverage_10.0    0.691465\n",
       "coverage_12.0    0.712402\n",
       "coverage_14.0    0.729697\n",
       "coverage_16.0    0.767315\n",
       "coverage_18.0    0.787304\n",
       "coverage_20.0    0.859299\n",
       "dtype: float64"
      ]
     },
     "execution_count": 12,
     "metadata": {},
     "output_type": "execute_result"
    }
   ],
   "source": [
    "#delete datetimes where no crimes were reported (0 crimes on ground truth -> hit-rate = -1)\n",
    "df_siedco = df_siedco[df_siedco['coverage_2.0']!= -1]\n",
    "df_siedco.mean()"
   ]
  },
  {
   "cell_type": "code",
   "execution_count": 13,
   "metadata": {},
   "outputs": [],
   "source": [
    "df_siedco['date'] = pd.to_datetime(df_siedco['Prediction-time']).dt.date\n",
    "df_by_date = df_siedco.groupby(['date']).mean().reset_index()"
   ]
  },
  {
   "cell_type": "code",
   "execution_count": 14,
   "metadata": {},
   "outputs": [
    {
     "data": {
      "image/png": "[encoded data removed]",
      "text/plain": [
       "<Figure size 432x288 with 1 Axes>"
      ]
     },
     "metadata": {
      "needs_background": "light"
     },
     "output_type": "display_data"
    }
   ],
   "source": [
    "# gca stands for 'get current axis'\n",
    "ax = plt.gca()\n",
    "\n",
    "df_by_date.plot(kind='line',x='date',y='coverage_2.0',ax=ax)\n",
    "df_by_date.plot(kind='line',x='date',y='coverage_4.0', ax=ax)\n",
    "df_by_date.plot(kind='line',x='date',y='coverage_10.0', ax=ax)\n",
    "df_by_date.plot(kind='line',x='date',y='coverage_20.0', ax=ax)\n",
    "ax.set_ylabel('hit rate')\n",
    "\n",
    "plt.show()"
   ]
  },
  {
   "cell_type": "markdown",
   "metadata": {},
   "source": [
    "## Coverage vs hit rates"
   ]
  },
  {
   "cell_type": "code",
   "execution_count": 15,
   "metadata": {},
   "outputs": [
    {
     "data": {
      "image/png": "[encoded data removed]",
      "text/plain": [
       "<Figure size 432x288 with 1 Axes>"
      ]
     },
     "metadata": {
      "needs_background": "light"
     },
     "output_type": "display_data"
    }
   ],
   "source": [
    "ax = plt.gca()\n",
    "plt.plot(coverages,df_siedco.mean(),'.',label='SIEDCO')\n",
    "legend = ax.legend(loc='best')\n",
    "ax.set_ylabel('hit rate')\n",
    "ax.set_xlabel('coverage (%)')\n",
    "plt.ylim(0, 1)\n",
    "plt.show()"
   ]
  },
  {
   "cell_type": "code",
   "execution_count": 16,
   "metadata": {},
   "outputs": [],
   "source": [
    "from services.process_data import ProcessData\n",
    "path ='/Users/anamaria/Desktop/dev/security_project/aggressive_behavior_model/pkl/'\n",
    "file_name = 'coverage_vs_hitrate_city_SEPPexp'\n",
    "ProcessData.save_element(path,file_name,df_siedco)"
   ]
  },
  {
   "cell_type": "code",
   "execution_count": null,
   "metadata": {},
   "outputs": [],
   "source": []
  }
 ],
 "metadata": {
  "kernelspec": {
   "display_name": "Python 3",
   "language": "python",
   "name": "python3"
  },
  "language_info": {
   "codemirror_mode": {
    "name": "ipython",
    "version": 3
   },
   "file_extension": ".py",
   "mimetype": "text/x-python",
   "name": "python",
   "nbconvert_exporter": "python",
   "pygments_lexer": "ipython3",
   "version": "3.7.2"
  }
 },
 "nbformat": 4,
 "nbformat_minor": 2
}
