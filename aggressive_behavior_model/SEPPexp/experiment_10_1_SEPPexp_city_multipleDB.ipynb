{
 "cells": [
  {
   "cell_type": "markdown",
   "metadata": {},
   "source": [
    "## Method\n",
    "- Make prediction for city level using SEPP simplified (SEPPexp) using different DB.\n",
    "- Compare models performance using hit rate and PAI."
   ]
  },
  {
   "cell_type": "markdown",
   "metadata": {},
   "source": [
    "## Hypothesis:\n",
    "SEPPexp prediction performance is higher for models based on bigger datasets (DB with more data)."
   ]
  },
  {
   "cell_type": "code",
   "execution_count": 1,
   "metadata": {},
   "outputs": [],
   "source": [
    "import pandas as pd\n",
    "import matplotlib.pyplot as plt\n",
    "import sys\n",
    "sys.path.append(\"..\")\n",
    "from services.prediction_experiment import PredictionExperiment"
   ]
  },
  {
   "cell_type": "code",
   "execution_count": 2,
   "metadata": {},
   "outputs": [
    {
     "name": "stderr",
     "output_type": "stream",
     "text": [
      "Failed to import `rtree`.\n",
      "Failed to import `rtree`.\n"
     ]
    }
   ],
   "source": [
    "from services import prediction_metrics"
   ]
  },
  {
   "cell_type": "code",
   "execution_count": 3,
   "metadata": {},
   "outputs": [],
   "source": [
    "from services.process_data import ProcessData\n",
    "import pickle"
   ]
  },
  {
   "cell_type": "code",
   "execution_count": 4,
   "metadata": {},
   "outputs": [],
   "source": [
    "from shapely.geometry import Point\n",
    "from shapely.geometry.polygon import Polygon\n",
    "from pyproj import Proj, transform"
   ]
  },
  {
   "cell_type": "code",
   "execution_count": 5,
   "metadata": {},
   "outputs": [],
   "source": [
    "def get_hit_rate_from_dict(row,column,coverage):\n",
    "    return row[column][coverage]"
   ]
  },
  {
   "cell_type": "markdown",
   "metadata": {},
   "source": [
    "## Experimental design"
   ]
  },
  {
   "cell_type": "code",
   "execution_count": 6,
   "metadata": {},
   "outputs": [],
   "source": [
    "train_dates = {'initial':'2018-09-01','final':'2018-09-30'}\n",
    "validation_dates = {'initial':'2018-10-01','final':'2018-10-07'}\n",
    "metrics = ''\n",
    "aggregation = ''\n",
    "filter_localidad = {'field':'','value':''}\n",
    "model = \"SEPPexp\""
   ]
  },
  {
   "cell_type": "markdown",
   "metadata": {},
   "source": [
    "## SIEDCO"
   ]
  },
  {
   "cell_type": "code",
   "execution_count": 8,
   "metadata": {},
   "outputs": [],
   "source": [
    "csv_path = '/Users/anamaria/Desktop/dev/security_project/datasets/deduplicate_siedco_09062020.csv'\n",
    "siedco_info = {'name':'SIEDCO','path':csv_path}"
   ]
  },
  {
   "cell_type": "code",
   "execution_count": 9,
   "metadata": {
    "scrolled": false
   },
   "outputs": [
    {
     "name": "stderr",
     "output_type": "stream",
     "text": [
      "/Users/anamaria/Desktop/dev/security_project/security_venv/lib/python3.7/site-packages/ipykernel_launcher.py:2: DtypeWarning: Columns (32,44) have mixed types. Specify dtype option on import or set low_memory=False.\n",
      "  \n"
     ]
    },
    {
     "name": "stdout",
     "output_type": "stream",
     "text": [
      "train_subset_dates {'initial': datetime.datetime(2018, 9, 1, 0, 0), 'final': datetime.datetime(2018, 9, 30, 0, 0)}\n",
      "current_validation_date 2018-10-01 00:00:00\n",
      "RectangularRegion( (985137.4254012154,985520.8748214965) -> (1007214.0944495028,1022664.1295162059) )\n"
     ]
    },
    {
     "name": "stderr",
     "output_type": "stream",
     "text": [
      "/Users/anamaria/Desktop/dev/security_project/security_venv/lib/python3.7/site-packages/open_cp/seppexp.py:183: RuntimeWarning: divide by zero encountered in double_scalars\n",
      "  omega = _np.sum(upper_trianglar_sums) / _np.sum(weighted_upper_trianglar_sums)\n"
     ]
    },
    {
     "name": "stdout",
     "output_type": "stream",
     "text": [
      "omega: 4.374482781901475, theta: 0.0055151009042604905\n",
      "1940\n",
      "train_subset_dates {'initial': datetime.datetime(2018, 9, 1, 0, 0), 'final': datetime.datetime(2018, 10, 1, 0, 0)}\n",
      "current_validation_date 2018-10-02 00:00:00\n",
      "RectangularRegion( (985137.4254012154,985520.8748214965) -> (1007214.0944495028,1022664.1295162059) )\n",
      "omega: 3.211737309033009, theta: 0.005495484247211097\n",
      "1981\n",
      "train_subset_dates {'initial': datetime.datetime(2018, 9, 1, 0, 0), 'final': datetime.datetime(2018, 10, 2, 0, 0)}\n",
      "current_validation_date 2018-10-03 00:00:00\n",
      "RectangularRegion( (985137.4254012154,985520.8748214965) -> (1007214.0944495028,1022664.1295162059) )\n",
      "omega: 0.7140766145538754, theta: 0.005853110054305284\n",
      "2023\n",
      "train_subset_dates {'initial': datetime.datetime(2018, 9, 1, 0, 0), 'final': datetime.datetime(2018, 10, 3, 0, 0)}\n",
      "current_validation_date 2018-10-04 00:00:00\n",
      "RectangularRegion( (985137.4254012154,985520.8748214965) -> (1007214.0944495028,1022664.1295162059) )\n",
      "omega: 1.118656216843708, theta: 0.006462595592280894\n",
      "2085\n",
      "train_subset_dates {'initial': datetime.datetime(2018, 9, 1, 0, 0), 'final': datetime.datetime(2018, 10, 4, 0, 0)}\n",
      "current_validation_date 2018-10-05 00:00:00\n",
      "RectangularRegion( (985137.4254012154,985520.8748214965) -> (1007214.0944495028,1022664.1295162059) )\n",
      "omega: 0.7849974543168091, theta: 0.006938001619044317\n",
      "2148\n",
      "train_subset_dates {'initial': datetime.datetime(2018, 9, 1, 0, 0), 'final': datetime.datetime(2018, 10, 5, 0, 0)}\n",
      "current_validation_date 2018-10-06 00:00:00\n",
      "RectangularRegion( (985137.4254012154,985520.8748214965) -> (1007214.0944495028,1022664.1295162059) )\n",
      "omega: 0.7707051169291851, theta: 0.006738957914644481\n",
      "2211\n",
      "train_subset_dates {'initial': datetime.datetime(2018, 9, 1, 0, 0), 'final': datetime.datetime(2018, 10, 6, 0, 0)}\n",
      "current_validation_date 2018-10-07 00:00:00\n",
      "RectangularRegion( (969163.5134369032,923568.0068728022) -> (1007214.0944495028,1022664.1295162059) )\n",
      "omega: 0.11934429928107051, theta: 0.008454488448208211\n",
      "2262\n"
     ]
    }
   ],
   "source": [
    "city_experiment = PredictionExperiment(dataset_info=siedco_info, custom_filter=filter_localidad,train_dates=train_dates, validation_dates=validation_dates, model=model,metrics='',aggregation_data='')\n",
    "prediction_array = city_experiment.run_ncv_experiment(time_unit='',grid_size=150, outer_iterations='')"
   ]
  },
  {
   "cell_type": "code",
   "execution_count": 10,
   "metadata": {},
   "outputs": [],
   "source": [
    "df_siedco = pd.DataFrame(prediction_array, columns =['initial-date','final-date','prediction','eval_pts'])"
   ]
  },
  {
   "cell_type": "code",
   "execution_count": 11,
   "metadata": {},
   "outputs": [],
   "source": [
    "df_result = df_siedco.copy()\n",
    "coverages = [2,4,6,8,10,12,14,16,18,20]\n",
    "df_result['hitrate_default'] = df_result.apply(lambda row: prediction_metrics.measure_hit_rates(row['prediction'],row['eval_pts'],coverages,'default'), axis=1)\n",
    "df_result['hitrate_TP'] = df_result.apply(lambda row: prediction_metrics.measure_hit_rates(row['prediction'],row['eval_pts'],coverages,'ground_truth_coverage'), axis=1)\n"
   ]
  },
  {
   "cell_type": "code",
   "execution_count": 12,
   "metadata": {},
   "outputs": [],
   "source": [
    "##For hitrate_TP \"true positives\"\n",
    "df_result['coverage_TP'] = df_result.apply(lambda row: list(row['hitrate_TP'].keys())[0], axis=1)\n",
    "df_result['hit_rate_TP'] = df_result.apply(lambda row: list(row['hitrate_TP'].values())[0], axis=1)\n",
    "df_result['PAI_TP'] = df_result['hit_rate_TP'] / (df_result['coverage_TP']/100)"
   ]
  },
  {
   "cell_type": "code",
   "execution_count": 13,
   "metadata": {},
   "outputs": [],
   "source": [
    "##For hitrate_default\n",
    "coverages = [2.0,4.0,6.0,8.0,10.0,12.0,14.0,16.0,18.0,20.0]\n",
    "column_dict = 'hitrate_default'\n",
    "for c in coverages:\n",
    "    new_hit_rate_column = 'hit_rate_default_coverage_'+str(c)\n",
    "    df_result[new_hit_rate_column] = df_result.apply(lambda row: get_hit_rate_from_dict(row,column_dict,c), axis=1)\n",
    "\n",
    "    ##PAI\n",
    "    new_column = 'PAI_default_coverage_'+str(c)\n",
    "    df_result[new_column] = df_result[new_hit_rate_column]/(c/100)\n"
   ]
  },
  {
   "cell_type": "code",
   "execution_count": 14,
   "metadata": {
    "scrolled": false
   },
   "outputs": [
    {
     "name": "stdout",
     "output_type": "stream",
     "text": [
      "coverage_TP                         0.033395\n",
      "hit_rate_TP                         0.043774\n",
      "PAI_TP                            150.877141\n",
      "hit_rate_default_coverage_2.0       0.148028\n",
      "PAI_default_coverage_2.0            7.401406\n",
      "hit_rate_default_coverage_4.0       0.280370\n",
      "PAI_default_coverage_4.0            7.009256\n",
      "hit_rate_default_coverage_6.0       0.322161\n",
      "PAI_default_coverage_6.0            5.369358\n",
      "hit_rate_default_coverage_8.0       0.327611\n",
      "PAI_default_coverage_8.0            4.095142\n",
      "hit_rate_default_coverage_10.0      0.332270\n",
      "PAI_default_coverage_10.0           3.322698\n",
      "hit_rate_default_coverage_12.0      0.334614\n",
      "PAI_default_coverage_12.0           2.788451\n",
      "hit_rate_default_coverage_14.0      0.334614\n",
      "PAI_default_coverage_14.0           2.390101\n",
      "hit_rate_default_coverage_16.0      0.345095\n",
      "PAI_default_coverage_16.0           2.156846\n",
      "hit_rate_default_coverage_18.0      0.353220\n",
      "PAI_default_coverage_18.0           1.962336\n",
      "hit_rate_default_coverage_20.0      0.361811\n",
      "PAI_default_coverage_20.0           1.809057\n",
      "dtype: float64\n"
     ]
    }
   ],
   "source": [
    "#delete datetimes where no crimes were reported (0 crimes on ground truth -> hit-rate = -1)\n",
    "df_result = df_result[df_result['hit_rate_default_coverage_2.0']!= -1]\n",
    "print(df_result.mean())"
   ]
  },
  {
   "cell_type": "markdown",
   "metadata": {},
   "source": [
    "## RNMC"
   ]
  },
  {
   "cell_type": "code",
   "execution_count": 16,
   "metadata": {},
   "outputs": [],
   "source": [
    "csv_path = '/Users/anamaria/Desktop/dev/security_project/datasets/06. verify_enrich_rnmc_12022020.csv'\n",
    "rnmc_info = {'name':'RNMC','path':csv_path}"
   ]
  },
  {
   "cell_type": "code",
   "execution_count": 17,
   "metadata": {
    "scrolled": false
   },
   "outputs": [
    {
     "name": "stderr",
     "output_type": "stream",
     "text": [
      "/Users/anamaria/Desktop/dev/security_project/security_venv/lib/python3.7/site-packages/ipykernel_launcher.py:2: DtypeWarning: Columns (1) have mixed types. Specify dtype option on import or set low_memory=False.\n",
      "  \n"
     ]
    },
    {
     "name": "stdout",
     "output_type": "stream",
     "text": [
      "train_subset_dates {'initial': datetime.datetime(2018, 9, 1, 0, 0), 'final': datetime.datetime(2018, 9, 30, 0, 0)}\n",
      "current_validation_date 2018-10-01 00:00:00\n",
      "RectangularRegion( (984669.0232233646,985838.37102438) -> (1007856.5307052307,1019311.2309223285) )\n",
      "omega: 0.012127152637416958, theta: 0.026256166588999392\n",
      "12325\n",
      "train_subset_dates {'initial': datetime.datetime(2018, 9, 1, 0, 0), 'final': datetime.datetime(2018, 10, 1, 0, 0)}\n",
      "current_validation_date 2018-10-02 00:00:00\n",
      "RectangularRegion( (984669.0232233646,985838.37102438) -> (1007856.5307052307,1019311.2309223285) )\n",
      "omega: 0.011912175367095561, theta: 0.026877060038867633\n",
      "12603\n",
      "train_subset_dates {'initial': datetime.datetime(2018, 9, 1, 0, 0), 'final': datetime.datetime(2018, 10, 2, 0, 0)}\n",
      "current_validation_date 2018-10-03 00:00:00\n",
      "RectangularRegion( (984669.0232233646,985838.37102438) -> (1007856.5307052307,1019311.2309223285) )\n",
      "omega: 0.011814787931435275, theta: 0.02767984400500485\n",
      "12936\n",
      "train_subset_dates {'initial': datetime.datetime(2018, 9, 1, 0, 0), 'final': datetime.datetime(2018, 10, 3, 0, 0)}\n",
      "current_validation_date 2018-10-04 00:00:00\n",
      "RectangularRegion( (984669.0232233646,985838.37102438) -> (1007856.5307052307,1019311.2309223285) )\n",
      "omega: 0.011403380925242105, theta: 0.02903972861440568\n",
      "13271\n",
      "train_subset_dates {'initial': datetime.datetime(2018, 9, 1, 0, 0), 'final': datetime.datetime(2018, 10, 4, 0, 0)}\n",
      "current_validation_date 2018-10-05 00:00:00\n",
      "RectangularRegion( (984669.0232233646,983789.5869567499) -> (1007856.5307052307,1019311.2309223285) )\n",
      "omega: 0.01083315886152248, theta: 0.029298775969548652\n",
      "13650\n",
      "train_subset_dates {'initial': datetime.datetime(2018, 9, 1, 0, 0), 'final': datetime.datetime(2018, 10, 5, 0, 0)}\n",
      "current_validation_date 2018-10-06 00:00:00\n",
      "RectangularRegion( (984669.0232233646,983789.5869567499) -> (1007856.5307052307,1019311.2309223285) )\n",
      "omega: 0.01074764672448229, theta: 0.029498874533632355\n",
      "14048\n",
      "train_subset_dates {'initial': datetime.datetime(2018, 9, 1, 0, 0), 'final': datetime.datetime(2018, 10, 6, 0, 0)}\n",
      "current_validation_date 2018-10-07 00:00:00\n",
      "RectangularRegion( (984669.0232233646,983789.5869567499) -> (1007856.5307052307,1019311.2309223285) )\n",
      "omega: 0.010897392827495437, theta: 0.029094035525055212\n",
      "14443\n"
     ]
    }
   ],
   "source": [
    "city_experiment = PredictionExperiment(dataset_info=rnmc_info, custom_filter=filter_localidad,train_dates=train_dates, validation_dates=validation_dates, model=model,metrics='',aggregation_data='')\n",
    "prediction_array = city_experiment.run_ncv_experiment(time_unit='',grid_size=150, outer_iterations='')"
   ]
  },
  {
   "cell_type": "code",
   "execution_count": 18,
   "metadata": {},
   "outputs": [],
   "source": [
    "df_rnmc = pd.DataFrame(prediction_array, columns =['initial-date','final-date','prediction','eval_pts'])"
   ]
  },
  {
   "cell_type": "code",
   "execution_count": 19,
   "metadata": {},
   "outputs": [],
   "source": [
    "df_result = df_rnmc.copy()\n",
    "coverages = [2,4,6,8,10,12,14,16,18,20]\n",
    "df_result['hitrate_default'] = df_result.apply(lambda row: prediction_metrics.measure_hit_rates(row['prediction'],row['eval_pts'],coverages,'default'), axis=1)\n",
    "df_result['hitrate_TP'] = df_result.apply(lambda row: prediction_metrics.measure_hit_rates(row['prediction'],row['eval_pts'],coverages,'ground_truth_coverage'), axis=1)\n"
   ]
  },
  {
   "cell_type": "code",
   "execution_count": 20,
   "metadata": {},
   "outputs": [],
   "source": [
    "##For hitrate_TP \"true positives\"\n",
    "df_result['coverage_TP'] = df_result.apply(lambda row: list(row['hitrate_TP'].keys())[0], axis=1)\n",
    "df_result['hit_rate_TP'] = df_result.apply(lambda row: list(row['hitrate_TP'].values())[0], axis=1)\n",
    "df_result['PAI_TP'] = df_result['hit_rate_TP'] / (df_result['coverage_TP']/100)"
   ]
  },
  {
   "cell_type": "code",
   "execution_count": 21,
   "metadata": {},
   "outputs": [],
   "source": [
    "##For hitrate_default\n",
    "coverages = [2.0,4.0,6.0,8.0,10.0,12.0,14.0,16.0,18.0,20.0]\n",
    "column_dict = 'hitrate_default'\n",
    "for c in coverages:\n",
    "    new_hit_rate_column = 'hit_rate_default_coverage_'+str(c)\n",
    "    df_result[new_hit_rate_column] = df_result.apply(lambda row: get_hit_rate_from_dict(row,column_dict,c), axis=1)\n",
    "\n",
    "    ##PAI\n",
    "    new_column = 'PAI_default_coverage_'+str(c)\n",
    "    df_result[new_column] = df_result[new_hit_rate_column]/(c/100)\n"
   ]
  },
  {
   "cell_type": "code",
   "execution_count": 22,
   "metadata": {
    "scrolled": false
   },
   "outputs": [
    {
     "name": "stdout",
     "output_type": "stream",
     "text": [
      "coverage_TP                        0.253155\n",
      "hit_rate_TP                        0.123955\n",
      "PAI_TP                            49.068837\n",
      "hit_rate_default_coverage_2.0      0.386769\n",
      "PAI_default_coverage_2.0          19.338431\n",
      "hit_rate_default_coverage_4.0      0.526126\n",
      "PAI_default_coverage_4.0          13.153155\n",
      "hit_rate_default_coverage_6.0      0.602688\n",
      "PAI_default_coverage_6.0          10.044805\n",
      "hit_rate_default_coverage_8.0      0.672571\n",
      "PAI_default_coverage_8.0           8.407143\n",
      "hit_rate_default_coverage_10.0     0.700474\n",
      "PAI_default_coverage_10.0          7.004739\n",
      "hit_rate_default_coverage_12.0     0.749124\n",
      "PAI_default_coverage_12.0          6.242698\n",
      "hit_rate_default_coverage_14.0     0.806345\n",
      "PAI_default_coverage_14.0          5.759609\n",
      "hit_rate_default_coverage_16.0     0.810666\n",
      "PAI_default_coverage_16.0          5.066664\n",
      "hit_rate_default_coverage_18.0     0.811644\n",
      "PAI_default_coverage_18.0          4.509133\n",
      "hit_rate_default_coverage_20.0     0.813795\n",
      "PAI_default_coverage_20.0          4.068974\n",
      "dtype: float64\n"
     ]
    }
   ],
   "source": [
    "#delete datetimes where no crimes were reported (0 crimes on ground truth -> hit-rate = -1)\n",
    "df_result = df_result[df_result['hit_rate_default_coverage_2.0']!= -1]\n",
    "print(df_result.mean())"
   ]
  },
  {
   "cell_type": "markdown",
   "metadata": {},
   "source": [
    "## NUSE"
   ]
  },
  {
   "cell_type": "code",
   "execution_count": 24,
   "metadata": {},
   "outputs": [],
   "source": [
    "csv_path = '/Users/anamaria/Desktop/dev/security_project/datasets/06. verify_enrich_nuse_11022020.csv'\n",
    "nuse_info = {'name':'NUSE','path':csv_path}"
   ]
  },
  {
   "cell_type": "code",
   "execution_count": 25,
   "metadata": {
    "scrolled": false
   },
   "outputs": [
    {
     "name": "stderr",
     "output_type": "stream",
     "text": [
      "/Users/anamaria/Desktop/dev/security_project/security_venv/lib/python3.7/site-packages/ipykernel_launcher.py:2: DtypeWarning: Columns (9,11) have mixed types. Specify dtype option on import or set low_memory=False.\n",
      "  \n"
     ]
    },
    {
     "name": "stdout",
     "output_type": "stream",
     "text": [
      "train_subset_dates {'initial': datetime.datetime(2018, 9, 1, 0, 0), 'final': datetime.datetime(2018, 9, 30, 0, 0)}\n",
      "current_validation_date 2018-10-01 00:00:00\n",
      "RectangularRegion( (984788.0777822273,979158.1233341245) -> (1007175.0762542073,1024615.3793199667) )\n",
      "omega: 0.013819797150031033, theta: 0.04457652030719852\n",
      "32842\n",
      "train_subset_dates {'initial': datetime.datetime(2018, 9, 1, 0, 0), 'final': datetime.datetime(2018, 10, 1, 0, 0)}\n",
      "current_validation_date 2018-10-02 00:00:00\n",
      "RectangularRegion( (984788.0777822273,979158.1233341245) -> (1007175.0762542073,1024615.3793199667) )\n",
      "omega: 0.013651788421639638, theta: 0.044908028037415115\n",
      "33695\n",
      "train_subset_dates {'initial': datetime.datetime(2018, 9, 1, 0, 0), 'final': datetime.datetime(2018, 10, 2, 0, 0)}\n",
      "current_validation_date 2018-10-03 00:00:00\n",
      "RectangularRegion( (984788.0777822273,979158.1233341245) -> (1007175.0762542073,1024615.3793199667) )\n",
      "omega: 0.013551529958826684, theta: 0.04507466626695799\n",
      "34539\n",
      "train_subset_dates {'initial': datetime.datetime(2018, 9, 1, 0, 0), 'final': datetime.datetime(2018, 10, 3, 0, 0)}\n",
      "current_validation_date 2018-10-04 00:00:00\n",
      "RectangularRegion( (984788.0777822273,979158.1233341245) -> (1007175.0762542073,1024615.3793199667) )\n",
      "omega: 0.013508400207684092, theta: 0.04564427526785786\n",
      "35375\n",
      "train_subset_dates {'initial': datetime.datetime(2018, 9, 1, 0, 0), 'final': datetime.datetime(2018, 10, 4, 0, 0)}\n",
      "current_validation_date 2018-10-05 00:00:00\n",
      "RectangularRegion( (984788.0777822273,979158.1233341245) -> (1007175.0762542073,1024615.3793199667) )\n",
      "omega: 0.01344037570186109, theta: 0.046074693866672366\n",
      "36290\n",
      "train_subset_dates {'initial': datetime.datetime(2018, 9, 1, 0, 0), 'final': datetime.datetime(2018, 10, 5, 0, 0)}\n",
      "current_validation_date 2018-10-06 00:00:00\n",
      "RectangularRegion( (984788.0777822273,979158.1233341245) -> (1007175.0762542073,1024615.3793199667) )\n",
      "omega: 0.013460669805737647, theta: 0.04670363041648096\n",
      "37174\n",
      "train_subset_dates {'initial': datetime.datetime(2018, 9, 1, 0, 0), 'final': datetime.datetime(2018, 10, 6, 0, 0)}\n",
      "current_validation_date 2018-10-07 00:00:00\n",
      "RectangularRegion( (984788.0777822273,979158.1233341245) -> (1007175.0762542073,1024615.3793199667) )\n",
      "omega: 0.01354434478858709, theta: 0.047321167551936376\n",
      "38446\n"
     ]
    }
   ],
   "source": [
    "city_experiment = PredictionExperiment(dataset_info=nuse_info, custom_filter=filter_localidad,train_dates=train_dates, validation_dates=validation_dates, model=model,metrics='',aggregation_data='')\n",
    "prediction_array = city_experiment.run_ncv_experiment(time_unit='',grid_size=150, outer_iterations='')"
   ]
  },
  {
   "cell_type": "code",
   "execution_count": 26,
   "metadata": {},
   "outputs": [],
   "source": [
    "df_nuse = pd.DataFrame(prediction_array, columns =['initial-date','final-date','prediction','eval_pts'])"
   ]
  },
  {
   "cell_type": "code",
   "execution_count": 27,
   "metadata": {},
   "outputs": [],
   "source": [
    "df_result = df_nuse.copy()\n",
    "coverages = [2,4,6,8,10,12,14,16,18,20]\n",
    "df_result['hitrate_default'] = df_result.apply(lambda row: prediction_metrics.measure_hit_rates(row['prediction'],row['eval_pts'],coverages,'default'), axis=1)\n",
    "df_result['hitrate_TP'] = df_result.apply(lambda row: prediction_metrics.measure_hit_rates(row['prediction'],row['eval_pts'],coverages,'ground_truth_coverage'), axis=1)\n"
   ]
  },
  {
   "cell_type": "code",
   "execution_count": 28,
   "metadata": {},
   "outputs": [],
   "source": [
    "##For hitrate_TP \"true positives\"\n",
    "df_result['coverage_TP'] = df_result.apply(lambda row: list(row['hitrate_TP'].keys())[0], axis=1)\n",
    "df_result['hit_rate_TP'] = df_result.apply(lambda row: list(row['hitrate_TP'].values())[0], axis=1)\n",
    "df_result['PAI_TP'] = df_result['hit_rate_TP'] / (df_result['coverage_TP']/100)"
   ]
  },
  {
   "cell_type": "code",
   "execution_count": 29,
   "metadata": {},
   "outputs": [],
   "source": [
    "##For hitrate_default\n",
    "coverages = [2.0,4.0,6.0,8.0,10.0,12.0,14.0,16.0,18.0,20.0]\n",
    "column_dict = 'hitrate_default'\n",
    "for c in coverages:\n",
    "    new_hit_rate_column = 'hit_rate_default_coverage_'+str(c)\n",
    "    df_result[new_hit_rate_column] = df_result.apply(lambda row: get_hit_rate_from_dict(row,column_dict,c), axis=1)\n",
    "\n",
    "    ##PAI\n",
    "    new_column = 'PAI_default_coverage_'+str(c)\n",
    "    df_result[new_column] = df_result[new_hit_rate_column]/(c/100)\n"
   ]
  },
  {
   "cell_type": "code",
   "execution_count": 30,
   "metadata": {
    "scrolled": false
   },
   "outputs": [
    {
     "name": "stdout",
     "output_type": "stream",
     "text": [
      "coverage_TP                        0.583568\n",
      "hit_rate_TP                        0.145945\n",
      "PAI_TP                            28.285976\n",
      "hit_rate_default_coverage_2.0      0.285161\n",
      "PAI_default_coverage_2.0          14.258072\n",
      "hit_rate_default_coverage_4.0      0.425709\n",
      "PAI_default_coverage_4.0          10.642723\n",
      "hit_rate_default_coverage_6.0      0.530498\n",
      "PAI_default_coverage_6.0           8.841637\n",
      "hit_rate_default_coverage_8.0      0.621802\n",
      "PAI_default_coverage_8.0           7.772529\n",
      "hit_rate_default_coverage_10.0     0.691470\n",
      "PAI_default_coverage_10.0          6.914704\n",
      "hit_rate_default_coverage_12.0     0.752195\n",
      "PAI_default_coverage_12.0          6.268292\n",
      "hit_rate_default_coverage_14.0     0.807429\n",
      "PAI_default_coverage_14.0          5.767349\n",
      "hit_rate_default_coverage_16.0     0.847097\n",
      "PAI_default_coverage_16.0          5.294356\n",
      "hit_rate_default_coverage_18.0     0.880924\n",
      "PAI_default_coverage_18.0          4.894024\n",
      "hit_rate_default_coverage_20.0     0.908534\n",
      "PAI_default_coverage_20.0          4.542668\n",
      "dtype: float64\n"
     ]
    }
   ],
   "source": [
    "#delete datetimes where no crimes were reported (0 crimes on ground truth -> hit-rate = -1)\n",
    "df_result = df_result[df_result['hit_rate_default_coverage_2.0']!= -1]\n",
    "print(df_result.mean())"
   ]
  },
  {
   "cell_type": "markdown",
   "metadata": {},
   "source": [
    "## Save prediction results"
   ]
  },
  {
   "cell_type": "code",
   "execution_count": 32,
   "metadata": {},
   "outputs": [],
   "source": [
    "path='/Users/anamaria/Desktop/dev/security_project/aggressive_behavior_model/pkl/'"
   ]
  },
  {
   "cell_type": "code",
   "execution_count": 33,
   "metadata": {},
   "outputs": [],
   "source": [
    "ProcessData.save_element(path, 'experiment_seppexp_10_1_siedco_prediction', df_siedco)\n",
    "ProcessData.save_element(path, 'experiment_seppexp_10_1_rnmc_prediction', df_rnmc)\n",
    "ProcessData.save_element(path, 'experiment_seppexp_10_1_nuse_prediction', df_nuse)"
   ]
  },
  {
   "cell_type": "markdown",
   "metadata": {},
   "source": [
    "## Analyze grid prediction to generate average prediction"
   ]
  },
  {
   "cell_type": "code",
   "execution_count": 6,
   "metadata": {},
   "outputs": [],
   "source": [
    "infile = open('/Users/anamaria/Desktop/dev/security_project/aggressive_behavior_model/pkl/experiment_seppexp_10_1_siedco_prediction.pkl','rb')\n",
    "loaded_siedco = pickle.load(infile)\n",
    "infile.close()"
   ]
  },
  {
   "cell_type": "code",
   "execution_count": 7,
   "metadata": {},
   "outputs": [],
   "source": [
    "infile = open('/Users/anamaria/Desktop/dev/security_project/aggressive_behavior_model/pkl/experiment_seppexp_10_1_rnmc_prediction.pkl','rb')\n",
    "loaded_rnmc = pickle.load(infile)\n",
    "infile.close()"
   ]
  },
  {
   "cell_type": "code",
   "execution_count": 8,
   "metadata": {},
   "outputs": [],
   "source": [
    "infile = open('/Users/anamaria/Desktop/dev/security_project/aggressive_behavior_model/pkl/experiment_seppexp_10_1_nuse_prediction.pkl','rb')\n",
    "loaded_nuse = pickle.load(infile)\n",
    "infile.close()"
   ]
  },
  {
   "cell_type": "code",
   "execution_count": 9,
   "metadata": {},
   "outputs": [],
   "source": [
    "def get_polygon_rectangular_region(region):\n",
    "    inProj  = Proj(\"+init=EPSG:3116\",preserve_units=True)\n",
    "    outProj = Proj(\"+init=EPSG:4326\") # WGS84 in degrees and not EPSG:3857 in meters)\n",
    "    # swap x,y as mkennedy says\n",
    "    y1,x1 =  (region.min.y, region.min.x)\n",
    "    point1=transform(inProj,outProj,x1,y1)\n",
    "    x1, y1 = point1\n",
    "\n",
    "    y2,x2 = (region.max.y, region.max.x)\n",
    "    point2 = transform(inProj,outProj,x2,y2)\n",
    "    x2, y2 = point2\n",
    "    \n",
    "    return Polygon([[x1,y1],[x2,y1],[x2,y2],[x1,y2]])"
   ]
  },
  {
   "cell_type": "code",
   "execution_count": 10,
   "metadata": {},
   "outputs": [],
   "source": [
    "def get_rectangular_region(region):\n",
    "    inProj  = Proj(\"+init=EPSG:3116\",preserve_units=True)\n",
    "    outProj = Proj(\"+init=EPSG:3116\") # WGS84 in degrees and not EPSG:3857 in meters)\n",
    "    # swap x,y as mkennedy says\n",
    "    y1,x1 =  (region.min.y, region.min.x)\n",
    "    point1=transform(inProj,outProj,x1,y1)\n",
    "    x1, y1 = point1\n",
    "\n",
    "    y2,x2 = (region.max.y, region.max.x)\n",
    "    point2 = transform(inProj,outProj,x2,y2)\n",
    "    x2, y2 = point2\n",
    "    \n",
    "    return Polygon([[x1,y1],[x2,y1],[x2,y2],[x1,y2]])"
   ]
  },
  {
   "cell_type": "code",
   "execution_count": 11,
   "metadata": {},
   "outputs": [
    {
     "name": "stdout",
     "output_type": "stream",
     "text": [
      "GridPredictionArray(offset=(985137.4254012154,985520.8748214965), size=150.0x150.0, risk intensity size=148x248)\n",
      "GridPredictionArray(offset=(984669.0232233646,985838.3710243799), size=150.0x150.0, risk intensity size=155x224)\n",
      "GridPredictionArray(offset=(984788.0777822273,979158.1233341246), size=150.0x150.0, risk intensity size=150x304)\n"
     ]
    }
   ],
   "source": [
    "print(loaded_siedco['prediction'][0])\n",
    "print(loaded_rnmc['prediction'][0])\n",
    "print(loaded_nuse['prediction'][0])"
   ]
  },
  {
   "cell_type": "code",
   "execution_count": 47,
   "metadata": {},
   "outputs": [
    {
     "data": {
      "text/plain": [
       "150.0"
      ]
     },
     "execution_count": 47,
     "metadata": {},
     "output_type": "execute_result"
    }
   ],
   "source": [
    "print(loaded_siedco['prediction'][0].xsize)\n",
    "print(loaded_siedco['prediction'][0].intensity_matrix.shape)\n",
    "print(loaded_siedco['prediction'][0].xextent)\n",
    "print(loaded_siedco['prediction'][0]._matrix.shape)"
   ]
  },
  {
   "cell_type": "code",
   "execution_count": 55,
   "metadata": {},
   "outputs": [
    {
     "ename": "ValueError",
     "evalue": "Must change x offset by multiple of x size",
     "output_type": "error",
     "traceback": [
      "\u001b[0;31m---------------------------------------------------------------------------\u001b[0m",
      "\u001b[0;31mValueError\u001b[0m                                Traceback (most recent call last)",
      "\u001b[0;32m<ipython-input-55-acced02f8634>\u001b[0m in \u001b[0;36m<module>\u001b[0;34m\u001b[0m\n\u001b[0;32m----> 1\u001b[0;31m \u001b[0mloaded_siedco\u001b[0m\u001b[0;34m[\u001b[0m\u001b[0;34m'prediction'\u001b[0m\u001b[0;34m]\u001b[0m\u001b[0;34m[\u001b[0m\u001b[0;36m0\u001b[0m\u001b[0;34m]\u001b[0m\u001b[0;34m.\u001b[0m\u001b[0mnew_extent\u001b[0m\u001b[0;34m(\u001b[0m\u001b[0;36m984669.023223364\u001b[0m\u001b[0;34m,\u001b[0m\u001b[0;36m979158.1233341246\u001b[0m\u001b[0;34m,\u001b[0m\u001b[0;36m200\u001b[0m\u001b[0;34m,\u001b[0m\u001b[0;36m200\u001b[0m\u001b[0;34m)\u001b[0m\u001b[0;34m\u001b[0m\u001b[0;34m\u001b[0m\u001b[0m\n\u001b[0m",
      "\u001b[0;32m~/Desktop/dev/security_project/security_venv/lib/python3.7/site-packages/open_cp/predictors.py\u001b[0m in \u001b[0;36mnew_extent\u001b[0;34m(self, xoffset, yoffset, xextent, yextent)\u001b[0m\n\u001b[1;32m    118\u001b[0m         \"\"\"\n\u001b[1;32m    119\u001b[0m         \u001b[0;32mif\u001b[0m \u001b[0;34m(\u001b[0m\u001b[0mxoffset\u001b[0m \u001b[0;34m-\u001b[0m \u001b[0mself\u001b[0m\u001b[0;34m.\u001b[0m\u001b[0mxoffset\u001b[0m\u001b[0;34m)\u001b[0m \u001b[0;34m%\u001b[0m \u001b[0mself\u001b[0m\u001b[0;34m.\u001b[0m\u001b[0mxsize\u001b[0m \u001b[0;34m!=\u001b[0m \u001b[0;36m0\u001b[0m\u001b[0;34m:\u001b[0m\u001b[0;34m\u001b[0m\u001b[0;34m\u001b[0m\u001b[0m\n\u001b[0;32m--> 120\u001b[0;31m             \u001b[0;32mraise\u001b[0m \u001b[0mValueError\u001b[0m\u001b[0;34m(\u001b[0m\u001b[0;34m\"Must change x offset by multiple of x size\"\u001b[0m\u001b[0;34m)\u001b[0m\u001b[0;34m\u001b[0m\u001b[0;34m\u001b[0m\u001b[0m\n\u001b[0m\u001b[1;32m    121\u001b[0m         \u001b[0;32mif\u001b[0m \u001b[0;34m(\u001b[0m\u001b[0myoffset\u001b[0m \u001b[0;34m-\u001b[0m \u001b[0mself\u001b[0m\u001b[0;34m.\u001b[0m\u001b[0myoffset\u001b[0m\u001b[0;34m)\u001b[0m \u001b[0;34m%\u001b[0m \u001b[0mself\u001b[0m\u001b[0;34m.\u001b[0m\u001b[0mysize\u001b[0m \u001b[0;34m!=\u001b[0m \u001b[0;36m0\u001b[0m\u001b[0;34m:\u001b[0m\u001b[0;34m\u001b[0m\u001b[0;34m\u001b[0m\u001b[0m\n\u001b[1;32m    122\u001b[0m             \u001b[0;32mraise\u001b[0m \u001b[0mValueError\u001b[0m\u001b[0;34m(\u001b[0m\u001b[0;34m\"Must change y offset by multiple of y size\"\u001b[0m\u001b[0;34m)\u001b[0m\u001b[0;34m\u001b[0m\u001b[0;34m\u001b[0m\u001b[0m\n",
      "\u001b[0;31mValueError\u001b[0m: Must change x offset by multiple of x size"
     ]
    }
   ],
   "source": [
    "loaded_siedco['prediction'][0].new_extent(984669.023223364,979158.1233341246,200,200)"
   ]
  },
  {
   "cell_type": "code",
   "execution_count": 45,
   "metadata": {},
   "outputs": [
    {
     "data": {
      "text/plain": [
       "<matplotlib.collections.PolyCollection at 0x127e6ba90>"
      ]
     },
     "execution_count": 45,
     "metadata": {},
     "output_type": "execute_result"
    },
    {
     "data": {
      "image/png": "[encoded data removed]",
      "text/plain": [
       "<Figure size 720x720 with 4 Axes>"
      ]
     },
     "metadata": {
      "needs_background": "light"
     },
     "output_type": "display_data"
    }
   ],
   "source": [
    "fig, ax = plt.subplots(2,2,figsize=(10,10))\n",
    "ax[0,0].pcolor(*loaded_siedco['prediction'][0].mesh_data(), loaded_siedco['prediction'][0].intensity_matrix)\n",
    "ax[0,1].pcolor(*loaded_rnmc['prediction'][0].mesh_data(), loaded_rnmc['prediction'][0].intensity_matrix)\n",
    "ax[1,0].pcolor(*loaded_nuse['prediction'][0].mesh_data(), loaded_nuse['prediction'][0].intensity_matrix)"
   ]
  },
  {
   "cell_type": "markdown",
   "metadata": {},
   "source": [
    "## Conclusion about the estimation of average prediction:\n",
    "- Risk matrix for different DB prediction differ on size and location (bounding coords); depends on location of training points for each case.\n",
    "- Compute average risk matrix prediction from different DB, will require a standardization of matrix. If this standardization is made based on matrix DB results (consider a the maximum size of combined matrix and transform each matrix according to this new one), an standardization should be required on each validation iteration and hour prediction.\n",
    "- The most suitable way to find average map risk prediction seems to be related to generate a common region to build the prediction (e.g. city or localidad). In this case, the region (represented on matrix risk) wont be dependent of the distribution of training points for different DB. Besides, it seems a most reliable approach for the interpretation of coverages related to hit rates."
   ]
  },
  {
   "cell_type": "code",
   "execution_count": null,
   "metadata": {},
   "outputs": [],
   "source": []
  }
 ],
 "metadata": {
  "kernelspec": {
   "display_name": "Python 3",
   "language": "python",
   "name": "python3"
  },
  "language_info": {
   "codemirror_mode": {
    "name": "ipython",
    "version": 3
   },
   "file_extension": ".py",
   "mimetype": "text/x-python",
   "name": "python",
   "nbconvert_exporter": "python",
   "pygments_lexer": "ipython3",
   "version": "3.7.2"
  }
 },
 "nbformat": 4,
 "nbformat_minor": 2
}
