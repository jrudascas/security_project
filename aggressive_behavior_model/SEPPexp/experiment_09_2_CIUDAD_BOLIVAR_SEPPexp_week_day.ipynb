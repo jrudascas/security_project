{
 "cells": [
  {
   "cell_type": "markdown",
   "metadata": {},
   "source": [
    "## Method\n",
    "- Make prediction for localidad level (Ciudad Bolívar) using experimental design 2, Naive Counting and SEPPexp based on week-days model.\n",
    "- Compare model performance using hit rate traditional implementation, true positives proportion and PAI."
   ]
  },
  {
   "cell_type": "markdown",
   "metadata": {},
   "source": [
    "## Hypothesis:\n",
    "SEPP exp prediction based on week-days performance is better than the obtained with counting model."
   ]
  },
  {
   "cell_type": "code",
   "execution_count": 1,
   "metadata": {},
   "outputs": [
    {
     "name": "stderr",
     "output_type": "stream",
     "text": [
      "Failed to import `rtree`.\n",
      "Failed to import `rtree`.\n"
     ]
    }
   ],
   "source": [
    "import pandas as pd\n",
    "import matplotlib.pyplot as plt\n",
    "import sys\n",
    "sys.path.append(\"..\")\n",
    "from services.prediction_experiment import PredictionExperiment"
   ]
  },
  {
   "cell_type": "code",
   "execution_count": 2,
   "metadata": {},
   "outputs": [],
   "source": [
    "from services import prediction_metrics"
   ]
  },
  {
   "cell_type": "code",
   "execution_count": 3,
   "metadata": {},
   "outputs": [],
   "source": [
    "def get_hit_rate_from_dict(row,column,coverage):\n",
    "    return row[column][coverage]"
   ]
  },
  {
   "cell_type": "markdown",
   "metadata": {},
   "source": [
    "## SIEDCO"
   ]
  },
  {
   "cell_type": "code",
   "execution_count": 4,
   "metadata": {},
   "outputs": [],
   "source": [
    "csv_path = '/Users/anamaria/Desktop/dev/security_project/datasets/deduplicate_siedco_09062020.csv'\n",
    "siedco_info = {'name':'SIEDCO','path':csv_path}"
   ]
  },
  {
   "cell_type": "markdown",
   "metadata": {},
   "source": [
    "## Counting"
   ]
  },
  {
   "cell_type": "code",
   "execution_count": 5,
   "metadata": {},
   "outputs": [],
   "source": [
    "train_dates = {'initial':'2018-03-01','final':'2018-09-30'}\n",
    "validation_dates = {'initial':'2018-10-01','final':'2018-10-07'}\n",
    "metrics = ''\n",
    "aggregation = ''"
   ]
  },
  {
   "cell_type": "code",
   "execution_count": 6,
   "metadata": {
    "scrolled": false
   },
   "outputs": [
    {
     "name": "stderr",
     "output_type": "stream",
     "text": [
      "/Users/anamaria/Desktop/dev/security_project/security_venv/lib/python3.7/site-packages/ipykernel_launcher.py:4: DtypeWarning: Columns (32,44) have mixed types. Specify dtype option on import or set low_memory=False.\n",
      "  after removing the cwd from sys.path.\n"
     ]
    },
    {
     "name": "stdout",
     "output_type": "stream",
     "text": [
      "train_subset_dates {'initial': datetime.datetime(2018, 3, 1, 0, 0), 'final': datetime.datetime(2018, 9, 30, 0, 0)}\n",
      "current_validation_date 2018-10-01 00:00:00\n",
      "1203\n",
      "train_subset_dates {'initial': datetime.datetime(2018, 3, 1, 0, 0), 'final': datetime.datetime(2018, 10, 1, 0, 0)}\n",
      "current_validation_date 2018-10-02 00:00:00\n",
      "1206\n",
      "train_subset_dates {'initial': datetime.datetime(2018, 3, 1, 0, 0), 'final': datetime.datetime(2018, 10, 2, 0, 0)}\n",
      "current_validation_date 2018-10-03 00:00:00\n",
      "1210\n",
      "train_subset_dates {'initial': datetime.datetime(2018, 3, 1, 0, 0), 'final': datetime.datetime(2018, 10, 3, 0, 0)}\n",
      "current_validation_date 2018-10-04 00:00:00\n",
      "1213\n",
      "train_subset_dates {'initial': datetime.datetime(2018, 3, 1, 0, 0), 'final': datetime.datetime(2018, 10, 4, 0, 0)}\n",
      "current_validation_date 2018-10-05 00:00:00\n",
      "1218\n",
      "train_subset_dates {'initial': datetime.datetime(2018, 3, 1, 0, 0), 'final': datetime.datetime(2018, 10, 5, 0, 0)}\n",
      "current_validation_date 2018-10-06 00:00:00\n",
      "1226\n",
      "train_subset_dates {'initial': datetime.datetime(2018, 3, 1, 0, 0), 'final': datetime.datetime(2018, 10, 6, 0, 0)}\n",
      "current_validation_date 2018-10-07 00:00:00\n",
      "1229\n"
     ]
    }
   ],
   "source": [
    "filter_localidad = {'field':'LOCALIDAD','value':'CIUDAD BOLIVAR'}\n",
    "model = \"NaiveCounting\"\n",
    "localidad_experiment = PredictionExperiment(dataset_info=siedco_info, custom_filter=filter_localidad,train_dates=train_dates, validation_dates=validation_dates, model=model,metrics='',aggregation_data='')\n",
    "prediction_array = localidad_experiment.run_ncv_experiment(time_unit='',grid_size=150, outer_iterations='')"
   ]
  },
  {
   "cell_type": "code",
   "execution_count": 7,
   "metadata": {},
   "outputs": [],
   "source": [
    "df_counting = pd.DataFrame(prediction_array, columns =['initial-date','final-date','prediction','eval_pts'])\n",
    "df_result = df_counting.copy()"
   ]
  },
  {
   "cell_type": "code",
   "execution_count": 8,
   "metadata": {},
   "outputs": [],
   "source": [
    "coverages = [2,4,6,8,10,12,14,16,18,20]\n",
    "df_result['hitrate_default'] = df_result.apply(lambda row: prediction_metrics.measure_hit_rates(row['prediction'],row['eval_pts'],coverages,'default'), axis=1)\n",
    "df_result['hitrate_TP'] = df_result.apply(lambda row: prediction_metrics.measure_hit_rates(row['prediction'],row['eval_pts'],coverages,'ground_truth_coverage'), axis=1)\n"
   ]
  },
  {
   "cell_type": "code",
   "execution_count": 9,
   "metadata": {},
   "outputs": [],
   "source": [
    "##For hitrate_TP \"true positives\"\n",
    "df_result['coverage_TP'] = df_result.apply(lambda row: list(row['hitrate_TP'].keys())[0], axis=1)\n",
    "df_result['hit_rate_TP'] = df_result.apply(lambda row: list(row['hitrate_TP'].values())[0], axis=1)\n",
    "df_result['PAI_TP'] = df_result['hit_rate_TP'] / (df_result['coverage_TP']/100)"
   ]
  },
  {
   "cell_type": "code",
   "execution_count": 10,
   "metadata": {},
   "outputs": [],
   "source": [
    "##For hitrate_default\n",
    "coverages = [2.0,4.0,6.0,8.0,10.0,12.0,14.0,16.0,18.0,20.0]\n",
    "column_dict = 'hitrate_default'\n",
    "for c in coverages:\n",
    "    new_hit_rate_column = 'hit_rate_default_coverage_'+str(c)\n",
    "    df_result[new_hit_rate_column] = df_result.apply(lambda row: get_hit_rate_from_dict(row,column_dict,c), axis=1)\n",
    "\n",
    "    ##PAI\n",
    "    new_column = 'PAI_default_coverage_'+str(c)\n",
    "    df_result[new_column] = df_result[new_hit_rate_column]/(c/100)\n"
   ]
  },
  {
   "cell_type": "code",
   "execution_count": 11,
   "metadata": {
    "scrolled": false
   },
   "outputs": [
    {
     "name": "stdout",
     "output_type": "stream",
     "text": [
      "coverage_TP                       0.072962\n",
      "hit_rate_TP                       0.000000\n",
      "PAI_TP                            0.000000\n",
      "hit_rate_default_coverage_2.0     0.083333\n",
      "PAI_default_coverage_2.0          4.166667\n",
      "hit_rate_default_coverage_4.0     0.199074\n",
      "PAI_default_coverage_4.0          4.976852\n",
      "hit_rate_default_coverage_6.0     0.273148\n",
      "PAI_default_coverage_6.0          4.552469\n",
      "hit_rate_default_coverage_8.0     0.300926\n",
      "PAI_default_coverage_8.0          3.761574\n",
      "hit_rate_default_coverage_10.0    0.398148\n",
      "PAI_default_coverage_10.0         3.981481\n",
      "hit_rate_default_coverage_12.0    0.500000\n",
      "PAI_default_coverage_12.0         4.166667\n",
      "hit_rate_default_coverage_14.0    0.518519\n",
      "PAI_default_coverage_14.0         3.703704\n",
      "hit_rate_default_coverage_16.0    0.574074\n",
      "PAI_default_coverage_16.0         3.587963\n",
      "hit_rate_default_coverage_18.0    0.587963\n",
      "PAI_default_coverage_18.0         3.266461\n",
      "hit_rate_default_coverage_20.0    0.703704\n",
      "PAI_default_coverage_20.0         3.518519\n",
      "dtype: float64\n"
     ]
    }
   ],
   "source": [
    "#delete datetimes where no crimes were reported (0 crimes on ground truth -> hit-rate = -1)\n",
    "df_result = df_result[df_result['hit_rate_default_coverage_2.0']!= -1]\n",
    "print(df_result.mean())"
   ]
  },
  {
   "cell_type": "markdown",
   "metadata": {},
   "source": [
    "## Counting (reduce base dates)\n",
    "This approach is proposed to keep a similar number of training points (considering this model 'NaiveCounting' and background kernel on sepp the prediction is related to the historical spatial distribution/concentration of events) "
   ]
  },
  {
   "cell_type": "code",
   "execution_count": 5,
   "metadata": {},
   "outputs": [],
   "source": [
    "train_dates = {'initial':'2018-07-01','final':'2018-09-30'}\n",
    "validation_dates = {'initial':'2018-10-01','final':'2018-10-07'}\n",
    "metrics = ''\n",
    "aggregation = ''"
   ]
  },
  {
   "cell_type": "code",
   "execution_count": 6,
   "metadata": {
    "scrolled": false
   },
   "outputs": [
    {
     "name": "stderr",
     "output_type": "stream",
     "text": [
      "/Users/anamaria/Desktop/dev/security_project/security_venv/lib/python3.7/site-packages/ipykernel_launcher.py:4: DtypeWarning: Columns (32,44) have mixed types. Specify dtype option on import or set low_memory=False.\n",
      "  after removing the cwd from sys.path.\n"
     ]
    },
    {
     "name": "stdout",
     "output_type": "stream",
     "text": [
      "train_subset_dates {'initial': datetime.datetime(2018, 7, 1, 0, 0), 'final': datetime.datetime(2018, 9, 30, 0, 0)}\n",
      "current_validation_date 2018-10-01 00:00:00\n",
      "536\n",
      "train_subset_dates {'initial': datetime.datetime(2018, 7, 1, 0, 0), 'final': datetime.datetime(2018, 10, 1, 0, 0)}\n",
      "current_validation_date 2018-10-02 00:00:00\n",
      "539\n",
      "train_subset_dates {'initial': datetime.datetime(2018, 7, 1, 0, 0), 'final': datetime.datetime(2018, 10, 2, 0, 0)}\n",
      "current_validation_date 2018-10-03 00:00:00\n",
      "543\n",
      "train_subset_dates {'initial': datetime.datetime(2018, 7, 1, 0, 0), 'final': datetime.datetime(2018, 10, 3, 0, 0)}\n",
      "current_validation_date 2018-10-04 00:00:00\n",
      "546\n",
      "train_subset_dates {'initial': datetime.datetime(2018, 7, 1, 0, 0), 'final': datetime.datetime(2018, 10, 4, 0, 0)}\n",
      "current_validation_date 2018-10-05 00:00:00\n",
      "551\n",
      "train_subset_dates {'initial': datetime.datetime(2018, 7, 1, 0, 0), 'final': datetime.datetime(2018, 10, 5, 0, 0)}\n",
      "current_validation_date 2018-10-06 00:00:00\n",
      "559\n",
      "train_subset_dates {'initial': datetime.datetime(2018, 7, 1, 0, 0), 'final': datetime.datetime(2018, 10, 6, 0, 0)}\n",
      "current_validation_date 2018-10-07 00:00:00\n",
      "562\n"
     ]
    }
   ],
   "source": [
    "filter_localidad = {'field':'LOCALIDAD','value':'CIUDAD BOLIVAR'}\n",
    "model = \"NaiveCounting\"\n",
    "localidad_experiment = PredictionExperiment(dataset_info=siedco_info, custom_filter=filter_localidad,train_dates=train_dates, validation_dates=validation_dates, model=model,metrics='',aggregation_data='')\n",
    "prediction_array = localidad_experiment.run_ncv_experiment(time_unit='',grid_size=150, outer_iterations='')"
   ]
  },
  {
   "cell_type": "code",
   "execution_count": 7,
   "metadata": {},
   "outputs": [],
   "source": [
    "df_counting_2 = pd.DataFrame(prediction_array, columns =['initial-date','final-date','prediction','eval_pts'])\n",
    "df_result = df_counting_2.copy()"
   ]
  },
  {
   "cell_type": "code",
   "execution_count": 8,
   "metadata": {},
   "outputs": [],
   "source": [
    "coverages = [2,4,6,8,10,12,14,16,18,20]\n",
    "df_result['hitrate_default'] = df_result.apply(lambda row: prediction_metrics.measure_hit_rates(row['prediction'],row['eval_pts'],coverages,'default'), axis=1)\n",
    "df_result['hitrate_TP'] = df_result.apply(lambda row: prediction_metrics.measure_hit_rates(row['prediction'],row['eval_pts'],coverages,'ground_truth_coverage'), axis=1)\n"
   ]
  },
  {
   "cell_type": "code",
   "execution_count": 9,
   "metadata": {},
   "outputs": [],
   "source": [
    "##For hitrate_TP \"true positives\"\n",
    "df_result['coverage_TP'] = df_result.apply(lambda row: list(row['hitrate_TP'].keys())[0], axis=1)\n",
    "df_result['hit_rate_TP'] = df_result.apply(lambda row: list(row['hitrate_TP'].values())[0], axis=1)\n",
    "df_result['PAI_TP'] = df_result['hit_rate_TP'] / (df_result['coverage_TP']/100)"
   ]
  },
  {
   "cell_type": "code",
   "execution_count": 10,
   "metadata": {},
   "outputs": [],
   "source": [
    "##For hitrate_default\n",
    "coverages = [2.0,4.0,6.0,8.0,10.0,12.0,14.0,16.0,18.0,20.0]\n",
    "column_dict = 'hitrate_default'\n",
    "for c in coverages:\n",
    "    new_hit_rate_column = 'hit_rate_default_coverage_'+str(c)\n",
    "    df_result[new_hit_rate_column] = df_result.apply(lambda row: get_hit_rate_from_dict(row,column_dict,c), axis=1)\n",
    "\n",
    "    ##PAI\n",
    "    new_column = 'PAI_default_coverage_'+str(c)\n",
    "    df_result[new_column] = df_result[new_hit_rate_column]/(c/100)\n"
   ]
  },
  {
   "cell_type": "code",
   "execution_count": 11,
   "metadata": {
    "scrolled": false
   },
   "outputs": [
    {
     "name": "stdout",
     "output_type": "stream",
     "text": [
      "coverage_TP                        0.079952\n",
      "hit_rate_TP                        0.027778\n",
      "PAI_TP                            33.777778\n",
      "hit_rate_default_coverage_2.0      0.046296\n",
      "PAI_default_coverage_2.0           2.314815\n",
      "hit_rate_default_coverage_4.0      0.185185\n",
      "PAI_default_coverage_4.0           4.629630\n",
      "hit_rate_default_coverage_6.0      0.185185\n",
      "PAI_default_coverage_6.0           3.086420\n",
      "hit_rate_default_coverage_8.0      0.226852\n",
      "PAI_default_coverage_8.0           2.835648\n",
      "hit_rate_default_coverage_10.0     0.282407\n",
      "PAI_default_coverage_10.0          2.824074\n",
      "hit_rate_default_coverage_12.0     0.356481\n",
      "PAI_default_coverage_12.0          2.970679\n",
      "hit_rate_default_coverage_14.0     0.555556\n",
      "PAI_default_coverage_14.0          3.968254\n",
      "hit_rate_default_coverage_16.0     0.574074\n",
      "PAI_default_coverage_16.0          3.587963\n",
      "hit_rate_default_coverage_18.0     0.574074\n",
      "PAI_default_coverage_18.0          3.189300\n",
      "hit_rate_default_coverage_20.0     0.574074\n",
      "PAI_default_coverage_20.0          2.870370\n",
      "dtype: float64\n"
     ]
    }
   ],
   "source": [
    "#delete datetimes where no crimes were reported (0 crimes on ground truth -> hit-rate = -1)\n",
    "df_result = df_result[df_result['hit_rate_default_coverage_2.0']!= -1]\n",
    "print(df_result.mean())"
   ]
  },
  {
   "cell_type": "markdown",
   "metadata": {},
   "source": [
    "## SEPPexp week-day"
   ]
  },
  {
   "cell_type": "code",
   "execution_count": 12,
   "metadata": {},
   "outputs": [],
   "source": [
    "train_dates = {'initial':'2017-03-01','final':'2018-09-30'}\n",
    "validation_dates = {'initial':'2018-10-01','final':'2018-10-07'}\n",
    "metrics = ''\n",
    "aggregation = ''"
   ]
  },
  {
   "cell_type": "code",
   "execution_count": 13,
   "metadata": {
    "scrolled": false
   },
   "outputs": [
    {
     "name": "stderr",
     "output_type": "stream",
     "text": [
      "/Users/anamaria/Desktop/dev/security_project/security_venv/lib/python3.7/site-packages/ipykernel_launcher.py:4: DtypeWarning: Columns (32,44) have mixed types. Specify dtype option on import or set low_memory=False.\n",
      "  after removing the cwd from sys.path.\n"
     ]
    },
    {
     "name": "stdout",
     "output_type": "stream",
     "text": [
      "train_subset_dates {'initial': datetime.datetime(2017, 3, 1, 0, 0), 'final': datetime.datetime(2018, 9, 30, 0, 0)}\n",
      "current_validation_date 2018-10-01 00:00:00\n"
     ]
    },
    {
     "name": "stderr",
     "output_type": "stream",
     "text": [
      "../services/aggressive_model.py:54: SettingWithCopyWarning: \n",
      "A value is trying to be set on a copy of a slice from a DataFrame.\n",
      "Try using .loc[row_indexer,col_indexer] = value instead\n",
      "\n",
      "See the caveats in the documentation: http://pandas.pydata.org/pandas-docs/stable/user_guide/indexing.html#returning-a-view-versus-a-copy\n",
      "  df_train_subset['weekday'] = df_train_subset['TIME_STAMP'].dt.day_name()\n"
     ]
    },
    {
     "name": "stdout",
     "output_type": "stream",
     "text": [
      "omega: 0.00487815773676205, theta: 0.013119736268712311\n",
      "450\n",
      "train_subset_dates {'initial': datetime.datetime(2017, 3, 1, 0, 0), 'final': datetime.datetime(2018, 10, 1, 0, 0)}\n",
      "current_validation_date 2018-10-02 00:00:00\n",
      "omega: 0.06772236696416421, theta: 0.007921283332816692\n",
      "372\n",
      "train_subset_dates {'initial': datetime.datetime(2017, 3, 1, 0, 0), 'final': datetime.datetime(2018, 10, 2, 0, 0)}\n",
      "current_validation_date 2018-10-03 00:00:00\n",
      "omega: 0.002955964248139879, theta: 0.016077897448847037\n",
      "365\n",
      "train_subset_dates {'initial': datetime.datetime(2017, 3, 1, 0, 0), 'final': datetime.datetime(2018, 10, 3, 0, 0)}\n",
      "current_validation_date 2018-10-04 00:00:00\n",
      "omega: 0.020956520403629234, theta: 0.016088235152791272\n",
      "367\n",
      "train_subset_dates {'initial': datetime.datetime(2017, 3, 1, 0, 0), 'final': datetime.datetime(2018, 10, 4, 0, 0)}\n",
      "current_validation_date 2018-10-05 00:00:00\n",
      "omega: 0.021468392925948803, theta: 0.010012979952576771\n",
      "353\n",
      "train_subset_dates {'initial': datetime.datetime(2017, 3, 1, 0, 0), 'final': datetime.datetime(2018, 10, 5, 0, 0)}\n",
      "current_validation_date 2018-10-06 00:00:00\n",
      "omega: 0.13191441752036448, theta: 0.009623214033668028\n",
      "510\n",
      "train_subset_dates {'initial': datetime.datetime(2017, 3, 1, 0, 0), 'final': datetime.datetime(2018, 10, 6, 0, 0)}\n",
      "current_validation_date 2018-10-07 00:00:00\n",
      "omega: 0.004731162970374858, theta: 0.01690716970375204\n",
      "813\n"
     ]
    }
   ],
   "source": [
    "filter_localidad = {'field':'LOCALIDAD','value':'CIUDAD BOLIVAR'}\n",
    "model = \"SEPPexpWeekDay\"\n",
    "localidad_experiment = PredictionExperiment(dataset_info=siedco_info, custom_filter=filter_localidad,train_dates=train_dates, validation_dates=validation_dates, model=model,metrics='',aggregation_data='')\n",
    "prediction_array = localidad_experiment.run_ncv_experiment(time_unit='',grid_size=150, outer_iterations='')"
   ]
  },
  {
   "cell_type": "code",
   "execution_count": 14,
   "metadata": {},
   "outputs": [],
   "source": [
    "df_seppexp = pd.DataFrame(prediction_array, columns =['initial-date','final-date','prediction','eval_pts'])\n",
    "df_result = df_seppexp.copy()"
   ]
  },
  {
   "cell_type": "code",
   "execution_count": 15,
   "metadata": {},
   "outputs": [],
   "source": [
    "coverages = [2,4,6,8,10,12,14,16,18,20]\n",
    "df_result['hitrate_default'] = df_result.apply(lambda row: prediction_metrics.measure_hit_rates(row['prediction'],row['eval_pts'],coverages,'default'), axis=1)\n",
    "df_result['hitrate_TP'] = df_result.apply(lambda row: prediction_metrics.measure_hit_rates(row['prediction'],row['eval_pts'],coverages,'ground_truth_coverage'), axis=1)\n"
   ]
  },
  {
   "cell_type": "code",
   "execution_count": 16,
   "metadata": {},
   "outputs": [],
   "source": [
    "##For hitrate_TP \"true positives\"\n",
    "df_result['coverage_TP'] = df_result.apply(lambda row: list(row['hitrate_TP'].keys())[0], axis=1)\n",
    "df_result['hit_rate_TP'] = df_result.apply(lambda row: list(row['hitrate_TP'].values())[0], axis=1)\n",
    "df_result['PAI_TP'] = df_result['hit_rate_TP'] / (df_result['coverage_TP']/100)"
   ]
  },
  {
   "cell_type": "code",
   "execution_count": 17,
   "metadata": {},
   "outputs": [],
   "source": [
    "##For hitrate_default\n",
    "coverages = [2.0,4.0,6.0,8.0,10.0,12.0,14.0,16.0,18.0,20.0]\n",
    "column_dict = 'hitrate_default'\n",
    "for c in coverages:\n",
    "    new_hit_rate_column = 'hit_rate_default_coverage_'+str(c)\n",
    "    df_result[new_hit_rate_column] = df_result.apply(lambda row: get_hit_rate_from_dict(row,column_dict,c), axis=1)\n",
    "\n",
    "    ##PAI\n",
    "    new_column = 'PAI_default_coverage_'+str(c)\n",
    "    df_result[new_column] = df_result[new_hit_rate_column]/(c/100)\n"
   ]
  },
  {
   "cell_type": "code",
   "execution_count": 18,
   "metadata": {
    "scrolled": false
   },
   "outputs": [
    {
     "name": "stdout",
     "output_type": "stream",
     "text": [
      "coverage_TP                        0.078688\n",
      "hit_rate_TP                        0.027778\n",
      "PAI_TP                            37.333333\n",
      "hit_rate_default_coverage_2.0      0.143519\n",
      "PAI_default_coverage_2.0           7.175926\n",
      "hit_rate_default_coverage_4.0      0.162037\n",
      "PAI_default_coverage_4.0           4.050926\n",
      "hit_rate_default_coverage_6.0      0.245370\n",
      "PAI_default_coverage_6.0           4.089506\n",
      "hit_rate_default_coverage_8.0      0.245370\n",
      "PAI_default_coverage_8.0           3.067130\n",
      "hit_rate_default_coverage_10.0     0.273148\n",
      "PAI_default_coverage_10.0          2.731481\n",
      "hit_rate_default_coverage_12.0     0.273148\n",
      "PAI_default_coverage_12.0          2.276235\n",
      "hit_rate_default_coverage_14.0     0.310185\n",
      "PAI_default_coverage_14.0          2.215608\n",
      "hit_rate_default_coverage_16.0     0.310185\n",
      "PAI_default_coverage_16.0          1.938657\n",
      "hit_rate_default_coverage_18.0     0.328704\n",
      "PAI_default_coverage_18.0          1.826132\n",
      "hit_rate_default_coverage_20.0     0.384259\n",
      "PAI_default_coverage_20.0          1.921296\n",
      "dtype: float64\n"
     ]
    }
   ],
   "source": [
    "#delete datetimes where no crimes were reported (0 crimes on ground truth -> hit-rate = -1)\n",
    "df_result = df_result[df_result['hit_rate_default_coverage_2.0']!= -1]\n",
    "print(df_result.mean())"
   ]
  },
  {
   "cell_type": "code",
   "execution_count": null,
   "metadata": {},
   "outputs": [],
   "source": []
  }
 ],
 "metadata": {
  "kernelspec": {
   "display_name": "Python 3",
   "language": "python",
   "name": "python3"
  },
  "language_info": {
   "codemirror_mode": {
    "name": "ipython",
    "version": 3
   },
   "file_extension": ".py",
   "mimetype": "text/x-python",
   "name": "python",
   "nbconvert_exporter": "python",
   "pygments_lexer": "ipython3",
   "version": "3.7.2"
  }
 },
 "nbformat": 4,
 "nbformat_minor": 2
}
