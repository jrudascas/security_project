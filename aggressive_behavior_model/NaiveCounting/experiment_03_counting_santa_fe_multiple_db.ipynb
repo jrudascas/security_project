{
 "cells": [
  {
   "cell_type": "markdown",
   "metadata": {},
   "source": [
    "## Parameters\n",
    "- model = Naive counting\n",
    "- train= week (2018-07-01 to 2018-07-07)\n",
    "- prediction_horizon = one day\n",
    "- validation = nested-cross; day-forward chaining\n",
    "- db = SIEDCO, NUSE, RNMC"
   ]
  },
  {
   "cell_type": "markdown",
   "metadata": {},
   "source": [
    "## Hypothesis:\n",
    "Higher hit-rates are observed on scenarios with more data available"
   ]
  },
  {
   "cell_type": "code",
   "execution_count": 1,
   "metadata": {},
   "outputs": [
    {
     "name": "stderr",
     "output_type": "stream",
     "text": [
      "Failed to import `rtree`.\n",
      "Failed to import `rtree`.\n"
     ]
    }
   ],
   "source": [
    "import pandas as pd\n",
    "import matplotlib.pyplot as plt\n",
    "import sys\n",
    "sys.path.append(\"..\")\n",
    "from services.prediction_experiment import PredictionExperiment"
   ]
  },
  {
   "cell_type": "code",
   "execution_count": 2,
   "metadata": {},
   "outputs": [],
   "source": [
    "def get_value(row,c):\n",
    "    return row['Hit-rates'][c]"
   ]
  },
  {
   "cell_type": "code",
   "execution_count": 4,
   "metadata": {},
   "outputs": [],
   "source": [
    "filter_localidad = {'field':'LOCALIDAD','value':'SANTA FE'}\n",
    "train_dates = {'initial':'2018-07-01','final':'2018-07-07'}\n",
    "model = \"NaiveCounting\"\n",
    "metrics = ''\n",
    "aggregation = ''"
   ]
  },
  {
   "cell_type": "markdown",
   "metadata": {},
   "source": [
    "## SIEDCO"
   ]
  },
  {
   "cell_type": "code",
   "execution_count": 5,
   "metadata": {},
   "outputs": [],
   "source": [
    "csv_path = '/Users/anamaria/Desktop/dev/security_project/datasets/deduplicate_siedco_10032020.csv'\n",
    "siedco_info = {'name':'SIEDCO','path':csv_path}"
   ]
  },
  {
   "cell_type": "code",
   "execution_count": 6,
   "metadata": {},
   "outputs": [],
   "source": [
    "santa_fe_experiment = PredictionExperiment(dataset_info=siedco_info, custom_filter=filter_localidad,train_dates=train_dates,model=model,metrics='',aggregation_data='')\n",
    "accuracy_array = santa_fe_experiment.run_ncv_experiment(time_unit='',grid_size=150, outer_iterations='')"
   ]
  },
  {
   "cell_type": "code",
   "execution_count": 7,
   "metadata": {},
   "outputs": [],
   "source": [
    "flat_list = [item for sublist in accuracy_array for item in sublist]\n",
    "df_result = pd.DataFrame(flat_list, columns =['Prediction-time', 'Hit-rates'])\n",
    "coverages = [2.0,4.0,6.0,8.0,10.0,12.0,14.0,16.0,18.0,20.0]\n",
    "for c in coverages:\n",
    "    column = 'coverage_'+str(c)\n",
    "    df_result[column] = df_result.apply(lambda row: get_value(row,c), axis=1)"
   ]
  },
  {
   "cell_type": "code",
   "execution_count": 8,
   "metadata": {},
   "outputs": [],
   "source": [
    "df_siedco = df_result.copy()"
   ]
  },
  {
   "cell_type": "code",
   "execution_count": 27,
   "metadata": {},
   "outputs": [
    {
     "data": {
      "text/plain": [
       "coverage_2.0     0.000000\n",
       "coverage_4.0     0.000000\n",
       "coverage_6.0     0.000000\n",
       "coverage_8.0     0.000000\n",
       "coverage_10.0    0.000000\n",
       "coverage_12.0    0.000000\n",
       "coverage_14.0    0.000000\n",
       "coverage_16.0    0.000000\n",
       "coverage_18.0    0.027778\n",
       "coverage_20.0    0.027778\n",
       "dtype: float64"
      ]
     },
     "execution_count": 27,
     "metadata": {},
     "output_type": "execute_result"
    }
   ],
   "source": [
    "#delete datetimes where no crimes were reported (0 crimes on ground truth -> hit-rate = -1)\n",
    "df_siedco = df_siedco[df_siedco['coverage_2.0']!= -1]\n",
    "df_siedco.mean()"
   ]
  },
  {
   "cell_type": "code",
   "execution_count": 10,
   "metadata": {},
   "outputs": [],
   "source": [
    "df_siedco['date'] = pd.to_datetime(df_siedco['Prediction-time']).dt.date\n",
    "df_by_date = df_siedco.groupby(['date']).mean().reset_index()"
   ]
  },
  {
   "cell_type": "code",
   "execution_count": 11,
   "metadata": {},
   "outputs": [
    {
     "data": {
      "image/png": "[encoded data removed]",
      "text/plain": [
       "<Figure size 432x288 with 1 Axes>"
      ]
     },
     "metadata": {
      "needs_background": "light"
     },
     "output_type": "display_data"
    }
   ],
   "source": [
    "# gca stands for 'get current axis'\n",
    "ax = plt.gca()\n",
    "\n",
    "df_by_date.plot(kind='line',x='date',y='coverage_2.0',ax=ax)\n",
    "df_by_date.plot(kind='line',x='date',y='coverage_4.0', ax=ax)\n",
    "df_by_date.plot(kind='line',x='date',y='coverage_10.0', ax=ax)\n",
    "df_by_date.plot(kind='line',x='date',y='coverage_20.0', ax=ax)\n",
    "ax.set_ylabel('hit rate')\n",
    "\n",
    "plt.show()"
   ]
  },
  {
   "cell_type": "markdown",
   "metadata": {},
   "source": [
    "## NUSE"
   ]
  },
  {
   "cell_type": "code",
   "execution_count": 12,
   "metadata": {},
   "outputs": [],
   "source": [
    "csv_path = '/Users/anamaria/Desktop/dev/security_project/datasets/06. verify_enrich_nuse_11022020.csv'\n",
    "nuse_info = {'name':'NUSE','path':csv_path}"
   ]
  },
  {
   "cell_type": "code",
   "execution_count": 13,
   "metadata": {},
   "outputs": [
    {
     "name": "stderr",
     "output_type": "stream",
     "text": [
      "/Users/anamaria/Desktop/dev/security_project/security_venv/lib/python3.7/site-packages/ipykernel_launcher.py:2: DtypeWarning: Columns (9,11) have mixed types. Specify dtype option on import or set low_memory=False.\n",
      "  \n"
     ]
    }
   ],
   "source": [
    "santa_fe_experiment = PredictionExperiment(dataset_info=nuse_info, custom_filter=filter_localidad,train_dates=train_dates,model=model,metrics='',aggregation_data='')\n",
    "accuracy_array = santa_fe_experiment.run_ncv_experiment(time_unit='',grid_size=150, outer_iterations='')"
   ]
  },
  {
   "cell_type": "code",
   "execution_count": 14,
   "metadata": {},
   "outputs": [],
   "source": [
    "flat_list = [item for sublist in accuracy_array for item in sublist]\n",
    "df_result = pd.DataFrame(flat_list, columns =['Prediction-time', 'Hit-rates'])\n",
    "coverages = [2.0,4.0,6.0,8.0,10.0,12.0,14.0,16.0,18.0,20.0]\n",
    "for c in coverages:\n",
    "    column = 'coverage_'+str(c)\n",
    "    df_result[column] = df_result.apply(lambda row: get_value(row,c), axis=1)"
   ]
  },
  {
   "cell_type": "code",
   "execution_count": 15,
   "metadata": {},
   "outputs": [],
   "source": [
    "df_nuse = df_result.copy()"
   ]
  },
  {
   "cell_type": "code",
   "execution_count": 16,
   "metadata": {},
   "outputs": [
    {
     "data": {
      "text/plain": [
       "coverage_2.0     0.209947\n",
       "coverage_4.0     0.266877\n",
       "coverage_6.0     0.324129\n",
       "coverage_8.0     0.346857\n",
       "coverage_10.0    0.346857\n",
       "coverage_12.0    0.346857\n",
       "coverage_14.0    0.351907\n",
       "coverage_16.0    0.351907\n",
       "coverage_18.0    0.356039\n",
       "coverage_20.0    0.356039\n",
       "dtype: float64"
      ]
     },
     "execution_count": 16,
     "metadata": {},
     "output_type": "execute_result"
    }
   ],
   "source": [
    "#delete datetimes where no crimes were reported (0 crimes on ground truth -> hit-rate = -1)\n",
    "df_nuse = df_nuse[df_nuse['coverage_2.0']!= -1]\n",
    "df_nuse.mean()"
   ]
  },
  {
   "cell_type": "code",
   "execution_count": 17,
   "metadata": {},
   "outputs": [],
   "source": [
    "df_nuse['date'] = pd.to_datetime(df_nuse['Prediction-time']).dt.date\n",
    "df_by_date = df_nuse.groupby(['date']).mean().reset_index()"
   ]
  },
  {
   "cell_type": "code",
   "execution_count": 18,
   "metadata": {},
   "outputs": [
    {
     "data": {
      "image/png": "[encoded data removed]",
      "text/plain": [
       "<Figure size 432x288 with 1 Axes>"
      ]
     },
     "metadata": {
      "needs_background": "light"
     },
     "output_type": "display_data"
    }
   ],
   "source": [
    "# gca stands for 'get current axis'\n",
    "ax = plt.gca()\n",
    "\n",
    "df_by_date.plot(kind='line',x='date',y='coverage_2.0',ax=ax)\n",
    "df_by_date.plot(kind='line',x='date',y='coverage_4.0', ax=ax)\n",
    "df_by_date.plot(kind='line',x='date',y='coverage_10.0', ax=ax)\n",
    "df_by_date.plot(kind='line',x='date',y='coverage_20.0', ax=ax)\n",
    "ax.set_ylabel('hit rate')\n",
    "\n",
    "plt.show()"
   ]
  },
  {
   "cell_type": "markdown",
   "metadata": {},
   "source": [
    "## RNMC"
   ]
  },
  {
   "cell_type": "code",
   "execution_count": 19,
   "metadata": {},
   "outputs": [],
   "source": [
    "csv_path = '/Users/anamaria/Desktop/dev/security_project/datasets/06. verify_enrich_rnmc_12022020.csv'\n",
    "rnmc_info = {'name':'RNMC','path':csv_path}\n",
    "filter_localidad = {'field':'NOMBRE_LOCALIDAD','value':'SANTA FE'}"
   ]
  },
  {
   "cell_type": "code",
   "execution_count": 20,
   "metadata": {},
   "outputs": [
    {
     "name": "stderr",
     "output_type": "stream",
     "text": [
      "/Users/anamaria/Desktop/dev/security_project/security_venv/lib/python3.7/site-packages/ipykernel_launcher.py:2: DtypeWarning: Columns (1) have mixed types. Specify dtype option on import or set low_memory=False.\n",
      "  \n"
     ]
    }
   ],
   "source": [
    "santa_fe_experiment = PredictionExperiment(dataset_info=rnmc_info, custom_filter=filter_localidad,train_dates=train_dates,model=model,metrics='',aggregation_data='')\n",
    "accuracy_array = santa_fe_experiment.run_ncv_experiment(time_unit='',grid_size=150, outer_iterations='')"
   ]
  },
  {
   "cell_type": "code",
   "execution_count": 21,
   "metadata": {},
   "outputs": [],
   "source": [
    "flat_list = [item for sublist in accuracy_array for item in sublist]\n",
    "df_result = pd.DataFrame(flat_list, columns =['Prediction-time', 'Hit-rates'])\n",
    "coverages = [2.0,4.0,6.0,8.0,10.0,12.0,14.0,16.0,18.0,20.0]\n",
    "for c in coverages:\n",
    "    column = 'coverage_'+str(c)\n",
    "    df_result[column] = df_result.apply(lambda row: get_value(row,c), axis=1)"
   ]
  },
  {
   "cell_type": "code",
   "execution_count": 22,
   "metadata": {},
   "outputs": [],
   "source": [
    "df_rnmc = df_result.copy()"
   ]
  },
  {
   "cell_type": "code",
   "execution_count": 23,
   "metadata": {},
   "outputs": [
    {
     "data": {
      "text/plain": [
       "coverage_2.0     0.263951\n",
       "coverage_4.0     0.320133\n",
       "coverage_6.0     0.352915\n",
       "coverage_8.0     0.361610\n",
       "coverage_10.0    0.361610\n",
       "coverage_12.0    0.361610\n",
       "coverage_14.0    0.361610\n",
       "coverage_16.0    0.361610\n",
       "coverage_18.0    0.361610\n",
       "coverage_20.0    0.380069\n",
       "dtype: float64"
      ]
     },
     "execution_count": 23,
     "metadata": {},
     "output_type": "execute_result"
    }
   ],
   "source": [
    "#delete datetimes where no crimes were reported (0 crimes on ground truth -> hit-rate = -1)\n",
    "df_rnmc = df_rnmc[df_rnmc['coverage_2.0']!= -1]\n",
    "df_rnmc.mean()"
   ]
  },
  {
   "cell_type": "code",
   "execution_count": 24,
   "metadata": {},
   "outputs": [],
   "source": [
    "df_rnmc['date'] = pd.to_datetime(df_rnmc['Prediction-time']).dt.date\n",
    "df_by_date = df_rnmc.groupby(['date']).mean().reset_index()"
   ]
  },
  {
   "cell_type": "code",
   "execution_count": 25,
   "metadata": {},
   "outputs": [
    {
     "data": {
      "image/png": "[encoded data removed]",
      "text/plain": [
       "<Figure size 432x288 with 1 Axes>"
      ]
     },
     "metadata": {
      "needs_background": "light"
     },
     "output_type": "display_data"
    }
   ],
   "source": [
    "# gca stands for 'get current axis'\n",
    "ax = plt.gca()\n",
    "\n",
    "df_by_date.plot(kind='line',x='date',y='coverage_2.0',ax=ax)\n",
    "df_by_date.plot(kind='line',x='date',y='coverage_4.0', ax=ax)\n",
    "df_by_date.plot(kind='line',x='date',y='coverage_10.0', ax=ax)\n",
    "df_by_date.plot(kind='line',x='date',y='coverage_20.0', ax=ax)\n",
    "ax.set_ylabel('hit rate')\n",
    "\n",
    "plt.show()"
   ]
  },
  {
   "cell_type": "markdown",
   "metadata": {},
   "source": [
    "## Coverage vs hit rates"
   ]
  },
  {
   "cell_type": "code",
   "execution_count": 26,
   "metadata": {},
   "outputs": [
    {
     "data": {
      "image/png": "[encoded data removed]",
      "text/plain": [
       "<Figure size 432x288 with 1 Axes>"
      ]
     },
     "metadata": {
      "needs_background": "light"
     },
     "output_type": "display_data"
    }
   ],
   "source": [
    "ax = plt.gca()\n",
    "plt.plot(coverages,df_siedco.mean(),'.',label='SIEDCO')\n",
    "plt.plot(coverages,df_rnmc.mean(),'.',label='RNMC')\n",
    "plt.plot(coverages,df_nuse.mean(),'.',label='NUSE')\n",
    "legend = ax.legend(loc='best')\n",
    "ax.set_ylabel('hit rate')\n",
    "ax.set_xlabel('coverage (%)')\n",
    "plt.ylim(0, 1)\n",
    "plt.show()"
   ]
  },
  {
   "cell_type": "code",
   "execution_count": 28,
   "metadata": {},
   "outputs": [],
   "source": [
    "from services.process_data import ProcessData\n",
    "path ='/Users/anamaria/Desktop/dev/security_project/aggressive_behavior_model/pkl/'\n",
    "file_name = 'coverage_vs_hitrate_santa_fe_counting'\n",
    "ProcessData.save_element(path,file_name,df_siedco)"
   ]
  },
  {
   "cell_type": "code",
   "execution_count": null,
   "metadata": {},
   "outputs": [],
   "source": []
  }
 ],
 "metadata": {
  "kernelspec": {
   "display_name": "Python 3",
   "language": "python",
   "name": "python3"
  },
  "language_info": {
   "codemirror_mode": {
    "name": "ipython",
    "version": 3
   },
   "file_extension": ".py",
   "mimetype": "text/x-python",
   "name": "python",
   "nbconvert_exporter": "python",
   "pygments_lexer": "ipython3",
   "version": "3.7.2"
  }
 },
 "nbformat": 4,
 "nbformat_minor": 2
}
