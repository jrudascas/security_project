{
 "cells": [
  {
   "cell_type": "code",
   "execution_count": 1,
   "metadata": {},
   "outputs": [],
   "source": [
    "import os\n",
    "os.chdir(\"../\")"
   ]
  },
  {
   "cell_type": "code",
   "execution_count": 3,
   "metadata": {},
   "outputs": [],
   "source": [
    "import pandas as pd\n",
    "pd.set_option('display.max_colwidth', -1)\n",
    "import numpy as np\n",
    "import os,shutil\n",
    "from lda_model import *\n",
    "from sklearn.metrics import f1_score,accuracy_score,precision_recall_fscore_support,balanced_accuracy_score\n",
    "import seaborn as sns\n",
    "import matplotlib.pyplot as plt\n",
    "import wordcloud\n",
    "import fasttext\n",
    "from gensim.models import FastText"
   ]
  },
  {
   "cell_type": "code",
   "execution_count": 4,
   "metadata": {},
   "outputs": [
    {
     "name": "stderr",
     "output_type": "stream",
     "text": [
      "/u01/user8/anaconda3/lib/python3.7/site-packages/IPython/core/interactiveshell.py:3058: DtypeWarning: Columns (0) have mixed types. Specify dtype option on import or set low_memory=False.\n",
      "  interactivity=interactivity, compiler=compiler, result=result)\n"
     ]
    }
   ],
   "source": [
    "data=pd.read_csv(\"get_data/data_tweeter/merge/data.csv\")\n",
    "## remove retweet\n",
    "data=data[data.retweeted_id_original.isna()].reset_index(drop=True)[['full_text']]\n",
    "data.drop_duplicates(inplace=True)"
   ]
  },
  {
   "cell_type": "code",
   "execution_count": 5,
   "metadata": {},
   "outputs": [],
   "source": [
    "data_2=pd.read_csv(\"SocialMedia/Tweet.csv\",delimiter=';')[['FullText']]\n",
    "data=pd.concat([data,data_2.drop_duplicates().rename(columns={'FullText':'full_text'})])"
   ]
  },
  {
   "cell_type": "code",
   "execution_count": 7,
   "metadata": {},
   "outputs": [],
   "source": [
    "colum_text='full_text'\n",
    "\n",
    "new_values=[]\n",
    "\n",
    "functions=[remove_RT,remove_url,replace_tags,remove_arroba,remove_emoji,remove_stopwords,stem_tokens]\n",
    "for i in data[colum_text].values:\n",
    "    text=i\n",
    "    for j in functions:\n",
    "        text=j(text)\n",
    "    new_values.append(text)\n",
    "    \n",
    "new_values_join=[]\n",
    "for i in new_values:\n",
    "    new_values_join.append(\" \".join(i))\n",
    "data[\"CleanText\"]=new_values_join\n",
    "colum_text='CleanText'\n",
    "data=data.drop_duplicates(subset='CleanText').reset_index(drop=True)"
   ]
  },
  {
   "cell_type": "code",
   "execution_count": 13,
   "metadata": {},
   "outputs": [],
   "source": [
    "wiki=pd.read_csv(\"new_texts/data/wiki.csv\").CleanText.values\n",
    "tweets=pd.read_csv(\"new_texts/data/tweets_s_clean.csv\").CleanText.values"
   ]
  },
  {
   "cell_type": "code",
   "execution_count": 18,
   "metadata": {},
   "outputs": [],
   "source": [
    "data_clean=list(wiki)+list(tweets)\n",
    "data_clean_split=[]\n",
    "for i in data_clean:\n",
    "    data_clean_split.append(str(i).split())"
   ]
  },
  {
   "cell_type": "code",
   "execution_count": 19,
   "metadata": {},
   "outputs": [],
   "source": [
    "key=pd.read_csv(\"SocialMedia/Keyword.csv\",delimiter=';')\n",
    "key.drop_duplicates(subset='Keyword',inplace=True)\n",
    "keys=[i.strip() for i in key.Keyword.values]"
   ]
  },
  {
   "cell_type": "code",
   "execution_count": 20,
   "metadata": {},
   "outputs": [],
   "source": [
    "tweets_keys=new_values+keys+data_clean_split"
   ]
  },
  {
   "cell_type": "code",
   "execution_count": 21,
   "metadata": {},
   "outputs": [],
   "source": [
    "model = FastText(sentences=tweets_keys,workers=30,sg=1,window=4)"
   ]
  },
  {
   "cell_type": "code",
   "execution_count": 34,
   "metadata": {},
   "outputs": [
    {
     "data": {
      "text/plain": [
       "0.49101922"
      ]
     },
     "execution_count": 34,
     "metadata": {},
     "output_type": "execute_result"
    }
   ],
   "source": [
    "model.wv.similarity(\"ase\",\"asesin\")"
   ]
  },
  {
   "cell_type": "code",
   "execution_count": 25,
   "metadata": {},
   "outputs": [],
   "source": [
    "model.wv.save_word2vec_format(\"new_texts/vecs_all.vec\")"
   ]
  },
  {
   "cell_type": "code",
   "execution_count": 30,
   "metadata": {},
   "outputs": [
    {
     "data": {
      "text/plain": [
       "['coc']"
      ]
     },
     "execution_count": 30,
     "metadata": {},
     "output_type": "execute_result"
    }
   ],
   "source": [
    "stem_tokens(['cocer'])"
   ]
  },
  {
   "cell_type": "code",
   "execution_count": 37,
   "metadata": {},
   "outputs": [
    {
     "data": {
      "text/plain": [
       "array([-0.5584735 , -0.32373518,  0.361309  ,  0.18636899, -0.73159605,\n",
       "       -0.12810504,  0.3230378 , -0.10091716,  0.9149463 , -0.2465225 ,\n",
       "        0.7701335 , -0.23607826, -0.45425093, -0.3746239 , -0.3860867 ,\n",
       "        0.42342764,  0.26097527,  0.40409184, -0.16109075, -0.1186529 ,\n",
       "       -0.7164488 , -0.1379437 ,  0.14471392,  0.21099517,  0.35726538,\n",
       "       -0.38874274, -0.2874196 ,  0.07559203, -0.03931378,  0.03791101,\n",
       "       -0.07235795, -0.30714482,  0.6176615 , -0.40305755,  0.33472028,\n",
       "       -0.10122608,  0.71293384,  0.8279951 , -0.16767956, -0.15484263,\n",
       "        0.5316348 , -0.22677861,  0.18924892, -0.0319918 ,  0.2732685 ,\n",
       "        0.11506715, -0.3370928 ,  0.18817957,  0.42993936, -0.10381255,\n",
       "        0.30770588, -0.17994851, -0.2574843 ,  0.17384064, -0.39895996,\n",
       "        0.10556817, -0.6859476 ,  0.06339439, -0.44116378, -0.56746536,\n",
       "        0.4230959 ,  0.31053302,  0.18093312, -0.15584528, -0.53942597,\n",
       "       -0.22809064,  0.63146794, -0.5443089 ,  0.2381459 , -0.5162398 ,\n",
       "       -0.3581694 ,  0.36377198, -0.52060527, -0.16646907, -0.20366162,\n",
       "       -0.20353706, -0.26097092,  0.33719364, -0.11726961,  0.2111165 ,\n",
       "       -0.15464853,  0.13485444, -0.03750029, -0.43791616,  0.3720473 ,\n",
       "       -0.4827357 ,  0.46630803, -0.2329804 ,  0.21354929,  0.38156986,\n",
       "        0.19960523, -0.13121751,  0.91885555, -0.5448743 , -0.2849521 ,\n",
       "        1.07474   , -0.7223618 , -0.46382347,  0.24327135,  0.03367861],\n",
       "      dtype=float32)"
      ]
     },
     "execution_count": 37,
     "metadata": {},
     "output_type": "execute_result"
    }
   ],
   "source": [
    "model.wv['asesin']"
   ]
  },
  {
   "cell_type": "code",
   "execution_count": 38,
   "metadata": {},
   "outputs": [
    {
     "data": {
      "text/plain": [
       "array([-0.03440997, -0.06934444,  0.07339589, -0.07418016, -0.32802227,\n",
       "       -0.3195829 ,  0.0031759 ,  0.02703019,  0.7897512 , -0.41348848,\n",
       "        0.4842784 , -0.5533217 , -0.19481543,  0.40608904,  0.25080928,\n",
       "        0.3047916 , -0.01815498,  0.55717546, -0.0083085 , -0.33026806,\n",
       "       -0.26426867, -0.22943063,  0.10631218,  0.30450186,  0.5545899 ,\n",
       "       -0.6161799 , -0.0827707 , -0.08125748,  0.19307698, -0.07890429,\n",
       "        0.1543119 , -0.23762782,  0.7684546 ,  0.07355844,  0.49159548,\n",
       "        0.4259417 ,  0.25556332,  0.97009665, -0.1573861 , -0.05471068,\n",
       "        0.7650347 , -0.07135346, -0.04476848, -0.50740135, -0.45979944,\n",
       "        0.41151088, -0.16207457,  0.07459343,  0.18892728, -0.08605947,\n",
       "        0.3874684 , -0.4875934 , -0.22320709,  0.6192409 ,  0.24163917,\n",
       "       -0.36021486, -0.35101333,  0.1658269 , -0.33255428, -1.0346227 ,\n",
       "       -0.24073209,  0.20108356,  0.42006883, -0.4790391 , -0.4193299 ,\n",
       "        0.02648844,  0.4800792 , -0.07792979,  0.22063044, -0.16587241,\n",
       "        0.04175966,  0.4554654 , -0.560399  , -0.5890928 , -0.10161529,\n",
       "        0.19338825, -0.15295188,  0.15655944, -0.23122166,  0.20832336,\n",
       "       -0.09824865, -0.07002162, -0.05891705,  0.31456652,  0.6539351 ,\n",
       "       -0.79061747,  0.3222584 ,  0.00390728,  0.58706385, -0.07522082,\n",
       "        0.3699686 , -0.1907032 ,  0.42116413, -0.5626604 , -0.3117022 ,\n",
       "        0.6523525 , -0.03629929, -0.93269116,  0.06965225,  0.1003981 ],\n",
       "      dtype=float32)"
      ]
     },
     "execution_count": 38,
     "metadata": {},
     "output_type": "execute_result"
    }
   ],
   "source": [
    "model.wv['rob']"
   ]
  },
  {
   "cell_type": "code",
   "execution_count": null,
   "metadata": {},
   "outputs": [],
   "source": []
  }
 ],
 "metadata": {
  "kernelspec": {
   "display_name": "Python 3",
   "language": "python",
   "name": "python3"
  },
  "language_info": {
   "codemirror_mode": {
    "name": "ipython",
    "version": 3
   },
   "file_extension": ".py",
   "mimetype": "text/x-python",
   "name": "python",
   "nbconvert_exporter": "python",
   "pygments_lexer": "ipython3",
   "version": "3.7.4"
  }
 },
 "nbformat": 4,
 "nbformat_minor": 2
}
