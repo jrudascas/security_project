{
 "cells": [
  {
   "cell_type": "code",
   "execution_count": 2,
   "metadata": {},
   "outputs": [],
   "source": [
    "import pandas as pd\n",
    "pd.set_option('display.max_colwidth', -1)\n",
    "from lda_model import *\n",
    "from sklearn.metrics import f1_score,accuracy_score,precision_recall_fscore_support,balanced_accuracy_score"
   ]
  },
  {
   "cell_type": "code",
   "execution_count": 3,
   "metadata": {},
   "outputs": [],
   "source": [
    "key=pd.read_csv(\"SocialMedia/Keyword.csv\",delimiter=';')\n",
    "key.drop_duplicates(subset='Keyword',inplace=True)\n",
    "keys=[i.strip() for i in key.Keyword.values]"
   ]
  },
  {
   "cell_type": "code",
   "execution_count": 4,
   "metadata": {},
   "outputs": [],
   "source": [
    "data=pd.read_csv(\"get_data/new_validation.csv\")"
   ]
  },
  {
   "cell_type": "code",
   "execution_count": 5,
   "metadata": {},
   "outputs": [],
   "source": [
    "colum_text='full_text'\n",
    "colum_label=\"seguridad\"\n",
    "\n",
    "new_values=[]\n",
    "\n",
    "functions=[remove_RT,remove_url,replace_tags,remove_arroba,remove_emoji,remove_stopwords]\n",
    "for i in data[colum_text].values:\n",
    "    text=i\n",
    "    for j in functions:\n",
    "        text=j(text)\n",
    "    new_values.append(text)\n",
    "\n",
    "\n",
    "new_values_join=[]\n",
    "for i in new_values:\n",
    "    new_values_join.append(\" \".join(i))\n",
    "data[\"CleanText\"]=new_values_join\n",
    "\n",
    "data['filtro']=[any([j in i for j in keys]) for i in new_values]"
   ]
  },
  {
   "cell_type": "code",
   "execution_count": 6,
   "metadata": {},
   "outputs": [],
   "source": [
    "data['predict']=np.NaN\n",
    "data.predict.values[data[~data.filtro].index]=0"
   ]
  },
  {
   "cell_type": "code",
   "execution_count": 7,
   "metadata": {},
   "outputs": [],
   "source": [
    "import fasttext\n",
    "\n",
    "def predict(model,data_new,percent=True):\n",
    "    A,B=model.predict(data_new,k=2)\n",
    "    percents=[]\n",
    "    for a,b in zip(A,B):\n",
    "        Z = [x for _,x in sorted(zip(a,b))]\n",
    "        percents.append(Z)\n",
    "    percents=pd.DataFrame(percents)\n",
    "    if percent==True:\n",
    "        return percents\n",
    "    else:\n",
    "        return percents.idxmax(axis=1).values"
   ]
  },
  {
   "cell_type": "code",
   "execution_count": 8,
   "metadata": {},
   "outputs": [
    {
     "name": "stderr",
     "output_type": "stream",
     "text": [
      "\n"
     ]
    }
   ],
   "source": [
    "model=fasttext.load_model(\"get_data/clasificador_seguridad/split_data/model.ftz\")"
   ]
  },
  {
   "cell_type": "code",
   "execution_count": 9,
   "metadata": {},
   "outputs": [],
   "source": [
    "data.predict.values[data.filtro]=predict(model,list(data[data.filtro].CleanText),percent=False)"
   ]
  },
  {
   "cell_type": "code",
   "execution_count": 10,
   "metadata": {},
   "outputs": [
    {
     "data": {
      "text/plain": [
       "0.28571428571428575"
      ]
     },
     "execution_count": 10,
     "metadata": {},
     "output_type": "execute_result"
    }
   ],
   "source": [
    "f1_score(data.seguridad,data.predict)"
   ]
  },
  {
   "cell_type": "code",
   "execution_count": 11,
   "metadata": {},
   "outputs": [
    {
     "data": {
      "text/plain": [
       "0.4"
      ]
     },
     "execution_count": 11,
     "metadata": {},
     "output_type": "execute_result"
    }
   ],
   "source": [
    "f1_score(data.seguridad[data.filtro],data.predict[data.filtro])"
   ]
  },
  {
   "cell_type": "code",
   "execution_count": 16,
   "metadata": {},
   "outputs": [
    {
     "data": {
      "image/png": "[encoded data removed]",
      "text/plain": [
       "<Figure size 432x288 with 1 Axes>"
      ]
     },
     "metadata": {
      "needs_background": "light"
     },
     "output_type": "display_data"
    }
   ],
   "source": [
    "plot_confusion_matrix(confusion_matrix(data.seguridad,data.predict),\n",
    "                      ['No Seguridad','Seguridad'],\n",
    "                      f1_score(data.seguridad,data.predict),\n",
    "                      path_save=\"test/confusion_matrix_filtro_0.png\",\n",
    "                      normalize=False\n",
    "                     )"
   ]
  },
  {
   "cell_type": "code",
   "execution_count": 17,
   "metadata": {},
   "outputs": [
    {
     "data": {
      "image/png": "[encoded data removed]",
      "text/plain": [
       "<Figure size 432x288 with 1 Axes>"
      ]
     },
     "metadata": {
      "needs_background": "light"
     },
     "output_type": "display_data"
    }
   ],
   "source": [
    "plot_confusion_matrix(confusion_matrix(data.seguridad[data.filtro],data.predict[data.filtro]),\n",
    "                      ['No Seguridad','Seguridad'],\n",
    "                      f1_score(data.seguridad[data.filtro],data.predict[data.filtro]),\n",
    "                      path_save=\"test/confusion_matrix_filtro_0.png\",\n",
    "                      normalize=False\n",
    "                     )"
   ]
  },
  {
   "cell_type": "code",
   "execution_count": 18,
   "metadata": {},
   "outputs": [
    {
     "data": {
      "text/html": [
       "<div>\n",
       "<style scoped>\n",
       "    .dataframe tbody tr th:only-of-type {\n",
       "        vertical-align: middle;\n",
       "    }\n",
       "\n",
       "    .dataframe tbody tr th {\n",
       "        vertical-align: top;\n",
       "    }\n",
       "\n",
       "    .dataframe thead th {\n",
       "        text-align: right;\n",
       "    }\n",
       "</style>\n",
       "<table border=\"1\" class=\"dataframe\">\n",
       "  <thead>\n",
       "    <tr style=\"text-align: right;\">\n",
       "      <th></th>\n",
       "      <th>seguridad</th>\n",
       "      <th>full_text</th>\n",
       "      <th>CleanText</th>\n",
       "      <th>filtro</th>\n",
       "      <th>predict</th>\n",
       "    </tr>\n",
       "  </thead>\n",
       "  <tbody>\n",
       "    <tr>\n",
       "      <td>35</td>\n",
       "      <td>1</td>\n",
       "      <td>@WRadioColombia Ahora sale un juez Mamerto que dice que No son un peligro para la sociedad y les da casa x cárcel o los deja libres, por algún motivo y listo...</td>\n",
       "      <td>wradiocolombia sale juez mamerto peligro sociedad casa carcel deja libres motivo listo</td>\n",
       "      <td>False</td>\n",
       "      <td>0.0</td>\n",
       "    </tr>\n",
       "    <tr>\n",
       "      <td>90</td>\n",
       "      <td>1</td>\n",
       "      <td>Que tal esa perla... LOS BANDIDOS CONTENTOS POR LA IMPUNIDAD... \\n\\nClaro, como se tratan de delincuentes apuestos, y estereotipos de buen parecer físico y... https://t.co/BMswVQYbwf</td>\n",
       "      <td>perla bandidos contentos impunidad tratan delincuentes apuestos estereotipos fisico</td>\n",
       "      <td>False</td>\n",
       "      <td>0.0</td>\n",
       "    </tr>\n",
       "    <tr>\n",
       "      <td>116</td>\n",
       "      <td>1</td>\n",
       "      <td>@IvanDuque Están matando líderes sociales, gordo hijo de puta.</td>\n",
       "      <td>ivanduque matando lideres sociales gordo hijo puta</td>\n",
       "      <td>False</td>\n",
       "      <td>0.0</td>\n",
       "    </tr>\n",
       "    <tr>\n",
       "      <td>192</td>\n",
       "      <td>1</td>\n",
       "      <td>@PedroSantosG Ya está. Misterio resuelto. Asesinados a sangre fría porque sí.</td>\n",
       "      <td>pedrosantosg misterio resuelto asesinados sangre fria</td>\n",
       "      <td>False</td>\n",
       "      <td>0.0</td>\n",
       "    </tr>\n",
       "    <tr>\n",
       "      <td>495</td>\n",
       "      <td>1</td>\n",
       "      <td>Dos líderes sociales asesinados en Putumayo y una lideresa en Huila https://t.co/obUecOmV13</td>\n",
       "      <td>lideres sociales asesinados putumayo lideresa huila</td>\n",
       "      <td>False</td>\n",
       "      <td>0.0</td>\n",
       "    </tr>\n",
       "    <tr>\n",
       "      <td>530</td>\n",
       "      <td>1</td>\n",
       "      <td>Otra pegada como chupa a los vidrios rotos del pasado https://t.co/44o2ivM3yM</td>\n",
       "      <td>pegada chupa vidrios rotos</td>\n",
       "      <td>False</td>\n",
       "      <td>0.0</td>\n",
       "    </tr>\n",
       "    <tr>\n",
       "      <td>611</td>\n",
       "      <td>1</td>\n",
       "      <td>Conmoción en Medellín por tres feminicidios en menos de ocho horas https://t.co/JHMulLOnOz</td>\n",
       "      <td>conmocion medellin feminicidios</td>\n",
       "      <td>False</td>\n",
       "      <td>0.0</td>\n",
       "    </tr>\n",
       "    <tr>\n",
       "      <td>681</td>\n",
       "      <td>1</td>\n",
       "      <td>#Opinión \"La actividad asesina que se viene desarrollando no puede verse como algo normal en una sociedad civilizada. La nuestra parece haberse acostumbrado\" - @josegreghg https://t.co/mpNAc9NV41 https://t.co/4WQfRAKlUu</td>\n",
       "      <td>opinion actividad asesina viene desarrollando verse normal sociedad civilizada haberse acostumbrado josegreghg</td>\n",
       "      <td>False</td>\n",
       "      <td>0.0</td>\n",
       "    </tr>\n",
       "    <tr>\n",
       "      <td>703</td>\n",
       "      <td>1</td>\n",
       "      <td>Este delincuente no dice nada diferente a lo que el mundo entero sabe sobre el gran capo de la ilegalidad desde este país; y esa información está en manos de una justicia que él mismo maneja. \\nLa información de esa rata no va a cambiar nada.  QEPD ese miserable. https://t.co/5J6S0db6eW</td>\n",
       "      <td>delincuente mundo entero capo ilegalidad informacion manos justicia maneja informacion rata cambiar qepd miserable</td>\n",
       "      <td>False</td>\n",
       "      <td>0.0</td>\n",
       "    </tr>\n",
       "    <tr>\n",
       "      <td>955</td>\n",
       "      <td>1</td>\n",
       "      <td>#FelizJueves?\\n\\nCon 4 líderes sociales asesinados en las últimas 48 horas y el paramilitarismo campeando por todo el país?\\n\\nNo creo que sea #FelizJuevesATodos</td>\n",
       "      <td>feliz jueves lideres sociales asesinados paramilitarismo campeando feliz jueves</td>\n",
       "      <td>False</td>\n",
       "      <td>0.0</td>\n",
       "    </tr>\n",
       "  </tbody>\n",
       "</table>\n",
       "</div>"
      ],
      "text/plain": [
       "     seguridad  \\\n",
       "35   1           \n",
       "90   1           \n",
       "116  1           \n",
       "192  1           \n",
       "495  1           \n",
       "530  1           \n",
       "611  1           \n",
       "681  1           \n",
       "703  1           \n",
       "955  1           \n",
       "\n",
       "                                                                                                                                                                                                                                                                                           full_text  \\\n",
       "35   @WRadioColombia Ahora sale un juez Mamerto que dice que No son un peligro para la sociedad y les da casa x cárcel o los deja libres, por algún motivo y listo...                                                                                                                                  \n",
       "90   Que tal esa perla... LOS BANDIDOS CONTENTOS POR LA IMPUNIDAD... \\n\\nClaro, como se tratan de delincuentes apuestos, y estereotipos de buen parecer físico y... https://t.co/BMswVQYbwf                                                                                                            \n",
       "116  @IvanDuque Están matando líderes sociales, gordo hijo de puta.                                                                                                                                                                                                                                    \n",
       "192  @PedroSantosG Ya está. Misterio resuelto. Asesinados a sangre fría porque sí.                                                                                                                                                                                                                     \n",
       "495  Dos líderes sociales asesinados en Putumayo y una lideresa en Huila https://t.co/obUecOmV13                                                                                                                                                                                                       \n",
       "530  Otra pegada como chupa a los vidrios rotos del pasado https://t.co/44o2ivM3yM                                                                                                                                                                                                                     \n",
       "611  Conmoción en Medellín por tres feminicidios en menos de ocho horas https://t.co/JHMulLOnOz                                                                                                                                                                                                        \n",
       "681  #Opinión \"La actividad asesina que se viene desarrollando no puede verse como algo normal en una sociedad civilizada. La nuestra parece haberse acostumbrado\" - @josegreghg https://t.co/mpNAc9NV41 https://t.co/4WQfRAKlUu                                                                       \n",
       "703  Este delincuente no dice nada diferente a lo que el mundo entero sabe sobre el gran capo de la ilegalidad desde este país; y esa información está en manos de una justicia que él mismo maneja. \\nLa información de esa rata no va a cambiar nada.  QEPD ese miserable. https://t.co/5J6S0db6eW   \n",
       "955  #FelizJueves?\\n\\nCon 4 líderes sociales asesinados en las últimas 48 horas y el paramilitarismo campeando por todo el país?\\n\\nNo creo que sea #FelizJuevesATodos                                                                                                                                 \n",
       "\n",
       "                                                                                                              CleanText  \\\n",
       "35   wradiocolombia sale juez mamerto peligro sociedad casa carcel deja libres motivo listo                               \n",
       "90   perla bandidos contentos impunidad tratan delincuentes apuestos estereotipos fisico                                  \n",
       "116  ivanduque matando lideres sociales gordo hijo puta                                                                   \n",
       "192  pedrosantosg misterio resuelto asesinados sangre fria                                                                \n",
       "495  lideres sociales asesinados putumayo lideresa huila                                                                  \n",
       "530  pegada chupa vidrios rotos                                                                                           \n",
       "611  conmocion medellin feminicidios                                                                                      \n",
       "681  opinion actividad asesina viene desarrollando verse normal sociedad civilizada haberse acostumbrado josegreghg       \n",
       "703  delincuente mundo entero capo ilegalidad informacion manos justicia maneja informacion rata cambiar qepd miserable   \n",
       "955  feliz jueves lideres sociales asesinados paramilitarismo campeando feliz jueves                                      \n",
       "\n",
       "     filtro  predict  \n",
       "35   False   0.0      \n",
       "90   False   0.0      \n",
       "116  False   0.0      \n",
       "192  False   0.0      \n",
       "495  False   0.0      \n",
       "530  False   0.0      \n",
       "611  False   0.0      \n",
       "681  False   0.0      \n",
       "703  False   0.0      \n",
       "955  False   0.0      "
      ]
     },
     "execution_count": 18,
     "metadata": {},
     "output_type": "execute_result"
    }
   ],
   "source": [
    "data[(~data.filtro) & (data.seguridad == 1)]"
   ]
  },
  {
   "cell_type": "code",
   "execution_count": 13,
   "metadata": {},
   "outputs": [
    {
     "data": {
      "text/plain": [
       "81"
      ]
     },
     "execution_count": 13,
     "metadata": {},
     "output_type": "execute_result"
    }
   ],
   "source": [
    "data.filtro.sum()"
   ]
  },
  {
   "cell_type": "code",
   "execution_count": 14,
   "metadata": {},
   "outputs": [],
   "source": [
    "def plot_confusion_matrix(cm,\n",
    "                          target_names,\n",
    "                          f1=0,\n",
    "                          title='Matriz de Confusión',\n",
    "                          path_save=\"\",\n",
    "                          cmap=None,\n",
    "                          normalize=True):\n",
    "    \"\"\"\n",
    "    given a sklearn confusion matrix (cm), make a nice plot\n",
    "\n",
    "    Arguments\n",
    "    ---------\n",
    "    cm:           confusion matrix from sklearn.metrics.confusion_matrix\n",
    "\n",
    "    target_names: given classification classes such as [0, 1, 2]\n",
    "                  the class names, for example: ['high', 'medium', 'low']\n",
    "\n",
    "    title:        the text to display at the top of the matrix\n",
    "\n",
    "    cmap:         the gradient of the values displayed from matplotlib.pyplot.cm\n",
    "                  see http://matplotlib.org/examples/color/colormaps_reference.html\n",
    "                  plt.get_cmap('jet') or plt.cm.Blues\n",
    "\n",
    "    normalize:    If False, plot the raw numbers\n",
    "                  If True, plot the proportions\n",
    "\n",
    "    Usage\n",
    "    -----\n",
    "    plot_confusion_matrix(cm           = cm,                  # confusion matrix created by\n",
    "                                                              # sklearn.metrics.confusion_matrix\n",
    "                          normalize    = True,                # show proportions\n",
    "                          target_names = y_labels_vals,       # list of names of the classes\n",
    "                          title        = best_estimator_name) # title of graph\n",
    "\n",
    "    Citiation\n",
    "    ---------\n",
    "    http://scikit-learn.org/stable/auto_examples/model_selection/plot_confusion_matrix.html\n",
    "\n",
    "    \"\"\"\n",
    "    import matplotlib.pyplot as plt\n",
    "    import numpy as np\n",
    "    import itertools\n",
    "\n",
    "    accuracy = f1\n",
    "    \n",
    "\n",
    "    if cmap is None:\n",
    "        cmap = plt.get_cmap('Blues')\n",
    "\n",
    "    plt.figure(figsize=(6, 4))\n",
    "    plt.imshow(cm, interpolation='nearest', cmap=cmap)\n",
    "    plt.title(title)\n",
    "#     plt.colorbar()\n",
    "\n",
    "    if target_names is not None:\n",
    "        tick_marks = np.arange(len(target_names))\n",
    "        plt.xticks(tick_marks, target_names, rotation=45)\n",
    "        plt.yticks(tick_marks, target_names)\n",
    "\n",
    "    if normalize:\n",
    "        cm = cm.astype('float') / cm.sum(axis=1)[:, np.newaxis]\n",
    "\n",
    "\n",
    "    thresh = cm.max() / 1.5 if normalize else cm.max() / 2\n",
    "    for i, j in itertools.product(range(cm.shape[0]), range(cm.shape[1])):\n",
    "        if normalize:\n",
    "            plt.text(j, i, \"{:0.4f}\".format(cm[i, j]),\n",
    "                     horizontalalignment=\"center\",\n",
    "                     color=\"white\" if cm[i, j] > thresh else \"black\")\n",
    "        else:\n",
    "            plt.text(j, i, \"{:,}\".format(cm[i, j]),\n",
    "                     horizontalalignment=\"center\",\n",
    "                     color=\"white\" if cm[i, j] > thresh else \"black\")\n",
    "\n",
    "\n",
    "    plt.tight_layout()\n",
    "    plt.ylabel('True label')\n",
    "    plt.xlabel('Predicted label\\nf1_score={:0.4f}'.format(accuracy))\n",
    "    plt.savefig(path_save,bbox_inches='tight')\n",
    "    plt.show()\n",
    "\n",
    "from sklearn.metrics import confusion_matrix"
   ]
  }
 ],
 "metadata": {
  "kernelspec": {
   "display_name": "Python 3",
   "language": "python",
   "name": "python3"
  },
  "language_info": {
   "codemirror_mode": {
    "name": "ipython",
    "version": 3
   },
   "file_extension": ".py",
   "mimetype": "text/x-python",
   "name": "python",
   "nbconvert_exporter": "python",
   "pygments_lexer": "ipython3",
   "version": "3.7.4"
  }
 },
 "nbformat": 4,
 "nbformat_minor": 2
}
