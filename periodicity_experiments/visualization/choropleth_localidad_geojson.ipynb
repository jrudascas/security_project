{
 "cells": [
  {
   "cell_type": "code",
   "execution_count": 33,
   "metadata": {},
   "outputs": [],
   "source": [
    "import numpy as np\n",
    "import pandas as pd\n",
    "import matplotlib.pyplot as plt\n",
    "import geojson\n",
    "import pickle\n",
    "\n",
    "from geojson import Feature, Point, FeatureCollection"
   ]
  },
  {
   "cell_type": "markdown",
   "metadata": {},
   "source": [
    "## Assets"
   ]
  },
  {
   "cell_type": "code",
   "execution_count": 3,
   "metadata": {},
   "outputs": [],
   "source": [
    "geojson_localidad_file = '/Users/anamaria/Desktop/dev/security_project/assets/localidades_polygon.json'\n",
    "\n",
    "with open(geojson_localidad_file) as f:\n",
    "    geojson_localidad = geojson.load(f)"
   ]
  },
  {
   "cell_type": "markdown",
   "metadata": {},
   "source": [
    "## Built-in"
   ]
  },
  {
   "cell_type": "code",
   "execution_count": 43,
   "metadata": {},
   "outputs": [],
   "source": [
    "def generate_centroids(geojson_object):\n",
    "    centroids = {}    \n",
    "    for i in range(0,len(geojson_object['features'])):\n",
    "        list_coords =list(map(lambda x: tuple(x), geojson_object['features'][i]['geometry']['coordinates'][0][0]))\n",
    "        key = geojson_object['features'][i]['properties']['LocNombre']\n",
    "        centroids[key] = Polygon(list_coords).centroid\n",
    "    return centroids"
   ]
  },
  {
   "cell_type": "code",
   "execution_count": 57,
   "metadata": {},
   "outputs": [],
   "source": [
    "def get_localidad_centroid(centroids_list, localidad_name):\n",
    "    return centroids_list[localidad_name]"
   ]
  },
  {
   "cell_type": "code",
   "execution_count": 68,
   "metadata": {},
   "outputs": [],
   "source": [
    "def generate_localidad_id(geojson_object):\n",
    "    localidades_ids = {}\n",
    "    for i in range(0,len(geojson_object['features'])):\n",
    "        key = geojson_object['features'][i]['properties']['LocNombre']\n",
    "        localidades_ids[key] = geojson_object['features'][i]['properties']['LocCodigo']\n",
    "    return localidades_ids"
   ]
  },
  {
   "cell_type": "code",
   "execution_count": 71,
   "metadata": {},
   "outputs": [],
   "source": [
    "def get_localidad_id(localidades_ids, localidad_name):\n",
    "    return localidades_ids[localidad_name]"
   ]
  },
  {
   "cell_type": "markdown",
   "metadata": {},
   "source": [
    "## Data"
   ]
  },
  {
   "cell_type": "code",
   "execution_count": 88,
   "metadata": {},
   "outputs": [],
   "source": [
    "## Results of predicatbility experiment_08 (using NUSE sample dataset; 2017-2018)"
   ]
  },
  {
   "cell_type": "code",
   "execution_count": 31,
   "metadata": {},
   "outputs": [],
   "source": [
    "infile = open('/Users/anamaria/Desktop/dev/security_project/periodicity_experiments/visualization/predictability_localidades.pkl','rb')\n",
    "predictability_localidades = pickle.load(infile)\n",
    "infile.close()"
   ]
  },
  {
   "cell_type": "code",
   "execution_count": 87,
   "metadata": {
    "scrolled": true
   },
   "outputs": [],
   "source": [
    "predictability_localidades = predictability_localidades[predictability_localidades['crime_level']=='3']"
   ]
  },
  {
   "cell_type": "markdown",
   "metadata": {},
   "source": [
    "## Generate geojson"
   ]
  },
  {
   "cell_type": "code",
   "execution_count": 69,
   "metadata": {},
   "outputs": [],
   "source": [
    "localidades_centroids = generate_centroids(geojson_localidad)\n",
    "localidades_ids = generate_localidad_id(geojson_localidad)"
   ]
  },
  {
   "cell_type": "code",
   "execution_count": 85,
   "metadata": {},
   "outputs": [],
   "source": [
    "features_list = list()\n",
    "\n",
    "localidades_list = predictability_localidades.localidad.unique()\n",
    "for localidad in localidades_list:\n",
    "    localidad_centroid = get_localidad_centroid(localidades_centroids, localidad)\n",
    "    localidad_id = get_localidad_id(localidades_ids, localidad)\n",
    "    localidad_feature = Feature(geometry = localidad_centroid,\n",
    "                                id = int(localidad_id),\n",
    "                                properties = {'localidad_name': localidad,\n",
    "                                              'localidad_code': int(localidad_id),\n",
    "                                              'object_id': int(localidad_id),\n",
    "                                              'predictability': float(predictability_localidades.loc[predictability_localidades['localidad']==localidad].predictability.values[0]),\n",
    "                                              'contingency': float(predictability_localidades.loc[predictability_localidades['localidad']==localidad].contingency.values[0]),\n",
    "                                              'constancy': float(predictability_localidades.loc[predictability_localidades['localidad']==localidad].constancy.values[0])\n",
    "                                             }\n",
    "                               )\n",
    "    features_list.append(localidad_feature)\n",
    "    "
   ]
  },
  {
   "cell_type": "code",
   "execution_count": 90,
   "metadata": {},
   "outputs": [],
   "source": [
    "predictability_localidades_geojson = FeatureCollection(features_list)"
   ]
  },
  {
   "cell_type": "code",
   "execution_count": 91,
   "metadata": {},
   "outputs": [],
   "source": [
    "geojson_file = open(\"./choropleth_predictability_localidades.geojson\", \"a\")\n",
    "geojson_file.write(str(predictability_localidades_geojson))\n",
    "geojson_file.close()"
   ]
  },
  {
   "cell_type": "code",
   "execution_count": 6,
   "metadata": {},
   "outputs": [],
   "source": [
    "\n",
    "\n",
    "def generate_geojson_centers_incidents_upz(df):\n",
    "    \n",
    "    lst_features = list()\n",
    "    \n",
    "    for i in range(len(UPZ_ids)):\n",
    "        num_incidents = 0\n",
    "        exist_incidents = len(df[df['UPZ'] == UPZ_names[i]]['NUM'].values)\n",
    "        if (exist_incidents > 0):\n",
    "            num_incidents = int(df[df['UPZ'] == UPZ_names[i]]['NUM'].values)          \n",
    "        center_upz = Point((clons[i], clats[i]))\n",
    "        feature_upz = Feature(geometry = center_upz, \n",
    "                              id = UPZ_ids[i], properties = {'upz_name': UPZ_names[i],\n",
    "                                                             'incidents': num_incidents,\n",
    "                                                             'COD_UPZ': UPZ_cods[i],\n",
    "                                                             'OBJECTID': UPZ_objids[i]\n",
    "                                                            }) \n",
    "        lst_features.append(feature_upz)\n",
    "        \n",
    "    return FeatureCollection(lst_features)\n",
    "    \n",
    "centers_incidents_upz = generate_geojson_centers_incidents_upz(df_centroids)"
   ]
  },
  {
   "cell_type": "code",
   "execution_count": 7,
   "metadata": {},
   "outputs": [],
   "source": [
    "f = open(\"./heatmap.geojson\", \"a\")\n",
    "f.write(str(centers_incidents_upz))\n",
    "f.close()"
   ]
  },
  {
   "cell_type": "code",
   "execution_count": null,
   "metadata": {},
   "outputs": [],
   "source": []
  }
 ],
 "metadata": {
  "kernelspec": {
   "display_name": "Python 3",
   "language": "python",
   "name": "python3"
  },
  "language_info": {
   "codemirror_mode": {
    "name": "ipython",
    "version": 3
   },
   "file_extension": ".py",
   "mimetype": "text/x-python",
   "name": "python",
   "nbconvert_exporter": "python",
   "pygments_lexer": "ipython3",
   "version": "3.7.2"
  }
 },
 "nbformat": 4,
 "nbformat_minor": 2
}
