{
 "cells": [
  {
   "cell_type": "markdown",
   "metadata": {},
   "source": [
    "# Experiment description\n",
    "## Hypothesis: \n",
    "Bands density distribution is similar on 'localidades' with similar predictability values. \n",
    "## Method: \n",
    "Fourier analysis to identify periodicity on time series signals by localidad and density bands estimation. Time series to analyze***:\n",
    "\n",
    "- Localidades with high predictability (P>0.7) and low variance (variance < 0.2): Ciudad Bolívar, Bosa, Usme, San Cristobal, Rafael Uribe Uribe, Suba, Kennedy. \n",
    "- Localidades with medium predictability ([0.4, 0.7]) and variance ([0.2, 0.4]): Engativa, Tunjuelito, Fontibon, Usaquen\n",
    "- Localidades with low predictability (P < 0.4) and high variance (variance > 0.4): Antonio Nariño, Santa Fe, Candelaria, Barrios Unidos y Mártires.\n",
    "\n",
    "** Localidades that dont fit on former classification: Puente Aranda, Chapinero, Teusaquillo\n",
    "\n",
    "*** Classification based on predictability results obtained on experiment 08 and variance of experiment 11"
   ]
  },
  {
   "cell_type": "markdown",
   "metadata": {},
   "source": [
    "## Built-in methods"
   ]
  },
  {
   "cell_type": "code",
   "execution_count": null,
   "metadata": {},
   "outputs": [],
   "source": [
    "import pandas as pd\n",
    "import numpy as np\n",
    "import matplotlib.pyplot as plt\n",
    "from IPython.display import display, HTML\n",
    "import plotly.express as px\n",
    "import plotly.graph_objects as go\n",
    "import seaborn as sns\n",
    "import calendar\n",
    "import scipy as sp\n",
    "import scipy.fftpack\n",
    "from scipy.signal import find_peaks\n",
    "\n",
    "pd.set_option('display.max_colwidth', -1)\n",
    "pd.set_option('display.max_columns', None)"
   ]
  },
  {
   "cell_type": "code",
   "execution_count": null,
   "metadata": {},
   "outputs": [],
   "source": [
    "def set_initial_dataset_day(df_by_date,name_day):\n",
    "    df_by_date = df_by_date.reset_index()\n",
    "    df_by_date['day_of_week'] = df_by_date['date'].dt.day_name()\n",
    "    monday_idx = df_by_date.index[df_by_date['day_of_week'] == name_day].tolist()[0]\n",
    "    df_by_date = df_by_date[monday_idx:].set_index('date').drop(['day_of_week'],axis=1)\n",
    "    return df_by_date"
   ]
  },
  {
   "cell_type": "code",
   "execution_count": null,
   "metadata": {},
   "outputs": [],
   "source": [
    "def preprocess_df_localidad(df_by_localidad):   \n",
    "    #Make sure dataset starts on Monday for the experiment\n",
    "    df_by_localidad = set_initial_dataset_day(df_by_localidad,'Monday')\n",
    "\n",
    "    #Make sure dataset include consecutive dates in period\n",
    "    idx = pd.date_range(min(df_by_localidad.reset_index().date), max(df_by_localidad.reset_index().date))\n",
    "    df_by_localidad = df_by_localidad.reindex(idx, fill_value=0)\n",
    "    \n",
    "    # keep length windows of experiment 11 to set lT\n",
    "    lenWindow = 7\n",
    "    lT=(len(df_by_localidad)//lenWindow)*lenWindow \n",
    "    \n",
    "    df_localidad_values = pd.Series(df_by_localidad['total_eventos']).values\n",
    "    df_localidad_values = df_localidad_values[0:lT]\n",
    "\n",
    "    df_localidad_values = df_localidad_values/(df_localidad_values.max())\n",
    "    \n",
    "    return df_localidad_values"
   ]
  },
  {
   "cell_type": "code",
   "execution_count": null,
   "metadata": {},
   "outputs": [],
   "source": [
    "def fourier_analysis(signal):\n",
    "    time = range(len(signal))\n",
    "    fftdata = np.fft.fft(signal)\n",
    "    fftdatafreq = np.zeros((len(signal)))\n",
    "\n",
    "    for i in range(len(fftdata)):\n",
    "        fftdatafreq[i] = abs(fftdata[i].real)\n",
    "    \n",
    "    unilateral_fft = fftdatafreq[0:len(fftdatafreq) // 2]\n",
    "    return unilateral_fft"
   ]
  },
  {
   "cell_type": "code",
   "execution_count": null,
   "metadata": {},
   "outputs": [],
   "source": [
    "def bands_density(freq_signal, bands_number, localidad):\n",
    "    freq_bands = np.linspace(1,len(freq_signal), bands_number+1)\n",
    "    density_array = []\n",
    "    density_array.append(localidad)\n",
    "    for i in range(len(freq_bands)-1):\n",
    "        low_freq = int(freq_bands[i])\n",
    "        high_freq = int(freq_bands[i+1] - 1)\n",
    "        current_density = density_estimator(freq_signal,low_freq, high_freq)\n",
    "        density_array.append(current_density)\n",
    "    return density_array\n",
    "        "
   ]
  },
  {
   "cell_type": "code",
   "execution_count": null,
   "metadata": {},
   "outputs": [],
   "source": [
    "def print_freq_bands(freq_signal, bands_number):\n",
    "    freq_bands = np.linspace(1,len(freq_signal), bands_number+1)\n",
    "    for i in range(len(freq_bands)-1):\n",
    "        low_freq = int(freq_bands[i])\n",
    "        high_freq = int(freq_bands[i+1] - 1)\n",
    "        print('band'+str(i+1)+': ', str(low_freq)+' Hz', 'to ', str(high_freq)+' Hz')"
   ]
  },
  {
   "cell_type": "code",
   "execution_count": null,
   "metadata": {},
   "outputs": [],
   "source": [
    "def density_estimator(freq_signal, low_freq, high_freq):\n",
    "    density_sum = 0\n",
    "    for point in freq_signal[low_freq:high_freq-1]:\n",
    "        density_sum = density_sum + (abs(point)*abs(point))\n",
    "    return density_sum.round(2)"
   ]
  },
  {
   "cell_type": "code",
   "execution_count": null,
   "metadata": {},
   "outputs": [],
   "source": [
    "def density_table(df_density):\n",
    "    fig, ax = plt.subplots(1,1,sharex=True, sharey=True)\n",
    "    g=sns.heatmap(df_density.astype('float'),annot=False,linewidths=0,cmap=\"Blues\",cbar=True)\n",
    "    g.set_yticklabels(g.get_yticklabels(), rotation = 0)\n",
    "    bottom, top = ax.get_ylim()\n",
    "    ax.set_ylim(bottom + 0.5, top - 0.5)\n",
    "    file_path = 'periodicity_experiments/predictability/figures/'\n",
    "    #plt.savefig(workingPath+file_path+'table_'+str(name_experiment)+'_p_variance_time_'+str(lenWindow)+'_levels_'+str(nLevel),dpi=300,bbox_inches = \"tight\")\n",
    "    plt.show()"
   ]
  },
  {
   "cell_type": "markdown",
   "metadata": {},
   "source": [
    "## Data"
   ]
  },
  {
   "cell_type": "code",
   "execution_count": null,
   "metadata": {},
   "outputs": [],
   "source": [
    "data_location = '/Users/anamaria/Desktop/dev/security_project/datasets/06. verify_enrich_nuse_11022020.csv'\n",
    "df_input = pd.read_csv(data_location,delimiter=\",\")"
   ]
  },
  {
   "cell_type": "code",
   "execution_count": null,
   "metadata": {},
   "outputs": [],
   "source": [
    "df = df_input.copy()"
   ]
  },
  {
   "cell_type": "code",
   "execution_count": null,
   "metadata": {},
   "outputs": [],
   "source": [
    "df = df.loc[df['ANIO']!= 2019]\n",
    "df['date']=pd.to_datetime(df['FECHA']).dt.strftime('%Y-%m-%d')\n",
    "df['date']=pd.to_datetime(df['date'],format='%Y-%m-%d')\n",
    "df_by_date = pd.DataFrame(df.groupby(['date','PERIODO_TS','LOCALIDAD']).size(),columns=[\"total_eventos\"])"
   ]
  },
  {
   "cell_type": "code",
   "execution_count": null,
   "metadata": {},
   "outputs": [],
   "source": [
    "df_by_date = df_by_date.reset_index().set_index('date')"
   ]
  },
  {
   "cell_type": "code",
   "execution_count": null,
   "metadata": {},
   "outputs": [],
   "source": [
    "df_by_date.LOCALIDAD.unique()"
   ]
  },
  {
   "cell_type": "markdown",
   "metadata": {},
   "source": [
    "# Results\n",
    "## All localidades"
   ]
  },
  {
   "cell_type": "code",
   "execution_count": null,
   "metadata": {},
   "outputs": [],
   "source": [
    "localidadesList = list(df_by_date.LOCALIDAD.unique())"
   ]
  },
  {
   "cell_type": "code",
   "execution_count": null,
   "metadata": {},
   "outputs": [],
   "source": [
    "localidadesList.remove('SIN LOCALIZACION')\n",
    "localidadesList.remove('SUMAPAZ')"
   ]
  },
  {
   "cell_type": "code",
   "execution_count": null,
   "metadata": {},
   "outputs": [],
   "source": [
    "flagF = True\n",
    "\n",
    "for localidad in localidadesList:\n",
    "    df_by_localidad = df_by_date[df_by_date['LOCALIDAD'] == localidad]\n",
    "    df_localidad_values = preprocess_df_localidad(df_by_localidad)\n",
    "    \n",
    "    fft_localidad = fourier_analysis(df_localidad_values)[1:] #ignore DC component\n",
    "    #fft_localidad = fft_localidad/(fft_localidad.max()) #normalize signal\n",
    "    \n",
    "    bands_number = 10\n",
    "    bands = bands_density(fft_localidad, bands_number, localidad)\n",
    "    \n",
    "    if flagF==True:\n",
    "        flagF = False\n",
    "        bands_values = np.array([bands]);\n",
    "    else:\n",
    "        bands_values = np.vstack((bands_values, [bands]))\n",
    "    \n",
    "df_bands_values = pd.DataFrame(bands_values, columns=['localidad','band1','band2','band3','band4','band5','band6','band7','band8','band9','band10'])\n",
    "df_bands_values.set_index('localidad', inplace=True)\n",
    "print_freq_bands(fft_localidad, bands_number)\n",
    "density_table(df_bands_values)"
   ]
  },
  {
   "cell_type": "markdown",
   "metadata": {},
   "source": [
    "## Experiment localidades with high predictability and low predictability variance"
   ]
  },
  {
   "cell_type": "code",
   "execution_count": null,
   "metadata": {},
   "outputs": [],
   "source": [
    "localidadesList = ['CIUDAD BOLIVAR','BOSA','USME','SAN CRISTOBAL','RAFAEL URIBE URIBE','SUBA','KENNEDY']"
   ]
  },
  {
   "cell_type": "code",
   "execution_count": null,
   "metadata": {
    "scrolled": false
   },
   "outputs": [],
   "source": [
    "flagF = True\n",
    "\n",
    "for localidad in localidadesList:\n",
    "    df_by_localidad = df_by_date[df_by_date['LOCALIDAD'] == localidad]\n",
    "    df_localidad_values = preprocess_df_localidad(df_by_localidad)\n",
    "    \n",
    "    fft_localidad = fourier_analysis(df_localidad_values)[1:] #ignore DC component\n",
    "    #fft_localidad = fft_localidad/(fft_localidad.max()) #normalize signal\n",
    "    \n",
    "    bands_number = 10\n",
    "    bands = bands_density(fft_localidad, bands_number, localidad)\n",
    "    \n",
    "    if flagF==True:\n",
    "        flagF = False\n",
    "        bands_values = np.array([bands]);\n",
    "    else:\n",
    "        bands_values = np.vstack((bands_values, [bands]))\n",
    "    \n",
    "df_bands_values = pd.DataFrame(bands_values, columns=['localidad','band1','band2','band3','band4','band5','band6','band7','band8','band9','band10'])\n",
    "df_bands_values.set_index('localidad', inplace=True)\n",
    "print_freq_bands(fft_localidad, bands_number)\n",
    "density_table(df_bands_values)"
   ]
  },
  {
   "cell_type": "markdown",
   "metadata": {},
   "source": [
    "## Experiment localidades with medium predictability values and variance"
   ]
  },
  {
   "cell_type": "code",
   "execution_count": null,
   "metadata": {},
   "outputs": [],
   "source": [
    "localidadesList = ['ENGATIVA','TUNJUELITO','FONTIBON','USAQUEN']"
   ]
  },
  {
   "cell_type": "code",
   "execution_count": null,
   "metadata": {
    "scrolled": false
   },
   "outputs": [],
   "source": [
    "flagF = True\n",
    "\n",
    "for localidad in localidadesList:\n",
    "    df_by_localidad = df_by_date[df_by_date['LOCALIDAD'] == localidad]\n",
    "    df_localidad_values = preprocess_df_localidad(df_by_localidad)\n",
    "    \n",
    "    fft_localidad = fourier_analysis(df_localidad_values)[1:] #ignore DC component\n",
    "    #fft_localidad = fft_localidad/(fft_localidad.max()) #normalize signal\n",
    "    \n",
    "    bands_number = 10\n",
    "    bands = bands_density(fft_localidad, bands_number, localidad)\n",
    "    \n",
    "    if flagF==True:\n",
    "        flagF = False\n",
    "        bands_values = np.array([bands]);\n",
    "    else:\n",
    "        bands_values = np.vstack((bands_values, [bands]))\n",
    "    \n",
    "df_bands_values = pd.DataFrame(bands_values, columns=['localidad','band1','band2','band3','band4','band5','band6','band7','band8','band9','band10'])\n",
    "df_bands_values.set_index('localidad', inplace=True)\n",
    "print_freq_bands(fft_localidad, bands_number)\n",
    "density_table(df_bands_values)"
   ]
  },
  {
   "cell_type": "markdown",
   "metadata": {},
   "source": [
    "## Experiment localidades with low predictability values and high predictability variance"
   ]
  },
  {
   "cell_type": "code",
   "execution_count": null,
   "metadata": {},
   "outputs": [],
   "source": [
    "localidadesList = ['ANTONIO NARIÑO','SANTA FE','CANDELARIA','BARRIOS UNIDOS','LOS MARTIRES']"
   ]
  },
  {
   "cell_type": "code",
   "execution_count": null,
   "metadata": {
    "scrolled": false
   },
   "outputs": [],
   "source": [
    "flagF = True\n",
    "\n",
    "for localidad in localidadesList:\n",
    "    df_by_localidad = df_by_date[df_by_date['LOCALIDAD'] == localidad]\n",
    "    df_localidad_values = preprocess_df_localidad(df_by_localidad)\n",
    "    \n",
    "    fft_localidad = fourier_analysis(df_localidad_values)[1:] #ignore DC component\n",
    "    #fft_localidad = fft_localidad/(fft_localidad.max()) #normalize signal\n",
    "    \n",
    "    bands_number = 10\n",
    "    bands = bands_density(fft_localidad, bands_number, localidad)\n",
    "    \n",
    "    if flagF==True:\n",
    "        flagF = False\n",
    "        bands_values = np.array([bands]);\n",
    "    else:\n",
    "        bands_values = np.vstack((bands_values, [bands]))\n",
    "    \n",
    "df_bands_values = pd.DataFrame(bands_values, columns=['localidad','band1','band2','band3','band4','band5','band6','band7','band8','band9','band10'])\n",
    "df_bands_values.set_index('localidad', inplace=True)\n",
    "print_freq_bands(fft_localidad, bands_number)\n",
    "density_table(df_bands_values)"
   ]
  },
  {
   "cell_type": "code",
   "execution_count": null,
   "metadata": {},
   "outputs": [],
   "source": []
  },
  {
   "cell_type": "markdown",
   "metadata": {},
   "source": [
    "## Experiment particular localidades"
   ]
  },
  {
   "cell_type": "code",
   "execution_count": null,
   "metadata": {},
   "outputs": [],
   "source": [
    "localidadesList = ['PUENTE ARANDA','CHAPINERO','TEUSAQUILLO']"
   ]
  },
  {
   "cell_type": "code",
   "execution_count": null,
   "metadata": {
    "scrolled": false
   },
   "outputs": [],
   "source": [
    "flagF = True\n",
    "\n",
    "for localidad in localidadesList:\n",
    "    df_by_localidad = df_by_date[df_by_date['LOCALIDAD'] == localidad]\n",
    "    df_localidad_values = preprocess_df_localidad(df_by_localidad)\n",
    "    \n",
    "    fft_localidad = fourier_analysis(df_localidad_values)[1:] #ignore DC component\n",
    "    #fft_localidad = fft_localidad/(fft_localidad.max()) #normalize signal\n",
    "    \n",
    "    bands_number = 10\n",
    "    bands = bands_density(fft_localidad, bands_number, localidad)\n",
    "    \n",
    "    if flagF==True:\n",
    "        flagF = False\n",
    "        bands_values = np.array([bands]);\n",
    "    else:\n",
    "        bands_values = np.vstack((bands_values, [bands]))\n",
    "    \n",
    "df_bands_values = pd.DataFrame(bands_values, columns=['localidad','band1','band2','band3','band4','band5','band6','band7','band8','band9','band10'])\n",
    "df_bands_values.set_index('localidad', inplace=True)\n",
    "print_freq_bands(fft_localidad, bands_number)\n",
    "density_table(df_bands_values)"
   ]
  },
  {
   "cell_type": "code",
   "execution_count": null,
   "metadata": {},
   "outputs": [],
   "source": []
  }
 ],
 "metadata": {
  "kernelspec": {
   "display_name": "Python 3",
   "language": "python",
   "name": "python3"
  },
  "language_info": {
   "codemirror_mode": {
    "name": "ipython",
    "version": 3
   },
   "file_extension": ".py",
   "mimetype": "text/x-python",
   "name": "python",
   "nbconvert_exporter": "python",
   "pygments_lexer": "ipython3",
   "version": "3.7.2"
  }
 },
 "nbformat": 4,
 "nbformat_minor": 2
}
