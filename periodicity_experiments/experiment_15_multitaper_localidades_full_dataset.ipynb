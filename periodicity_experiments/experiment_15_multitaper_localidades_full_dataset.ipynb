{
 "cells": [
  {
   "cell_type": "markdown",
   "metadata": {},
   "source": [
    "# Experiment description\n",
    "## Hypothesis: \n",
    "Peaks observed on experiment 12 (using FFT approach) are also observed using periodogram and multitaper approach.\n",
    "\n",
    "## Method: \n",
    "Periodogram and multitaper spectral estimation to identify periodicity on time series signals by localidad. Time series to analyze***:\n",
    "\n",
    "- Localidades with high predictability (P>0.7) and low variance (variance < 0.2): Ciudad Bolívar, Bosa, Usme, San Cristobal, Rafael Uribe Uribe, Suba, Kennedy. \n",
    "- Localidades with medium predictability ([0.4, 0.7]) and variance ([0.2, 0.4]): Engativa, Tunjuelito, Fontibon, Usaquen\n",
    "- Localidades with low predictability (P < 0.4) and high variance (variance > 0.4): Antonio Nariño, Santa Fe, Candelaria, Barrios Unidos y Mártires.\n",
    "\n",
    "** Localidades that dont fit on former classification: Puente Aranda, Chapinero, Teusaquillo\n",
    "\n",
    "*** Classification based on predictability results obtained on experiment 08 and variance of experiment 11"
   ]
  },
  {
   "cell_type": "markdown",
   "metadata": {},
   "source": [
    "## Built-in methods"
   ]
  },
  {
   "cell_type": "code",
   "execution_count": null,
   "metadata": {},
   "outputs": [],
   "source": [
    "import pandas as pd\n",
    "import numpy as np\n",
    "import matplotlib.pyplot as plt\n",
    "import calendar\n",
    "import scipy as sp\n",
    "import scipy.fftpack\n",
    "from scipy.signal import find_peaks\n",
    "\n",
    "import nitime.algorithms as tsa\n",
    "import nitime.utils as utils\n",
    "from nitime.viz import winspect\n",
    "from nitime.viz import plot_spectral_estimate\n",
    "import math\n",
    "\n",
    "from IPython.display import display, HTML\n",
    "pd.set_option('display.max_colwidth', -1)\n",
    "pd.set_option('display.max_columns', None)"
   ]
  },
  {
   "cell_type": "code",
   "execution_count": null,
   "metadata": {},
   "outputs": [],
   "source": [
    "def set_initial_dataset_day(df_by_date,name_day):\n",
    "    df_by_date = df_by_date.reset_index()\n",
    "    df_by_date['day_of_week'] = df_by_date['date'].dt.day_name()\n",
    "    monday_idx = df_by_date.index[df_by_date['day_of_week'] == name_day].tolist()[0]\n",
    "    df_by_date = df_by_date[monday_idx:].set_index('date').drop(['day_of_week'],axis=1)\n",
    "    return df_by_date"
   ]
  },
  {
   "cell_type": "code",
   "execution_count": null,
   "metadata": {},
   "outputs": [],
   "source": [
    "def preprocess_df_localidad(df_by_localidad):   \n",
    "    #Make sure dataset starts on Monday for the experiment\n",
    "    df_by_localidad = set_initial_dataset_day(df_by_localidad,'Monday')\n",
    "\n",
    "    #Make sure dataset include consecutive dates in period\n",
    "    idx = pd.date_range(min(df_by_localidad.reset_index().date), max(df_by_localidad.reset_index().date))\n",
    "    df_by_localidad = df_by_localidad.reindex(idx, fill_value=0)\n",
    "    \n",
    "    lenWindow = 7\n",
    "    lT=(len(df_by_localidad)//lenWindow)*lenWindow \n",
    "    df_localidad_values = pd.Series(df_by_localidad['total_eventos']).values\n",
    "    df_localidad_values = df_localidad_values[0:lT]\n",
    "\n",
    "    df_localidad_values = df_localidad_values/(df_localidad_values.max())\n",
    "    \n",
    "    return df_localidad_values"
   ]
  },
  {
   "cell_type": "code",
   "execution_count": null,
   "metadata": {},
   "outputs": [],
   "source": [
    "def get_peaks(signal, custom_distance):\n",
    "    peaks, _ = find_peaks(signal, distance = custom_distance)\n",
    "    return peaks"
   ]
  },
  {
   "cell_type": "code",
   "execution_count": null,
   "metadata": {},
   "outputs": [],
   "source": [
    "def dB(x, out=None):\n",
    "    if out is None:\n",
    "        return 10 * np.log10(x)\n",
    "    else:\n",
    "        np.log10(x, out)\n",
    "        np.multiply(out, 10, out)"
   ]
  },
  {
   "cell_type": "code",
   "execution_count": null,
   "metadata": {},
   "outputs": [],
   "source": [
    "def mt_peaks(f, psd_mt):\n",
    "    for freq in get_peaks(psd_mt, 200):\n",
    "        print('mt value: ', psd_mt[freq].round(2), 'angular frequency: ',f[freq].round(2), 'Period (days): ', (2*math.pi/f[freq]).round(2))"
   ]
  },
  {
   "cell_type": "markdown",
   "metadata": {},
   "source": [
    "## Data"
   ]
  },
  {
   "cell_type": "code",
   "execution_count": null,
   "metadata": {},
   "outputs": [],
   "source": [
    "data_location = '/Users/anamaria/Desktop/dev/security_project/datasets/06. verify_enrich_nuse_11022020.csv'\n",
    "df_input = pd.read_csv(data_location,delimiter=\",\")"
   ]
  },
  {
   "cell_type": "code",
   "execution_count": null,
   "metadata": {},
   "outputs": [],
   "source": [
    "df = df_input.copy()"
   ]
  },
  {
   "cell_type": "code",
   "execution_count": null,
   "metadata": {},
   "outputs": [],
   "source": [
    "df = df.loc[df['ANIO']!= 2019]\n",
    "df['date']=pd.to_datetime(df['FECHA']).dt.strftime('%Y-%m-%d')\n",
    "df['date']=pd.to_datetime(df['date'],format='%Y-%m-%d')\n",
    "df_by_date = pd.DataFrame(df.groupby(['date','PERIODO_TS','LOCALIDAD']).size(),columns=[\"total_eventos\"])"
   ]
  },
  {
   "cell_type": "code",
   "execution_count": null,
   "metadata": {},
   "outputs": [],
   "source": [
    "df_by_date = df_by_date.reset_index().set_index('date')"
   ]
  },
  {
   "cell_type": "markdown",
   "metadata": {},
   "source": [
    "# Results\n",
    "## Experiment localidades with high predictability and low predictability variance"
   ]
  },
  {
   "cell_type": "code",
   "execution_count": null,
   "metadata": {},
   "outputs": [],
   "source": [
    "localidadesList = ['CIUDAD BOLIVAR','BOSA','USME','SAN CRISTOBAL','RAFAEL URIBE URIBE','SUBA','KENNEDY']"
   ]
  },
  {
   "cell_type": "code",
   "execution_count": null,
   "metadata": {
    "scrolled": false
   },
   "outputs": [],
   "source": [
    "for localidad in localidadesList:\n",
    "    df_by_localidad = df_by_date[df_by_date['LOCALIDAD'] == localidad]\n",
    "    df_localidad_values = preprocess_df_localidad(df_by_localidad)\n",
    "    \n",
    "    #Plot Periodogram\n",
    "    freqs, d_psd = tsa.periodogram(df_localidad_values)\n",
    "    dB(d_psd, d_psd)\n",
    "    fig, ax = plt.subplots(1,1,sharex=True, sharey=True)\n",
    "    ax.plot(freqs, d_psd)\n",
    "    plt.title(localidad+\" (periodogram)\")\n",
    "    plt.ylabel(\"Amplitude (db)\")\n",
    "    plt.xlabel(\"Angular frequency\")\n",
    "    plt.show()\n",
    "    \n",
    "    #Plot multitaper results\n",
    "    f, psd_mt, nu = tsa.multi_taper_psd(df_localidad_values, adaptive=False, jackknife=False)\n",
    "    dB(psd_mt, psd_mt)\n",
    "    fig, ax = plt.subplots(1,1,sharex=True, sharey=True)\n",
    "    ax.plot(f, psd_mt)\n",
    "    plt.title(localidad+\" (multitaper)\")\n",
    "    plt.ylabel(\"Amplitude (db)\")\n",
    "    plt.xlabel(\"Angular frequency\")\n",
    "    plt.show()\n",
    "    \n",
    "    mt_peaks(f, psd_mt)\n",
    "    "
   ]
  },
  {
   "cell_type": "markdown",
   "metadata": {},
   "source": [
    "## Experiment localidades with medium predictability values and variance"
   ]
  },
  {
   "cell_type": "code",
   "execution_count": null,
   "metadata": {},
   "outputs": [],
   "source": [
    "localidadesList = ['ENGATIVA','TUNJUELITO','FONTIBON','USAQUEN']"
   ]
  },
  {
   "cell_type": "code",
   "execution_count": null,
   "metadata": {
    "scrolled": false
   },
   "outputs": [],
   "source": [
    "for localidad in localidadesList:\n",
    "    df_by_localidad = df_by_date[df_by_date['LOCALIDAD'] == localidad]\n",
    "    df_localidad_values = preprocess_df_localidad(df_by_localidad)\n",
    "    \n",
    "    #Plot Periodogram\n",
    "    freqs, d_psd = tsa.periodogram(df_localidad_values)\n",
    "    dB(d_psd, d_psd)\n",
    "    fig, ax = plt.subplots(1,1,sharex=True, sharey=True)\n",
    "    ax.plot(freqs, d_psd)\n",
    "    plt.title(localidad+\" (periodogram)\")\n",
    "    plt.ylabel(\"Amplitude (db)\")\n",
    "    plt.xlabel(\"Angular frequency\")\n",
    "    plt.show()\n",
    "    \n",
    "    #Plot multitaper results\n",
    "    f, psd_mt, nu = tsa.multi_taper_psd(df_localidad_values, adaptive=False, jackknife=False)\n",
    "    dB(psd_mt, psd_mt)\n",
    "    fig, ax = plt.subplots(1,1,sharex=True, sharey=True)\n",
    "    ax.plot(f, psd_mt)\n",
    "    plt.title(localidad+\" (multitaper)\")\n",
    "    plt.ylabel(\"Amplitude (db)\")\n",
    "    plt.xlabel(\"Angular frequency\")\n",
    "    plt.show()\n",
    "    \n",
    "    mt_peaks(f, psd_mt)"
   ]
  },
  {
   "cell_type": "markdown",
   "metadata": {},
   "source": [
    "## Experiment localidades with low predictability values and high predictability variance"
   ]
  },
  {
   "cell_type": "code",
   "execution_count": null,
   "metadata": {},
   "outputs": [],
   "source": [
    "localidadesList = ['ANTONIO NARIÑO','SANTA FE','CANDELARIA','BARRIOS UNIDOS','LOS MARTIRES']"
   ]
  },
  {
   "cell_type": "code",
   "execution_count": null,
   "metadata": {
    "scrolled": false
   },
   "outputs": [],
   "source": [
    "for localidad in localidadesList:\n",
    "    df_by_localidad = df_by_date[df_by_date['LOCALIDAD'] == localidad]\n",
    "    df_localidad_values = preprocess_df_localidad(df_by_localidad)\n",
    "    \n",
    "    #Plot Periodogram\n",
    "    freqs, d_psd = tsa.periodogram(df_localidad_values)\n",
    "    dB(d_psd, d_psd)\n",
    "    fig, ax = plt.subplots(1,1,sharex=True, sharey=True)\n",
    "    ax.plot(freqs, d_psd)\n",
    "    plt.title(localidad+\" (periodogram)\")\n",
    "    plt.ylabel(\"Amplitude (db)\")\n",
    "    plt.xlabel(\"Angular frequency\")\n",
    "    plt.show()\n",
    "    \n",
    "    #Plot multitaper results\n",
    "    f, psd_mt, nu = tsa.multi_taper_psd(df_localidad_values, adaptive=False, jackknife=False)\n",
    "    dB(psd_mt, psd_mt)\n",
    "    fig, ax = plt.subplots(1,1,sharex=True, sharey=True)\n",
    "    ax.plot(f, psd_mt)\n",
    "    plt.title(localidad+\" (multitaper)\")\n",
    "    plt.ylabel(\"Amplitude (db)\")\n",
    "    plt.xlabel(\"Angular frequency\")\n",
    "    plt.show()\n",
    "    \n",
    "    mt_peaks(f, psd_mt)"
   ]
  },
  {
   "cell_type": "markdown",
   "metadata": {},
   "source": [
    "## Experiment particular localidades"
   ]
  },
  {
   "cell_type": "code",
   "execution_count": null,
   "metadata": {},
   "outputs": [],
   "source": [
    "localidadesList = ['PUENTE ARANDA','CHAPINERO','TEUSAQUILLO']"
   ]
  },
  {
   "cell_type": "code",
   "execution_count": null,
   "metadata": {
    "scrolled": false
   },
   "outputs": [],
   "source": [
    "for localidad in localidadesList:\n",
    "    df_by_localidad = df_by_date[df_by_date['LOCALIDAD'] == localidad]\n",
    "    df_localidad_values = preprocess_df_localidad(df_by_localidad)\n",
    "    \n",
    "    #Plot Periodogram\n",
    "    freqs, d_psd = tsa.periodogram(df_localidad_values)\n",
    "    dB(d_psd, d_psd)\n",
    "    fig, ax = plt.subplots(1,1,sharex=True, sharey=True)\n",
    "    ax.plot(freqs, d_psd)\n",
    "    plt.title(localidad+\" (periodogram)\")\n",
    "    plt.ylabel(\"Amplitude (db)\")\n",
    "    plt.xlabel(\"Angular frequency\")\n",
    "    plt.show()\n",
    "    \n",
    "    #Plot multitaper results\n",
    "    f, psd_mt, nu = tsa.multi_taper_psd(df_localidad_values, adaptive=False, jackknife=False)\n",
    "    dB(psd_mt, psd_mt)\n",
    "    fig, ax = plt.subplots(1,1,sharex=True, sharey=True)\n",
    "    ax.plot(f, psd_mt)\n",
    "    plt.title(localidad+\" (multitaper)\")\n",
    "    plt.ylabel(\"Amplitude (db)\")\n",
    "    plt.xlabel(\"Angular frequency\")\n",
    "    plt.show()\n",
    "    \n",
    "    mt_peaks(f, psd_mt)"
   ]
  },
  {
   "cell_type": "code",
   "execution_count": null,
   "metadata": {},
   "outputs": [],
   "source": []
  }
 ],
 "metadata": {
  "kernelspec": {
   "display_name": "Python 3",
   "language": "python",
   "name": "python3"
  },
  "language_info": {
   "codemirror_mode": {
    "name": "ipython",
    "version": 3
   },
   "file_extension": ".py",
   "mimetype": "text/x-python",
   "name": "python",
   "nbconvert_exporter": "python",
   "pygments_lexer": "ipython3",
   "version": "3.7.2"
  }
 },
 "nbformat": 4,
 "nbformat_minor": 2
}
