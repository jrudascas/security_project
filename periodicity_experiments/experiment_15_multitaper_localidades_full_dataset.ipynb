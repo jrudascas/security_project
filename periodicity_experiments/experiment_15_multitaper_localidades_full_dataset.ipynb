{
 "cells": [
  {
   "cell_type": "markdown",
   "metadata": {},
   "source": [
    "# Experiment description\n",
    "## Hypothesis: \n",
    "Peaks observed on experiment 12 (using FFT approach) are also observed using periodogram and multitaper approach.\n",
    "\n",
    "## Method: \n",
    "Periodogram and multitaper spectral estimation to identify periodicity on time series signals by localidad. Time series to analyze***:\n",
    "\n",
    "- Localidades with high predictability (P>0.7) and low variance (variance < 0.2): Ciudad Bolívar, Bosa, Usme, San Cristobal, Rafael Uribe Uribe, Suba, Kennedy. \n",
    "- Localidades with medium predictability ([0.4, 0.7]) and variance ([0.2, 0.4]): Engativa, Tunjuelito, Fontibon, Usaquen\n",
    "- Localidades with low predictability (P < 0.4) and high variance (variance > 0.4): Antonio Nariño, Santa Fe, Candelaria, Barrios Unidos y Mártires.\n",
    "\n",
    "** Localidades that dont fit on former classification: Puente Aranda, Chapinero, Teusaquillo\n",
    "\n",
    "*** Classification based on predictability results obtained on experiment 08 and variance of experiment 11"
   ]
  },
  {
   "cell_type": "markdown",
   "metadata": {},
   "source": [
    "## Built-in methods"
   ]
  },
  {
   "cell_type": "code",
   "execution_count": 2,
   "metadata": {},
   "outputs": [],
   "source": [
    "import pandas as pd\n",
    "import numpy as np\n",
    "import matplotlib.pyplot as plt\n",
    "import calendar\n",
    "import scipy as sp\n",
    "import scipy.fftpack\n",
    "from scipy.signal import find_peaks\n",
    "\n",
    "import nitime.algorithms as tsa\n",
    "import nitime.utils as utils\n",
    "from nitime.viz import winspect\n",
    "from nitime.viz import plot_spectral_estimate\n",
    "\n",
    "from IPython.display import display, HTML\n",
    "pd.set_option('display.max_colwidth', -1)\n",
    "pd.set_option('display.max_columns', None)"
   ]
  },
  {
   "cell_type": "code",
   "execution_count": 3,
   "metadata": {},
   "outputs": [],
   "source": [
    "def set_initial_dataset_day(df_by_date,name_day):\n",
    "    df_by_date = df_by_date.reset_index()\n",
    "    df_by_date['day_of_week'] = df_by_date['date'].dt.day_name()\n",
    "    monday_idx = df_by_date.index[df_by_date['day_of_week'] == name_day].tolist()[0]\n",
    "    df_by_date = df_by_date[monday_idx:].set_index('date').drop(['day_of_week'],axis=1)\n",
    "    return df_by_date"
   ]
  },
  {
   "cell_type": "code",
   "execution_count": null,
   "metadata": {},
   "outputs": [],
   "source": [
    "def get_max_frequencies(unilateral_fft_signal,fs_original_signal):\n",
    "    max_freq = unilateral_fft_signal.argsort()[-10:][::-1]\n",
    "    print('Max frequencies: ',max_freq)\n",
    "    periodicity = fs_original_signal/max_freq\n",
    "    print('Periods: ', periodicity)"
   ]
  },
  {
   "cell_type": "code",
   "execution_count": 47,
   "metadata": {},
   "outputs": [],
   "source": [
    "def get_frequency_peaks(unilateral_fft, custom_distance):\n",
    "    peaks, _ = find_peaks(unilateral_fft, distance = custom_distance)\n",
    "    return peaks"
   ]
  },
  {
   "cell_type": "code",
   "execution_count": null,
   "metadata": {},
   "outputs": [],
   "source": [
    "def get_peaks_magnitude(unilateral_fft, peaks_location_array):\n",
    "    peaks_magnitude = []\n",
    "    for peak in peaks_location_array:\n",
    "        magnitude = round(unilateral_fft[peak],2)\n",
    "        peaks_magnitude.append(magnitude)\n",
    "    return peaks_magnitude"
   ]
  },
  {
   "cell_type": "code",
   "execution_count": null,
   "metadata": {},
   "outputs": [],
   "source": [
    "def get_peaks_period(array_frequency_peaks,fs):\n",
    "    peaks_period = []\n",
    "    for peak in array_frequency_peaks:\n",
    "        period = round((fs/peak),2)\n",
    "        peaks_period.append(period)\n",
    "    return peaks_period"
   ]
  },
  {
   "cell_type": "code",
   "execution_count": null,
   "metadata": {},
   "outputs": [],
   "source": [
    "def get_periods_by_peak(peaks,n_periods):\n",
    "    period_values_array = {}\n",
    "    for period in range(n_periods):\n",
    "        period_values_array[period]=[]\n",
    "        for peak in peaks:\n",
    "            current_period = peaks[peak]['periods'][period]\n",
    "            period_values_array[period].append(current_period)\n",
    "\n",
    "    return period_values_array"
   ]
  },
  {
   "cell_type": "code",
   "execution_count": null,
   "metadata": {},
   "outputs": [],
   "source": [
    "def plot_fft_period_axis(signal_time_domain,unilateral_fft):\n",
    "    fs = len(signal_time_domain)\n",
    "    samples_fft = len(unilateral_fft)\n",
    "    inv=unilateral_fft[1:][::-1]\n",
    "    #inv = low_pass_filter(inv, fc =0.08, b =0.08)\n",
    "    #samples_inv = len(inv) +1\n",
    "    points_x = np.arange(samples_fft)\n",
    "    period = fs/(samples_fft - points_x[1:])\n",
    "    inv = inv/inv.max()\n",
    "    \n",
    "    fig, ax = plt.subplots(1,1,sharex=True, sharey=True)\n",
    "    ax.plot(period,inv)\n",
    "    plt.ylabel(\"Amplitude\")\n",
    "    plt.xlabel(\"Period (in days)\")\n",
    "    plt.axis([0, 15, 0, 1.2])\n",
    "    plt.show()\n",
    "    "
   ]
  },
  {
   "cell_type": "code",
   "execution_count": 16,
   "metadata": {},
   "outputs": [],
   "source": [
    "def dB(x, out=None):\n",
    "    if out is None:\n",
    "        return 10 * np.log10(x)\n",
    "    else:\n",
    "        np.log10(x, out)\n",
    "        np.multiply(out, 10, out)"
   ]
  },
  {
   "cell_type": "markdown",
   "metadata": {},
   "source": [
    "## Data"
   ]
  },
  {
   "cell_type": "code",
   "execution_count": 4,
   "metadata": {},
   "outputs": [
    {
     "name": "stderr",
     "output_type": "stream",
     "text": [
      "/Users/anamaria/Desktop/dev/security_project/security_venv/lib/python3.7/site-packages/IPython/core/interactiveshell.py:3058: DtypeWarning:\n",
      "\n",
      "Columns (9,11) have mixed types. Specify dtype option on import or set low_memory=False.\n",
      "\n"
     ]
    }
   ],
   "source": [
    "data_location = '/Users/anamaria/Desktop/dev/security_project/datasets/06. verify_enrich_nuse_11022020.csv'\n",
    "df_input = pd.read_csv(data_location,delimiter=\",\")"
   ]
  },
  {
   "cell_type": "code",
   "execution_count": 5,
   "metadata": {},
   "outputs": [],
   "source": [
    "df = df_input.copy()"
   ]
  },
  {
   "cell_type": "code",
   "execution_count": 6,
   "metadata": {},
   "outputs": [],
   "source": [
    "df = df.loc[df['ANIO']!= 2019]\n",
    "df['date']=pd.to_datetime(df['FECHA']).dt.strftime('%Y-%m-%d')\n",
    "df['date']=pd.to_datetime(df['date'],format='%Y-%m-%d')\n",
    "df_by_date = pd.DataFrame(df.groupby(['date','PERIODO_TS','LOCALIDAD']).size(),columns=[\"total_eventos\"])"
   ]
  },
  {
   "cell_type": "code",
   "execution_count": 7,
   "metadata": {},
   "outputs": [],
   "source": [
    "df_by_date = df_by_date.reset_index().set_index('date')"
   ]
  },
  {
   "cell_type": "code",
   "execution_count": 8,
   "metadata": {},
   "outputs": [
    {
     "data": {
      "text/plain": [
       "array(['ANTONIO NARIÑO', 'BARRIOS UNIDOS', 'BOSA', 'CANDELARIA',\n",
       "       'CHAPINERO', 'CIUDAD BOLIVAR', 'ENGATIVA', 'FONTIBON', 'KENNEDY',\n",
       "       'LOS MARTIRES', 'PUENTE ARANDA', 'RAFAEL URIBE URIBE',\n",
       "       'SAN CRISTOBAL', 'SANTA FE', 'SUBA', 'SUMAPAZ', 'TEUSAQUILLO',\n",
       "       'TUNJUELITO', 'USAQUEN', 'USME', 'SIN LOCALIZACION'], dtype=object)"
      ]
     },
     "execution_count": 8,
     "metadata": {},
     "output_type": "execute_result"
    }
   ],
   "source": [
    "df_by_date.LOCALIDAD.unique()"
   ]
  },
  {
   "cell_type": "code",
   "execution_count": null,
   "metadata": {},
   "outputs": [],
   "source": []
  },
  {
   "cell_type": "code",
   "execution_count": 10,
   "metadata": {},
   "outputs": [],
   "source": [
    "## Periodogram experiment"
   ]
  },
  {
   "cell_type": "code",
   "execution_count": 9,
   "metadata": {},
   "outputs": [],
   "source": [
    "# keep length windows of experiment 11 to set lT\n",
    "lenWindow = 7\n",
    "lT=(len(df['date'].unique())//lenWindow)*lenWindow "
   ]
  },
  {
   "cell_type": "code",
   "execution_count": 11,
   "metadata": {},
   "outputs": [],
   "source": [
    "df_by_localidad = df_by_date[df_by_date['LOCALIDAD'] == 'CIUDAD BOLIVAR']\n",
    "\n",
    "#Make sure dataset starts on Monday for the experiment\n",
    "df_by_localidad = set_initial_dataset_day(df_by_localidad,'Monday')\n",
    "\n",
    "#Make sure dataset include consecutive dates in period\n",
    "idx = pd.date_range(min(df_by_localidad.reset_index().date), max(df_by_localidad.reset_index().date))\n",
    "df_by_localidad = df_by_localidad.reindex(idx, fill_value=0)\n",
    "\n",
    "df_localidad_values = pd.Series(df_by_localidad['total_eventos']).values\n",
    "df_localidad_values = df_localidad_values[0:lT]\n",
    "\n",
    "df_localidad_values = df_localidad_values/(df_localidad_values.max())"
   ]
  },
  {
   "cell_type": "code",
   "execution_count": 43,
   "metadata": {},
   "outputs": [],
   "source": [
    "N = 512\n",
    "ar_seq, nz, alpha = utils.ar_generator(N=N, drop_transients=10)\n",
    "ar_seq -= ar_seq.mean()"
   ]
  },
  {
   "cell_type": "code",
   "execution_count": 44,
   "metadata": {},
   "outputs": [
    {
     "data": {
      "text/plain": [
       "array([ 2.7607, -3.8106,  2.6535, -0.9238])"
      ]
     },
     "execution_count": 44,
     "metadata": {},
     "output_type": "execute_result"
    }
   ],
   "source": [
    "alpha"
   ]
  },
  {
   "cell_type": "code",
   "execution_count": 45,
   "metadata": {},
   "outputs": [
    {
     "data": {
      "image/png": "[encoded data removed]",
      "text/plain": [
       "<Figure size 432x288 with 1 Axes>"
      ]
     },
     "metadata": {
      "needs_background": "light"
     },
     "output_type": "display_data"
    }
   ],
   "source": [
    "plt.plot(alpha)\n",
    "plt.show()"
   ]
  },
  {
   "cell_type": "code",
   "execution_count": 36,
   "metadata": {},
   "outputs": [
    {
     "data": {
      "image/png": "[encoded data removed]",
      "text/plain": [
       "<Figure size 432x288 with 1 Axes>"
      ]
     },
     "metadata": {
      "needs_background": "light"
     },
     "output_type": "display_data"
    }
   ],
   "source": [
    "plt.plot(ar_seq)\n",
    "plt.show()"
   ]
  },
  {
   "cell_type": "code",
   "execution_count": 22,
   "metadata": {},
   "outputs": [
    {
     "data": {
      "image/png": "[encoded data removed]",
      "text/plain": [
       "<Figure size 432x288 with 1 Axes>"
      ]
     },
     "metadata": {
      "needs_background": "light"
     },
     "output_type": "display_data"
    }
   ],
   "source": [
    "freqs, d_psd = tsa.periodogram(df_localidad_values)\n",
    "dB(d_psd, d_psd)\n",
    "fig03 = plot_spectral_estimate(freqs, d_psd, (d_psd,), elabels=(\"Periodogram\",))"
   ]
  },
  {
   "cell_type": "code",
   "execution_count": 26,
   "metadata": {},
   "outputs": [
    {
     "name": "stderr",
     "output_type": "stream",
     "text": [
      "/Users/anamaria/Desktop/dev/security_project/security_venv/lib/python3.7/site-packages/numpy/core/_asarray.py:85: ComplexWarning:\n",
      "\n",
      "Casting complex values to real discards the imaginary part\n",
      "\n"
     ]
    },
    {
     "data": {
      "image/png": "[encoded data removed]",
      "text/plain": [
       "<Figure size 432x288 with 1 Axes>"
      ]
     },
     "metadata": {
      "needs_background": "light"
     },
     "output_type": "display_data"
    }
   ],
   "source": [
    "N=len(df_localidad_values)\n",
    "welch_freqs, welch_psd = tsa.get_spectra(df_localidad_values,method=dict(this_method='welch', NFFT=N))\n",
    "welch_freqs *= (np.pi / welch_freqs.max())\n",
    "welch_psd = welch_psd.squeeze()\n",
    "dB(welch_psd, welch_psd)\n",
    "\n",
    "fig04 = plot_spectral_estimate(freqs, d_psd, (welch_psd,), elabels=(\"Welch\",))"
   ]
  },
  {
   "cell_type": "code",
   "execution_count": 27,
   "metadata": {},
   "outputs": [],
   "source": [
    "f, psd_mt, nu = tsa.multi_taper_psd(df_localidad_values, adaptive=False, jackknife=False)\n",
    "dB(psd_mt, psd_mt)"
   ]
  },
  {
   "cell_type": "code",
   "execution_count": 33,
   "metadata": {},
   "outputs": [
    {
     "data": {
      "text/plain": [
       "7.0"
      ]
     },
     "execution_count": 33,
     "metadata": {},
     "output_type": "execute_result"
    }
   ],
   "source": [
    "Kmax = nu[0] / 2\n",
    "Kmax"
   ]
  },
  {
   "cell_type": "code",
   "execution_count": 31,
   "metadata": {},
   "outputs": [],
   "source": [
    "ln2db = dB(np.e)"
   ]
  },
  {
   "cell_type": "code",
   "execution_count": 83,
   "metadata": {},
   "outputs": [
    {
     "data": {
      "image/png": "[encoded data removed]",
      "text/plain": [
       "<Figure size 432x288 with 1 Axes>"
      ]
     },
     "metadata": {
      "needs_background": "light"
     },
     "output_type": "display_data"
    }
   ],
   "source": [
    "import scipy.stats.distributions as dist\n",
    "\n",
    "p975 = dist.chi2.ppf(.975, 2 * Kmax)\n",
    "p025 = dist.chi2.ppf(.025, 2 * Kmax)\n",
    "\n",
    "l1 = ln2db * np.log(2 * Kmax / p975)\n",
    "l2 = ln2db * np.log(2 * Kmax / p025)\n",
    "\n",
    "hyp_limits = (psd_mt + l1, psd_mt + l2)\n",
    "\n",
    "fig05 = plot_spectral_estimate(freqs, psd_mt, (psd_mt,),elabels=(r\"MT with :math:`\\chi^{2}` 95% interval\",))"
   ]
  },
  {
   "cell_type": "code",
   "execution_count": 84,
   "metadata": {},
   "outputs": [
    {
     "data": {
      "text/plain": [
       "[<matplotlib.lines.Line2D at 0x1273bdac8>]"
      ]
     },
     "execution_count": 84,
     "metadata": {},
     "output_type": "execute_result"
    },
    {
     "data": {
      "image/png": "[encoded data removed]",
      "text/plain": [
       "<Figure size 432x288 with 1 Axes>"
      ]
     },
     "metadata": {
      "needs_background": "light"
     },
     "output_type": "display_data"
    }
   ],
   "source": [
    "plt.plot(freqs,psd_mt)"
   ]
  },
  {
   "cell_type": "code",
   "execution_count": 82,
   "metadata": {},
   "outputs": [
    {
     "data": {
      "text/plain": [
       "array([ 43, 261, 521, 780])"
      ]
     },
     "execution_count": 82,
     "metadata": {},
     "output_type": "execute_result"
    }
   ],
   "source": [
    "get_frequency_peaks(psd_mt, 200)"
   ]
  },
  {
   "cell_type": "code",
   "execution_count": 75,
   "metadata": {},
   "outputs": [
    {
     "name": "stdout",
     "output_type": "stream",
     "text": [
      "-8.82662587018405 0.8604395604395605 7.302297100298114\n",
      "-11.819273594525917 1.7175824175824175 3.65815651281729\n",
      "-15.259741644203 2.5714285714285716 2.443460952792061\n"
     ]
    }
   ],
   "source": [
    "import math\n",
    "print(psd_mt[261], freqs[261], 2*math.pi/freqs[261])\n",
    "print(psd_mt[521], freqs[521], 2*math.pi/freqs[521])\n",
    "print(psd_mt[780], freqs[780], 2*math.pi/freqs[780])"
   ]
  },
  {
   "cell_type": "code",
   "execution_count": 53,
   "metadata": {},
   "outputs": [
    {
     "data": {
      "text/plain": [
       "array([-28.34380396, -25.20494967, -25.95818367, -27.21583497,\n",
       "       -28.46814148, -32.60064417, -31.09920283, -27.76884371,\n",
       "       -27.68408592, -27.92302892, -28.11381175, -28.43089824,\n",
       "       -27.26078602, -27.76230088, -30.91589208, -31.779174  ,\n",
       "       -30.01711907, -27.49384754, -26.87911957, -27.56953517,\n",
       "       -27.84977846, -27.75234816, -26.30370757, -26.30897217,\n",
       "       -29.00800983, -29.24967538, -28.74125432, -26.72167594,\n",
       "       -26.7736464 , -28.35806095, -28.88821673, -28.25983052,\n",
       "       -26.65013151, -26.65744684, -29.28120122, -29.65321136,\n",
       "       -28.23005432, -25.35453669, -25.2819034 , -26.31666852,\n",
       "       -26.67724283, -26.34569416, -25.11256697, -24.985847  ,\n",
       "       -28.19974748, -28.59317998, -28.20157119, -27.47701679,\n",
       "       -27.5639071 , -29.97824817, -30.5497113 , -30.75509141,\n",
       "       -29.19065819, -29.10101533, -31.02141423, -30.86514516,\n",
       "       -29.7903681 , -29.69467473, -29.31375364, -30.75230293,\n",
       "       -31.00463467, -30.49506957, -30.30812562, -30.66519175,\n",
       "       -31.66824464, -31.96002789, -29.49221653, -26.83348477,\n",
       "       -27.1433479 , -27.46278494, -27.31056546, -26.89209531,\n",
       "       -25.86110803, -25.49442389, -28.45027436, -28.70086087,\n",
       "       -28.08629371, -27.50562831, -27.57049108, -29.85443955,\n",
       "       -30.28190046, -30.86592417, -29.75606954, -30.12424081,\n",
       "       -33.04579397, -32.96803062, -32.24175351, -30.1932243 ,\n",
       "       -29.9931691 , -31.82175088, -31.08209522, -29.63020653,\n",
       "       -29.08975012, -28.8062974 , -30.91663015, -29.84090582,\n",
       "       -29.22825832, -28.41022279, -28.3507195 , -29.80504685,\n",
       "       -30.18581816, -29.62504892, -28.92990037, -28.44165948,\n",
       "       -30.12051389, -30.11681404, -29.99615927, -29.47978806,\n",
       "       -29.83769748, -33.37725274, -33.99416691, -32.51212691,\n",
       "       -31.95620524, -32.15328498, -33.02523931, -33.06847057,\n",
       "       -29.9231216 , -29.81482313, -29.91981182, -31.8529929 ,\n",
       "       -32.09630225, -31.47884489, -31.07825366, -31.89956331,\n",
       "       -34.41074057, -34.40496276, -33.0437254 , -32.3497174 ,\n",
       "       -32.09491638, -33.54183155, -33.8060399 , -33.29515305,\n",
       "       -32.68793904, -33.53994584, -35.40171604, -35.55329684,\n",
       "       -34.52930741, -33.46467756, -33.01690392, -34.08802732,\n",
       "       -34.49765838, -33.29111674, -32.33098783, -32.67965779,\n",
       "       -32.74207213, -34.34439588, -31.70470316, -31.3081799 ,\n",
       "       -30.97671843, -31.3233522 , -31.35338449, -31.10066492,\n",
       "       -30.2528052 , -30.70100444, -31.44480291, -32.20444433,\n",
       "       -31.77684008, -30.8765765 , -32.30079307, -33.05909825,\n",
       "       -31.19967265, -32.11626773, -31.72203571, -32.13581983,\n",
       "       -33.17639514, -33.91596484, -32.93246813, -33.78721817,\n",
       "       -33.62808093, -33.66359574, -34.37057819, -33.92459921,\n",
       "       -34.16320718, -35.62165495, -35.87045754, -35.62384404,\n",
       "       -34.56987339, -33.37270862, -34.82242257, -34.37564674,\n",
       "       -33.67796038, -30.01063208, -30.21526929, -29.76110269,\n",
       "       -29.87509953, -29.49135786, -28.70582805, -27.62259146,\n",
       "       -28.37392044, -29.46278383, -29.6684604 , -28.96232437,\n",
       "       -29.30981227, -29.54294793, -31.45894164, -30.71520133,\n",
       "       -29.14795679, -29.01684702, -29.57790796, -29.89954018,\n",
       "       -29.60423939, -28.31345745, -28.08360864, -30.59069291,\n",
       "       -31.10326875, -31.09016602, -27.003333  , -26.89045317,\n",
       "       -27.45740439, -27.31785753, -26.97264898, -26.21520795,\n",
       "       -26.05385125, -27.93769759, -29.24570179, -28.20985738,\n",
       "       -26.17191932, -26.15333461, -27.00294344, -27.43575908,\n",
       "       -27.45346446, -24.88741971, -24.71641228, -26.93916517,\n",
       "       -27.11489239, -26.88682761, -25.14851227, -24.96558818,\n",
       "       -26.35785608, -27.61853891, -27.16967194, -25.47875194,\n",
       "       -25.3256794 , -27.65624161, -28.2488737 , -27.85582027,\n",
       "       -25.81011348, -25.6065457 , -28.03691783, -28.11512876,\n",
       "       -28.20427584, -26.03650404, -25.63868785, -28.15152005,\n",
       "       -28.37333809, -28.3184318 , -28.1071107 , -27.46156655,\n",
       "       -29.3205213 , -31.90386054, -30.6249228 , -28.73283559,\n",
       "       -27.10831937, -27.35572057, -27.99342726, -26.88633195,\n",
       "       -16.4808366 ,  -8.9788894 ,  -8.84524091,  -8.83391392,\n",
       "        -8.8438697 ,  -8.82662587,  -8.88185816,  -8.96049779,\n",
       "       -17.60681468, -27.97811919, -26.4956239 , -26.85652983,\n",
       "       -27.88208457, -28.53017725, -28.39015122, -27.45353197,\n",
       "       -26.44984974, -27.54644882, -28.52986233, -28.13948495,\n",
       "       -26.3688776 , -25.70944613, -26.92011559, -27.71743212,\n",
       "       -26.86988015, -26.08748893, -25.72512001, -26.56623492,\n",
       "       -27.86875019, -27.80828159, -25.71375893, -25.39633228,\n",
       "       -27.11411907, -27.26988823, -27.02700554, -26.31785536,\n",
       "       -26.11611001, -30.32035366, -30.15248834, -29.44536288,\n",
       "       -26.84365797, -26.64240927, -27.6768878 , -27.96218043,\n",
       "       -27.57534826, -25.78549026, -25.69684238, -27.82268392,\n",
       "       -28.13587686, -27.97647879, -26.70669637, -26.57499125,\n",
       "       -29.00231423, -29.44707998, -28.31463857, -26.92204579,\n",
       "       -26.83886425, -28.89092039, -29.01168963, -28.59845661,\n",
       "       -27.93789559, -27.75326541, -28.96829473, -28.98243117,\n",
       "       -29.14218432, -27.61188539, -27.09709566, -27.7619534 ,\n",
       "       -27.88208445, -27.74307096, -28.36342745, -28.25456591,\n",
       "       -29.87737598, -30.66886487, -30.63193875, -28.04288414,\n",
       "       -28.25269605, -30.23231319, -30.04332575, -29.97612428,\n",
       "       -28.66395906, -28.5094895 , -31.2163647 , -31.98293422,\n",
       "       -32.07069794, -30.33771905, -29.88757039, -31.85875351,\n",
       "       -31.78383787, -31.05855121, -30.96153878, -30.795957  ,\n",
       "       -32.09802488, -32.4350917 , -32.17604149, -32.02248133,\n",
       "       -31.5135381 , -32.78563175, -33.08159275, -31.65245513,\n",
       "       -32.8424189 , -32.57558268, -33.00128163, -35.34945245,\n",
       "       -35.12228795, -34.83091829, -35.40335313, -36.43040529,\n",
       "       -35.14098337, -34.36831759, -34.13149738, -33.79183169,\n",
       "       -34.71973924, -35.79268894, -34.01380746, -33.90744145,\n",
       "       -32.45814077, -32.49205129, -31.90506621, -31.47495751,\n",
       "       -31.36875069, -30.03918363, -31.26860496, -32.67108857,\n",
       "       -32.93755771, -32.80841   , -31.98496773, -31.43784898,\n",
       "       -33.4164728 , -34.45309054, -33.59547961, -33.28670039,\n",
       "       -33.37757977, -34.49753493, -37.58258026, -37.40423603,\n",
       "       -36.98843032, -38.78075257, -38.8744155 , -38.68402359,\n",
       "       -37.54594962, -36.47021703, -37.35597135, -37.01589274,\n",
       "       -33.6198088 , -32.8380384 , -31.81404496, -31.54401954,\n",
       "       -31.67534136, -31.80656908, -31.76266782, -32.59331221,\n",
       "       -33.32533049, -34.34412276, -31.78908747, -32.04529811,\n",
       "       -31.10943681, -31.09602884, -30.29786626, -30.79438567,\n",
       "       -30.79951765, -30.16703266, -31.39541575, -32.31476959,\n",
       "       -30.32712938, -30.71085582, -31.40079577, -31.56794157,\n",
       "       -32.2007919 , -30.95956234, -30.00029972, -31.59083289,\n",
       "       -31.30624832, -31.0505097 , -30.43361995, -30.30209408,\n",
       "       -30.31832289, -32.07352032, -31.90073721, -30.87062597,\n",
       "       -30.4986287 , -28.71898797, -29.2074027 , -29.98378962,\n",
       "       -26.97355561, -26.80645177, -26.68321579, -27.12089646,\n",
       "       -27.69847402, -28.23509275, -28.31783362, -28.99892957,\n",
       "       -31.2592812 , -32.52572215, -29.58805431, -29.02248558,\n",
       "       -28.60814763, -28.76500399, -29.08929604, -28.30613556,\n",
       "       -28.23461508, -28.34094037, -30.48339157, -30.91777988,\n",
       "       -28.91034234, -28.85030782, -29.89342832, -30.92286102,\n",
       "       -31.26678123, -30.37243115, -30.06495421, -30.7813713 ,\n",
       "       -32.22684268, -31.72187626, -29.1290351 , -28.99295597,\n",
       "       -28.81272231, -29.04972478, -29.64855944, -29.01196539,\n",
       "       -28.62652313, -28.16450006, -28.91184453, -29.11085049,\n",
       "       -27.75683552, -27.57711047, -27.38732645, -28.11552608,\n",
       "       -29.14299696, -28.80892688, -28.71467459, -30.48855506,\n",
       "       -31.0173076 , -31.62624857, -29.13823638, -28.5028785 ,\n",
       "       -28.9966161 , -29.36348616, -29.14270123, -27.65251124,\n",
       "       -27.40375947, -27.92524688, -28.40076056, -29.23367909,\n",
       "       -27.95222659, -27.61966411, -28.27772545, -29.14651795,\n",
       "       -29.16875214, -28.22890571, -28.01536644, -28.03059615,\n",
       "       -28.39373842, -29.67238517, -27.9166869 , -27.72999573,\n",
       "       -28.11649109, -28.03978118, -28.33462579, -25.65495545,\n",
       "       -19.26365198, -12.04968256, -11.91693769, -11.83889163,\n",
       "       -11.85892669, -11.81927359, -11.96445011, -12.08612637,\n",
       "       -20.2416043 , -26.82955483, -26.48199072, -27.40812448,\n",
       "       -27.70252681, -28.15633116, -25.79735276, -25.78974582,\n",
       "       -27.44229587, -27.69209732, -27.32618115, -26.32013208,\n",
       "       -26.10403946, -27.57899449, -29.16460513, -29.33743612,\n",
       "       -27.45140224, -27.35019469, -29.1598398 , -28.95285658,\n",
       "       -27.97135838, -26.5169421 , -26.20090791, -28.19880489,\n",
       "       -28.31608981, -28.37445754, -27.7446543 , -27.59025815,\n",
       "       -30.40105878, -30.87948822, -30.71379323, -28.81010877,\n",
       "       -28.41253235, -29.18238009, -29.50956363, -29.74478469,\n",
       "       -29.99089755, -29.7181967 , -32.41321945, -33.50234507,\n",
       "       -32.41629587, -31.3384975 , -31.06173413, -31.59895789,\n",
       "       -32.29738275, -32.2666137 , -30.98270526, -31.61153533,\n",
       "       -32.78549744, -32.88946896, -32.44945837, -31.99798464,\n",
       "       -32.02782982, -35.30213727, -35.3954493 , -32.96675257,\n",
       "       -32.60052166, -32.58916718, -33.58139901, -33.91205859,\n",
       "       -33.54813127, -32.98157092, -32.9109531 , -34.66164036,\n",
       "       -34.2049011 , -32.41133732, -32.20562049, -32.02514412,\n",
       "       -32.30018626, -32.52582651, -31.12061621, -30.78320664,\n",
       "       -31.27212341, -32.20548787, -32.4634926 , -31.738445  ,\n",
       "       -32.05887047, -31.62253459, -33.24091557, -33.34944921,\n",
       "       -32.42815282, -31.045845  , -30.85261425, -31.9153393 ,\n",
       "       -31.92114358, -32.01213105, -31.68786706, -29.88281766,\n",
       "       -32.25773411, -32.38315821, -30.7007302 , -30.2843624 ,\n",
       "       -30.45369753, -31.23233663, -31.64089788, -31.96611084,\n",
       "       -31.51546469, -31.05356941, -33.30998509, -33.60435093,\n",
       "       -32.96509375, -32.9201371 , -32.85832774, -35.26050425,\n",
       "       -34.96158246, -34.68231653, -33.05220535, -31.19488764,\n",
       "       -31.96796683, -31.8334651 , -31.82073889, -32.44316269,\n",
       "       -31.84558346, -35.2450832 , -35.49037417, -35.510507  ,\n",
       "       -35.93419001, -34.77104695, -35.11429838, -35.23619075,\n",
       "       -35.33635753, -34.83188504, -33.78809744, -34.18438291,\n",
       "       -33.36448865, -33.43071707, -33.82457684, -33.95928674,\n",
       "       -34.09375017, -34.49631575, -34.63785169, -35.26645495,\n",
       "       -36.27550578, -36.71739692, -36.25224408, -37.17888425,\n",
       "       -36.91099469, -36.40287817, -37.6162377 , -37.50624408,\n",
       "       -37.17952481, -34.82992156, -35.45736268, -35.7824929 ,\n",
       "       -34.53373069, -34.21250585, -33.48703993, -33.35809561,\n",
       "       -34.78420038, -34.70895531, -35.44801857, -35.14908587,\n",
       "       -32.7597534 , -33.25068838, -32.9492487 , -31.7819621 ,\n",
       "       -31.57661342, -31.53812102, -31.65295759, -33.08760975,\n",
       "       -34.64777817, -33.61673085, -34.06320166, -35.29011876,\n",
       "       -35.57650942, -35.66516821, -35.30437703, -35.2141413 ,\n",
       "       -35.61426   , -36.62153823, -35.28293305, -35.045317  ,\n",
       "       -34.96193629, -36.48942001, -36.65983195, -35.55399011,\n",
       "       -35.06357602, -30.48676009, -30.3675506 , -30.18743024,\n",
       "       -29.87719975, -29.69420647, -29.45906945, -29.68059705,\n",
       "       -30.65149567, -31.53489645, -31.4685508 , -32.28775058,\n",
       "       -32.74301564, -32.9256455 , -34.44507859, -35.16687902,\n",
       "       -34.70954075, -35.92472574, -35.42973491, -35.54983281,\n",
       "       -36.46887043, -34.00898045, -34.60212515, -34.36857723,\n",
       "       -32.56606835, -32.36780173, -31.70824569, -31.92117185,\n",
       "       -31.87461915, -30.13949724, -29.89438394, -30.51704024,\n",
       "       -30.97054476, -30.93151309, -30.41552806, -30.12314052,\n",
       "       -31.44672561, -32.93856084, -32.42765243, -28.99159913,\n",
       "       -28.33794725, -27.37632749, -27.37821544, -27.26761407,\n",
       "       -26.75119635, -26.81370339, -27.21169784, -27.95118811,\n",
       "       -29.28911103, -28.4435891 , -28.07350836, -27.94359519,\n",
       "       -28.43348634, -29.15390434, -27.53436187, -27.38833504,\n",
       "       -27.82780696, -28.67762796, -28.65354021, -27.90798917,\n",
       "       -27.86583518, -28.42011467, -29.60264119, -30.22358742,\n",
       "       -29.09227899, -28.99315474, -29.85537269, -29.65739161,\n",
       "       -29.51747128, -28.32331242, -28.23423113, -28.64204373,\n",
       "       -29.32713999, -30.52308217, -29.64974917, -29.81791624,\n",
       "       -22.05328797, -15.49793244, -15.45778455, -15.33943789,\n",
       "       -15.25974164, -15.35358526, -15.35013335, -15.43492366,\n",
       "       -24.25666488, -30.15307904, -30.37985268, -29.92704793,\n",
       "       -30.10614348, -30.06484203, -29.84634715, -30.73536928,\n",
       "       -32.16334248, -33.24059535, -32.03758051, -31.45537646,\n",
       "       -31.37235277, -31.27965646, -32.21393351, -31.47504612,\n",
       "       -31.00384266, -31.29697308, -31.21039256, -30.31319177,\n",
       "       -29.57232544, -29.28623028, -28.93051796, -29.11553037,\n",
       "       -29.45795989, -29.38177275, -29.26994474, -30.99128985,\n",
       "       -31.22713001, -33.04185526, -31.92568021, -30.8825543 ,\n",
       "       -31.65003473, -31.4955436 , -31.4049688 , -30.62706445,\n",
       "       -29.82996393, -31.07793349, -31.17948045, -30.80598584,\n",
       "       -30.04457057, -29.47737624, -31.042493  , -31.49173084,\n",
       "       -32.03327063, -31.05634511, -30.23109069, -33.04505325,\n",
       "       -33.34083147, -31.60431721, -29.87310913, -29.43346039,\n",
       "       -30.235607  , -30.18702074, -30.34161525, -29.94774495,\n",
       "       -29.25223349, -32.68992915, -32.70251821, -31.44105747,\n",
       "       -31.13862499, -30.29342362, -30.73739268, -30.22693092,\n",
       "       -30.49171209, -30.06574566, -29.64750614, -31.01616843,\n",
       "       -30.42117501, -30.76682364, -30.81320111, -30.13461197,\n",
       "       -31.48414535, -31.2203368 , -31.3729652 , -32.13947828,\n",
       "       -31.71668344, -32.12705119, -32.26521634, -33.80701727,\n",
       "       -33.93221756, -33.68885163, -35.71637567, -36.21779617,\n",
       "       -35.25374442, -32.79446725, -31.97480207, -31.9739345 ,\n",
       "       -31.86237803, -31.56483373, -30.6700003 , -30.84758377,\n",
       "       -34.48672133, -35.20608625, -35.34402423, -35.4470276 ,\n",
       "       -34.59766454, -37.6527293 , -37.26838388, -37.7135241 ,\n",
       "       -37.54288724, -38.05686173, -36.70688514, -35.82908161,\n",
       "       -35.53505609, -35.91330135, -36.55934643, -34.59426292,\n",
       "       -34.67574043, -34.82311852, -35.37772525, -36.49980245,\n",
       "       -36.25902348, -36.56040893, -39.12826321, -38.76197824,\n",
       "       -39.11859599, -38.67857065, -39.88441801, -38.39169283,\n",
       "       -38.88814272, -38.17074819, -38.32768014, -38.32030369,\n",
       "       -38.57310245, -37.95453395, -40.06230834])"
      ]
     },
     "execution_count": 53,
     "metadata": {},
     "output_type": "execute_result"
    }
   ],
   "source": [
    "psd_mt"
   ]
  },
  {
   "cell_type": "markdown",
   "metadata": {},
   "source": [
    "# Results\n",
    "## Experiment localidades with high predictability and low predictability variance"
   ]
  },
  {
   "cell_type": "code",
   "execution_count": null,
   "metadata": {},
   "outputs": [],
   "source": [
    "localidadesList = ['CIUDAD BOLIVAR','BOSA','USME','SAN CRISTOBAL','RAFAEL URIBE URIBE','SUBA','KENNEDY']"
   ]
  },
  {
   "cell_type": "code",
   "execution_count": null,
   "metadata": {},
   "outputs": [],
   "source": [
    "# keep length windows of experiment 11 to set lT\n",
    "lenWindow = 7\n",
    "lT=(len(df['date'].unique())//lenWindow)*lenWindow "
   ]
  },
  {
   "cell_type": "code",
   "execution_count": null,
   "metadata": {
    "scrolled": false
   },
   "outputs": [],
   "source": [
    "peaks={}\n",
    "\n",
    "for localidad in localidadesList:\n",
    "    df_by_localidad = df_by_date[df_by_date['LOCALIDAD'] == localidad]\n",
    "    \n",
    "    #Make sure dataset starts on Monday for the experiment\n",
    "    df_by_localidad = set_initial_dataset_day(df_by_localidad,'Monday')\n",
    "\n",
    "    #Make sure dataset include consecutive dates in period\n",
    "    idx = pd.date_range(min(df_by_localidad.reset_index().date), max(df_by_localidad.reset_index().date))\n",
    "    df_by_localidad = df_by_localidad.reindex(idx, fill_value=0)\n",
    "    \n",
    "    df_localidad_values = pd.Series(df_by_localidad['total_eventos']).values\n",
    "    df_localidad_values = df_localidad_values[0:lT]\n",
    "    \n",
    "    df_localidad_values = df_localidad_values/(df_localidad_values.max())\n",
    "    \n",
    "    fft_localidad = fourier_analysis(df_localidad_values)\n",
    "    fig, ax = plt.subplots(1,1,sharex=True, sharey=True)\n",
    "    ax.plot(fft_localidad[1:])\n",
    "    plt.ylabel(\"Amplitude\")\n",
    "    plt.xlabel(\"Frequency\")\n",
    "    plt.show()\n",
    "    \n",
    "    plot_fft_period_axis(df_localidad_values,fft_localidad)\n",
    "    \n",
    "    peaks[localidad]={}\n",
    "    peak_points = get_frequency_peaks(fft_localidad, 90)\n",
    "    peak_values = get_peaks_magnitude(fft_localidad,peak_points)\n",
    "    peak_periods = get_peaks_period(list(peak_points),len(df_localidad_values))\n",
    "    peaks[localidad]['frequency']=list(peak_points)\n",
    "    peaks[localidad]['periods']=peak_periods\n",
    "    peaks[localidad]['values']=peak_values   \n",
    "    print(localidad+': '+str(peaks[localidad]))"
   ]
  },
  {
   "cell_type": "markdown",
   "metadata": {},
   "source": [
    "## Experiment localidades with medium predictability values and variance"
   ]
  },
  {
   "cell_type": "code",
   "execution_count": null,
   "metadata": {},
   "outputs": [],
   "source": [
    "localidadesList = ['ENGATIVA','TUNJUELITO','FONTIBON','USAQUEN']"
   ]
  },
  {
   "cell_type": "code",
   "execution_count": null,
   "metadata": {
    "scrolled": false
   },
   "outputs": [],
   "source": [
    "peaks={}\n",
    "\n",
    "for localidad in localidadesList:\n",
    "    df_by_localidad = df_by_date[df_by_date['LOCALIDAD'] == localidad]\n",
    "    \n",
    "    #Make sure dataset starts on Monday for the experiment\n",
    "    df_by_localidad = set_initial_dataset_day(df_by_localidad,'Monday')\n",
    "\n",
    "    #Make sure dataset include consecutive dates in period\n",
    "    idx = pd.date_range(min(df_by_localidad.reset_index().date), max(df_by_localidad.reset_index().date))\n",
    "    df_by_localidad = df_by_localidad.reindex(idx, fill_value=0)\n",
    "    \n",
    "    df_localidad_values = pd.Series(df_by_localidad['total_eventos']).values\n",
    "    df_localidad_values = df_localidad_values[0:lT]\n",
    "    \n",
    "    df_localidad_values = df_localidad_values/(df_localidad_values.max())\n",
    "    \n",
    "    fft_localidad = fourier_analysis(df_localidad_values)\n",
    "    fig, ax = plt.subplots(1,1,sharex=True, sharey=True)\n",
    "    ax.plot(fft_localidad[1:])\n",
    "    plt.ylabel(\"Amplitude\")\n",
    "    plt.xlabel(\"Frequency\")\n",
    "    plt.show()\n",
    "    \n",
    "    plot_fft_period_axis(df_localidad_values,fft_localidad)\n",
    "    \n",
    "    peaks[localidad]={}\n",
    "    peak_points = get_frequency_peaks(fft_localidad, 90)\n",
    "    peak_values = get_peaks_magnitude(fft_localidad,peak_points)\n",
    "    peak_periods = get_peaks_period(list(peak_points),len(df_localidad_values))\n",
    "    peaks[localidad]['frequency']=list(peak_points)\n",
    "    peaks[localidad]['periods']=peak_periods\n",
    "    peaks[localidad]['values']=peak_values   \n",
    "    print(localidad+': '+str(peaks[localidad]))"
   ]
  },
  {
   "cell_type": "markdown",
   "metadata": {},
   "source": [
    "## Experiment localidades with low predictability values and high predictability variance"
   ]
  },
  {
   "cell_type": "code",
   "execution_count": null,
   "metadata": {},
   "outputs": [],
   "source": [
    "localidadesList = ['ANTONIO NARIÑO','SANTA FE','CANDELARIA','BARRIOS UNIDOS','LOS MARTIRES']"
   ]
  },
  {
   "cell_type": "code",
   "execution_count": null,
   "metadata": {
    "scrolled": false
   },
   "outputs": [],
   "source": [
    "peaks={}\n",
    "\n",
    "for localidad in localidadesList:\n",
    "    df_by_localidad = df_by_date[df_by_date['LOCALIDAD'] == localidad]\n",
    "    \n",
    "    #Make sure dataset starts on Monday for the experiment\n",
    "    df_by_localidad = set_initial_dataset_day(df_by_localidad,'Monday')\n",
    "\n",
    "    #Make sure dataset include consecutive dates in period\n",
    "    idx = pd.date_range(min(df_by_localidad.reset_index().date), max(df_by_localidad.reset_index().date))\n",
    "    df_by_localidad = df_by_localidad.reindex(idx, fill_value=0)\n",
    "    \n",
    "    df_localidad_values = pd.Series(df_by_localidad['total_eventos']).values\n",
    "    df_localidad_values = df_localidad_values[0:lT]\n",
    "    \n",
    "    df_localidad_values = df_localidad_values/(df_localidad_values.max())\n",
    "    \n",
    "    fft_localidad = fourier_analysis(df_localidad_values)\n",
    "    fig, ax = plt.subplots(1,1,sharex=True, sharey=True)\n",
    "    ax.plot(fft_localidad[1:])\n",
    "    plt.ylabel(\"Amplitude\")\n",
    "    plt.xlabel(\"Frequency\")\n",
    "    plt.show()\n",
    "    \n",
    "    plot_fft_period_axis(df_localidad_values,fft_localidad)\n",
    "    \n",
    "    peaks[localidad]={}\n",
    "    peak_points = get_frequency_peaks(fft_localidad, 90)\n",
    "    peak_values = get_peaks_magnitude(fft_localidad,peak_points)\n",
    "    peak_periods = get_peaks_period(list(peak_points),len(df_localidad_values))\n",
    "    peaks[localidad]['frequency']=list(peak_points)\n",
    "    peaks[localidad]['periods']=peak_periods\n",
    "    peaks[localidad]['values']=peak_values   \n",
    "    print(localidad+': '+str(peaks[localidad]))"
   ]
  },
  {
   "cell_type": "code",
   "execution_count": null,
   "metadata": {},
   "outputs": [],
   "source": []
  },
  {
   "cell_type": "markdown",
   "metadata": {},
   "source": [
    "## Experiment particular localidades"
   ]
  },
  {
   "cell_type": "code",
   "execution_count": null,
   "metadata": {},
   "outputs": [],
   "source": [
    "localidadesList = ['PUENTE ARANDA','CHAPINERO','TEUSAQUILLO']"
   ]
  },
  {
   "cell_type": "code",
   "execution_count": null,
   "metadata": {
    "scrolled": false
   },
   "outputs": [],
   "source": [
    "peaks={}\n",
    "\n",
    "for localidad in localidadesList:\n",
    "    df_by_localidad = df_by_date[df_by_date['LOCALIDAD'] == localidad]\n",
    "    \n",
    "    #Make sure dataset starts on Monday for the experiment\n",
    "    df_by_localidad = set_initial_dataset_day(df_by_localidad,'Monday')\n",
    "\n",
    "    #Make sure dataset include consecutive dates in period\n",
    "    idx = pd.date_range(min(df_by_localidad.reset_index().date), max(df_by_localidad.reset_index().date))\n",
    "    df_by_localidad = df_by_localidad.reindex(idx, fill_value=0)\n",
    "    \n",
    "    df_localidad_values = pd.Series(df_by_localidad['total_eventos']).values\n",
    "    df_localidad_values = df_localidad_values[0:lT]\n",
    "    \n",
    "    df_localidad_values = df_localidad_values/(df_localidad_values.max())\n",
    "    \n",
    "    fft_localidad = fourier_analysis(df_localidad_values)\n",
    "    fig, ax = plt.subplots(1,1,sharex=True, sharey=True)\n",
    "    ax.plot(fft_localidad[1:])\n",
    "    plt.ylabel(\"Amplitude\")\n",
    "    plt.xlabel(\"Frequency\")\n",
    "    plt.show()\n",
    "    \n",
    "    plot_fft_period_axis(df_localidad_values,fft_localidad)\n",
    "    \n",
    "    peaks[localidad]={}\n",
    "    peak_points = get_frequency_peaks(fft_localidad, 90)\n",
    "    peak_values = get_peaks_magnitude(fft_localidad,peak_points)\n",
    "    peak_periods = get_peaks_period(list(peak_points),len(df_localidad_values))\n",
    "    peaks[localidad]['frequency']=list(peak_points)\n",
    "    peaks[localidad]['periods']=peak_periods\n",
    "    peaks[localidad]['values']=peak_values   \n",
    "    print(localidad+': '+str(peaks[localidad]))"
   ]
  }
 ],
 "metadata": {
  "kernelspec": {
   "display_name": "Python 3",
   "language": "python",
   "name": "python3"
  },
  "language_info": {
   "codemirror_mode": {
    "name": "ipython",
    "version": 3
   },
   "file_extension": ".py",
   "mimetype": "text/x-python",
   "name": "python",
   "nbconvert_exporter": "python",
   "pygments_lexer": "ipython3",
   "version": "3.7.2"
  }
 },
 "nbformat": 4,
 "nbformat_minor": 2
}
