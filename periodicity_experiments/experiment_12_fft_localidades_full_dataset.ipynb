{
 "cells": [
  {
   "cell_type": "markdown",
   "metadata": {},
   "source": [
    "# Experiment description\n",
    "## Hypothesis: \n",
    "Peaks identified on sample dataset (3.5 and 7 days periods) are also observed on localidades with higher predictability on full dataset. \n",
    "## Method: \n",
    "Fourier analysis to identify periodicity on time series signals by localidad. Time series to analyze***:\n",
    "\n",
    "- Localidades with high predictability (P>0.7) and low variance (variance < 0.2): Ciudad Bolívar, Bosa, Usme, San Cristobal, Rafael Uribe Uribe, Suba, Kennedy. \n",
    "- Localidades with medium predictability ([0.4, 0.7]) and variance ([0.2, 0.4]): Engativa, Tunjuelito, Fontibon, Usaquen\n",
    "- Localidades with low predictability (P < 0.4) and high variance (variance > 0.4): Antonio Nariño, Santa Fe, Candelaria, Barrios Unidos y Mártires.\n",
    "\n",
    "** Localidades that dont fit on former classification: Puente Aranda, Chapinero, Teusaquillo\n",
    "\n",
    "*** Classification based on predictability results obtained on experiment 08 and variance of experiment 11"
   ]
  },
  {
   "cell_type": "markdown",
   "metadata": {},
   "source": [
    "## Built-in methods"
   ]
  },
  {
   "cell_type": "code",
   "execution_count": null,
   "metadata": {},
   "outputs": [],
   "source": [
    "import pandas as pd\n",
    "import numpy as np\n",
    "import matplotlib.pyplot as plt\n",
    "from IPython.display import display, HTML\n",
    "import plotly.express as px\n",
    "import plotly.graph_objects as go\n",
    "import seaborn as sns\n",
    "import calendar\n",
    "import scipy as sp\n",
    "import scipy.fftpack\n",
    "from scipy.signal import find_peaks\n",
    "\n",
    "pd.set_option('display.max_colwidth', -1)\n",
    "pd.set_option('display.max_columns', None)"
   ]
  },
  {
   "cell_type": "code",
   "execution_count": null,
   "metadata": {},
   "outputs": [],
   "source": [
    "def set_initial_dataset_day(df_by_date,name_day):\n",
    "    df_by_date = df_by_date.reset_index()\n",
    "    df_by_date['day_of_week'] = df_by_date['date'].dt.day_name()\n",
    "    monday_idx = df_by_date.index[df_by_date['day_of_week'] == name_day].tolist()[0]\n",
    "    df_by_date = df_by_date[monday_idx:].set_index('date').drop(['day_of_week'],axis=1)\n",
    "    return df_by_date"
   ]
  },
  {
   "cell_type": "code",
   "execution_count": null,
   "metadata": {},
   "outputs": [],
   "source": [
    "def low_pass_filter(signal, fc =0.04, b =0.08):\n",
    "    N = int(np.ceil((4 / b)))\n",
    "    if not N % 2: N += 1\n",
    "    n = np.arange(N)\n",
    "\n",
    "    sinc_func = np.sinc(2 * fc * (n - (N - 1) / 2.))\n",
    "    window = 0.42 - 0.5 * np.cos(2 * np.pi * n / (N - 1)) + 0.08 * np.cos(4 * np.pi * n / (N - 1))\n",
    "    sinc_func = sinc_func * window\n",
    "    sinc_func = sinc_func / np.sum(sinc_func)\n",
    "\n",
    "    s = signal\n",
    "    s = s - np.nanmean(s)\n",
    "    filtered_signal = np.convolve(s, sinc_func)\n",
    "    return filtered_signal"
   ]
  },
  {
   "cell_type": "code",
   "execution_count": null,
   "metadata": {},
   "outputs": [],
   "source": [
    "def fourier_analysis(signal):\n",
    "    time = range(len(signal))\n",
    "    fftdata = np.fft.fft(signal)\n",
    "    fftdatafreq = np.zeros((len(signal)))\n",
    "\n",
    "    for i in range(len(fftdata)):\n",
    "        fftdatafreq[i] = abs(fftdata[i].real)\n",
    "\n",
    "    #plt.ylabel(\"Amplitude\")\n",
    "    #plt.xlabel(\"Frequency\")\n",
    "    \n",
    "    unilateral_fft = fftdatafreq[0:len(fftdatafreq) // 2]\n",
    "    #plt.plot(time[1:len(fftdatafreq) // 2], unilateral_fft[1:])\n",
    "    return unilateral_fft"
   ]
  },
  {
   "cell_type": "code",
   "execution_count": null,
   "metadata": {},
   "outputs": [],
   "source": [
    "def get_max_frequencies(unilateral_fft_signal,fs_original_signal):\n",
    "    max_freq = unilateral_fft_signal.argsort()[-10:][::-1]\n",
    "    print('Max frequencies: ',max_freq)\n",
    "    periodicity = fs_original_signal/max_freq\n",
    "    print('Periods: ', periodicity)"
   ]
  },
  {
   "cell_type": "code",
   "execution_count": null,
   "metadata": {},
   "outputs": [],
   "source": [
    "def get_frequency_peaks(unilateral_fft, custom_distance):\n",
    "    peaks, _ = find_peaks(unilateral_fft, distance = custom_distance)\n",
    "    return peaks"
   ]
  },
  {
   "cell_type": "code",
   "execution_count": null,
   "metadata": {},
   "outputs": [],
   "source": [
    "def get_peaks_magnitude(unilateral_fft, peaks_location_array):\n",
    "    peaks_magnitude = []\n",
    "    for peak in peaks_location_array:\n",
    "        magnitude = round(unilateral_fft[peak],2)\n",
    "        peaks_magnitude.append(magnitude)\n",
    "    return peaks_magnitude"
   ]
  },
  {
   "cell_type": "code",
   "execution_count": null,
   "metadata": {},
   "outputs": [],
   "source": [
    "def get_peaks_period(array_frequency_peaks,fs):\n",
    "    peaks_period = []\n",
    "    for peak in array_frequency_peaks:\n",
    "        period = round((fs/peak),2)\n",
    "        peaks_period.append(period)\n",
    "    return peaks_period"
   ]
  },
  {
   "cell_type": "code",
   "execution_count": null,
   "metadata": {},
   "outputs": [],
   "source": [
    "def get_periods_by_peak(peaks,n_periods):\n",
    "    period_values_array = {}\n",
    "    for period in range(n_periods):\n",
    "        period_values_array[period]=[]\n",
    "        for peak in peaks:\n",
    "            current_period = peaks[peak]['periods'][period]\n",
    "            period_values_array[period].append(current_period)\n",
    "\n",
    "    return period_values_array"
   ]
  },
  {
   "cell_type": "code",
   "execution_count": null,
   "metadata": {},
   "outputs": [],
   "source": [
    "def plot_fft_period_axis(signal_time_domain,unilateral_fft):\n",
    "    fs = len(signal_time_domain)\n",
    "    samples_fft = len(unilateral_fft)\n",
    "    inv=unilateral_fft[1:][::-1]\n",
    "    #inv = low_pass_filter(inv, fc =0.08, b =0.08)\n",
    "    #samples_inv = len(inv) +1\n",
    "    points_x = np.arange(samples_fft)\n",
    "    period = fs/(samples_fft - points_x[1:])\n",
    "    inv = inv/inv.max()\n",
    "    \n",
    "    fig, ax = plt.subplots(1,1,sharex=True, sharey=True)\n",
    "    ax.plot(period,inv)\n",
    "    plt.ylabel(\"Amplitude\")\n",
    "    plt.xlabel(\"Period (in days)\")\n",
    "    plt.axis([0, 15, 0, 1.2])\n",
    "    plt.show()\n",
    "    "
   ]
  },
  {
   "cell_type": "markdown",
   "metadata": {},
   "source": [
    "## Data"
   ]
  },
  {
   "cell_type": "code",
   "execution_count": null,
   "metadata": {},
   "outputs": [],
   "source": [
    "data_location = '/Users/anamaria/Desktop/dev/security_project/datasets/06. verify_enrich_nuse_11022020.csv'\n",
    "df_input = pd.read_csv(data_location,delimiter=\",\")"
   ]
  },
  {
   "cell_type": "code",
   "execution_count": null,
   "metadata": {},
   "outputs": [],
   "source": [
    "df = df_input.copy()"
   ]
  },
  {
   "cell_type": "code",
   "execution_count": null,
   "metadata": {},
   "outputs": [],
   "source": [
    "df = df.loc[df['ANIO']!= 2019]\n",
    "df['date']=pd.to_datetime(df['FECHA']).dt.strftime('%Y-%m-%d')\n",
    "df['date']=pd.to_datetime(df['date'],format='%Y-%m-%d')\n",
    "df_by_date = pd.DataFrame(df.groupby(['date','PERIODO_TS','LOCALIDAD']).size(),columns=[\"total_eventos\"])"
   ]
  },
  {
   "cell_type": "code",
   "execution_count": null,
   "metadata": {},
   "outputs": [],
   "source": [
    "df_by_date = df_by_date.reset_index().set_index('date')"
   ]
  },
  {
   "cell_type": "code",
   "execution_count": null,
   "metadata": {},
   "outputs": [],
   "source": [
    "df_by_date.LOCALIDAD.unique()"
   ]
  },
  {
   "cell_type": "markdown",
   "metadata": {},
   "source": [
    "# Results\n",
    "## Experiment localidades with high predictability and low predictability variance"
   ]
  },
  {
   "cell_type": "code",
   "execution_count": null,
   "metadata": {},
   "outputs": [],
   "source": [
    "localidadesList = ['CIUDAD BOLIVAR','BOSA','USME','SAN CRISTOBAL','RAFAEL URIBE URIBE','SUBA','KENNEDY']"
   ]
  },
  {
   "cell_type": "code",
   "execution_count": null,
   "metadata": {},
   "outputs": [],
   "source": [
    "# keep length windows of experiment 11 to set lT\n",
    "lenWindow = 7\n",
    "lT=(len(df['date'].unique())//lenWindow)*lenWindow "
   ]
  },
  {
   "cell_type": "code",
   "execution_count": null,
   "metadata": {
    "scrolled": false
   },
   "outputs": [],
   "source": [
    "peaks={}\n",
    "\n",
    "for localidad in localidadesList:\n",
    "    df_by_localidad = df_by_date[df_by_date['LOCALIDAD'] == localidad]\n",
    "    \n",
    "    #Make sure dataset starts on Monday for the experiment\n",
    "    df_by_localidad = set_initial_dataset_day(df_by_localidad,'Monday')\n",
    "\n",
    "    #Make sure dataset include consecutive dates in period\n",
    "    idx = pd.date_range(min(df_by_localidad.reset_index().date), max(df_by_localidad.reset_index().date))\n",
    "    df_by_localidad = df_by_localidad.reindex(idx, fill_value=0)\n",
    "    \n",
    "    df_localidad_values = pd.Series(df_by_localidad['total_eventos']).values\n",
    "    df_localidad_values = df_localidad_values[0:lT]\n",
    "    \n",
    "    df_localidad_values = df_localidad_values/(df_localidad_values.max())\n",
    "    \n",
    "    fft_localidad = fourier_analysis(df_localidad_values)\n",
    "    fig, ax = plt.subplots(1,1,sharex=True, sharey=True)\n",
    "    ax.plot(fft_localidad[1:])\n",
    "    plt.ylabel(\"Amplitude\")\n",
    "    plt.xlabel(\"Frequency\")\n",
    "    plt.show()\n",
    "    \n",
    "    plot_fft_period_axis(df_localidad_values,fft_localidad)\n",
    "    \n",
    "    peaks[localidad]={}\n",
    "    peak_points = get_frequency_peaks(fft_localidad, 90)\n",
    "    peak_values = get_peaks_magnitude(fft_localidad,peak_points)\n",
    "    peak_periods = get_peaks_period(list(peak_points),len(df_localidad_values))\n",
    "    peaks[localidad]['frequency']=list(peak_points)\n",
    "    peaks[localidad]['periods']=peak_periods\n",
    "    peaks[localidad]['values']=peak_values   \n",
    "    print(localidad+': '+str(peaks[localidad]))"
   ]
  },
  {
   "cell_type": "markdown",
   "metadata": {},
   "source": [
    "## Experiment localidades with medium predictability values and variance"
   ]
  },
  {
   "cell_type": "code",
   "execution_count": null,
   "metadata": {},
   "outputs": [],
   "source": [
    "localidadesList = ['ENGATIVA','TUNJUELITO','FONTIBON','USAQUEN']"
   ]
  },
  {
   "cell_type": "code",
   "execution_count": null,
   "metadata": {
    "scrolled": false
   },
   "outputs": [],
   "source": [
    "peaks={}\n",
    "\n",
    "for localidad in localidadesList:\n",
    "    df_by_localidad = df_by_date[df_by_date['LOCALIDAD'] == localidad]\n",
    "    \n",
    "    #Make sure dataset starts on Monday for the experiment\n",
    "    df_by_localidad = set_initial_dataset_day(df_by_localidad,'Monday')\n",
    "\n",
    "    #Make sure dataset include consecutive dates in period\n",
    "    idx = pd.date_range(min(df_by_localidad.reset_index().date), max(df_by_localidad.reset_index().date))\n",
    "    df_by_localidad = df_by_localidad.reindex(idx, fill_value=0)\n",
    "    \n",
    "    df_localidad_values = pd.Series(df_by_localidad['total_eventos']).values\n",
    "    df_localidad_values = df_localidad_values[0:lT]\n",
    "    \n",
    "    df_localidad_values = df_localidad_values/(df_localidad_values.max())\n",
    "    \n",
    "    fft_localidad = fourier_analysis(df_localidad_values)\n",
    "    fig, ax = plt.subplots(1,1,sharex=True, sharey=True)\n",
    "    ax.plot(fft_localidad[1:])\n",
    "    plt.ylabel(\"Amplitude\")\n",
    "    plt.xlabel(\"Frequency\")\n",
    "    plt.show()\n",
    "    \n",
    "    plot_fft_period_axis(df_localidad_values,fft_localidad)\n",
    "    \n",
    "    peaks[localidad]={}\n",
    "    peak_points = get_frequency_peaks(fft_localidad, 90)\n",
    "    peak_values = get_peaks_magnitude(fft_localidad,peak_points)\n",
    "    peak_periods = get_peaks_period(list(peak_points),len(df_localidad_values))\n",
    "    peaks[localidad]['frequency']=list(peak_points)\n",
    "    peaks[localidad]['periods']=peak_periods\n",
    "    peaks[localidad]['values']=peak_values   \n",
    "    print(localidad+': '+str(peaks[localidad]))"
   ]
  },
  {
   "cell_type": "markdown",
   "metadata": {},
   "source": [
    "## Experiment localidades with low predictability values and high predictability variance"
   ]
  },
  {
   "cell_type": "code",
   "execution_count": null,
   "metadata": {},
   "outputs": [],
   "source": [
    "localidadesList = ['ANTONIO NARIÑO','SANTA FE','CANDELARIA','BARRIOS UNIDOS','LOS MARTIRES']"
   ]
  },
  {
   "cell_type": "code",
   "execution_count": null,
   "metadata": {
    "scrolled": false
   },
   "outputs": [],
   "source": [
    "peaks={}\n",
    "\n",
    "for localidad in localidadesList:\n",
    "    df_by_localidad = df_by_date[df_by_date['LOCALIDAD'] == localidad]\n",
    "    \n",
    "    #Make sure dataset starts on Monday for the experiment\n",
    "    df_by_localidad = set_initial_dataset_day(df_by_localidad,'Monday')\n",
    "\n",
    "    #Make sure dataset include consecutive dates in period\n",
    "    idx = pd.date_range(min(df_by_localidad.reset_index().date), max(df_by_localidad.reset_index().date))\n",
    "    df_by_localidad = df_by_localidad.reindex(idx, fill_value=0)\n",
    "    \n",
    "    df_localidad_values = pd.Series(df_by_localidad['total_eventos']).values\n",
    "    df_localidad_values = df_localidad_values[0:lT]\n",
    "    \n",
    "    df_localidad_values = df_localidad_values/(df_localidad_values.max())\n",
    "    \n",
    "    fft_localidad = fourier_analysis(df_localidad_values)\n",
    "    fig, ax = plt.subplots(1,1,sharex=True, sharey=True)\n",
    "    ax.plot(fft_localidad[1:])\n",
    "    plt.ylabel(\"Amplitude\")\n",
    "    plt.xlabel(\"Frequency\")\n",
    "    plt.show()\n",
    "    \n",
    "    plot_fft_period_axis(df_localidad_values,fft_localidad)\n",
    "    \n",
    "    peaks[localidad]={}\n",
    "    peak_points = get_frequency_peaks(fft_localidad, 90)\n",
    "    peak_values = get_peaks_magnitude(fft_localidad,peak_points)\n",
    "    peak_periods = get_peaks_period(list(peak_points),len(df_localidad_values))\n",
    "    peaks[localidad]['frequency']=list(peak_points)\n",
    "    peaks[localidad]['periods']=peak_periods\n",
    "    peaks[localidad]['values']=peak_values   \n",
    "    print(localidad+': '+str(peaks[localidad]))"
   ]
  },
  {
   "cell_type": "code",
   "execution_count": null,
   "metadata": {},
   "outputs": [],
   "source": []
  },
  {
   "cell_type": "markdown",
   "metadata": {},
   "source": [
    "## Experiment particular localidades"
   ]
  },
  {
   "cell_type": "code",
   "execution_count": null,
   "metadata": {},
   "outputs": [],
   "source": [
    "localidadesList = ['PUENTE ARANDA','CHAPINERO','TEUSAQUILLO']"
   ]
  },
  {
   "cell_type": "code",
   "execution_count": null,
   "metadata": {
    "scrolled": false
   },
   "outputs": [],
   "source": [
    "peaks={}\n",
    "\n",
    "for localidad in localidadesList:\n",
    "    df_by_localidad = df_by_date[df_by_date['LOCALIDAD'] == localidad]\n",
    "    \n",
    "    #Make sure dataset starts on Monday for the experiment\n",
    "    df_by_localidad = set_initial_dataset_day(df_by_localidad,'Monday')\n",
    "\n",
    "    #Make sure dataset include consecutive dates in period\n",
    "    idx = pd.date_range(min(df_by_localidad.reset_index().date), max(df_by_localidad.reset_index().date))\n",
    "    df_by_localidad = df_by_localidad.reindex(idx, fill_value=0)\n",
    "    \n",
    "    df_localidad_values = pd.Series(df_by_localidad['total_eventos']).values\n",
    "    df_localidad_values = df_localidad_values[0:lT]\n",
    "    \n",
    "    df_localidad_values = df_localidad_values/(df_localidad_values.max())\n",
    "    \n",
    "    fft_localidad = fourier_analysis(df_localidad_values)\n",
    "    fig, ax = plt.subplots(1,1,sharex=True, sharey=True)\n",
    "    ax.plot(fft_localidad[1:])\n",
    "    plt.ylabel(\"Amplitude\")\n",
    "    plt.xlabel(\"Frequency\")\n",
    "    plt.show()\n",
    "    \n",
    "    plot_fft_period_axis(df_localidad_values,fft_localidad)\n",
    "    \n",
    "    peaks[localidad]={}\n",
    "    peak_points = get_frequency_peaks(fft_localidad, 90)\n",
    "    peak_values = get_peaks_magnitude(fft_localidad,peak_points)\n",
    "    peak_periods = get_peaks_period(list(peak_points),len(df_localidad_values))\n",
    "    peaks[localidad]['frequency']=list(peak_points)\n",
    "    peaks[localidad]['periods']=peak_periods\n",
    "    peaks[localidad]['values']=peak_values   \n",
    "    print(localidad+': '+str(peaks[localidad]))"
   ]
  }
 ],
 "metadata": {
  "kernelspec": {
   "display_name": "Python 3",
   "language": "python",
   "name": "python3"
  },
  "language_info": {
   "codemirror_mode": {
    "name": "ipython",
    "version": 3
   },
   "file_extension": ".py",
   "mimetype": "text/x-python",
   "name": "python",
   "nbconvert_exporter": "python",
   "pygments_lexer": "ipython3",
   "version": "3.7.2"
  }
 },
 "nbformat": 4,
 "nbformat_minor": 2
}
