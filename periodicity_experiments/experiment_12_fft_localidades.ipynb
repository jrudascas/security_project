{
 "cells": [
  {
   "cell_type": "markdown",
   "metadata": {},
   "source": [
    "# Experiment description\n",
    "## Hypothesis: \n",
    "Peaks identified on sample dataset (3.5 and 7 days periods) are also observed on localidades with higher predictability and lower predictability variance on full dataset. \n",
    "## Method: \n",
    "Fourier analysis to identify periodicity on time series signals by localidad. Time series to analyze: \n",
    "- Higher predictability and lower variance (all months): Ciudad Bolívar, Usme, San Cristobal \n",
    "- Higher predictability and medium variance (all months): Bosa, Rafael Uribe Uribe, Engativa, Tunjuelito\n",
    "- Lower predictability: Teusaquillo, Martires, Candelaria, Barrios Unidos y Chapinero."
   ]
  },
  {
   "cell_type": "markdown",
   "metadata": {},
   "source": [
    "## Built-in methods"
   ]
  },
  {
   "cell_type": "code",
   "execution_count": 1,
   "metadata": {},
   "outputs": [],
   "source": [
    "import pandas as pd\n",
    "import numpy as np\n",
    "import matplotlib.pyplot as plt\n",
    "from IPython.display import display, HTML\n",
    "import plotly.express as px\n",
    "import plotly.graph_objects as go\n",
    "import seaborn as sns\n",
    "import calendar\n",
    "import scipy as sp\n",
    "import scipy.fftpack\n",
    "from scipy.signal import find_peaks\n",
    "\n",
    "pd.set_option('display.max_colwidth', -1)\n",
    "pd.set_option('display.max_columns', None)"
   ]
  },
  {
   "cell_type": "code",
   "execution_count": 2,
   "metadata": {},
   "outputs": [],
   "source": [
    "def set_initial_dataset_day(df_by_date,name_day):\n",
    "    df_by_date = df_by_date.reset_index()\n",
    "    df_by_date['day_of_week'] = df_by_date['date'].dt.day_name()\n",
    "    monday_idx = df_by_date.index[df_by_date['day_of_week'] == name_day].tolist()[0]\n",
    "    df_by_date = df_by_date[monday_idx:].set_index('date').drop(['day_of_week'],axis=1)\n",
    "    return df_by_date"
   ]
  },
  {
   "cell_type": "code",
   "execution_count": 3,
   "metadata": {},
   "outputs": [],
   "source": [
    "def low_pass_filter(signal, fc =0.04, b =0.08):\n",
    "    N = int(np.ceil((4 / b)))\n",
    "    if not N % 2: N += 1\n",
    "    n = np.arange(N)\n",
    "\n",
    "    sinc_func = np.sinc(2 * fc * (n - (N - 1) / 2.))\n",
    "    window = 0.42 - 0.5 * np.cos(2 * np.pi * n / (N - 1)) + 0.08 * np.cos(4 * np.pi * n / (N - 1))\n",
    "    sinc_func = sinc_func * window\n",
    "    sinc_func = sinc_func / np.sum(sinc_func)\n",
    "\n",
    "    s = signal\n",
    "    s = s - np.nanmean(s)\n",
    "    filtered_signal = np.convolve(s, sinc_func)\n",
    "    return filtered_signal"
   ]
  },
  {
   "cell_type": "code",
   "execution_count": 4,
   "metadata": {},
   "outputs": [],
   "source": [
    "def fourier_analysis(signal):\n",
    "    time = range(len(signal))\n",
    "    fftdata = np.fft.fft(signal)\n",
    "    fftdatafreq = np.zeros((len(signal)))\n",
    "\n",
    "    for i in range(len(fftdata)):\n",
    "        fftdatafreq[i] = abs(fftdata[i].real)\n",
    "\n",
    "    #plt.ylabel(\"Amplitude\")\n",
    "    #plt.xlabel(\"Frequency\")\n",
    "    \n",
    "    unilateral_fft = fftdatafreq[0:len(fftdatafreq) // 2]\n",
    "    #plt.plot(time[1:len(fftdatafreq) // 2], unilateral_fft[1:])\n",
    "    return unilateral_fft"
   ]
  },
  {
   "cell_type": "code",
   "execution_count": 5,
   "metadata": {},
   "outputs": [],
   "source": [
    "def get_max_frequencies(unilateral_fft_signal,fs_original_signal):\n",
    "    max_freq = unilateral_fft_signal.argsort()[-10:][::-1]\n",
    "    print('Max frequencies: ',max_freq)\n",
    "    periodicity = fs_original_signal/max_freq\n",
    "    print('Periods: ', periodicity)"
   ]
  },
  {
   "cell_type": "code",
   "execution_count": 6,
   "metadata": {},
   "outputs": [],
   "source": [
    "def get_frequency_peaks(unilateral_fft, custom_distance):\n",
    "    peaks, _ = find_peaks(unilateral_fft, distance = custom_distance)\n",
    "    return peaks"
   ]
  },
  {
   "cell_type": "code",
   "execution_count": 7,
   "metadata": {},
   "outputs": [],
   "source": [
    "def get_peaks_magnitude(unilateral_fft, peaks_location_array):\n",
    "    peaks_magnitude = []\n",
    "    for peak in peaks_location_array:\n",
    "        magnitude = round(unilateral_fft[peak],2)\n",
    "        peaks_magnitude.append(magnitude)\n",
    "    return peaks_magnitude"
   ]
  },
  {
   "cell_type": "code",
   "execution_count": 8,
   "metadata": {},
   "outputs": [],
   "source": [
    "def get_peaks_period(array_frequency_peaks,fs):\n",
    "    peaks_period = []\n",
    "    for peak in array_frequency_peaks:\n",
    "        period = round((fs/peak),2)\n",
    "        peaks_period.append(period)\n",
    "    return peaks_period"
   ]
  },
  {
   "cell_type": "code",
   "execution_count": 9,
   "metadata": {},
   "outputs": [],
   "source": [
    "def get_periods_by_peak(peaks,n_periods):\n",
    "    period_values_array = {}\n",
    "    for period in range(n_periods):\n",
    "        period_values_array[period]=[]\n",
    "        for peak in peaks:\n",
    "            current_period = peaks[peak]['periods'][period]\n",
    "            period_values_array[period].append(current_period)\n",
    "\n",
    "    return period_values_array"
   ]
  },
  {
   "cell_type": "code",
   "execution_count": 10,
   "metadata": {},
   "outputs": [],
   "source": [
    "def plot_fft_period_axis(signal_time_domain,unilateral_fft):\n",
    "    fs = len(signal_time_domain)\n",
    "    samples_fft = len(unilateral_fft)\n",
    "    inv=unilateral_fft[1:][::-1]\n",
    "    #inv = low_pass_filter(inv, fc =0.08, b =0.08)\n",
    "    #samples_inv = len(inv) +1\n",
    "    points_x = np.arange(samples_fft)\n",
    "    period = fs/(samples_fft - points_x[1:])\n",
    "    inv = inv/inv.max()\n",
    "    \n",
    "    fig, ax = plt.subplots(1,1,sharex=True, sharey=True)\n",
    "    ax.plot(period,inv)\n",
    "    plt.ylabel(\"Amplitude\")\n",
    "    plt.xlabel(\"Period (in days)\")\n",
    "    plt.axis([0, 15, 0, 1.2])\n",
    "    plt.show()\n",
    "    "
   ]
  },
  {
   "cell_type": "markdown",
   "metadata": {},
   "source": [
    "## Data"
   ]
  },
  {
   "cell_type": "code",
   "execution_count": 23,
   "metadata": {},
   "outputs": [],
   "source": [
    "data_location = '/Users/anamaria/Desktop/dev/security_project/datasets/06. verify_enrich_nuse_11022020.csv'\n",
    "df_input = pd.read_csv(data_location,delimiter=\",\")"
   ]
  },
  {
   "cell_type": "code",
   "execution_count": 27,
   "metadata": {
    "collapsed": true
   },
   "outputs": [
    {
     "data": {
      "text/html": [
       "<div>\n",
       "<style scoped>\n",
       "    .dataframe tbody tr th:only-of-type {\n",
       "        vertical-align: middle;\n",
       "    }\n",
       "\n",
       "    .dataframe tbody tr th {\n",
       "        vertical-align: top;\n",
       "    }\n",
       "\n",
       "    .dataframe thead th {\n",
       "        text-align: right;\n",
       "    }\n",
       "</style>\n",
       "<table border=\"1\" class=\"dataframe\">\n",
       "  <thead>\n",
       "    <tr style=\"text-align: right;\">\n",
       "      <th></th>\n",
       "      <th>STR_NUMERO_INTERNO</th>\n",
       "      <th>FECHA</th>\n",
       "      <th>HORA</th>\n",
       "      <th>ANIO</th>\n",
       "      <th>MES</th>\n",
       "      <th>COD_LOCALIDAD</th>\n",
       "      <th>LOCALIDAD</th>\n",
       "      <th>COD_UPZ</th>\n",
       "      <th>UPZ</th>\n",
       "      <th>COD_SEC_CATAST</th>\n",
       "      <th>SEC_CATASTRAL</th>\n",
       "      <th>COD_BARRIO</th>\n",
       "      <th>BARRIO</th>\n",
       "      <th>TIPO_UNICO</th>\n",
       "      <th>TIPO_DETALLE</th>\n",
       "      <th>LATITUD</th>\n",
       "      <th>LONGITUD</th>\n",
       "      <th>STR_DIRECCION_INCIDENTE</th>\n",
       "      <th>ESTADO_INCIDENTE</th>\n",
       "      <th>PERIODO_TS</th>\n",
       "      <th>LOG_TEXT</th>\n",
       "    </tr>\n",
       "  </thead>\n",
       "  <tbody>\n",
       "    <tr>\n",
       "      <td>0</td>\n",
       "      <td>NU11_169253142</td>\n",
       "      <td>2014-02-01 22:16:40</td>\n",
       "      <td>2216</td>\n",
       "      <td>2014</td>\n",
       "      <td>2</td>\n",
       "      <td>19</td>\n",
       "      <td>CIUDAD BOLIVAR</td>\n",
       "      <td>UPZ68</td>\n",
       "      <td>EL TESORO</td>\n",
       "      <td>002534</td>\n",
       "      <td>CASA DE TEJA</td>\n",
       "      <td>1345</td>\n",
       "      <td>S.C. CASA DE TEJA</td>\n",
       "      <td>934</td>\n",
       "      <td>934 - RI?A</td>\n",
       "      <td>4.541922</td>\n",
       "      <td>-74.136036</td>\n",
       "      <td>ND</td>\n",
       "      <td>CERRADO</td>\n",
       "      <td>2014/02</td>\n",
       "      <td>OUTGOING~3008249263~169253142~CIUDAD BOLIVAR~CASA DE TEJA~FRENTE AL ASADERO  INF DE  RI?A CON HERIDOS  POR  ARMA BLANACA ~3~910, 934~NU11_169253142~DIRECTION/INCIDENT CALLER TELEPHONE NUMBER/INCIDENT ID/TOWN/DISTRICT/INCIDENT CREATION DATE/TIME/INCIDENT PRIORITY/INCIDENT TYPE/CUSTOMER FORMAT INCIDENT ID~~</td>\n",
       "    </tr>\n",
       "    <tr>\n",
       "      <td>1</td>\n",
       "      <td>NU10_152698142</td>\n",
       "      <td>2014-02-01 00:33:37</td>\n",
       "      <td>33</td>\n",
       "      <td>2014</td>\n",
       "      <td>2</td>\n",
       "      <td>13</td>\n",
       "      <td>TEUSAQUILLO</td>\n",
       "      <td>UPZ107</td>\n",
       "      <td>QUINTA PAREDES</td>\n",
       "      <td>006210</td>\n",
       "      <td>CENTRO NARINO</td>\n",
       "      <td>3414</td>\n",
       "      <td>CENTRO NARI?O</td>\n",
       "      <td>934</td>\n",
       "      <td>934 - RI?A</td>\n",
       "      <td>4.626935</td>\n",
       "      <td>-74.090799</td>\n",
       "      <td>KR 36 23 76</td>\n",
       "      <td>CERRADO</td>\n",
       "      <td>2014/02</td>\n",
       "      <td>OUTGOING~ANTONIO~3112593895~152698142~TEUSAQUILLO~CENTRO ANTONIO NARI?O~KR 36 23~76~RI?A INTRAFAMILIAR AL INTERIOR DEL AP HAY UN SJTO EN ESTADO 922//NO SABE DE HERIDOS//NO SABE DE ARMAS~PORTERIA 5~3~CO CENTRO NARI?O~934~BL 5 AP 207~NU10_152698142~DIRECTION/INCIDENT CALLER TELEPHONE DESCRIPTION/INCIDENT CALLER TELEPHONE NUMBER/INCIDENT ID/TOWN/DISTRICT/STREET NAME/PREMISE NUMBER/INCIDENT CREATION DATE/TIME/INCIDENT ADDITIONAL INFORMATION/INCIDENT PRIORITY/ORGANISATION NAME/INCIDENT TYPE/BUILDING NAME/CUSTOMER FORMAT INCIDENT ID~~</td>\n",
       "    </tr>\n",
       "    <tr>\n",
       "      <td>2</td>\n",
       "      <td>NU11_170452142</td>\n",
       "      <td>2014-02-01 23:18:51</td>\n",
       "      <td>2318</td>\n",
       "      <td>2014</td>\n",
       "      <td>2</td>\n",
       "      <td>11</td>\n",
       "      <td>SUBA</td>\n",
       "      <td>UPZ71</td>\n",
       "      <td>TIBABUYES</td>\n",
       "      <td>009225</td>\n",
       "      <td>TIBABUYES UNIVERSAL</td>\n",
       "      <td>3541</td>\n",
       "      <td>TIBABUYES UNIVERSAL</td>\n",
       "      <td>934</td>\n",
       "      <td>934 - RI?A</td>\n",
       "      <td>4.746107</td>\n",
       "      <td>-74.113194</td>\n",
       "      <td>CL 138 132B</td>\n",
       "      <td>CERRADO</td>\n",
       "      <td>2014/02</td>\n",
       "      <td>OUTGOING~3202402858~170452142~SUBA~TIBABUYES~CL 138 132B~RI?A EN VIA PUBLICA  ENTRE  PAREJA  NO ARMAS  NOHERIDOS~3~934~NU11_170452142~DIRECTION/INCIDENT CALLER TELEPHONE NUMBER/INCIDENT ID/TOWN/DISTRICT/STREET NAME/INCIDENT CREATION DATE/TIME/INCIDENT PRIORITY/INCIDENT TYPE/CUSTOMER FORMAT INCIDENT ID~~</td>\n",
       "    </tr>\n",
       "    <tr>\n",
       "      <td>3</td>\n",
       "      <td>NU10_169415142</td>\n",
       "      <td>2014-02-01 22:23:26</td>\n",
       "      <td>2223</td>\n",
       "      <td>2014</td>\n",
       "      <td>2</td>\n",
       "      <td>9</td>\n",
       "      <td>FONTIBON</td>\n",
       "      <td>UPZ75</td>\n",
       "      <td>FONTIBON</td>\n",
       "      <td>006406</td>\n",
       "      <td>VILLEMAR</td>\n",
       "      <td>637</td>\n",
       "      <td>VILLEMAR</td>\n",
       "      <td>934</td>\n",
       "      <td>934 - RI?A</td>\n",
       "      <td>4.672305</td>\n",
       "      <td>-74.137839</td>\n",
       "      <td>CL 21 96D 28</td>\n",
       "      <td>CERRADO</td>\n",
       "      <td>2014/02</td>\n",
       "      <td>OUTGOING~PEDRO ANTONIO JACOME ~3138805381~BOGOTA D.C.~169415142~FONTIBON~VILLEMAR FONTIBON~CL 21 96D~28~INFO DE LOS INQUILINOS Y LOS SUE?OS DE LA VIVIENDA // NO INFO DE HERIDOS NI ARMAS ~INFO QUE YA FUE PONAL Y NECESITAN PATRULLA ~3~934~NU10_169415142~DIRECTION/INCIDENT CALLER TELEPHONE DESCRIPTION/INCIDENT CALLER TELEPHONE NUMBER/COUNTY/INCIDENT ID/TOWN/DISTRICT/STREET NAME/PREMISE NUMBER/INCIDENT CREATION DATE/TIME/INCIDENT ADDITIONAL INFORMATION/INCIDENT PRIORITY/INCIDENT TYPE/CUSTOMER FORMAT INCIDENT ID~~</td>\n",
       "    </tr>\n",
       "    <tr>\n",
       "      <td>4</td>\n",
       "      <td>NU10_164818142</td>\n",
       "      <td>2014-02-01 18:13:11</td>\n",
       "      <td>1813</td>\n",
       "      <td>2014</td>\n",
       "      <td>2</td>\n",
       "      <td>16</td>\n",
       "      <td>PUENTE ARANDA</td>\n",
       "      <td>UPZ43</td>\n",
       "      <td>SAN RAFAEL</td>\n",
       "      <td>004206</td>\n",
       "      <td>SAN FRANCISCO</td>\n",
       "      <td>992</td>\n",
       "      <td>PRIMAVERA NORTE - SAN FRANCISCO</td>\n",
       "      <td>934</td>\n",
       "      <td>934 - RI?A</td>\n",
       "      <td>4.619172</td>\n",
       "      <td>-74.110462</td>\n",
       "      <td>AUTOPISTA SUR</td>\n",
       "      <td>CERRADO</td>\n",
       "      <td>2014/02</td>\n",
       "      <td>OUTGOING~MARIA OMAIRA MENDOZA~3138145139~164818142~PUENTE ARANDA~AUTOPISTA SUR~IND DE ACC ENTRE DOS COLECTIVOS DE SERVICIO PUBLICO//NO HERIDOS NO ATRAPADOS//LOS CONDUCTORES ESTAN INICIANDO UNA RI?A~BAJANDO EL PUENTE DE MATATIGRES DE NORTE A SUR~3~934, 942~NU10_164818142~DIRECTION/INCIDENT CALLER TELEPHONE DESCRIPTION/INCIDENT CALLER TELEPHONE NUMBER/INCIDENT ID/TOWN/STREET NAME/INCIDENT CREATION DATE/TIME/INCIDENT ADDITIONAL INFORMATION/INCIDENT PRIORITY/INCIDENT TYPE/CUSTOMER FORMAT INCIDENT ID~~</td>\n",
       "    </tr>\n",
       "  </tbody>\n",
       "</table>\n",
       "</div>"
      ],
      "text/plain": [
       "  STR_NUMERO_INTERNO                FECHA  HORA  ANIO  MES  COD_LOCALIDAD  \\\n",
       "0  NU11_169253142     2014-02-01 22:16:40  2216  2014  2    19              \n",
       "1  NU10_152698142     2014-02-01 00:33:37  33    2014  2    13              \n",
       "2  NU11_170452142     2014-02-01 23:18:51  2318  2014  2    11              \n",
       "3  NU10_169415142     2014-02-01 22:23:26  2223  2014  2    9               \n",
       "4  NU10_164818142     2014-02-01 18:13:11  1813  2014  2    16              \n",
       "\n",
       "        LOCALIDAD COD_UPZ             UPZ COD_SEC_CATAST        SEC_CATASTRAL  \\\n",
       "0  CIUDAD BOLIVAR  UPZ68   EL TESORO       002534         CASA DE TEJA          \n",
       "1  TEUSAQUILLO     UPZ107  QUINTA PAREDES  006210         CENTRO NARINO         \n",
       "2  SUBA            UPZ71   TIBABUYES       009225         TIBABUYES UNIVERSAL   \n",
       "3  FONTIBON        UPZ75   FONTIBON        006406         VILLEMAR              \n",
       "4  PUENTE ARANDA   UPZ43   SAN RAFAEL      004206         SAN FRANCISCO         \n",
       "\n",
       "  COD_BARRIO                           BARRIO  TIPO_UNICO TIPO_DETALLE  \\\n",
       "0  1345       S.C. CASA DE TEJA                934         934 - RI?A    \n",
       "1  3414       CENTRO NARI?O                    934         934 - RI?A    \n",
       "2  3541       TIBABUYES UNIVERSAL              934         934 - RI?A    \n",
       "3  637        VILLEMAR                         934         934 - RI?A    \n",
       "4  992        PRIMAVERA NORTE - SAN FRANCISCO  934         934 - RI?A    \n",
       "\n",
       "    LATITUD   LONGITUD STR_DIRECCION_INCIDENTE ESTADO_INCIDENTE PERIODO_TS  \\\n",
       "0  4.541922 -74.136036  ND                      CERRADO          2014/02     \n",
       "1  4.626935 -74.090799  KR 36 23 76             CERRADO          2014/02     \n",
       "2  4.746107 -74.113194  CL 138 132B             CERRADO          2014/02     \n",
       "3  4.672305 -74.137839  CL 21 96D 28            CERRADO          2014/02     \n",
       "4  4.619172 -74.110462  AUTOPISTA SUR           CERRADO          2014/02     \n",
       "\n",
       "                                                                                                                                                                                                                                                                                                                                                                                                                                                                                                                                                 LOG_TEXT  \n",
       "0  OUTGOING~3008249263~169253142~CIUDAD BOLIVAR~CASA DE TEJA~FRENTE AL ASADERO  INF DE  RI?A CON HERIDOS  POR  ARMA BLANACA ~3~910, 934~NU11_169253142~DIRECTION/INCIDENT CALLER TELEPHONE NUMBER/INCIDENT ID/TOWN/DISTRICT/INCIDENT CREATION DATE/TIME/INCIDENT PRIORITY/INCIDENT TYPE/CUSTOMER FORMAT INCIDENT ID~~                                                                                                                                                                                                                                      \n",
       "1  OUTGOING~ANTONIO~3112593895~152698142~TEUSAQUILLO~CENTRO ANTONIO NARI?O~KR 36 23~76~RI?A INTRAFAMILIAR AL INTERIOR DEL AP HAY UN SJTO EN ESTADO 922//NO SABE DE HERIDOS//NO SABE DE ARMAS~PORTERIA 5~3~CO CENTRO NARI?O~934~BL 5 AP 207~NU10_152698142~DIRECTION/INCIDENT CALLER TELEPHONE DESCRIPTION/INCIDENT CALLER TELEPHONE NUMBER/INCIDENT ID/TOWN/DISTRICT/STREET NAME/PREMISE NUMBER/INCIDENT CREATION DATE/TIME/INCIDENT ADDITIONAL INFORMATION/INCIDENT PRIORITY/ORGANISATION NAME/INCIDENT TYPE/BUILDING NAME/CUSTOMER FORMAT INCIDENT ID~~  \n",
       "2  OUTGOING~3202402858~170452142~SUBA~TIBABUYES~CL 138 132B~RI?A EN VIA PUBLICA  ENTRE  PAREJA  NO ARMAS  NOHERIDOS~3~934~NU11_170452142~DIRECTION/INCIDENT CALLER TELEPHONE NUMBER/INCIDENT ID/TOWN/DISTRICT/STREET NAME/INCIDENT CREATION DATE/TIME/INCIDENT PRIORITY/INCIDENT TYPE/CUSTOMER FORMAT INCIDENT ID~~                                                                                                                                                                                                                                        \n",
       "3  OUTGOING~PEDRO ANTONIO JACOME ~3138805381~BOGOTA D.C.~169415142~FONTIBON~VILLEMAR FONTIBON~CL 21 96D~28~INFO DE LOS INQUILINOS Y LOS SUE?OS DE LA VIVIENDA // NO INFO DE HERIDOS NI ARMAS ~INFO QUE YA FUE PONAL Y NECESITAN PATRULLA ~3~934~NU10_169415142~DIRECTION/INCIDENT CALLER TELEPHONE DESCRIPTION/INCIDENT CALLER TELEPHONE NUMBER/COUNTY/INCIDENT ID/TOWN/DISTRICT/STREET NAME/PREMISE NUMBER/INCIDENT CREATION DATE/TIME/INCIDENT ADDITIONAL INFORMATION/INCIDENT PRIORITY/INCIDENT TYPE/CUSTOMER FORMAT INCIDENT ID~~                      \n",
       "4  OUTGOING~MARIA OMAIRA MENDOZA~3138145139~164818142~PUENTE ARANDA~AUTOPISTA SUR~IND DE ACC ENTRE DOS COLECTIVOS DE SERVICIO PUBLICO//NO HERIDOS NO ATRAPADOS//LOS CONDUCTORES ESTAN INICIANDO UNA RI?A~BAJANDO EL PUENTE DE MATATIGRES DE NORTE A SUR~3~934, 942~NU10_164818142~DIRECTION/INCIDENT CALLER TELEPHONE DESCRIPTION/INCIDENT CALLER TELEPHONE NUMBER/INCIDENT ID/TOWN/STREET NAME/INCIDENT CREATION DATE/TIME/INCIDENT ADDITIONAL INFORMATION/INCIDENT PRIORITY/INCIDENT TYPE/CUSTOMER FORMAT INCIDENT ID~~                                  "
      ]
     },
     "execution_count": 27,
     "metadata": {},
     "output_type": "execute_result"
    }
   ],
   "source": [
    "df = df_input.copy()"
   ]
  },
  {
   "cell_type": "code",
   "execution_count": 28,
   "metadata": {},
   "outputs": [],
   "source": [
    "df = df.loc[df['ANIO']!= 2019]\n",
    "df['date']=pd.to_datetime(df['FECHA']).dt.strftime('%Y-%m-%d')\n",
    "df['date']=pd.to_datetime(df['date'],format='%Y-%m-%d')\n",
    "df_by_date = pd.DataFrame(df.groupby(['date','PERIODO_TS','LOCALIDAD']).size(),columns=[\"total_eventos\"])"
   ]
  },
  {
   "cell_type": "code",
   "execution_count": 29,
   "metadata": {},
   "outputs": [],
   "source": [
    "df_by_date = df_by_date.reset_index().set_index('date')"
   ]
  },
  {
   "cell_type": "code",
   "execution_count": 34,
   "metadata": {},
   "outputs": [
    {
     "data": {
      "text/plain": [
       "array(['ANTONIO NARIÑO', 'BARRIOS UNIDOS', 'BOSA', 'CANDELARIA',\n",
       "       'CHAPINERO', 'CIUDAD BOLIVAR', 'ENGATIVA', 'FONTIBON', 'KENNEDY',\n",
       "       'LOS MARTIRES', 'PUENTE ARANDA', 'RAFAEL URIBE URIBE',\n",
       "       'SAN CRISTOBAL', 'SANTA FE', 'SUBA', 'SUMAPAZ', 'TEUSAQUILLO',\n",
       "       'TUNJUELITO', 'USAQUEN', 'USME', 'SIN LOCALIZACION'], dtype=object)"
      ]
     },
     "execution_count": 34,
     "metadata": {},
     "output_type": "execute_result"
    }
   ],
   "source": [
    "df_by_date.LOCALIDAD.unique()"
   ]
  },
  {
   "cell_type": "markdown",
   "metadata": {},
   "source": [
    "# Results\n",
    "## Experiment localidades with high predictability and low predictability variance"
   ]
  },
  {
   "cell_type": "code",
   "execution_count": 15,
   "metadata": {},
   "outputs": [],
   "source": [
    "localidadesList = ['CIUDAD BOLIVAR','USME','SAN CRISTOBAL']"
   ]
  },
  {
   "cell_type": "code",
   "execution_count": 31,
   "metadata": {},
   "outputs": [
    {
     "data": {
      "text/plain": [
       "1826"
      ]
     },
     "execution_count": 31,
     "metadata": {},
     "output_type": "execute_result"
    }
   ],
   "source": [
    "# keep length windows of experiment 11 to set lT\n",
    "lenWindow = 7\n",
    "lT=(len(df['date'].unique())//lenWindow)*lenWindow "
   ]
  },
  {
   "cell_type": "code",
   "execution_count": null,
   "metadata": {
    "scrolled": false
   },
   "outputs": [],
   "source": [
    "lT = 756 #keep number of samples from predictiblity experiment(04)\n",
    "peaks={}\n",
    "\n",
    "for localidad in localidadesList:\n",
    "    df_by_localidad = df_by_date[df_by_date['LOCALIDAD'] == localidad]\n",
    "    \n",
    "    #Make sure dataset starts on Monday for the experiment\n",
    "    df_by_localidad = set_initial_dataset_day(df_by_localidad,'Monday')\n",
    "\n",
    "    #Make sure dataset include consecutive dates in period\n",
    "    idx = pd.date_range(min(df_by_localidad.reset_index().date), max(df_by_localidad.reset_index().date))\n",
    "    df_by_localidad = df_by_localidad.reindex(idx, fill_value=0)\n",
    "    \n",
    "    df_localidad_values = pd.Series(df_by_localidad['total_eventos']).values\n",
    "    df_localidad_values = df_localidad_values[0:lT]\n",
    "    \n",
    "    fft_localidad = fourier_analysis(df_localidad_values)\n",
    "    fig, ax = plt.subplots(1,1,sharex=True, sharey=True)\n",
    "    ax.plot(fft_localidad[1:])\n",
    "    plt.ylabel(\"Amplitude\")\n",
    "    plt.xlabel(\"Frequency\")\n",
    "    plt.show()\n",
    "    \n",
    "    plot_fft_period_axis(df_localidad_values,fft_localidad)\n",
    "    \n",
    "    peaks[localidad]={}\n",
    "    peak_points = get_frequency_peaks(fft_localidad, 90)\n",
    "    peak_values = get_peaks_magnitude(fft_localidad,peak_points)\n",
    "    peak_periods = get_peaks_period(list(peak_points),len(df_localidad_values))\n",
    "    peaks[localidad]['frequency']=list(peak_points)\n",
    "    peaks[localidad]['periods']=peak_periods\n",
    "    peaks[localidad]['values']=peak_values   \n",
    "    print(localidad+': '+str(peaks[localidad]))"
   ]
  },
  {
   "cell_type": "markdown",
   "metadata": {},
   "source": [
    "## Experiment localidades with lower predictability values"
   ]
  },
  {
   "cell_type": "code",
   "execution_count": null,
   "metadata": {},
   "outputs": [],
   "source": [
    "localidadesList = ['TEUSAQUILLO','LOS MARTIRES','CHAPINERO','BARRIOS UNIDOS']"
   ]
  },
  {
   "cell_type": "code",
   "execution_count": null,
   "metadata": {},
   "outputs": [],
   "source": [
    "lT = 756 #keep number of samples from predictiblity experiment(04)\n",
    "peaks={}\n",
    "\n",
    "for localidad in localidadesList:\n",
    "    df_by_localidad = df_by_date[df_by_date['LOCALIDAD'] == localidad]\n",
    "    \n",
    "    #Make sure dataset starts on Monday for the experiment\n",
    "    df_by_localidad = set_initial_dataset_day(df_by_localidad,'Monday')\n",
    "\n",
    "    #Make sure dataset include consecutive dates in period\n",
    "    idx = pd.date_range(min(df_by_localidad.reset_index().date), max(df_by_localidad.reset_index().date))\n",
    "    df_by_localidad = df_by_localidad.reindex(idx, fill_value=0)\n",
    "    \n",
    "    df_localidad_values = pd.Series(df_by_localidad['total_eventos']).values\n",
    "    df_localidad_values = df_localidad_values[0:lT]\n",
    "    \n",
    "    fft_localidad = fourier_analysis(df_localidad_values)\n",
    "    fig, ax = plt.subplots(1,1,sharex=True, sharey=True)\n",
    "    ax.plot(fft_localidad[1:])\n",
    "    plt.ylabel(\"Amplitude\")\n",
    "    plt.xlabel(\"Frequency\")\n",
    "    plt.show()\n",
    "    \n",
    "    plot_fft_period_axis(df_localidad_values,fft_localidad)\n",
    "    \n",
    "    peaks[localidad]={}\n",
    "    peak_points = get_frequency_peaks(fft_localidad, 90)\n",
    "    peak_values = get_peaks_magnitude(fft_localidad,peak_points)\n",
    "    peak_periods = get_peaks_period(list(peak_points),len(df_localidad_values))\n",
    "    peaks[localidad]['frequency']=list(peak_points)\n",
    "    peaks[localidad]['periods']=peak_periods\n",
    "    peaks[localidad]['values']=peak_values   \n",
    "    print(localidad+': '+str(peaks[localidad]))"
   ]
  },
  {
   "cell_type": "code",
   "execution_count": null,
   "metadata": {},
   "outputs": [],
   "source": []
  }
 ],
 "metadata": {
  "kernelspec": {
   "display_name": "Python 3",
   "language": "python",
   "name": "python3"
  },
  "language_info": {
   "codemirror_mode": {
    "name": "ipython",
    "version": 3
   },
   "file_extension": ".py",
   "mimetype": "text/x-python",
   "name": "python",
   "nbconvert_exporter": "python",
   "pygments_lexer": "ipython3",
   "version": "3.7.2"
  }
 },
 "nbformat": 4,
 "nbformat_minor": 2
}
