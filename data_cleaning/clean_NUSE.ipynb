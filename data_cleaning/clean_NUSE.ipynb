{
 "cells": [
  {
   "cell_type": "code",
   "execution_count": 1,
   "metadata": {},
   "outputs": [],
   "source": [
    "import pandas as pd\n",
    "import pandas_profiling\n",
    "import numpy as np\n",
    "import matplotlib.pyplot as plt\n",
    "from IPython.display import display, HTML\n",
    "import plotly.express as px\n",
    "import plotly.graph_objects as go\n",
    "import seaborn as sns\n",
    "import calendar\n",
    "pd.set_option('display.max_colwidth', -1)\n",
    "pd.set_option('display.max_columns', None)  \n",
    "from wordcloud import WordCloud, STOPWORDS\n",
    "import folium\n",
    "from folium import plugins"
   ]
  },
  {
   "cell_type": "markdown",
   "metadata": {},
   "source": [
    "# 1. Merge datasets"
   ]
  },
  {
   "cell_type": "code",
   "execution_count": null,
   "metadata": {},
   "outputs": [],
   "source": [
    "data_location = '/Users/anamaria/Desktop/dev/security_project/datasets/NUSE 934 611(M) 2017-2018.dsv'\n",
    "data2018=pd.read_csv(data_location,delimiter=\"|\")"
   ]
  },
  {
   "cell_type": "code",
   "execution_count": null,
   "metadata": {},
   "outputs": [],
   "source": [
    "data_location = '/Users/anamaria/Desktop/dev/security_project/datasets/NUSE 934-611-611M ENERO2019.csv'\n",
    "data2019=pd.read_csv(data_location,delimiter=\";\")"
   ]
  },
  {
   "cell_type": "code",
   "execution_count": null,
   "metadata": {},
   "outputs": [],
   "source": [
    "frames = [data2018, data2019]\n",
    "data = pd.concat(frames)\n",
    "merged_nuse = data.loc[data['TIPO_DETALLE'] == '934 - RIÑA']\n",
    "merged_nuse.reset_index(inplace=True)\n",
    "merged_nuse.drop(columns=['index'], inplace=True)"
   ]
  },
  {
   "cell_type": "code",
   "execution_count": null,
   "metadata": {},
   "outputs": [],
   "source": [
    "merged_nuse.to_csv(r'/Users/anamaria/Desktop/dev/security_project/datasets/merged_nuse.csv',index=None)"
   ]
  },
  {
   "cell_type": "markdown",
   "metadata": {},
   "source": [
    "# 2. Rebuild missing data"
   ]
  },
  {
   "cell_type": "code",
   "execution_count": 2,
   "metadata": {},
   "outputs": [],
   "source": [
    "localidadCodDictionaryNuse = {1:'USAQUEN',\n",
    "                              2:'CHAPINERO',\n",
    "                              3:'SANTA FE',\n",
    "                              4:'SAN CRISTOBAL',\n",
    "                              5:'USME',\n",
    "                              6:'TUNJUELITO',\n",
    "                              7:'BOSA',\n",
    "                              8:'KENNEDY',\n",
    "                              9:'FONTIBON',\n",
    "                              10:'ENGATIVA',\n",
    "                              11:'SUBA',\n",
    "                              12:'BARRIOS UNIDOS',\n",
    "                              13:'TEUSAQUILLO',\n",
    "                              14:'LOS MARTIRES',\n",
    "                              15:'ANTONIO NARIÑO',\n",
    "                              16:'PUENTE ARANDA',\n",
    "                              17:'CANDELARIA',\n",
    "                              18:'RAFAEL URIBE URIBE',\n",
    "                              19:'CIUDAD BOLIVAR',\n",
    "                              20:'SUMAPAZ',\n",
    "                              99:'SIN LOCALIZACION'}"
   ]
  },
  {
   "cell_type": "markdown",
   "metadata": {},
   "source": [
    "## Methods to rebuild"
   ]
  },
  {
   "cell_type": "code",
   "execution_count": 3,
   "metadata": {},
   "outputs": [
    {
     "name": "stdout",
     "output_type": "stream",
     "text": [
      "importing Jupyter notebook from ws_address.ipynb\n"
     ]
    }
   ],
   "source": [
    "import import_ipynb\n",
    "import ws_address\n",
    "from selenium.common.exceptions import TimeoutException\n",
    "import re\n",
    "import unidecode"
   ]
  },
  {
   "cell_type": "code",
   "execution_count": 4,
   "metadata": {},
   "outputs": [],
   "source": [
    "def find_between( s, first, last ):\n",
    "    try:\n",
    "        start = s.index( first ) + len( first )\n",
    "        end = s.index( last, start )\n",
    "        return s[start:end]\n",
    "    except ValueError:\n",
    "        return \"\""
   ]
  },
  {
   "cell_type": "code",
   "execution_count": 5,
   "metadata": {},
   "outputs": [],
   "source": [
    "tags = [\"Dirección ingresada: \",\"Dirección encontrada: \",\"Tipo dirección: \",\"Código postal: \",\"Sector catastral: \",\n",
    "        \"UPZ: \",\"Localidad: \",\"Latitud: \",\"Longitud: \",\"CHIP: \"]\n",
    "def parse_address_ws(ws_result):\n",
    "    location = {}\n",
    "    for idx in range(len(tags)-1):\n",
    "        location[tags[idx].replace(': ','')] = find_between(ws_result,tags[idx],tags[idx+1])\n",
    "    return location"
   ]
  },
  {
   "cell_type": "code",
   "execution_count": 6,
   "metadata": {},
   "outputs": [],
   "source": [
    "def assign_upz(original_df,index,UPZ_ws_field):\n",
    "    original_df.at[index,'COD_UPZ'] = find_between(UPZ_ws_field, '(', ')')\n",
    "    original_df.at[index,'UPZ'] = find_between(UPZ_ws_field, '', ' (')"
   ]
  },
  {
   "cell_type": "code",
   "execution_count": 18,
   "metadata": {},
   "outputs": [],
   "source": [
    "def get_cod_localidad(localidad_name):\n",
    "    return [key  for (key, value) in localidadCodDictionaryNuse.items() if value == localidad_name][0]"
   ]
  },
  {
   "cell_type": "code",
   "execution_count": 20,
   "metadata": {},
   "outputs": [],
   "source": [
    "def rebuild_location_in_nuse(original_df, index, driver):\n",
    "    address = original_df.at[index,'STR_DIRECCION_INCIDENTE']\n",
    "    print(address)\n",
    "    result_ws = ws_address.web_scrap_address(driver,address)\n",
    "    ws_address.delete_address(driver,address)\n",
    "    print(result_ws)\n",
    "\n",
    "    if result_ws != \"Not found\":\n",
    "        parsed_result = parse_address_ws(result_ws)\n",
    "        print(parsed_result)\n",
    "        original_df.at[index,'LATITUD'] = float(parsed_result['Latitud'])\n",
    "        original_df.at[index,'LONGITUD'] = float(parsed_result['Longitud'])\n",
    "        parsed_localidad = parsed_result['Localidad']\n",
    "        if parsed_localidad == 'ANTONIO NARIÑO':\n",
    "            original_df.at[index,'LOCALIDAD'] = parsed_localidad\n",
    "        else:\n",
    "            original_df.at[index,'LOCALIDAD'] = unidecode.unidecode(parsed_localidad)\n",
    "        original_df.at[index,'COD_LOCALIDAD'] = int(get_cod_localidad(original_df.at[index,'LOCALIDAD']))\n",
    "        original_df.at[index,'SEC_CATASTRAL'] = parsed_result['Sector catastral']\n",
    "        assign_upz(original_df,index,parsed_result['UPZ'])\n",
    "        return \"Rebuilt\"\n",
    "    else:\n",
    "        return \"Not processed\"\n"
   ]
  },
  {
   "cell_type": "code",
   "execution_count": 9,
   "metadata": {},
   "outputs": [],
   "source": [
    "def rebuild_address_in_nuse(original_df, index):\n",
    "    log_text = original_df.at[index,'LOG_TEXT']\n",
    "    address_found = re.search(address_regex,log_text)\n",
    "\n",
    "    if address_found != None:\n",
    "        parsed_address = clean_address(address_found)\n",
    "        print(parsed_address.strip())\n",
    "        original_df.at[index,'STR_DIRECCION_INCIDENTE'] = parsed_address.strip()\n",
    "        return \"Rebuilt\"\n",
    "    else:\n",
    "        original_df.at[index,'STR_DIRECCION_INCIDENTE'] = 'ND'\n",
    "        return \"Not processed\"\n",
    "\n",
    "def clean_address(address_found):\n",
    "    exclude_char_list = ['~','/','*','(',')']\n",
    "    one_occurrence = address_found.group().split(',,,')[0].replace(',',' ')\n",
    "    final_address = one_occurrence\n",
    "    \n",
    "    for char in exclude_char_list:\n",
    "        if char in one_occurrence:\n",
    "            final_address = final_address.split(char)[0]\n",
    "            \n",
    "    numbers_in_substring = re.sub('[^0-9]','', final_address)\n",
    "    numbers_proportion = len(numbers_in_substring)/len(final_address)\n",
    "    \n",
    "    if numbers_proportion < 0.2:\n",
    "        final_address = 'ND'\n",
    "    \n",
    "    return final_address\n"
   ]
  },
  {
   "cell_type": "markdown",
   "metadata": {},
   "source": [
    "## Implement rebuild methods"
   ]
  },
  {
   "cell_type": "code",
   "execution_count": null,
   "metadata": {},
   "outputs": [],
   "source": [
    "data_location = '/Users/anamaria/Desktop/dev/security_project/datasets/merged_nuse.csv'\n",
    "merged_nuse=pd.read_csv(data_location,delimiter=\",\")"
   ]
  },
  {
   "cell_type": "code",
   "execution_count": null,
   "metadata": {},
   "outputs": [],
   "source": [
    "pd.DataFrame({\"Tipo de dato\":merged_nuse.dtypes.values,\n",
    "              \"Celdas con valor '-'\":(merged_nuse == '-').sum().values,\n",
    "              \"Celdas con valor ''\":(merged_nuse == '').sum().values,\n",
    "              \"Celdas con valor ' '\":(merged_nuse == ' ').sum().values,\n",
    "              \"Celdas vacías\": merged_nuse.isna().sum().values},\n",
    "             index=merged_nuse.columns)"
   ]
  },
  {
   "cell_type": "markdown",
   "metadata": {},
   "source": [
    "### Rebuild address through log_text"
   ]
  },
  {
   "cell_type": "code",
   "execution_count": null,
   "metadata": {},
   "outputs": [],
   "source": [
    "#Try to rebuild missing address through log_text field\n",
    "df_empty_locations_without_address = merged_nuse.loc[merged_nuse['STR_DIRECCION_INCIDENTE'] == '-']\n",
    "list_idx_rebuild_address = list(df_empty_locations_without_address.index.values)"
   ]
  },
  {
   "cell_type": "code",
   "execution_count": null,
   "metadata": {},
   "outputs": [],
   "source": [
    "len(list_idx_rebuild_address)"
   ]
  },
  {
   "cell_type": "code",
   "execution_count": null,
   "metadata": {},
   "outputs": [],
   "source": [
    "address_regex= '(CL|DG|KR|TV)+\\s\\d+.*(,,)'\n",
    "registers_to_process = len(list_idx_rebuild_address)\n",
    "rebuilt_registers = 0\n",
    "registers_not_processed = 0\n",
    "other_condition_counter = 0\n",
    "\n",
    "for index in list_idx_rebuild_address:\n",
    "    state = rebuild_address_in_nuse(merged_nuse, index)\n",
    "    \n",
    "    if state == \"Rebuilt\":\n",
    "        rebuilt_registers += 1\n",
    "    elif state == \"Not processed\":\n",
    "        registers_not_processed += 1\n",
    "    else:\n",
    "        other_condition_counter += 1\n",
    "    \n",
    "    print('Rebuilt registers: ',rebuilt_registers,'/',registers_to_process)\n",
    "    print('Registers not processed: ',registers_not_processed, '/', registers_to_process)"
   ]
  },
  {
   "cell_type": "code",
   "execution_count": null,
   "metadata": {},
   "outputs": [],
   "source": [
    "merged_nuse.to_csv(r'/Users/anamaria/Desktop/dev/security_project/datasets/rebuild_address_nuse_18112019.csv',index=None)"
   ]
  },
  {
   "cell_type": "code",
   "execution_count": 19,
   "metadata": {},
   "outputs": [
    {
     "data": {
      "text/html": [
       "<div>\n",
       "<style scoped>\n",
       "    .dataframe tbody tr th:only-of-type {\n",
       "        vertical-align: middle;\n",
       "    }\n",
       "\n",
       "    .dataframe tbody tr th {\n",
       "        vertical-align: top;\n",
       "    }\n",
       "\n",
       "    .dataframe thead th {\n",
       "        text-align: right;\n",
       "    }\n",
       "</style>\n",
       "<table border=\"1\" class=\"dataframe\">\n",
       "  <thead>\n",
       "    <tr style=\"text-align: right;\">\n",
       "      <th></th>\n",
       "      <th>Tipo de dato</th>\n",
       "      <th>Celdas con valor '-'</th>\n",
       "      <th>Celdas con valor 'ND'</th>\n",
       "      <th>Celdas vacías</th>\n",
       "    </tr>\n",
       "  </thead>\n",
       "  <tbody>\n",
       "    <tr>\n",
       "      <td>STR_NUMERO_INTERNO</td>\n",
       "      <td>object</td>\n",
       "      <td>0</td>\n",
       "      <td>0</td>\n",
       "      <td>0</td>\n",
       "    </tr>\n",
       "    <tr>\n",
       "      <td>FECHA</td>\n",
       "      <td>object</td>\n",
       "      <td>0</td>\n",
       "      <td>0</td>\n",
       "      <td>0</td>\n",
       "    </tr>\n",
       "    <tr>\n",
       "      <td>HORA</td>\n",
       "      <td>int64</td>\n",
       "      <td>0</td>\n",
       "      <td>0</td>\n",
       "      <td>0</td>\n",
       "    </tr>\n",
       "    <tr>\n",
       "      <td>ANIO</td>\n",
       "      <td>int64</td>\n",
       "      <td>0</td>\n",
       "      <td>0</td>\n",
       "      <td>0</td>\n",
       "    </tr>\n",
       "    <tr>\n",
       "      <td>MES</td>\n",
       "      <td>int64</td>\n",
       "      <td>0</td>\n",
       "      <td>0</td>\n",
       "      <td>0</td>\n",
       "    </tr>\n",
       "    <tr>\n",
       "      <td>COD_LOCALIDAD</td>\n",
       "      <td>int64</td>\n",
       "      <td>0</td>\n",
       "      <td>0</td>\n",
       "      <td>0</td>\n",
       "    </tr>\n",
       "    <tr>\n",
       "      <td>LOCALIDAD</td>\n",
       "      <td>object</td>\n",
       "      <td>0</td>\n",
       "      <td>0</td>\n",
       "      <td>0</td>\n",
       "    </tr>\n",
       "    <tr>\n",
       "      <td>COD_UPZ</td>\n",
       "      <td>object</td>\n",
       "      <td>2453</td>\n",
       "      <td>0</td>\n",
       "      <td>0</td>\n",
       "    </tr>\n",
       "    <tr>\n",
       "      <td>UPZ</td>\n",
       "      <td>object</td>\n",
       "      <td>2453</td>\n",
       "      <td>0</td>\n",
       "      <td>0</td>\n",
       "    </tr>\n",
       "    <tr>\n",
       "      <td>COD_SEC_CATAST</td>\n",
       "      <td>object</td>\n",
       "      <td>2453</td>\n",
       "      <td>0</td>\n",
       "      <td>0</td>\n",
       "    </tr>\n",
       "    <tr>\n",
       "      <td>SEC_CATASTRAL</td>\n",
       "      <td>object</td>\n",
       "      <td>2453</td>\n",
       "      <td>0</td>\n",
       "      <td>0</td>\n",
       "    </tr>\n",
       "    <tr>\n",
       "      <td>COD_BARRIO</td>\n",
       "      <td>object</td>\n",
       "      <td>2453</td>\n",
       "      <td>0</td>\n",
       "      <td>0</td>\n",
       "    </tr>\n",
       "    <tr>\n",
       "      <td>BARRIO</td>\n",
       "      <td>object</td>\n",
       "      <td>2453</td>\n",
       "      <td>0</td>\n",
       "      <td>0</td>\n",
       "    </tr>\n",
       "    <tr>\n",
       "      <td>TIPO_UNICO</td>\n",
       "      <td>int64</td>\n",
       "      <td>0</td>\n",
       "      <td>0</td>\n",
       "      <td>0</td>\n",
       "    </tr>\n",
       "    <tr>\n",
       "      <td>TIPO_DETALLE</td>\n",
       "      <td>object</td>\n",
       "      <td>0</td>\n",
       "      <td>0</td>\n",
       "      <td>0</td>\n",
       "    </tr>\n",
       "    <tr>\n",
       "      <td>LATITUD</td>\n",
       "      <td>float64</td>\n",
       "      <td>0</td>\n",
       "      <td>0</td>\n",
       "      <td>0</td>\n",
       "    </tr>\n",
       "    <tr>\n",
       "      <td>LONGITUD</td>\n",
       "      <td>float64</td>\n",
       "      <td>0</td>\n",
       "      <td>0</td>\n",
       "      <td>0</td>\n",
       "    </tr>\n",
       "    <tr>\n",
       "      <td>STR_DIRECCION_INCIDENTE</td>\n",
       "      <td>object</td>\n",
       "      <td>0</td>\n",
       "      <td>35613</td>\n",
       "      <td>0</td>\n",
       "    </tr>\n",
       "    <tr>\n",
       "      <td>ESTADO_INCIDENTE</td>\n",
       "      <td>object</td>\n",
       "      <td>0</td>\n",
       "      <td>0</td>\n",
       "      <td>4</td>\n",
       "    </tr>\n",
       "    <tr>\n",
       "      <td>PERIODO_TS</td>\n",
       "      <td>object</td>\n",
       "      <td>0</td>\n",
       "      <td>0</td>\n",
       "      <td>0</td>\n",
       "    </tr>\n",
       "    <tr>\n",
       "      <td>LOG_TEXT</td>\n",
       "      <td>object</td>\n",
       "      <td>0</td>\n",
       "      <td>0</td>\n",
       "      <td>0</td>\n",
       "    </tr>\n",
       "  </tbody>\n",
       "</table>\n",
       "</div>"
      ],
      "text/plain": [
       "                        Tipo de dato  Celdas con valor '-'  \\\n",
       "STR_NUMERO_INTERNO       object       0                      \n",
       "FECHA                    object       0                      \n",
       "HORA                     int64        0                      \n",
       "ANIO                     int64        0                      \n",
       "MES                      int64        0                      \n",
       "COD_LOCALIDAD            int64        0                      \n",
       "LOCALIDAD                object       0                      \n",
       "COD_UPZ                  object       2453                   \n",
       "UPZ                      object       2453                   \n",
       "COD_SEC_CATAST           object       2453                   \n",
       "SEC_CATASTRAL            object       2453                   \n",
       "COD_BARRIO               object       2453                   \n",
       "BARRIO                   object       2453                   \n",
       "TIPO_UNICO               int64        0                      \n",
       "TIPO_DETALLE             object       0                      \n",
       "LATITUD                  float64      0                      \n",
       "LONGITUD                 float64      0                      \n",
       "STR_DIRECCION_INCIDENTE  object       0                      \n",
       "ESTADO_INCIDENTE         object       0                      \n",
       "PERIODO_TS               object       0                      \n",
       "LOG_TEXT                 object       0                      \n",
       "\n",
       "                         Celdas con valor 'ND'  Celdas vacías  \n",
       "STR_NUMERO_INTERNO       0                      0              \n",
       "FECHA                    0                      0              \n",
       "HORA                     0                      0              \n",
       "ANIO                     0                      0              \n",
       "MES                      0                      0              \n",
       "COD_LOCALIDAD            0                      0              \n",
       "LOCALIDAD                0                      0              \n",
       "COD_UPZ                  0                      0              \n",
       "UPZ                      0                      0              \n",
       "COD_SEC_CATAST           0                      0              \n",
       "SEC_CATASTRAL            0                      0              \n",
       "COD_BARRIO               0                      0              \n",
       "BARRIO                   0                      0              \n",
       "TIPO_UNICO               0                      0              \n",
       "TIPO_DETALLE             0                      0              \n",
       "LATITUD                  0                      0              \n",
       "LONGITUD                 0                      0              \n",
       "STR_DIRECCION_INCIDENTE  35613                  0              \n",
       "ESTADO_INCIDENTE         0                      4              \n",
       "PERIODO_TS               0                      0              \n",
       "LOG_TEXT                 0                      0              "
      ]
     },
     "execution_count": 19,
     "metadata": {},
     "output_type": "execute_result"
    }
   ],
   "source": [
    "pd.DataFrame({\"Tipo de dato\":merged_nuse.dtypes.values,\n",
    "              \"Celdas con valor '-'\":(merged_nuse == '-').sum().values,\n",
    "              \"Celdas con valor 'ND'\":(merged_nuse == 'ND').sum().values,\n",
    "              \"Celdas vacías\": merged_nuse.isna().sum().values},\n",
    "             index=merged_nuse.columns)"
   ]
  },
  {
   "cell_type": "markdown",
   "metadata": {},
   "source": [
    "### Rebuild location through address"
   ]
  },
  {
   "cell_type": "code",
   "execution_count": 24,
   "metadata": {},
   "outputs": [],
   "source": [
    "data_location = '/Users/anamaria/Desktop/dev/security_project/datasets/rebuild_address_nuse_18112019.csv'\n",
    "df_input = pd.read_csv(data_location,delimiter=\",\")"
   ]
  },
  {
   "cell_type": "code",
   "execution_count": 11,
   "metadata": {},
   "outputs": [],
   "source": [
    "df1 = df_input.loc[df_input['COD_UPZ'] == '-']\n",
    "df2 = df_input.loc[df_input['UPZ'] == '-']\n",
    "df3 = df_input.loc[df_input['COD_SEC_CATAST'] == '-']\n",
    "df4 = df_input.loc[df_input['SEC_CATASTRAL'] == '-']\n",
    "df5 = df_input.loc[df_input['COD_BARRIO'] == '-']\n",
    "df6 = df_input.loc[df_input['BARRIO'] == '-']"
   ]
  },
  {
   "cell_type": "code",
   "execution_count": 12,
   "metadata": {},
   "outputs": [
    {
     "data": {
      "text/plain": [
       "True"
      ]
     },
     "execution_count": 12,
     "metadata": {},
     "output_type": "execute_result"
    }
   ],
   "source": [
    "df1.equals(df2) and df1.equals(df3) and df1.equals(df4) and df1.equals(df5) and df1.equals(df6)"
   ]
  },
  {
   "cell_type": "code",
   "execution_count": 25,
   "metadata": {},
   "outputs": [
    {
     "data": {
      "text/plain": [
       "1254"
      ]
     },
     "execution_count": 25,
     "metadata": {},
     "output_type": "execute_result"
    }
   ],
   "source": [
    "#Try to rebuild 'sector catastral', 'UPZ', 'localidad', 'latitud', 'longitud' through address\n",
    "df_empty_locations_with_address = df1.loc[df1['STR_DIRECCION_INCIDENTE'] != 'ND']\n",
    "list_idx_rebuild_location = list(df_empty_locations_with_address.index.values)\n",
    "len(list_idx_rebuild_location)"
   ]
  },
  {
   "cell_type": "code",
   "execution_count": 26,
   "metadata": {},
   "outputs": [
    {
     "name": "stdout",
     "output_type": "stream",
     "text": [
      "CL 63D SUR 88A 06\n",
      "Dirección ingresada: CL 63D SUR 88A 06Dirección encontrada: CL 63B S 88 41Tipo dirección: Aproximación por mallaCódigo postal: 111921Sector catastral: PERDOMO ALTOUPZ: ISMAEL PERDOMO (UPZ69)Localidad: CIUDAD BOLÍVARLatitud: 4.58584351300004Longitud: -74.174341566CHIP: Consultar CHIP asociados al lote   Mostrar información asociada   Mostrar información asociada\n",
      "{'Dirección ingresada': 'CL 63D SUR 88A 06', 'Dirección encontrada': 'CL 63B S 88 41', 'Tipo dirección': 'Aproximación por malla', 'Código postal': '111921', 'Sector catastral': 'PERDOMO ALTO', 'UPZ': 'ISMAEL PERDOMO (UPZ69)', 'Localidad': 'CIUDAD BOLÍVAR', 'Latitud': '4.58584351300004', 'Longitud': '-74.174341566'}\n",
      "Rebuilt registers:  1 / 1254\n",
      "Registers not processed:  0 / 1254\n",
      "CL 26 SUR 82 53\n",
      "Dirección ingresada: CL 26 SUR 82 53Dirección encontrada: CL 26 S 82 53Tipo dirección: Asignada por CatastroCódigo postal: 110851Sector catastral: MARIA PAZUPZ: CORABASTOS (UPZ80)Localidad: KENNEDYLatitud: 4.63627438600008Longitud: -74.1587864279999CHIP: Consultar CHIP asociados al lote   Mostrar información asociada   Mostrar información asociada\n",
      "{'Dirección ingresada': 'CL 26 SUR 82 53', 'Dirección encontrada': 'CL 26 S 82 53', 'Tipo dirección': 'Asignada por Catastro', 'Código postal': '110851', 'Sector catastral': 'MARIA PAZ', 'UPZ': 'CORABASTOS (UPZ80)', 'Localidad': 'KENNEDY', 'Latitud': '4.63627438600008', 'Longitud': '-74.1587864279999'}\n",
      "Rebuilt registers:  2 / 1254\n",
      "Registers not processed:  0 / 1254\n",
      "CL 151 13A 50 IN 3 AP 14 03\n",
      "Dirección ingresada: CL 151 13A 50 IN 3 AP 14 03Dirección encontrada: CL 151 13A 50Tipo dirección: Asignada por CatastroCódigo postal: 110131Sector catastral: CAOBOS SALAZARUPZ: LOS CEDROS (UPZ13)Localidad: USAQUÉNLatitud: 4.73072216900005Longitud: -74.0371838699999CHIP: Consultar CHIP asociados al lote   Mostrar información asociada   Mostrar información asociada\n",
      "{'Dirección ingresada': 'CL 151 13A 50 IN 3 AP 14 03', 'Dirección encontrada': 'CL 151 13A 50', 'Tipo dirección': 'Asignada por Catastro', 'Código postal': '110131', 'Sector catastral': 'CAOBOS SALAZAR', 'UPZ': 'LOS CEDROS (UPZ13)', 'Localidad': 'USAQUÉN', 'Latitud': '4.73072216900005', 'Longitud': '-74.0371838699999'}\n",
      "Rebuilt registers:  3 / 1254\n",
      "Registers not processed:  0 / 1254\n",
      "CL 97 SUR 3B 24\n",
      "Dirección ingresada: CL 97 SUR 3B 24Dirección encontrada: CL 97 S 3B 24Tipo dirección: Asignada por CatastroCódigo postal: 110541Sector catastral: SERRANIAS IUPZ: COMUNEROS (UPZ58)Localidad: USMELatitud: 4.49798668300008Longitud: -74.1105601169999CHIP: Consultar CHIP asociados al lote   Mostrar información asociada   Mostrar información asociada\n",
      "{'Dirección ingresada': 'CL 97 SUR 3B 24', 'Dirección encontrada': 'CL 97 S 3B 24', 'Tipo dirección': 'Asignada por Catastro', 'Código postal': '110541', 'Sector catastral': 'SERRANIAS I', 'UPZ': 'COMUNEROS (UPZ58)', 'Localidad': 'USME', 'Latitud': '4.49798668300008', 'Longitud': '-74.1105601169999'}\n",
      "Rebuilt registers:  4 / 1254\n",
      "Registers not processed:  0 / 1254\n",
      "KR 30 72\n",
      "Dirección ingresada: KR 30 72Dirección encontrada: AK 30 72 38Tipo dirección: Aproximación por placaCódigo postal: 111211Sector catastral: ONCE DE NOVIEMBREUPZ: LOS ALCAZARES (UPZ98)Localidad: BARRIOS UNIDOSLatitud: 4.66791410300004Longitud: -74.072831683CHIP: Consultar CHIP asociados al lote   Mostrar información asociada   Mostrar información asociada\n",
      "{'Dirección ingresada': 'KR 30 72', 'Dirección encontrada': 'AK 30 72 38', 'Tipo dirección': 'Aproximación por placa', 'Código postal': '111211', 'Sector catastral': 'ONCE DE NOVIEMBRE', 'UPZ': 'LOS ALCAZARES (UPZ98)', 'Localidad': 'BARRIOS UNIDOS', 'Latitud': '4.66791410300004', 'Longitud': '-74.072831683'}\n",
      "Rebuilt registers:  5 / 1254\n",
      "Registers not processed:  0 / 1254\n",
      "KR 65 98  PI 2\n",
      "Not found\n",
      "Rebuilt registers:  5 / 1254\n",
      "Registers not processed:  1 / 1254\n",
      "KR 94 BIS 6A\n",
      "Not found\n",
      "Rebuilt registers:  5 / 1254\n",
      "Registers not processed:  2 / 1254\n",
      "KR 92A 52B SUR 48\n",
      "Not found\n",
      "Rebuilt registers:  5 / 1254\n",
      "Registers not processed:  3 / 1254\n",
      "KR 17A 80C SUR 89\n",
      "Not found\n",
      "Rebuilt registers:  5 / 1254\n",
      "Registers not processed:  4 / 1254\n",
      "CL 37A 44 ESTE 67\n",
      "Not found\n",
      "Rebuilt registers:  5 / 1254\n",
      "Registers not processed:  5 / 1254\n",
      "CL 14\n",
      "Not found\n",
      "Rebuilt registers:  5 / 1254\n",
      "Registers not processed:  6 / 1254\n",
      "VIA BOGOTA- GIRARDOT\n",
      "Not found\n",
      "Rebuilt registers:  5 / 1254\n",
      "Registers not processed:  7 / 1254\n",
      "CL 43F 27 ESTE 43\n",
      "Not found\n",
      "Rebuilt registers:  5 / 1254\n",
      "Registers not processed:  8 / 1254\n",
      "CL 74 SUR 1A ESTE 81\n",
      "Not found\n",
      "Rebuilt registers:  5 / 1254\n",
      "Registers not processed:  9 / 1254\n",
      "KR 2 186\n",
      "Dirección ingresada: KR 2 186Dirección encontrada: KR 2 186 04Tipo dirección: Aproximación por placaCódigo postal: 110141Sector catastral: LA ESTRELLITAUPZ: null (null)Localidad: USAQUÉNLatitud: 4.76253943600005Longitud: -74.0224628869999CHIP: Consultar CHIP asociados al lote   Mostrar información asociada   Mostrar información asociada\n",
      "{'Dirección ingresada': 'KR 2 186', 'Dirección encontrada': 'KR 2 186 04', 'Tipo dirección': 'Aproximación por placa', 'Código postal': '110141', 'Sector catastral': 'LA ESTRELLITA', 'UPZ': 'null (null)', 'Localidad': 'USAQUÉN', 'Latitud': '4.76253943600005', 'Longitud': '-74.0224628869999'}\n",
      "Rebuilt registers:  6 / 1254\n",
      "Registers not processed:  9 / 1254\n",
      "KR 101 83 90 IN 3 AP 509\n",
      "Dirección ingresada: KR 101 83 90 IN 3 AP 509Dirección encontrada: KR 101 83 90Tipo dirección: Asignada por CatastroCódigo postal: 111011Sector catastral: BOCHICA IIUPZ: BOLIVIA (UPZ72)Localidad: ENGATIVÁLatitud: 4.71556479100008Longitud: -74.1078724359999CHIP: Consultar CHIP asociados al lote   Mostrar información asociada   Mostrar información asociada\n",
      "{'Dirección ingresada': 'KR 101 83 90 IN 3 AP 509', 'Dirección encontrada': 'KR 101 83 90', 'Tipo dirección': 'Asignada por Catastro', 'Código postal': '111011', 'Sector catastral': 'BOCHICA II', 'UPZ': 'BOLIVIA (UPZ72)', 'Localidad': 'ENGATIVÁ', 'Latitud': '4.71556479100008', 'Longitud': '-74.1078724359999'}\n",
      "Rebuilt registers:  7 / 1254\n",
      "Registers not processed:  9 / 1254\n",
      "CL 158 96A 25 TO 15 AP 302\n",
      "Dirección ingresada: CL 158 96A 25 TO 15 AP 302Dirección encontrada: CL 158 96A 25Tipo dirección: Asignada por CatastroCódigo postal: 111161Sector catastral: SALITRE SUBAUPZ: SUBA (UPZ27)Localidad: SUBALatitud: 4.75624830800007Longitud: -74.0823868259999CHIP: Consultar CHIP asociados al lote   Mostrar información asociada   Mostrar información asociada\n",
      "{'Dirección ingresada': 'CL 158 96A 25 TO 15 AP 302', 'Dirección encontrada': 'CL 158 96A 25', 'Tipo dirección': 'Asignada por Catastro', 'Código postal': '111161', 'Sector catastral': 'SALITRE SUBA', 'UPZ': 'SUBA (UPZ27)', 'Localidad': 'SUBA', 'Latitud': '4.75624830800007', 'Longitud': '-74.0823868259999'}\n",
      "Rebuilt registers:  8 / 1254\n",
      "Registers not processed:  9 / 1254\n",
      "DG 49D SUR 13H\n",
      "Dirección ingresada: DG 49D SUR 13HDirección encontrada: DG 49D S 13H 06Tipo dirección: Aproximación por placaCódigo postal: 111831Sector catastral: MARCO FIDEL SUAREZ IUPZ: MARRUECOS (UPZ54)Localidad: RAFAEL URIBE URIBELatitud: 4.56621267900005Longitud: -74.122608753CHIP: Consultar CHIP asociados al lote   Mostrar información asociada   Mostrar información asociada\n",
      "{'Dirección ingresada': 'DG 49D SUR 13H', 'Dirección encontrada': 'DG 49D S 13H 06', 'Tipo dirección': 'Aproximación por placa', 'Código postal': '111831', 'Sector catastral': 'MARCO FIDEL SUAREZ I', 'UPZ': 'MARRUECOS (UPZ54)', 'Localidad': 'RAFAEL URIBE URIBE', 'Latitud': '4.56621267900005', 'Longitud': '-74.122608753'}\n",
      "Rebuilt registers:  9 / 1254\n",
      "Registers not processed:  9 / 1254\n",
      "KR 97 36 SUR\n",
      "Dirección ingresada: KR 97 36 SURDirección encontrada: KR 97F 34A S 0Tipo dirección: Aproximación por mallaCódigo postal: 110871Sector catastral: GALANUPZ: CALANDAIMA (UPZ79)Localidad: KENNEDYLatitud: 4.64938327166371Longitud: -74.1720242746851CHIP: Consultar CHIP asociados al lote   Mostrar información asociada   Mostrar información asociada\n",
      "{'Dirección ingresada': 'KR 97 36 SUR', 'Dirección encontrada': 'KR 97F 34A S 0', 'Tipo dirección': 'Aproximación por malla', 'Código postal': '110871', 'Sector catastral': 'GALAN', 'UPZ': 'CALANDAIMA (UPZ79)', 'Localidad': 'KENNEDY', 'Latitud': '4.64938327166371', 'Longitud': '-74.1720242746851'}\n",
      "Rebuilt registers:  10 / 1254\n",
      "Registers not processed:  9 / 1254\n",
      "KR 78C 71C SUR\n"
     ]
    },
    {
     "name": "stdout",
     "output_type": "stream",
     "text": [
      "Dirección ingresada: KR 78C 71C SURDirección encontrada: KR 78C 71C 02 STipo dirección: Aproximación por placaCódigo postal: 110741Sector catastral: JOSE MARIA CARBONELUPZ: BOSA CENTRAL (UPZ85)Localidad: BOSALatitud: 4.60353108600009Longitud: -74.1959057459999CHIP: Consultar CHIP asociados al lote   Mostrar información asociada   Mostrar información asociada\n",
      "{'Dirección ingresada': 'KR 78C 71C SUR', 'Dirección encontrada': 'KR 78C 71C 02 S', 'Tipo dirección': 'Aproximación por placa', 'Código postal': '110741', 'Sector catastral': 'JOSE MARIA CARBONEL', 'UPZ': 'BOSA CENTRAL (UPZ85)', 'Localidad': 'BOSA', 'Latitud': '4.60353108600009', 'Longitud': '-74.1959057459999'}\n",
      "Rebuilt registers:  11 / 1254\n",
      "Registers not processed:  9 / 1254\n",
      "KR 113A 150 25\n",
      "Dirección ingresada: KR 113A 150 25Dirección encontrada: KR 113B 151C 25Tipo dirección: Aproximación por mallaCódigo postal: 111161Sector catastral: TIBABUYESUPZ: SUBA (UPZ27)Localidad: SUBALatitud: 4.75460977010782Longitud: -74.0992939923866CHIP: Consultar CHIP asociados al lote   Mostrar información asociada   Mostrar información asociada\n",
      "{'Dirección ingresada': 'KR 113A 150 25', 'Dirección encontrada': 'KR 113B 151C 25', 'Tipo dirección': 'Aproximación por malla', 'Código postal': '111161', 'Sector catastral': 'TIBABUYES', 'UPZ': 'SUBA (UPZ27)', 'Localidad': 'SUBA', 'Latitud': '4.75460977010782', 'Longitud': '-74.0992939923866'}\n",
      "Rebuilt registers:  12 / 1254\n",
      "Registers not processed:  9 / 1254\n",
      "CL 24 BIS 85B 21\n",
      "Dirección ingresada: CL 24 BIS 85B 21Dirección encontrada: CL 24 BIS 85B 21Tipo dirección: Asignada por CatastroCódigo postal: 110931Sector catastral: BOSQUE DE MODELIAUPZ: MODELIA (UPZ114)Localidad: FONTIBÓNLatitud: 4.67123941400007Longitud: -74.12407178CHIP: Consultar CHIP asociados al lote   Mostrar información asociada   Mostrar información asociada\n",
      "{'Dirección ingresada': 'CL 24 BIS 85B 21', 'Dirección encontrada': 'CL 24 BIS 85B 21', 'Tipo dirección': 'Asignada por Catastro', 'Código postal': '110931', 'Sector catastral': 'BOSQUE DE MODELIA', 'UPZ': 'MODELIA (UPZ114)', 'Localidad': 'FONTIBÓN', 'Latitud': '4.67123941400007', 'Longitud': '-74.12407178'}\n",
      "Rebuilt registers:  13 / 1254\n",
      "Registers not processed:  9 / 1254\n",
      "CL 19C 33 68\n",
      "Dirección ingresada: CL 19C 33 68Dirección encontrada: CL 19C 33 70Tipo dirección: Aproximación por placaCódigo postal: 111611Sector catastral: CUNDINAMARCAUPZ: ZONA INDUSTRIAL (UPZ108)Localidad: PUENTE ARANDALatitud: 4.62274111100004Longitud: -74.0897361079999CHIP: Consultar CHIP asociados al lote   Mostrar información asociada   Mostrar información asociada\n",
      "{'Dirección ingresada': 'CL 19C 33 68', 'Dirección encontrada': 'CL 19C 33 70', 'Tipo dirección': 'Aproximación por placa', 'Código postal': '111611', 'Sector catastral': 'CUNDINAMARCA', 'UPZ': 'ZONA INDUSTRIAL (UPZ108)', 'Localidad': 'PUENTE ARANDA', 'Latitud': '4.62274111100004', 'Longitud': '-74.0897361079999'}\n",
      "Rebuilt registers:  14 / 1254\n",
      "Registers not processed:  9 / 1254\n",
      "KR 1A 60 SUR 22\n",
      "Dirección ingresada: KR 1A 60 SUR 22Dirección encontrada: KR 1 BIS A 60 S 22Tipo dirección: Aproximación por placaCódigo postal: 110521Sector catastral: LA FISCALA NORTEUPZ: DANUBIO (UPZ56)Localidad: USMELatitud: 4.53714955418683Longitud: -74.1119739744321CHIP: Consultar CHIP asociados al lote   Mostrar información asociada   Mostrar información asociada\n",
      "{'Dirección ingresada': 'KR 1A 60 SUR 22', 'Dirección encontrada': 'KR 1 BIS A 60 S 22', 'Tipo dirección': 'Aproximación por placa', 'Código postal': '110521', 'Sector catastral': 'LA FISCALA NORTE', 'UPZ': 'DANUBIO (UPZ56)', 'Localidad': 'USME', 'Latitud': '4.53714955418683', 'Longitud': '-74.1119739744321'}\n",
      "Rebuilt registers:  15 / 1254\n",
      "Registers not processed:  9 / 1254\n",
      "KR 9 135C 44\n",
      "Dirección ingresada: KR 9 135C 44Dirección encontrada: AK 9 135C 45Tipo dirección: Aproximación por placaCódigo postal: 110121Sector catastral: CEDRITOSUPZ: LOS CEDROS (UPZ13)Localidad: USAQUÉNLatitud: 4.71634979900006Longitud: -74.0327115669999CHIP: Consultar CHIP asociados al lote   Mostrar información asociada   Mostrar información asociada\n",
      "{'Dirección ingresada': 'KR 9 135C 44', 'Dirección encontrada': 'AK 9 135C 45', 'Tipo dirección': 'Aproximación por placa', 'Código postal': '110121', 'Sector catastral': 'CEDRITOS', 'UPZ': 'LOS CEDROS (UPZ13)', 'Localidad': 'USAQUÉN', 'Latitud': '4.71634979900006', 'Longitud': '-74.0327115669999'}\n",
      "Rebuilt registers:  16 / 1254\n",
      "Registers not processed:  9 / 1254\n",
      "KR 78D 10D 37\n",
      "Dirección ingresada: KR 78D 10D 37Dirección encontrada: TV 78D 10D 37Tipo dirección: Dirección AntiguaCódigo postal: 110821Sector catastral: NUEVO TECHOUPZ: CASTILLA (UPZ46)Localidad: KENNEDYLatitud: 4.64404832015345Longitud: -74.1387231285781CHIP: Consultar CHIP asociados al lote   Mostrar información asociada   Mostrar información asociada\n",
      "{'Dirección ingresada': 'KR 78D 10D 37', 'Dirección encontrada': 'TV 78D 10D 37', 'Tipo dirección': 'Dirección Antigua', 'Código postal': '110821', 'Sector catastral': 'NUEVO TECHO', 'UPZ': 'CASTILLA (UPZ46)', 'Localidad': 'KENNEDY', 'Latitud': '4.64404832015345', 'Longitud': '-74.1387231285781'}\n",
      "Rebuilt registers:  17 / 1254\n",
      "Registers not processed:  9 / 1254\n",
      "CL 42 SUR 80G 37\n",
      "Dirección ingresada: CL 42 SUR 80G 37Dirección encontrada: CL 42 S 80F 37Tipo dirección: Aproximación por mallaCódigo postal: 110851Sector catastral: CHUCUA DE LA VACA IIUPZ: CORABASTOS (UPZ80)Localidad: KENNEDYLatitud: 4.62483162500007Longitud: -74.1637164569999CHIP: Consultar CHIP asociados al lote   Mostrar información asociada   Mostrar información asociada\n",
      "{'Dirección ingresada': 'CL 42 SUR 80G 37', 'Dirección encontrada': 'CL 42 S 80F 37', 'Tipo dirección': 'Aproximación por malla', 'Código postal': '110851', 'Sector catastral': 'CHUCUA DE LA VACA II', 'UPZ': 'CORABASTOS (UPZ80)', 'Localidad': 'KENNEDY', 'Latitud': '4.62483162500007', 'Longitud': '-74.1637164569999'}\n",
      "Rebuilt registers:  18 / 1254\n",
      "Registers not processed:  9 / 1254\n",
      "CL 113 SUR 8 73\n",
      "Dirección ingresada: CL 113 SUR 8 73Dirección encontrada: CL 113 S 8 73Tipo dirección: Asignada por CatastroCódigo postal: 110541Sector catastral: VILLA ANITAUPZ: COMUNEROS (UPZ58)Localidad: USMELatitud: 4.49031740500004Longitud: -74.1176084149999CHIP: Consultar CHIP asociados al lote   Mostrar información asociada   Mostrar información asociada\n",
      "{'Dirección ingresada': 'CL 113 SUR 8 73', 'Dirección encontrada': 'CL 113 S 8 73', 'Tipo dirección': 'Asignada por Catastro', 'Código postal': '110541', 'Sector catastral': 'VILLA ANITA', 'UPZ': 'COMUNEROS (UPZ58)', 'Localidad': 'USME', 'Latitud': '4.49031740500004', 'Longitud': '-74.1176084149999'}\n",
      "Rebuilt registers:  19 / 1254\n",
      "Registers not processed:  9 / 1254\n",
      "KR 7H BIS 151 62\n",
      "Dirección ingresada: KR 7H BIS 151 62Dirección encontrada: KR 7H BIS 151 62Tipo dirección: Asignada por CatastroCódigo postal: 110131Sector catastral: CEDRO SALAZARUPZ: LOS CEDROS (UPZ13)Localidad: USAQUÉNLatitud: 4.72812658300006Longitud: -74.0297027309999CHIP: Consultar CHIP asociados al lote   Mostrar información asociada   Mostrar información asociada\n",
      "{'Dirección ingresada': 'KR 7H BIS 151 62', 'Dirección encontrada': 'KR 7H BIS 151 62', 'Tipo dirección': 'Asignada por Catastro', 'Código postal': '110131', 'Sector catastral': 'CEDRO SALAZAR', 'UPZ': 'LOS CEDROS (UPZ13)', 'Localidad': 'USAQUÉN', 'Latitud': '4.72812658300006', 'Longitud': '-74.0297027309999'}\n",
      "Rebuilt registers:  20 / 1254\n",
      "Registers not processed:  9 / 1254\n",
      "CL 6D 4 ESTE 78\n",
      "Not found\n",
      "Rebuilt registers:  20 / 1254\n",
      "Registers not processed:  10 / 1254\n",
      "KR 81D 42G SUR 05\n",
      "Dirección ingresada: KR 81D 42G SUR 05Dirección encontrada: KR 81D 42G 05 STipo dirección: Asignada por CatastroCódigo postal: 110851Sector catastral: CHUCUA DE LA VACA IUPZ: CORABASTOS (UPZ80)Localidad: KENNEDYLatitud: 4.62527954800004Longitud: -74.1679012739999CHIP: Consultar CHIP asociados al lote   Mostrar información asociada   Mostrar información asociada\n",
      "{'Dirección ingresada': 'KR 81D 42G SUR 05', 'Dirección encontrada': 'KR 81D 42G 05 S', 'Tipo dirección': 'Asignada por Catastro', 'Código postal': '110851', 'Sector catastral': 'CHUCUA DE LA VACA I', 'UPZ': 'CORABASTOS (UPZ80)', 'Localidad': 'KENNEDY', 'Latitud': '4.62527954800004', 'Longitud': '-74.1679012739999'}\n",
      "Rebuilt registers:  21 / 1254\n",
      "Registers not processed:  10 / 1254\n",
      "KR 8D 75C SUR 31\n"
     ]
    },
    {
     "name": "stdout",
     "output_type": "stream",
     "text": [
      "Dirección ingresada: KR 8D 75C SUR 31Dirección encontrada: KR 8D 75C 31 STipo dirección: Asignada por CatastroCódigo postal: 110521Sector catastral: LA ANDREAUPZ: GRAN YOMASA (UPZ57)Localidad: USMELatitud: 4.51327597600005Longitud: -74.1116587719999CHIP: Consultar CHIP asociados al lote   Mostrar información asociada   Mostrar información asociada\n",
      "{'Dirección ingresada': 'KR 8D 75C SUR 31', 'Dirección encontrada': 'KR 8D 75C 31 S', 'Tipo dirección': 'Asignada por Catastro', 'Código postal': '110521', 'Sector catastral': 'LA ANDREA', 'UPZ': 'GRAN YOMASA (UPZ57)', 'Localidad': 'USME', 'Latitud': '4.51327597600005', 'Longitud': '-74.1116587719999'}\n",
      "Rebuilt registers:  22 / 1254\n",
      "Registers not processed:  10 / 1254\n",
      "KR 12G ESTE 88G SUR 44\n",
      "Not found\n",
      "Rebuilt registers:  22 / 1254\n",
      "Registers not processed:  11 / 1254\n",
      "TV 92 34A SUR 74\n",
      "Dirección ingresada: TV 92 34A SUR 74Dirección encontrada: KR 92B 34A S 74Tipo dirección: Aproximación por mallaCódigo postal: 110871Sector catastral: CALANDAIMAUPZ: CALANDAIMA (UPZ79)Localidad: KENNEDYLatitud: 4.64480134397803Longitud: -74.168812004264CHIP: Consultar CHIP asociados al lote   Mostrar información asociada   Mostrar información asociada\n",
      "{'Dirección ingresada': 'TV 92 34A SUR 74', 'Dirección encontrada': 'KR 92B 34A S 74', 'Tipo dirección': 'Aproximación por malla', 'Código postal': '110871', 'Sector catastral': 'CALANDAIMA', 'UPZ': 'CALANDAIMA (UPZ79)', 'Localidad': 'KENNEDY', 'Latitud': '4.64480134397803', 'Longitud': '-74.168812004264'}\n",
      "Rebuilt registers:  23 / 1254\n",
      "Registers not processed:  11 / 1254\n",
      "KR 94 73C SUR\n",
      "Dirección ingresada: KR 94 73C SURDirección encontrada: KR 94 73 06 STipo dirección: Aproximación por mallaCódigo postal: 110731Sector catastral: ISLANDIAUPZ: BOSA CENTRAL (UPZ85)Localidad: BOSALatitud: 4.61537352300007Longitud: -74.1967842709999CHIP: Consultar CHIP asociados al lote   Mostrar información asociada   Mostrar información asociada\n",
      "{'Dirección ingresada': 'KR 94 73C SUR', 'Dirección encontrada': 'KR 94 73 06 S', 'Tipo dirección': 'Aproximación por malla', 'Código postal': '110731', 'Sector catastral': 'ISLANDIA', 'UPZ': 'BOSA CENTRAL (UPZ85)', 'Localidad': 'BOSA', 'Latitud': '4.61537352300007', 'Longitud': '-74.1967842709999'}\n",
      "Rebuilt registers:  24 / 1254\n",
      "Registers not processed:  11 / 1254\n",
      "KR 90A 11\n",
      "Dirección ingresada: KR 90A 11Dirección encontrada: KR 90A 10B 0Tipo dirección: Aproximación por mallaCódigo postal: 110811Sector catastral: EL TINTAL IIIUPZ: TINTAL NORTE (UPZ78)Localidad: KENNEDYLatitud: 4.65535634750438Longitud: -74.1518678172292CHIP: Consultar CHIP asociados al lote   Mostrar información asociada   Mostrar información asociada\n",
      "{'Dirección ingresada': 'KR 90A 11', 'Dirección encontrada': 'KR 90A 10B 0', 'Tipo dirección': 'Aproximación por malla', 'Código postal': '110811', 'Sector catastral': 'EL TINTAL III', 'UPZ': 'TINTAL NORTE (UPZ78)', 'Localidad': 'KENNEDY', 'Latitud': '4.65535634750438', 'Longitud': '-74.1518678172292'}\n",
      "Rebuilt registers:  25 / 1254\n",
      "Registers not processed:  11 / 1254\n",
      "KR 72 9 57\n",
      "Dirección ingresada: KR 72 9 57Dirección encontrada: AK 72 9 57Tipo dirección: Asignada por CatastroCódigo postal: 110821Sector catastral: BAVARIAUPZ: CASTILLA (UPZ46)Localidad: KENNEDYLatitud: 4.64004823100004Longitud: -74.1357152929999CHIP: Consultar CHIP asociados al lote   Mostrar información asociada   Mostrar información asociada\n",
      "{'Dirección ingresada': 'KR 72 9 57', 'Dirección encontrada': 'AK 72 9 57', 'Tipo dirección': 'Asignada por Catastro', 'Código postal': '110821', 'Sector catastral': 'BAVARIA', 'UPZ': 'CASTILLA (UPZ46)', 'Localidad': 'KENNEDY', 'Latitud': '4.64004823100004', 'Longitud': '-74.1357152929999'}\n",
      "Rebuilt registers:  26 / 1254\n",
      "Registers not processed:  11 / 1254\n",
      "KR 89B BIS A 70A SUR 21\n"
     ]
    },
    {
     "ename": "NoSuchWindowException",
     "evalue": "Message: no such window: target window already closed\nfrom unknown error: web view not found\n  (Session info: chrome=78.0.3904.97)\n",
     "output_type": "error",
     "traceback": [
      "\u001b[0;31m---------------------------------------------------------------------------\u001b[0m",
      "\u001b[0;31mNoSuchWindowException\u001b[0m                     Traceback (most recent call last)",
      "\u001b[0;32m<ipython-input-26-385a7a7f55a5>\u001b[0m in \u001b[0;36m<module>\u001b[0;34m\u001b[0m\n\u001b[1;32m      9\u001b[0m \u001b[0;34m\u001b[0m\u001b[0m\n\u001b[1;32m     10\u001b[0m \u001b[0;32mfor\u001b[0m \u001b[0mindex\u001b[0m \u001b[0;32min\u001b[0m \u001b[0mlist_idx_rebuild_location\u001b[0m\u001b[0;34m:\u001b[0m\u001b[0;34m\u001b[0m\u001b[0;34m\u001b[0m\u001b[0m\n\u001b[0;32m---> 11\u001b[0;31m     \u001b[0mstate\u001b[0m \u001b[0;34m=\u001b[0m \u001b[0mrebuild_location_in_nuse\u001b[0m\u001b[0;34m(\u001b[0m\u001b[0mdf_output\u001b[0m\u001b[0;34m,\u001b[0m \u001b[0mindex\u001b[0m\u001b[0;34m,\u001b[0m \u001b[0mdriver\u001b[0m\u001b[0;34m)\u001b[0m\u001b[0;34m\u001b[0m\u001b[0;34m\u001b[0m\u001b[0m\n\u001b[0m\u001b[1;32m     12\u001b[0m \u001b[0;34m\u001b[0m\u001b[0m\n\u001b[1;32m     13\u001b[0m     \u001b[0;32mif\u001b[0m \u001b[0mstate\u001b[0m \u001b[0;34m==\u001b[0m \u001b[0;34m\"Rebuilt\"\u001b[0m\u001b[0;34m:\u001b[0m\u001b[0;34m\u001b[0m\u001b[0;34m\u001b[0m\u001b[0m\n",
      "\u001b[0;32m<ipython-input-20-44b761a31ec8>\u001b[0m in \u001b[0;36mrebuild_location_in_nuse\u001b[0;34m(original_df, index, driver)\u001b[0m\n\u001b[1;32m      2\u001b[0m     \u001b[0maddress\u001b[0m \u001b[0;34m=\u001b[0m \u001b[0moriginal_df\u001b[0m\u001b[0;34m.\u001b[0m\u001b[0mat\u001b[0m\u001b[0;34m[\u001b[0m\u001b[0mindex\u001b[0m\u001b[0;34m,\u001b[0m\u001b[0;34m'STR_DIRECCION_INCIDENTE'\u001b[0m\u001b[0;34m]\u001b[0m\u001b[0;34m\u001b[0m\u001b[0;34m\u001b[0m\u001b[0m\n\u001b[1;32m      3\u001b[0m     \u001b[0mprint\u001b[0m\u001b[0;34m(\u001b[0m\u001b[0maddress\u001b[0m\u001b[0;34m)\u001b[0m\u001b[0;34m\u001b[0m\u001b[0;34m\u001b[0m\u001b[0m\n\u001b[0;32m----> 4\u001b[0;31m     \u001b[0mresult_ws\u001b[0m \u001b[0;34m=\u001b[0m \u001b[0mws_address\u001b[0m\u001b[0;34m.\u001b[0m\u001b[0mweb_scrap_address\u001b[0m\u001b[0;34m(\u001b[0m\u001b[0mdriver\u001b[0m\u001b[0;34m,\u001b[0m\u001b[0maddress\u001b[0m\u001b[0;34m)\u001b[0m\u001b[0;34m\u001b[0m\u001b[0;34m\u001b[0m\u001b[0m\n\u001b[0m\u001b[1;32m      5\u001b[0m     \u001b[0mws_address\u001b[0m\u001b[0;34m.\u001b[0m\u001b[0mdelete_address\u001b[0m\u001b[0;34m(\u001b[0m\u001b[0mdriver\u001b[0m\u001b[0;34m,\u001b[0m\u001b[0maddress\u001b[0m\u001b[0;34m)\u001b[0m\u001b[0;34m\u001b[0m\u001b[0;34m\u001b[0m\u001b[0m\n\u001b[1;32m      6\u001b[0m     \u001b[0mprint\u001b[0m\u001b[0;34m(\u001b[0m\u001b[0mresult_ws\u001b[0m\u001b[0;34m)\u001b[0m\u001b[0;34m\u001b[0m\u001b[0;34m\u001b[0m\u001b[0m\n",
      "\u001b[0;32m~/Desktop/dev/security_project/data_cleaning/ws_address.ipynb\u001b[0m in \u001b[0;36mweb_scrap_address\u001b[0;34m(driver, address)\u001b[0m\n",
      "\u001b[0;32m~/Desktop/dev/security_project/security_venv/lib/python3.7/site-packages/selenium/webdriver/support/wait.py\u001b[0m in \u001b[0;36muntil\u001b[0;34m(self, method, message)\u001b[0m\n\u001b[1;32m     69\u001b[0m         \u001b[0;32mwhile\u001b[0m \u001b[0;32mTrue\u001b[0m\u001b[0;34m:\u001b[0m\u001b[0;34m\u001b[0m\u001b[0;34m\u001b[0m\u001b[0m\n\u001b[1;32m     70\u001b[0m             \u001b[0;32mtry\u001b[0m\u001b[0;34m:\u001b[0m\u001b[0;34m\u001b[0m\u001b[0;34m\u001b[0m\u001b[0m\n\u001b[0;32m---> 71\u001b[0;31m                 \u001b[0mvalue\u001b[0m \u001b[0;34m=\u001b[0m \u001b[0mmethod\u001b[0m\u001b[0;34m(\u001b[0m\u001b[0mself\u001b[0m\u001b[0;34m.\u001b[0m\u001b[0m_driver\u001b[0m\u001b[0;34m)\u001b[0m\u001b[0;34m\u001b[0m\u001b[0;34m\u001b[0m\u001b[0m\n\u001b[0m\u001b[1;32m     72\u001b[0m                 \u001b[0;32mif\u001b[0m \u001b[0mvalue\u001b[0m\u001b[0;34m:\u001b[0m\u001b[0;34m\u001b[0m\u001b[0;34m\u001b[0m\u001b[0m\n\u001b[1;32m     73\u001b[0m                     \u001b[0;32mreturn\u001b[0m \u001b[0mvalue\u001b[0m\u001b[0;34m\u001b[0m\u001b[0;34m\u001b[0m\u001b[0m\n",
      "\u001b[0;32m~/Desktop/dev/security_project/security_venv/lib/python3.7/site-packages/selenium/webdriver/support/expected_conditions.py\u001b[0m in \u001b[0;36m__call__\u001b[0;34m(self, driver)\u001b[0m\n\u001b[1;32m     62\u001b[0m \u001b[0;34m\u001b[0m\u001b[0m\n\u001b[1;32m     63\u001b[0m     \u001b[0;32mdef\u001b[0m \u001b[0m__call__\u001b[0m\u001b[0;34m(\u001b[0m\u001b[0mself\u001b[0m\u001b[0;34m,\u001b[0m \u001b[0mdriver\u001b[0m\u001b[0;34m)\u001b[0m\u001b[0;34m:\u001b[0m\u001b[0;34m\u001b[0m\u001b[0;34m\u001b[0m\u001b[0m\n\u001b[0;32m---> 64\u001b[0;31m         \u001b[0;32mreturn\u001b[0m \u001b[0m_find_element\u001b[0m\u001b[0;34m(\u001b[0m\u001b[0mdriver\u001b[0m\u001b[0;34m,\u001b[0m \u001b[0mself\u001b[0m\u001b[0;34m.\u001b[0m\u001b[0mlocator\u001b[0m\u001b[0;34m)\u001b[0m\u001b[0;34m\u001b[0m\u001b[0;34m\u001b[0m\u001b[0m\n\u001b[0m\u001b[1;32m     65\u001b[0m \u001b[0;34m\u001b[0m\u001b[0m\n\u001b[1;32m     66\u001b[0m \u001b[0;34m\u001b[0m\u001b[0m\n",
      "\u001b[0;32m~/Desktop/dev/security_project/security_venv/lib/python3.7/site-packages/selenium/webdriver/support/expected_conditions.py\u001b[0m in \u001b[0;36m_find_element\u001b[0;34m(driver, by)\u001b[0m\n\u001b[1;32m    413\u001b[0m         \u001b[0;32mraise\u001b[0m \u001b[0me\u001b[0m\u001b[0;34m\u001b[0m\u001b[0;34m\u001b[0m\u001b[0m\n\u001b[1;32m    414\u001b[0m     \u001b[0;32mexcept\u001b[0m \u001b[0mWebDriverException\u001b[0m \u001b[0;32mas\u001b[0m \u001b[0me\u001b[0m\u001b[0;34m:\u001b[0m\u001b[0;34m\u001b[0m\u001b[0;34m\u001b[0m\u001b[0m\n\u001b[0;32m--> 415\u001b[0;31m         \u001b[0;32mraise\u001b[0m \u001b[0me\u001b[0m\u001b[0;34m\u001b[0m\u001b[0;34m\u001b[0m\u001b[0m\n\u001b[0m\u001b[1;32m    416\u001b[0m \u001b[0;34m\u001b[0m\u001b[0m\n\u001b[1;32m    417\u001b[0m \u001b[0;34m\u001b[0m\u001b[0m\n",
      "\u001b[0;32m~/Desktop/dev/security_project/security_venv/lib/python3.7/site-packages/selenium/webdriver/support/expected_conditions.py\u001b[0m in \u001b[0;36m_find_element\u001b[0;34m(driver, by)\u001b[0m\n\u001b[1;32m    409\u001b[0m     if thrown.\"\"\"\n\u001b[1;32m    410\u001b[0m     \u001b[0;32mtry\u001b[0m\u001b[0;34m:\u001b[0m\u001b[0;34m\u001b[0m\u001b[0;34m\u001b[0m\u001b[0m\n\u001b[0;32m--> 411\u001b[0;31m         \u001b[0;32mreturn\u001b[0m \u001b[0mdriver\u001b[0m\u001b[0;34m.\u001b[0m\u001b[0mfind_element\u001b[0m\u001b[0;34m(\u001b[0m\u001b[0;34m*\u001b[0m\u001b[0mby\u001b[0m\u001b[0;34m)\u001b[0m\u001b[0;34m\u001b[0m\u001b[0;34m\u001b[0m\u001b[0m\n\u001b[0m\u001b[1;32m    412\u001b[0m     \u001b[0;32mexcept\u001b[0m \u001b[0mNoSuchElementException\u001b[0m \u001b[0;32mas\u001b[0m \u001b[0me\u001b[0m\u001b[0;34m:\u001b[0m\u001b[0;34m\u001b[0m\u001b[0;34m\u001b[0m\u001b[0m\n\u001b[1;32m    413\u001b[0m         \u001b[0;32mraise\u001b[0m \u001b[0me\u001b[0m\u001b[0;34m\u001b[0m\u001b[0;34m\u001b[0m\u001b[0m\n",
      "\u001b[0;32m~/Desktop/dev/security_project/security_venv/lib/python3.7/site-packages/selenium/webdriver/remote/webdriver.py\u001b[0m in \u001b[0;36mfind_element\u001b[0;34m(self, by, value)\u001b[0m\n\u001b[1;32m    976\u001b[0m         return self.execute(Command.FIND_ELEMENT, {\n\u001b[1;32m    977\u001b[0m             \u001b[0;34m'using'\u001b[0m\u001b[0;34m:\u001b[0m \u001b[0mby\u001b[0m\u001b[0;34m,\u001b[0m\u001b[0;34m\u001b[0m\u001b[0;34m\u001b[0m\u001b[0m\n\u001b[0;32m--> 978\u001b[0;31m             'value': value})['value']\n\u001b[0m\u001b[1;32m    979\u001b[0m \u001b[0;34m\u001b[0m\u001b[0m\n\u001b[1;32m    980\u001b[0m     \u001b[0;32mdef\u001b[0m \u001b[0mfind_elements\u001b[0m\u001b[0;34m(\u001b[0m\u001b[0mself\u001b[0m\u001b[0;34m,\u001b[0m \u001b[0mby\u001b[0m\u001b[0;34m=\u001b[0m\u001b[0mBy\u001b[0m\u001b[0;34m.\u001b[0m\u001b[0mID\u001b[0m\u001b[0;34m,\u001b[0m \u001b[0mvalue\u001b[0m\u001b[0;34m=\u001b[0m\u001b[0;32mNone\u001b[0m\u001b[0;34m)\u001b[0m\u001b[0;34m:\u001b[0m\u001b[0;34m\u001b[0m\u001b[0;34m\u001b[0m\u001b[0m\n",
      "\u001b[0;32m~/Desktop/dev/security_project/security_venv/lib/python3.7/site-packages/selenium/webdriver/remote/webdriver.py\u001b[0m in \u001b[0;36mexecute\u001b[0;34m(self, driver_command, params)\u001b[0m\n\u001b[1;32m    319\u001b[0m         \u001b[0mresponse\u001b[0m \u001b[0;34m=\u001b[0m \u001b[0mself\u001b[0m\u001b[0;34m.\u001b[0m\u001b[0mcommand_executor\u001b[0m\u001b[0;34m.\u001b[0m\u001b[0mexecute\u001b[0m\u001b[0;34m(\u001b[0m\u001b[0mdriver_command\u001b[0m\u001b[0;34m,\u001b[0m \u001b[0mparams\u001b[0m\u001b[0;34m)\u001b[0m\u001b[0;34m\u001b[0m\u001b[0;34m\u001b[0m\u001b[0m\n\u001b[1;32m    320\u001b[0m         \u001b[0;32mif\u001b[0m \u001b[0mresponse\u001b[0m\u001b[0;34m:\u001b[0m\u001b[0;34m\u001b[0m\u001b[0;34m\u001b[0m\u001b[0m\n\u001b[0;32m--> 321\u001b[0;31m             \u001b[0mself\u001b[0m\u001b[0;34m.\u001b[0m\u001b[0merror_handler\u001b[0m\u001b[0;34m.\u001b[0m\u001b[0mcheck_response\u001b[0m\u001b[0;34m(\u001b[0m\u001b[0mresponse\u001b[0m\u001b[0;34m)\u001b[0m\u001b[0;34m\u001b[0m\u001b[0;34m\u001b[0m\u001b[0m\n\u001b[0m\u001b[1;32m    322\u001b[0m             response['value'] = self._unwrap_value(\n\u001b[1;32m    323\u001b[0m                 response.get('value', None))\n",
      "\u001b[0;32m~/Desktop/dev/security_project/security_venv/lib/python3.7/site-packages/selenium/webdriver/remote/errorhandler.py\u001b[0m in \u001b[0;36mcheck_response\u001b[0;34m(self, response)\u001b[0m\n\u001b[1;32m    240\u001b[0m                 \u001b[0malert_text\u001b[0m \u001b[0;34m=\u001b[0m \u001b[0mvalue\u001b[0m\u001b[0;34m[\u001b[0m\u001b[0;34m'alert'\u001b[0m\u001b[0;34m]\u001b[0m\u001b[0;34m.\u001b[0m\u001b[0mget\u001b[0m\u001b[0;34m(\u001b[0m\u001b[0;34m'text'\u001b[0m\u001b[0;34m)\u001b[0m\u001b[0;34m\u001b[0m\u001b[0;34m\u001b[0m\u001b[0m\n\u001b[1;32m    241\u001b[0m             \u001b[0;32mraise\u001b[0m \u001b[0mexception_class\u001b[0m\u001b[0;34m(\u001b[0m\u001b[0mmessage\u001b[0m\u001b[0;34m,\u001b[0m \u001b[0mscreen\u001b[0m\u001b[0;34m,\u001b[0m \u001b[0mstacktrace\u001b[0m\u001b[0;34m,\u001b[0m \u001b[0malert_text\u001b[0m\u001b[0;34m)\u001b[0m\u001b[0;34m\u001b[0m\u001b[0;34m\u001b[0m\u001b[0m\n\u001b[0;32m--> 242\u001b[0;31m         \u001b[0;32mraise\u001b[0m \u001b[0mexception_class\u001b[0m\u001b[0;34m(\u001b[0m\u001b[0mmessage\u001b[0m\u001b[0;34m,\u001b[0m \u001b[0mscreen\u001b[0m\u001b[0;34m,\u001b[0m \u001b[0mstacktrace\u001b[0m\u001b[0;34m)\u001b[0m\u001b[0;34m\u001b[0m\u001b[0;34m\u001b[0m\u001b[0m\n\u001b[0m\u001b[1;32m    243\u001b[0m \u001b[0;34m\u001b[0m\u001b[0m\n\u001b[1;32m    244\u001b[0m     \u001b[0;32mdef\u001b[0m \u001b[0m_value_or_default\u001b[0m\u001b[0;34m(\u001b[0m\u001b[0mself\u001b[0m\u001b[0;34m,\u001b[0m \u001b[0mobj\u001b[0m\u001b[0;34m,\u001b[0m \u001b[0mkey\u001b[0m\u001b[0;34m,\u001b[0m \u001b[0mdefault\u001b[0m\u001b[0;34m)\u001b[0m\u001b[0;34m:\u001b[0m\u001b[0;34m\u001b[0m\u001b[0;34m\u001b[0m\u001b[0m\n",
      "\u001b[0;31mNoSuchWindowException\u001b[0m: Message: no such window: target window already closed\nfrom unknown error: web view not found\n  (Session info: chrome=78.0.3904.97)\n"
     ]
    }
   ],
   "source": [
    "#Rebuild 'sector catastral', 'UPZ', 'localidad', 'latitud', 'longitud' using web scraping\n",
    "df_output = df_input\n",
    "url='https://mapas.bogota.gov.co'\n",
    "driver = ws_address.web_scrap_page(url)\n",
    "registers_to_process = len(list_idx_rebuild_location)\n",
    "rebuilt_registers = 0\n",
    "registers_not_processed = 0\n",
    "other_condition_counter = 0\n",
    "\n",
    "for index in list_idx_rebuild_location:\n",
    "    state = rebuild_location_in_nuse(df_output, index, driver)\n",
    "    \n",
    "    if state == \"Rebuilt\":\n",
    "        rebuilt_registers += 1\n",
    "    elif state == \"Not processed\":\n",
    "        registers_not_processed += 1\n",
    "    else:\n",
    "        other_condition_counter += 1\n",
    "    \n",
    "    print('Rebuilt registers: ',rebuilt_registers,'/',registers_to_process)\n",
    "    print('Registers not processed: ',registers_not_processed, '/', registers_to_process)"
   ]
  },
  {
   "cell_type": "code",
   "execution_count": null,
   "metadata": {},
   "outputs": [],
   "source": [
    "print(rebuilt_registers)\n",
    "print(registers_not_processed)\n",
    "print(other_condition_counter)"
   ]
  },
  {
   "cell_type": "code",
   "execution_count": null,
   "metadata": {},
   "outputs": [],
   "source": [
    "df_output.to_csv(r'/Users/anamaria/Desktop/dev/security_project/datasets/rebuild_locations_nuse_19112019.csv',index=None)"
   ]
  },
  {
   "cell_type": "code",
   "execution_count": null,
   "metadata": {},
   "outputs": [],
   "source": [
    "pd.DataFrame({\"Tipo de dato\":merged_nuse.dtypes.values,\n",
    "              \"Celdas con valor '-'\":(merged_nuse == '-').sum().values,\n",
    "              \"Celdas con valor 'ND'\":(merged_nuse == 'ND').sum().values,\n",
    "              \"Celdas vacías\": merged_nuse.isna().sum().values},\n",
    "             index=merged_nuse.columns)"
   ]
  },
  {
   "cell_type": "code",
   "execution_count": 31,
   "metadata": {},
   "outputs": [
    {
     "data": {
      "text/plain": [
       "1199"
      ]
     },
     "execution_count": 31,
     "metadata": {},
     "output_type": "execute_result"
    }
   ],
   "source": [
    "#Registers without address can not be rebuilt\n",
    "df_empty_locations_without_address = df1.loc[df1['STR_DIRECCION_INCIDENTE'] == 'ND']\n",
    "list_idx_not_rebuild = list(df_empty_locations_without_address.index.values)\n",
    "len(list_idx_not_rebuild)"
   ]
  },
  {
   "cell_type": "code",
   "execution_count": null,
   "metadata": {},
   "outputs": [],
   "source": [
    "# TODO: assign ND to df_empty_locations_without_address on location fields"
   ]
  },
  {
   "cell_type": "code",
   "execution_count": null,
   "metadata": {},
   "outputs": [],
   "source": []
  }
 ],
 "metadata": {
  "kernelspec": {
   "display_name": "Python 3",
   "language": "python",
   "name": "python3"
  },
  "language_info": {
   "codemirror_mode": {
    "name": "ipython",
    "version": 3
   },
   "file_extension": ".py",
   "mimetype": "text/x-python",
   "name": "python",
   "nbconvert_exporter": "python",
   "pygments_lexer": "ipython3",
   "version": "3.7.2"
  }
 },
 "nbformat": 4,
 "nbformat_minor": 2
}
