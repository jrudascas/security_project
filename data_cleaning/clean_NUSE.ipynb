{
 "cells": [
  {
   "cell_type": "code",
   "execution_count": 1,
   "metadata": {},
   "outputs": [],
   "source": [
    "import pandas as pd\n",
    "import pandas_profiling\n",
    "import numpy as np\n",
    "import matplotlib.pyplot as plt\n",
    "from IPython.display import display, HTML\n",
    "import plotly.express as px\n",
    "import plotly.graph_objects as go\n",
    "import seaborn as sns\n",
    "import calendar\n",
    "pd.set_option('display.max_colwidth', -1)\n",
    "pd.set_option('display.max_columns', None)  \n",
    "from wordcloud import WordCloud, STOPWORDS\n",
    "import folium\n",
    "from folium import plugins"
   ]
  },
  {
   "cell_type": "markdown",
   "metadata": {},
   "source": [
    "# 1. Merge datasets"
   ]
  },
  {
   "cell_type": "code",
   "execution_count": 2,
   "metadata": {},
   "outputs": [
    {
     "name": "stderr",
     "output_type": "stream",
     "text": [
      "/Users/anamaria/Desktop/dev/security_project/security_venv/lib/python3.7/site-packages/IPython/core/interactiveshell.py:3058: DtypeWarning:\n",
      "\n",
      "Columns (13) have mixed types. Specify dtype option on import or set low_memory=False.\n",
      "\n"
     ]
    }
   ],
   "source": [
    "data_location = '/Users/anamaria/Desktop/dev/security_project/datasets/NUSE 934 611(M) 2017-2018.dsv'\n",
    "data2018=pd.read_csv(data_location,delimiter=\"|\")"
   ]
  },
  {
   "cell_type": "code",
   "execution_count": 3,
   "metadata": {},
   "outputs": [],
   "source": [
    "data_location = '/Users/anamaria/Desktop/dev/security_project/datasets/NUSE 934-611-611M ENERO2019.csv'\n",
    "data2019=pd.read_csv(data_location,delimiter=\";\")"
   ]
  },
  {
   "cell_type": "code",
   "execution_count": 4,
   "metadata": {},
   "outputs": [
    {
     "name": "stderr",
     "output_type": "stream",
     "text": [
      "/Users/anamaria/Desktop/dev/security_project/security_venv/lib/python3.7/site-packages/pandas/core/frame.py:4102: SettingWithCopyWarning:\n",
      "\n",
      "\n",
      "A value is trying to be set on a copy of a slice from a DataFrame\n",
      "\n",
      "See the caveats in the documentation: http://pandas.pydata.org/pandas-docs/stable/user_guide/indexing.html#returning-a-view-versus-a-copy\n",
      "\n"
     ]
    }
   ],
   "source": [
    "frames = [data2018, data2019]\n",
    "data = pd.concat(frames)\n",
    "merged_nuse = data.loc[data['TIPO_DETALLE'] == '934 - RIÑA']\n",
    "merged_nuse.reset_index(inplace=True)\n",
    "merged_nuse.drop(columns=['index'], inplace=True)"
   ]
  },
  {
   "cell_type": "code",
   "execution_count": null,
   "metadata": {},
   "outputs": [],
   "source": [
    "merged_nuse"
   ]
  },
  {
   "cell_type": "code",
   "execution_count": null,
   "metadata": {},
   "outputs": [],
   "source": [
    "merged_nuse.to_csv(r'/Users/anamaria/Desktop/dev/security_project/datasets/merged_nuse.csv',index=None)"
   ]
  },
  {
   "cell_type": "markdown",
   "metadata": {},
   "source": [
    "# 2. Rebuild missing data"
   ]
  },
  {
   "cell_type": "code",
   "execution_count": 5,
   "metadata": {},
   "outputs": [
    {
     "name": "stdout",
     "output_type": "stream",
     "text": [
      "importing Jupyter notebook from ws_address.ipynb\n"
     ]
    }
   ],
   "source": [
    "import import_ipynb\n",
    "import ws_address\n",
    "from selenium.common.exceptions import TimeoutException"
   ]
  },
  {
   "cell_type": "code",
   "execution_count": 6,
   "metadata": {},
   "outputs": [],
   "source": [
    "def find_between( s, first, last ):\n",
    "    try:\n",
    "        start = s.index( first ) + len( first )\n",
    "        end = s.index( last, start )\n",
    "        return s[start:end]\n",
    "    except ValueError:\n",
    "        return \"\""
   ]
  },
  {
   "cell_type": "code",
   "execution_count": 7,
   "metadata": {},
   "outputs": [],
   "source": [
    "tags = [\"Dirección ingresada: \",\"Dirección encontrada: \",\"Tipo dirección: \",\"Código postal: \",\"Sector catastral: \",\n",
    "        \"UPZ: \",\"Localidad: \",\"Latitud: \",\"Longitud: \",\"CHIP: \"]\n",
    "def parse_address_ws(ws_result):\n",
    "    location = {}\n",
    "    for idx in range(len(tags)-1):\n",
    "        location[tags[idx].replace(': ','')] = find_between(ws_result,tags[idx],tags[idx+1])\n",
    "    return location"
   ]
  },
  {
   "cell_type": "code",
   "execution_count": 8,
   "metadata": {},
   "outputs": [],
   "source": [
    "def find_char(df, column_name, char=''):\n",
    "    array_char = np.where(df[column_name] == char)\n",
    "    if array_char[0].size > 0:\n",
    "        return array_char[0]\n",
    "    else:\n",
    "        return 0"
   ]
  },
  {
   "cell_type": "code",
   "execution_count": null,
   "metadata": {},
   "outputs": [],
   "source": [
    "pd.DataFrame({\"Tipo de dato\":merged_nuse.dtypes.values,\n",
    "              \"Celdas con valor '-'\":(merged_nuse == '-').sum().values,\n",
    "              \"Celdas con valor ''\":(merged_nuse == '').sum().values,\n",
    "              \"Celdas con valor ' '\":(merged_nuse == ' ').sum().values,\n",
    "              \"Celdas vacías\": merged_nuse.isna().sum().values},\n",
    "             index=merged_nuse.columns)"
   ]
  },
  {
   "cell_type": "code",
   "execution_count": 9,
   "metadata": {},
   "outputs": [],
   "source": [
    "df1 = merged_nuse.loc[merged_nuse['COD_UPZ'] == '-']\n",
    "df2 = merged_nuse.loc[merged_nuse['UPZ'] == '-']\n",
    "df3 = merged_nuse.loc[merged_nuse['COD_SEC_CATAST'] == '-']\n",
    "df4 = merged_nuse.loc[merged_nuse['SEC_CATASTRAL'] == '-']\n",
    "df5 = merged_nuse.loc[merged_nuse['COD_BARRIO'] == '-']\n",
    "df6 = merged_nuse.loc[merged_nuse['BARRIO'] == '-']"
   ]
  },
  {
   "cell_type": "code",
   "execution_count": 10,
   "metadata": {},
   "outputs": [
    {
     "data": {
      "text/plain": [
       "True"
      ]
     },
     "execution_count": 10,
     "metadata": {},
     "output_type": "execute_result"
    }
   ],
   "source": [
    "df1.equals(df2) and df1.equals(df3) and df1.equals(df4) and df1.equals(df5) and df1.equals(df6)"
   ]
  },
  {
   "cell_type": "code",
   "execution_count": 11,
   "metadata": {},
   "outputs": [],
   "source": [
    "#Try to rebuild 'sector catastral', 'UPZ', 'localidad', 'latitud', 'longitud' through address\n",
    "df_empty_locations_with_address = df1.loc[df1['STR_DIRECCION_INCIDENTE'] != '-']\n",
    "list_idx_rebuild = list(df_empty_locations_with_address.index.values)"
   ]
  },
  {
   "cell_type": "code",
   "execution_count": null,
   "metadata": {},
   "outputs": [],
   "source": [
    "df_empty_locations_with_address.head()"
   ]
  },
  {
   "cell_type": "code",
   "execution_count": 12,
   "metadata": {},
   "outputs": [],
   "source": [
    "url='https://mapas.bogota.gov.co'\n",
    "driver = ws_address.web_scrap_page(url)"
   ]
  },
  {
   "cell_type": "code",
   "execution_count": 13,
   "metadata": {},
   "outputs": [
    {
     "data": {
      "text/html": [
       "<div>\n",
       "<style scoped>\n",
       "    .dataframe tbody tr th:only-of-type {\n",
       "        vertical-align: middle;\n",
       "    }\n",
       "\n",
       "    .dataframe tbody tr th {\n",
       "        vertical-align: top;\n",
       "    }\n",
       "\n",
       "    .dataframe thead th {\n",
       "        text-align: right;\n",
       "    }\n",
       "</style>\n",
       "<table border=\"1\" class=\"dataframe\">\n",
       "  <thead>\n",
       "    <tr style=\"text-align: right;\">\n",
       "      <th></th>\n",
       "      <th>STR_NUMERO_INTERNO</th>\n",
       "      <th>FECHA</th>\n",
       "      <th>HORA</th>\n",
       "      <th>ANIO</th>\n",
       "      <th>MES</th>\n",
       "      <th>COD_LOCALIDAD</th>\n",
       "      <th>LOCALIDAD</th>\n",
       "      <th>COD_UPZ</th>\n",
       "      <th>UPZ</th>\n",
       "      <th>COD_SEC_CATAST</th>\n",
       "      <th>SEC_CATASTRAL</th>\n",
       "      <th>COD_BARRIO</th>\n",
       "      <th>BARRIO</th>\n",
       "      <th>TIPO_UNICO</th>\n",
       "      <th>TIPO_DETALLE</th>\n",
       "      <th>LATITUD</th>\n",
       "      <th>LONGITUD</th>\n",
       "      <th>STR_DIRECCION_INCIDENTE</th>\n",
       "      <th>ESTADO_INCIDENTE</th>\n",
       "      <th>PERIODO_TS</th>\n",
       "      <th>LOG_TEXT</th>\n",
       "    </tr>\n",
       "  </thead>\n",
       "  <tbody>\n",
       "    <tr>\n",
       "      <td>16456</td>\n",
       "      <td>NU_5_273004172</td>\n",
       "      <td>05-APR-17</td>\n",
       "      <td>2010</td>\n",
       "      <td>2017</td>\n",
       "      <td>4</td>\n",
       "      <td>99</td>\n",
       "      <td>SIN LOCALIZACION</td>\n",
       "      <td>-</td>\n",
       "      <td>-</td>\n",
       "      <td>-</td>\n",
       "      <td>-</td>\n",
       "      <td>-</td>\n",
       "      <td>-</td>\n",
       "      <td>934</td>\n",
       "      <td>934 - RIÑA</td>\n",
       "      <td>-1.0</td>\n",
       "      <td>-1.0</td>\n",
       "      <td>CL 19C 33 68</td>\n",
       "      <td>CERRADO</td>\n",
       "      <td>2017/04</td>\n",
       "      <td>OUTGOING~56~NUSE~273004172~05042017~201010~3118193510~ORIGIN~ALTA PRIORIDAD~LLAMANTE MANIFIESTA QUE UN SUJT LE ESTA FORMANDO PELEA EN LA VIA PUBLICA. // NO ARMAS NO HERIDOS.~BAJA~,BOGOTA D.C.,PUENTE ARANDA,CUNDINAMARCA,,CL 19C 33,68,,,~-74.0893~4.6222~934~DIRECTION~MESSAGEID~ORIGORGANISATION~ORIGINCIDENTURN~ORIGINCIDENTDATE~ORIGINCIDENTTIME~CALLERNUMBER~CALLORIGIN~PRIORITY~DESCRIPTION~INCSECURITY~LOCATION~EASTING~NORTHING~TYPE~~</td>\n",
       "    </tr>\n",
       "  </tbody>\n",
       "</table>\n",
       "</div>"
      ],
      "text/plain": [
       "      STR_NUMERO_INTERNO      FECHA  HORA  ANIO  MES  COD_LOCALIDAD  \\\n",
       "16456  NU_5_273004172     05-APR-17  2010  2017  4    99              \n",
       "\n",
       "              LOCALIDAD COD_UPZ UPZ COD_SEC_CATAST SEC_CATASTRAL COD_BARRIO  \\\n",
       "16456  SIN LOCALIZACION  -       -   -              -             -           \n",
       "\n",
       "      BARRIO TIPO_UNICO TIPO_DETALLE  LATITUD  LONGITUD  \\\n",
       "16456  -      934        934 - RIÑA  -1.0     -1.0        \n",
       "\n",
       "      STR_DIRECCION_INCIDENTE ESTADO_INCIDENTE PERIODO_TS  \\\n",
       "16456  CL 19C 33 68            CERRADO          2017/04     \n",
       "\n",
       "                                                                                                                                                                                                                                                                                                                                                                                                                                               LOG_TEXT  \n",
       "16456  OUTGOING~56~NUSE~273004172~05042017~201010~3118193510~ORIGIN~ALTA PRIORIDAD~LLAMANTE MANIFIESTA QUE UN SUJT LE ESTA FORMANDO PELEA EN LA VIA PUBLICA. // NO ARMAS NO HERIDOS.~BAJA~,BOGOTA D.C.,PUENTE ARANDA,CUNDINAMARCA,,CL 19C 33,68,,,~-74.0893~4.6222~934~DIRECTION~MESSAGEID~ORIGORGANISATION~ORIGINCIDENTURN~ORIGINCIDENTDATE~ORIGINCIDENTTIME~CALLERNUMBER~CALLORIGIN~PRIORITY~DESCRIPTION~INCSECURITY~LOCATION~EASTING~NORTHING~TYPE~~  "
      ]
     },
     "execution_count": 13,
     "metadata": {},
     "output_type": "execute_result"
    }
   ],
   "source": [
    "df_prueba = df_empty_locations_with_address.loc[df_empty_locations_with_address['STR_DIRECCION_INCIDENTE'] == 'CL 19C 33 68']\n",
    "df_prueba"
   ]
  },
  {
   "cell_type": "code",
   "execution_count": 14,
   "metadata": {},
   "outputs": [],
   "source": [
    "list_prueba = list(df_prueba.index.values)"
   ]
  },
  {
   "cell_type": "code",
   "execution_count": 27,
   "metadata": {},
   "outputs": [],
   "source": [
    "def assign_upz(original_df,index,UPZ_ws_field):\n",
    "     pass\n",
    "    #'UPZ': 'ZONA INDUSTRIAL (UPZ108)'"
   ]
  },
  {
   "cell_type": "code",
   "execution_count": 28,
   "metadata": {},
   "outputs": [],
   "source": [
    "def rebuild_location(original_df, index, driver):\n",
    "    address = original_df.at[index,'STR_DIRECCION_INCIDENTE']\n",
    "    print(address)\n",
    "    result_ws = ws_address.web_scrap_address(driver,address)\n",
    "    ws_address.delete_address(driver,address)\n",
    "    print(result_ws)\n",
    "\n",
    "    if result_ws != \"Not found\":\n",
    "        parsed_result = parse_address_ws(result_ws)\n",
    "        print(parsed_result)\n",
    "        original_df.at[index,'LATITUD'] = float(parsed_result['Latitud'])\n",
    "        original_df.at[index,'LONGITUD'] = float(parsed_result['Longitud'])\n",
    "        original_df.at[index,'LOCALIDAD'] = parsed_result['Localidad']\n",
    "        original_df.at[index,'SEC_CATASTRAL'] = parsed_result['Sector catastral']\n",
    "        assign_upz(original_df,index,parsed_result['UPZ'])\n",
    "        return \"Rebuilt\"\n",
    "    else:\n",
    "        return \"Not processed\"\n"
   ]
  },
  {
   "cell_type": "code",
   "execution_count": 29,
   "metadata": {},
   "outputs": [
    {
     "name": "stdout",
     "output_type": "stream",
     "text": [
      "16456\n",
      "CL 19C 33 68\n",
      "Dirección ingresada: CL 19C 33 68Dirección encontrada: CL 19C 33 70Tipo dirección: Aproximación por placaCódigo postal: 111611Sector catastral: CUNDINAMARCAUPZ: ZONA INDUSTRIAL (UPZ108)Localidad: PUENTE ARANDALatitud: 4.62274111100004Longitud: -74.0897361079999CHIP: Consultar CHIP asociados al lote   Mostrar información asociada   Mostrar información asociada\n",
      "{'Dirección ingresada': 'CL 19C 33 68', 'Dirección encontrada': 'CL 19C 33 70', 'Tipo dirección': 'Aproximación por placa', 'Código postal': '111611', 'Sector catastral': 'CUNDINAMARCA', 'UPZ': 'ZONA INDUSTRIAL (UPZ108)', 'Localidad': 'PUENTE ARANDA', 'Latitud': '4.62274111100004', 'Longitud': '-74.0897361079999'}\n",
      "Rebuilt\n"
     ]
    }
   ],
   "source": [
    "registers_to_process = len(list_prueba)\n",
    "rebuilt_registers = 0\n",
    "registers_not_processed = 0\n",
    "other_condition_counter = 0\n",
    "\n",
    "for index in list_prueba:\n",
    "    print(index)\n",
    "    state = rebuild_location(merged_nuse, index, driver)\n",
    "    print(state)\n",
    "    \n",
    "    if state == \"Rebuilt\":\n",
    "        rebuilt_registers += 1\n",
    "    elif state == \"Not processed\":\n",
    "        registers_not_processed += 1\n",
    "    else:\n",
    "        other_condition_counter += 1"
   ]
  },
  {
   "cell_type": "code",
   "execution_count": 30,
   "metadata": {},
   "outputs": [
    {
     "name": "stdout",
     "output_type": "stream",
     "text": [
      "1\n",
      "0\n",
      "0\n"
     ]
    }
   ],
   "source": [
    "print(rebuilt_registers)\n",
    "print(registers_not_processed)\n",
    "print(other_condition_counter)"
   ]
  },
  {
   "cell_type": "code",
   "execution_count": 31,
   "metadata": {},
   "outputs": [
    {
     "data": {
      "text/html": [
       "<div>\n",
       "<style scoped>\n",
       "    .dataframe tbody tr th:only-of-type {\n",
       "        vertical-align: middle;\n",
       "    }\n",
       "\n",
       "    .dataframe tbody tr th {\n",
       "        vertical-align: top;\n",
       "    }\n",
       "\n",
       "    .dataframe thead th {\n",
       "        text-align: right;\n",
       "    }\n",
       "</style>\n",
       "<table border=\"1\" class=\"dataframe\">\n",
       "  <thead>\n",
       "    <tr style=\"text-align: right;\">\n",
       "      <th></th>\n",
       "      <th>STR_NUMERO_INTERNO</th>\n",
       "      <th>FECHA</th>\n",
       "      <th>HORA</th>\n",
       "      <th>ANIO</th>\n",
       "      <th>MES</th>\n",
       "      <th>COD_LOCALIDAD</th>\n",
       "      <th>LOCALIDAD</th>\n",
       "      <th>COD_UPZ</th>\n",
       "      <th>UPZ</th>\n",
       "      <th>COD_SEC_CATAST</th>\n",
       "      <th>SEC_CATASTRAL</th>\n",
       "      <th>COD_BARRIO</th>\n",
       "      <th>BARRIO</th>\n",
       "      <th>TIPO_UNICO</th>\n",
       "      <th>TIPO_DETALLE</th>\n",
       "      <th>LATITUD</th>\n",
       "      <th>LONGITUD</th>\n",
       "      <th>STR_DIRECCION_INCIDENTE</th>\n",
       "      <th>ESTADO_INCIDENTE</th>\n",
       "      <th>PERIODO_TS</th>\n",
       "      <th>LOG_TEXT</th>\n",
       "    </tr>\n",
       "  </thead>\n",
       "  <tbody>\n",
       "    <tr>\n",
       "      <td>16456</td>\n",
       "      <td>NU_5_273004172</td>\n",
       "      <td>05-APR-17</td>\n",
       "      <td>2010</td>\n",
       "      <td>2017</td>\n",
       "      <td>4</td>\n",
       "      <td>99</td>\n",
       "      <td>PUENTE ARANDA</td>\n",
       "      <td>-</td>\n",
       "      <td>-</td>\n",
       "      <td>-</td>\n",
       "      <td>CUNDINAMARCA</td>\n",
       "      <td>-</td>\n",
       "      <td>-</td>\n",
       "      <td>934</td>\n",
       "      <td>934 - RIÑA</td>\n",
       "      <td>4.622741</td>\n",
       "      <td>-74.089736</td>\n",
       "      <td>CL 19C 33 68</td>\n",
       "      <td>CERRADO</td>\n",
       "      <td>2017/04</td>\n",
       "      <td>OUTGOING~56~NUSE~273004172~05042017~201010~3118193510~ORIGIN~ALTA PRIORIDAD~LLAMANTE MANIFIESTA QUE UN SUJT LE ESTA FORMANDO PELEA EN LA VIA PUBLICA. // NO ARMAS NO HERIDOS.~BAJA~,BOGOTA D.C.,PUENTE ARANDA,CUNDINAMARCA,,CL 19C 33,68,,,~-74.0893~4.6222~934~DIRECTION~MESSAGEID~ORIGORGANISATION~ORIGINCIDENTURN~ORIGINCIDENTDATE~ORIGINCIDENTTIME~CALLERNUMBER~CALLORIGIN~PRIORITY~DESCRIPTION~INCSECURITY~LOCATION~EASTING~NORTHING~TYPE~~</td>\n",
       "    </tr>\n",
       "  </tbody>\n",
       "</table>\n",
       "</div>"
      ],
      "text/plain": [
       "      STR_NUMERO_INTERNO      FECHA  HORA  ANIO  MES  COD_LOCALIDAD  \\\n",
       "16456  NU_5_273004172     05-APR-17  2010  2017  4    99              \n",
       "\n",
       "           LOCALIDAD COD_UPZ UPZ COD_SEC_CATAST SEC_CATASTRAL COD_BARRIO  \\\n",
       "16456  PUENTE ARANDA  -       -   -              CUNDINAMARCA  -           \n",
       "\n",
       "      BARRIO TIPO_UNICO TIPO_DETALLE   LATITUD   LONGITUD  \\\n",
       "16456  -      934        934 - RIÑA   4.622741 -74.089736   \n",
       "\n",
       "      STR_DIRECCION_INCIDENTE ESTADO_INCIDENTE PERIODO_TS  \\\n",
       "16456  CL 19C 33 68            CERRADO          2017/04     \n",
       "\n",
       "                                                                                                                                                                                                                                                                                                                                                                                                                                               LOG_TEXT  \n",
       "16456  OUTGOING~56~NUSE~273004172~05042017~201010~3118193510~ORIGIN~ALTA PRIORIDAD~LLAMANTE MANIFIESTA QUE UN SUJT LE ESTA FORMANDO PELEA EN LA VIA PUBLICA. // NO ARMAS NO HERIDOS.~BAJA~,BOGOTA D.C.,PUENTE ARANDA,CUNDINAMARCA,,CL 19C 33,68,,,~-74.0893~4.6222~934~DIRECTION~MESSAGEID~ORIGORGANISATION~ORIGINCIDENTURN~ORIGINCIDENTDATE~ORIGINCIDENTTIME~CALLERNUMBER~CALLORIGIN~PRIORITY~DESCRIPTION~INCSECURITY~LOCATION~EASTING~NORTHING~TYPE~~  "
      ]
     },
     "execution_count": 31,
     "metadata": {},
     "output_type": "execute_result"
    }
   ],
   "source": [
    "merged_nuse.loc[merged_nuse['STR_DIRECCION_INCIDENTE'] == 'CL 19C 33 68']"
   ]
  },
  {
   "cell_type": "code",
   "execution_count": 10,
   "metadata": {},
   "outputs": [
    {
     "name": "stdout",
     "output_type": "stream",
     "text": [
      "Not found\n",
      "{'Dirección ingresada': '', 'Dirección encontrada': '', 'Tipo dirección': '', 'Código postal': '', 'Sector catastral': '', 'UPZ': '', 'Localidad': '', 'Latitud': '', 'Longitud': ''}\n",
      "Dirección ingresada: CL 19C 33 68Dirección encontrada: CL 19C 33 70Tipo dirección: Aproximación por placaCódigo postal: 111611Sector catastral: CUNDINAMARCAUPZ: ZONA INDUSTRIAL (UPZ108)Localidad: PUENTE ARANDALatitud: 4.62274111100004Longitud: -74.0897361079999CHIP: Consultar CHIP asociados al lote   Mostrar información asociada   Mostrar información asociada\n",
      "{'Dirección ingresada': 'CL 19C 33 68', 'Dirección encontrada': 'CL 19C 33 70', 'Tipo dirección': 'Aproximación por placa', 'Código postal': '111611', 'Sector catastral': 'CUNDINAMARCA', 'UPZ': 'ZONA INDUSTRIAL (UPZ108)', 'Localidad': 'PUENTE ARANDA', 'Latitud': '4.62274111100004', 'Longitud': '-74.0897361079999'}\n",
      "Not found\n",
      "{'Dirección ingresada': '', 'Dirección encontrada': '', 'Tipo dirección': '', 'Código postal': '', 'Sector catastral': '', 'UPZ': '', 'Localidad': '', 'Latitud': '', 'Longitud': ''}\n"
     ]
    }
   ],
   "source": [
    "\n",
    "address = 'CL 14'\n",
    "result = ws_address.web_scrap_address(driver,address)\n",
    "print(result)\n",
    "print(parse_address_ws(result))\n",
    "ws_address.delete_address(driver,address)\n",
    "\n",
    "address = 'CL 19C 33 68'\n",
    "result2 = ws_address.web_scrap_address(driver,address)\n",
    "print(result2)\n",
    "print(parse_address_ws(result2))\n",
    "ws_address.delete_address(driver,address)\n",
    "\n",
    "address = 'CL 19C ESTE 33 68'\n",
    "result = ws_address.web_scrap_address(driver,address)\n",
    "print(result)\n",
    "print(parse_address_ws(result))\n",
    "ws_address.delete_address(driver,address)\n"
   ]
  },
  {
   "cell_type": "code",
   "execution_count": null,
   "metadata": {},
   "outputs": [],
   "source": [
    "import numpy as np\n",
    "A=pd.DataFrame(np.random.rand(5,5))"
   ]
  },
  {
   "cell_type": "code",
   "execution_count": null,
   "metadata": {},
   "outputs": [],
   "source": [
    "for index, row in A.iterrows():\n",
    "    for i in range(len(row)):\n",
    "        row[0]=0"
   ]
  },
  {
   "cell_type": "code",
   "execution_count": null,
   "metadata": {},
   "outputs": [],
   "source": [
    "A"
   ]
  },
  {
   "cell_type": "code",
   "execution_count": null,
   "metadata": {},
   "outputs": [],
   "source": [
    "A.at[4,1]=0"
   ]
  },
  {
   "cell_type": "code",
   "execution_count": null,
   "metadata": {},
   "outputs": [],
   "source": [
    "A"
   ]
  },
  {
   "cell_type": "code",
   "execution_count": null,
   "metadata": {},
   "outputs": [],
   "source": []
  }
 ],
 "metadata": {
  "kernelspec": {
   "display_name": "Python 3",
   "language": "python",
   "name": "python3"
  },
  "language_info": {
   "codemirror_mode": {
    "name": "ipython",
    "version": 3
   },
   "file_extension": ".py",
   "mimetype": "text/x-python",
   "name": "python",
   "nbconvert_exporter": "python",
   "pygments_lexer": "ipython3",
   "version": "3.7.2"
  }
 },
 "nbformat": 4,
 "nbformat_minor": 2
}
