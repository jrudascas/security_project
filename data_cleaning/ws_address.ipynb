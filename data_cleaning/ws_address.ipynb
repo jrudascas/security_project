{
 "cells": [
  {
   "cell_type": "code",
   "execution_count": 90,
   "metadata": {},
   "outputs": [],
   "source": [
    "from selenium import webdriver\n",
    "from selenium.webdriver.common.keys import Keys\n",
    "from selenium.webdriver.common.by import By\n",
    "from selenium.webdriver.support.ui import WebDriverWait\n",
    "from selenium.webdriver.support import expected_conditions as EC\n",
    "from selenium.webdriver.common.action_chains import ActionChains\n",
    "from selenium.common.exceptions import TimeoutException\n"
   ]
  },
  {
   "cell_type": "code",
   "execution_count": 54,
   "metadata": {},
   "outputs": [],
   "source": [
    "def web_scrap_page(url):\n",
    "    driver = webdriver.Chrome()\n",
    "    driver.get(url)\n",
    "    driver.find_element_by_id('btnIngreso').click()\n",
    "    return driver"
   ]
  },
  {
   "cell_type": "code",
   "execution_count": 89,
   "metadata": {},
   "outputs": [],
   "source": [
    "def web_scrap_address(driver,address):\n",
    "    wait = WebDriverWait(driver, 10)\n",
    "    search_field = wait.until(EC.presence_of_element_located((By.ID, 'panelSearch')))\n",
    "    search_field.send_keys(address)\n",
    "    try:\n",
    "        wait.until(EC.presence_of_element_located((By.PARTIAL_LINK_TEXT,'Dirección')))\n",
    "        search_field.send_keys(Keys.ARROW_DOWN + Keys.RETURN)\n",
    "        wait.until(EC.presence_of_element_located((By.CLASS_NAME,'contentPane')))\n",
    "        result = driver.find_element_by_class_name('contentPane').get_attribute('textContent')\n",
    "        return location\n",
    "    except TimeoutException:\n",
    "        return \"Not found\""
   ]
  },
  {
   "cell_type": "code",
   "execution_count": 84,
   "metadata": {},
   "outputs": [],
   "source": [
    "def delete_address(driver,address):\n",
    "    search_field = driver.find_element_by_id('panelSearch')\n",
    "    for i in range(len(address)):\n",
    "        search_field.send_keys(Keys.BACKSPACE)"
   ]
  },
  {
   "cell_type": "code",
   "execution_count": 49,
   "metadata": {},
   "outputs": [],
   "source": [
    "def find_between( s, first, last ):\n",
    "    try:\n",
    "        start = s.index( first ) + len( first )\n",
    "        end = s.index( last, start )\n",
    "        return s[start:end]\n",
    "    except ValueError:\n",
    "        return \"\""
   ]
  }
 ],
 "metadata": {
  "kernelspec": {
   "display_name": "Python 3",
   "language": "python",
   "name": "python3"
  },
  "language_info": {
   "codemirror_mode": {
    "name": "ipython",
    "version": 3
   },
   "file_extension": ".py",
   "mimetype": "text/x-python",
   "name": "python",
   "nbconvert_exporter": "python",
   "pygments_lexer": "ipython3",
   "version": "3.7.2"
  }
 },
 "nbformat": 4,
 "nbformat_minor": 2
}
