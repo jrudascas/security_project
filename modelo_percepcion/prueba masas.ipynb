{
 "cells": [
  {
   "cell_type": "code",
   "execution_count": 1,
   "metadata": {},
   "outputs": [
    {
     "name": "stderr",
     "output_type": "stream",
     "text": [
      "In /u01/user8/anaconda3/lib/python3.7/site-packages/matplotlib/mpl-data/stylelib/_classic_test.mplstyle: \n",
      "The text.latex.preview rcparam was deprecated in Matplotlib 3.3 and will be removed two minor releases later.\n",
      "In /u01/user8/anaconda3/lib/python3.7/site-packages/matplotlib/mpl-data/stylelib/_classic_test.mplstyle: \n",
      "The mathtext.fallback_to_cm rcparam was deprecated in Matplotlib 3.3 and will be removed two minor releases later.\n",
      "In /u01/user8/anaconda3/lib/python3.7/site-packages/matplotlib/mpl-data/stylelib/_classic_test.mplstyle: Support for setting the 'mathtext.fallback_to_cm' rcParam is deprecated since 3.3 and will be removed two minor releases later; use 'mathtext.fallback : 'cm' instead.\n",
      "In /u01/user8/anaconda3/lib/python3.7/site-packages/matplotlib/mpl-data/stylelib/_classic_test.mplstyle: \n",
      "The validate_bool_maybe_none function was deprecated in Matplotlib 3.3 and will be removed two minor releases later.\n",
      "In /u01/user8/anaconda3/lib/python3.7/site-packages/matplotlib/mpl-data/stylelib/_classic_test.mplstyle: \n",
      "The savefig.jpeg_quality rcparam was deprecated in Matplotlib 3.3 and will be removed two minor releases later.\n",
      "In /u01/user8/anaconda3/lib/python3.7/site-packages/matplotlib/mpl-data/stylelib/_classic_test.mplstyle: \n",
      "The keymap.all_axes rcparam was deprecated in Matplotlib 3.3 and will be removed two minor releases later.\n",
      "In /u01/user8/anaconda3/lib/python3.7/site-packages/matplotlib/mpl-data/stylelib/_classic_test.mplstyle: \n",
      "The animation.avconv_path rcparam was deprecated in Matplotlib 3.3 and will be removed two minor releases later.\n",
      "In /u01/user8/anaconda3/lib/python3.7/site-packages/matplotlib/mpl-data/stylelib/_classic_test.mplstyle: \n",
      "The animation.avconv_args rcparam was deprecated in Matplotlib 3.3 and will be removed two minor releases later.\n"
     ]
    }
   ],
   "source": [
    "from modelo_tweets import *"
   ]
  },
  {
   "cell_type": "code",
   "execution_count": 2,
   "metadata": {},
   "outputs": [],
   "source": [
    "partidos=pd.read_csv('entradas/Partidos.csv')\n",
    "manifestaciones=pd.read_csv('entradas/Manifestaciones.csv')\n",
    "f_especiales=pd.read_csv('entradas/FechasEspeciales.csv')\n",
    "masas=pd.read_csv('entradas/masas.csv')\n",
    "masas.fecha=pd.to_datetime(masas.fecha)\n",
    "\n",
    "partidos_M=pd.to_datetime(partidos['Fecha'].dropna())\n",
    "partidos_S=pd.to_datetime(partidos['Fecha.1'].dropna())\n",
    "manifestaciones=pd.to_datetime(manifestaciones['Fecha'].dropna())\n",
    "f_especiales=pd.to_datetime(f_especiales[['2019','2020']].values.flatten())\n",
    "f_especiales=f_especiales[~f_especiales.isna()]\n",
    "\n",
    "def TC(t):\n",
    "    return np.array([        \n",
    "#                      t.weekday()/6.0,\n",
    "                     (t.hour > 12)*1,\n",
    "                     (pd.Timestamp(t.date()) == partidos_S).sum(),\n",
    "                     (pd.Timestamp(t.date()) == partidos_M).sum(),\n",
    "                     (pd.Timestamp(t.date()) == manifestaciones).sum(),\n",
    "                     (pd.Timestamp(t.date()) == f_especiales).sum(),   \n",
    "                     np.nan_to_num(masas[masas.fecha == pd.Timestamp(t.date())].CreatedAt.mean()),\n",
    "                     1\n",
    "                    ])"
   ]
  },
  {
   "cell_type": "code",
   "execution_count": 3,
   "metadata": {},
   "outputs": [],
   "source": [
    "with open('entradas/data_tweets.pickle', 'rb') as handle:\n",
    "    data = pickle.load(handle)"
   ]
  },
  {
   "cell_type": "code",
   "execution_count": 4,
   "metadata": {},
   "outputs": [],
   "source": [
    "train_period=('2019-05-01 00:00','2019-05-15 00:00')\n",
    "validate_period=('2019-05-15 00:00','2019-06-01 00:00')\n",
    "model=modelTweets(data,\n",
    "                  train_period,\n",
    "                  validate_period,\n",
    "                  f_covariates=(TC,restore_date),\n",
    "                  followers_rate=1,\n",
    "                  win_size_pred_period=1\n",
    "                 )"
   ]
  },
  {
   "cell_type": "code",
   "execution_count": 5,
   "metadata": {},
   "outputs": [
    {
     "name": "stdout",
     "output_type": "stream",
     "text": [
      "3.6064359397164384e-10\n",
      "[14.          6.          6.          0.          4.          9.33333333\n",
      " 28.        ]\n",
      "3.6064359397164384e-10\n"
     ]
    },
    {
     "data": {
      "text/plain": [
       "(array([-0.51242748,  0.19731981,  0.32878865,  0.        , -0.67654992,\n",
       "         0.68723572,  1.78629855]),\n",
       " array([ 1.54420386e-02, -9.21879903e+01,  2.74548977e+00]),\n",
       " 0.11812796144974476,\n",
       " array([ 59.88288973,  32.85029791, 119.75874864,  30.60522723,\n",
       "         13.67395849,  20.03841798,  17.55822665,   7.60019922,\n",
       "         17.80788377,  16.40376796,  33.56290286,  32.11752306,\n",
       "         12.41079699,   6.07369424,   3.78565947,   5.32951278,\n",
       "          3.0220706 ,   2.78071516,   2.68184563,   2.63083954,\n",
       "         21.38238534,   5.48447362,  16.2487028 ,  38.91421295,\n",
       "         31.27680265,  17.23530416,  14.7506008 ,  68.22786323,\n",
       "        181.62125868,  46.39337062,  19.78137537,  46.75456561,\n",
       "         12.87833204,  93.09639134,  71.06704118,  28.11683094,\n",
       "         22.95445415,  50.43272822,  31.32355374,   9.18562114,\n",
       "          7.53877017,   6.25053081,   5.43908757,   5.18771826,\n",
       "          5.26657472,  14.79710329,  25.31745536,  37.42732667,\n",
       "         35.57965812,  38.43756249,  20.74972087,  13.28039328,\n",
       "         17.17528393,  13.01433279,  12.90585167,  59.18436892,\n",
       "         41.63631747,  24.07464845,  18.40475335, 115.04171937,\n",
       "        600.74252904, 395.55308869,  94.87668251, 152.92195765,\n",
       "         51.22511087,  19.21295415,  10.76534685,   8.42696762,\n",
       "         15.92503716,  22.7969164 ,  14.88017705,   9.09866001,\n",
       "         21.82171445,  15.10272294,   9.35103114,   9.39086504,\n",
       "         12.32835675,  10.09200279,   7.03208525,   9.86116384,\n",
       "         15.09191208,  13.90288363,  16.70363635,  10.54739914,\n",
       "          6.65453324,   7.19544641,   3.84503773,   3.84545525,\n",
       "          4.00323336,   3.73883275,   3.6891972 ,   3.67013072,\n",
       "          3.79158453,  31.20509165,  74.89721447,  25.17226373,\n",
       "         41.713907  ,  36.38661066,  46.20940584,  35.18015291,\n",
       "         21.11352854,  16.03433257,  12.75537095,  13.47629541,\n",
       "         14.67281807,  21.15448888,  15.86746195,  13.72638093,\n",
       "         27.88496768,  25.51159225,   9.20822436,   8.9674023 ,\n",
       "          7.4112766 ,   8.33602928,   7.25188832,  11.11293379,\n",
       "         20.16489683,  42.40860635,  45.7629535 ,  28.50732454,\n",
       "         21.22177897,  16.36560038,  20.40421987,  26.57126203,\n",
       "         45.82021757, 107.41326077,  38.59450882,  43.06530414,\n",
       "         21.22513704,  40.18677046,  34.38388837,  52.31653672,\n",
       "         19.24107877,  10.92911715,   6.19127028,   5.42793184,\n",
       "          6.84086398,   4.91595364,   4.62909251,   6.22440094,\n",
       "          5.1299845 ,  21.45449218,  22.92912819,  16.73191915,\n",
       "         43.4830506 ,  39.03636965,  22.19421943,  38.76242168,\n",
       "         45.85534988,  35.7796689 ,  29.17169493,  29.76521515,\n",
       "         22.61702956,  22.13662516,  28.39103874,  17.88366146,\n",
       "         17.78783197,  14.88051089,  16.41310101,   6.08096088,\n",
       "          5.96366806,   8.41870111,   5.6978907 ,   5.31733302,\n",
       "         10.36035306,  60.62056542,  44.93956029,  65.16221321,\n",
       "         61.40438315,  88.76097768,  46.51278405, 108.64670645,\n",
       "         42.48706815,  51.03001948,  25.95328733,  35.62854267,\n",
       "         30.87243714,  49.81033755, 130.71133737,  47.87196589,\n",
       "         34.79810419,  14.8908958 ,  10.24490208,   9.22102273,\n",
       "          9.83745225,   8.74910552,   8.51583519,  12.66462884,\n",
       "         15.38032962, 451.8124709 , 556.3571311 , 207.39067953,\n",
       "         95.13957983,  72.03875807, 118.31664781, 107.15062419,\n",
       "         55.25229663,  38.47253794,  32.28470568,  23.47498513,\n",
       "         24.08376383,  25.88502248,  24.82285218,  22.1964433 ,\n",
       "         56.37725013,  21.67612987,  10.463887  ,   7.19912137,\n",
       "          9.75747332,   5.90695801,   5.4057065 ,   5.11182153,\n",
       "         55.00192928,  26.48129622,  16.56878662,  43.63523168,\n",
       "         67.64991524, 131.8594179 ,  90.4741553 , 124.52908014,\n",
       "        142.0176511 ,  71.43589637,  57.3742731 ,  66.92042611,\n",
       "         43.57795214, 179.22884159,  24.26288931,  15.36593044,\n",
       "         17.46099918,   9.63839776,   8.31992566,   6.47895844,\n",
       "          6.0280645 ,   6.04219414,   5.80976098,   9.13135999,\n",
       "          5.80775738,  26.36199436,  16.75305484,  19.60233771,\n",
       "         20.28178334,  36.88898775,  20.65419565,  13.52921865,\n",
       "         19.00610814,  10.24886855,  12.48173291,  11.3315381 ,\n",
       "          8.66724946,   9.41845983,  15.59161744,   8.84420075,\n",
       "          8.27037732,   9.98492222,   5.68698042,   5.10239988,\n",
       "          5.02393712,   4.99708079,   5.63588632,   4.92380726,\n",
       "          5.72345654,   5.10766913,  15.50071952,   7.93966679,\n",
       "          6.48284031,   6.16264213,  12.86182773,   5.75383365,\n",
       "          9.80365746,   7.02634775,   6.53751829,  10.16462382,\n",
       "         40.21114747,  18.8711712 ,  14.65407812,  27.85262652,\n",
       "         36.21689632,  17.34204102,   5.98771585,   5.09366053,\n",
       "          3.4444486 ,   6.43023355,   3.51561169,   3.00224519,\n",
       "          6.61014311,  45.4849055 ,  36.92255743, 108.5115984 ,\n",
       "         48.28216088,  29.38813747,  22.96731133,  12.58137269,\n",
       "         15.8181755 ,  42.46146527,  28.6759985 ,  18.11596356,\n",
       "         27.9233114 ,  26.45709236,  87.5546684 ,  21.86384002,\n",
       "         17.03263035,   8.06032504,   6.25420128,   7.32939524,\n",
       "          5.61296311,   4.57704293,   4.37546615,   8.66620589,\n",
       "         30.27628885,  44.91309856,  90.33122955,  98.18904496,\n",
       "         71.92309187,  86.81611144,  23.37723589,  19.76150312,\n",
       "         12.79036457,  10.73437542,  19.90028989,  27.36420547,\n",
       "         59.46951575, 354.63022621, 127.17676854,  65.45381881,\n",
       "         38.17605238,  17.83085267,  10.33760601,   7.48889882,\n",
       "          6.32568585,   5.74412559,   6.70104857, 458.47933345,\n",
       "        587.40524045, 461.57755922, 157.89344837, 247.97677866]))"
      ]
     },
     "execution_count": 5,
     "metadata": {},
     "output_type": "execute_result"
    }
   ],
   "source": [
    "model.train()"
   ]
  },
  {
   "cell_type": "code",
   "execution_count": 77,
   "metadata": {},
   "outputs": [
    {
     "name": "stderr",
     "output_type": "stream",
     "text": [
      "/u01/user8/anaconda3/lib/python3.7/site-packages/seaborn/_decorators.py:43: FutureWarning: Pass the following variables as keyword args: x, y. From version 0.12, the only valid positional argument will be `data`, and passing other arguments without an explicit keyword will result in an error or misinterpretation.\n",
      "  FutureWarning\n"
     ]
    },
    {
     "data": {
      "text/plain": [
       "<AxesSubplot:xlabel='start'>"
      ]
     },
     "execution_count": 77,
     "metadata": {},
     "output_type": "execute_result"
    },
    {
     "data": {
      "image/png": "[encoded data removed]",
      "text/plain": [
       "<Figure size 432x288 with 1 Axes>"
      ]
     },
     "metadata": {
      "needs_background": "light"
     },
     "output_type": "display_data"
    }
   ],
   "source": [
    "sns.lineplot(model.real_tweets_train.start,count_tweets(np.array([ model.Tweets[i]['times'][0] for i in model.keys_train_in ]),model.t_train))"
   ]
  },
  {
   "cell_type": "code",
   "execution_count": 56,
   "metadata": {},
   "outputs": [],
   "source": [
    "A,B=model.compute_lambda_predict()"
   ]
  },
  {
   "cell_type": "code",
   "execution_count": 57,
   "metadata": {},
   "outputs": [
    {
     "name": "stderr",
     "output_type": "stream",
     "text": [
      "/u01/user8/anaconda3/lib/python3.7/site-packages/seaborn/_decorators.py:43: FutureWarning: Pass the following variables as keyword args: x, y. From version 0.12, the only valid positional argument will be `data`, and passing other arguments without an explicit keyword will result in an error or misinterpretation.\n",
      "  FutureWarning\n"
     ]
    },
    {
     "data": {
      "text/plain": [
       "<AxesSubplot:xlabel='start', ylabel='Tweets'>"
      ]
     },
     "execution_count": 57,
     "metadata": {},
     "output_type": "execute_result"
    },
    {
     "data": {
      "image/png": "[encoded data removed]",
      "text/plain": [
       "<Figure size 432x288 with 1 Axes>"
      ]
     },
     "metadata": {
      "needs_background": "light"
     },
     "output_type": "display_data"
    }
   ],
   "source": [
    "sns.lineplot(B.start,B.Tweets)"
   ]
  },
  {
   "cell_type": "code",
   "execution_count": 58,
   "metadata": {},
   "outputs": [
    {
     "data": {
      "text/html": [
       "<div>\n",
       "<style scoped>\n",
       "    .dataframe tbody tr th:only-of-type {\n",
       "        vertical-align: middle;\n",
       "    }\n",
       "\n",
       "    .dataframe tbody tr th {\n",
       "        vertical-align: top;\n",
       "    }\n",
       "\n",
       "    .dataframe thead th {\n",
       "        text-align: right;\n",
       "    }\n",
       "</style>\n",
       "<table border=\"1\" class=\"dataframe\">\n",
       "  <thead>\n",
       "    <tr style=\"text-align: right;\">\n",
       "      <th></th>\n",
       "      <th>start</th>\n",
       "      <th>end</th>\n",
       "      <th>Tweets</th>\n",
       "    </tr>\n",
       "  </thead>\n",
       "  <tbody>\n",
       "    <tr>\n",
       "      <th>0</th>\n",
       "      <td>5617.223333</td>\n",
       "      <td>5618.228569</td>\n",
       "      <td>17.146236</td>\n",
       "    </tr>\n",
       "    <tr>\n",
       "      <th>1</th>\n",
       "      <td>5618.228569</td>\n",
       "      <td>5619.233805</td>\n",
       "      <td>21.829004</td>\n",
       "    </tr>\n",
       "    <tr>\n",
       "      <th>2</th>\n",
       "      <td>5619.233805</td>\n",
       "      <td>5620.239040</td>\n",
       "      <td>18.625543</td>\n",
       "    </tr>\n",
       "    <tr>\n",
       "      <th>3</th>\n",
       "      <td>5620.239040</td>\n",
       "      <td>5621.244276</td>\n",
       "      <td>16.585503</td>\n",
       "    </tr>\n",
       "    <tr>\n",
       "      <th>4</th>\n",
       "      <td>5621.244276</td>\n",
       "      <td>5622.249511</td>\n",
       "      <td>15.514477</td>\n",
       "    </tr>\n",
       "    <tr>\n",
       "      <th>...</th>\n",
       "      <td>...</td>\n",
       "      <td>...</td>\n",
       "      <td>...</td>\n",
       "    </tr>\n",
       "    <tr>\n",
       "      <th>186</th>\n",
       "      <td>5804.197155</td>\n",
       "      <td>5805.202391</td>\n",
       "      <td>7.550248</td>\n",
       "    </tr>\n",
       "    <tr>\n",
       "      <th>187</th>\n",
       "      <td>5805.202391</td>\n",
       "      <td>5806.207627</td>\n",
       "      <td>7.550248</td>\n",
       "    </tr>\n",
       "    <tr>\n",
       "      <th>188</th>\n",
       "      <td>5806.207627</td>\n",
       "      <td>5807.212862</td>\n",
       "      <td>7.550248</td>\n",
       "    </tr>\n",
       "    <tr>\n",
       "      <th>189</th>\n",
       "      <td>5807.212862</td>\n",
       "      <td>5808.218098</td>\n",
       "      <td>7.550248</td>\n",
       "    </tr>\n",
       "    <tr>\n",
       "      <th>190</th>\n",
       "      <td>5808.218098</td>\n",
       "      <td>5809.223333</td>\n",
       "      <td>7.550248</td>\n",
       "    </tr>\n",
       "  </tbody>\n",
       "</table>\n",
       "<p>191 rows × 3 columns</p>\n",
       "</div>"
      ],
      "text/plain": [
       "           start          end     Tweets\n",
       "0    5617.223333  5618.228569  17.146236\n",
       "1    5618.228569  5619.233805  21.829004\n",
       "2    5619.233805  5620.239040  18.625543\n",
       "3    5620.239040  5621.244276  16.585503\n",
       "4    5621.244276  5622.249511  15.514477\n",
       "..           ...          ...        ...\n",
       "186  5804.197155  5805.202391   7.550248\n",
       "187  5805.202391  5806.207627   7.550248\n",
       "188  5806.207627  5807.212862   7.550248\n",
       "189  5807.212862  5808.218098   7.550248\n",
       "190  5808.218098  5809.223333   7.550248\n",
       "\n",
       "[191 rows x 3 columns]"
      ]
     },
     "execution_count": 58,
     "metadata": {},
     "output_type": "execute_result"
    }
   ],
   "source": [
    "model.Tweets_pred"
   ]
  },
  {
   "cell_type": "code",
   "execution_count": 42,
   "metadata": {},
   "outputs": [
    {
     "name": "stderr",
     "output_type": "stream",
     "text": [
      "/u01/user8/Documents/percepcion/limpio/modelo_tweets.py:644: RuntimeWarning: divide by zero encountered in true_divide\n",
      "  self.errors_predict['APE']=diff/real\n"
     ]
    },
    {
     "data": {
      "text/plain": [
       "({'APE': array([5.45766557e-01, 1.24016328e+00, 2.22221707e+00, 2.90971386e+00,\n",
       "         2.04050949e+00, 2.01707942e+00, 1.57698828e+00, 1.68503576e+00,\n",
       "         4.28977895e+00, 2.07954119e+00, 2.59230798e+00, 1.75547024e+00,\n",
       "         2.03399506e+00, 4.69140004e+00, 1.12915396e+01, 1.50312501e+01,\n",
       "         2.58824437e+01, 1.43056860e+01, 4.09409374e+01, 6.70048071e+00,\n",
       "         3.16835092e+00, 1.11066574e+00, 5.63856698e-01, 2.36510815e-01,\n",
       "         1.71727741e+00, 1.53612343e+00, 2.93417236e+00, 2.64284076e+00,\n",
       "         6.56527834e+00, 2.46446584e+00, 6.67177258e+00, 7.26108401e+00,\n",
       "         1.45921206e-02, 7.06249933e-02, 1.82496998e-01, 4.45679474e-01,\n",
       "         1.02312668e+00, 2.36239836e+00, 1.90159887e+00, 2.31169862e+01,\n",
       "         1.29164424e+01, 9.54211764e+00, 3.79975472e+01, 6.38631935e+00,\n",
       "         2.29017387e-01, 7.14691570e-02, 1.38115455e-01, 1.78632255e-01,\n",
       "         4.24599922e-01, 6.80194533e-01, 2.27978382e+00, 4.68873892e+00,\n",
       "         3.93904692e+00, 3.27268077e+00, 4.57379703e+00, 3.32268106e+00,\n",
       "         5.95678310e+00, 2.25891932e+00, 3.63157264e+00, 3.75750525e+00,\n",
       "         8.27613759e+00, 4.97804987e+01, 4.37356228e+01, 2.43836368e+01,\n",
       "         3.67165726e+01,            inf, 7.69946954e+01, 3.84725575e+00,\n",
       "         1.54521646e+00, 2.33164831e+00, 1.54923833e+00, 3.20958210e+00,\n",
       "         2.30232344e+00, 3.46943280e+00, 3.65429188e+00, 3.94518015e+00,\n",
       "         7.68380825e+00, 7.77041000e+00, 3.66274162e+00, 6.63646592e+00,\n",
       "         4.78621863e+00, 2.72309077e+00, 1.84074217e+00, 3.37413471e+00,\n",
       "         2.52292022e+00, 2.72428479e+01, 1.07700657e+01,            inf,\n",
       "         6.49242991e+01, 3.35330985e+01, 9.93695536e+00, 2.85189798e+00,\n",
       "         2.83709720e-01, 3.19193065e-01, 1.14595046e+00, 6.07864582e-01,\n",
       "         2.12167417e+00, 2.98855723e+00, 8.80499122e+00, 6.21138295e+00,\n",
       "         3.39227789e+00, 3.09842269e+00, 3.20763648e+00, 8.08189280e+00,\n",
       "         5.84180765e+00, 4.06409675e+00, 4.71437500e+00, 1.23030537e+00,\n",
       "         2.56358045e+00, 5.47713867e+00, 1.55925959e+01, 1.96610205e+01,\n",
       "                    inf, 6.51590658e+01, 1.30967493e+01, 2.99048320e+00,\n",
       "         1.69958243e+00, 9.14420794e-01, 1.30256918e+00, 8.05236230e-01,\n",
       "         4.29392798e-01, 1.90871590e-01, 4.59010698e-01, 2.26845703e+00,\n",
       "         1.50149077e+00, 1.84134652e+00, 7.28998881e-01, 9.94517118e-01,\n",
       "         2.52578180e+00, 4.62274831e-01, 2.04447241e-01, 2.06652595e-01,\n",
       "         1.56499917e+00, 2.50043420e+00, 5.95086528e+00, 7.29847957e+00,\n",
       "         3.09975479e+01, 5.87894073e+01, 2.77884043e+00, 1.13922055e+00,\n",
       "         2.42795885e-01, 3.57734908e-01, 8.98564206e-02, 3.75959803e-01,\n",
       "         8.01201498e-01, 4.75524054e-01, 9.74864254e-01, 1.41323037e+00,\n",
       "         1.45818078e+00, 1.13374835e+00, 1.34361441e+00, 1.03319821e+00,\n",
       "         5.17755432e-01, 5.50031978e-01, 7.31858474e-01, 9.82099555e-01,\n",
       "         2.14466767e+00, 3.93114168e+00, 7.33435579e+00, 1.42531286e+01,\n",
       "         5.48027035e+01, 5.12443900e+01, 1.10344147e+01, 6.92753015e+00,\n",
       "         1.80903205e+00, 5.37099222e-01, 1.77054196e+00, 9.32192292e-01,\n",
       "         2.75174862e-01, 6.74683728e-01, 1.29202985e+00, 3.57014619e+00,\n",
       "         4.61968135e-02, 3.95385676e-01, 3.33792862e-01, 5.98914831e-01,\n",
       "         6.52823408e-01, 7.64588350e-01, 1.16603009e+00, 1.32561498e+00,\n",
       "         2.45553660e+00, 7.64681636e+00, 5.96793020e+00, 9.31130758e+00,\n",
       "         5.50703308e+01, 1.05802986e+01, 1.13373827e+01, 8.39346366e+00,\n",
       "         1.03751356e+00, 1.39447859e+00, 1.65804968e+00, 1.46295281e+00,\n",
       "         2.06446785e+00, 2.15931935e+00, 2.12500696e+00, 4.08613929e+00,\n",
       "         2.70051669e+00, 3.64642049e+00, 9.95867944e+00, 5.25349163e+00,\n",
       "         4.95121605e+00, 3.04932986e+00, 4.20686880e+00, 4.37955164e+00,\n",
       "         7.48921612e+00, 4.80292982e+01, 8.22682129e+00, 4.51816225e+01,\n",
       "                    inf, 4.87998605e+01,            inf, 3.75684352e+00,\n",
       "         5.84437367e-01, 1.40322285e-01, 8.85162232e-03, 4.53259232e-01,\n",
       "         6.44967806e-02, 2.20340390e+00, 1.79806076e+00, 2.41802587e+00,\n",
       "         5.44379795e+00, 3.02696709e+00, 1.55327072e+00, 2.10201370e+00,\n",
       "         5.53297285e-01, 3.19202819e-01, 9.87792060e-01, 1.90678933e+00,\n",
       "         6.12034836e+00, 8.17575237e+00, 8.88390609e+00, 1.84014824e+01,\n",
       "         9.08047328e+01, 1.57870263e+01, 4.10622315e+00, 1.19963297e+00,\n",
       "         4.48965935e-01, 2.08684499e+00, 1.79882989e+00, 1.44752749e+00,\n",
       "         8.77062484e-01, 2.81897068e+00, 4.50641366e+00, 2.65555635e+00,\n",
       "         3.77118564e+00, 2.66797954e+00, 4.37185746e+00, 4.49857510e+00,\n",
       "         3.15113961e+00, 3.23170980e+00, 2.69820648e+00, 5.56881188e+00,\n",
       "         4.55319444e+00, 2.18711780e+01, 1.45520281e+01, 7.43017463e+01,\n",
       "         3.76333590e+01, 7.12780551e+01, 1.77790045e+01, 5.64617043e+00,\n",
       "         4.61260437e-01, 8.83346907e-01, 1.19102709e+00, 1.24328256e+00,\n",
       "         1.73954999e+00, 2.02310809e+00, 8.38797927e-01, 1.73379145e+00,\n",
       "         3.17617372e+00, 2.76431205e+00, 2.86047957e-01, 1.04792416e+00,\n",
       "         1.19877263e+00, 1.85582888e+00, 6.07969503e-01, 9.70317863e-01,\n",
       "         1.86094860e+00, 6.62036462e+00,            inf, 1.53462335e+01,\n",
       "         2.78719190e+01, 2.47587467e+01, 5.08036952e+00, 5.80963746e-01,\n",
       "         1.37170763e+00, 4.47441885e-01, 3.20415340e-01, 5.11879950e-01,\n",
       "         8.10305474e-01, 3.95354000e+00, 1.49768856e+00, 3.96203526e+00,\n",
       "         2.57641501e+00, 1.45818410e+00, 4.31811345e-01, 5.74295905e-01,\n",
       "         5.58787387e-01, 5.04662338e-01, 4.31941597e-01, 1.55195190e-01,\n",
       "         3.51923288e-01, 1.47132882e+00, 3.29202533e+00, 3.14100778e+00,\n",
       "         5.19822921e+00, 2.21927661e+00, 2.53977516e-01, 5.32108621e-01,\n",
       "         5.04690331e-01, 6.93225702e-01, 3.98476627e-01, 2.55953107e-01,\n",
       "         6.70014833e-02, 5.50109686e-02, 1.22016296e-01, 9.02159822e-01,\n",
       "         1.00400995e+00, 9.83136326e-01, 9.75894548e-01, 1.04004463e+00,\n",
       "         1.09560387e+00, 1.10050065e+00, 1.18841421e+00, 2.59295242e+00,\n",
       "         4.80879070e+00, 5.97400477e+00, 6.18366201e+01, 5.23747736e+01,\n",
       "         2.49947260e+01, 4.60357646e+01, 9.09482928e+00, 2.80034664e+00,\n",
       "         1.11440326e+00, 1.70378006e+00, 2.42969519e+00]),\n",
       "  'MAPE': inf,\n",
       "  'MSE': 3003.009427822094,\n",
       "  'MAE': 49.160146849038,\n",
       "  'RMSE': 54.79972105606099,\n",
       "  'Pearson': 0.17826734354839774,\n",
       "  'kendall': 0.17432974009375246},\n",
       " {'APE': array([0.54576656, 0.11281387, 0.29581655, 0.6851204 , 0.97878804,\n",
       "         1.19737569, 1.26676724, 1.34079707, 1.62389933, 1.68401874,\n",
       "         1.79478572, 1.78870601, 1.81571031, 1.95384388, 2.15336729,\n",
       "         2.36980229, 2.56574097, 2.71067856, 2.86735995, 2.94433025,\n",
       "         2.95214492, 2.81966441, 2.64039492, 2.42978272, 2.39692945,\n",
       "         2.3522428 , 2.37368231, 2.3845574 , 2.46734395, 2.46721467,\n",
       "         2.56431763, 2.65995314, 2.25453383, 1.96746428, 1.80054426,\n",
       "         1.70553271, 1.67534584, 1.69240989, 1.69721884, 1.75179149,\n",
       "         1.79429651, 1.83342692, 1.8790311 , 1.90727226, 1.85234755,\n",
       "         1.77393112, 1.71017439, 1.61813508, 1.57429093, 1.54773361,\n",
       "         1.56264443, 1.6074737 , 1.64691761, 1.68424   , 1.73890729,\n",
       "         1.7765167 , 1.83809774, 1.8518547 , 1.88981422, 1.92587584,\n",
       "         1.98659547, 2.06263987, 2.12884   , 2.18174364, 2.23638735,\n",
       "         2.29093933, 2.34999368, 2.36753972, 2.34993647, 2.3496475 ,\n",
       "         2.33197842, 2.34470654, 2.34392222, 2.35971886, 2.37498082,\n",
       "         2.39327649, 2.42929101, 2.46898851, 2.48725619, 2.52554817,\n",
       "         2.55205766, 2.55522899, 2.53871681, 2.55004102, 2.54964581,\n",
       "         2.59454254, 2.624164  , 2.66583677, 2.70340977, 2.74057637,\n",
       "         2.76650926, 2.76732201, 2.69977005, 2.64459557, 2.62453562,\n",
       "         2.58917482, 2.58435784, 2.58783482, 2.61114499, 2.6303258 ,\n",
       "         2.6379614 , 2.64300558, 2.64941191, 2.68005667, 2.70578812,\n",
       "         2.72014367, 2.74001643, 2.70547094, 2.70376471, 2.71836142,\n",
       "         2.74295403, 2.76715727, 2.80048384, 2.83020671, 2.85461598,\n",
       "         2.85583251, 2.84236896, 2.81144404, 2.79232707, 2.76134792,\n",
       "         2.70954927, 2.64436499, 2.59896918, 2.59557165, 2.58004963,\n",
       "         2.57059044, 2.53375861, 2.50706656, 2.50723807, 2.4629318 ,\n",
       "         2.36318084, 2.31170877, 2.30367127, 2.30502826, 2.31630792,\n",
       "         2.32997174, 2.3496138 , 2.36894249, 2.37103737, 2.35980879,\n",
       "         2.29720908, 2.23068623, 2.19951238, 2.17952981, 2.16543473,\n",
       "         2.14219329, 2.12948959, 2.12305227, 2.11732572, 2.10720661,\n",
       "         2.09987079, 2.08789606, 2.06561824, 2.04608968, 2.03152756,\n",
       "         2.02287843, 2.02364314, 2.03038892, 2.04046977, 2.0537192 ,\n",
       "         2.06802207, 2.08135261, 2.09347099, 2.10391736, 2.10233281,\n",
       "         2.08816403, 2.08664914, 2.07935399, 2.06101597, 2.05026087,\n",
       "         2.04558404, 2.05104982, 2.02270553, 2.00241981, 1.98106402,\n",
       "         1.96692266, 1.95204726, 1.93708048, 1.92981498, 1.92515425,\n",
       "         1.9276223 , 1.9369218 , 1.94439875, 1.95292921, 1.96522775,\n",
       "         1.97518967, 1.98384235, 1.99123863, 1.9862029 , 1.98376782,\n",
       "         1.98258069, 1.98057622, 1.9808608 , 1.9814641 , 1.98194774,\n",
       "         1.98713396, 1.98999959, 1.99589302, 2.01003337, 2.0200817 ,\n",
       "         2.0291344 , 2.03316945, 2.03888595, 2.0450254 , 2.05334259,\n",
       "         2.06337443, 2.07009135, 2.07948589, 2.09024923, 2.10042562,\n",
       "         2.1098363 , 2.11341675, 2.10515199, 2.08399096, 2.06709527,\n",
       "         2.05856908, 2.03319074, 2.03410909, 2.03260033, 2.03457687,\n",
       "         2.04433942, 2.04874133, 2.04483763, 2.04523906, 2.0231253 ,\n",
       "         1.99334801, 1.98100517, 1.98042613, 1.99455824, 2.00975982,\n",
       "         2.02403499, 2.03947959, 2.05621827, 2.06915234, 2.07527427,\n",
       "         2.06906868, 2.05291551, 2.0530652 , 2.05185588, 2.04833851,\n",
       "         2.0394588 , 2.04268166, 2.04974739, 2.05266513, 2.05968698,\n",
       "         2.06312548, 2.07206303, 2.08099654, 2.08622404, 2.09179237,\n",
       "         2.09524683, 2.10541045, 2.11338916, 2.12693813, 2.13757969,\n",
       "         2.14993869, 2.16208846, 2.17391934, 2.18459678, 2.19109794,\n",
       "         2.17674609, 2.16826122, 2.16270411, 2.15765738, 2.15571914,\n",
       "         2.15515074, 2.14567128, 2.14359209, 2.14727809, 2.14977095,\n",
       "         2.12774676, 2.12021232, 2.11469298, 2.11331302, 2.09997897,\n",
       "         2.09126917, 2.09017342, 2.09780818, 2.10848987, 2.1165975 ,\n",
       "         2.12448219, 2.13140928, 2.135465  , 2.12766531, 2.12491679,\n",
       "         2.11481304, 2.10380282, 2.09597952, 2.08931306, 2.09289653,\n",
       "         2.0902679 , 2.09466624, 2.09621776, 2.09324282, 2.07860571,\n",
       "         2.00231944, 1.93005266, 1.87269281, 1.82522413, 1.79597314,\n",
       "         1.78438247, 1.78319049, 1.78605754, 1.78879828, 1.79310311,\n",
       "         1.7941766 , 1.77475797, 1.74017482, 1.71184844, 1.66576764,\n",
       "         1.64341209, 1.62657021, 1.61644666, 1.60318417, 1.59202723,\n",
       "         1.58842439, 1.58571662, 1.58307254, 1.58041992, 1.57788945,\n",
       "         1.57596138, 1.57401579, 1.57244433, 1.57502307, 1.57998936,\n",
       "         1.58480419, 1.59140569, 1.59696916, 1.60209463, 1.60696087,\n",
       "         1.61105887, 1.61274875, 1.6114449 , 1.61162573, 1.61278119]),\n",
       "  'MAPE': 2.099695873989099,\n",
       "  'MSE': 82751858.03165889,\n",
       "  'MAE': 7855.46137825383,\n",
       "  'RMSE': 9096.80482541309,\n",
       "  'Pearson': 0.9895624069710519,\n",
       "  'kendall': 0.9999463744670577})"
      ]
     },
     "execution_count": 42,
     "metadata": {},
     "output_type": "execute_result"
    }
   ],
   "source": [
    "model.compute_errors()"
   ]
  },
  {
   "cell_type": "code",
   "execution_count": 43,
   "metadata": {},
   "outputs": [
    {
     "data": {
      "text/plain": [
       "0.9895624069710519"
      ]
     },
     "execution_count": 43,
     "metadata": {},
     "output_type": "execute_result"
    }
   ],
   "source": [
    "model.errors_predict['MAPE']\n",
    "model.errors_predict['Pearson']\n",
    "model.errors_predict_cum['MAPE']\n",
    "model.errors_predict_cum['Pearson']"
   ]
  },
  {
   "cell_type": "code",
   "execution_count": 44,
   "metadata": {},
   "outputs": [
    {
     "ename": "NameError",
     "evalue": "name 'B' is not defined",
     "output_type": "error",
     "traceback": [
      "\u001b[0;31m---------------------------------------------------------------------------\u001b[0m",
      "\u001b[0;31mNameError\u001b[0m                                 Traceback (most recent call last)",
      "\u001b[0;32m<ipython-input-44-1a63539be954>\u001b[0m in \u001b[0;36m<module>\u001b[0;34m\u001b[0m\n\u001b[0;32m----> 1\u001b[0;31m \u001b[0msns\u001b[0m\u001b[0;34m.\u001b[0m\u001b[0mlineplot\u001b[0m\u001b[0;34m(\u001b[0m\u001b[0mB\u001b[0m\u001b[0;34m.\u001b[0m\u001b[0mstart\u001b[0m\u001b[0;34m,\u001b[0m\u001b[0mmodel\u001b[0m\u001b[0;34m.\u001b[0m\u001b[0merrors_predict\u001b[0m\u001b[0;34m[\u001b[0m\u001b[0;34m'APE'\u001b[0m\u001b[0;34m]\u001b[0m\u001b[0;34m)\u001b[0m\u001b[0;34m\u001b[0m\u001b[0;34m\u001b[0m\u001b[0m\n\u001b[0m\u001b[1;32m      2\u001b[0m \u001b[0mmodel\u001b[0m\u001b[0;34m.\u001b[0m\u001b[0merrors_predict\u001b[0m\u001b[0;34m[\u001b[0m\u001b[0;34m'APE'\u001b[0m\u001b[0;34m]\u001b[0m\u001b[0;34m.\u001b[0m\u001b[0mmean\u001b[0m\u001b[0;34m(\u001b[0m\u001b[0;34m)\u001b[0m\u001b[0;34m\u001b[0m\u001b[0;34m\u001b[0m\u001b[0m\n",
      "\u001b[0;31mNameError\u001b[0m: name 'B' is not defined"
     ]
    }
   ],
   "source": [
    "sns.lineplot(B.start,model.errors_predict['APE'])\n",
    "model.errors_predict['APE'].mean()"
   ]
  },
  {
   "cell_type": "code",
   "execution_count": 62,
   "metadata": {},
   "outputs": [],
   "source": [
    "model.method_pred = 'thinning'"
   ]
  },
  {
   "cell_type": "code",
   "execution_count": 63,
   "metadata": {},
   "outputs": [],
   "source": [
    "C,D=model.compute_lambda_predict()"
   ]
  },
  {
   "cell_type": "code",
   "execution_count": 64,
   "metadata": {},
   "outputs": [
    {
     "name": "stderr",
     "output_type": "stream",
     "text": [
      "/u01/user8/anaconda3/lib/python3.7/site-packages/seaborn/_decorators.py:43: FutureWarning: Pass the following variables as keyword args: x, y. From version 0.12, the only valid positional argument will be `data`, and passing other arguments without an explicit keyword will result in an error or misinterpretation.\n",
      "  FutureWarning\n"
     ]
    },
    {
     "data": {
      "text/plain": [
       "<AxesSubplot:xlabel='start', ylabel='Tweets'>"
      ]
     },
     "execution_count": 64,
     "metadata": {},
     "output_type": "execute_result"
    },
    {
     "data": {
      "image/png": "[encoded data removed]",
      "text/plain": [
       "<Figure size 432x288 with 1 Axes>"
      ]
     },
     "metadata": {
      "needs_background": "light"
     },
     "output_type": "display_data"
    }
   ],
   "source": [
    "sns.lineplot(D.start,D.Tweets)"
   ]
  },
  {
   "cell_type": "code",
   "execution_count": 65,
   "metadata": {},
   "outputs": [
    {
     "data": {
      "text/plain": [
       "({'APE': array([ 0.37037037,  0.69047619,  0.11538462,  0.05555556,  0.05      ,\n",
       "          0.14285714,  0.77464789,  0.83333333,  0.81395349,  0.83950617,\n",
       "          0.85882353,  0.75      ,  0.76666667,  0.84090909,  0.46666667,\n",
       "          2.33333333,  7.        ,  0.4       ,  0.16666667,  0.86956522,\n",
       "          0.8       ,  0.84210526,  0.86956522,  0.58536585,  0.34615385,\n",
       "          0.42857143,  0.44827586,  0.16129032,  0.3       ,  0.54545455,\n",
       "          0.04761905,  0.11764706,  0.35294118,  0.05      ,  0.22222222,\n",
       "          0.48275862,  0.66666667,  0.47368421,  0.33333333,  3.        ,\n",
       "         14.        ,  2.33333333,  1.66666667,  0.25      ,  0.53846154,\n",
       "          0.90697674,  0.65      ,  0.41666667,  0.30434783,  0.62790698,\n",
       "          0.65116279,  0.47222222,  0.37931034,  0.66666667,  0.75324675,\n",
       "          0.66037736,  0.74576271,  0.87931034,  0.58333333,  0.55263158,\n",
       "          0.72093023,  0.55      ,  1.        ,  0.28571429,  0.33333333,\n",
       "          1.        ,  0.22222222,  0.77777778,  0.67741935,  0.69230769,\n",
       "          0.62962963,  0.4       ,  0.15384615,  0.17241379,  0.25925926,\n",
       "          0.11764706,  0.        ,  0.25      ,  0.46666667,  0.48484848,\n",
       "          0.33333333,  0.59090909,  0.46666667,  0.25      ,  0.28571429,\n",
       "          0.2       ,  2.33333333,  9.        ,  1.66666667,  3.        ,\n",
       "          7.        ,  5.5       ,  2.33333333,  0.57142857,  0.5625    ,\n",
       "          0.41666667,  0.08333333,  0.58333333,  0.54166667,  0.57142857,\n",
       "          0.05882353,  0.47619048,  0.        ,  0.        ,  0.44      ,\n",
       "          0.23529412,  0.84507042,  0.85454545,  0.77777778,  0.5       ,\n",
       "          0.25      ,  2.33333333,  0.        ,  0.5       ,  0.16666667,\n",
       "          0.76470588,  0.97457627,  0.98198198,  0.95535714,  0.85858586,\n",
       "          0.78082192,  0.8       ,  0.8375    ,  0.81690141,  0.78846154,\n",
       "          0.57142857,  0.71111111,  0.84375   ,  0.85      ,  0.72222222,\n",
       "          0.62790698,  0.65      ,  0.46666667,  0.88888889,  0.16666667,\n",
       "          0.5       ,  0.14285714,  0.33333333,  0.5       ,  0.71428571,\n",
       "          0.66666667,  0.77777778,  0.94339623,  0.43902439,  0.78846154,\n",
       "          0.5       ,  0.53333333,  0.55172414,  0.81818182,  0.6       ,\n",
       "          0.53658537,  0.375     ,  0.57692308,  0.37037037,  0.77586207,\n",
       "          0.58064516,  0.78431373,  0.27272727,  1.        ,  2.        ,\n",
       "          4.        ,  0.        ,  0.07142857,  0.75757576,  0.85964912,\n",
       "          0.84615385,  0.9       ,  0.45945946,  0.84444444,  0.55263158,\n",
       "          0.71428571,  0.45      ,  0.33333333,  0.48      ,  0.125     ,\n",
       "          0.53571429,  0.41666667,  0.66666667,  0.05263158,  0.33333333,\n",
       "          0.53846154,  0.41666667,  0.2       ,  2.        ,  6.        ,\n",
       "          2.33333333,  0.22222222,  0.95402299,  0.9       ,  0.93814433,\n",
       "          0.88118812]),\n",
       "  'MAPE': 0.8957843027238236,\n",
       "  'MSE': 985.6230366492147,\n",
       "  'MAE': 20.732984293193716,\n",
       "  'RMSE': 31.39463388302553,\n",
       "  'Pearson': 0.1407695559680178,\n",
       "  'kendall': 0.21866012680349392},\n",
       " {'APE': array([0.37037037, 0.56521739, 0.44210526, 0.38053097, 0.33082707,\n",
       "         0.31292517, 0.46330275, 0.55517241, 0.6143617 , 0.65426696,\n",
       "         0.68634686, 0.69344262, 0.696875  , 0.70614035, 0.70100143,\n",
       "         0.68803419, 0.67709815, 0.66949153, 0.66526611, 0.67164179,\n",
       "         0.67902813, 0.69347319, 0.70243363, 0.6973545 , 0.68795057,\n",
       "         0.67892644, 0.67246377, 0.6575985 , 0.65101289, 0.64789991,\n",
       "         0.63684211, 0.62921348, 0.62521295, 0.61557789, 0.60687961,\n",
       "         0.604     , 0.60488959, 0.6029526 , 0.60170147, 0.596139  ,\n",
       "         0.58487654, 0.57813703, 0.57296467, 0.56793893, 0.56736527,\n",
       "         0.57795504, 0.57998591, 0.57594502, 0.57171854, 0.57330703,\n",
       "         0.57544757, 0.573125  , 0.56967465, 0.57142857, 0.57949309,\n",
       "         0.58188932, 0.58712121, 0.59601259, 0.59570113, 0.59487952,\n",
       "         0.597543  , 0.59708029, 0.59397766, 0.5918958 , 0.58922559,\n",
       "         0.58769822, 0.58421053, 0.58586338, 0.58719028, 0.58907254,\n",
       "         0.58956916, 0.58660714, 0.58164166, 0.57647059, 0.57278208,\n",
       "         0.56947413, 0.56512516, 0.5609962 , 0.55981659, 0.55879934,\n",
       "         0.55605199, 0.55666401, 0.55559937, 0.55273438, 0.55128205,\n",
       "         0.54982551, 0.5464756 , 0.54277971, 0.54021655, 0.53748068,\n",
       "         0.53456933, 0.52991123, 0.52659985, 0.52364475, 0.52388231,\n",
       "         0.52290799, 0.52091971, 0.52147927, 0.52165864, 0.52191529,\n",
       "         0.51830161, 0.51798039, 0.51517341, 0.51276519, 0.51211689,\n",
       "         0.51044988, 0.5186593 , 0.5249237 , 0.52721774, 0.5270903 ,\n",
       "         0.5260521 , 0.52318986, 0.5224925 , 0.52181152, 0.52110336,\n",
       "         0.52247191, 0.5394402 , 0.55453149, 0.56786457, 0.57616849,\n",
       "         0.58038994, 0.58405113, 0.58956238, 0.59386667, 0.59652814,\n",
       "         0.5962539 , 0.59758293, 0.60156843, 0.60528283, 0.60632255,\n",
       "         0.60654936, 0.60696999, 0.6064625 , 0.60707411, 0.60595867,\n",
       "         0.60542747, 0.60417166, 0.60349784, 0.60320115, 0.60357143,\n",
       "         0.60397445, 0.60544218, 0.60959222, 0.60798715, 0.61011567,\n",
       "         0.60951951, 0.60900739, 0.60863758, 0.60965884, 0.60959507,\n",
       "         0.6089422 , 0.60772402, 0.60755124, 0.60617761, 0.60826271,\n",
       "         0.60808251, 0.60995419, 0.60918346, 0.60851506, 0.60689083,\n",
       "         0.60497925, 0.60447761, 0.6029351 , 0.60398276, 0.60693994,\n",
       "         0.6088182 , 0.61172015, 0.61060546, 0.61266915, 0.61222503,\n",
       "         0.61305271, 0.61242547, 0.61098354, 0.61035993, 0.60888551,\n",
       "         0.60849858, 0.60763301, 0.60806271, 0.6057281 , 0.6046684 ,\n",
       "         0.60450933, 0.60409368, 0.60335298, 0.60239411, 0.60117842,\n",
       "         0.59955834, 0.59893441, 0.6045208 , 0.61028369, 0.61582709,\n",
       "         0.62041795]),\n",
       "  'MAPE': 0.5860534308762633,\n",
       "  'MSE': 3867575.42408377,\n",
       "  'MAE': 1704.5759162303666,\n",
       "  'RMSE': 1966.6152201393566,\n",
       "  'Pearson': 0.9895679761090197,\n",
       "  'kendall': 1.0})"
      ]
     },
     "execution_count": 65,
     "metadata": {},
     "output_type": "execute_result"
    }
   ],
   "source": [
    "model.compute_errors()"
   ]
  },
  {
   "cell_type": "code",
   "execution_count": 66,
   "metadata": {},
   "outputs": [
    {
     "name": "stderr",
     "output_type": "stream",
     "text": [
      "/u01/user8/anaconda3/lib/python3.7/site-packages/seaborn/_decorators.py:43: FutureWarning: Pass the following variables as keyword args: x, y. From version 0.12, the only valid positional argument will be `data`, and passing other arguments without an explicit keyword will result in an error or misinterpretation.\n",
      "  FutureWarning\n"
     ]
    },
    {
     "data": {
      "text/plain": [
       "0.5860534308762633"
      ]
     },
     "execution_count": 66,
     "metadata": {},
     "output_type": "execute_result"
    },
    {
     "data": {
      "image/png": "[encoded data removed]",
      "text/plain": [
       "<Figure size 432x288 with 1 Axes>"
      ]
     },
     "metadata": {
      "needs_background": "light"
     },
     "output_type": "display_data"
    }
   ],
   "source": [
    "sns.lineplot(B.start,model.errors_predict_cum['APE'])\n",
    "model.errors_predict_cum['APE'].mean()"
   ]
  },
  {
   "cell_type": "code",
   "execution_count": 67,
   "metadata": {},
   "outputs": [
    {
     "name": "stderr",
     "output_type": "stream",
     "text": [
      "/u01/user8/anaconda3/lib/python3.7/site-packages/seaborn/_decorators.py:43: FutureWarning: Pass the following variables as keyword args: x, y. From version 0.12, the only valid positional argument will be `data`, and passing other arguments without an explicit keyword will result in an error or misinterpretation.\n",
      "  FutureWarning\n"
     ]
    },
    {
     "data": {
      "text/plain": [
       "[Text(0.5, 0, 'Time (Hours)')]"
      ]
     },
     "execution_count": 67,
     "metadata": {},
     "output_type": "execute_result"
    },
    {
     "data": {
      "image/png": "[encoded data removed]",
      "text/plain": [
       "<Figure size 432x288 with 1 Axes>"
      ]
     },
     "metadata": {
      "needs_background": "light"
     },
     "output_type": "display_data"
    }
   ],
   "source": [
    "ax=sns.lineplot(model.real_tweets_validate.start,model.real_tweets_validate.Tweets)\n",
    "ax.set(xlabel='Time (Hours)')\n",
    "# plt.savefig(\"results/figures/ej_timeline.pdf\")"
   ]
  },
  {
   "cell_type": "code",
   "execution_count": 68,
   "metadata": {},
   "outputs": [
    {
     "data": {
      "text/html": [
       "<div>\n",
       "<style scoped>\n",
       "    .dataframe tbody tr th:only-of-type {\n",
       "        vertical-align: middle;\n",
       "    }\n",
       "\n",
       "    .dataframe tbody tr th {\n",
       "        vertical-align: top;\n",
       "    }\n",
       "\n",
       "    .dataframe thead th {\n",
       "        text-align: right;\n",
       "    }\n",
       "</style>\n",
       "<table border=\"1\" class=\"dataframe\">\n",
       "  <thead>\n",
       "    <tr style=\"text-align: right;\">\n",
       "      <th></th>\n",
       "      <th>start</th>\n",
       "      <th>end</th>\n",
       "      <th>Tweets</th>\n",
       "    </tr>\n",
       "  </thead>\n",
       "  <tbody>\n",
       "    <tr>\n",
       "      <th>0</th>\n",
       "      <td>5617.223333</td>\n",
       "      <td>5618.228569</td>\n",
       "      <td>17</td>\n",
       "    </tr>\n",
       "    <tr>\n",
       "      <th>1</th>\n",
       "      <td>5618.228569</td>\n",
       "      <td>5619.233805</td>\n",
       "      <td>13</td>\n",
       "    </tr>\n",
       "    <tr>\n",
       "      <th>2</th>\n",
       "      <td>5619.233805</td>\n",
       "      <td>5620.239040</td>\n",
       "      <td>23</td>\n",
       "    </tr>\n",
       "    <tr>\n",
       "      <th>3</th>\n",
       "      <td>5620.239040</td>\n",
       "      <td>5621.244276</td>\n",
       "      <td>17</td>\n",
       "    </tr>\n",
       "    <tr>\n",
       "      <th>4</th>\n",
       "      <td>5621.244276</td>\n",
       "      <td>5622.249511</td>\n",
       "      <td>19</td>\n",
       "    </tr>\n",
       "    <tr>\n",
       "      <th>...</th>\n",
       "      <td>...</td>\n",
       "      <td>...</td>\n",
       "      <td>...</td>\n",
       "    </tr>\n",
       "    <tr>\n",
       "      <th>186</th>\n",
       "      <td>5804.197155</td>\n",
       "      <td>5805.202391</td>\n",
       "      <td>7</td>\n",
       "    </tr>\n",
       "    <tr>\n",
       "      <th>187</th>\n",
       "      <td>5805.202391</td>\n",
       "      <td>5806.207627</td>\n",
       "      <td>4</td>\n",
       "    </tr>\n",
       "    <tr>\n",
       "      <th>188</th>\n",
       "      <td>5806.207627</td>\n",
       "      <td>5807.212862</td>\n",
       "      <td>11</td>\n",
       "    </tr>\n",
       "    <tr>\n",
       "      <th>189</th>\n",
       "      <td>5807.212862</td>\n",
       "      <td>5808.218098</td>\n",
       "      <td>6</td>\n",
       "    </tr>\n",
       "    <tr>\n",
       "      <th>190</th>\n",
       "      <td>5808.218098</td>\n",
       "      <td>5809.223333</td>\n",
       "      <td>12</td>\n",
       "    </tr>\n",
       "  </tbody>\n",
       "</table>\n",
       "<p>191 rows × 3 columns</p>\n",
       "</div>"
      ],
      "text/plain": [
       "           start          end  Tweets\n",
       "0    5617.223333  5618.228569      17\n",
       "1    5618.228569  5619.233805      13\n",
       "2    5619.233805  5620.239040      23\n",
       "3    5620.239040  5621.244276      17\n",
       "4    5621.244276  5622.249511      19\n",
       "..           ...          ...     ...\n",
       "186  5804.197155  5805.202391       7\n",
       "187  5805.202391  5806.207627       4\n",
       "188  5806.207627  5807.212862      11\n",
       "189  5807.212862  5808.218098       6\n",
       "190  5808.218098  5809.223333      12\n",
       "\n",
       "[191 rows x 3 columns]"
      ]
     },
     "execution_count": 68,
     "metadata": {},
     "output_type": "execute_result"
    }
   ],
   "source": [
    "D"
   ]
  }
 ],
 "metadata": {
  "kernelspec": {
   "display_name": "Python 3",
   "language": "python",
   "name": "python3"
  },
  "language_info": {
   "codemirror_mode": {
    "name": "ipython",
    "version": 3
   },
   "file_extension": ".py",
   "mimetype": "text/x-python",
   "name": "python",
   "nbconvert_exporter": "python",
   "pygments_lexer": "ipython3",
   "version": "3.7.4"
  }
 },
 "nbformat": 4,
 "nbformat_minor": 2
}
