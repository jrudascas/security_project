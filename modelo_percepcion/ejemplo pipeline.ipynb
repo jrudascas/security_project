{
 "cells": [
  {
   "cell_type": "code",
   "execution_count": 1,
   "metadata": {},
   "outputs": [
    {
     "name": "stderr",
     "output_type": "stream",
     "text": [
      "In /u01/user8/anaconda3/lib/python3.7/site-packages/matplotlib/mpl-data/stylelib/_classic_test.mplstyle: \n",
      "The text.latex.preview rcparam was deprecated in Matplotlib 3.3 and will be removed two minor releases later.\n",
      "In /u01/user8/anaconda3/lib/python3.7/site-packages/matplotlib/mpl-data/stylelib/_classic_test.mplstyle: \n",
      "The mathtext.fallback_to_cm rcparam was deprecated in Matplotlib 3.3 and will be removed two minor releases later.\n",
      "In /u01/user8/anaconda3/lib/python3.7/site-packages/matplotlib/mpl-data/stylelib/_classic_test.mplstyle: Support for setting the 'mathtext.fallback_to_cm' rcParam is deprecated since 3.3 and will be removed two minor releases later; use 'mathtext.fallback : 'cm' instead.\n",
      "In /u01/user8/anaconda3/lib/python3.7/site-packages/matplotlib/mpl-data/stylelib/_classic_test.mplstyle: \n",
      "The validate_bool_maybe_none function was deprecated in Matplotlib 3.3 and will be removed two minor releases later.\n",
      "In /u01/user8/anaconda3/lib/python3.7/site-packages/matplotlib/mpl-data/stylelib/_classic_test.mplstyle: \n",
      "The savefig.jpeg_quality rcparam was deprecated in Matplotlib 3.3 and will be removed two minor releases later.\n",
      "In /u01/user8/anaconda3/lib/python3.7/site-packages/matplotlib/mpl-data/stylelib/_classic_test.mplstyle: \n",
      "The keymap.all_axes rcparam was deprecated in Matplotlib 3.3 and will be removed two minor releases later.\n",
      "In /u01/user8/anaconda3/lib/python3.7/site-packages/matplotlib/mpl-data/stylelib/_classic_test.mplstyle: \n",
      "The animation.avconv_path rcparam was deprecated in Matplotlib 3.3 and will be removed two minor releases later.\n",
      "In /u01/user8/anaconda3/lib/python3.7/site-packages/matplotlib/mpl-data/stylelib/_classic_test.mplstyle: \n",
      "The animation.avconv_args rcparam was deprecated in Matplotlib 3.3 and will be removed two minor releases later.\n"
     ]
    }
   ],
   "source": [
    "from get_info_followers_and_times import *\n",
    "from modelo_tweets import *\n",
    "from classify import *\n",
    "from get_scores import *\n",
    "import seaborn as sns"
   ]
  },
  {
   "cell_type": "code",
   "execution_count": 2,
   "metadata": {},
   "outputs": [],
   "source": [
    "class modeloBase:\n",
    "    \n",
    "    def train_model(self):\n",
    "        pass\n",
    "       \n",
    "    def predict_model(self):\n",
    "        pass\n",
    "    \n",
    "    def validation_model(self):\n",
    "        pass\n",
    "        "
   ]
  },
  {
   "cell_type": "code",
   "execution_count": 6,
   "metadata": {},
   "outputs": [],
   "source": [
    "class modelPercepcion(modeloBase):\n",
    "    \"\"\"\n",
    "    Clase del modelo de percepcion de seguridad general juntando los procesos de clasificacion de tweets relacionados\n",
    "    con seguridad, cuantificacion de los tweets clasificados y prediccion de la serie de tiempo en tiempo futuro.\n",
    "    \"\"\"    \n",
    "    def __init__(self,\n",
    "                 original_data,\n",
    "                 train_period,\n",
    "                 val_period,\n",
    "                 classify_model=predict_from_data,\n",
    "                 quantify_model=calculate_scores,\n",
    "                 tweets_model_base=modelTweets,\n",
    "                 f_covariates=(T_c,restore_date),\n",
    "                 win_size_for_partition_cov=1,\n",
    "                 followers_rate=2,\n",
    "                 win_size_infectious_rate = 3,\n",
    "                 win_size_train_period = 1,\n",
    "                 win_size_pred_period = 1,\n",
    "                 method_pred = 'integral'\n",
    "                ):\n",
    "        #original_data\n",
    "        self.original_data=original_data\n",
    "        # function to classify tweets related to security\n",
    "        self.classify_model=classify_model\n",
    "        if self.classify_model == None:\n",
    "            pass\n",
    "            # TODO: funcion para entrenar modelo de clasificacion textos relacionados seguridad\n",
    "        # function to quantify tweets related to security\n",
    "        self.quantify_model=quantify_model\n",
    "        if self.quantify_model == None:\n",
    "            pass\n",
    "            # TODO: funcion para entrenar modelo de clasificacion textos relacionados seguridad\n",
    "            \n",
    "        # variables proceso de hawkes    \n",
    "        self.train_period = train_period\n",
    "        self.validate_period = val_period\n",
    "        self.tweets_model_base = tweets_model_base\n",
    "        self.f_covariates = f_covariates\n",
    "        self.win_size_for_partition_cov=win_size_for_partition_cov\n",
    "        self.followers_rate = followers_rate\n",
    "        self.win_size_infectious_rate  = win_size_infectious_rate\n",
    "        self.win_size_train_period  = win_size_train_period\n",
    "        self.win_size_pred_period  = win_size_pred_period\n",
    "        self.method_pred  = method_pred\n",
    "    \n",
    "    def prepare_data(self):\n",
    "        \"\"\"\n",
    "        Preprocesamiento de los datos y formateo para que queden listos para la entrada del modelo final\n",
    "        :return: \n",
    "        \"\"\"\n",
    "        tweets_predict=self.classify_model(self.original_data)\n",
    "        sentiment_data=self.quantify_model(pd.read_csv(\"entradas/ScoreTotalData.csv\"))#sentiment_data\n",
    "        # base de datos usuarios y sus seguidores\n",
    "        users_data=pd.read_csv(\"results/users.csv\")\n",
    "        #base de datos reconocimiento de tweets y RT\n",
    "        rt_data=pd.read_csv(\"results/tweets_from.csv\")\n",
    "        tweets=build_dict_info_tweets(sentiment_data,users_data,rt_data,tweets_predict)\n",
    "        \n",
    "        self.tweets_model = self.tweets_model_base(tweets,\n",
    "                                                   self.train_period,\n",
    "                                                   self.validate_period,\n",
    "                                                   f_covariates=self.f_covariates,\n",
    "                                                   win_size_for_partition_cov=self.win_size_for_partition_cov,\n",
    "                                                   followers_rate=self.followers_rate,\n",
    "                                                   win_size_infectious_rate = self.win_size_infectious_rate,\n",
    "                                                   win_size_train_period = self.win_size_train_period,\n",
    "                                                   win_size_pred_period = self.win_size_pred_period,\n",
    "                                                   method_pred = self.method_pred)\n",
    "        \n",
    "    def train_model(self):\n",
    "        \"\"\"\n",
    "        Calcula los parametros ajustados del modelo de series de tiempo\n",
    "        :return: (Beta,param_infectious_fit)\n",
    "        \"\"\"\n",
    "        self.tweets_model.train()\n",
    "        return self.tweets_model.Beta, self.tweets_model.param_infectious_fit\n",
    "        \n",
    "    def predict_model(self):\n",
    "        \"\"\"\n",
    "        Calcula los errores de prediccion de la serie de tiempo para el tiempo predecido\n",
    "        :return: (Beta,param_infectious_fit)\n",
    "        \"\"\"\n",
    "        self.tweets_model.compute_lambda_predict()\n",
    "        return self.tweets_model.Tweets_pred\n",
    "    \n",
    "    def validation_model(self):\n",
    "        \"\"\"\n",
    "        Calcula las metricas de error prediccion de serie de tiempo para el tiempo predecido\n",
    "        :return: diccionario diferentes metricas calculadas\n",
    "        \"\"\"\n",
    "        self.tweets_model.compute_errors()\n",
    "        return self.tweets_model.errors_predict\n",
    "        "
   ]
  },
  {
   "cell_type": "code",
   "execution_count": 4,
   "metadata": {},
   "outputs": [],
   "source": [
    "data=pd.read_csv(\"entradas/Tweet.csv\",delimiter=';')"
   ]
  },
  {
   "cell_type": "code",
   "execution_count": 10,
   "metadata": {},
   "outputs": [],
   "source": [
    "partidos=pd.read_csv('entradas/Partidos.csv')\n",
    "manifestaciones=pd.read_csv('entradas/Manifestaciones.csv')\n",
    "f_especiales=pd.read_csv('entradas/FechasEspeciales.csv')\n",
    "\n",
    "partidos_M=pd.to_datetime(partidos['Fecha'].dropna())\n",
    "partidos_S=pd.to_datetime(partidos['Fecha.1'].dropna())\n",
    "manifestaciones=pd.to_datetime(manifestaciones['Fecha'].dropna())\n",
    "f_especiales=pd.to_datetime(f_especiales[['2019','2020']].values.flatten())\n",
    "f_especiales=f_especiales[~f_especiales.isna()]\n",
    "\n",
    "def TC(t):\n",
    "    return np.array([\n",
    "                     t.weekday()/6.0,\n",
    "                     (t.hour > 12)*1,\n",
    "                     (pd.Timestamp(t.date()) == partidos_M).sum(),\n",
    "                     (pd.Timestamp(t.date()) == partidos_S).sum(),\n",
    "                     (pd.Timestamp(t.date()) == manifestaciones).sum(),\n",
    "                     (pd.Timestamp(t.date()) == f_especiales).sum(),\n",
    "                     1\n",
    "                    ])"
   ]
  },
  {
   "cell_type": "code",
   "execution_count": 16,
   "metadata": {},
   "outputs": [],
   "source": [
    "M=modelPercepcion(data,\n",
    "                  ('2019-04-01 00:00', '2019-05-01 00:00'),\n",
    "                  ('2019-05-01 00:00', '2019-05-10 00:00'),\n",
    "                  tweets_model_base=modelTweets,\n",
    "                  f_covariates=(TC,restore_date),\n",
    "                  win_size_for_partition_cov=1,\n",
    "                  followers_rate=2,\n",
    "                  win_size_infectious_rate = 3,\n",
    "                  win_size_train_period = 1,\n",
    "                  win_size_pred_period = 1,\n",
    "                  method_pred = 'integral')"
   ]
  },
  {
   "cell_type": "code",
   "execution_count": 19,
   "metadata": {},
   "outputs": [
    {
     "data": {
      "text/plain": [
       "Timestamp('2019-03-17 22:46:36')"
      ]
     },
     "execution_count": 19,
     "metadata": {},
     "output_type": "execute_result"
    }
   ],
   "source": [
    "M.prepare_data()\n",
    "M.tweets_model.f_inicio"
   ]
  },
  {
   "cell_type": "code",
   "execution_count": 20,
   "metadata": {},
   "outputs": [
    {
     "name": "stdout",
     "output_type": "stream",
     "text": [
      "2.0370537754860713e-09\n",
      "[28.33333333 30.         18.         16.          0.          6.\n",
      " 60.        ]\n",
      "2.0370537754860713e-09\n"
     ]
    },
    {
     "data": {
      "text/plain": [
       "(array([-0.62571055, -0.71687847,  0.21086107, -0.24770673,  0.        ,\n",
       "        -0.75993047,  2.28682908]),\n",
       " array([-2.05564784e-04,  2.68467820e-01,  1.99999873e+01]))"
      ]
     },
     "execution_count": 20,
     "metadata": {},
     "output_type": "execute_result"
    }
   ],
   "source": [
    "Beta, param_infectious_fit = M.train_model()\n",
    "Beta, param_infectious_fit"
   ]
  },
  {
   "cell_type": "code",
   "execution_count": 22,
   "metadata": {},
   "outputs": [
    {
     "data": {
      "text/html": [
       "<div>\n",
       "<style scoped>\n",
       "    .dataframe tbody tr th:only-of-type {\n",
       "        vertical-align: middle;\n",
       "    }\n",
       "\n",
       "    .dataframe tbody tr th {\n",
       "        vertical-align: top;\n",
       "    }\n",
       "\n",
       "    .dataframe thead th {\n",
       "        text-align: right;\n",
       "    }\n",
       "</style>\n",
       "<table border=\"1\" class=\"dataframe\">\n",
       "  <thead>\n",
       "    <tr style=\"text-align: right;\">\n",
       "      <th></th>\n",
       "      <th>start</th>\n",
       "      <th>end</th>\n",
       "      <th>Tweets</th>\n",
       "    </tr>\n",
       "  </thead>\n",
       "  <tbody>\n",
       "    <tr>\n",
       "      <th>0</th>\n",
       "      <td>1057.223333</td>\n",
       "      <td>1058.227984</td>\n",
       "      <td>87.595718</td>\n",
       "    </tr>\n",
       "    <tr>\n",
       "      <th>1</th>\n",
       "      <td>1058.227984</td>\n",
       "      <td>1059.232636</td>\n",
       "      <td>9.898557</td>\n",
       "    </tr>\n",
       "    <tr>\n",
       "      <th>2</th>\n",
       "      <td>1059.232636</td>\n",
       "      <td>1060.237287</td>\n",
       "      <td>7.667656</td>\n",
       "    </tr>\n",
       "    <tr>\n",
       "      <th>3</th>\n",
       "      <td>1060.237287</td>\n",
       "      <td>1061.241938</td>\n",
       "      <td>5.505109</td>\n",
       "    </tr>\n",
       "    <tr>\n",
       "      <th>4</th>\n",
       "      <td>1061.241938</td>\n",
       "      <td>1062.246589</td>\n",
       "      <td>5.164919</td>\n",
       "    </tr>\n",
       "    <tr>\n",
       "      <th>...</th>\n",
       "      <td>...</td>\n",
       "      <td>...</td>\n",
       "      <td>...</td>\n",
       "    </tr>\n",
       "    <tr>\n",
       "      <th>210</th>\n",
       "      <td>1268.200078</td>\n",
       "      <td>1269.204729</td>\n",
       "      <td>7.302079</td>\n",
       "    </tr>\n",
       "    <tr>\n",
       "      <th>211</th>\n",
       "      <td>1269.204729</td>\n",
       "      <td>1270.209380</td>\n",
       "      <td>7.311694</td>\n",
       "    </tr>\n",
       "    <tr>\n",
       "      <th>212</th>\n",
       "      <td>1270.209380</td>\n",
       "      <td>1271.214031</td>\n",
       "      <td>7.232873</td>\n",
       "    </tr>\n",
       "    <tr>\n",
       "      <th>213</th>\n",
       "      <td>1271.214031</td>\n",
       "      <td>1272.218682</td>\n",
       "      <td>7.158639</td>\n",
       "    </tr>\n",
       "    <tr>\n",
       "      <th>214</th>\n",
       "      <td>1272.218682</td>\n",
       "      <td>1273.223333</td>\n",
       "      <td>7.087550</td>\n",
       "    </tr>\n",
       "  </tbody>\n",
       "</table>\n",
       "<p>215 rows × 3 columns</p>\n",
       "</div>"
      ],
      "text/plain": [
       "           start          end     Tweets\n",
       "0    1057.223333  1058.227984  87.595718\n",
       "1    1058.227984  1059.232636   9.898557\n",
       "2    1059.232636  1060.237287   7.667656\n",
       "3    1060.237287  1061.241938   5.505109\n",
       "4    1061.241938  1062.246589   5.164919\n",
       "..           ...          ...        ...\n",
       "210  1268.200078  1269.204729   7.302079\n",
       "211  1269.204729  1270.209380   7.311694\n",
       "212  1270.209380  1271.214031   7.232873\n",
       "213  1271.214031  1272.218682   7.158639\n",
       "214  1272.218682  1273.223333   7.087550\n",
       "\n",
       "[215 rows x 3 columns]"
      ]
     },
     "execution_count": 22,
     "metadata": {},
     "output_type": "execute_result"
    }
   ],
   "source": [
    "T_pred=M.predict_model()\n",
    "T_pred"
   ]
  },
  {
   "cell_type": "code",
   "execution_count": 23,
   "metadata": {},
   "outputs": [
    {
     "name": "stderr",
     "output_type": "stream",
     "text": [
      "/u01/user8/Documents/percepcion/limpio/modelo_tweets.py:894: RuntimeWarning: divide by zero encountered in true_divide\n",
      "  self.errors_predict['APE']=diff/real\n"
     ]
    },
    {
     "data": {
      "text/plain": [
       "{'APE': array([6.96324705e+00, 5.69627971e-01, 3.61028644e-01, 3.11861400e-01,\n",
       "        2.62154431e-01, 3.58423517e-01, 9.95564453e-02, 5.37731079e-01,\n",
       "        4.38452080e-01, 7.36227258e-01, 7.72787530e-01, 7.04527664e-01,\n",
       "        4.85657913e-01, 1.56009517e+00, 2.62969156e-01, 1.45123369e+00,\n",
       "                   inf,            inf,            inf, 2.10603076e-01,\n",
       "        6.14181029e-01, 8.19453996e-01, 8.90623864e-01, 8.66144744e-01,\n",
       "        3.13547094e-01, 7.18868753e-02, 5.02642147e-01, 6.46509715e-01,\n",
       "        3.46017093e-01, 8.05599067e-02, 1.31339902e-02, 1.23646462e+00,\n",
       "        4.28684336e-01, 4.95574479e-01, 5.14690644e-01, 2.13268025e-01,\n",
       "        4.07420770e-01, 2.84904254e-01, 4.40414699e-01, 1.82677877e+00,\n",
       "        4.74116876e+00,            inf, 4.83091785e+00, 4.69421377e-01,\n",
       "        5.78686764e-01, 8.03709016e-01, 7.08362258e-01, 7.20318998e-01,\n",
       "        4.77328482e-01, 3.07473778e-01, 3.49861356e-01, 2.31561469e-01,\n",
       "        6.86299348e-02, 6.45847679e-02, 5.03467095e-01, 4.49996829e-01,\n",
       "        6.47669515e-02, 5.58689385e-02, 4.05060863e-01, 7.93640100e-01,\n",
       "        7.19544677e-01, 4.85685441e-01, 2.38635780e-01, 2.44467484e-01,\n",
       "        4.99669578e+00,            inf, 4.97676555e+00, 1.03523353e-02,\n",
       "        7.52490040e-01, 7.53811285e-01, 1.69893248e-01, 7.57518427e-01,\n",
       "        3.97303870e-01, 2.28104598e-01, 4.52957882e-01, 2.61748337e-01,\n",
       "        1.23213704e-01, 4.90760916e-01, 5.04729795e-01, 8.02031578e-01,\n",
       "        4.85611593e-01, 7.68303465e-01, 7.65161215e-01, 3.40891080e+00,\n",
       "        7.67031819e-01, 1.86719871e+00,            inf, 4.64621331e+00,\n",
       "                   inf,            inf, 4.70993217e+00, 1.82019239e+00,\n",
       "        3.04915125e-01, 3.05592790e-01, 3.86506789e-01, 4.60809325e-01,\n",
       "        6.95111350e-01, 7.91800620e-01, 7.84143615e-01, 3.50516755e-01,\n",
       "        2.93326331e+00, 2.88256590e+00, 5.42787925e-01, 2.15637090e-01,\n",
       "        5.80273376e-01, 2.73391553e-01, 9.62679265e-01, 5.66332568e-01,\n",
       "        3.93100999e-01, 1.35419537e-01, 1.11251598e-02,            inf,\n",
       "        3.96985551e+00, 4.08718454e+00, 2.92498902e-01, 4.85752440e-01,\n",
       "        6.99369335e-01, 7.32418458e-01, 7.39096700e-01, 7.14032723e-01,\n",
       "        2.80333116e-01, 2.26284708e-01, 3.04410594e-01, 1.50443928e-01,\n",
       "        7.56632846e-02, 4.80152715e-03, 2.21274326e-01, 2.50995908e-01,\n",
       "        3.20269762e-01, 3.44528833e-01, 3.36871831e-01, 2.61755877e-01,\n",
       "        1.79631486e+00, 1.99585902e+00, 2.03211549e+00, 3.50568780e+00,\n",
       "                   inf, 7.77125014e+00, 4.49296878e-01, 1.87753065e+00,\n",
       "        5.69798112e-01, 5.90765961e-01, 8.00834166e-01, 6.38644221e-01,\n",
       "        6.22745471e-01, 3.52138701e-01, 5.36820390e-01, 4.83983465e-01,\n",
       "        3.49004215e-01, 3.88035772e-02, 3.58174163e-01, 3.28915020e-01,\n",
       "        2.64752267e-01, 4.48675593e-01, 1.14100196e-01, 9.40991147e-02,\n",
       "        1.30486786e-01, 5.01819580e-01,            inf, 3.48023761e+00,\n",
       "        3.47934509e+00, 1.93427122e+00, 4.65543222e-01, 4.21743845e-01,\n",
       "        6.41539601e-01, 7.96247432e-01, 7.96401912e-01, 7.66203458e-01,\n",
       "        7.42812083e-01, 5.05164724e-01, 5.72018869e-01, 5.13500137e-01,\n",
       "        6.06850906e-01, 5.62801223e-02, 3.86198188e-01, 3.52681875e-01,\n",
       "        5.07719777e-01, 5.61579754e-01, 4.40429669e-01, 2.13316013e-02,\n",
       "        1.05562014e+00, 3.18656445e+00, 7.23801646e+00, 1.73797265e+00,\n",
       "                   inf, 9.70634175e-01, 5.61498611e-01, 5.66234768e-01,\n",
       "        8.29218788e-01, 8.45154213e-01, 8.00583749e-01, 6.82374900e-01,\n",
       "        7.15401771e-01, 6.29058301e-01, 5.52629072e-01, 4.07786187e-01,\n",
       "        3.31278161e-01, 3.32415427e-01, 2.86484375e-01, 4.51179731e-01,\n",
       "        3.96448948e-01, 2.87330400e-01, 3.28715299e-01, 4.24338876e-01,\n",
       "        3.28092479e-01, 2.61290137e-01, 2.73247056e+00, 8.62029203e-01,\n",
       "        2.70774727e+00,            inf, 1.43402618e+00, 5.69900366e-01,\n",
       "        6.55577459e-01, 7.61378693e-01, 5.57028116e-01]),\n",
       " 'MAPE': inf,\n",
       " 'MSE': 155.1709662902341,\n",
       " 'MAE': 8.391366605132118,\n",
       " 'RMSE': 12.456763877116485,\n",
       " 'Pearson': 0.1583757232202767,\n",
       " 'kendall': 0.2724335506662816}"
      ]
     },
     "execution_count": 23,
     "metadata": {},
     "output_type": "execute_result"
    }
   ],
   "source": [
    "Errors=M.validation_model()\n",
    "Errors"
   ]
  },
  {
   "cell_type": "code",
   "execution_count": 24,
   "metadata": {},
   "outputs": [
    {
     "data": {
      "text/plain": [
       "(8.391366605132118, 0.1583757232202767)"
      ]
     },
     "execution_count": 24,
     "metadata": {},
     "output_type": "execute_result"
    }
   ],
   "source": [
    "Errors[\"MAE\"],Errors[\"Pearson\"]"
   ]
  },
  {
   "cell_type": "code",
   "execution_count": null,
   "metadata": {},
   "outputs": [],
   "source": [
    "## Lectura datos tweets \n",
    "data=pd.read_csv(\"entradas/Tweet.csv\",delimiter=';')\n",
    "sentiment_data=pd.read_csv(\"entradas/ScoreTotalData.csv\")\n",
    "# tweets_predict=pd.read_csv(\"results/predict_socialmedia.csv\")\n",
    "tweets_predict=predict_from_data(data)\n",
    "#calculo score de percepcion seguridad\n",
    "sentiment_data=calculate_scores(sentiment_data)\n",
    "# sentiment_data=pd.read_csv(\"results/POS.csv\")\n",
    "# base de datos usuarios y sus seguidores\n",
    "users_data=pd.read_csv(\"results/users.csv\")\n",
    "#base de datos reconocimiento de tweets y RT\n",
    "rt_data=pd.read_csv(\"results/tweets_from.csv\")\n",
    "tweets=build_dict_info_tweets(sentiment_data,users_data,rt_data,tweets_predict)\n",
    "# with open(\"../hawkes/TiDeH-master/data_tweets.pickle\", 'rb') as handle:\n",
    "#     tweets = pickle.load(handle)"
   ]
  },
  {
   "cell_type": "code",
   "execution_count": 3,
   "metadata": {},
   "outputs": [
    {
     "name": "stdout",
     "output_type": "stream",
     "text": [
      "Datos totales originales: 1701668\n",
      "Fechas inicial y final: 2019-03-18 13:17:14.000 2020-04-28 13:06:06.000\n",
      "Registros que son RT: 1148043\n",
      "Registos que pasan la clasificación: 106880\n",
      "Post originales con cuantificación: 26255\n",
      "Cantidad de usuario en la base de datos: 90780\n"
     ]
    }
   ],
   "source": [
    "print(\"Datos totales originales:\",len(data))\n",
    "print(\"Fechas inicial y final:\",data.CreatedAt.min(),data.CreatedAt.max())\n",
    "print(\"Registros que son RT:\",data.IsRetweet.sum())\n",
    "print(\"Registos que pasan la clasificación:\",len(tweets_predict))\n",
    "print(\"Post originales con cuantificación:\",len(sentiment_data))\n",
    "print(\"Cantidad de usuario en la base de datos:\",len(users_data))"
   ]
  },
  {
   "cell_type": "code",
   "execution_count": null,
   "metadata": {},
   "outputs": [],
   "source": []
  }
 ],
 "metadata": {
  "kernelspec": {
   "display_name": "Python 3",
   "language": "python",
   "name": "python3"
  },
  "language_info": {
   "codemirror_mode": {
    "name": "ipython",
    "version": 3
   },
   "file_extension": ".py",
   "mimetype": "text/x-python",
   "name": "python",
   "nbconvert_exporter": "python",
   "pygments_lexer": "ipython3",
   "version": "3.7.4"
  }
 },
 "nbformat": 4,
 "nbformat_minor": 2
}
