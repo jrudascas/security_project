{
 "cells": [
  {
   "cell_type": "code",
   "execution_count": 1,
   "id": "scheduled-actress",
   "metadata": {},
   "outputs": [
    {
     "name": "stderr",
     "output_type": "stream",
     "text": [
      "In /u01/user8/anaconda3/lib/python3.7/site-packages/matplotlib/mpl-data/stylelib/_classic_test.mplstyle: \n",
      "The text.latex.preview rcparam was deprecated in Matplotlib 3.3 and will be removed two minor releases later.\n",
      "In /u01/user8/anaconda3/lib/python3.7/site-packages/matplotlib/mpl-data/stylelib/_classic_test.mplstyle: \n",
      "The mathtext.fallback_to_cm rcparam was deprecated in Matplotlib 3.3 and will be removed two minor releases later.\n",
      "In /u01/user8/anaconda3/lib/python3.7/site-packages/matplotlib/mpl-data/stylelib/_classic_test.mplstyle: Support for setting the 'mathtext.fallback_to_cm' rcParam is deprecated since 3.3 and will be removed two minor releases later; use 'mathtext.fallback : 'cm' instead.\n",
      "In /u01/user8/anaconda3/lib/python3.7/site-packages/matplotlib/mpl-data/stylelib/_classic_test.mplstyle: \n",
      "The validate_bool_maybe_none function was deprecated in Matplotlib 3.3 and will be removed two minor releases later.\n",
      "In /u01/user8/anaconda3/lib/python3.7/site-packages/matplotlib/mpl-data/stylelib/_classic_test.mplstyle: \n",
      "The savefig.jpeg_quality rcparam was deprecated in Matplotlib 3.3 and will be removed two minor releases later.\n",
      "In /u01/user8/anaconda3/lib/python3.7/site-packages/matplotlib/mpl-data/stylelib/_classic_test.mplstyle: \n",
      "The keymap.all_axes rcparam was deprecated in Matplotlib 3.3 and will be removed two minor releases later.\n",
      "In /u01/user8/anaconda3/lib/python3.7/site-packages/matplotlib/mpl-data/stylelib/_classic_test.mplstyle: \n",
      "The animation.avconv_path rcparam was deprecated in Matplotlib 3.3 and will be removed two minor releases later.\n",
      "In /u01/user8/anaconda3/lib/python3.7/site-packages/matplotlib/mpl-data/stylelib/_classic_test.mplstyle: \n",
      "The animation.avconv_args rcparam was deprecated in Matplotlib 3.3 and will be removed two minor releases later.\n"
     ]
    }
   ],
   "source": [
    "from modelo_tweets import *\n",
    "import itertools"
   ]
  },
  {
   "cell_type": "code",
   "execution_count": 2,
   "id": "technical-boundary",
   "metadata": {},
   "outputs": [],
   "source": [
    "with open('errors_covariados2.pickle', 'rb') as f:\n",
    "    x = pickle.load(f)"
   ]
  },
  {
   "cell_type": "code",
   "execution_count": null,
   "id": "informed-saudi",
   "metadata": {},
   "outputs": [],
   "source": [
    "values=[]\n",
    "for idx,period in enumerate(x):\n",
    "    for comb in [(1,2,3,4,5),(1,2,3,5)]:\n",
    "        values.append([comb,str(idx/2+1),x[period][0][comb]['MAE']])\n",
    "Data=pd.DataFrame(values,columns=['Comb','Months','MAE'])    "
   ]
  },
  {
   "cell_type": "code",
   "execution_count": null,
   "id": "alone-colon",
   "metadata": {},
   "outputs": [],
   "source": [
    "sns.lineplot(data=Data,x='Months',y='MAE',hue='Comb')"
   ]
  },
  {
   "cell_type": "code",
   "execution_count": 26,
   "id": "robust-centre",
   "metadata": {},
   "outputs": [],
   "source": [
    "with open('errors_times.pickle', 'rb') as f:\n",
    "    x = pickle.load(f)"
   ]
  },
  {
   "cell_type": "code",
   "execution_count": 56,
   "id": "sharing-artist",
   "metadata": {},
   "outputs": [],
   "source": [
    "values=[]\n",
    "for idx,period in enumerate(x):\n",
    "    for days in x[period][0]:\n",
    "        values.append([idx,days,x[period][0][days]['MAE']])\n",
    "Data=pd.DataFrame(values,columns=['Period','Days','MAE'])   \n",
    "Data=Data.groupby('Days').agg({'MAE':['mean','std']}).reset_index()\n",
    "Data=Data.sort_values(('MAE','mean'))"
   ]
  },
  {
   "cell_type": "code",
   "execution_count": 57,
   "id": "collectible-license",
   "metadata": {},
   "outputs": [
    {
     "data": {
      "text/html": [
       "<div>\n",
       "<style scoped>\n",
       "    .dataframe tbody tr th:only-of-type {\n",
       "        vertical-align: middle;\n",
       "    }\n",
       "\n",
       "    .dataframe tbody tr th {\n",
       "        vertical-align: top;\n",
       "    }\n",
       "\n",
       "    .dataframe thead tr th {\n",
       "        text-align: left;\n",
       "    }\n",
       "</style>\n",
       "<table border=\"1\" class=\"dataframe\">\n",
       "  <thead>\n",
       "    <tr>\n",
       "      <th></th>\n",
       "      <th>Days</th>\n",
       "      <th colspan=\"2\" halign=\"left\">MAE</th>\n",
       "    </tr>\n",
       "    <tr>\n",
       "      <th></th>\n",
       "      <th></th>\n",
       "      <th>mean</th>\n",
       "      <th>std</th>\n",
       "    </tr>\n",
       "  </thead>\n",
       "  <tbody>\n",
       "    <tr>\n",
       "      <th>2</th>\n",
       "      <td>6</td>\n",
       "      <td>148.051164</td>\n",
       "      <td>110.164770</td>\n",
       "    </tr>\n",
       "    <tr>\n",
       "      <th>3</th>\n",
       "      <td>8</td>\n",
       "      <td>152.873233</td>\n",
       "      <td>110.460010</td>\n",
       "    </tr>\n",
       "    <tr>\n",
       "      <th>0</th>\n",
       "      <td>2</td>\n",
       "      <td>156.275112</td>\n",
       "      <td>114.868858</td>\n",
       "    </tr>\n",
       "    <tr>\n",
       "      <th>4</th>\n",
       "      <td>10</td>\n",
       "      <td>157.893830</td>\n",
       "      <td>110.467919</td>\n",
       "    </tr>\n",
       "    <tr>\n",
       "      <th>1</th>\n",
       "      <td>4</td>\n",
       "      <td>158.160068</td>\n",
       "      <td>126.889180</td>\n",
       "    </tr>\n",
       "    <tr>\n",
       "      <th>5</th>\n",
       "      <td>12</td>\n",
       "      <td>159.242788</td>\n",
       "      <td>117.886851</td>\n",
       "    </tr>\n",
       "    <tr>\n",
       "      <th>13</th>\n",
       "      <td>28</td>\n",
       "      <td>2185.056620</td>\n",
       "      <td>5741.313812</td>\n",
       "    </tr>\n",
       "    <tr>\n",
       "      <th>12</th>\n",
       "      <td>26</td>\n",
       "      <td>2352.358266</td>\n",
       "      <td>6201.899407</td>\n",
       "    </tr>\n",
       "    <tr>\n",
       "      <th>10</th>\n",
       "      <td>22</td>\n",
       "      <td>2773.963546</td>\n",
       "      <td>7392.702592</td>\n",
       "    </tr>\n",
       "    <tr>\n",
       "      <th>8</th>\n",
       "      <td>18</td>\n",
       "      <td>3396.544795</td>\n",
       "      <td>9145.837079</td>\n",
       "    </tr>\n",
       "    <tr>\n",
       "      <th>6</th>\n",
       "      <td>14</td>\n",
       "      <td>68233.878119</td>\n",
       "      <td>192516.085870</td>\n",
       "    </tr>\n",
       "    <tr>\n",
       "      <th>11</th>\n",
       "      <td>24</td>\n",
       "      <td>71111.318427</td>\n",
       "      <td>200682.317380</td>\n",
       "    </tr>\n",
       "    <tr>\n",
       "      <th>9</th>\n",
       "      <td>20</td>\n",
       "      <td>86012.867582</td>\n",
       "      <td>242819.127009</td>\n",
       "    </tr>\n",
       "    <tr>\n",
       "      <th>7</th>\n",
       "      <td>16</td>\n",
       "      <td>108002.640466</td>\n",
       "      <td>305040.407970</td>\n",
       "    </tr>\n",
       "  </tbody>\n",
       "</table>\n",
       "</div>"
      ],
      "text/plain": [
       "   Days            MAE               \n",
       "                  mean            std\n",
       "2     6     148.051164     110.164770\n",
       "3     8     152.873233     110.460010\n",
       "0     2     156.275112     114.868858\n",
       "4    10     157.893830     110.467919\n",
       "1     4     158.160068     126.889180\n",
       "5    12     159.242788     117.886851\n",
       "13   28    2185.056620    5741.313812\n",
       "12   26    2352.358266    6201.899407\n",
       "10   22    2773.963546    7392.702592\n",
       "8    18    3396.544795    9145.837079\n",
       "6    14   68233.878119  192516.085870\n",
       "11   24   71111.318427  200682.317380\n",
       "9    20   86012.867582  242819.127009\n",
       "7    16  108002.640466  305040.407970"
      ]
     },
     "execution_count": 57,
     "metadata": {},
     "output_type": "execute_result"
    }
   ],
   "source": [
    "Data"
   ]
  },
  {
   "cell_type": "code",
   "execution_count": 60,
   "id": "conscious-andorra",
   "metadata": {},
   "outputs": [
    {
     "data": {
      "text/plain": [
       "<AxesSubplot:xlabel=\"('MAE', 'mean')\", ylabel=\"('Days', '')\">"
      ]
     },
     "execution_count": 60,
     "metadata": {},
     "output_type": "execute_result"
    },
    {
     "data": {
      "image/png": "[encoded data removed]",
      "text/plain": [
       "<Figure size 432x288 with 1 Axes>"
      ]
     },
     "metadata": {
      "needs_background": "light"
     },
     "output_type": "display_data"
    }
   ],
   "source": [
    "sns.barplot(data=Data.head(6),y=('Days',''),x=('MAE','mean'),orient='h',\n",
    "            xerr=Data.head(6)[('MAE','std')].values\n",
    "           )"
   ]
  },
  {
   "cell_type": "code",
   "execution_count": null,
   "id": "olive-burns",
   "metadata": {},
   "outputs": [],
   "source": []
  }
 ],
 "metadata": {
  "kernelspec": {
   "display_name": "Python 3",
   "language": "python",
   "name": "python3"
  },
  "language_info": {
   "codemirror_mode": {
    "name": "ipython",
    "version": 3
   },
   "file_extension": ".py",
   "mimetype": "text/x-python",
   "name": "python",
   "nbconvert_exporter": "python",
   "pygments_lexer": "ipython3",
   "version": "3.7.4"
  }
 },
 "nbformat": 4,
 "nbformat_minor": 5
}
