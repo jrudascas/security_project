{
 "cells": [
  {
   "cell_type": "code",
   "execution_count": 37,
   "metadata": {},
   "outputs": [],
   "source": [
    "import pandas as pd\n",
    "import datetime"
   ]
  },
  {
   "cell_type": "code",
   "execution_count": 45,
   "metadata": {},
   "outputs": [],
   "source": [
    "data=pd.read_csv(\"../../extra_data/escucha_medios/Tweet.csv\",delimiter=';')\n",
    "data=data[['TweetId','IsRetweet','Text','CreatedAt']]\n",
    "data=data[data.IsRetweet == 0][['TweetId','Text','CreatedAt']]\n",
    "data['CreatedAt']=pd.to_datetime(data.CreatedAt)-datetime.timedelta(hours=5)"
   ]
  },
  {
   "cell_type": "code",
   "execution_count": 46,
   "metadata": {},
   "outputs": [
    {
     "data": {
      "text/plain": [
       "(Timestamp('2019-03-18 08:46:36'), Timestamp('2020-04-28 08:04:28'))"
      ]
     },
     "execution_count": 46,
     "metadata": {},
     "output_type": "execute_result"
    }
   ],
   "source": [
    "data.CreatedAt.min(),data.CreatedAt.max()"
   ]
  },
  {
   "cell_type": "code",
   "execution_count": 59,
   "metadata": {},
   "outputs": [],
   "source": [
    "I1=pd.Timestamp(datetime.date(2019,8,20))\n",
    "F1=pd.Timestamp(datetime.date(2019,11,12))\n",
    "I2=pd.Timestamp(datetime.date(2020,2,3))\n",
    "F2=pd.Timestamp(datetime.date(2020,3,19))"
   ]
  },
  {
   "cell_type": "code",
   "execution_count": 62,
   "metadata": {},
   "outputs": [],
   "source": [
    "R=pd.concat([data[(data.CreatedAt >= I1) & (data.CreatedAt <= F1)],data[(data.CreatedAt >= I2) & (data.CreatedAt <= F2)]])"
   ]
  },
  {
   "cell_type": "code",
   "execution_count": 69,
   "metadata": {},
   "outputs": [],
   "source": [
    "R=R.sample(len(R))[['TweetId','Text']]"
   ]
  },
  {
   "cell_type": "code",
   "execution_count": 70,
   "metadata": {},
   "outputs": [
    {
     "data": {
      "text/html": [
       "<div>\n",
       "<style scoped>\n",
       "    .dataframe tbody tr th:only-of-type {\n",
       "        vertical-align: middle;\n",
       "    }\n",
       "\n",
       "    .dataframe tbody tr th {\n",
       "        vertical-align: top;\n",
       "    }\n",
       "\n",
       "    .dataframe thead th {\n",
       "        text-align: right;\n",
       "    }\n",
       "</style>\n",
       "<table border=\"1\" class=\"dataframe\">\n",
       "  <thead>\n",
       "    <tr style=\"text-align: right;\">\n",
       "      <th></th>\n",
       "      <th>TweetId</th>\n",
       "      <th>Text</th>\n",
       "    </tr>\n",
       "  </thead>\n",
       "  <tbody>\n",
       "    <tr>\n",
       "      <td>336293</td>\n",
       "      <td>1163878386126741504</td>\n",
       "      <td>Un intento de robo a la sucursal bancaria de D...</td>\n",
       "    </tr>\n",
       "    <tr>\n",
       "      <td>1308993</td>\n",
       "      <td>1238088753387909120</td>\n",
       "      <td>Y entonces que van a solucionar con el transpo...</td>\n",
       "    </tr>\n",
       "    <tr>\n",
       "      <td>524105</td>\n",
       "      <td>1184519412117901312</td>\n",
       "      <td>En verdad d u e le.</td>\n",
       "    </tr>\n",
       "    <tr>\n",
       "      <td>1245493</td>\n",
       "      <td>1228489429247045633</td>\n",
       "      <td>Los héroes limpian sus cochinadas en las perso...</td>\n",
       "    </tr>\n",
       "    <tr>\n",
       "      <td>544018</td>\n",
       "      <td>1185674129279721477</td>\n",
       "      <td>Como así...!! \\nY tu esta bien que rabia con e...</td>\n",
       "    </tr>\n",
       "    <tr>\n",
       "      <td>...</td>\n",
       "      <td>...</td>\n",
       "      <td>...</td>\n",
       "    </tr>\n",
       "    <tr>\n",
       "      <td>460959</td>\n",
       "      <td>1177678955660361728</td>\n",
       "      <td>@Poligran  Deberían tomar acciones teniendo en...</td>\n",
       "    </tr>\n",
       "    <tr>\n",
       "      <td>341841</td>\n",
       "      <td>1164392410144813057</td>\n",
       "      <td>Hoy un Venezolano me robó el celular en TransM...</td>\n",
       "    </tr>\n",
       "    <tr>\n",
       "      <td>378280</td>\n",
       "      <td>1169372257451462663</td>\n",
       "      <td>No dejan de ser bestias... Que mediocridad cóm...</td>\n",
       "    </tr>\n",
       "    <tr>\n",
       "      <td>539011</td>\n",
       "      <td>1185281559278051333</td>\n",
       "      <td>Visitarán todos los portales?  Ojalá sean visi...</td>\n",
       "    </tr>\n",
       "    <tr>\n",
       "      <td>614380</td>\n",
       "      <td>1192089507715338240</td>\n",
       "      <td>¿El mismo tiempo real que usan en los portales...</td>\n",
       "    </tr>\n",
       "  </tbody>\n",
       "</table>\n",
       "<p>149007 rows × 2 columns</p>\n",
       "</div>"
      ],
      "text/plain": [
       "                     TweetId  \\\n",
       "336293   1163878386126741504   \n",
       "1308993  1238088753387909120   \n",
       "524105   1184519412117901312   \n",
       "1245493  1228489429247045633   \n",
       "544018   1185674129279721477   \n",
       "...                      ...   \n",
       "460959   1177678955660361728   \n",
       "341841   1164392410144813057   \n",
       "378280   1169372257451462663   \n",
       "539011   1185281559278051333   \n",
       "614380   1192089507715338240   \n",
       "\n",
       "                                                      Text  \n",
       "336293   Un intento de robo a la sucursal bancaria de D...  \n",
       "1308993  Y entonces que van a solucionar con el transpo...  \n",
       "524105                                 En verdad d u e le.  \n",
       "1245493  Los héroes limpian sus cochinadas en las perso...  \n",
       "544018   Como así...!! \\nY tu esta bien que rabia con e...  \n",
       "...                                                    ...  \n",
       "460959   @Poligran  Deberían tomar acciones teniendo en...  \n",
       "341841   Hoy un Venezolano me robó el celular en TransM...  \n",
       "378280   No dejan de ser bestias... Que mediocridad cóm...  \n",
       "539011   Visitarán todos los portales?  Ojalá sean visi...  \n",
       "614380   ¿El mismo tiempo real que usan en los portales...  \n",
       "\n",
       "[149007 rows x 2 columns]"
      ]
     },
     "execution_count": 70,
     "metadata": {},
     "output_type": "execute_result"
    }
   ],
   "source": [
    "R"
   ]
  },
  {
   "cell_type": "code",
   "execution_count": 83,
   "metadata": {},
   "outputs": [],
   "source": [
    "R[120000:].to_csv(\"Tweets_para_clasificar_2020*1_6.csv\",index=False)"
   ]
  },
  {
   "cell_type": "code",
   "execution_count": null,
   "metadata": {},
   "outputs": [],
   "source": []
  }
 ],
 "metadata": {
  "kernelspec": {
   "display_name": "Python 3",
   "language": "python",
   "name": "python3"
  },
  "language_info": {
   "codemirror_mode": {
    "name": "ipython",
    "version": 3
   },
   "file_extension": ".py",
   "mimetype": "text/x-python",
   "name": "python",
   "nbconvert_exporter": "python",
   "pygments_lexer": "ipython3",
   "version": "3.7.4"
  }
 },
 "nbformat": 4,
 "nbformat_minor": 2
}
