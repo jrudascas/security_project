{
 "cells": [
  {
   "cell_type": "code",
   "execution_count": 1,
   "metadata": {},
   "outputs": [],
   "source": [
    "from modelo_tweets import *"
   ]
  },
  {
   "cell_type": "code",
   "execution_count": 2,
   "metadata": {},
   "outputs": [],
   "source": [
    "with open('../hawkes/TiDeH-master/data_tweets.pickle', 'rb') as handle:\n",
    "    data = pickle.load(handle)"
   ]
  },
  {
   "cell_type": "code",
   "execution_count": 3,
   "metadata": {},
   "outputs": [],
   "source": [
    "train_period=('2019-07-01 00:00','2019-08-01 00:00')\n",
    "validate_period=('2019-08-01 00:00','2019-08-10 00:00')\n",
    "model=modelTweets(data,\n",
    "                  train_period,\n",
    "                  validate_period,\n",
    "                  followers_rate=5\n",
    "                 )"
   ]
  },
  {
   "cell_type": "code",
   "execution_count": 4,
   "metadata": {},
   "outputs": [
    {
     "data": {
      "text/plain": [
       "(array([1.11671911, 1.02511837, 0.94960077]),\n",
       " array([-0.99906566,  3.85434635,  1.71771435]),\n",
       " 0.9999072944667985,\n",
       " array([ 2.5846781 ,  2.58467766,  2.58467758,  2.58467767,  2.58467762,\n",
       "         2.58467761,  2.5846776 ,  2.58759893,  2.58502983,  2.58479373,\n",
       "         2.58846153,  2.59255096,  2.58628553,  7.20654763,  7.20553096,\n",
       "         7.20696063,  7.20733288,  7.21311477,  7.20980985,  7.28529306,\n",
       "         7.25152865,  7.20900344,  7.22491544,  7.20838016,  3.11389971,\n",
       "         3.15858354,  3.11366097,  3.113501  ,  3.11362977,  3.11363876,\n",
       "         3.11359408,  3.26519979,  3.13469958,  3.12120727,  3.22622695,\n",
       "         4.50392572,  3.21762381,  9.57307511,  8.7821458 ,  8.74720019,\n",
       "         8.70958867,  8.69673447,  8.6882285 ,  8.67997409,  8.67889963,\n",
       "         8.67857684,  8.67846794,  8.67843126,  3.7503213 ,  3.75031807,\n",
       "         3.75031742,  3.75031742,  3.7503175 ,  3.75031753,  3.75031752,\n",
       "         3.7503175 ,  3.75031747,  3.75031744,  3.75031742,  3.75031741,\n",
       "         3.7503174 , 10.4537299 , 10.4537299 , 10.4537299 , 10.4537299 ,\n",
       "        10.45372989, 10.45372989, 10.45372989, 10.45372989, 10.45372989,\n",
       "        10.45372989, 10.45372989,  4.51750714,  4.51750714,  4.51750714,\n",
       "         4.51750714,  4.51750714,  4.51750714,  4.51750714,  4.51750714,\n",
       "         4.51750714,  4.51750714,  4.51750714,  4.51750714,  4.51750714,\n",
       "        12.5922141 , 12.5922141 , 12.5922141 , 12.5922141 , 12.5922141 ,\n",
       "        12.5922141 , 12.5922141 , 12.5922141 , 12.5922141 , 12.5922141 ,\n",
       "        12.5922141 ,  5.44163832,  5.44163832,  5.44163832,  5.44163832,\n",
       "         5.44163832,  5.44163832,  5.44163832,  5.44163832,  5.44163832,\n",
       "         5.44163832,  5.44163832,  5.44163832,  5.44163832, 15.16816079,\n",
       "        15.16816079, 15.16816079, 15.16816079, 15.16816079, 15.16816079,\n",
       "        15.16816079, 15.16816079, 15.16816079, 15.16816079, 15.16816079,\n",
       "         6.55481588,  6.55481588,  6.55481588,  6.55481588,  6.55481588,\n",
       "         6.55481588,  6.55481588,  6.55481588,  6.55481588,  6.55481588,\n",
       "         6.55481588,  6.55481588,  6.55481588, 18.27106019, 18.27106019,\n",
       "        18.27106019, 18.27106019, 18.27106019, 18.27106019, 18.27106019,\n",
       "        18.27106019, 18.27106019, 18.27106019, 18.27106019,  7.89571242,\n",
       "         7.89571242,  7.89571242,  7.89571242,  7.89571242,  7.89571242,\n",
       "         7.89571242,  7.89571242,  7.89571242,  7.89571242,  7.89571242,\n",
       "         7.89571242,  7.89571242, 22.00870924, 22.00870924, 22.00870924,\n",
       "        22.00870924, 22.00870924, 22.00870924, 22.00870924, 22.03397183,\n",
       "        22.00935198, 22.01006836, 22.00876368,  2.58478214,  2.5846842 ,\n",
       "         2.58467829,  2.58467869,  2.58467964,  2.58470203,  2.58486292,\n",
       "         2.58470432,  2.58570135,  2.58603739,  2.63828361,  2.6088624 ,\n",
       "         3.04474182,  7.23301995,  7.21381353,  7.22015519,  7.20645938,\n",
       "         7.23110785,  7.20760568,  7.26002166,  7.21987373,  7.20710746,\n",
       "         7.2831028 ,  7.21223086,  3.11451088,  3.11681481,  3.11345097,\n",
       "         3.11350821,  3.11359141,  3.11597293,  3.20800259,  3.20536378,\n",
       "         4.51003897,  4.59555423,  3.58803826,  4.58368818,  3.28001342,\n",
       "         8.87221531,  8.72117533,  9.01998094,  8.80481799,  8.70240391,\n",
       "         8.68635504,  8.7048969 ,  8.75428494,  8.68762748,  8.68346956,\n",
       "         8.67894741,  3.75044732,  3.75033165,  3.75031767,  3.75031875,\n",
       "         3.75032046,  3.75053266,  4.43938418,  3.82296535,  3.89003912,\n",
       "         3.84909507,  3.99070749,  3.79701014,  3.76883703, 10.46756308,\n",
       "        10.45790128, 10.45553971, 10.45554666, 10.46231897, 10.45628681,\n",
       "        10.45441405, 10.45404933, 10.45931494, 10.45423307, 10.45430848,\n",
       "         4.51755149,  4.51751197,  4.517508  ,  4.51750994,  4.58474693,\n",
       "         4.52474232,  4.73727905,  4.63234923,  4.56552449,  5.05729026,\n",
       "         4.62069373,  4.5546603 ,  4.54288251, 12.60567182, 12.59611423,\n",
       "        12.59411366, 12.59328665, 12.59385769, 12.61698271, 13.27839602,\n",
       "        12.63030022, 12.79399678, 12.60103758, 12.59378463,  5.44192036,\n",
       "         5.44167235,  5.44163884,  5.44164257,  5.4416471 ,  5.44164793,\n",
       "         5.44177057,  5.55779525,  5.46761785,  5.47013651,  5.47735832,\n",
       "         5.44684574,  5.46035234, 15.20772661, 15.172886  , 15.17230626,\n",
       "        15.16905767, 15.16906443, 15.1694703 , 15.17483642, 15.17009773,\n",
       "        15.2227391 , 15.17058192, 15.16857357,  6.55562941,  6.55483039,\n",
       "         6.55481603,  6.55481733,  6.55481862,  6.55485426,  6.55536013,\n",
       "         6.55499816,  6.55490344,  6.5662911 ,  6.55618131,  6.60435371,\n",
       "         6.79905887, 18.92912666, 18.86050977, 18.38778332, 18.390559  ,\n",
       "        18.33404173, 18.52524413, 18.31454301, 18.27978136, 18.27722776,\n",
       "        18.27255088, 18.2715352 ,  7.89585405,  7.8957264 ,  7.89571254,\n",
       "         7.89571835,  7.89571989,  7.89571833,  7.89586535,  7.91726048,\n",
       "         7.91598553,  7.90157827,  9.25471003,  7.99448741,  7.94118355,\n",
       "        22.05102425, 22.06695266, 22.04479762, 22.03876812, 22.03744565,\n",
       "        22.01933131, 22.01217055, 22.01430549, 22.01000373, 22.00904427,\n",
       "        22.00887837,  2.58475857,  2.58469801,  2.58467771,  2.5846806 ,\n",
       "         2.58467991,  2.58471693,  2.60124563,  2.58599548,  2.8182291 ,\n",
       "         2.61603697,  2.69272208,  2.64299105,  2.59604179,  7.20782937,\n",
       "         7.32882548,  7.2212128 ,  7.21303467,  7.8436169 ,  7.25450106,\n",
       "         7.22677755,  7.23485297,  7.20735883,  7.20527718,  7.20473083,\n",
       "         3.11359447,  3.1134267 ,  3.11341643,  3.11341789,  3.11342052,\n",
       "         3.1134192 ,  3.16726514,  3.12635675,  3.20776625,  4.90576983,\n",
       "         3.21393791,  3.14391116,  3.12418686,  8.69226532,  8.70283079,\n",
       "         8.72038584,  8.68249317,  8.68097467,  8.68443609,  8.76987543,\n",
       "         8.69519113,  8.68211777,  8.7664237 ,  8.68187388,  3.75079549,\n",
       "         3.75035851,  3.75031792,  3.75032545,  3.75033062,  3.75033052,\n",
       "         3.75729205,  3.90105479,  4.65747315,  4.14582645,  3.89494746,\n",
       "         3.82668748,  3.91125614, 10.48360449, 10.48326376, 10.53515832,\n",
       "        10.46875464, 11.78374349, 10.51133407, 10.50717409, 10.51098374,\n",
       "        10.46350491, 10.49533571, 10.45824382,  4.51815393,  4.51756234,\n",
       "         4.51750795,  4.51752015,  4.51752881,  4.5175352 ,  4.56722307,\n",
       "         4.74986432,  6.06527045,  4.65830319,  4.61076919,  4.58191828,\n",
       "         4.54629509, 12.60036968, 25.09385955, 15.42273006, 13.53678658,\n",
       "        12.78301326, 12.65487177, 12.83028405, 12.62072775, 12.60438032,\n",
       "        12.6136832 , 12.59508368,  5.44207636,  5.44171629,  5.44163943,\n",
       "         5.44165218,  5.4416604 ,  5.44166041,  5.82496016,  5.70837159,\n",
       "         5.84237056,  5.86199698,  6.55551733,  5.53643841,  5.46979751,\n",
       "        15.18799486, 15.17776393, 15.17670328, 15.1728448 , 15.28318737,\n",
       "        15.66400124, 15.75284558, 15.24583237, 15.18548898, 15.19222235,\n",
       "        15.17176768,  6.55588323,  6.55636175,  6.55483155,  6.55503037,\n",
       "         6.55514906,  6.55508885,  6.55840035,  6.57651735,  6.56539189,\n",
       "         6.56391857,  6.61845994,  6.55984764,  6.56030531, 18.2882492 ,\n",
       "        18.27773538, 18.27306093, 18.27161369, 18.27136182, 18.27113596,\n",
       "        18.27108956, 18.27117385, 18.2713379 , 18.27373831, 18.27176295,\n",
       "         7.89577401,  7.89572693,  7.89571262,  7.89574078,  7.89573435,\n",
       "         7.89572808,  7.89737081,  7.89594153,  7.89665556,  7.89631385,\n",
       "         7.90930158,  7.94938577,  7.89784036, 22.0200449 , 22.0132348 ,\n",
       "        22.0257842 , 22.01239264, 22.0163363 , 22.01130724, 22.00987644,\n",
       "        22.00899244, 22.00900074, 22.00873955, 22.00871538,  2.58469927,\n",
       "         2.58467854,  2.58467762,  2.58467789,  2.584678  ,  2.58470187,\n",
       "         2.58614849,  2.65966666,  2.61282622,  2.59656611,  2.80125182,\n",
       "         2.69130203,  2.78842433,  7.25036204,  7.34483609,  7.24583346,\n",
       "         7.21524541,  7.20965654,  7.2058513 ,  7.21274809,  7.23409571,\n",
       "         7.20648599,  7.20650329,  7.20470565,  3.11343079,  3.1134186 ,\n",
       "         3.11341641,  3.11341697,  3.11373267,  3.11910978,  3.11688682,\n",
       "         3.11414755,  3.11472662,  3.40172051,  3.18521391,  3.15731568,\n",
       "         3.17036605,  9.3669313 ,  8.72139529,  8.77841812, 10.34851116,\n",
       "         8.8737712 ,  8.70054138,  8.68797603,  8.75376856,  8.68765396,\n",
       "         8.68097564,  8.68257704,  3.75192242,  3.75052505,  3.75032122,\n",
       "         3.75033996,  3.75034617,  3.75098557,  4.43170139,  4.02409137,\n",
       "         3.81079869,  4.70999922,  3.98128629,  3.82139116,  4.24979421,\n",
       "        10.51335002, 10.68473211, 10.5161757 , 10.5390729 , 10.46000174,\n",
       "        10.4574289 , 10.45511414, 10.46885542, 11.28514008, 10.47430608,\n",
       "        10.45648984,  4.51789442,  4.51753553,  4.51751254,  4.51788702,\n",
       "         4.51760842,  4.51757279,  4.57431133,  4.53060046,  5.39075391,\n",
       "         6.44501359,  5.0933644 ,  5.06103795,  4.65133919, 12.78735131,\n",
       "        12.7124983 , 13.00381223, 12.6550156 , 12.68737448, 12.67852905,\n",
       "        12.70461971, 13.86178732, 12.6392066 , 12.61698384, 12.59834951,\n",
       "         5.44262243,  5.44251715,  5.44169032,  5.44186981,  5.44190909,\n",
       "         5.44186592,  5.60403524,  5.64321173,  6.7164777 ,  9.20527035,\n",
       "         5.72625853,  6.16748192,  5.56904911, 15.2150492 , 15.18540829,\n",
       "        15.22290053, 15.24332539, 15.18481642, 16.87010022, 15.26858804,\n",
       "        16.44125193, 15.19490787, 15.18563986, 15.1700906 ,  6.55522013,\n",
       "         6.55483154,  6.55481815,  6.55482798,  6.55483268,  6.55483134,\n",
       "         6.55489342,  6.565081  ,  6.75758548,  6.67049667,  6.60455097,\n",
       "         6.59858973,  6.6835209 , 18.29287858, 18.28306431, 18.27715976,\n",
       "        18.27275357, 18.27723436, 18.64307477, 18.29328968, 18.27566895,\n",
       "        18.27223074, 18.27197525, 18.27143722,  7.89573396,  7.89571376,\n",
       "         7.89571268,  7.8976374 ,  7.89690949,  7.89647605,  7.90526048,\n",
       "         7.91394331,  7.89775312,  7.89735305,  7.89640042,  8.08614252,\n",
       "         7.90149757, 22.01479386, 22.01083403, 22.01116427, 22.00927677,\n",
       "        22.00889266, 22.03336572, 22.01147903, 22.0093405 , 22.0541977 ,\n",
       "        22.00946267, 22.00881236,  2.5846916 ,  2.58467839,  2.58467777,\n",
       "         2.58467847,  2.58467875,  2.58468274,  2.59748923,  2.58511052,\n",
       "         2.66508729,  2.72969053,  2.6194734 ,  2.59816713,  2.59121019,\n",
       "         7.20699645,  7.66399029,  7.24776784,  7.2329973 ,  7.21055971,\n",
       "         7.2063311 ,  7.20528192,  7.41585276,  7.23779875,  7.2116375 ,\n",
       "         7.20686464,  3.11369313,  3.11343755,  3.11342369,  3.11344043,\n",
       "         3.11345674,  3.11732119,  3.11433675,  3.1140493 ,  3.18696963,\n",
       "         3.13875507,  3.16249287,  3.15826394,  3.11955875,  8.68365398,\n",
       "         8.68123798,  8.70118302,  8.68478398,  8.68011944,  8.70524574,\n",
       "         8.69013069,  8.67908217,  8.68620553,  8.67858657,  8.67844177,\n",
       "         3.7503212 ,  3.75031759,  3.75031783,  3.7503184 ,  3.75054826,\n",
       "         3.7503283 ,  3.75032192,  4.20204094,  4.19103724,  4.2991578 ,\n",
       "         4.1006056 ,  4.05125299,  3.82581854, 10.48599685, 10.48533859,\n",
       "        10.46253202, 10.45997022, 10.47237742, 10.45523459, 10.46644306,\n",
       "        10.45890315, 10.45428984, 10.46300299,  4.51798997]))"
      ]
     },
     "execution_count": 4,
     "metadata": {},
     "output_type": "execute_result"
    }
   ],
   "source": [
    "model.train()"
   ]
  },
  {
   "cell_type": "code",
   "execution_count": 5,
   "metadata": {},
   "outputs": [],
   "source": [
    "A,B=model.compute_lambda_predict()"
   ]
  },
  {
   "cell_type": "code",
   "execution_count": 6,
   "metadata": {},
   "outputs": [
    {
     "data": {
      "text/html": [
       "<div>\n",
       "<style scoped>\n",
       "    .dataframe tbody tr th:only-of-type {\n",
       "        vertical-align: middle;\n",
       "    }\n",
       "\n",
       "    .dataframe tbody tr th {\n",
       "        vertical-align: top;\n",
       "    }\n",
       "\n",
       "    .dataframe thead th {\n",
       "        text-align: right;\n",
       "    }\n",
       "</style>\n",
       "<table border=\"1\" class=\"dataframe\">\n",
       "  <thead>\n",
       "    <tr style=\"text-align: right;\">\n",
       "      <th></th>\n",
       "      <th>start</th>\n",
       "      <th>end</th>\n",
       "      <th>Tweets</th>\n",
       "    </tr>\n",
       "  </thead>\n",
       "  <tbody>\n",
       "    <tr>\n",
       "      <td>0</td>\n",
       "      <td>3251.660278</td>\n",
       "      <td>3252.664929</td>\n",
       "      <td>4.517990</td>\n",
       "    </tr>\n",
       "    <tr>\n",
       "      <td>1</td>\n",
       "      <td>3252.664929</td>\n",
       "      <td>3253.669580</td>\n",
       "      <td>4.517720</td>\n",
       "    </tr>\n",
       "    <tr>\n",
       "      <td>2</td>\n",
       "      <td>3253.669580</td>\n",
       "      <td>3254.674231</td>\n",
       "      <td>4.517522</td>\n",
       "    </tr>\n",
       "    <tr>\n",
       "      <td>3</td>\n",
       "      <td>3254.674231</td>\n",
       "      <td>3255.678882</td>\n",
       "      <td>4.517517</td>\n",
       "    </tr>\n",
       "    <tr>\n",
       "      <td>4</td>\n",
       "      <td>3255.678882</td>\n",
       "      <td>3256.683534</td>\n",
       "      <td>4.517550</td>\n",
       "    </tr>\n",
       "    <tr>\n",
       "      <td>...</td>\n",
       "      <td>...</td>\n",
       "      <td>...</td>\n",
       "      <td>...</td>\n",
       "    </tr>\n",
       "    <tr>\n",
       "      <td>210</td>\n",
       "      <td>3462.637022</td>\n",
       "      <td>3463.641673</td>\n",
       "      <td>15.168161</td>\n",
       "    </tr>\n",
       "    <tr>\n",
       "      <td>211</td>\n",
       "      <td>3463.641673</td>\n",
       "      <td>3464.646324</td>\n",
       "      <td>15.168161</td>\n",
       "    </tr>\n",
       "    <tr>\n",
       "      <td>212</td>\n",
       "      <td>3464.646324</td>\n",
       "      <td>3465.650975</td>\n",
       "      <td>15.168161</td>\n",
       "    </tr>\n",
       "    <tr>\n",
       "      <td>213</td>\n",
       "      <td>3465.650975</td>\n",
       "      <td>3466.655627</td>\n",
       "      <td>15.168161</td>\n",
       "    </tr>\n",
       "    <tr>\n",
       "      <td>214</td>\n",
       "      <td>3466.655627</td>\n",
       "      <td>3467.660278</td>\n",
       "      <td>15.168161</td>\n",
       "    </tr>\n",
       "  </tbody>\n",
       "</table>\n",
       "<p>215 rows × 3 columns</p>\n",
       "</div>"
      ],
      "text/plain": [
       "           start          end     Tweets\n",
       "0    3251.660278  3252.664929   4.517990\n",
       "1    3252.664929  3253.669580   4.517720\n",
       "2    3253.669580  3254.674231   4.517522\n",
       "3    3254.674231  3255.678882   4.517517\n",
       "4    3255.678882  3256.683534   4.517550\n",
       "..           ...          ...        ...\n",
       "210  3462.637022  3463.641673  15.168161\n",
       "211  3463.641673  3464.646324  15.168161\n",
       "212  3464.646324  3465.650975  15.168161\n",
       "213  3465.650975  3466.655627  15.168161\n",
       "214  3466.655627  3467.660278  15.168161\n",
       "\n",
       "[215 rows x 3 columns]"
      ]
     },
     "execution_count": 6,
     "metadata": {},
     "output_type": "execute_result"
    }
   ],
   "source": [
    "B"
   ]
  },
  {
   "cell_type": "code",
   "execution_count": 7,
   "metadata": {},
   "outputs": [],
   "source": [
    "model.method_pred = 'thinning'"
   ]
  },
  {
   "cell_type": "code",
   "execution_count": 8,
   "metadata": {},
   "outputs": [],
   "source": [
    "C,D=model.compute_lambda_predict()"
   ]
  },
  {
   "cell_type": "code",
   "execution_count": 10,
   "metadata": {},
   "outputs": [
    {
     "data": {
      "text/html": [
       "<div>\n",
       "<style scoped>\n",
       "    .dataframe tbody tr th:only-of-type {\n",
       "        vertical-align: middle;\n",
       "    }\n",
       "\n",
       "    .dataframe tbody tr th {\n",
       "        vertical-align: top;\n",
       "    }\n",
       "\n",
       "    .dataframe thead th {\n",
       "        text-align: right;\n",
       "    }\n",
       "</style>\n",
       "<table border=\"1\" class=\"dataframe\">\n",
       "  <thead>\n",
       "    <tr style=\"text-align: right;\">\n",
       "      <th></th>\n",
       "      <th>start</th>\n",
       "      <th>end</th>\n",
       "      <th>Tweets</th>\n",
       "    </tr>\n",
       "  </thead>\n",
       "  <tbody>\n",
       "    <tr>\n",
       "      <td>0</td>\n",
       "      <td>3251.660278</td>\n",
       "      <td>3252.664929</td>\n",
       "      <td>2</td>\n",
       "    </tr>\n",
       "    <tr>\n",
       "      <td>1</td>\n",
       "      <td>3252.664929</td>\n",
       "      <td>3253.669580</td>\n",
       "      <td>3</td>\n",
       "    </tr>\n",
       "    <tr>\n",
       "      <td>2</td>\n",
       "      <td>3253.669580</td>\n",
       "      <td>3254.674231</td>\n",
       "      <td>6</td>\n",
       "    </tr>\n",
       "    <tr>\n",
       "      <td>3</td>\n",
       "      <td>3254.674231</td>\n",
       "      <td>3255.678882</td>\n",
       "      <td>5</td>\n",
       "    </tr>\n",
       "    <tr>\n",
       "      <td>4</td>\n",
       "      <td>3255.678882</td>\n",
       "      <td>3256.683534</td>\n",
       "      <td>7</td>\n",
       "    </tr>\n",
       "    <tr>\n",
       "      <td>...</td>\n",
       "      <td>...</td>\n",
       "      <td>...</td>\n",
       "      <td>...</td>\n",
       "    </tr>\n",
       "    <tr>\n",
       "      <td>210</td>\n",
       "      <td>3462.637022</td>\n",
       "      <td>3463.641673</td>\n",
       "      <td>19</td>\n",
       "    </tr>\n",
       "    <tr>\n",
       "      <td>211</td>\n",
       "      <td>3463.641673</td>\n",
       "      <td>3464.646324</td>\n",
       "      <td>16</td>\n",
       "    </tr>\n",
       "    <tr>\n",
       "      <td>212</td>\n",
       "      <td>3464.646324</td>\n",
       "      <td>3465.650975</td>\n",
       "      <td>13</td>\n",
       "    </tr>\n",
       "    <tr>\n",
       "      <td>213</td>\n",
       "      <td>3465.650975</td>\n",
       "      <td>3466.655627</td>\n",
       "      <td>14</td>\n",
       "    </tr>\n",
       "    <tr>\n",
       "      <td>214</td>\n",
       "      <td>3466.655627</td>\n",
       "      <td>3467.660278</td>\n",
       "      <td>12</td>\n",
       "    </tr>\n",
       "  </tbody>\n",
       "</table>\n",
       "<p>215 rows × 3 columns</p>\n",
       "</div>"
      ],
      "text/plain": [
       "           start          end  Tweets\n",
       "0    3251.660278  3252.664929       2\n",
       "1    3252.664929  3253.669580       3\n",
       "2    3253.669580  3254.674231       6\n",
       "3    3254.674231  3255.678882       5\n",
       "4    3255.678882  3256.683534       7\n",
       "..           ...          ...     ...\n",
       "210  3462.637022  3463.641673      19\n",
       "211  3463.641673  3464.646324      16\n",
       "212  3464.646324  3465.650975      13\n",
       "213  3465.650975  3466.655627      14\n",
       "214  3466.655627  3467.660278      12\n",
       "\n",
       "[215 rows x 3 columns]"
      ]
     },
     "execution_count": 10,
     "metadata": {},
     "output_type": "execute_result"
    }
   ],
   "source": [
    "D"
   ]
  },
  {
   "cell_type": "code",
   "execution_count": 11,
   "metadata": {},
   "outputs": [
    {
     "data": {
      "text/plain": [
       "<matplotlib.axes._subplots.AxesSubplot at 0x7f9086879110>"
      ]
     },
     "execution_count": 11,
     "metadata": {},
     "output_type": "execute_result"
    },
    {
     "data": {
      "image/png": "[encoded data removed]",
      "text/plain": [
       "<Figure size 432x288 with 1 Axes>"
      ]
     },
     "metadata": {
      "needs_background": "light"
     },
     "output_type": "display_data"
    }
   ],
   "source": [
    "sns.lineplot(B.start,B.Tweets)"
   ]
  },
  {
   "cell_type": "code",
   "execution_count": 12,
   "metadata": {},
   "outputs": [
    {
     "data": {
      "text/plain": [
       "<matplotlib.axes._subplots.AxesSubplot at 0x7f907cb8e210>"
      ]
     },
     "execution_count": 12,
     "metadata": {},
     "output_type": "execute_result"
    },
    {
     "data": {
      "image/png": "[encoded data removed]",
      "text/plain": [
       "<Figure size 432x288 with 1 Axes>"
      ]
     },
     "metadata": {
      "needs_background": "light"
     },
     "output_type": "display_data"
    }
   ],
   "source": [
    "sns.lineplot(D.start,D.Tweets)"
   ]
  },
  {
   "cell_type": "code",
   "execution_count": 14,
   "metadata": {},
   "outputs": [
    {
     "data": {
      "text/plain": [
       "<matplotlib.axes._subplots.AxesSubplot at 0x7f907a286b90>"
      ]
     },
     "execution_count": 14,
     "metadata": {},
     "output_type": "execute_result"
    },
    {
     "data": {
      "image/png": "[encoded data removed]",
      "text/plain": [
       "<Figure size 432x288 with 1 Axes>"
      ]
     },
     "metadata": {
      "needs_background": "light"
     },
     "output_type": "display_data"
    }
   ],
   "source": [
    "sns.lineplot(model.real_tweets_validate.start,model.real_tweets_validate.Tweets)"
   ]
  },
  {
   "cell_type": "code",
   "execution_count": null,
   "metadata": {},
   "outputs": [],
   "source": []
  }
 ],
 "metadata": {
  "kernelspec": {
   "display_name": "Python 3",
   "language": "python",
   "name": "python3"
  },
  "language_info": {
   "codemirror_mode": {
    "name": "ipython",
    "version": 3
   },
   "file_extension": ".py",
   "mimetype": "text/x-python",
   "name": "python",
   "nbconvert_exporter": "python",
   "pygments_lexer": "ipython3",
   "version": "3.7.4"
  }
 },
 "nbformat": 4,
 "nbformat_minor": 2
}
