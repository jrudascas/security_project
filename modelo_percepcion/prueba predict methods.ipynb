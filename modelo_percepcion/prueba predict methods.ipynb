{
 "cells": [
  {
   "cell_type": "code",
   "execution_count": 1,
   "metadata": {},
   "outputs": [],
   "source": [
    "from modelo_tweets import *"
   ]
  },
  {
   "cell_type": "code",
   "execution_count": 2,
   "metadata": {},
   "outputs": [],
   "source": [
    "partidos=pd.read_csv('entradas/Partidos.csv')\n",
    "manifestaciones=pd.read_csv('entradas/Manifestaciones.csv')\n",
    "f_especiales=pd.read_csv('entradas/FechasEspeciales.csv')\n",
    "\n",
    "partidos_M=pd.to_datetime(partidos['Fecha'].dropna())\n",
    "partidos_S=pd.to_datetime(partidos['Fecha.1'].dropna())\n",
    "manifestaciones=pd.to_datetime(manifestaciones['Fecha'].dropna())\n",
    "f_especiales=pd.to_datetime(f_especiales[['2019','2020']].values.flatten())\n",
    "f_especiales=f_especiales[~f_especiales.isna()]\n",
    "\n",
    "def TC(t):\n",
    "    return np.array([(pd.Timestamp(t.date()) == partidos_M).sum(),\n",
    "                     (pd.Timestamp(t.date()) == partidos_S).sum(),\n",
    "                     (pd.Timestamp(t.date()) == manifestaciones).sum(),\n",
    "                     (pd.Timestamp(t.date()) == f_especiales).sum(),\n",
    "                     t.weekday()/6.0,(t.hour > 12)*1,1\n",
    "                    ])"
   ]
  },
  {
   "cell_type": "code",
   "execution_count": 3,
   "metadata": {},
   "outputs": [],
   "source": [
    "with open('entradas/data_tweets.pickle', 'rb') as handle:\n",
    "    data = pickle.load(handle)"
   ]
  },
  {
   "cell_type": "code",
   "execution_count": 4,
   "metadata": {},
   "outputs": [],
   "source": [
    "train_period=('2019-10-01 00:00','2019-12-01 00:00')\n",
    "validate_period=('2019-12-01 00:00','2019-12-10 00:00')\n",
    "model=modelTweets(data,\n",
    "                  train_period,\n",
    "                  validate_period,\n",
    "                  f_covariates=(TC,restore_date),\n",
    "                  followers_rate=6,\n",
    "                  win_size_pred_period=1\n",
    "                 )"
   ]
  },
  {
   "cell_type": "code",
   "execution_count": null,
   "metadata": {},
   "outputs": [],
   "source": [
    "A,B=get_particion(model.train_start,model.train_end,model.f_covariates)"
   ]
  },
  {
   "cell_type": "code",
   "execution_count": null,
   "metadata": {},
   "outputs": [],
   "source": [
    "np.array([model.f_covariates(b) for b in B]).sum(axis=0)"
   ]
  },
  {
   "cell_type": "code",
   "execution_count": null,
   "metadata": {},
   "outputs": [],
   "source": [
    "len(B)"
   ]
  },
  {
   "cell_type": "code",
   "execution_count": null,
   "metadata": {},
   "outputs": [],
   "source": [
    "model.compute_Beta()"
   ]
  },
  {
   "cell_type": "code",
   "execution_count": null,
   "metadata": {},
   "outputs": [],
   "source": [
    "model.compute_p_est()"
   ]
  },
  {
   "cell_type": "code",
   "execution_count": null,
   "metadata": {},
   "outputs": [],
   "source": [
    "model.infectious_rate_fit()"
   ]
  },
  {
   "cell_type": "code",
   "execution_count": 5,
   "metadata": {},
   "outputs": [
    {
     "name": "stderr",
     "output_type": "stream",
     "text": [
      "/u01/user8/Documents/percepcion/limpio/modelo_tweets.py:170: RuntimeWarning: divide by zero encountered in true_divide\n",
      "  return count_events / kernel_int.sum()\n",
      "/u01/user8/Documents/percepcion/limpio/modelo_tweets.py:170: RuntimeWarning: invalid value encountered in true_divide\n",
      "  return count_events / kernel_int.sum()\n",
      "/u01/user8/Documents/percepcion/limpio/modelo_tweets.py:256: RuntimeWarning: overflow encountered in exp\n",
      "  return p0*(1-r0*np.sin(2*np.pi/tm*(t+phi0)))*np.exp(-(t-t0)/taum)\n",
      "/u01/user8/Documents/percepcion/limpio/modelo_tweets.py:336: RuntimeWarning: invalid value encountered in multiply\n",
      "  sum_ext=np.nan_to_num(sum_int*p_t)\n"
     ]
    },
    {
     "data": {
      "text/plain": [
       "(array([ 0.31020164, -0.13215305, -2.0197377 , -0.59119503,  3.63525715,\n",
       "        -0.64402529,  2.93843778]),\n",
       " array([0., 0., 1.]),\n",
       " nan,\n",
       " array([ 34.63353912,  35.03248267,  35.48081328, ..., 205.16315344,\n",
       "        205.63290103,  95.4675873 ]))"
      ]
     },
     "execution_count": 5,
     "metadata": {},
     "output_type": "execute_result"
    }
   ],
   "source": [
    "model.train()"
   ]
  },
  {
   "cell_type": "code",
   "execution_count": 6,
   "metadata": {},
   "outputs": [],
   "source": [
    "A,B=model.compute_lambda_predict()"
   ]
  },
  {
   "cell_type": "code",
   "execution_count": 7,
   "metadata": {},
   "outputs": [
    {
     "data": {
      "text/plain": [
       "<matplotlib.axes._subplots.AxesSubplot at 0x7f51ae14df50>"
      ]
     },
     "execution_count": 7,
     "metadata": {},
     "output_type": "execute_result"
    },
    {
     "data": {
      "image/png": "[encoded data removed]",
      "text/plain": [
       "<Figure size 432x288 with 1 Axes>"
      ]
     },
     "metadata": {
      "needs_background": "light"
     },
     "output_type": "display_data"
    }
   ],
   "source": [
    "sns.lineplot(B.start,B.Tweets)"
   ]
  },
  {
   "cell_type": "code",
   "execution_count": 8,
   "metadata": {},
   "outputs": [
    {
     "name": "stderr",
     "output_type": "stream",
     "text": [
      "/u01/user8/Documents/percepcion/limpio/modelo_tweets.py:592: RuntimeWarning: divide by zero encountered in true_divide\n",
      "  self.errors_predict['APE']=diff/real\n"
     ]
    },
    {
     "data": {
      "text/plain": [
       "({'APE': array([5.15358529e-01, 1.93047951e-01, 2.96733035e-02, 2.02075789e-02,\n",
       "         4.98022071e-02, 7.75517061e-02, 2.33795779e-01, 2.51903459e-01,\n",
       "         4.03245943e-02, 2.80244556e-01, 1.44075095e-01, 1.17736994e-01,\n",
       "         1.17736907e-01, 3.43479516e-01, 2.16964786e-01, 7.81984145e-01,\n",
       "         2.56396828e+00, 1.56318520e+01, 9.95822238e-01, 1.08790132e-01,\n",
       "         2.55290210e-01, 5.94345074e-01, 5.73542257e-01, 4.80254626e-01,\n",
       "         9.68278093e-01, 9.65194019e-01, 9.69438651e-01, 9.76133042e-01,\n",
       "         9.76579153e-01, 9.67454148e-01, 9.68674617e-01, 9.67025913e-01,\n",
       "         9.60843271e-01, 9.71522379e-01, 9.69806860e-01, 9.89935620e-01,\n",
       "         9.88960217e-01, 9.90029526e-01, 9.79752268e-01, 9.67899937e-01,\n",
       "         9.49380669e-01, 9.45162392e-01, 9.65365721e-01, 9.87583938e-01,\n",
       "         9.92962018e-01, 9.91509016e-01, 9.90178339e-01, 9.88035431e-01,\n",
       "         5.67300878e-01, 6.19605168e-01, 6.85309730e-01, 7.69227135e-01,\n",
       "         7.62904591e-01, 7.57930561e-01, 8.75482267e-01, 8.50793406e-01,\n",
       "         8.17810896e-01, 8.10841914e-01, 8.09802584e-01, 7.82289750e-01,\n",
       "         7.25270399e-01, 7.95737162e-01, 6.28991987e-01, 3.73124392e-01,\n",
       "         1.34314637e-01, 1.34314637e-01, 6.28991987e-01, 7.83578659e-01,\n",
       "         8.65337832e-01, 8.60158518e-01, 8.90485587e-01, 8.86378796e-01,\n",
       "         9.36701691e-01, 9.51616810e-01, 9.49888839e-01, 9.50185354e-01,\n",
       "         8.83073957e-01, 9.12305468e-01, 9.41940172e-01, 9.64022756e-01,\n",
       "         9.40293084e-01, 9.13209535e-01, 9.28045512e-01, 9.14962878e-01,\n",
       "         8.98570179e-01, 9.21048735e-01, 9.09769983e-01, 8.23149167e-01,\n",
       "         7.54373843e-01, 8.23149167e-01, 9.18124614e-01, 9.64910549e-01,\n",
       "         9.60873709e-01, 9.69082022e-01, 9.71658520e-01, 9.59437882e-01,\n",
       "         6.61251302e-01, 7.61933199e-01, 5.10228456e-01, 1.19410549e+00,\n",
       "         1.58416869e+00, 2.42022327e+00, 1.15347391e+00, 1.70436258e+00,\n",
       "         1.90718978e+00, 2.06019977e+00, 2.63398722e+00, 3.50348653e-01,\n",
       "         6.72429321e-01, 7.39011792e-01, 5.78819030e-01, 1.96431044e-01,\n",
       "         2.46351851e-01, 1.39841681e-01, 6.00841564e-01, 7.75473380e-01,\n",
       "         8.20905453e-01, 8.10337762e-01, 7.41223556e-01, 7.41223556e-01,\n",
       "         8.45456753e-01, 7.60326998e-01, 7.38135053e-01, 6.78620292e-01,\n",
       "         7.49721997e-01, 7.56194704e-01, 6.22914476e-01, 7.45212484e-01,\n",
       "         7.56194704e-01, 6.92593323e-01, 7.11414140e-01, 7.11414140e-01,\n",
       "         5.58102902e-01, 6.77115899e-01, 9.82209029e-03, 1.42512973e-01,\n",
       "         1.42512973e-01, 6.50296516e-01, 4.05893254e-01, 5.98576523e-01,\n",
       "         6.37739789e-01, 8.01964418e-01, 8.34970348e-01, 7.48259853e-01,\n",
       "         5.05177912e-01, 2.64110741e-01, 7.64756712e-01, 7.93527474e-01,\n",
       "         8.36933630e-01, 7.99302929e-01, 8.43171141e-01, 7.95002278e-01,\n",
       "         7.97889570e-01, 7.41444314e-01, 8.36933630e-01, 8.00696659e-01,\n",
       "         7.79233222e-01, 8.50768994e-01, 8.59137088e-01, 8.18405644e-01,\n",
       "         7.64494819e-01, 7.40132214e-01, 8.28723505e-01, 8.72268376e-01,\n",
       "         8.46200698e-01, 8.96764852e-01, 8.96764852e-01, 8.56453985e-01,\n",
       "         6.10352414e-01, 4.52058083e-01, 3.95374436e-01, 4.89296854e-01,\n",
       "         1.23292932e-01, 3.88343906e-01, 5.12940518e-01, 7.71504552e-02,\n",
       "         1.65040888e-01, 2.82985953e-01, 7.53414135e-01, 8.13876691e-01,\n",
       "         2.28765150e+00, 1.12503347e+00, 3.60423918e+00,            inf,\n",
       "         1.28127175e+01, 5.90635877e+00, 9.73245363e-01, 6.25167341e-02,\n",
       "         4.24470102e-01, 5.74993306e-01, 6.86074601e-01, 6.54682061e-01,\n",
       "         7.22260019e-01, 6.06535027e-01, 7.04901270e-01, 6.06535027e-01,\n",
       "         5.27842033e-01, 6.36801564e-01, 5.27842033e-01, 5.27842033e-01,\n",
       "         5.60783286e-01, 5.70765484e-01, 4.75380036e-01, 4.27687312e-01,\n",
       "         5.02991613e-01, 4.16943856e-01, 2.37030231e-01, 8.91860699e+00,\n",
       "         1.47965175e+00, 9.83721399e-01, 6.53101166e-01, 7.24483139e-01,\n",
       "         6.99436152e-01, 9.14494767e-01, 9.27601409e-01]),\n",
       "  'MAPE': inf,\n",
       "  'MSE': 8332.356092242995,\n",
       "  'MAE': 70.70379857113896,\n",
       "  'RMSE': 91.28174019070296,\n",
       "  'Pearson': (0.08584380542732954, 0.20995287049150319),\n",
       "  'kendall': KendalltauResult(correlation=0.06717195920925642, pvalue=0.15207597593315225)},\n",
       " {'APE': array([5.15358529e-01, 5.35244700e-02, 2.43008793e-02, 1.28186440e-02,\n",
       "         3.36996949e-04, 1.40729469e-02, 5.28291790e-02, 8.32899423e-02,\n",
       "         7.87112884e-02, 1.03784230e-01, 1.07600174e-01, 9.23625770e-02,\n",
       "         7.90552327e-02, 9.32274792e-02, 8.45106300e-02, 6.81946558e-02,\n",
       "         4.36441687e-02, 1.23765567e-02, 4.10805411e-03, 7.10087082e-03,\n",
       "         3.61223241e-03, 4.48027877e-02, 7.76908886e-02, 9.72387484e-02,\n",
       "         1.30707673e-01, 1.58942173e-01, 1.89014893e-01, 2.24715716e-01,\n",
       "         2.57931814e-01, 2.79793846e-01, 3.01162773e-01, 3.20223262e-01,\n",
       "         3.35302218e-01, 3.55247844e-01, 3.72897809e-01, 4.21844103e-01,\n",
       "         4.60089901e-01, 4.80087623e-01, 4.89203032e-01, 4.94648807e-01,\n",
       "         4.97905839e-01, 5.00843485e-01, 5.05624591e-01, 5.19075800e-01,\n",
       "         5.41313372e-01, 5.58168523e-01, 5.71713051e-01, 5.82159096e-01,\n",
       "         5.81892820e-01, 5.82646239e-01, 5.85067029e-01, 5.90804104e-01,\n",
       "         5.95868944e-01, 6.00409463e-01, 6.14617980e-01, 6.24377991e-01,\n",
       "         6.30710219e-01, 6.36216165e-01, 6.41337373e-01, 6.44879002e-01,\n",
       "         6.46448465e-01, 6.48479138e-01, 6.48334285e-01, 6.47128865e-01,\n",
       "         6.45507501e-01, 6.43896357e-01, 6.43787550e-01, 6.45515398e-01,\n",
       "         6.49797035e-01, 6.53669998e-01, 6.59109515e-01, 6.64032093e-01,\n",
       "         6.68854574e-01, 6.75249249e-01, 6.81117915e-01, 6.86780024e-01,\n",
       "         6.88524213e-01, 6.91144411e-01, 6.95502678e-01, 7.02827661e-01,\n",
       "         7.06667852e-01, 7.08940372e-01, 7.11810103e-01, 7.14036866e-01,\n",
       "         7.15717202e-01, 7.16970998e-01, 7.17995635e-01, 7.18279987e-01,\n",
       "         7.18350126e-01, 7.18632207e-01, 7.19785343e-01, 7.23047465e-01,\n",
       "         7.25852430e-01, 7.29429336e-01, 7.33254007e-01, 7.35722126e-01,\n",
       "         7.26000669e-01, 7.16301544e-01, 7.07044260e-01, 6.97218718e-01,\n",
       "         6.87251491e-01, 6.77027557e-01, 6.67512050e-01, 6.57734406e-01,\n",
       "         6.47936205e-01, 6.38143725e-01, 6.28210304e-01, 6.23570637e-01,\n",
       "         6.25136761e-01, 6.27493005e-01, 6.26876825e-01, 6.24039541e-01,\n",
       "         6.20356220e-01, 6.17427762e-01, 6.17212759e-01, 6.20777718e-01,\n",
       "         6.26274139e-01, 6.30927027e-01, 6.32933346e-01, 6.34867978e-01,\n",
       "         6.37745432e-01, 6.38816013e-01, 6.39603623e-01, 6.39854113e-01,\n",
       "         6.40752454e-01, 6.41713368e-01, 6.41612739e-01, 6.42427041e-01,\n",
       "         6.43353930e-01, 6.43670052e-01, 6.44130193e-01, 6.44584126e-01,\n",
       "         6.44204770e-01, 6.44308208e-01, 6.43658608e-01, 6.42961647e-01,\n",
       "         6.42265921e-01, 6.41473802e-01, 6.41073454e-01, 6.40966838e-01,\n",
       "         6.40957891e-01, 6.41770289e-01, 6.42933056e-01, 6.43346982e-01,\n",
       "         6.42815245e-01, 6.41837782e-01, 6.42822295e-01, 6.44185123e-01,\n",
       "         6.46367134e-01, 6.47761004e-01, 6.50013890e-01, 6.51281509e-01,\n",
       "         6.52570171e-01, 6.53176653e-01, 6.55143641e-01, 6.56407336e-01,\n",
       "         6.57362550e-01, 6.58524116e-01, 6.59792468e-01, 6.60566555e-01,\n",
       "         6.60956187e-01, 6.61224282e-01, 6.62080409e-01, 6.63511166e-01,\n",
       "         6.64538160e-01, 6.66466887e-01, 6.68363841e-01, 6.69471494e-01,\n",
       "         6.69027237e-01, 6.67873977e-01, 6.66567637e-01, 6.65567204e-01,\n",
       "         6.63790324e-01, 6.62502701e-01, 6.61629818e-01, 6.59835004e-01,\n",
       "         6.58161338e-01, 6.56094102e-01, 6.53832375e-01, 6.51559287e-01,\n",
       "         6.49049956e-01, 6.47820187e-01, 6.46460254e-01, 6.44987683e-01,\n",
       "         6.43553112e-01, 6.42156989e-01, 6.40952749e-01, 6.39980176e-01,\n",
       "         6.39431513e-01, 6.39210123e-01, 6.39427099e-01, 6.39491038e-01,\n",
       "         6.39784867e-01, 6.39701755e-01, 6.39918331e-01, 6.39835370e-01,\n",
       "         6.39603919e-01, 6.39596410e-01, 6.39366546e-01, 6.39137625e-01,\n",
       "         6.38965109e-01, 6.38811804e-01, 6.38511777e-01, 6.38157594e-01,\n",
       "         6.37896616e-01, 6.37521571e-01, 6.37257301e-01, 6.36772281e-01,\n",
       "         6.36342681e-01, 6.35931727e-01, 6.35539466e-01, 6.35701567e-01,\n",
       "         6.35807866e-01, 6.37432210e-01, 6.39416000e-01]),\n",
       "  'MAPE': 0.5603807771619729,\n",
       "  'MSE': 68101488.76807478,\n",
       "  'MAE': 7028.159410532081,\n",
       "  'RMSE': 8252.362617340248,\n",
       "  'Pearson': (0.9833957731259406, 7.444403695024874e-160),\n",
       "  'kendall': KendalltauResult(correlation=0.9999782653582389, pvalue=1.6464806177543174e-105)})"
      ]
     },
     "execution_count": 8,
     "metadata": {},
     "output_type": "execute_result"
    }
   ],
   "source": [
    "model.compute_errors()"
   ]
  },
  {
   "cell_type": "code",
   "execution_count": 9,
   "metadata": {},
   "outputs": [
    {
     "data": {
      "text/plain": [
       "inf"
      ]
     },
     "execution_count": 9,
     "metadata": {},
     "output_type": "execute_result"
    },
    {
     "data": {
      "image/png": "[encoded data removed]",
      "text/plain": [
       "<Figure size 432x288 with 1 Axes>"
      ]
     },
     "metadata": {
      "needs_background": "light"
     },
     "output_type": "display_data"
    }
   ],
   "source": [
    "sns.lineplot(B.start,model.errors_predict['APE'])\n",
    "model.errors_predict['APE'].mean()"
   ]
  },
  {
   "cell_type": "code",
   "execution_count": null,
   "metadata": {},
   "outputs": [],
   "source": [
    "model.method_pred = 'thinning'"
   ]
  },
  {
   "cell_type": "code",
   "execution_count": null,
   "metadata": {},
   "outputs": [],
   "source": [
    "C,D=model.compute_lambda_predict()"
   ]
  },
  {
   "cell_type": "code",
   "execution_count": null,
   "metadata": {},
   "outputs": [],
   "source": [
    "sns.lineplot(D.start,D.Tweets)"
   ]
  },
  {
   "cell_type": "code",
   "execution_count": null,
   "metadata": {},
   "outputs": [],
   "source": [
    "model.compute_errors()"
   ]
  },
  {
   "cell_type": "code",
   "execution_count": null,
   "metadata": {},
   "outputs": [],
   "source": [
    "sns.lineplot(B.start,model.errors_predict_cum['APE'])\n",
    "model.errors_predict_cum['APE'].mean()"
   ]
  },
  {
   "cell_type": "code",
   "execution_count": null,
   "metadata": {},
   "outputs": [],
   "source": []
  },
  {
   "cell_type": "code",
   "execution_count": null,
   "metadata": {},
   "outputs": [],
   "source": []
  },
  {
   "cell_type": "code",
   "execution_count": null,
   "metadata": {},
   "outputs": [],
   "source": []
  }
 ],
 "metadata": {
  "kernelspec": {
   "display_name": "Python 3",
   "language": "python",
   "name": "python3"
  },
  "language_info": {
   "codemirror_mode": {
    "name": "ipython",
    "version": 3
   },
   "file_extension": ".py",
   "mimetype": "text/x-python",
   "name": "python",
   "nbconvert_exporter": "python",
   "pygments_lexer": "ipython3",
   "version": "3.7.4"
  }
 },
 "nbformat": 4,
 "nbformat_minor": 2
}
