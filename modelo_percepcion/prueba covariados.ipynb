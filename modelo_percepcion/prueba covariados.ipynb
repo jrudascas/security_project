{
 "cells": [
  {
   "cell_type": "code",
   "execution_count": 1,
   "metadata": {},
   "outputs": [
    {
     "name": "stderr",
     "output_type": "stream",
     "text": [
      "In /u01/user8/anaconda3/lib/python3.7/site-packages/matplotlib/mpl-data/stylelib/_classic_test.mplstyle: \n",
      "The text.latex.preview rcparam was deprecated in Matplotlib 3.3 and will be removed two minor releases later.\n",
      "In /u01/user8/anaconda3/lib/python3.7/site-packages/matplotlib/mpl-data/stylelib/_classic_test.mplstyle: \n",
      "The mathtext.fallback_to_cm rcparam was deprecated in Matplotlib 3.3 and will be removed two minor releases later.\n",
      "In /u01/user8/anaconda3/lib/python3.7/site-packages/matplotlib/mpl-data/stylelib/_classic_test.mplstyle: Support for setting the 'mathtext.fallback_to_cm' rcParam is deprecated since 3.3 and will be removed two minor releases later; use 'mathtext.fallback : 'cm' instead.\n",
      "In /u01/user8/anaconda3/lib/python3.7/site-packages/matplotlib/mpl-data/stylelib/_classic_test.mplstyle: \n",
      "The validate_bool_maybe_none function was deprecated in Matplotlib 3.3 and will be removed two minor releases later.\n",
      "In /u01/user8/anaconda3/lib/python3.7/site-packages/matplotlib/mpl-data/stylelib/_classic_test.mplstyle: \n",
      "The savefig.jpeg_quality rcparam was deprecated in Matplotlib 3.3 and will be removed two minor releases later.\n",
      "In /u01/user8/anaconda3/lib/python3.7/site-packages/matplotlib/mpl-data/stylelib/_classic_test.mplstyle: \n",
      "The keymap.all_axes rcparam was deprecated in Matplotlib 3.3 and will be removed two minor releases later.\n",
      "In /u01/user8/anaconda3/lib/python3.7/site-packages/matplotlib/mpl-data/stylelib/_classic_test.mplstyle: \n",
      "The animation.avconv_path rcparam was deprecated in Matplotlib 3.3 and will be removed two minor releases later.\n",
      "In /u01/user8/anaconda3/lib/python3.7/site-packages/matplotlib/mpl-data/stylelib/_classic_test.mplstyle: \n",
      "The animation.avconv_args rcparam was deprecated in Matplotlib 3.3 and will be removed two minor releases later.\n"
     ]
    }
   ],
   "source": [
    "from modelo_tweets import *\n",
    "import itertools"
   ]
  },
  {
   "cell_type": "code",
   "execution_count": 2,
   "metadata": {},
   "outputs": [],
   "source": [
    "partidos=pd.read_csv('entradas/Partidos.csv')\n",
    "manifestaciones=pd.read_csv('entradas/Manifestaciones.csv')\n",
    "f_especiales=pd.read_csv('entradas/FechasEspeciales.csv')\n",
    "\n",
    "partidos_M=pd.to_datetime(partidos['Fecha'].dropna())\n",
    "partidos_S=pd.to_datetime(partidos['Fecha.1'].dropna())\n",
    "manifestaciones=pd.to_datetime(manifestaciones['Fecha'].dropna())\n",
    "f_especiales=pd.to_datetime(f_especiales[['2019','2020']].values.flatten())\n",
    "f_especiales=f_especiales[~f_especiales.isna()]\n",
    "\n",
    "def TC(t):\n",
    "    return np.array([\n",
    "                     (pd.Timestamp(t.date()) == partidos_M).sum(),\n",
    "                     (pd.Timestamp(t.date()) == partidos_S).sum(),\n",
    "                     (pd.Timestamp(t.date()) == manifestaciones).sum(),\n",
    "                     (pd.Timestamp(t.date()) == f_especiales).sum(),\n",
    "                     t.weekday()/6.0,\n",
    "                     (t.hour > 12)*1,\n",
    "                     1\n",
    "                    ])"
   ]
  },
  {
   "cell_type": "code",
   "execution_count": 3,
   "metadata": {},
   "outputs": [],
   "source": [
    "with open('entradas/data_tweets.pickle', 'rb') as handle:\n",
    "    data = pickle.load(handle)"
   ]
  },
  {
   "cell_type": "code",
   "execution_count": 185,
   "metadata": {},
   "outputs": [],
   "source": [
    "# time series split\n",
    "splits=[\n",
    "        [('2019-04-01 00:00','2019-05-01 00:00'),\n",
    "         ('2019-05-01 00:00','2019-05-15 00:00')],\n",
    "        [('2019-04-01 00:00','2019-05-15 00:00'),\n",
    "         ('2019-05-15 00:00','2019-06-01 00:00')],\n",
    "        [('2019-04-01 00:00','2019-06-01 00:00'),\n",
    "         ('2019-06-01 00:00','2019-06-15 00:00')],    \n",
    "        [('2019-04-01 00:00','2019-06-15 00:00'),\n",
    "         ('2019-06-15 00:00','2019-07-01 00:00')],    \n",
    "        [('2019-04-01 00:00','2019-07-01 00:00'),\n",
    "         ('2019-07-01 00:00','2019-07-15 00:00')],   \n",
    "        [('2019-04-01 00:00','2019-07-15 00:00'),\n",
    "         ('2019-07-15 00:00','2019-08-01 00:00')],     \n",
    "        [('2019-04-01 00:00','2019-08-01 00:00'),\n",
    "         ('2019-08-01 00:00','2019-08-15 00:00')],    \n",
    "        [('2019-04-01 00:00','2019-08-15 00:00'),\n",
    "         ('2019-08-15 00:00','2019-09-01 00:00')],   \n",
    "        [('2019-04-01 00:00','2019-09-01 00:00'),\n",
    "         ('2019-09-01 00:00','2019-09-15 00:00')],  \n",
    "        [('2019-04-01 00:00','2019-09-15 00:00'),\n",
    "         ('2019-10-15 00:00','2019-10-01 00:00')],    \n",
    "        [('2019-04-01 00:00','2019-10-01 00:00'),\n",
    "         ('2019-10-01 00:00','2019-10-15 00:00')],   \n",
    "        [('2019-04-01 00:00','2019-10-15 00:00'),\n",
    "         ('2019-10-15 00:00','2019-11-01 00:00')],    \n",
    "        [('2019-04-01 00:00','2019-11-01 00:00'),\n",
    "         ('2019-11-01 00:00','2019-11-15 00:00')],    \n",
    "        [('2019-04-01 00:00','2019-11-15 00:00'),\n",
    "         ('2019-11-15 00:00','2019-12-01 00:00')], \n",
    "        [('2019-04-01 00:00','2019-12-01 00:00'),\n",
    "         ('2019-12-01 00:00','2019-12-15 00:00')],     \n",
    "        [('2019-04-01 00:00','2019-12-15 00:00'),\n",
    "         ('2019-12-15 00:00','2020-01-01 00:00')],     \n",
    "        ]\n",
    "\n",
    "# blocking time series split\n",
    "splits=[\n",
    "        [('2019-04-01 00:00','2019-05-01 00:00'),\n",
    "         ('2019-05-01 00:00','2019-05-15 00:00')],\n",
    "        [('2019-04-15 00:00','2019-05-15 00:00'),\n",
    "         ('2019-05-15 00:00','2019-06-01 00:00')],\n",
    "        [('2019-05-01 00:00','2019-06-01 00:00'),\n",
    "         ('2019-06-01 00:00','2019-06-15 00:00')],    \n",
    "        [('2019-05-15 00:00','2019-06-15 00:00'),\n",
    "         ('2019-06-15 00:00','2019-07-01 00:00')],    \n",
    "        [('2019-06-01 00:00','2019-07-01 00:00'),\n",
    "         ('2019-07-01 00:00','2019-07-15 00:00')],   \n",
    "        [('2019-06-15 00:00','2019-07-15 00:00'),\n",
    "         ('2019-07-15 00:00','2019-08-01 00:00')],     \n",
    "        [('2019-07-01 00:00','2019-08-01 00:00'),\n",
    "         ('2019-08-01 00:00','2019-08-15 00:00')],    \n",
    "        [('2019-07-15 00:00','2019-08-15 00:00'),\n",
    "         ('2019-08-15 00:00','2019-09-01 00:00')],   \n",
    "        [('2019-08-01 00:00','2019-09-01 00:00'),\n",
    "         ('2019-09-01 00:00','2019-09-15 00:00')],  \n",
    "        [('2019-08-15 00:00','2019-09-15 00:00'),\n",
    "         ('2019-10-15 00:00','2019-10-01 00:00')],    \n",
    "        [('2019-09-01 00:00','2019-10-01 00:00'),\n",
    "         ('2019-10-01 00:00','2019-10-15 00:00')],   \n",
    "        [('2019-09-15 00:00','2019-10-15 00:00'),\n",
    "         ('2019-10-15 00:00','2019-11-01 00:00')],    \n",
    "        [('2019-10-01 00:00','2019-11-01 00:00'),\n",
    "         ('2019-11-01 00:00','2019-11-15 00:00')],    \n",
    "        [('2019-10-15 00:00','2019-11-15 00:00'),\n",
    "         ('2019-11-15 00:00','2019-12-01 00:00')], \n",
    "        [('2019-11-01 00:00','2019-12-01 00:00'),\n",
    "         ('2019-12-01 00:00','2019-12-15 00:00')],     \n",
    "        [('2019-11-15 00:00','2019-12-15 00:00'),\n",
    "         ('2019-12-15 00:00','2020-01-01 00:00')],     \n",
    "        ]"
   ]
  },
  {
   "cell_type": "code",
   "execution_count": null,
   "metadata": {},
   "outputs": [],
   "source": [
    "results_by_split={}\n",
    "for split in splits:\n",
    "    train_period,validate_period=split\n",
    "    print(train_period,validate_period)\n",
    "    results={}\n",
    "    results_cum={}\n",
    "    for j in range(1,7):\n",
    "        for i in list(itertools.combinations(np.arange(6),j)):\n",
    "            print(i,np.array(i+(6,)))\n",
    "            func = lambda x: TC(x)[np.array(i+(6,))]\n",
    "\n",
    "            model=modelTweets(data,\n",
    "                      train_period,\n",
    "                      validate_period,\n",
    "                      f_covariates=(func,restore_date),\n",
    "                      followers_rate=4,\n",
    "                      win_size_pred_period=1\n",
    "                     )\n",
    "            model.train()\n",
    "            model.compute_lambda_predict()\n",
    "            model.compute_errors()\n",
    "            results[i]=model.errors_predict\n",
    "            results_cum[i]=model.errors_predict_cum\n",
    "    results_by_split[(train_period,validate_period)]=[results,results_cum]"
   ]
  },
  {
   "cell_type": "code",
   "execution_count": 2,
   "metadata": {},
   "outputs": [],
   "source": [
    "with open('errors_covariados.pickle', 'rb') as f:\n",
    "    x = pickle.load(f)"
   ]
  },
  {
   "cell_type": "code",
   "execution_count": 64,
   "metadata": {},
   "outputs": [
    {
     "data": {
      "text/plain": [
       "<AxesSubplot:xlabel=\"('MAE', 'mean')\", ylabel=\"('Combination', '')\">"
      ]
     },
     "execution_count": 64,
     "metadata": {},
     "output_type": "execute_result"
    },
    {
     "data": {
      "image/png": "[encoded data removed]",
      "text/plain": [
       "<Figure size 432x288 with 1 Axes>"
      ]
     },
     "metadata": {
      "needs_background": "light"
     },
     "output_type": "display_data"
    }
   ],
   "source": [
    "values=[]\n",
    "for idx,period in enumerate(x):\n",
    "    for comb in x[period][0]:\n",
    "        values.append([idx,comb,x[period][0][comb]['MAE']])\n",
    "MAE=pd.DataFrame(values,columns=['Period','Combination','MAE'])\n",
    "MAE=MAE.groupby('Combination').agg({'MAE':['mean','std']}).reset_index()\n",
    "MAE=MAE.sort_values(('MAE','mean'))\n",
    "sns.barplot(data=MAE.head(10),y=('Combination',''),x=('MAE','mean'),xerr=MAE[('MAE','std')].head(10).values)"
   ]
  },
  {
   "cell_type": "code",
   "execution_count": 65,
   "metadata": {},
   "outputs": [
    {
     "data": {
      "text/html": [
       "<div>\n",
       "<style scoped>\n",
       "    .dataframe tbody tr th:only-of-type {\n",
       "        vertical-align: middle;\n",
       "    }\n",
       "\n",
       "    .dataframe tbody tr th {\n",
       "        vertical-align: top;\n",
       "    }\n",
       "\n",
       "    .dataframe thead tr th {\n",
       "        text-align: left;\n",
       "    }\n",
       "</style>\n",
       "<table border=\"1\" class=\"dataframe\">\n",
       "  <thead>\n",
       "    <tr>\n",
       "      <th></th>\n",
       "      <th>Combination</th>\n",
       "      <th colspan=\"2\" halign=\"left\">MAE</th>\n",
       "    </tr>\n",
       "    <tr>\n",
       "      <th></th>\n",
       "      <th></th>\n",
       "      <th>mean</th>\n",
       "      <th>std</th>\n",
       "    </tr>\n",
       "  </thead>\n",
       "  <tbody>\n",
       "    <tr>\n",
       "      <th>31</th>\n",
       "      <td>(0, 5)</td>\n",
       "      <td>48.570972</td>\n",
       "      <td>15.802359</td>\n",
       "    </tr>\n",
       "    <tr>\n",
       "      <th>30</th>\n",
       "      <td>(0, 4, 5)</td>\n",
       "      <td>49.171733</td>\n",
       "      <td>15.705625</td>\n",
       "    </tr>\n",
       "    <tr>\n",
       "      <th>28</th>\n",
       "      <td>(0, 3, 5)</td>\n",
       "      <td>49.460980</td>\n",
       "      <td>15.045487</td>\n",
       "    </tr>\n",
       "    <tr>\n",
       "      <th>27</th>\n",
       "      <td>(0, 3, 4, 5)</td>\n",
       "      <td>50.487379</td>\n",
       "      <td>15.582704</td>\n",
       "    </tr>\n",
       "    <tr>\n",
       "      <th>6</th>\n",
       "      <td>(0, 1, 2, 3, 5)</td>\n",
       "      <td>52.874510</td>\n",
       "      <td>9.133553</td>\n",
       "    </tr>\n",
       "    <tr>\n",
       "      <th>...</th>\n",
       "      <td>...</td>\n",
       "      <td>...</td>\n",
       "      <td>...</td>\n",
       "    </tr>\n",
       "    <tr>\n",
       "      <th>58</th>\n",
       "      <td>(3, 4, 5)</td>\n",
       "      <td>76.884102</td>\n",
       "      <td>14.636005</td>\n",
       "    </tr>\n",
       "    <tr>\n",
       "      <th>57</th>\n",
       "      <td>(3, 4)</td>\n",
       "      <td>134.480985</td>\n",
       "      <td>73.448132</td>\n",
       "    </tr>\n",
       "    <tr>\n",
       "      <th>56</th>\n",
       "      <td>(3,)</td>\n",
       "      <td>134.900229</td>\n",
       "      <td>72.032587</td>\n",
       "    </tr>\n",
       "    <tr>\n",
       "      <th>39</th>\n",
       "      <td>(1, 2, 4, 5)</td>\n",
       "      <td>149.094805</td>\n",
       "      <td>229.627474</td>\n",
       "    </tr>\n",
       "    <tr>\n",
       "      <th>40</th>\n",
       "      <td>(1, 2, 5)</td>\n",
       "      <td>158.981242</td>\n",
       "      <td>252.685035</td>\n",
       "    </tr>\n",
       "  </tbody>\n",
       "</table>\n",
       "<p>63 rows × 3 columns</p>\n",
       "</div>"
      ],
      "text/plain": [
       "        Combination         MAE            \n",
       "                           mean         std\n",
       "31           (0, 5)   48.570972   15.802359\n",
       "30        (0, 4, 5)   49.171733   15.705625\n",
       "28        (0, 3, 5)   49.460980   15.045487\n",
       "27     (0, 3, 4, 5)   50.487379   15.582704\n",
       "6   (0, 1, 2, 3, 5)   52.874510    9.133553\n",
       "..              ...         ...         ...\n",
       "58        (3, 4, 5)   76.884102   14.636005\n",
       "57           (3, 4)  134.480985   73.448132\n",
       "56             (3,)  134.900229   72.032587\n",
       "39     (1, 2, 4, 5)  149.094805  229.627474\n",
       "40        (1, 2, 5)  158.981242  252.685035\n",
       "\n",
       "[63 rows x 3 columns]"
      ]
     },
     "execution_count": 65,
     "metadata": {},
     "output_type": "execute_result"
    }
   ],
   "source": [
    "MAE"
   ]
  },
  {
   "cell_type": "code",
   "execution_count": 44,
   "metadata": {},
   "outputs": [
    {
     "data": {
      "text/plain": [
       "<AxesSubplot:xlabel=\"('RMSE', 'mean')\", ylabel=\"('Combination', '')\">"
      ]
     },
     "execution_count": 44,
     "metadata": {},
     "output_type": "execute_result"
    },
    {
     "data": {
      "image/png": "[encoded data removed]",
      "text/plain": [
       "<Figure size 432x288 with 1 Axes>"
      ]
     },
     "metadata": {
      "needs_background": "light"
     },
     "output_type": "display_data"
    }
   ],
   "source": [
    "values=[]\n",
    "for idx,period in enumerate(x):\n",
    "    for comb in x[period][0]:\n",
    "        values.append([idx,comb,x[period][0][comb]['RMSE']])\n",
    "MAE=pd.DataFrame(values,columns=['Period','Combination','RMSE'])\n",
    "MAE=MAE.groupby('Combination').agg({'RMSE':['mean','std']}).reset_index()\n",
    "MAE=MAE.sort_values(('RMSE','mean'))\n",
    "sns.barplot(data=MAE.head(10),y=('Combination',''),x=('RMSE','mean'),xerr=MAE[('RMSE','std')].head(10).values)"
   ]
  },
  {
   "cell_type": "code",
   "execution_count": 49,
   "metadata": {},
   "outputs": [
    {
     "data": {
      "text/plain": [
       "<AxesSubplot:xlabel=\"('Pearson', 'mean')\", ylabel=\"('Combination', '')\">"
      ]
     },
     "execution_count": 49,
     "metadata": {},
     "output_type": "execute_result"
    },
    {
     "data": {
      "image/png": "[encoded data removed]",
      "text/plain": [
       "<Figure size 432x288 with 1 Axes>"
      ]
     },
     "metadata": {
      "needs_background": "light"
     },
     "output_type": "display_data"
    }
   ],
   "source": [
    "values=[]\n",
    "for idx,period in enumerate(x):\n",
    "    for comb in x[period][0]:\n",
    "        values.append([idx,comb,x[period][0][comb]['Pearson']])\n",
    "MAE=pd.DataFrame(values,columns=['Period','Combination','Pearson'])\n",
    "MAE=MAE.groupby('Combination').agg({'Pearson':['mean','std']}).reset_index()\n",
    "MAE=MAE.sort_values(('Pearson','mean'),ascending=False)\n",
    "sns.barplot(data=MAE.head(10),y=('Combination',''),x=('Pearson','mean'),xerr=MAE[('Pearson','std')].head(10).values)"
   ]
  },
  {
   "cell_type": "code",
   "execution_count": null,
   "metadata": {},
   "outputs": [],
   "source": []
  },
  {
   "cell_type": "code",
   "execution_count": 53,
   "metadata": {},
   "outputs": [
    {
     "data": {
      "text/plain": [
       "<AxesSubplot:xlabel=\"('MAPE', 'mean')\", ylabel=\"('Combination', '')\">"
      ]
     },
     "execution_count": 53,
     "metadata": {},
     "output_type": "execute_result"
    },
    {
     "data": {
      "image/png": "[encoded data removed]",
      "text/plain": [
       "<Figure size 432x288 with 1 Axes>"
      ]
     },
     "metadata": {
      "needs_background": "light"
     },
     "output_type": "display_data"
    }
   ],
   "source": [
    "values=[]\n",
    "for idx,period in enumerate(x):\n",
    "    for comb in x[period][1]:\n",
    "        values.append([idx,comb,x[period][1][comb]['MAPE']])\n",
    "MAE=pd.DataFrame(values,columns=['Period','Combination','MAPE'])\n",
    "MAE=MAE.groupby('Combination').agg({'MAPE':['mean','std']}).reset_index()\n",
    "MAE=MAE.sort_values(('MAPE','mean'))\n",
    "sns.barplot(data=MAE.head(10),y=('Combination',''),x=('MAPE','mean'),xerr=MAE[('MAPE','std')].head(10).values)"
   ]
  },
  {
   "cell_type": "code",
   "execution_count": 54,
   "metadata": {},
   "outputs": [
    {
     "data": {
      "text/html": [
       "<div>\n",
       "<style scoped>\n",
       "    .dataframe tbody tr th:only-of-type {\n",
       "        vertical-align: middle;\n",
       "    }\n",
       "\n",
       "    .dataframe tbody tr th {\n",
       "        vertical-align: top;\n",
       "    }\n",
       "\n",
       "    .dataframe thead tr th {\n",
       "        text-align: left;\n",
       "    }\n",
       "</style>\n",
       "<table border=\"1\" class=\"dataframe\">\n",
       "  <thead>\n",
       "    <tr>\n",
       "      <th></th>\n",
       "      <th>Combination</th>\n",
       "      <th colspan=\"2\" halign=\"left\">MAPE</th>\n",
       "    </tr>\n",
       "    <tr>\n",
       "      <th></th>\n",
       "      <th></th>\n",
       "      <th>mean</th>\n",
       "      <th>std</th>\n",
       "    </tr>\n",
       "  </thead>\n",
       "  <tbody>\n",
       "    <tr>\n",
       "      <th>31</th>\n",
       "      <td>(0, 5)</td>\n",
       "      <td>2.066377</td>\n",
       "      <td>1.944612</td>\n",
       "    </tr>\n",
       "    <tr>\n",
       "      <th>30</th>\n",
       "      <td>(0, 4, 5)</td>\n",
       "      <td>2.082168</td>\n",
       "      <td>1.861113</td>\n",
       "    </tr>\n",
       "    <tr>\n",
       "      <th>28</th>\n",
       "      <td>(0, 3, 5)</td>\n",
       "      <td>2.126666</td>\n",
       "      <td>1.824628</td>\n",
       "    </tr>\n",
       "    <tr>\n",
       "      <th>27</th>\n",
       "      <td>(0, 3, 4, 5)</td>\n",
       "      <td>2.174840</td>\n",
       "      <td>1.870193</td>\n",
       "    </tr>\n",
       "    <tr>\n",
       "      <th>16</th>\n",
       "      <td>(0, 1, 5)</td>\n",
       "      <td>2.441724</td>\n",
       "      <td>1.777199</td>\n",
       "    </tr>\n",
       "    <tr>\n",
       "      <th>...</th>\n",
       "      <td>...</td>\n",
       "      <td>...</td>\n",
       "      <td>...</td>\n",
       "    </tr>\n",
       "    <tr>\n",
       "      <th>59</th>\n",
       "      <td>(3, 5)</td>\n",
       "      <td>3.437553</td>\n",
       "      <td>1.600874</td>\n",
       "    </tr>\n",
       "    <tr>\n",
       "      <th>39</th>\n",
       "      <td>(1, 2, 4, 5)</td>\n",
       "      <td>3.969299</td>\n",
       "      <td>4.395442</td>\n",
       "    </tr>\n",
       "    <tr>\n",
       "      <th>40</th>\n",
       "      <td>(1, 2, 5)</td>\n",
       "      <td>4.095776</td>\n",
       "      <td>4.676686</td>\n",
       "    </tr>\n",
       "    <tr>\n",
       "      <th>57</th>\n",
       "      <td>(3, 4)</td>\n",
       "      <td>5.360806</td>\n",
       "      <td>1.393505</td>\n",
       "    </tr>\n",
       "    <tr>\n",
       "      <th>56</th>\n",
       "      <td>(3,)</td>\n",
       "      <td>5.382245</td>\n",
       "      <td>1.518971</td>\n",
       "    </tr>\n",
       "  </tbody>\n",
       "</table>\n",
       "<p>63 rows × 3 columns</p>\n",
       "</div>"
      ],
      "text/plain": [
       "     Combination      MAPE          \n",
       "                      mean       std\n",
       "31        (0, 5)  2.066377  1.944612\n",
       "30     (0, 4, 5)  2.082168  1.861113\n",
       "28     (0, 3, 5)  2.126666  1.824628\n",
       "27  (0, 3, 4, 5)  2.174840  1.870193\n",
       "16     (0, 1, 5)  2.441724  1.777199\n",
       "..           ...       ...       ...\n",
       "59        (3, 5)  3.437553  1.600874\n",
       "39  (1, 2, 4, 5)  3.969299  4.395442\n",
       "40     (1, 2, 5)  4.095776  4.676686\n",
       "57        (3, 4)  5.360806  1.393505\n",
       "56          (3,)  5.382245  1.518971\n",
       "\n",
       "[63 rows x 3 columns]"
      ]
     },
     "execution_count": 54,
     "metadata": {},
     "output_type": "execute_result"
    }
   ],
   "source": [
    "MAE"
   ]
  },
  {
   "cell_type": "code",
   "execution_count": 55,
   "metadata": {},
   "outputs": [
    {
     "data": {
      "text/plain": [
       "<AxesSubplot:xlabel=\"('RMSE', 'mean')\", ylabel=\"('Combination', '')\">"
      ]
     },
     "execution_count": 55,
     "metadata": {},
     "output_type": "execute_result"
    },
    {
     "data": {
      "image/png": "[encoded data removed]",
      "text/plain": [
       "<Figure size 432x288 with 1 Axes>"
      ]
     },
     "metadata": {
      "needs_background": "light"
     },
     "output_type": "display_data"
    }
   ],
   "source": [
    "values=[]\n",
    "for idx,period in enumerate(x):\n",
    "    for comb in x[period][1]:\n",
    "        values.append([idx,comb,x[period][1][comb]['RMSE']])\n",
    "MAE=pd.DataFrame(values,columns=['Period','Combination','RMSE'])\n",
    "MAE=MAE.groupby('Combination').agg({'RMSE':['mean','std']}).reset_index()\n",
    "MAE=MAE.sort_values(('RMSE','mean'))\n",
    "sns.barplot(data=MAE.head(10),y=('Combination',''),x=('RMSE','mean'),xerr=MAE[('RMSE','std')].head(10).values)"
   ]
  },
  {
   "cell_type": "code",
   "execution_count": null,
   "metadata": {},
   "outputs": [],
   "source": []
  },
  {
   "cell_type": "code",
   "execution_count": null,
   "metadata": {},
   "outputs": [],
   "source": []
  },
  {
   "cell_type": "code",
   "execution_count": 217,
   "metadata": {},
   "outputs": [
    {
     "data": {
      "image/png": "[encoded data removed]",
      "text/plain": [
       "<Figure size 432x288 with 1 Axes>"
      ]
     },
     "metadata": {
      "needs_background": "light"
     },
     "output_type": "display_data"
    }
   ],
   "source": [
    "MAE=pd.DataFrame({'Covariates':list(x.keys()),'MAE':[x[i]['MAE'] for i in x]}).sort_values('MAE')\n",
    "# plt.figure(figsize=(10,12))\n",
    "sns.barplot(data=MAE.head(10),x='MAE',y='Covariates')\n",
    "plt.savefig('results/figures/MAE.pdf',bbox_inches = 'tight')"
   ]
  },
  {
   "cell_type": "code",
   "execution_count": 219,
   "metadata": {},
   "outputs": [
    {
     "data": {
      "image/png": "[encoded data removed]",
      "text/plain": [
       "<Figure size 432x288 with 1 Axes>"
      ]
     },
     "metadata": {
      "needs_background": "light"
     },
     "output_type": "display_data"
    }
   ],
   "source": [
    "RMSE=pd.DataFrame({'Covariates':list(x.keys()),'RMSE':[x[i]['RMSE'] for i in x]}).sort_values('RMSE')\n",
    "# plt.figure(figsize=(10,12))\n",
    "sns.barplot(data=RMSE.head(10),x='RMSE',y='Covariates')\n",
    "plt.savefig('results/figures/RMSE.pdf',bbox_inches = 'tight')"
   ]
  },
  {
   "cell_type": "code",
   "execution_count": 235,
   "metadata": {},
   "outputs": [
    {
     "data": {
      "text/html": [
       "<div>\n",
       "<style scoped>\n",
       "    .dataframe tbody tr th:only-of-type {\n",
       "        vertical-align: middle;\n",
       "    }\n",
       "\n",
       "    .dataframe tbody tr th {\n",
       "        vertical-align: top;\n",
       "    }\n",
       "\n",
       "    .dataframe thead th {\n",
       "        text-align: right;\n",
       "    }\n",
       "</style>\n",
       "<table border=\"1\" class=\"dataframe\">\n",
       "  <thead>\n",
       "    <tr style=\"text-align: right;\">\n",
       "      <th></th>\n",
       "      <th>Covariates</th>\n",
       "      <th>Pearson</th>\n",
       "    </tr>\n",
       "  </thead>\n",
       "  <tbody>\n",
       "    <tr>\n",
       "      <td>52</td>\n",
       "      <td>(1, 2, 3, 5)</td>\n",
       "      <td>0.320981</td>\n",
       "    </tr>\n",
       "    <tr>\n",
       "      <td>17</td>\n",
       "      <td>(2, 5)</td>\n",
       "      <td>0.320981</td>\n",
       "    </tr>\n",
       "    <tr>\n",
       "      <td>5</td>\n",
       "      <td>(5,)</td>\n",
       "      <td>0.320981</td>\n",
       "    </tr>\n",
       "    <tr>\n",
       "      <td>19</td>\n",
       "      <td>(3, 5)</td>\n",
       "      <td>0.320981</td>\n",
       "    </tr>\n",
       "    <tr>\n",
       "      <td>38</td>\n",
       "      <td>(2, 3, 5)</td>\n",
       "      <td>0.320981</td>\n",
       "    </tr>\n",
       "    <tr>\n",
       "      <td>...</td>\n",
       "      <td>...</td>\n",
       "      <td>...</td>\n",
       "    </tr>\n",
       "    <tr>\n",
       "      <td>42</td>\n",
       "      <td>(0, 1, 2, 4)</td>\n",
       "      <td>0.013467</td>\n",
       "    </tr>\n",
       "    <tr>\n",
       "      <td>23</td>\n",
       "      <td>(0, 1, 4)</td>\n",
       "      <td>0.011516</td>\n",
       "    </tr>\n",
       "    <tr>\n",
       "      <td>28</td>\n",
       "      <td>(0, 3, 4)</td>\n",
       "      <td>0.010798</td>\n",
       "    </tr>\n",
       "    <tr>\n",
       "      <td>26</td>\n",
       "      <td>(0, 2, 4)</td>\n",
       "      <td>0.009859</td>\n",
       "    </tr>\n",
       "    <tr>\n",
       "      <td>9</td>\n",
       "      <td>(0, 4)</td>\n",
       "      <td>0.002909</td>\n",
       "    </tr>\n",
       "  </tbody>\n",
       "</table>\n",
       "<p>63 rows × 2 columns</p>\n",
       "</div>"
      ],
      "text/plain": [
       "      Covariates   Pearson\n",
       "52  (1, 2, 3, 5)  0.320981\n",
       "17        (2, 5)  0.320981\n",
       "5           (5,)  0.320981\n",
       "19        (3, 5)  0.320981\n",
       "38     (2, 3, 5)  0.320981\n",
       "..           ...       ...\n",
       "42  (0, 1, 2, 4)  0.013467\n",
       "23     (0, 1, 4)  0.011516\n",
       "28     (0, 3, 4)  0.010798\n",
       "26     (0, 2, 4)  0.009859\n",
       "9         (0, 4)  0.002909\n",
       "\n",
       "[63 rows x 2 columns]"
      ]
     },
     "execution_count": 235,
     "metadata": {},
     "output_type": "execute_result"
    },
    {
     "data": {
      "image/png": "[encoded data removed]",
      "text/plain": [
       "<Figure size 432x288 with 1 Axes>"
      ]
     },
     "metadata": {
      "needs_background": "light"
     },
     "output_type": "display_data"
    }
   ],
   "source": [
    "Pearson=pd.DataFrame({'Covariates':list(x.keys()),'Pearson':[abs(x[i]['Pearson'][0]) for i in x]}).sort_values('Pearson',ascending=False)\n",
    "# plt.figure(figsize=(10,12))\n",
    "sns.barplot(data=Pearson.head(10),x='Pearson',y='Covariates')\n",
    "plt.savefig('results/figures/Pearson.pdf',bbox_inches = 'tight')\n",
    "Pearson"
   ]
  },
  {
   "cell_type": "code",
   "execution_count": 199,
   "metadata": {},
   "outputs": [],
   "source": [
    "with open('errors_cum_cov.pickle', 'rb') as f:\n",
    "    y = pickle.load(f)"
   ]
  },
  {
   "cell_type": "code",
   "execution_count": 224,
   "metadata": {},
   "outputs": [
    {
     "data": {
      "image/png": "[encoded data removed]",
      "text/plain": [
       "<Figure size 432x288 with 1 Axes>"
      ]
     },
     "metadata": {
      "needs_background": "light"
     },
     "output_type": "display_data"
    }
   ],
   "source": [
    "MAE=pd.DataFrame({'Covariates':list(y.keys()),'MAPE':[y[i]['MAPE'] for i in y]}).sort_values('MAPE')\n",
    "# plt.figure(figsize=(10,12))\n",
    "sns.barplot(data=MAE.head(10),x='MAPE',y='Covariates')\n",
    "plt.savefig('results/figures/MAPE_cumm.pdf',bbox_inches = 'tight')"
   ]
  },
  {
   "cell_type": "code",
   "execution_count": 226,
   "metadata": {},
   "outputs": [
    {
     "data": {
      "image/png": "[encoded data removed]",
      "text/plain": [
       "<Figure size 432x288 with 1 Axes>"
      ]
     },
     "metadata": {
      "needs_background": "light"
     },
     "output_type": "display_data"
    }
   ],
   "source": [
    "RMSE=pd.DataFrame({'Covariates':list(y.keys()),'RMSE':[y[i]['RMSE'] for i in y]}).sort_values('RMSE')\n",
    "# plt.figure(figsize=(10,12))\n",
    "sns.barplot(data=RMSE.head(10),x='RMSE',y='Covariates')\n",
    "plt.savefig('results/figures/RMSE_cumm.pdf',bbox_inches = 'tight')"
   ]
  },
  {
   "cell_type": "code",
   "execution_count": 209,
   "metadata": {},
   "outputs": [
    {
     "data": {
      "text/plain": [
       "<matplotlib.axes._subplots.AxesSubplot at 0x7fbb7812ec50>"
      ]
     },
     "execution_count": 209,
     "metadata": {},
     "output_type": "execute_result"
    },
    {
     "data": {
      "image/png": "[encoded data removed]",
      "text/plain": [
       "<Figure size 432x288 with 1 Axes>"
      ]
     },
     "metadata": {
      "needs_background": "light"
     },
     "output_type": "display_data"
    }
   ],
   "source": [
    "Pearson=pd.DataFrame({'Cov':list(y.keys()),'values':[abs(y[i]['Pearson'][0]) for i in y]}).sort_values('values')\n",
    "# plt.figure(figsize=(10,12))\n",
    "sns.barplot(data=Pearson.tail(10),x='values',y='Cov')"
   ]
  },
  {
   "cell_type": "code",
   "execution_count": null,
   "metadata": {},
   "outputs": [],
   "source": []
  }
 ],
 "metadata": {
  "kernelspec": {
   "display_name": "Python 3",
   "language": "python",
   "name": "python3"
  },
  "language_info": {
   "codemirror_mode": {
    "name": "ipython",
    "version": 3
   },
   "file_extension": ".py",
   "mimetype": "text/x-python",
   "name": "python",
   "nbconvert_exporter": "python",
   "pygments_lexer": "ipython3",
   "version": "3.7.4"
  }
 },
 "nbformat": 4,
 "nbformat_minor": 2
}
